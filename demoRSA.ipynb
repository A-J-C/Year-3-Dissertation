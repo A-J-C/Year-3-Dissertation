{
 "cells": [
  {
   "cell_type": "markdown",
   "metadata": {},
   "source": [
    "# RSA Demonstration"
   ]
  },
  {
   "cell_type": "markdown",
   "metadata": {},
   "source": [
    "Import my RSA package into the environment"
   ]
  },
  {
   "cell_type": "code",
   "execution_count": 2,
   "metadata": {
    "scrolled": false
   },
   "outputs": [],
   "source": [
    "from RSA import *"
   ]
  },
  {
   "cell_type": "markdown",
   "metadata": {},
   "source": [
    "### Key Generation\n",
    "Declare the bit size we want to use"
   ]
  },
  {
   "cell_type": "code",
   "execution_count": 2,
   "metadata": {
    "scrolled": false
   },
   "outputs": [],
   "source": [
    "bitSize = 40"
   ]
  },
  {
   "cell_type": "markdown",
   "metadata": {},
   "source": [
    "Generate a set of RSA keys with appropriate bitsize"
   ]
  },
  {
   "cell_type": "code",
   "execution_count": 4,
   "metadata": {
    "scrolled": false
   },
   "outputs": [
    {
     "name": "stdout",
     "output_type": "stream",
     "text": [
      "================================================== \n",
      "Generating  20 bit prime... \n",
      "10 rounds of Miller-Rabin needed (according to FISC)\n",
      "Trial-Division prime list generated, size:  128\n",
      "New candidate... 765169\n",
      "Prime of  20 bits found: 765169\n",
      "Checked 1 candidates in 0.00 s\n",
      "================================================== \n",
      "Generating  20 bit prime... \n",
      "10 rounds of Miller-Rabin needed (according to FISC)\n",
      "Trial-Division prime list generated, size:  128\n",
      "New candidate... 752789\n",
      "Prime of  20 bits found: 752789\n",
      "Checked 1 candidates in 0.00 s\n",
      "\n",
      "p: 765169\n",
      "q: 752789\n",
      "\n",
      "n: 576010806341\n",
      "e: 372579621245\n",
      "n bit length: 40\n",
      "Private-Key, d: 246770048981\n",
      "Public-Key: (576010806341, 372579621245)\n",
      "Private-Key: 246770048981\n",
      "n is 40 bits\n",
      "\n"
     ]
    },
    {
     "data": {
      "text/plain": [
       "True"
      ]
     },
     "execution_count": 4,
     "metadata": {},
     "output_type": "execute_result"
    }
   ],
   "source": [
    "RSA_keys = generate_RSA.KeyGen(bitSize, True, True)     # initalise object True sets verbose and demo flag on KeyGen\n",
    "RSA_keys.generateKeys()                                 # runs generator"
   ]
  },
  {
   "cell_type": "markdown",
   "metadata": {},
   "source": [
    "### Brute Force Algorithm"
   ]
  },
  {
   "cell_type": "markdown",
   "metadata": {},
   "source": [
    "The simplest approach. \n",
    "\n",
    "- Take the $\\sqrt{n}$ and check if it divides n. \n",
    "- If it does not enumerate each odd smaller than $\\sqrt{n}$ until a factor is found. \n",
    "- $O(\\sqrt{n})$ (ignoring logarithmic test for division)"
   ]
  },
  {
   "cell_type": "code",
   "execution_count": 5,
   "metadata": {
    "scrolled": true
   },
   "outputs": [
    {
     "data": {
      "text/plain": [
       "'576010806341 % 752789 = 0'"
      ]
     },
     "metadata": {},
     "output_type": "display_data"
    },
    {
     "name": "stdout",
     "output_type": "stream",
     "text": [
      "p: 752789\n",
      "q: 765169\n",
      "Private-Key, d: 246770048981\n",
      "Numbers checked: 3083\n",
      "Space used: 2 bytes\n",
      "Time taken: 0.218 s\n"
     ]
    },
    {
     "data": {
      "text/plain": [
       "True"
      ]
     },
     "execution_count": 5,
     "metadata": {},
     "output_type": "execute_result"
    }
   ],
   "source": [
    "bf = brute_force.BFSolver(RSA_keys.n, RSA_keys.e, True, True)   # pass it public keys, and True verbose & demo flag\n",
    "bf.solve()                                                      # run solver"
   ]
  },
  {
   "cell_type": "markdown",
   "metadata": {},
   "source": [
    "### Make it a bit harder"
   ]
  },
  {
   "cell_type": "code",
   "execution_count": 6,
   "metadata": {
    "scrolled": false
   },
   "outputs": [
    {
     "name": "stdout",
     "output_type": "stream",
     "text": [
      "Prime of  23 bits found: 8264887\n",
      "Checked 8 candidates in 0.00 s\n",
      "Prime of  23 bits found: 4880111\n",
      "Checked 30 candidates in 0.00 s\n",
      "\n",
      "p: 8264887\n",
      "q: 4880111\n",
      "\n",
      "n: 40333565962457\n",
      "e: 7520128911737\n",
      "n bit length: 46\n",
      "Private-Key, d: 31722252459773\n",
      "Public-Key: (40333565962457, 7520128911737)\n",
      "Private-Key: 31722252459773\n",
      "n is 46 bits\n",
      "\n"
     ]
    },
    {
     "data": {
      "text/plain": [
       "True"
      ]
     },
     "execution_count": 6,
     "metadata": {},
     "output_type": "execute_result"
    }
   ],
   "source": [
    "bitSize = 46\n",
    "\n",
    "RSA_keys = generate_RSA.KeyGen(bitSize, True)     # initalise object True sets verbose flag on KeyGen\n",
    "RSA_keys.generateKeys()                           # runs generator"
   ]
  },
  {
   "cell_type": "markdown",
   "metadata": {},
   "source": [
    "### Fermat's Factorisation Method"
   ]
  },
  {
   "cell_type": "markdown",
   "metadata": {},
   "source": [
    "Relies on Fermat’s observation that any odd number can be represented as the\n",
    "difference of two squares. \n",
    "\n",
    "- We again start with $γ ← \\sqrt{n}$\n",
    "- now we increment γ a single numberat a time until $γ^2 \\; mod \\; n \\; = \\; b^2$ where b is an integer. \n",
    "- then $\\{p,q\\} = γ \\pm b$\n",
    "- The worst-case time-complexity is exactlythe same as for brute-force, $O(\\sqrt{n})$"
   ]
  },
  {
   "cell_type": "code",
   "execution_count": 7,
   "metadata": {},
   "outputs": [
    {
     "data": {
      "text/plain": [
       "'sqrt(43197743105001 - 40333565962457) = 1692388.0'"
      ]
     },
     "metadata": {},
     "output_type": "display_data"
    },
    {
     "name": "stdout",
     "output_type": "stream",
     "text": [
      "p: 4880111\n",
      "q: 8264887\n",
      "Private-Key, d: 31722252459773\n",
      "Numbers checked: 221629\n",
      "Space used: 6 bytes\n",
      "Time taken: 8.735 s\n"
     ]
    },
    {
     "data": {
      "text/plain": [
       "True"
      ]
     },
     "execution_count": 7,
     "metadata": {},
     "output_type": "execute_result"
    }
   ],
   "source": [
    "ff = fermats.FFSolver(RSA_keys.n, RSA_keys.e, True, True)   # pass it public keys, and True verbose & demo flag\n",
    "ff.solve()                                                  # run solver"
   ]
  },
  {
   "cell_type": "markdown",
   "metadata": {},
   "source": [
    "### KNJ - Factorisation"
   ]
  },
  {
   "cell_type": "markdown",
   "metadata": {},
   "source": [
    "The same as brute-force, but includes a check for prime numbers first. \n",
    "\n",
    "- Take the $\\sqrt{n}$ and check if it divides n. \n",
    "- If it does not enumerate each prime number smaller than $\\sqrt{n}$ until a factor is found. \n",
    "- $O(\\frac{\\sqrt{n}}{log(\\sqrt{n})})$ (estimation of the number of primes up to $\\sqrt{n}$)"
   ]
  },
  {
   "cell_type": "code",
   "execution_count": 8,
   "metadata": {},
   "outputs": [
    {
     "data": {
      "text/plain": [
       "'40333565962457 % 4880111 = 0'"
      ]
     },
     "metadata": {},
     "output_type": "display_data"
    },
    {
     "name": "stdout",
     "output_type": "stream",
     "text": [
      "p: 4880111\n",
      "q: 8264887\n",
      "Private-Key, d: 31722252459773\n",
      "Numbers checked: 94672\n",
      "Space used: 870642 bytes\n",
      "Time taken: 3.985 s\n"
     ]
    },
    {
     "data": {
      "text/plain": [
       "True"
      ]
     },
     "execution_count": 8,
     "metadata": {},
     "output_type": "execute_result"
    }
   ],
   "source": [
    "knj = knj_factorisation.KNJSolver(RSA_keys.n, RSA_keys.e, True, True)   # pass it public keys, and True verbose & demo flag\n",
    "knj.solve()                                                             # run solver"
   ]
  },
  {
   "cell_type": "markdown",
   "metadata": {},
   "source": [
    "### Pollard's p-1 "
   ]
  },
  {
   "cell_type": "markdown",
   "metadata": {},
   "source": [
    "Is our first probabilistic algorithm:\n",
    "\n",
    "- Utilises Fermat's little theorem \n",
    "- for a semi-prime $n \\leftarrow pq$, if $x \\leftarrow a^{K(p-1)} \\equiv 1 \\; mod \\; p$ then the $gcd(x - 1, n)$ will be divisible by $p$\n",
    "- We use a B-powersmooth number to find this large multiple\n",
    "- If our B is too high and both p and q are B-powersmooth it fails\n",
    "- So is probabilistic and we have to backtrack our B (or increase it)\n",
    "- $O(B \\log{B} \\log_2n)$"
   ]
  },
  {
   "cell_type": "code",
   "execution_count": 9,
   "metadata": {},
   "outputs": [
    {
     "data": {
      "text/plain": [
       "'Testing B = 22157'"
      ]
     },
     "metadata": {},
     "output_type": "display_data"
    },
    {
     "name": "stdout",
     "output_type": "stream",
     "text": [
      "p: 8264887\n",
      "q: 4880111\n",
      "Private-Key, d: 31722252459773\n",
      "Numbers checked: 2497\n",
      "Space used: 88 bytes\n",
      "Time taken: 0.447 s\n"
     ]
    },
    {
     "data": {
      "text/plain": [
       "True"
      ]
     },
     "execution_count": 9,
     "metadata": {},
     "output_type": "execute_result"
    }
   ],
   "source": [
    "polMin = pollard_p_minus_1.PSolver(RSA_keys.n, RSA_keys.e, True, True)   # pass it public keys, and True verbose & demo flag\n",
    "polMin.solve()                                                           # run solver"
   ]
  },
  {
   "cell_type": "markdown",
   "metadata": {},
   "source": [
    "### Pollard's-$\\rho$ method\n"
   ]
  },
  {
   "cell_type": "markdown",
   "metadata": {},
   "source": [
    "Another probabilistic method:\n",
    "\n",
    "- A random but known sequence is generated $\\{x_k \\; mod \\; n\\}$\n",
    "- This has a relation with the sequence mod a factor of $n$, $\\{x_k \\; mod \\; p\\}$\n",
    "- Send runners y and z around the sequence, one twice as fast as the other \n",
    "- $gcd(x_y - x_z, n)$ will return a non trivial answer if the smaller, $p$ cycle repeats itself\n",
    "- This is called Floyd's cycle detection\n",
    "- $O(n^{1/4})$ via the birthday-paradox"
   ]
  },
  {
   "cell_type": "code",
   "execution_count": 10,
   "metadata": {
    "scrolled": false
   },
   "outputs": [
    {
     "data": {
      "text/plain": [
       "'gcd(3375126358728 - 6531904240854, 40333565962457) = 4880111'"
      ]
     },
     "metadata": {},
     "output_type": "display_data"
    },
    {
     "name": "stdout",
     "output_type": "stream",
     "text": [
      "p: 4880111\n",
      "q: 8264887\n",
      "Private-Key, d: 31722252459773\n",
      "Numbers checked: 1445\n",
      "Space used: 10 bytes\n",
      "Time taken: 0.192 s\n"
     ]
    },
    {
     "data": {
      "text/plain": [
       "True"
      ]
     },
     "execution_count": 10,
     "metadata": {},
     "output_type": "execute_result"
    }
   ],
   "source": [
    "rho = pollard_rho.RhoSolver(RSA_keys.n, RSA_keys.e, True, True)   # pass it public keys, and True verbose & demo flag\n",
    "rho.solve()                                                       # run solver"
   ]
  },
  {
   "cell_type": "markdown",
   "metadata": {},
   "source": [
    "### Quadratic Sieve"
   ]
  },
  {
   "cell_type": "markdown",
   "metadata": {},
   "source": [
    "In essence, this is advanced Fermat's Factoring:\n",
    "\n",
    "- We no longer care about testing for one $\\beta \\leftarrow a^2 \\; mod \\; n$ until $\\beta$ is a square number\n",
    "- We instead build a congruence of squares, s.t. the product is a square ($b^2 \\leftarrow \\beta _1 * ... * \\beta _k \\; s.t. \\; b \\in N $)\n",
    "- Again a smoothness bound, B, is used to ensure each $\\beta$ can be fully factored over a small number of primes \n",
    "- A matrix is then built of prime-exponent vectors for each $\\beta$\n",
    "- Matrix elimination is then applied to find the zero vector, which means the number produced is square\n",
    "- This sum of vectors used to produce the zero vectors can then be used to determine the factors\n",
    "- A hard time-complexity to define, but should be sub-exponential"
   ]
  },
  {
   "cell_type": "code",
   "execution_count": 11,
   "metadata": {},
   "outputs": [
    {
     "name": "stdout",
     "output_type": "stream",
     "text": [
      "Prime of  10 bits found: 997\n",
      "Checked 2 candidates in 0.00 s\n",
      "Prime of  10 bits found: 887\n",
      "Checked 3 candidates in 0.00 s\n",
      "\n",
      "p: 997\n",
      "q: 887\n",
      "\n",
      "n: 884339\n",
      "e: 822977\n",
      "n bit length: 20\n",
      "Private-Key, d: 388121\n",
      "Public-Key: (884339, 822977)\n",
      "Private-Key: 388121\n",
      "n is 20 bits\n",
      "\n"
     ]
    },
    {
     "data": {
      "text/plain": [
       "True"
      ]
     },
     "execution_count": 11,
     "metadata": {},
     "output_type": "execute_result"
    }
   ],
   "source": [
    "# need to recalculate as only 100% guarenteed for these very small sizes \n",
    "\n",
    "bitSize = 20\n",
    "\n",
    "RSA_keys = generate_RSA.KeyGen(bitSize, True)     # initalise object True sets verbose flag on KeyGen\n",
    "RSA_keys.generateKeys()                           # runs generator"
   ]
  },
  {
   "cell_type": "code",
   "execution_count": 12,
   "metadata": {},
   "outputs": [
    {
     "name": "stdout",
     "output_type": "stream",
     "text": [
      "Length of possible primes: 528\n",
      "Length of primes with quadRes(n,p) == 1: 262 \n",
      "\n",
      "p: 997\n",
      "q: 887\n",
      "Private-Key, d: 388121\n",
      "Numbers checked: 67\n",
      "Space used: 137812 bytes\n",
      "Time taken: 0.091 s\n"
     ]
    },
    {
     "data": {
      "text/plain": [
       "True"
      ]
     },
     "execution_count": 12,
     "metadata": {},
     "output_type": "execute_result"
    }
   ],
   "source": [
    "quad = quadratic_sieve.QSolver(RSA_keys.n, RSA_keys.e, True, True)  # pass it public keys, and True verbose & demo flag\n",
    "quad.solve()                                                        # run solver"
   ]
  },
  {
   "cell_type": "markdown",
   "metadata": {},
   "source": [
    "### Basic Analysis\n",
    "Running the above algorithms on a variety of random inputs to create graphs showing general trends.\n",
    "\n",
    "The below style code makes the format of the graphs nicer"
   ]
  },
  {
   "cell_type": "code",
   "execution_count": 14,
   "metadata": {
    "scrolled": false
   },
   "outputs": [
    {
     "data": {
      "text/html": [
       "<style>\n",
       ".output_wrapper button.btn.btn-default,\n",
       ".output_wrapper .ui-dialog-titlebar {\n",
       "  display: none;\n",
       "}\n",
       "</style>\n"
      ],
      "text/plain": [
       "<IPython.core.display.HTML object>"
      ]
     },
     "metadata": {},
     "output_type": "display_data"
    }
   ],
   "source": [
    "%%html\n",
    "<style>\n",
    ".output_wrapper button.btn.btn-default,\n",
    ".output_wrapper .ui-dialog-titlebar {\n",
    "  display: none;\n",
    "}\n",
    "</style>"
   ]
  },
  {
   "cell_type": "markdown",
   "metadata": {},
   "source": [
    "Runs each algorithm in a thread and plots the results."
   ]
  },
  {
   "cell_type": "code",
   "execution_count": 2,
   "metadata": {
    "scrolled": false
   },
   "outputs": [
    {
     "data": {
      "application/javascript": [
       "/* Put everything inside the global mpl namespace */\n",
       "window.mpl = {};\n",
       "\n",
       "\n",
       "mpl.get_websocket_type = function() {\n",
       "    if (typeof(WebSocket) !== 'undefined') {\n",
       "        return WebSocket;\n",
       "    } else if (typeof(MozWebSocket) !== 'undefined') {\n",
       "        return MozWebSocket;\n",
       "    } else {\n",
       "        alert('Your browser does not have WebSocket support.' +\n",
       "              'Please try Chrome, Safari or Firefox ≥ 6. ' +\n",
       "              'Firefox 4 and 5 are also supported but you ' +\n",
       "              'have to enable WebSockets in about:config.');\n",
       "    };\n",
       "}\n",
       "\n",
       "mpl.figure = function(figure_id, websocket, ondownload, parent_element) {\n",
       "    this.id = figure_id;\n",
       "\n",
       "    this.ws = websocket;\n",
       "\n",
       "    this.supports_binary = (this.ws.binaryType != undefined);\n",
       "\n",
       "    if (!this.supports_binary) {\n",
       "        var warnings = document.getElementById(\"mpl-warnings\");\n",
       "        if (warnings) {\n",
       "            warnings.style.display = 'block';\n",
       "            warnings.textContent = (\n",
       "                \"This browser does not support binary websocket messages. \" +\n",
       "                    \"Performance may be slow.\");\n",
       "        }\n",
       "    }\n",
       "\n",
       "    this.imageObj = new Image();\n",
       "\n",
       "    this.context = undefined;\n",
       "    this.message = undefined;\n",
       "    this.canvas = undefined;\n",
       "    this.rubberband_canvas = undefined;\n",
       "    this.rubberband_context = undefined;\n",
       "    this.format_dropdown = undefined;\n",
       "\n",
       "    this.image_mode = 'full';\n",
       "\n",
       "    this.root = $('<div/>');\n",
       "    this._root_extra_style(this.root)\n",
       "    this.root.attr('style', 'display: inline-block');\n",
       "\n",
       "    $(parent_element).append(this.root);\n",
       "\n",
       "    this._init_header(this);\n",
       "    this._init_canvas(this);\n",
       "    this._init_toolbar(this);\n",
       "\n",
       "    var fig = this;\n",
       "\n",
       "    this.waiting = false;\n",
       "\n",
       "    this.ws.onopen =  function () {\n",
       "            fig.send_message(\"supports_binary\", {value: fig.supports_binary});\n",
       "            fig.send_message(\"send_image_mode\", {});\n",
       "            if (mpl.ratio != 1) {\n",
       "                fig.send_message(\"set_dpi_ratio\", {'dpi_ratio': mpl.ratio});\n",
       "            }\n",
       "            fig.send_message(\"refresh\", {});\n",
       "        }\n",
       "\n",
       "    this.imageObj.onload = function() {\n",
       "            if (fig.image_mode == 'full') {\n",
       "                // Full images could contain transparency (where diff images\n",
       "                // almost always do), so we need to clear the canvas so that\n",
       "                // there is no ghosting.\n",
       "                fig.context.clearRect(0, 0, fig.canvas.width, fig.canvas.height);\n",
       "            }\n",
       "            fig.context.drawImage(fig.imageObj, 0, 0);\n",
       "        };\n",
       "\n",
       "    this.imageObj.onunload = function() {\n",
       "        fig.ws.close();\n",
       "    }\n",
       "\n",
       "    this.ws.onmessage = this._make_on_message_function(this);\n",
       "\n",
       "    this.ondownload = ondownload;\n",
       "}\n",
       "\n",
       "mpl.figure.prototype._init_header = function() {\n",
       "    var titlebar = $(\n",
       "        '<div class=\"ui-dialog-titlebar ui-widget-header ui-corner-all ' +\n",
       "        'ui-helper-clearfix\"/>');\n",
       "    var titletext = $(\n",
       "        '<div class=\"ui-dialog-title\" style=\"width: 100%; ' +\n",
       "        'text-align: center; padding: 3px;\"/>');\n",
       "    titlebar.append(titletext)\n",
       "    this.root.append(titlebar);\n",
       "    this.header = titletext[0];\n",
       "}\n",
       "\n",
       "\n",
       "\n",
       "mpl.figure.prototype._canvas_extra_style = function(canvas_div) {\n",
       "\n",
       "}\n",
       "\n",
       "\n",
       "mpl.figure.prototype._root_extra_style = function(canvas_div) {\n",
       "\n",
       "}\n",
       "\n",
       "mpl.figure.prototype._init_canvas = function() {\n",
       "    var fig = this;\n",
       "\n",
       "    var canvas_div = $('<div/>');\n",
       "\n",
       "    canvas_div.attr('style', 'position: relative; clear: both; outline: 0');\n",
       "\n",
       "    function canvas_keyboard_event(event) {\n",
       "        return fig.key_event(event, event['data']);\n",
       "    }\n",
       "\n",
       "    canvas_div.keydown('key_press', canvas_keyboard_event);\n",
       "    canvas_div.keyup('key_release', canvas_keyboard_event);\n",
       "    this.canvas_div = canvas_div\n",
       "    this._canvas_extra_style(canvas_div)\n",
       "    this.root.append(canvas_div);\n",
       "\n",
       "    var canvas = $('<canvas/>');\n",
       "    canvas.addClass('mpl-canvas');\n",
       "    canvas.attr('style', \"left: 0; top: 0; z-index: 0; outline: 0\")\n",
       "\n",
       "    this.canvas = canvas[0];\n",
       "    this.context = canvas[0].getContext(\"2d\");\n",
       "\n",
       "    var backingStore = this.context.backingStorePixelRatio ||\n",
       "\tthis.context.webkitBackingStorePixelRatio ||\n",
       "\tthis.context.mozBackingStorePixelRatio ||\n",
       "\tthis.context.msBackingStorePixelRatio ||\n",
       "\tthis.context.oBackingStorePixelRatio ||\n",
       "\tthis.context.backingStorePixelRatio || 1;\n",
       "\n",
       "    mpl.ratio = (window.devicePixelRatio || 1) / backingStore;\n",
       "\n",
       "    var rubberband = $('<canvas/>');\n",
       "    rubberband.attr('style', \"position: absolute; left: 0; top: 0; z-index: 1;\")\n",
       "\n",
       "    var pass_mouse_events = true;\n",
       "\n",
       "    canvas_div.resizable({\n",
       "        start: function(event, ui) {\n",
       "            pass_mouse_events = false;\n",
       "        },\n",
       "        resize: function(event, ui) {\n",
       "            fig.request_resize(ui.size.width, ui.size.height);\n",
       "        },\n",
       "        stop: function(event, ui) {\n",
       "            pass_mouse_events = true;\n",
       "            fig.request_resize(ui.size.width, ui.size.height);\n",
       "        },\n",
       "    });\n",
       "\n",
       "    function mouse_event_fn(event) {\n",
       "        if (pass_mouse_events)\n",
       "            return fig.mouse_event(event, event['data']);\n",
       "    }\n",
       "\n",
       "    rubberband.mousedown('button_press', mouse_event_fn);\n",
       "    rubberband.mouseup('button_release', mouse_event_fn);\n",
       "    // Throttle sequential mouse events to 1 every 20ms.\n",
       "    rubberband.mousemove('motion_notify', mouse_event_fn);\n",
       "\n",
       "    rubberband.mouseenter('figure_enter', mouse_event_fn);\n",
       "    rubberband.mouseleave('figure_leave', mouse_event_fn);\n",
       "\n",
       "    canvas_div.on(\"wheel\", function (event) {\n",
       "        event = event.originalEvent;\n",
       "        event['data'] = 'scroll'\n",
       "        if (event.deltaY < 0) {\n",
       "            event.step = 1;\n",
       "        } else {\n",
       "            event.step = -1;\n",
       "        }\n",
       "        mouse_event_fn(event);\n",
       "    });\n",
       "\n",
       "    canvas_div.append(canvas);\n",
       "    canvas_div.append(rubberband);\n",
       "\n",
       "    this.rubberband = rubberband;\n",
       "    this.rubberband_canvas = rubberband[0];\n",
       "    this.rubberband_context = rubberband[0].getContext(\"2d\");\n",
       "    this.rubberband_context.strokeStyle = \"#000000\";\n",
       "\n",
       "    this._resize_canvas = function(width, height) {\n",
       "        // Keep the size of the canvas, canvas container, and rubber band\n",
       "        // canvas in synch.\n",
       "        canvas_div.css('width', width)\n",
       "        canvas_div.css('height', height)\n",
       "\n",
       "        canvas.attr('width', width * mpl.ratio);\n",
       "        canvas.attr('height', height * mpl.ratio);\n",
       "        canvas.attr('style', 'width: ' + width + 'px; height: ' + height + 'px;');\n",
       "\n",
       "        rubberband.attr('width', width);\n",
       "        rubberband.attr('height', height);\n",
       "    }\n",
       "\n",
       "    // Set the figure to an initial 600x600px, this will subsequently be updated\n",
       "    // upon first draw.\n",
       "    this._resize_canvas(600, 600);\n",
       "\n",
       "    // Disable right mouse context menu.\n",
       "    $(this.rubberband_canvas).bind(\"contextmenu\",function(e){\n",
       "        return false;\n",
       "    });\n",
       "\n",
       "    function set_focus () {\n",
       "        canvas.focus();\n",
       "        canvas_div.focus();\n",
       "    }\n",
       "\n",
       "    window.setTimeout(set_focus, 100);\n",
       "}\n",
       "\n",
       "mpl.figure.prototype._init_toolbar = function() {\n",
       "    var fig = this;\n",
       "\n",
       "    var nav_element = $('<div/>')\n",
       "    nav_element.attr('style', 'width: 100%');\n",
       "    this.root.append(nav_element);\n",
       "\n",
       "    // Define a callback function for later on.\n",
       "    function toolbar_event(event) {\n",
       "        return fig.toolbar_button_onclick(event['data']);\n",
       "    }\n",
       "    function toolbar_mouse_event(event) {\n",
       "        return fig.toolbar_button_onmouseover(event['data']);\n",
       "    }\n",
       "\n",
       "    for(var toolbar_ind in mpl.toolbar_items) {\n",
       "        var name = mpl.toolbar_items[toolbar_ind][0];\n",
       "        var tooltip = mpl.toolbar_items[toolbar_ind][1];\n",
       "        var image = mpl.toolbar_items[toolbar_ind][2];\n",
       "        var method_name = mpl.toolbar_items[toolbar_ind][3];\n",
       "\n",
       "        if (!name) {\n",
       "            // put a spacer in here.\n",
       "            continue;\n",
       "        }\n",
       "        var button = $('<button/>');\n",
       "        button.addClass('ui-button ui-widget ui-state-default ui-corner-all ' +\n",
       "                        'ui-button-icon-only');\n",
       "        button.attr('role', 'button');\n",
       "        button.attr('aria-disabled', 'false');\n",
       "        button.click(method_name, toolbar_event);\n",
       "        button.mouseover(tooltip, toolbar_mouse_event);\n",
       "\n",
       "        var icon_img = $('<span/>');\n",
       "        icon_img.addClass('ui-button-icon-primary ui-icon');\n",
       "        icon_img.addClass(image);\n",
       "        icon_img.addClass('ui-corner-all');\n",
       "\n",
       "        var tooltip_span = $('<span/>');\n",
       "        tooltip_span.addClass('ui-button-text');\n",
       "        tooltip_span.html(tooltip);\n",
       "\n",
       "        button.append(icon_img);\n",
       "        button.append(tooltip_span);\n",
       "\n",
       "        nav_element.append(button);\n",
       "    }\n",
       "\n",
       "    var fmt_picker_span = $('<span/>');\n",
       "\n",
       "    var fmt_picker = $('<select/>');\n",
       "    fmt_picker.addClass('mpl-toolbar-option ui-widget ui-widget-content');\n",
       "    fmt_picker_span.append(fmt_picker);\n",
       "    nav_element.append(fmt_picker_span);\n",
       "    this.format_dropdown = fmt_picker[0];\n",
       "\n",
       "    for (var ind in mpl.extensions) {\n",
       "        var fmt = mpl.extensions[ind];\n",
       "        var option = $(\n",
       "            '<option/>', {selected: fmt === mpl.default_extension}).html(fmt);\n",
       "        fmt_picker.append(option)\n",
       "    }\n",
       "\n",
       "    // Add hover states to the ui-buttons\n",
       "    $( \".ui-button\" ).hover(\n",
       "        function() { $(this).addClass(\"ui-state-hover\");},\n",
       "        function() { $(this).removeClass(\"ui-state-hover\");}\n",
       "    );\n",
       "\n",
       "    var status_bar = $('<span class=\"mpl-message\"/>');\n",
       "    nav_element.append(status_bar);\n",
       "    this.message = status_bar[0];\n",
       "}\n",
       "\n",
       "mpl.figure.prototype.request_resize = function(x_pixels, y_pixels) {\n",
       "    // Request matplotlib to resize the figure. Matplotlib will then trigger a resize in the client,\n",
       "    // which will in turn request a refresh of the image.\n",
       "    this.send_message('resize', {'width': x_pixels, 'height': y_pixels});\n",
       "}\n",
       "\n",
       "mpl.figure.prototype.send_message = function(type, properties) {\n",
       "    properties['type'] = type;\n",
       "    properties['figure_id'] = this.id;\n",
       "    this.ws.send(JSON.stringify(properties));\n",
       "}\n",
       "\n",
       "mpl.figure.prototype.send_draw_message = function() {\n",
       "    if (!this.waiting) {\n",
       "        this.waiting = true;\n",
       "        this.ws.send(JSON.stringify({type: \"draw\", figure_id: this.id}));\n",
       "    }\n",
       "}\n",
       "\n",
       "\n",
       "mpl.figure.prototype.handle_save = function(fig, msg) {\n",
       "    var format_dropdown = fig.format_dropdown;\n",
       "    var format = format_dropdown.options[format_dropdown.selectedIndex].value;\n",
       "    fig.ondownload(fig, format);\n",
       "}\n",
       "\n",
       "\n",
       "mpl.figure.prototype.handle_resize = function(fig, msg) {\n",
       "    var size = msg['size'];\n",
       "    if (size[0] != fig.canvas.width || size[1] != fig.canvas.height) {\n",
       "        fig._resize_canvas(size[0], size[1]);\n",
       "        fig.send_message(\"refresh\", {});\n",
       "    };\n",
       "}\n",
       "\n",
       "mpl.figure.prototype.handle_rubberband = function(fig, msg) {\n",
       "    var x0 = msg['x0'] / mpl.ratio;\n",
       "    var y0 = (fig.canvas.height - msg['y0']) / mpl.ratio;\n",
       "    var x1 = msg['x1'] / mpl.ratio;\n",
       "    var y1 = (fig.canvas.height - msg['y1']) / mpl.ratio;\n",
       "    x0 = Math.floor(x0) + 0.5;\n",
       "    y0 = Math.floor(y0) + 0.5;\n",
       "    x1 = Math.floor(x1) + 0.5;\n",
       "    y1 = Math.floor(y1) + 0.5;\n",
       "    var min_x = Math.min(x0, x1);\n",
       "    var min_y = Math.min(y0, y1);\n",
       "    var width = Math.abs(x1 - x0);\n",
       "    var height = Math.abs(y1 - y0);\n",
       "\n",
       "    fig.rubberband_context.clearRect(\n",
       "        0, 0, fig.canvas.width, fig.canvas.height);\n",
       "\n",
       "    fig.rubberband_context.strokeRect(min_x, min_y, width, height);\n",
       "}\n",
       "\n",
       "mpl.figure.prototype.handle_figure_label = function(fig, msg) {\n",
       "    // Updates the figure title.\n",
       "    fig.header.textContent = msg['label'];\n",
       "}\n",
       "\n",
       "mpl.figure.prototype.handle_cursor = function(fig, msg) {\n",
       "    var cursor = msg['cursor'];\n",
       "    switch(cursor)\n",
       "    {\n",
       "    case 0:\n",
       "        cursor = 'pointer';\n",
       "        break;\n",
       "    case 1:\n",
       "        cursor = 'default';\n",
       "        break;\n",
       "    case 2:\n",
       "        cursor = 'crosshair';\n",
       "        break;\n",
       "    case 3:\n",
       "        cursor = 'move';\n",
       "        break;\n",
       "    }\n",
       "    fig.rubberband_canvas.style.cursor = cursor;\n",
       "}\n",
       "\n",
       "mpl.figure.prototype.handle_message = function(fig, msg) {\n",
       "    fig.message.textContent = msg['message'];\n",
       "}\n",
       "\n",
       "mpl.figure.prototype.handle_draw = function(fig, msg) {\n",
       "    // Request the server to send over a new figure.\n",
       "    fig.send_draw_message();\n",
       "}\n",
       "\n",
       "mpl.figure.prototype.handle_image_mode = function(fig, msg) {\n",
       "    fig.image_mode = msg['mode'];\n",
       "}\n",
       "\n",
       "mpl.figure.prototype.updated_canvas_event = function() {\n",
       "    // Called whenever the canvas gets updated.\n",
       "    this.send_message(\"ack\", {});\n",
       "}\n",
       "\n",
       "// A function to construct a web socket function for onmessage handling.\n",
       "// Called in the figure constructor.\n",
       "mpl.figure.prototype._make_on_message_function = function(fig) {\n",
       "    return function socket_on_message(evt) {\n",
       "        if (evt.data instanceof Blob) {\n",
       "            /* FIXME: We get \"Resource interpreted as Image but\n",
       "             * transferred with MIME type text/plain:\" errors on\n",
       "             * Chrome.  But how to set the MIME type?  It doesn't seem\n",
       "             * to be part of the websocket stream */\n",
       "            evt.data.type = \"image/png\";\n",
       "\n",
       "            /* Free the memory for the previous frames */\n",
       "            if (fig.imageObj.src) {\n",
       "                (window.URL || window.webkitURL).revokeObjectURL(\n",
       "                    fig.imageObj.src);\n",
       "            }\n",
       "\n",
       "            fig.imageObj.src = (window.URL || window.webkitURL).createObjectURL(\n",
       "                evt.data);\n",
       "            fig.updated_canvas_event();\n",
       "            fig.waiting = false;\n",
       "            return;\n",
       "        }\n",
       "        else if (typeof evt.data === 'string' && evt.data.slice(0, 21) == \"data:image/png;base64\") {\n",
       "            fig.imageObj.src = evt.data;\n",
       "            fig.updated_canvas_event();\n",
       "            fig.waiting = false;\n",
       "            return;\n",
       "        }\n",
       "\n",
       "        var msg = JSON.parse(evt.data);\n",
       "        var msg_type = msg['type'];\n",
       "\n",
       "        // Call the  \"handle_{type}\" callback, which takes\n",
       "        // the figure and JSON message as its only arguments.\n",
       "        try {\n",
       "            var callback = fig[\"handle_\" + msg_type];\n",
       "        } catch (e) {\n",
       "            console.log(\"No handler for the '\" + msg_type + \"' message type: \", msg);\n",
       "            return;\n",
       "        }\n",
       "\n",
       "        if (callback) {\n",
       "            try {\n",
       "                // console.log(\"Handling '\" + msg_type + \"' message: \", msg);\n",
       "                callback(fig, msg);\n",
       "            } catch (e) {\n",
       "                console.log(\"Exception inside the 'handler_\" + msg_type + \"' callback:\", e, e.stack, msg);\n",
       "            }\n",
       "        }\n",
       "    };\n",
       "}\n",
       "\n",
       "// from http://stackoverflow.com/questions/1114465/getting-mouse-location-in-canvas\n",
       "mpl.findpos = function(e) {\n",
       "    //this section is from http://www.quirksmode.org/js/events_properties.html\n",
       "    var targ;\n",
       "    if (!e)\n",
       "        e = window.event;\n",
       "    if (e.target)\n",
       "        targ = e.target;\n",
       "    else if (e.srcElement)\n",
       "        targ = e.srcElement;\n",
       "    if (targ.nodeType == 3) // defeat Safari bug\n",
       "        targ = targ.parentNode;\n",
       "\n",
       "    // jQuery normalizes the pageX and pageY\n",
       "    // pageX,Y are the mouse positions relative to the document\n",
       "    // offset() returns the position of the element relative to the document\n",
       "    var x = e.pageX - $(targ).offset().left;\n",
       "    var y = e.pageY - $(targ).offset().top;\n",
       "\n",
       "    return {\"x\": x, \"y\": y};\n",
       "};\n",
       "\n",
       "/*\n",
       " * return a copy of an object with only non-object keys\n",
       " * we need this to avoid circular references\n",
       " * http://stackoverflow.com/a/24161582/3208463\n",
       " */\n",
       "function simpleKeys (original) {\n",
       "  return Object.keys(original).reduce(function (obj, key) {\n",
       "    if (typeof original[key] !== 'object')\n",
       "        obj[key] = original[key]\n",
       "    return obj;\n",
       "  }, {});\n",
       "}\n",
       "\n",
       "mpl.figure.prototype.mouse_event = function(event, name) {\n",
       "    var canvas_pos = mpl.findpos(event)\n",
       "\n",
       "    if (name === 'button_press')\n",
       "    {\n",
       "        this.canvas.focus();\n",
       "        this.canvas_div.focus();\n",
       "    }\n",
       "\n",
       "    var x = canvas_pos.x * mpl.ratio;\n",
       "    var y = canvas_pos.y * mpl.ratio;\n",
       "\n",
       "    this.send_message(name, {x: x, y: y, button: event.button,\n",
       "                             step: event.step,\n",
       "                             guiEvent: simpleKeys(event)});\n",
       "\n",
       "    /* This prevents the web browser from automatically changing to\n",
       "     * the text insertion cursor when the button is pressed.  We want\n",
       "     * to control all of the cursor setting manually through the\n",
       "     * 'cursor' event from matplotlib */\n",
       "    event.preventDefault();\n",
       "    return false;\n",
       "}\n",
       "\n",
       "mpl.figure.prototype._key_event_extra = function(event, name) {\n",
       "    // Handle any extra behaviour associated with a key event\n",
       "}\n",
       "\n",
       "mpl.figure.prototype.key_event = function(event, name) {\n",
       "\n",
       "    // Prevent repeat events\n",
       "    if (name == 'key_press')\n",
       "    {\n",
       "        if (event.which === this._key)\n",
       "            return;\n",
       "        else\n",
       "            this._key = event.which;\n",
       "    }\n",
       "    if (name == 'key_release')\n",
       "        this._key = null;\n",
       "\n",
       "    var value = '';\n",
       "    if (event.ctrlKey && event.which != 17)\n",
       "        value += \"ctrl+\";\n",
       "    if (event.altKey && event.which != 18)\n",
       "        value += \"alt+\";\n",
       "    if (event.shiftKey && event.which != 16)\n",
       "        value += \"shift+\";\n",
       "\n",
       "    value += 'k';\n",
       "    value += event.which.toString();\n",
       "\n",
       "    this._key_event_extra(event, name);\n",
       "\n",
       "    this.send_message(name, {key: value,\n",
       "                             guiEvent: simpleKeys(event)});\n",
       "    return false;\n",
       "}\n",
       "\n",
       "mpl.figure.prototype.toolbar_button_onclick = function(name) {\n",
       "    if (name == 'download') {\n",
       "        this.handle_save(this, null);\n",
       "    } else {\n",
       "        this.send_message(\"toolbar_button\", {name: name});\n",
       "    }\n",
       "};\n",
       "\n",
       "mpl.figure.prototype.toolbar_button_onmouseover = function(tooltip) {\n",
       "    this.message.textContent = tooltip;\n",
       "};\n",
       "mpl.toolbar_items = [[\"Home\", \"Reset original view\", \"fa fa-home icon-home\", \"home\"], [\"Back\", \"Back to previous view\", \"fa fa-arrow-left icon-arrow-left\", \"back\"], [\"Forward\", \"Forward to next view\", \"fa fa-arrow-right icon-arrow-right\", \"forward\"], [\"\", \"\", \"\", \"\"], [\"Pan\", \"Pan axes with left mouse, zoom with right\", \"fa fa-arrows icon-move\", \"pan\"], [\"Zoom\", \"Zoom to rectangle\", \"fa fa-square-o icon-check-empty\", \"zoom\"], [\"\", \"\", \"\", \"\"], [\"Download\", \"Download plot\", \"fa fa-floppy-o icon-save\", \"download\"]];\n",
       "\n",
       "mpl.extensions = [\"eps\", \"jpeg\", \"pdf\", \"png\", \"ps\", \"raw\", \"svg\", \"tif\"];\n",
       "\n",
       "mpl.default_extension = \"png\";var comm_websocket_adapter = function(comm) {\n",
       "    // Create a \"websocket\"-like object which calls the given IPython comm\n",
       "    // object with the appropriate methods. Currently this is a non binary\n",
       "    // socket, so there is still some room for performance tuning.\n",
       "    var ws = {};\n",
       "\n",
       "    ws.close = function() {\n",
       "        comm.close()\n",
       "    };\n",
       "    ws.send = function(m) {\n",
       "        //console.log('sending', m);\n",
       "        comm.send(m);\n",
       "    };\n",
       "    // Register the callback with on_msg.\n",
       "    comm.on_msg(function(msg) {\n",
       "        //console.log('receiving', msg['content']['data'], msg);\n",
       "        // Pass the mpl event to the overridden (by mpl) onmessage function.\n",
       "        ws.onmessage(msg['content']['data'])\n",
       "    });\n",
       "    return ws;\n",
       "}\n",
       "\n",
       "mpl.mpl_figure_comm = function(comm, msg) {\n",
       "    // This is the function which gets called when the mpl process\n",
       "    // starts-up an IPython Comm through the \"matplotlib\" channel.\n",
       "\n",
       "    var id = msg.content.data.id;\n",
       "    // Get hold of the div created by the display call when the Comm\n",
       "    // socket was opened in Python.\n",
       "    var element = $(\"#\" + id);\n",
       "    var ws_proxy = comm_websocket_adapter(comm)\n",
       "\n",
       "    function ondownload(figure, format) {\n",
       "        window.open(figure.imageObj.src);\n",
       "    }\n",
       "\n",
       "    var fig = new mpl.figure(id, ws_proxy,\n",
       "                           ondownload,\n",
       "                           element.get(0));\n",
       "\n",
       "    // Call onopen now - mpl needs it, as it is assuming we've passed it a real\n",
       "    // web socket which is closed, not our websocket->open comm proxy.\n",
       "    ws_proxy.onopen();\n",
       "\n",
       "    fig.parent_element = element.get(0);\n",
       "    fig.cell_info = mpl.find_output_cell(\"<div id='\" + id + \"'></div>\");\n",
       "    if (!fig.cell_info) {\n",
       "        console.error(\"Failed to find cell for figure\", id, fig);\n",
       "        return;\n",
       "    }\n",
       "\n",
       "    var output_index = fig.cell_info[2]\n",
       "    var cell = fig.cell_info[0];\n",
       "\n",
       "};\n",
       "\n",
       "mpl.figure.prototype.handle_close = function(fig, msg) {\n",
       "    var width = fig.canvas.width/mpl.ratio\n",
       "    fig.root.unbind('remove')\n",
       "\n",
       "    // Update the output cell to use the data from the current canvas.\n",
       "    fig.push_to_output();\n",
       "    var dataURL = fig.canvas.toDataURL();\n",
       "    // Re-enable the keyboard manager in IPython - without this line, in FF,\n",
       "    // the notebook keyboard shortcuts fail.\n",
       "    IPython.keyboard_manager.enable()\n",
       "    $(fig.parent_element).html('<img src=\"' + dataURL + '\" width=\"' + width + '\">');\n",
       "    fig.close_ws(fig, msg);\n",
       "}\n",
       "\n",
       "mpl.figure.prototype.close_ws = function(fig, msg){\n",
       "    fig.send_message('closing', msg);\n",
       "    // fig.ws.close()\n",
       "}\n",
       "\n",
       "mpl.figure.prototype.push_to_output = function(remove_interactive) {\n",
       "    // Turn the data on the canvas into data in the output cell.\n",
       "    var width = this.canvas.width/mpl.ratio\n",
       "    var dataURL = this.canvas.toDataURL();\n",
       "    this.cell_info[1]['text/html'] = '<img src=\"' + dataURL + '\" width=\"' + width + '\">';\n",
       "}\n",
       "\n",
       "mpl.figure.prototype.updated_canvas_event = function() {\n",
       "    // Tell IPython that the notebook contents must change.\n",
       "    IPython.notebook.set_dirty(true);\n",
       "    this.send_message(\"ack\", {});\n",
       "    var fig = this;\n",
       "    // Wait a second, then push the new image to the DOM so\n",
       "    // that it is saved nicely (might be nice to debounce this).\n",
       "    setTimeout(function () { fig.push_to_output() }, 1000);\n",
       "}\n",
       "\n",
       "mpl.figure.prototype._init_toolbar = function() {\n",
       "    var fig = this;\n",
       "\n",
       "    var nav_element = $('<div/>')\n",
       "    nav_element.attr('style', 'width: 100%');\n",
       "    this.root.append(nav_element);\n",
       "\n",
       "    // Define a callback function for later on.\n",
       "    function toolbar_event(event) {\n",
       "        return fig.toolbar_button_onclick(event['data']);\n",
       "    }\n",
       "    function toolbar_mouse_event(event) {\n",
       "        return fig.toolbar_button_onmouseover(event['data']);\n",
       "    }\n",
       "\n",
       "    for(var toolbar_ind in mpl.toolbar_items){\n",
       "        var name = mpl.toolbar_items[toolbar_ind][0];\n",
       "        var tooltip = mpl.toolbar_items[toolbar_ind][1];\n",
       "        var image = mpl.toolbar_items[toolbar_ind][2];\n",
       "        var method_name = mpl.toolbar_items[toolbar_ind][3];\n",
       "\n",
       "        if (!name) { continue; };\n",
       "\n",
       "        var button = $('<button class=\"btn btn-default\" href=\"#\" title=\"' + name + '\"><i class=\"fa ' + image + ' fa-lg\"></i></button>');\n",
       "        button.click(method_name, toolbar_event);\n",
       "        button.mouseover(tooltip, toolbar_mouse_event);\n",
       "        nav_element.append(button);\n",
       "    }\n",
       "\n",
       "    // Add the status bar.\n",
       "    var status_bar = $('<span class=\"mpl-message\" style=\"text-align:right; float: right;\"/>');\n",
       "    nav_element.append(status_bar);\n",
       "    this.message = status_bar[0];\n",
       "\n",
       "    // Add the close button to the window.\n",
       "    var buttongrp = $('<div class=\"btn-group inline pull-right\"></div>');\n",
       "    var button = $('<button class=\"btn btn-mini btn-primary\" href=\"#\" title=\"Stop Interaction\"><i class=\"fa fa-power-off icon-remove icon-large\"></i></button>');\n",
       "    button.click(function (evt) { fig.handle_close(fig, {}); } );\n",
       "    button.mouseover('Stop Interaction', toolbar_mouse_event);\n",
       "    buttongrp.append(button);\n",
       "    var titlebar = this.root.find($('.ui-dialog-titlebar'));\n",
       "    titlebar.prepend(buttongrp);\n",
       "}\n",
       "\n",
       "mpl.figure.prototype._root_extra_style = function(el){\n",
       "    var fig = this\n",
       "    el.on(\"remove\", function(){\n",
       "\tfig.close_ws(fig, {});\n",
       "    });\n",
       "}\n",
       "\n",
       "mpl.figure.prototype._canvas_extra_style = function(el){\n",
       "    // this is important to make the div 'focusable\n",
       "    el.attr('tabindex', 0)\n",
       "    // reach out to IPython and tell the keyboard manager to turn it's self\n",
       "    // off when our div gets focus\n",
       "\n",
       "    // location in version 3\n",
       "    if (IPython.notebook.keyboard_manager) {\n",
       "        IPython.notebook.keyboard_manager.register_events(el);\n",
       "    }\n",
       "    else {\n",
       "        // location in version 2\n",
       "        IPython.keyboard_manager.register_events(el);\n",
       "    }\n",
       "\n",
       "}\n",
       "\n",
       "mpl.figure.prototype._key_event_extra = function(event, name) {\n",
       "    var manager = IPython.notebook.keyboard_manager;\n",
       "    if (!manager)\n",
       "        manager = IPython.keyboard_manager;\n",
       "\n",
       "    // Check for shift+enter\n",
       "    if (event.shiftKey && event.which == 13) {\n",
       "        this.canvas_div.blur();\n",
       "        event.shiftKey = false;\n",
       "        // Send a \"J\" for go to next cell\n",
       "        event.which = 74;\n",
       "        event.keyCode = 74;\n",
       "        manager.command_mode();\n",
       "        manager.handle_keydown(event);\n",
       "    }\n",
       "}\n",
       "\n",
       "mpl.figure.prototype.handle_save = function(fig, msg) {\n",
       "    fig.ondownload(fig, null);\n",
       "}\n",
       "\n",
       "\n",
       "mpl.find_output_cell = function(html_output) {\n",
       "    // Return the cell and output element which can be found *uniquely* in the notebook.\n",
       "    // Note - this is a bit hacky, but it is done because the \"notebook_saving.Notebook\"\n",
       "    // IPython event is triggered only after the cells have been serialised, which for\n",
       "    // our purposes (turning an active figure into a static one), is too late.\n",
       "    var cells = IPython.notebook.get_cells();\n",
       "    var ncells = cells.length;\n",
       "    for (var i=0; i<ncells; i++) {\n",
       "        var cell = cells[i];\n",
       "        if (cell.cell_type === 'code'){\n",
       "            for (var j=0; j<cell.output_area.outputs.length; j++) {\n",
       "                var data = cell.output_area.outputs[j];\n",
       "                if (data.data) {\n",
       "                    // IPython >= 3 moved mimebundle to data attribute of output\n",
       "                    data = data.data;\n",
       "                }\n",
       "                if (data['text/html'] == html_output) {\n",
       "                    return [cell, data, j];\n",
       "                }\n",
       "            }\n",
       "        }\n",
       "    }\n",
       "}\n",
       "\n",
       "// Register the function which deals with the matplotlib target/channel.\n",
       "// The kernel may be null if the page has been refreshed.\n",
       "if (IPython.notebook.kernel != null) {\n",
       "    IPython.notebook.kernel.comm_manager.register_target('matplotlib', mpl.mpl_figure_comm);\n",
       "}\n"
      ],
      "text/plain": [
       "<IPython.core.display.Javascript object>"
      ]
     },
     "metadata": {},
     "output_type": "display_data"
    },
    {
     "data": {
      "text/html": [
       "<img src=\"data:image/png;base64,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\" width=\"800\">"
      ],
      "text/plain": [
       "<IPython.core.display.HTML object>"
      ]
     },
     "metadata": {},
     "output_type": "display_data"
    },
    {
     "name": "stdout",
     "output_type": "stream",
     "text": [
      "Press Enter to stop.\n"
     ]
    }
   ],
   "source": [
    "%matplotlib notebook\n",
    "from graphs_RSA import *\n",
    "\n",
    "COUNT = 250\n",
    "\n",
    "minBit = 24\n",
    "bf_bit = 44\n",
    "ff_bit = 44\n",
    "knj_bit = 44\n",
    "rho_bit = 44\n",
    "\n",
    "testGraphs(minBit, bf_bit, ff_bit, knj_bit, rho_bit, COUNT)"
   ]
  },
  {
   "cell_type": "markdown",
   "metadata": {},
   "source": [
    "<img src=\"imgs/RSA.png\" alt=\"drawing\" style=\"width:80%;\"/>"
   ]
  },
  {
   "cell_type": "markdown",
   "metadata": {},
   "source": [
    "## Try it yourself"
   ]
  },
  {
   "cell_type": "markdown",
   "metadata": {},
   "source": [
    "Below you can select which solvers you want to use and enter your own two prime numbers to test against the solvers"
   ]
  },
  {
   "cell_type": "code",
   "execution_count": 3,
   "metadata": {},
   "outputs": [
    {
     "name": "stdout",
     "output_type": "stream",
     "text": [
      "20 is not prime\n"
     ]
    }
   ],
   "source": [
    "# SET YOUR CHOSEN PRIME NUMBERS\n",
    "p = 11\n",
    "q = 20\n",
    "\n",
    "# GENERATE KEYS BASED ON NUMBERS CHOSEN \n",
    "RSA_keys = generate_RSA.KeyGen(verbose = True, demo = True)  \n",
    "prime = RSA_keys.setPrimes(p, q)\n",
    "\n",
    "# returns error code if p and q are not prime\n",
    "if prime:\n",
    "    RSA_keys.generateKeys()"
   ]
  },
  {
   "cell_type": "code",
   "execution_count": 4,
   "metadata": {},
   "outputs": [
    {
     "name": "stdout",
     "output_type": "stream",
     "text": [
      "========== BRUTE FORCE ==========\n",
      "Can't solve for n = 0\n",
      "Fail!\n",
      "========== FERMAT'S METHOD ==========\n",
      "Can't solve for even n\n",
      "Fail!\n",
      "========== POLLARD'S RHO ==========\n",
      "Can't solve for n = 0\n",
      "Fail!\n",
      "========== KNJ FACTORISATION ==========\n",
      "Can't solve for n = 0\n",
      "Fail!\n",
      "========== POLLARD'S P-1 ==========\n",
      "Can't solve for n = 0\n",
      "Fail!\n",
      "========== QUADRATIC SIEVE ==========\n",
      "Can't solve for n = 0\n",
      "Fail!\n"
     ]
    }
   ],
   "source": [
    "import run_RSA\n",
    "\n",
    "# SET SOLVERS ON/OFF \n",
    "bf = True    # brute-force\n",
    "ff = True    # fermat's factoring\n",
    "pr = True    # pollard's - rho\n",
    "knj = True   # knj factorisation\n",
    "pm1 = True   # pollard's p-1\n",
    "qs = True    # quadratic sieve\n",
    "\n",
    "# PASS KEYS TO SOLVER\n",
    "run_RSA.runSolvers(RSA_keys, bf, ff, pr, knj, pm1, qs)"
   ]
  },
  {
   "cell_type": "code",
   "execution_count": 5,
   "metadata": {},
   "outputs": [
    {
     "name": "stdout",
     "output_type": "stream",
     "text": [
      "Can't solve for n = 0\n"
     ]
    },
    {
     "data": {
      "text/plain": [
       "False"
      ]
     },
     "execution_count": 5,
     "metadata": {},
     "output_type": "execute_result"
    }
   ],
   "source": [
    "# just proving nothing dodgy is going on by sending all of RSA_keys to the run file\n",
    "\n",
    "public_n = RSA_keys.n\n",
    "public_e = RSA_keys.e\n",
    "\n",
    "rho = pollard_rho.RhoSolver(public_n, public_e, True)                    \n",
    "rho.solve()"
   ]
  }
 ],
 "metadata": {
  "kernelspec": {
   "display_name": "Python 3",
   "language": "python",
   "name": "python3"
  },
  "language_info": {
   "codemirror_mode": {
    "name": "ipython",
    "version": 3
   },
   "file_extension": ".py",
   "mimetype": "text/x-python",
   "name": "python",
   "nbconvert_exporter": "python",
   "pygments_lexer": "ipython3",
   "version": "3.7.1"
  }
 },
 "nbformat": 4,
 "nbformat_minor": 2
}
