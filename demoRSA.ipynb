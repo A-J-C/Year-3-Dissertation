{
 "cells": [
  {
   "cell_type": "markdown",
   "metadata": {},
   "source": [
    "# RSA Demonstration"
   ]
  },
  {
   "cell_type": "markdown",
   "metadata": {},
   "source": [
    "Import my RSA package into the environment"
   ]
  },
  {
   "cell_type": "code",
   "execution_count": 1,
   "metadata": {
    "scrolled": false
   },
   "outputs": [],
   "source": [
    "from RSA import *"
   ]
  },
  {
   "cell_type": "markdown",
   "metadata": {},
   "source": [
    "### Key Generation\n",
    "Declare the bit size we want to use"
   ]
  },
  {
   "cell_type": "code",
   "execution_count": 2,
   "metadata": {
    "scrolled": false
   },
   "outputs": [],
   "source": [
    "bitSize = 40"
   ]
  },
  {
   "cell_type": "markdown",
   "metadata": {},
   "source": [
    "Generate a set of RSA keys with appropriate bitsize"
   ]
  },
  {
   "cell_type": "code",
   "execution_count": 3,
   "metadata": {
    "scrolled": false
   },
   "outputs": [
    {
     "name": "stdout",
     "output_type": "stream",
     "text": [
      "================================================== \n",
      "Generating  20 bit prime... \n",
      "10 rounds of Miller-Rabin needed (according to FISC)\n",
      "Trial-Division prime list generated, size:  128\n",
      "New candidate... 910595\n",
      "New candidate... 642493\n",
      "New candidate... 649451\n",
      "New candidate... 881977\n",
      "New candidate... 700409\n",
      "New candidate... 651047\n",
      "New candidate... 984121\n",
      "Prime of  20 bits found: 984121\n",
      "Checked 7 candidates in 0.01 s\n",
      "================================================== \n",
      "Generating  20 bit prime... \n",
      "10 rounds of Miller-Rabin needed (according to FISC)\n",
      "Trial-Division prime list generated, size:  128\n",
      "New candidate... 597751\n",
      "New candidate... 650311\n",
      "New candidate... 1014319\n",
      "Prime of  20 bits found: 1014319\n",
      "Checked 3 candidates in 0.00 s\n",
      "\n",
      "p: 984121\n",
      "q: 1014319\n",
      "\n",
      "n: 998212628599\n",
      "e: 776914918111\n",
      "n bit length: 40\n",
      "Private-Key, d: 297020253871\n",
      "Public-Key: (998212628599, 776914918111)\n",
      "Private-Key: 297020253871\n",
      "n is 40 bits\n",
      "\n"
     ]
    },
    {
     "data": {
      "text/plain": [
       "True"
      ]
     },
     "execution_count": 3,
     "metadata": {},
     "output_type": "execute_result"
    }
   ],
   "source": [
    "RSA_keys = generate_RSA.KeyGen(bitSize, True, True)     # initalise object True sets verbose and demo flag on KeyGen\n",
    "RSA_keys.generateKeys()                                 # runs generator"
   ]
  },
  {
   "cell_type": "markdown",
   "metadata": {},
   "source": [
    "### Brute Force Algorithm"
   ]
  },
  {
   "cell_type": "markdown",
   "metadata": {},
   "source": [
    "The simplest approach. \n",
    "\n",
    "- Take the $\\sqrt{n}$ and check if it divides n. \n",
    "- If it does not enumerate each odd smaller than $\\sqrt{n}$ until a factor is found. \n",
    "- $O(\\sqrt{n})$ (ignoring logarithmic test for division)"
   ]
  },
  {
   "cell_type": "code",
   "execution_count": 4,
   "metadata": {
    "scrolled": true
   },
   "outputs": [
    {
     "data": {
      "text/plain": [
       "'998212628599 % 984121 = 0'"
      ]
     },
     "metadata": {},
     "output_type": "display_data"
    },
    {
     "name": "stdout",
     "output_type": "stream",
     "text": [
      "p: 984121\n",
      "q: 1014319\n",
      "Private-Key, d: 297020253871\n",
      "Numbers checked: 7493\n",
      "Space used: 2 bytes\n",
      "Time taken: 0.529 s\n"
     ]
    },
    {
     "data": {
      "text/plain": [
       "True"
      ]
     },
     "execution_count": 4,
     "metadata": {},
     "output_type": "execute_result"
    }
   ],
   "source": [
    "bf = brute_force.BFSolver(RSA_keys.n, RSA_keys.e, True, True)   # pass it public keys, and True verbose & demo flag\n",
    "bf.solve()                                                      # run solver"
   ]
  },
  {
   "cell_type": "markdown",
   "metadata": {},
   "source": [
    "### Make it a bit harder"
   ]
  },
  {
   "cell_type": "code",
   "execution_count": 5,
   "metadata": {
    "scrolled": false
   },
   "outputs": [
    {
     "name": "stdout",
     "output_type": "stream",
     "text": [
      "Prime of  23 bits found: 8079299\n",
      "Checked 1 candidates in 0.00 s\n",
      "Prime of  23 bits found: 6375449\n",
      "Checked 9 candidates in 0.00 s\n",
      "\n",
      "p: 8079299\n",
      "q: 6375449\n",
      "\n",
      "n: 51509158730251\n",
      "e: 18162887780965\n",
      "n bit length: 46\n",
      "Private-Key, d: 18057121481405\n",
      "Public-Key: (51509158730251, 18162887780965)\n",
      "Private-Key: 18057121481405\n",
      "n is 46 bits\n",
      "\n"
     ]
    },
    {
     "data": {
      "text/plain": [
       "True"
      ]
     },
     "execution_count": 5,
     "metadata": {},
     "output_type": "execute_result"
    }
   ],
   "source": [
    "bitSize = 46\n",
    "\n",
    "RSA_keys = generate_RSA.KeyGen(bitSize, True)     # initalise object True sets verbose flag on KeyGen\n",
    "RSA_keys.generateKeys()                           # runs generator"
   ]
  },
  {
   "cell_type": "markdown",
   "metadata": {},
   "source": [
    "### Fermat's Factorisation Method"
   ]
  },
  {
   "cell_type": "markdown",
   "metadata": {},
   "source": [
    "Relies on Fermat’s observation that any odd number can be represented as the\n",
    "difference of two squares. \n",
    "\n",
    "- We again start with $γ ← \\sqrt{n}$\n",
    "- now we increment γ a single numberat a time until $γ^2 \\; mod \\; n \\; = \\; b^2$ where b is an integer. \n",
    "- then $\\{p,q\\} = γ \\pm b$\n",
    "- The worst-case time-complexity is exactlythe same as for brute-force, $O(\\sqrt{n})$"
   ]
  },
  {
   "cell_type": "code",
   "execution_count": 6,
   "metadata": {},
   "outputs": [
    {
     "data": {
      "text/plain": [
       "'sqrt(52234934935876 - 51509158730251) = 851925.0'"
      ]
     },
     "metadata": {},
     "output_type": "display_data"
    },
    {
     "name": "stdout",
     "output_type": "stream",
     "text": [
      "p: 6375449\n",
      "q: 8079299\n",
      "Private-Key, d: 18057121481405\n",
      "Numbers checked: 50387\n",
      "Space used: 6 bytes\n",
      "Time taken: 2.396 s\n"
     ]
    },
    {
     "data": {
      "text/plain": [
       "True"
      ]
     },
     "execution_count": 6,
     "metadata": {},
     "output_type": "execute_result"
    }
   ],
   "source": [
    "ff = fermats.FFSolver(RSA_keys.n, RSA_keys.e, True, True)   # pass it public keys, and True verbose & demo flag\n",
    "ff.solve()                                                  # run solver"
   ]
  },
  {
   "cell_type": "markdown",
   "metadata": {},
   "source": [
    "### KNJ - Factorisation"
   ]
  },
  {
   "cell_type": "markdown",
   "metadata": {},
   "source": [
    "The same as brute-force, but includes a check for prime numbers first. \n",
    "\n",
    "- Take the $\\sqrt{n}$ and check if it divides n. \n",
    "- If it does not enumerate each prime number smaller than $\\sqrt{n}$ until a factor is found. \n",
    "- $O(\\frac{\\sqrt{n}}{log(\\sqrt{n})})$ (estimation of the number of primes up to $\\sqrt{n}$)"
   ]
  },
  {
   "cell_type": "code",
   "execution_count": 7,
   "metadata": {},
   "outputs": [
    {
     "data": {
      "text/plain": [
       "'51509158730251 % 6375449 = 0'"
      ]
     },
     "metadata": {},
     "output_type": "display_data"
    },
    {
     "name": "stdout",
     "output_type": "stream",
     "text": [
      "p: 6375449\n",
      "q: 8079299\n",
      "Private-Key, d: 18057121481405\n",
      "Numbers checked: 50992\n",
      "Space used: 975708 bytes\n",
      "Time taken: 2.163 s\n"
     ]
    },
    {
     "data": {
      "text/plain": [
       "True"
      ]
     },
     "execution_count": 7,
     "metadata": {},
     "output_type": "execute_result"
    }
   ],
   "source": [
    "knj = knj_factorisation.KNJSolver(RSA_keys.n, RSA_keys.e, True, True)   # pass it public keys, and True verbose & demo flag\n",
    "knj.solve()                                                             # run solver"
   ]
  },
  {
   "cell_type": "markdown",
   "metadata": {},
   "source": [
    "### Pollard's p-1 "
   ]
  },
  {
   "cell_type": "markdown",
   "metadata": {},
   "source": [
    "Is our first probabilistic algorithm:\n",
    "\n",
    "- Utilises Fermat's little theorem \n",
    "- for a semi-prime $n \\leftarrow pq$, if $x \\leftarrow a^{K(p-1)} \\equiv 1 \\; mod \\; p$ then the $gcd(x - 1, n)$ will be divisible by $p$\n",
    "- We use a B-powersmooth number to find this large multiple\n",
    "- If our B is too high and both p and q are B-powersmooth it fails\n",
    "- So is probabilistic and we have to backtrack our B (or increase it)\n",
    "- $O(B \\log{B} \\log_2n)$"
   ]
  },
  {
   "cell_type": "code",
   "execution_count": 8,
   "metadata": {},
   "outputs": [
    {
     "data": {
      "text/plain": [
       "'Testing B = 104579'"
      ]
     },
     "metadata": {},
     "output_type": "display_data"
    },
    {
     "name": "stdout",
     "output_type": "stream",
     "text": [
      "p: 8079299\n",
      "q: 6375449\n",
      "Private-Key, d: 18057121481405\n",
      "Numbers checked: 9998\n",
      "Space used: 132 bytes\n",
      "Time taken: 2.314 s\n"
     ]
    },
    {
     "data": {
      "text/plain": [
       "True"
      ]
     },
     "execution_count": 8,
     "metadata": {},
     "output_type": "execute_result"
    }
   ],
   "source": [
    "polMin = pollard_p_minus_1.PSolver(RSA_keys.n, RSA_keys.e, True, True)   # pass it public keys, and True verbose & demo flag\n",
    "polMin.solve()                                                           # run solver"
   ]
  },
  {
   "cell_type": "markdown",
   "metadata": {},
   "source": [
    "### Pollard's-$\\rho$ method\n"
   ]
  },
  {
   "cell_type": "markdown",
   "metadata": {},
   "source": [
    "Another probabilistic method:\n",
    "\n",
    "- A random but known sequence is generated $\\{x_k \\; mod \\; n\\}$\n",
    "- This has a relation with the sequence mod a factor of $n$, $\\{x_k \\; mod \\; p\\}$\n",
    "- Send runners y and z around the sequence, one twice as fast as the other \n",
    "- $gcd(x_y - x_z, n)$ will return a non trivial answer if the smaller, $p$ cycle repeats itself\n",
    "- This is called Floyd's cycle detection\n",
    "- $O(n^{1/4})$ via the birthday-paradox"
   ]
  },
  {
   "cell_type": "code",
   "execution_count": 9,
   "metadata": {
    "scrolled": false
   },
   "outputs": [
    {
     "data": {
      "text/plain": [
       "'gcd(8407385295325 - 29526480887459, 51509158730251) = 6375449'"
      ]
     },
     "metadata": {},
     "output_type": "display_data"
    },
    {
     "name": "stdout",
     "output_type": "stream",
     "text": [
      "p: 6375449\n",
      "q: 8079299\n",
      "Private-Key, d: 18057121481405\n",
      "Numbers checked: 653\n",
      "Space used: 10 bytes\n",
      "Time taken: 0.077 s\n"
     ]
    },
    {
     "data": {
      "text/plain": [
       "True"
      ]
     },
     "execution_count": 9,
     "metadata": {},
     "output_type": "execute_result"
    }
   ],
   "source": [
    "rho = pollard_rho.RhoSolver(RSA_keys.n, RSA_keys.e, True, True)   # pass it public keys, and True verbose & demo flag\n",
    "rho.solve()                                                       # run solver"
   ]
  },
  {
   "cell_type": "markdown",
   "metadata": {},
   "source": [
    "### Quadratic Sieve"
   ]
  },
  {
   "cell_type": "markdown",
   "metadata": {},
   "source": [
    "In essence, this is advanced Fermat's Factoring:\n",
    "\n",
    "- We no longer care about testing for one $\\beta \\leftarrow a^2 \\; mod \\; n$ until $\\beta$ is a square number\n",
    "- We instead build a congruence of squares, s.t. the product is a square ($b^2 \\leftarrow \\beta _1 * ... * \\beta _k \\; s.t. \\; b \\in N $)\n",
    "- Again a smoothness bound, B, is used to ensure each $\\beta$ can be fully factored over a small number of primes \n",
    "- A matrix is then built of prime-exponent vectors for each $\\beta$\n",
    "- Matrix elimination is then applied to find the zero vector, which means the number produced is square\n",
    "- This sum of vectors used to produce the zero vectors can then be used to determine the factors\n",
    "- A hard time-complexity to define, but should be sub-exponential"
   ]
  },
  {
   "cell_type": "code",
   "execution_count": 10,
   "metadata": {},
   "outputs": [
    {
     "name": "stdout",
     "output_type": "stream",
     "text": [
      "Prime of  10 bits found: 859\n",
      "Checked 2 candidates in 0.00 s\n",
      "Prime of  10 bits found: 733\n",
      "Checked 4 candidates in 0.00 s\n",
      "\n",
      "p: 859\n",
      "q: 733\n",
      "\n",
      "n: 629647\n",
      "e: 72835\n",
      "n bit length: 20\n",
      "Private-Key, d: 618907\n",
      "Public-Key: (629647, 72835)\n",
      "Private-Key: 618907\n",
      "n is 20 bits\n",
      "\n"
     ]
    },
    {
     "data": {
      "text/plain": [
       "True"
      ]
     },
     "execution_count": 10,
     "metadata": {},
     "output_type": "execute_result"
    }
   ],
   "source": [
    "# need to recalculate as only 100% guarenteed for these very small sizes \n",
    "\n",
    "bitSize = 20\n",
    "\n",
    "RSA_keys = generate_RSA.KeyGen(bitSize, True)     # initalise object True sets verbose flag on KeyGen\n",
    "RSA_keys.generateKeys()                           # runs generator"
   ]
  },
  {
   "cell_type": "code",
   "execution_count": 11,
   "metadata": {},
   "outputs": [
    {
     "name": "stdout",
     "output_type": "stream",
     "text": [
      "Length of possible primes: 528\n",
      "Length of primes with quadRes(n,p) == 1: 261 \n",
      "\n",
      "p: 859\n",
      "q: 733\n",
      "Private-Key, d: 618907\n",
      "Numbers checked: 151\n",
      "Space used: 136764 bytes\n",
      "Time taken: 0.151 s\n"
     ]
    },
    {
     "data": {
      "text/plain": [
       "True"
      ]
     },
     "execution_count": 11,
     "metadata": {},
     "output_type": "execute_result"
    }
   ],
   "source": [
    "quad = quadratic_sieve.QSolver(RSA_keys.n, RSA_keys.e, True, True)  # pass it public keys, and True verbose & demo flag\n",
    "quad.solve()                                                        # run solver"
   ]
  },
  {
   "cell_type": "markdown",
   "metadata": {},
   "source": [
    "### Basic Analysis\n",
    "Running the above algorithms on a variety of random inputs to create graphs showing general trends.\n",
    "\n",
    "The below style code makes the format of the graphs nicer"
   ]
  },
  {
   "cell_type": "code",
   "execution_count": 12,
   "metadata": {
    "scrolled": false
   },
   "outputs": [
    {
     "data": {
      "text/html": [
       "<style>\n",
       ".output_wrapper button.btn.btn-default,\n",
       ".output_wrapper .ui-dialog-titlebar {\n",
       "  display: none;\n",
       "}\n",
       "</style>\n"
      ],
      "text/plain": [
       "<IPython.core.display.HTML object>"
      ]
     },
     "metadata": {},
     "output_type": "display_data"
    }
   ],
   "source": [
    "%%html\n",
    "<style>\n",
    ".output_wrapper button.btn.btn-default,\n",
    ".output_wrapper .ui-dialog-titlebar {\n",
    "  display: none;\n",
    "}\n",
    "</style>"
   ]
  },
  {
   "cell_type": "markdown",
   "metadata": {},
   "source": [
    "Runs each algorithm in a thread and plots the results."
   ]
  },
  {
   "cell_type": "code",
   "execution_count": 2,
   "metadata": {
    "scrolled": false
   },
   "outputs": [
    {
     "data": {
      "application/javascript": [
       "/* Put everything inside the global mpl namespace */\n",
       "window.mpl = {};\n",
       "\n",
       "\n",
       "mpl.get_websocket_type = function() {\n",
       "    if (typeof(WebSocket) !== 'undefined') {\n",
       "        return WebSocket;\n",
       "    } else if (typeof(MozWebSocket) !== 'undefined') {\n",
       "        return MozWebSocket;\n",
       "    } else {\n",
       "        alert('Your browser does not have WebSocket support.' +\n",
       "              'Please try Chrome, Safari or Firefox ≥ 6. ' +\n",
       "              'Firefox 4 and 5 are also supported but you ' +\n",
       "              'have to enable WebSockets in about:config.');\n",
       "    };\n",
       "}\n",
       "\n",
       "mpl.figure = function(figure_id, websocket, ondownload, parent_element) {\n",
       "    this.id = figure_id;\n",
       "\n",
       "    this.ws = websocket;\n",
       "\n",
       "    this.supports_binary = (this.ws.binaryType != undefined);\n",
       "\n",
       "    if (!this.supports_binary) {\n",
       "        var warnings = document.getElementById(\"mpl-warnings\");\n",
       "        if (warnings) {\n",
       "            warnings.style.display = 'block';\n",
       "            warnings.textContent = (\n",
       "                \"This browser does not support binary websocket messages. \" +\n",
       "                    \"Performance may be slow.\");\n",
       "        }\n",
       "    }\n",
       "\n",
       "    this.imageObj = new Image();\n",
       "\n",
       "    this.context = undefined;\n",
       "    this.message = undefined;\n",
       "    this.canvas = undefined;\n",
       "    this.rubberband_canvas = undefined;\n",
       "    this.rubberband_context = undefined;\n",
       "    this.format_dropdown = undefined;\n",
       "\n",
       "    this.image_mode = 'full';\n",
       "\n",
       "    this.root = $('<div/>');\n",
       "    this._root_extra_style(this.root)\n",
       "    this.root.attr('style', 'display: inline-block');\n",
       "\n",
       "    $(parent_element).append(this.root);\n",
       "\n",
       "    this._init_header(this);\n",
       "    this._init_canvas(this);\n",
       "    this._init_toolbar(this);\n",
       "\n",
       "    var fig = this;\n",
       "\n",
       "    this.waiting = false;\n",
       "\n",
       "    this.ws.onopen =  function () {\n",
       "            fig.send_message(\"supports_binary\", {value: fig.supports_binary});\n",
       "            fig.send_message(\"send_image_mode\", {});\n",
       "            if (mpl.ratio != 1) {\n",
       "                fig.send_message(\"set_dpi_ratio\", {'dpi_ratio': mpl.ratio});\n",
       "            }\n",
       "            fig.send_message(\"refresh\", {});\n",
       "        }\n",
       "\n",
       "    this.imageObj.onload = function() {\n",
       "            if (fig.image_mode == 'full') {\n",
       "                // Full images could contain transparency (where diff images\n",
       "                // almost always do), so we need to clear the canvas so that\n",
       "                // there is no ghosting.\n",
       "                fig.context.clearRect(0, 0, fig.canvas.width, fig.canvas.height);\n",
       "            }\n",
       "            fig.context.drawImage(fig.imageObj, 0, 0);\n",
       "        };\n",
       "\n",
       "    this.imageObj.onunload = function() {\n",
       "        fig.ws.close();\n",
       "    }\n",
       "\n",
       "    this.ws.onmessage = this._make_on_message_function(this);\n",
       "\n",
       "    this.ondownload = ondownload;\n",
       "}\n",
       "\n",
       "mpl.figure.prototype._init_header = function() {\n",
       "    var titlebar = $(\n",
       "        '<div class=\"ui-dialog-titlebar ui-widget-header ui-corner-all ' +\n",
       "        'ui-helper-clearfix\"/>');\n",
       "    var titletext = $(\n",
       "        '<div class=\"ui-dialog-title\" style=\"width: 100%; ' +\n",
       "        'text-align: center; padding: 3px;\"/>');\n",
       "    titlebar.append(titletext)\n",
       "    this.root.append(titlebar);\n",
       "    this.header = titletext[0];\n",
       "}\n",
       "\n",
       "\n",
       "\n",
       "mpl.figure.prototype._canvas_extra_style = function(canvas_div) {\n",
       "\n",
       "}\n",
       "\n",
       "\n",
       "mpl.figure.prototype._root_extra_style = function(canvas_div) {\n",
       "\n",
       "}\n",
       "\n",
       "mpl.figure.prototype._init_canvas = function() {\n",
       "    var fig = this;\n",
       "\n",
       "    var canvas_div = $('<div/>');\n",
       "\n",
       "    canvas_div.attr('style', 'position: relative; clear: both; outline: 0');\n",
       "\n",
       "    function canvas_keyboard_event(event) {\n",
       "        return fig.key_event(event, event['data']);\n",
       "    }\n",
       "\n",
       "    canvas_div.keydown('key_press', canvas_keyboard_event);\n",
       "    canvas_div.keyup('key_release', canvas_keyboard_event);\n",
       "    this.canvas_div = canvas_div\n",
       "    this._canvas_extra_style(canvas_div)\n",
       "    this.root.append(canvas_div);\n",
       "\n",
       "    var canvas = $('<canvas/>');\n",
       "    canvas.addClass('mpl-canvas');\n",
       "    canvas.attr('style', \"left: 0; top: 0; z-index: 0; outline: 0\")\n",
       "\n",
       "    this.canvas = canvas[0];\n",
       "    this.context = canvas[0].getContext(\"2d\");\n",
       "\n",
       "    var backingStore = this.context.backingStorePixelRatio ||\n",
       "\tthis.context.webkitBackingStorePixelRatio ||\n",
       "\tthis.context.mozBackingStorePixelRatio ||\n",
       "\tthis.context.msBackingStorePixelRatio ||\n",
       "\tthis.context.oBackingStorePixelRatio ||\n",
       "\tthis.context.backingStorePixelRatio || 1;\n",
       "\n",
       "    mpl.ratio = (window.devicePixelRatio || 1) / backingStore;\n",
       "\n",
       "    var rubberband = $('<canvas/>');\n",
       "    rubberband.attr('style', \"position: absolute; left: 0; top: 0; z-index: 1;\")\n",
       "\n",
       "    var pass_mouse_events = true;\n",
       "\n",
       "    canvas_div.resizable({\n",
       "        start: function(event, ui) {\n",
       "            pass_mouse_events = false;\n",
       "        },\n",
       "        resize: function(event, ui) {\n",
       "            fig.request_resize(ui.size.width, ui.size.height);\n",
       "        },\n",
       "        stop: function(event, ui) {\n",
       "            pass_mouse_events = true;\n",
       "            fig.request_resize(ui.size.width, ui.size.height);\n",
       "        },\n",
       "    });\n",
       "\n",
       "    function mouse_event_fn(event) {\n",
       "        if (pass_mouse_events)\n",
       "            return fig.mouse_event(event, event['data']);\n",
       "    }\n",
       "\n",
       "    rubberband.mousedown('button_press', mouse_event_fn);\n",
       "    rubberband.mouseup('button_release', mouse_event_fn);\n",
       "    // Throttle sequential mouse events to 1 every 20ms.\n",
       "    rubberband.mousemove('motion_notify', mouse_event_fn);\n",
       "\n",
       "    rubberband.mouseenter('figure_enter', mouse_event_fn);\n",
       "    rubberband.mouseleave('figure_leave', mouse_event_fn);\n",
       "\n",
       "    canvas_div.on(\"wheel\", function (event) {\n",
       "        event = event.originalEvent;\n",
       "        event['data'] = 'scroll'\n",
       "        if (event.deltaY < 0) {\n",
       "            event.step = 1;\n",
       "        } else {\n",
       "            event.step = -1;\n",
       "        }\n",
       "        mouse_event_fn(event);\n",
       "    });\n",
       "\n",
       "    canvas_div.append(canvas);\n",
       "    canvas_div.append(rubberband);\n",
       "\n",
       "    this.rubberband = rubberband;\n",
       "    this.rubberband_canvas = rubberband[0];\n",
       "    this.rubberband_context = rubberband[0].getContext(\"2d\");\n",
       "    this.rubberband_context.strokeStyle = \"#000000\";\n",
       "\n",
       "    this._resize_canvas = function(width, height) {\n",
       "        // Keep the size of the canvas, canvas container, and rubber band\n",
       "        // canvas in synch.\n",
       "        canvas_div.css('width', width)\n",
       "        canvas_div.css('height', height)\n",
       "\n",
       "        canvas.attr('width', width * mpl.ratio);\n",
       "        canvas.attr('height', height * mpl.ratio);\n",
       "        canvas.attr('style', 'width: ' + width + 'px; height: ' + height + 'px;');\n",
       "\n",
       "        rubberband.attr('width', width);\n",
       "        rubberband.attr('height', height);\n",
       "    }\n",
       "\n",
       "    // Set the figure to an initial 600x600px, this will subsequently be updated\n",
       "    // upon first draw.\n",
       "    this._resize_canvas(600, 600);\n",
       "\n",
       "    // Disable right mouse context menu.\n",
       "    $(this.rubberband_canvas).bind(\"contextmenu\",function(e){\n",
       "        return false;\n",
       "    });\n",
       "\n",
       "    function set_focus () {\n",
       "        canvas.focus();\n",
       "        canvas_div.focus();\n",
       "    }\n",
       "\n",
       "    window.setTimeout(set_focus, 100);\n",
       "}\n",
       "\n",
       "mpl.figure.prototype._init_toolbar = function() {\n",
       "    var fig = this;\n",
       "\n",
       "    var nav_element = $('<div/>')\n",
       "    nav_element.attr('style', 'width: 100%');\n",
       "    this.root.append(nav_element);\n",
       "\n",
       "    // Define a callback function for later on.\n",
       "    function toolbar_event(event) {\n",
       "        return fig.toolbar_button_onclick(event['data']);\n",
       "    }\n",
       "    function toolbar_mouse_event(event) {\n",
       "        return fig.toolbar_button_onmouseover(event['data']);\n",
       "    }\n",
       "\n",
       "    for(var toolbar_ind in mpl.toolbar_items) {\n",
       "        var name = mpl.toolbar_items[toolbar_ind][0];\n",
       "        var tooltip = mpl.toolbar_items[toolbar_ind][1];\n",
       "        var image = mpl.toolbar_items[toolbar_ind][2];\n",
       "        var method_name = mpl.toolbar_items[toolbar_ind][3];\n",
       "\n",
       "        if (!name) {\n",
       "            // put a spacer in here.\n",
       "            continue;\n",
       "        }\n",
       "        var button = $('<button/>');\n",
       "        button.addClass('ui-button ui-widget ui-state-default ui-corner-all ' +\n",
       "                        'ui-button-icon-only');\n",
       "        button.attr('role', 'button');\n",
       "        button.attr('aria-disabled', 'false');\n",
       "        button.click(method_name, toolbar_event);\n",
       "        button.mouseover(tooltip, toolbar_mouse_event);\n",
       "\n",
       "        var icon_img = $('<span/>');\n",
       "        icon_img.addClass('ui-button-icon-primary ui-icon');\n",
       "        icon_img.addClass(image);\n",
       "        icon_img.addClass('ui-corner-all');\n",
       "\n",
       "        var tooltip_span = $('<span/>');\n",
       "        tooltip_span.addClass('ui-button-text');\n",
       "        tooltip_span.html(tooltip);\n",
       "\n",
       "        button.append(icon_img);\n",
       "        button.append(tooltip_span);\n",
       "\n",
       "        nav_element.append(button);\n",
       "    }\n",
       "\n",
       "    var fmt_picker_span = $('<span/>');\n",
       "\n",
       "    var fmt_picker = $('<select/>');\n",
       "    fmt_picker.addClass('mpl-toolbar-option ui-widget ui-widget-content');\n",
       "    fmt_picker_span.append(fmt_picker);\n",
       "    nav_element.append(fmt_picker_span);\n",
       "    this.format_dropdown = fmt_picker[0];\n",
       "\n",
       "    for (var ind in mpl.extensions) {\n",
       "        var fmt = mpl.extensions[ind];\n",
       "        var option = $(\n",
       "            '<option/>', {selected: fmt === mpl.default_extension}).html(fmt);\n",
       "        fmt_picker.append(option)\n",
       "    }\n",
       "\n",
       "    // Add hover states to the ui-buttons\n",
       "    $( \".ui-button\" ).hover(\n",
       "        function() { $(this).addClass(\"ui-state-hover\");},\n",
       "        function() { $(this).removeClass(\"ui-state-hover\");}\n",
       "    );\n",
       "\n",
       "    var status_bar = $('<span class=\"mpl-message\"/>');\n",
       "    nav_element.append(status_bar);\n",
       "    this.message = status_bar[0];\n",
       "}\n",
       "\n",
       "mpl.figure.prototype.request_resize = function(x_pixels, y_pixels) {\n",
       "    // Request matplotlib to resize the figure. Matplotlib will then trigger a resize in the client,\n",
       "    // which will in turn request a refresh of the image.\n",
       "    this.send_message('resize', {'width': x_pixels, 'height': y_pixels});\n",
       "}\n",
       "\n",
       "mpl.figure.prototype.send_message = function(type, properties) {\n",
       "    properties['type'] = type;\n",
       "    properties['figure_id'] = this.id;\n",
       "    this.ws.send(JSON.stringify(properties));\n",
       "}\n",
       "\n",
       "mpl.figure.prototype.send_draw_message = function() {\n",
       "    if (!this.waiting) {\n",
       "        this.waiting = true;\n",
       "        this.ws.send(JSON.stringify({type: \"draw\", figure_id: this.id}));\n",
       "    }\n",
       "}\n",
       "\n",
       "\n",
       "mpl.figure.prototype.handle_save = function(fig, msg) {\n",
       "    var format_dropdown = fig.format_dropdown;\n",
       "    var format = format_dropdown.options[format_dropdown.selectedIndex].value;\n",
       "    fig.ondownload(fig, format);\n",
       "}\n",
       "\n",
       "\n",
       "mpl.figure.prototype.handle_resize = function(fig, msg) {\n",
       "    var size = msg['size'];\n",
       "    if (size[0] != fig.canvas.width || size[1] != fig.canvas.height) {\n",
       "        fig._resize_canvas(size[0], size[1]);\n",
       "        fig.send_message(\"refresh\", {});\n",
       "    };\n",
       "}\n",
       "\n",
       "mpl.figure.prototype.handle_rubberband = function(fig, msg) {\n",
       "    var x0 = msg['x0'] / mpl.ratio;\n",
       "    var y0 = (fig.canvas.height - msg['y0']) / mpl.ratio;\n",
       "    var x1 = msg['x1'] / mpl.ratio;\n",
       "    var y1 = (fig.canvas.height - msg['y1']) / mpl.ratio;\n",
       "    x0 = Math.floor(x0) + 0.5;\n",
       "    y0 = Math.floor(y0) + 0.5;\n",
       "    x1 = Math.floor(x1) + 0.5;\n",
       "    y1 = Math.floor(y1) + 0.5;\n",
       "    var min_x = Math.min(x0, x1);\n",
       "    var min_y = Math.min(y0, y1);\n",
       "    var width = Math.abs(x1 - x0);\n",
       "    var height = Math.abs(y1 - y0);\n",
       "\n",
       "    fig.rubberband_context.clearRect(\n",
       "        0, 0, fig.canvas.width, fig.canvas.height);\n",
       "\n",
       "    fig.rubberband_context.strokeRect(min_x, min_y, width, height);\n",
       "}\n",
       "\n",
       "mpl.figure.prototype.handle_figure_label = function(fig, msg) {\n",
       "    // Updates the figure title.\n",
       "    fig.header.textContent = msg['label'];\n",
       "}\n",
       "\n",
       "mpl.figure.prototype.handle_cursor = function(fig, msg) {\n",
       "    var cursor = msg['cursor'];\n",
       "    switch(cursor)\n",
       "    {\n",
       "    case 0:\n",
       "        cursor = 'pointer';\n",
       "        break;\n",
       "    case 1:\n",
       "        cursor = 'default';\n",
       "        break;\n",
       "    case 2:\n",
       "        cursor = 'crosshair';\n",
       "        break;\n",
       "    case 3:\n",
       "        cursor = 'move';\n",
       "        break;\n",
       "    }\n",
       "    fig.rubberband_canvas.style.cursor = cursor;\n",
       "}\n",
       "\n",
       "mpl.figure.prototype.handle_message = function(fig, msg) {\n",
       "    fig.message.textContent = msg['message'];\n",
       "}\n",
       "\n",
       "mpl.figure.prototype.handle_draw = function(fig, msg) {\n",
       "    // Request the server to send over a new figure.\n",
       "    fig.send_draw_message();\n",
       "}\n",
       "\n",
       "mpl.figure.prototype.handle_image_mode = function(fig, msg) {\n",
       "    fig.image_mode = msg['mode'];\n",
       "}\n",
       "\n",
       "mpl.figure.prototype.updated_canvas_event = function() {\n",
       "    // Called whenever the canvas gets updated.\n",
       "    this.send_message(\"ack\", {});\n",
       "}\n",
       "\n",
       "// A function to construct a web socket function for onmessage handling.\n",
       "// Called in the figure constructor.\n",
       "mpl.figure.prototype._make_on_message_function = function(fig) {\n",
       "    return function socket_on_message(evt) {\n",
       "        if (evt.data instanceof Blob) {\n",
       "            /* FIXME: We get \"Resource interpreted as Image but\n",
       "             * transferred with MIME type text/plain:\" errors on\n",
       "             * Chrome.  But how to set the MIME type?  It doesn't seem\n",
       "             * to be part of the websocket stream */\n",
       "            evt.data.type = \"image/png\";\n",
       "\n",
       "            /* Free the memory for the previous frames */\n",
       "            if (fig.imageObj.src) {\n",
       "                (window.URL || window.webkitURL).revokeObjectURL(\n",
       "                    fig.imageObj.src);\n",
       "            }\n",
       "\n",
       "            fig.imageObj.src = (window.URL || window.webkitURL).createObjectURL(\n",
       "                evt.data);\n",
       "            fig.updated_canvas_event();\n",
       "            fig.waiting = false;\n",
       "            return;\n",
       "        }\n",
       "        else if (typeof evt.data === 'string' && evt.data.slice(0, 21) == \"data:image/png;base64\") {\n",
       "            fig.imageObj.src = evt.data;\n",
       "            fig.updated_canvas_event();\n",
       "            fig.waiting = false;\n",
       "            return;\n",
       "        }\n",
       "\n",
       "        var msg = JSON.parse(evt.data);\n",
       "        var msg_type = msg['type'];\n",
       "\n",
       "        // Call the  \"handle_{type}\" callback, which takes\n",
       "        // the figure and JSON message as its only arguments.\n",
       "        try {\n",
       "            var callback = fig[\"handle_\" + msg_type];\n",
       "        } catch (e) {\n",
       "            console.log(\"No handler for the '\" + msg_type + \"' message type: \", msg);\n",
       "            return;\n",
       "        }\n",
       "\n",
       "        if (callback) {\n",
       "            try {\n",
       "                // console.log(\"Handling '\" + msg_type + \"' message: \", msg);\n",
       "                callback(fig, msg);\n",
       "            } catch (e) {\n",
       "                console.log(\"Exception inside the 'handler_\" + msg_type + \"' callback:\", e, e.stack, msg);\n",
       "            }\n",
       "        }\n",
       "    };\n",
       "}\n",
       "\n",
       "// from http://stackoverflow.com/questions/1114465/getting-mouse-location-in-canvas\n",
       "mpl.findpos = function(e) {\n",
       "    //this section is from http://www.quirksmode.org/js/events_properties.html\n",
       "    var targ;\n",
       "    if (!e)\n",
       "        e = window.event;\n",
       "    if (e.target)\n",
       "        targ = e.target;\n",
       "    else if (e.srcElement)\n",
       "        targ = e.srcElement;\n",
       "    if (targ.nodeType == 3) // defeat Safari bug\n",
       "        targ = targ.parentNode;\n",
       "\n",
       "    // jQuery normalizes the pageX and pageY\n",
       "    // pageX,Y are the mouse positions relative to the document\n",
       "    // offset() returns the position of the element relative to the document\n",
       "    var x = e.pageX - $(targ).offset().left;\n",
       "    var y = e.pageY - $(targ).offset().top;\n",
       "\n",
       "    return {\"x\": x, \"y\": y};\n",
       "};\n",
       "\n",
       "/*\n",
       " * return a copy of an object with only non-object keys\n",
       " * we need this to avoid circular references\n",
       " * http://stackoverflow.com/a/24161582/3208463\n",
       " */\n",
       "function simpleKeys (original) {\n",
       "  return Object.keys(original).reduce(function (obj, key) {\n",
       "    if (typeof original[key] !== 'object')\n",
       "        obj[key] = original[key]\n",
       "    return obj;\n",
       "  }, {});\n",
       "}\n",
       "\n",
       "mpl.figure.prototype.mouse_event = function(event, name) {\n",
       "    var canvas_pos = mpl.findpos(event)\n",
       "\n",
       "    if (name === 'button_press')\n",
       "    {\n",
       "        this.canvas.focus();\n",
       "        this.canvas_div.focus();\n",
       "    }\n",
       "\n",
       "    var x = canvas_pos.x * mpl.ratio;\n",
       "    var y = canvas_pos.y * mpl.ratio;\n",
       "\n",
       "    this.send_message(name, {x: x, y: y, button: event.button,\n",
       "                             step: event.step,\n",
       "                             guiEvent: simpleKeys(event)});\n",
       "\n",
       "    /* This prevents the web browser from automatically changing to\n",
       "     * the text insertion cursor when the button is pressed.  We want\n",
       "     * to control all of the cursor setting manually through the\n",
       "     * 'cursor' event from matplotlib */\n",
       "    event.preventDefault();\n",
       "    return false;\n",
       "}\n",
       "\n",
       "mpl.figure.prototype._key_event_extra = function(event, name) {\n",
       "    // Handle any extra behaviour associated with a key event\n",
       "}\n",
       "\n",
       "mpl.figure.prototype.key_event = function(event, name) {\n",
       "\n",
       "    // Prevent repeat events\n",
       "    if (name == 'key_press')\n",
       "    {\n",
       "        if (event.which === this._key)\n",
       "            return;\n",
       "        else\n",
       "            this._key = event.which;\n",
       "    }\n",
       "    if (name == 'key_release')\n",
       "        this._key = null;\n",
       "\n",
       "    var value = '';\n",
       "    if (event.ctrlKey && event.which != 17)\n",
       "        value += \"ctrl+\";\n",
       "    if (event.altKey && event.which != 18)\n",
       "        value += \"alt+\";\n",
       "    if (event.shiftKey && event.which != 16)\n",
       "        value += \"shift+\";\n",
       "\n",
       "    value += 'k';\n",
       "    value += event.which.toString();\n",
       "\n",
       "    this._key_event_extra(event, name);\n",
       "\n",
       "    this.send_message(name, {key: value,\n",
       "                             guiEvent: simpleKeys(event)});\n",
       "    return false;\n",
       "}\n",
       "\n",
       "mpl.figure.prototype.toolbar_button_onclick = function(name) {\n",
       "    if (name == 'download') {\n",
       "        this.handle_save(this, null);\n",
       "    } else {\n",
       "        this.send_message(\"toolbar_button\", {name: name});\n",
       "    }\n",
       "};\n",
       "\n",
       "mpl.figure.prototype.toolbar_button_onmouseover = function(tooltip) {\n",
       "    this.message.textContent = tooltip;\n",
       "};\n",
       "mpl.toolbar_items = [[\"Home\", \"Reset original view\", \"fa fa-home icon-home\", \"home\"], [\"Back\", \"Back to previous view\", \"fa fa-arrow-left icon-arrow-left\", \"back\"], [\"Forward\", \"Forward to next view\", \"fa fa-arrow-right icon-arrow-right\", \"forward\"], [\"\", \"\", \"\", \"\"], [\"Pan\", \"Pan axes with left mouse, zoom with right\", \"fa fa-arrows icon-move\", \"pan\"], [\"Zoom\", \"Zoom to rectangle\", \"fa fa-square-o icon-check-empty\", \"zoom\"], [\"\", \"\", \"\", \"\"], [\"Download\", \"Download plot\", \"fa fa-floppy-o icon-save\", \"download\"]];\n",
       "\n",
       "mpl.extensions = [\"eps\", \"jpeg\", \"pdf\", \"png\", \"ps\", \"raw\", \"svg\", \"tif\"];\n",
       "\n",
       "mpl.default_extension = \"png\";var comm_websocket_adapter = function(comm) {\n",
       "    // Create a \"websocket\"-like object which calls the given IPython comm\n",
       "    // object with the appropriate methods. Currently this is a non binary\n",
       "    // socket, so there is still some room for performance tuning.\n",
       "    var ws = {};\n",
       "\n",
       "    ws.close = function() {\n",
       "        comm.close()\n",
       "    };\n",
       "    ws.send = function(m) {\n",
       "        //console.log('sending', m);\n",
       "        comm.send(m);\n",
       "    };\n",
       "    // Register the callback with on_msg.\n",
       "    comm.on_msg(function(msg) {\n",
       "        //console.log('receiving', msg['content']['data'], msg);\n",
       "        // Pass the mpl event to the overridden (by mpl) onmessage function.\n",
       "        ws.onmessage(msg['content']['data'])\n",
       "    });\n",
       "    return ws;\n",
       "}\n",
       "\n",
       "mpl.mpl_figure_comm = function(comm, msg) {\n",
       "    // This is the function which gets called when the mpl process\n",
       "    // starts-up an IPython Comm through the \"matplotlib\" channel.\n",
       "\n",
       "    var id = msg.content.data.id;\n",
       "    // Get hold of the div created by the display call when the Comm\n",
       "    // socket was opened in Python.\n",
       "    var element = $(\"#\" + id);\n",
       "    var ws_proxy = comm_websocket_adapter(comm)\n",
       "\n",
       "    function ondownload(figure, format) {\n",
       "        window.open(figure.imageObj.src);\n",
       "    }\n",
       "\n",
       "    var fig = new mpl.figure(id, ws_proxy,\n",
       "                           ondownload,\n",
       "                           element.get(0));\n",
       "\n",
       "    // Call onopen now - mpl needs it, as it is assuming we've passed it a real\n",
       "    // web socket which is closed, not our websocket->open comm proxy.\n",
       "    ws_proxy.onopen();\n",
       "\n",
       "    fig.parent_element = element.get(0);\n",
       "    fig.cell_info = mpl.find_output_cell(\"<div id='\" + id + \"'></div>\");\n",
       "    if (!fig.cell_info) {\n",
       "        console.error(\"Failed to find cell for figure\", id, fig);\n",
       "        return;\n",
       "    }\n",
       "\n",
       "    var output_index = fig.cell_info[2]\n",
       "    var cell = fig.cell_info[0];\n",
       "\n",
       "};\n",
       "\n",
       "mpl.figure.prototype.handle_close = function(fig, msg) {\n",
       "    var width = fig.canvas.width/mpl.ratio\n",
       "    fig.root.unbind('remove')\n",
       "\n",
       "    // Update the output cell to use the data from the current canvas.\n",
       "    fig.push_to_output();\n",
       "    var dataURL = fig.canvas.toDataURL();\n",
       "    // Re-enable the keyboard manager in IPython - without this line, in FF,\n",
       "    // the notebook keyboard shortcuts fail.\n",
       "    IPython.keyboard_manager.enable()\n",
       "    $(fig.parent_element).html('<img src=\"' + dataURL + '\" width=\"' + width + '\">');\n",
       "    fig.close_ws(fig, msg);\n",
       "}\n",
       "\n",
       "mpl.figure.prototype.close_ws = function(fig, msg){\n",
       "    fig.send_message('closing', msg);\n",
       "    // fig.ws.close()\n",
       "}\n",
       "\n",
       "mpl.figure.prototype.push_to_output = function(remove_interactive) {\n",
       "    // Turn the data on the canvas into data in the output cell.\n",
       "    var width = this.canvas.width/mpl.ratio\n",
       "    var dataURL = this.canvas.toDataURL();\n",
       "    this.cell_info[1]['text/html'] = '<img src=\"' + dataURL + '\" width=\"' + width + '\">';\n",
       "}\n",
       "\n",
       "mpl.figure.prototype.updated_canvas_event = function() {\n",
       "    // Tell IPython that the notebook contents must change.\n",
       "    IPython.notebook.set_dirty(true);\n",
       "    this.send_message(\"ack\", {});\n",
       "    var fig = this;\n",
       "    // Wait a second, then push the new image to the DOM so\n",
       "    // that it is saved nicely (might be nice to debounce this).\n",
       "    setTimeout(function () { fig.push_to_output() }, 1000);\n",
       "}\n",
       "\n",
       "mpl.figure.prototype._init_toolbar = function() {\n",
       "    var fig = this;\n",
       "\n",
       "    var nav_element = $('<div/>')\n",
       "    nav_element.attr('style', 'width: 100%');\n",
       "    this.root.append(nav_element);\n",
       "\n",
       "    // Define a callback function for later on.\n",
       "    function toolbar_event(event) {\n",
       "        return fig.toolbar_button_onclick(event['data']);\n",
       "    }\n",
       "    function toolbar_mouse_event(event) {\n",
       "        return fig.toolbar_button_onmouseover(event['data']);\n",
       "    }\n",
       "\n",
       "    for(var toolbar_ind in mpl.toolbar_items){\n",
       "        var name = mpl.toolbar_items[toolbar_ind][0];\n",
       "        var tooltip = mpl.toolbar_items[toolbar_ind][1];\n",
       "        var image = mpl.toolbar_items[toolbar_ind][2];\n",
       "        var method_name = mpl.toolbar_items[toolbar_ind][3];\n",
       "\n",
       "        if (!name) { continue; };\n",
       "\n",
       "        var button = $('<button class=\"btn btn-default\" href=\"#\" title=\"' + name + '\"><i class=\"fa ' + image + ' fa-lg\"></i></button>');\n",
       "        button.click(method_name, toolbar_event);\n",
       "        button.mouseover(tooltip, toolbar_mouse_event);\n",
       "        nav_element.append(button);\n",
       "    }\n",
       "\n",
       "    // Add the status bar.\n",
       "    var status_bar = $('<span class=\"mpl-message\" style=\"text-align:right; float: right;\"/>');\n",
       "    nav_element.append(status_bar);\n",
       "    this.message = status_bar[0];\n",
       "\n",
       "    // Add the close button to the window.\n",
       "    var buttongrp = $('<div class=\"btn-group inline pull-right\"></div>');\n",
       "    var button = $('<button class=\"btn btn-mini btn-primary\" href=\"#\" title=\"Stop Interaction\"><i class=\"fa fa-power-off icon-remove icon-large\"></i></button>');\n",
       "    button.click(function (evt) { fig.handle_close(fig, {}); } );\n",
       "    button.mouseover('Stop Interaction', toolbar_mouse_event);\n",
       "    buttongrp.append(button);\n",
       "    var titlebar = this.root.find($('.ui-dialog-titlebar'));\n",
       "    titlebar.prepend(buttongrp);\n",
       "}\n",
       "\n",
       "mpl.figure.prototype._root_extra_style = function(el){\n",
       "    var fig = this\n",
       "    el.on(\"remove\", function(){\n",
       "\tfig.close_ws(fig, {});\n",
       "    });\n",
       "}\n",
       "\n",
       "mpl.figure.prototype._canvas_extra_style = function(el){\n",
       "    // this is important to make the div 'focusable\n",
       "    el.attr('tabindex', 0)\n",
       "    // reach out to IPython and tell the keyboard manager to turn it's self\n",
       "    // off when our div gets focus\n",
       "\n",
       "    // location in version 3\n",
       "    if (IPython.notebook.keyboard_manager) {\n",
       "        IPython.notebook.keyboard_manager.register_events(el);\n",
       "    }\n",
       "    else {\n",
       "        // location in version 2\n",
       "        IPython.keyboard_manager.register_events(el);\n",
       "    }\n",
       "\n",
       "}\n",
       "\n",
       "mpl.figure.prototype._key_event_extra = function(event, name) {\n",
       "    var manager = IPython.notebook.keyboard_manager;\n",
       "    if (!manager)\n",
       "        manager = IPython.keyboard_manager;\n",
       "\n",
       "    // Check for shift+enter\n",
       "    if (event.shiftKey && event.which == 13) {\n",
       "        this.canvas_div.blur();\n",
       "        event.shiftKey = false;\n",
       "        // Send a \"J\" for go to next cell\n",
       "        event.which = 74;\n",
       "        event.keyCode = 74;\n",
       "        manager.command_mode();\n",
       "        manager.handle_keydown(event);\n",
       "    }\n",
       "}\n",
       "\n",
       "mpl.figure.prototype.handle_save = function(fig, msg) {\n",
       "    fig.ondownload(fig, null);\n",
       "}\n",
       "\n",
       "\n",
       "mpl.find_output_cell = function(html_output) {\n",
       "    // Return the cell and output element which can be found *uniquely* in the notebook.\n",
       "    // Note - this is a bit hacky, but it is done because the \"notebook_saving.Notebook\"\n",
       "    // IPython event is triggered only after the cells have been serialised, which for\n",
       "    // our purposes (turning an active figure into a static one), is too late.\n",
       "    var cells = IPython.notebook.get_cells();\n",
       "    var ncells = cells.length;\n",
       "    for (var i=0; i<ncells; i++) {\n",
       "        var cell = cells[i];\n",
       "        if (cell.cell_type === 'code'){\n",
       "            for (var j=0; j<cell.output_area.outputs.length; j++) {\n",
       "                var data = cell.output_area.outputs[j];\n",
       "                if (data.data) {\n",
       "                    // IPython >= 3 moved mimebundle to data attribute of output\n",
       "                    data = data.data;\n",
       "                }\n",
       "                if (data['text/html'] == html_output) {\n",
       "                    return [cell, data, j];\n",
       "                }\n",
       "            }\n",
       "        }\n",
       "    }\n",
       "}\n",
       "\n",
       "// Register the function which deals with the matplotlib target/channel.\n",
       "// The kernel may be null if the page has been refreshed.\n",
       "if (IPython.notebook.kernel != null) {\n",
       "    IPython.notebook.kernel.comm_manager.register_target('matplotlib', mpl.mpl_figure_comm);\n",
       "}\n"
      ],
      "text/plain": [
       "<IPython.core.display.Javascript object>"
      ]
     },
     "metadata": {},
     "output_type": "display_data"
    },
    {
     "data": {
      "text/html": [
       "<img src=\"data:image/png;base64,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\" width=\"800\">"
      ],
      "text/plain": [
       "<IPython.core.display.HTML object>"
      ]
     },
     "metadata": {},
     "output_type": "display_data"
    },
    {
     "name": "stdout",
     "output_type": "stream",
     "text": [
      "Press Enter to stop.\n"
     ]
    }
   ],
   "source": [
    "%matplotlib notebook\n",
    "from graphs_RSA import *\n",
    "\n",
    "COUNT = 250\n",
    "\n",
    "minBit = 24\n",
    "bf_bit = 44\n",
    "ff_bit = 44\n",
    "knj_bit = 44\n",
    "rho_bit = 44\n",
    "\n",
    "testGraphs(minBit, bf_bit, ff_bit, knj_bit, rho_bit, COUNT)"
   ]
  },
  {
   "cell_type": "markdown",
   "metadata": {},
   "source": [
    "<img src=\"imgs/RSA.png\" alt=\"drawing\" style=\"width:90%;\"/>"
   ]
  }
 ],
 "metadata": {
  "kernelspec": {
   "display_name": "Python 3",
   "language": "python",
   "name": "python3"
  },
  "language_info": {
   "codemirror_mode": {
    "name": "ipython",
    "version": 3
   },
   "file_extension": ".py",
   "mimetype": "text/x-python",
   "name": "python",
   "nbconvert_exporter": "python",
   "pygments_lexer": "ipython3",
   "version": "3.7.1"
  }
 },
 "nbformat": 4,
 "nbformat_minor": 2
}
