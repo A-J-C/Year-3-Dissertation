{
 "cells": [
  {
   "cell_type": "markdown",
   "metadata": {},
   "source": [
    "# RSA Demonstration"
   ]
  },
  {
   "cell_type": "markdown",
   "metadata": {},
   "source": [
    "Import my RSA package into the environment"
   ]
  },
  {
   "cell_type": "code",
   "execution_count": 1,
   "metadata": {
    "scrolled": false
   },
   "outputs": [],
   "source": [
    "from RSA import *"
   ]
  },
  {
   "cell_type": "markdown",
   "metadata": {},
   "source": [
    "### Key Generation\n",
    "Declare the bit size we want to use"
   ]
  },
  {
   "cell_type": "code",
   "execution_count": 2,
   "metadata": {
    "scrolled": false
   },
   "outputs": [],
   "source": [
    "bitSize = 40"
   ]
  },
  {
   "cell_type": "markdown",
   "metadata": {},
   "source": [
    "Generate a set of RSA keys with appropriate bitsize"
   ]
  },
  {
   "cell_type": "code",
   "execution_count": 19,
   "metadata": {
    "scrolled": false
   },
   "outputs": [
    {
     "name": "stdout",
     "output_type": "stream",
     "text": [
      "================================================== \n",
      "Generating  23 bit prime... \n",
      "10 rounds of Miller-Rabin needed (according to FISC)\n",
      "Trial-Division prime list generated, size:  309\n",
      "New candidate... 5638397\n",
      "Prime of  23 bits found: 5638397\n",
      "Checked 1 candidates in 0.00 s\n",
      "================================================== \n",
      "Generating  23 bit prime... \n",
      "10 rounds of Miller-Rabin needed (according to FISC)\n",
      "Trial-Division prime list generated, size:  309\n",
      "New candidate... 6179183\n",
      "Prime of  23 bits found: 6179183\n",
      "Checked 1 candidates in 0.00 s\n",
      "\n",
      "p: 5638397\n",
      "q: 6179183\n",
      "\n",
      "n: 34840686889651\n",
      "e: 19326399959497\n",
      "n bit length: 45\n",
      "Private-Key, d: 6224807444529\n",
      "Public-Key: (34840686889651, 19326399959497)\n",
      "Private-Key: 6224807444529\n",
      "n is 45 bits\n",
      "\n"
     ]
    },
    {
     "data": {
      "text/plain": [
       "True"
      ]
     },
     "execution_count": 19,
     "metadata": {},
     "output_type": "execute_result"
    }
   ],
   "source": [
    "RSA_keys = generate_RSA.KeyGen(bitSize, True, True)     # initalise object True sets verbose and demo flag on KeyGen\n",
    "RSA_keys.generateKeys()                                 # runs generator"
   ]
  },
  {
   "cell_type": "markdown",
   "metadata": {},
   "source": [
    "### Brute Force Algorithm"
   ]
  },
  {
   "cell_type": "markdown",
   "metadata": {},
   "source": [
    "The simplest approach. \n",
    "\n",
    "- Take the $\\sqrt{n}$ and check if it divides n. \n",
    "- If it does not enumerate each odd smaller than $\\sqrt{n}$ until a factor is found. \n",
    "- $O(\\sqrt{n})$ (ignoring logarithmic test for division)"
   ]
  },
  {
   "cell_type": "code",
   "execution_count": 20,
   "metadata": {
    "scrolled": true
   },
   "outputs": [
    {
     "data": {
      "text/plain": [
       "'34840686889651 % 5638397 = 0'"
      ]
     },
     "metadata": {},
     "output_type": "display_data"
    },
    {
     "name": "stdout",
     "output_type": "stream",
     "text": [
      "p: 5638397\n",
      "q: 6179183\n",
      "Private-Key, d: 6224807444529\n",
      "Numbers checked: 132102\n",
      "Space used: 2 bytes\n",
      "Time taken: 5.146 s\n"
     ]
    },
    {
     "data": {
      "text/plain": [
       "True"
      ]
     },
     "execution_count": 20,
     "metadata": {},
     "output_type": "execute_result"
    }
   ],
   "source": [
    "bf = brute_force.BFSolver(RSA_keys.n, RSA_keys.e, True, True)   # pass it public keys, and True verbose & demo flag\n",
    "bf.solve()                                                      # run solver"
   ]
  },
  {
   "cell_type": "markdown",
   "metadata": {},
   "source": [
    "### Make it a bit harder"
   ]
  },
  {
   "cell_type": "code",
   "execution_count": 5,
   "metadata": {
    "scrolled": false
   },
   "outputs": [
    {
     "name": "stdout",
     "output_type": "stream",
     "text": [
      "Prime of  23 bits found: 7599047\n",
      "Checked 10 candidates in 0.00 s\n",
      "Prime of  23 bits found: 5966413\n",
      "Checked 8 candidates in 0.00 s\n",
      "\n",
      "p: 7599047\n",
      "q: 5966413\n",
      "\n",
      "n: 45339052808411\n",
      "e: 5216255554453\n",
      "n bit length: 46\n",
      "Private-Key, d: 25740546499933\n",
      "Public-Key: (45339052808411, 5216255554453)\n",
      "Private-Key: 25740546499933\n",
      "n is 46 bits\n",
      "\n"
     ]
    },
    {
     "data": {
      "text/plain": [
       "True"
      ]
     },
     "execution_count": 5,
     "metadata": {},
     "output_type": "execute_result"
    }
   ],
   "source": [
    "bitSize = 46\n",
    "\n",
    "RSA_keys = generate_RSA.KeyGen(bitSize, True)     # initalise object True sets verbose flag on KeyGen\n",
    "RSA_keys.generateKeys()                           # runs generator"
   ]
  },
  {
   "cell_type": "markdown",
   "metadata": {},
   "source": [
    "### Fermat's Factorisation Method"
   ]
  },
  {
   "cell_type": "markdown",
   "metadata": {},
   "source": [
    "Relies on Fermat’s observation that any odd number can be represented as the\n",
    "difference of two squares. \n",
    "\n",
    "- We again start with $γ ← \\sqrt{n}$\n",
    "- now we increment γ a single numberat a time until $γ^2 \\; mod \\; n \\; = \\; b^2$ where b is an integer. \n",
    "- then $\\{p,q\\} = γ \\pm b$\n",
    "- The worst-case time-complexity is exactlythe same as for brute-force, $O(\\sqrt{n})$"
   ]
  },
  {
   "cell_type": "code",
   "execution_count": 6,
   "metadata": {},
   "outputs": [
    {
     "data": {
      "text/plain": [
       "'sqrt(46005426252900 - 45339052808411) = 816317.0'"
      ]
     },
     "metadata": {},
     "output_type": "display_data"
    },
    {
     "name": "stdout",
     "output_type": "stream",
     "text": [
      "p: 5966413\n",
      "q: 7599047\n",
      "Private-Key, d: 25740546499933\n",
      "Numbers checked: 49303\n",
      "Space used: 6 bytes\n",
      "Time taken: 1.983 s\n"
     ]
    },
    {
     "data": {
      "text/plain": [
       "True"
      ]
     },
     "execution_count": 6,
     "metadata": {},
     "output_type": "execute_result"
    }
   ],
   "source": [
    "ff = fermats.FFSolver(RSA_keys.n, RSA_keys.e, True, True)   # pass it public keys, and True verbose & demo flag\n",
    "ff.solve()                                                  # run solver"
   ]
  },
  {
   "cell_type": "markdown",
   "metadata": {},
   "source": [
    "### KNJ - Factorisation"
   ]
  },
  {
   "cell_type": "markdown",
   "metadata": {},
   "source": [
    "The same as brute-force, but includes a check for prime numbers first. \n",
    "\n",
    "- Take the $\\sqrt{n}$ and check if it divides n. \n",
    "- If it does not enumerate each prime number smaller than $\\sqrt{n}$ until a factor is found. \n",
    "- $O(\\frac{\\sqrt{n}}{log(\\sqrt{n})})$ (estimation of the number of primes up to $\\sqrt{n}$"
   ]
  },
  {
   "cell_type": "code",
   "execution_count": 7,
   "metadata": {},
   "outputs": [
    {
     "data": {
      "text/plain": [
       "'45339052808411 % 5966413 = 0'"
      ]
     },
     "metadata": {},
     "output_type": "display_data"
    },
    {
     "name": "stdout",
     "output_type": "stream",
     "text": [
      "p: 5966413\n",
      "q: 7599047\n",
      "Private-Key, d: 25740546499933\n",
      "Numbers checked: 48934\n",
      "Space used: 919314 bytes\n",
      "Time taken: 1.906 s\n"
     ]
    },
    {
     "data": {
      "text/plain": [
       "True"
      ]
     },
     "execution_count": 7,
     "metadata": {},
     "output_type": "execute_result"
    }
   ],
   "source": [
    "knj = knj_factorisation.KNJSolver(RSA_keys.n, RSA_keys.e, True, True)   # pass it public keys, and True verbose & demo flag\n",
    "knj.solve()                                                             # run solver"
   ]
  },
  {
   "cell_type": "markdown",
   "metadata": {},
   "source": [
    "### Pollard's p-1 "
   ]
  },
  {
   "cell_type": "markdown",
   "metadata": {},
   "source": [
    "Is our first probabilistic algorithm:\n",
    "\n",
    "- Utilises Fermat's little theorem \n",
    "- for a semi-prime $n \\leftarrow pq$, if $x \\leftarrow a^{K(p-1)} \\equiv 1 \\; mod \\; p$ then the $gcd(x - 1, n)$ will be divisible by $p$\n",
    "- We use a B-powersmooth number to find this large multiple\n",
    "- If our B is too high and both p and q are B-powersmooth it fails\n",
    "- So is probabilistic and we have to backtrack our B (or increase it)"
   ]
  },
  {
   "cell_type": "code",
   "execution_count": 13,
   "metadata": {},
   "outputs": [
    {
     "data": {
      "text/plain": [
       "'Testing B = 1187'"
      ]
     },
     "metadata": {},
     "output_type": "display_data"
    },
    {
     "name": "stdout",
     "output_type": "stream",
     "text": [
      "p: 7599047\n",
      "q: 5966413\n",
      "Private-Key, d: 25740546499933\n",
      "Numbers checked: 302\n",
      "Space used: 0 bytes\n",
      "Time taken: 0.137 s\n"
     ]
    },
    {
     "data": {
      "text/plain": [
       "True"
      ]
     },
     "execution_count": 13,
     "metadata": {},
     "output_type": "execute_result"
    }
   ],
   "source": [
    "polMin = pollard_p_minus_1.PSolver(RSA_keys.n, RSA_keys.e, True, True)   # pass it public keys, and True verbose & demo flag\n",
    "polMin.solve()                                                           # run solver"
   ]
  },
  {
   "cell_type": "markdown",
   "metadata": {},
   "source": [
    "### Pollard's-$\\rho$ method\n"
   ]
  },
  {
   "cell_type": "markdown",
   "metadata": {},
   "source": []
  },
  {
   "cell_type": "code",
   "execution_count": 17,
   "metadata": {
    "scrolled": false
   },
   "outputs": [
    {
     "data": {
      "text/plain": [
       "'gcd(13786656544820 - 34631567340637, 45339052808411) = 5966413'"
      ]
     },
     "metadata": {},
     "output_type": "display_data"
    },
    {
     "name": "stdout",
     "output_type": "stream",
     "text": [
      "p: 5966413\n",
      "q: 7599047\n",
      "Private-Key, d: 25740546499933\n",
      "Numbers checked: 790\n",
      "Space used: 10 bytes\n",
      "Time taken: 0.126 s\n"
     ]
    },
    {
     "data": {
      "text/plain": [
       "True"
      ]
     },
     "execution_count": 17,
     "metadata": {},
     "output_type": "execute_result"
    }
   ],
   "source": [
    "rho = pollard_rho.RhoSolver(RSA_keys.n, RSA_keys.e, True, True)   # pass it public keys, and True verbose & demo flag\n",
    "rho.solve()                                                       # run solver"
   ]
  },
  {
   "cell_type": "markdown",
   "metadata": {},
   "source": [
    "### Quadratic Sieve"
   ]
  },
  {
   "cell_type": "markdown",
   "metadata": {},
   "source": []
  },
  {
   "cell_type": "code",
   "execution_count": 6,
   "metadata": {},
   "outputs": [
    {
     "name": "stdout",
     "output_type": "stream",
     "text": [
      "Prime of  10 bits found: 521\n",
      "Checked 8 candidates in 0.00 s\n",
      "Prime of  10 bits found: 853\n",
      "Checked 1 candidates in 0.00 s\n",
      "\n",
      "p: 521\n",
      "q: 853\n",
      "\n",
      "n: 444413\n",
      "e: 220771\n",
      "n bit length: 19\n",
      "Private-Key, d: 323851\n",
      "Public-Key: (444413, 220771)\n",
      "Private-Key: 323851\n",
      "n is 19 bits\n",
      "\n"
     ]
    },
    {
     "data": {
      "text/plain": [
       "True"
      ]
     },
     "execution_count": 6,
     "metadata": {},
     "output_type": "execute_result"
    }
   ],
   "source": [
    "# need to recalculate as only 100% guarenteed for these very small sizes \n",
    "\n",
    "bitSize = 20\n",
    "\n",
    "RSA_keys = generate_RSA.KeyGen(bitSize, True)     # initalise object True sets verbose flag on KeyGen\n",
    "RSA_keys.generateKeys()                           # runs generator"
   ]
  },
  {
   "cell_type": "code",
   "execution_count": 7,
   "metadata": {},
   "outputs": [
    {
     "name": "stdout",
     "output_type": "stream",
     "text": [
      "Length of possible primes: 503\n",
      "Length of primes with quadRes(n,p) == 1: 258 \n",
      "\n",
      "p: 521\n",
      "q: 853\n",
      "Private-Key, d: 323851\n",
      "Numbers checked: 13\n",
      "Space used: 133644 bytes\n",
      "Time taken: 0.054 s\n"
     ]
    },
    {
     "data": {
      "text/plain": [
       "True"
      ]
     },
     "execution_count": 7,
     "metadata": {},
     "output_type": "execute_result"
    }
   ],
   "source": [
    "quad = quadratic_sieve.QSolver(RSA_keys.n, RSA_keys.e, True, True)  # pass it public keys, and True verbose & demo flag\n",
    "quad.solve()                                                        # run solver"
   ]
  },
  {
   "cell_type": "markdown",
   "metadata": {},
   "source": [
    "### Basic Analysis\n",
    "Running the above algorithms on a variety of random inputs to create graphs showing general trends.\n",
    "\n",
    "The below style code makes the format of the graphs nicer"
   ]
  },
  {
   "cell_type": "code",
   "execution_count": 13,
   "metadata": {
    "scrolled": false
   },
   "outputs": [
    {
     "data": {
      "text/html": [
       "<style>\n",
       ".output_wrapper button.btn.btn-default,\n",
       ".output_wrapper .ui-dialog-titlebar {\n",
       "  display: none;\n",
       "}\n",
       "</style>\n"
      ],
      "text/plain": [
       "<IPython.core.display.HTML object>"
      ]
     },
     "metadata": {},
     "output_type": "display_data"
    }
   ],
   "source": [
    "%%html\n",
    "<style>\n",
    ".output_wrapper button.btn.btn-default,\n",
    ".output_wrapper .ui-dialog-titlebar {\n",
    "  display: none;\n",
    "}\n",
    "</style>"
   ]
  },
  {
   "cell_type": "markdown",
   "metadata": {},
   "source": [
    "Runs each algorithm in a thread and plots the results.\n",
    "\n",
    "- Blue = Brute Force\n",
    "- Orange = Fermat's Factoring Method\n",
    "- Green = Pollard's Rho"
   ]
  },
  {
   "cell_type": "code",
   "execution_count": null,
   "metadata": {
    "scrolled": false
   },
   "outputs": [],
   "source": [
    "%matplotlib notebook\n",
    "from graphs_RSA import *\n",
    "\n",
    "minBit = 10\n",
    "bf_bit = 25\n",
    "ff_bit = 25\n",
    "rho_bit = 25\n",
    "\n",
    "testGraphs(minBit, bf_bit, ff_bit, rho_bit)"
   ]
  }
 ],
 "metadata": {
  "kernelspec": {
   "display_name": "Python 3",
   "language": "python",
   "name": "python3"
  },
  "language_info": {
   "codemirror_mode": {
    "name": "ipython",
    "version": 3
   },
   "file_extension": ".py",
   "mimetype": "text/x-python",
   "name": "python",
   "nbconvert_exporter": "python",
   "pygments_lexer": "ipython3",
   "version": "3.7.1"
  }
 },
 "nbformat": 4,
 "nbformat_minor": 2
}
