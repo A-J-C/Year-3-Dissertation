{
 "cells": [
  {
   "cell_type": "markdown",
   "metadata": {},
   "source": [
    "# RSA Demonstration"
   ]
  },
  {
   "cell_type": "markdown",
   "metadata": {},
   "source": [
    "Import my RSA package into the environment"
   ]
  },
  {
   "cell_type": "code",
   "execution_count": 1,
   "metadata": {
    "scrolled": false
   },
   "outputs": [],
   "source": [
    "from RSA import *"
   ]
  },
  {
   "cell_type": "markdown",
   "metadata": {},
   "source": [
    "### Key Generation\n",
    "Declare the bit size we want to use"
   ]
  },
  {
   "cell_type": "code",
   "execution_count": 2,
   "metadata": {
    "scrolled": false
   },
   "outputs": [],
   "source": [
    "bitSize = 40"
   ]
  },
  {
   "cell_type": "markdown",
   "metadata": {},
   "source": [
    "Generate a set of RSA keys with appropriate bitsize"
   ]
  },
  {
   "cell_type": "code",
   "execution_count": 5,
   "metadata": {
    "scrolled": false
   },
   "outputs": [
    {
     "name": "stdout",
     "output_type": "stream",
     "text": [
      "================================================== \n",
      "Generating  20 bit prime... \n",
      "10 rounds of Miller-Rabin needed (according to FISC)\n",
      "Trial-Division prime list generated, size:  128\n",
      "New candidate... 937465\n",
      "New candidate... 913385\n",
      "New candidate... 628693\n",
      "New candidate... 852439\n",
      "New candidate... 1012981\n",
      "Prime of  20 bits found: 1012981\n",
      "Checked 5 candidates in 0.00 s\n",
      "================================================== \n",
      "Generating  20 bit prime... \n",
      "10 rounds of Miller-Rabin needed (according to FISC)\n",
      "Trial-Division prime list generated, size:  128\n",
      "New candidate... 769227\n",
      "New candidate... 767917\n",
      "New candidate... 569353\n",
      "New candidate... 714099\n",
      "New candidate... 785969\n",
      "New candidate... 1012015\n",
      "New candidate... 700615\n",
      "New candidate... 919405\n",
      "New candidate... 838729\n",
      "New candidate... 818267\n",
      "New candidate... 710323\n",
      "Prime of  20 bits found: 710323\n",
      "Checked 11 candidates in 0.00 s\n",
      "\n",
      "p: 1012981\n",
      "q: 710323\n",
      "\n",
      "n: 719543702863\n",
      "e: 469329960961\n",
      "n bit length: 40\n",
      "Private-Key, d: 312792417721\n",
      "Public-Key: (719543702863, 469329960961)\n",
      "Private-Key: 312792417721\n",
      "n is 40 bits\n",
      "\n"
     ]
    },
    {
     "data": {
      "text/plain": [
       "True"
      ]
     },
     "execution_count": 5,
     "metadata": {},
     "output_type": "execute_result"
    }
   ],
   "source": [
    "RSA_keys = generate_RSA.KeyGen(bitSize, True, True)     # initalise object True sets verbose and demo flag on KeyGen\n",
    "RSA_keys.generateKeys()                                 # runs generator"
   ]
  },
  {
   "cell_type": "markdown",
   "metadata": {},
   "source": [
    "### Brute Force Algorithm"
   ]
  },
  {
   "cell_type": "markdown",
   "metadata": {},
   "source": [
    "The simplest approach. \n",
    "\n",
    "- Take the $\\sqrt{n}$ and check if it divides n. \n",
    "- If it does not enumerate each odd smaller than $\\sqrt{n}$ until a factor is found. \n",
    "- $O(\\sqrt{n})$ (ignoring logarithmic test for division)"
   ]
  },
  {
   "cell_type": "code",
   "execution_count": 6,
   "metadata": {
    "scrolled": true
   },
   "outputs": [
    {
     "data": {
      "text/plain": [
       "'719543702863 % 710323 = 0'"
      ]
     },
     "metadata": {},
     "output_type": "display_data"
    },
    {
     "name": "stdout",
     "output_type": "stream",
     "text": [
      "p: 710323\n",
      "q: 1012981\n",
      "Private-Key, d: 312792417721\n",
      "Numbers checked: 68969\n",
      "Space used: 2 bytes\n",
      "Time taken: 2.763 s\n"
     ]
    },
    {
     "data": {
      "text/plain": [
       "True"
      ]
     },
     "execution_count": 6,
     "metadata": {},
     "output_type": "execute_result"
    }
   ],
   "source": [
    "bf = brute_force.BFSolver(RSA_keys.n, RSA_keys.e, True, True)   # pass it public keys, and True verbose & demo flag\n",
    "bf.solve()                                                      # run solver"
   ]
  },
  {
   "cell_type": "markdown",
   "metadata": {},
   "source": [
    "### Make it a bit harder"
   ]
  },
  {
   "cell_type": "code",
   "execution_count": 8,
   "metadata": {
    "scrolled": false
   },
   "outputs": [
    {
     "name": "stdout",
     "output_type": "stream",
     "text": [
      "Prime of  23 bits found: 5720401\n",
      "Checked 1 candidates in 0.00 s\n",
      "Prime of  23 bits found: 7168211\n",
      "Checked 5 candidates in 0.00 s\n",
      "\n",
      "p: 5720401\n",
      "q: 7168211\n",
      "\n",
      "n: 41005041372611\n",
      "e: 13635334791251\n",
      "n bit length: 46\n",
      "Private-Key, d: 15245459568251\n",
      "Public-Key: (41005041372611, 13635334791251)\n",
      "Private-Key: 15245459568251\n",
      "n is 46 bits\n",
      "\n"
     ]
    },
    {
     "data": {
      "text/plain": [
       "True"
      ]
     },
     "execution_count": 8,
     "metadata": {},
     "output_type": "execute_result"
    }
   ],
   "source": [
    "bitSize = 46\n",
    "\n",
    "RSA_keys = generate_RSA.KeyGen(bitSize, True)     # initalise object True sets verbose flag on KeyGen\n",
    "RSA_keys.generateKeys()                           # runs generator"
   ]
  },
  {
   "cell_type": "markdown",
   "metadata": {},
   "source": [
    "### Fermat's Factorisation Method"
   ]
  },
  {
   "cell_type": "markdown",
   "metadata": {},
   "source": [
    "Relies on Fermat’s observation that any odd number can be represented as the\n",
    "difference of two squares. \n",
    "\n",
    "- We again start with $γ ← \\sqrt{n}$\n",
    "- now we increment γ a single numberat a time until $γ^2 \\; mod \\; n \\; = \\; b^2$ where b is an integer. \n",
    "- then $\\{p,q\\} = γ \\pm b$\n",
    "- The worst-case time-complexity is exactlythe same as for brute-force, $O(\\sqrt{n})$"
   ]
  },
  {
   "cell_type": "code",
   "execution_count": 9,
   "metadata": {},
   "outputs": [
    {
     "data": {
      "text/plain": [
       "'sqrt(41529079821636 - 41005041372611) = 723905.0'"
      ]
     },
     "metadata": {},
     "output_type": "display_data"
    },
    {
     "name": "stdout",
     "output_type": "stream",
     "text": [
      "p: 5720401\n",
      "q: 7168211\n",
      "Private-Key, d: 15245459568251\n",
      "Numbers checked: 40790\n",
      "Space used: 6 bytes\n",
      "Time taken: 1.531 s\n"
     ]
    },
    {
     "data": {
      "text/plain": [
       "True"
      ]
     },
     "execution_count": 9,
     "metadata": {},
     "output_type": "execute_result"
    }
   ],
   "source": [
    "ff = fermats.FFSolver(RSA_keys.n, RSA_keys.e, True, True)   # pass it public keys, and True verbose & demo flag\n",
    "ff.solve()                                                  # run solver"
   ]
  },
  {
   "cell_type": "markdown",
   "metadata": {},
   "source": [
    "### KNJ - Factorisation"
   ]
  },
  {
   "cell_type": "markdown",
   "metadata": {},
   "source": [
    "The same as brute-force, but includes a check for prime numbers first. \n",
    "\n",
    "- Take the $\\sqrt{n}$ and check if it divides n. \n",
    "- If it does not enumerate each prime number smaller than $\\sqrt{n}$ until a factor is found. \n",
    "- $O(\\frac{\\sqrt{n}}{log(\\sqrt{n})})$ (estimation of the number of primes up to $\\sqrt{n}$)"
   ]
  },
  {
   "cell_type": "code",
   "execution_count": 10,
   "metadata": {},
   "outputs": [
    {
     "data": {
      "text/plain": [
       "'41005041372611 % 5720401 = 0'"
      ]
     },
     "metadata": {},
     "output_type": "display_data"
    },
    {
     "name": "stdout",
     "output_type": "stream",
     "text": [
      "p: 5720401\n",
      "q: 7168211\n",
      "Private-Key, d: 15245459568251\n",
      "Numbers checked: 43700\n",
      "Space used: 877260 bytes\n",
      "Time taken: 1.681 s\n"
     ]
    },
    {
     "data": {
      "text/plain": [
       "True"
      ]
     },
     "execution_count": 10,
     "metadata": {},
     "output_type": "execute_result"
    }
   ],
   "source": [
    "knj = knj_factorisation.KNJSolver(RSA_keys.n, RSA_keys.e, True, True)   # pass it public keys, and True verbose & demo flag\n",
    "knj.solve()                                                             # run solver"
   ]
  },
  {
   "cell_type": "markdown",
   "metadata": {},
   "source": [
    "### Pollard's p-1 "
   ]
  },
  {
   "cell_type": "markdown",
   "metadata": {},
   "source": [
    "Is our first probabilistic algorithm:\n",
    "\n",
    "- Utilises Fermat's little theorem \n",
    "- for a semi-prime $n \\leftarrow pq$, if $x \\leftarrow a^{K(p-1)} \\equiv 1 \\; mod \\; p$ then the $gcd(x - 1, n)$ will be divisible by $p$\n",
    "- We use a B-powersmooth number to find this large multiple\n",
    "- If our B is too high and both p and q are B-powersmooth it fails\n",
    "- So is probabilistic and we have to backtrack our B (or increase it)\n",
    "- $O(B \\log{B} \\log_2n)$"
   ]
  },
  {
   "cell_type": "code",
   "execution_count": 12,
   "metadata": {},
   "outputs": [
    {
     "data": {
      "text/plain": [
       "'Testing B = 229'"
      ]
     },
     "metadata": {},
     "output_type": "display_data"
    },
    {
     "name": "stdout",
     "output_type": "stream",
     "text": [
      "p: 5720401\n",
      "q: 7168211\n",
      "Private-Key, d: 15245459568251\n",
      "Numbers checked: 42\n",
      "Space used: 28 bytes\n",
      "Time taken: 0.007 s\n"
     ]
    },
    {
     "data": {
      "text/plain": [
       "True"
      ]
     },
     "execution_count": 12,
     "metadata": {},
     "output_type": "execute_result"
    }
   ],
   "source": [
    "polMin = pollard_p_minus_1.PSolver(RSA_keys.n, RSA_keys.e, True, True)   # pass it public keys, and True verbose & demo flag\n",
    "polMin.solve()                                                           # run solver"
   ]
  },
  {
   "cell_type": "markdown",
   "metadata": {},
   "source": [
    "### Pollard's-$\\rho$ method\n"
   ]
  },
  {
   "cell_type": "markdown",
   "metadata": {},
   "source": [
    "Another probabilistic method:\n",
    "\n",
    "- A random but known sequence is generated $\\{x_k \\; mod \\; n\\}$\n",
    "- This has a relation with the sequence mod a factor of $n$, $\\{x_k \\; mod \\; p\\}$\n",
    "- Send runners y and z around the sequence, one twice as fast as the other \n",
    "- $gcd(x_y - x_z, n)$ will return a non trivial answer if the smaller, $p$ cycle repeats itself\n",
    "- This is called Floyd's cycle detection\n",
    "- $O(n^{1/4})$ via the birthday-paradox"
   ]
  },
  {
   "cell_type": "code",
   "execution_count": 13,
   "metadata": {
    "scrolled": false
   },
   "outputs": [
    {
     "data": {
      "text/plain": [
       "'gcd(40465029823227 - 15700165432629, 41005041372611) = 7168211'"
      ]
     },
     "metadata": {},
     "output_type": "display_data"
    },
    {
     "name": "stdout",
     "output_type": "stream",
     "text": [
      "p: 7168211\n",
      "q: 5720401\n",
      "Private-Key, d: 15245459568251\n",
      "Numbers checked: 2147\n",
      "Space used: 10 bytes\n",
      "Time taken: 0.309 s\n"
     ]
    },
    {
     "data": {
      "text/plain": [
       "True"
      ]
     },
     "execution_count": 13,
     "metadata": {},
     "output_type": "execute_result"
    }
   ],
   "source": [
    "rho = pollard_rho.RhoSolver(RSA_keys.n, RSA_keys.e, True, True)   # pass it public keys, and True verbose & demo flag\n",
    "rho.solve()                                                       # run solver"
   ]
  },
  {
   "cell_type": "markdown",
   "metadata": {},
   "source": [
    "### Quadratic Sieve"
   ]
  },
  {
   "cell_type": "markdown",
   "metadata": {},
   "source": [
    "In essence, this is advanced Fermat's Factoring:\n",
    "\n",
    "- We no longer care about testing for one $\\beta \\leftarrow a^2 \\; mod \\; n$ until $\\beta$ is a square number\n",
    "- We instead build a congruence of squares, s.t. the product is a square ($b^2 \\leftarrow \\beta _1 * ... * \\beta _k \\; s.t. \\; b \\in N $)\n",
    "- Again a smoothness bound, B, is used to ensure each $\\beta$ can be fully factored over a small number of primes \n",
    "- A matrix is then built of prime-exponent vectors for each $\\beta$\n",
    "- Matrix elimination is then applied to find the zero vector, which means the number produced is square\n",
    "- This sum of vectors used to produce the zero vectors can then be used to determine the factors\n",
    "- A hard time-complexity to define, but should be sub-exponential"
   ]
  },
  {
   "cell_type": "code",
   "execution_count": 14,
   "metadata": {},
   "outputs": [
    {
     "name": "stdout",
     "output_type": "stream",
     "text": [
      "Prime of  10 bits found: 727\n",
      "Checked 4 candidates in 0.00 s\n",
      "Prime of  10 bits found: 1013\n",
      "Checked 2 candidates in 0.00 s\n",
      "\n",
      "p: 727\n",
      "q: 1013\n",
      "\n",
      "n: 736451\n",
      "e: 470269\n",
      "n bit length: 20\n",
      "Private-Key, d: 230941\n",
      "Public-Key: (736451, 470269)\n",
      "Private-Key: 230941\n",
      "n is 20 bits\n",
      "\n"
     ]
    },
    {
     "data": {
      "text/plain": [
       "True"
      ]
     },
     "execution_count": 14,
     "metadata": {},
     "output_type": "execute_result"
    }
   ],
   "source": [
    "# need to recalculate as only 100% guarenteed for these very small sizes \n",
    "\n",
    "bitSize = 20\n",
    "\n",
    "RSA_keys = generate_RSA.KeyGen(bitSize, True)     # initalise object True sets verbose flag on KeyGen\n",
    "RSA_keys.generateKeys()                           # runs generator"
   ]
  },
  {
   "cell_type": "code",
   "execution_count": 15,
   "metadata": {},
   "outputs": [
    {
     "name": "stdout",
     "output_type": "stream",
     "text": [
      "Length of possible primes: 528\n",
      "Length of primes with quadRes(n,p) == 1: 265 \n",
      "\n",
      "p: 727\n",
      "q: 1013\n",
      "Private-Key, d: 230941\n",
      "Numbers checked: 89\n",
      "Space used: 140980 bytes\n",
      "Time taken: 0.203 s\n"
     ]
    },
    {
     "data": {
      "text/plain": [
       "True"
      ]
     },
     "execution_count": 15,
     "metadata": {},
     "output_type": "execute_result"
    }
   ],
   "source": [
    "quad = quadratic_sieve.QSolver(RSA_keys.n, RSA_keys.e, True, True)  # pass it public keys, and True verbose & demo flag\n",
    "quad.solve()                                                        # run solver"
   ]
  },
  {
   "cell_type": "markdown",
   "metadata": {},
   "source": [
    "### Basic Analysis\n",
    "Running the above algorithms on a variety of random inputs to create graphs showing general trends.\n",
    "\n",
    "The below style code makes the format of the graphs nicer"
   ]
  },
  {
   "cell_type": "code",
   "execution_count": 16,
   "metadata": {
    "scrolled": false
   },
   "outputs": [
    {
     "data": {
      "text/html": [
       "<style>\n",
       ".output_wrapper button.btn.btn-default,\n",
       ".output_wrapper .ui-dialog-titlebar {\n",
       "  display: none;\n",
       "}\n",
       "</style>\n"
      ],
      "text/plain": [
       "<IPython.core.display.HTML object>"
      ]
     },
     "metadata": {},
     "output_type": "display_data"
    }
   ],
   "source": [
    "%%html\n",
    "<style>\n",
    ".output_wrapper button.btn.btn-default,\n",
    ".output_wrapper .ui-dialog-titlebar {\n",
    "  display: none;\n",
    "}\n",
    "</style>"
   ]
  },
  {
   "cell_type": "markdown",
   "metadata": {},
   "source": [
    "Runs each algorithm in a thread and plots the results."
   ]
  },
  {
   "cell_type": "code",
   "execution_count": 17,
   "metadata": {
    "scrolled": false
   },
   "outputs": [
    {
     "data": {
      "application/javascript": [
       "/* Put everything inside the global mpl namespace */\n",
       "window.mpl = {};\n",
       "\n",
       "\n",
       "mpl.get_websocket_type = function() {\n",
       "    if (typeof(WebSocket) !== 'undefined') {\n",
       "        return WebSocket;\n",
       "    } else if (typeof(MozWebSocket) !== 'undefined') {\n",
       "        return MozWebSocket;\n",
       "    } else {\n",
       "        alert('Your browser does not have WebSocket support.' +\n",
       "              'Please try Chrome, Safari or Firefox ≥ 6. ' +\n",
       "              'Firefox 4 and 5 are also supported but you ' +\n",
       "              'have to enable WebSockets in about:config.');\n",
       "    };\n",
       "}\n",
       "\n",
       "mpl.figure = function(figure_id, websocket, ondownload, parent_element) {\n",
       "    this.id = figure_id;\n",
       "\n",
       "    this.ws = websocket;\n",
       "\n",
       "    this.supports_binary = (this.ws.binaryType != undefined);\n",
       "\n",
       "    if (!this.supports_binary) {\n",
       "        var warnings = document.getElementById(\"mpl-warnings\");\n",
       "        if (warnings) {\n",
       "            warnings.style.display = 'block';\n",
       "            warnings.textContent = (\n",
       "                \"This browser does not support binary websocket messages. \" +\n",
       "                    \"Performance may be slow.\");\n",
       "        }\n",
       "    }\n",
       "\n",
       "    this.imageObj = new Image();\n",
       "\n",
       "    this.context = undefined;\n",
       "    this.message = undefined;\n",
       "    this.canvas = undefined;\n",
       "    this.rubberband_canvas = undefined;\n",
       "    this.rubberband_context = undefined;\n",
       "    this.format_dropdown = undefined;\n",
       "\n",
       "    this.image_mode = 'full';\n",
       "\n",
       "    this.root = $('<div/>');\n",
       "    this._root_extra_style(this.root)\n",
       "    this.root.attr('style', 'display: inline-block');\n",
       "\n",
       "    $(parent_element).append(this.root);\n",
       "\n",
       "    this._init_header(this);\n",
       "    this._init_canvas(this);\n",
       "    this._init_toolbar(this);\n",
       "\n",
       "    var fig = this;\n",
       "\n",
       "    this.waiting = false;\n",
       "\n",
       "    this.ws.onopen =  function () {\n",
       "            fig.send_message(\"supports_binary\", {value: fig.supports_binary});\n",
       "            fig.send_message(\"send_image_mode\", {});\n",
       "            if (mpl.ratio != 1) {\n",
       "                fig.send_message(\"set_dpi_ratio\", {'dpi_ratio': mpl.ratio});\n",
       "            }\n",
       "            fig.send_message(\"refresh\", {});\n",
       "        }\n",
       "\n",
       "    this.imageObj.onload = function() {\n",
       "            if (fig.image_mode == 'full') {\n",
       "                // Full images could contain transparency (where diff images\n",
       "                // almost always do), so we need to clear the canvas so that\n",
       "                // there is no ghosting.\n",
       "                fig.context.clearRect(0, 0, fig.canvas.width, fig.canvas.height);\n",
       "            }\n",
       "            fig.context.drawImage(fig.imageObj, 0, 0);\n",
       "        };\n",
       "\n",
       "    this.imageObj.onunload = function() {\n",
       "        fig.ws.close();\n",
       "    }\n",
       "\n",
       "    this.ws.onmessage = this._make_on_message_function(this);\n",
       "\n",
       "    this.ondownload = ondownload;\n",
       "}\n",
       "\n",
       "mpl.figure.prototype._init_header = function() {\n",
       "    var titlebar = $(\n",
       "        '<div class=\"ui-dialog-titlebar ui-widget-header ui-corner-all ' +\n",
       "        'ui-helper-clearfix\"/>');\n",
       "    var titletext = $(\n",
       "        '<div class=\"ui-dialog-title\" style=\"width: 100%; ' +\n",
       "        'text-align: center; padding: 3px;\"/>');\n",
       "    titlebar.append(titletext)\n",
       "    this.root.append(titlebar);\n",
       "    this.header = titletext[0];\n",
       "}\n",
       "\n",
       "\n",
       "\n",
       "mpl.figure.prototype._canvas_extra_style = function(canvas_div) {\n",
       "\n",
       "}\n",
       "\n",
       "\n",
       "mpl.figure.prototype._root_extra_style = function(canvas_div) {\n",
       "\n",
       "}\n",
       "\n",
       "mpl.figure.prototype._init_canvas = function() {\n",
       "    var fig = this;\n",
       "\n",
       "    var canvas_div = $('<div/>');\n",
       "\n",
       "    canvas_div.attr('style', 'position: relative; clear: both; outline: 0');\n",
       "\n",
       "    function canvas_keyboard_event(event) {\n",
       "        return fig.key_event(event, event['data']);\n",
       "    }\n",
       "\n",
       "    canvas_div.keydown('key_press', canvas_keyboard_event);\n",
       "    canvas_div.keyup('key_release', canvas_keyboard_event);\n",
       "    this.canvas_div = canvas_div\n",
       "    this._canvas_extra_style(canvas_div)\n",
       "    this.root.append(canvas_div);\n",
       "\n",
       "    var canvas = $('<canvas/>');\n",
       "    canvas.addClass('mpl-canvas');\n",
       "    canvas.attr('style', \"left: 0; top: 0; z-index: 0; outline: 0\")\n",
       "\n",
       "    this.canvas = canvas[0];\n",
       "    this.context = canvas[0].getContext(\"2d\");\n",
       "\n",
       "    var backingStore = this.context.backingStorePixelRatio ||\n",
       "\tthis.context.webkitBackingStorePixelRatio ||\n",
       "\tthis.context.mozBackingStorePixelRatio ||\n",
       "\tthis.context.msBackingStorePixelRatio ||\n",
       "\tthis.context.oBackingStorePixelRatio ||\n",
       "\tthis.context.backingStorePixelRatio || 1;\n",
       "\n",
       "    mpl.ratio = (window.devicePixelRatio || 1) / backingStore;\n",
       "\n",
       "    var rubberband = $('<canvas/>');\n",
       "    rubberband.attr('style', \"position: absolute; left: 0; top: 0; z-index: 1;\")\n",
       "\n",
       "    var pass_mouse_events = true;\n",
       "\n",
       "    canvas_div.resizable({\n",
       "        start: function(event, ui) {\n",
       "            pass_mouse_events = false;\n",
       "        },\n",
       "        resize: function(event, ui) {\n",
       "            fig.request_resize(ui.size.width, ui.size.height);\n",
       "        },\n",
       "        stop: function(event, ui) {\n",
       "            pass_mouse_events = true;\n",
       "            fig.request_resize(ui.size.width, ui.size.height);\n",
       "        },\n",
       "    });\n",
       "\n",
       "    function mouse_event_fn(event) {\n",
       "        if (pass_mouse_events)\n",
       "            return fig.mouse_event(event, event['data']);\n",
       "    }\n",
       "\n",
       "    rubberband.mousedown('button_press', mouse_event_fn);\n",
       "    rubberband.mouseup('button_release', mouse_event_fn);\n",
       "    // Throttle sequential mouse events to 1 every 20ms.\n",
       "    rubberband.mousemove('motion_notify', mouse_event_fn);\n",
       "\n",
       "    rubberband.mouseenter('figure_enter', mouse_event_fn);\n",
       "    rubberband.mouseleave('figure_leave', mouse_event_fn);\n",
       "\n",
       "    canvas_div.on(\"wheel\", function (event) {\n",
       "        event = event.originalEvent;\n",
       "        event['data'] = 'scroll'\n",
       "        if (event.deltaY < 0) {\n",
       "            event.step = 1;\n",
       "        } else {\n",
       "            event.step = -1;\n",
       "        }\n",
       "        mouse_event_fn(event);\n",
       "    });\n",
       "\n",
       "    canvas_div.append(canvas);\n",
       "    canvas_div.append(rubberband);\n",
       "\n",
       "    this.rubberband = rubberband;\n",
       "    this.rubberband_canvas = rubberband[0];\n",
       "    this.rubberband_context = rubberband[0].getContext(\"2d\");\n",
       "    this.rubberband_context.strokeStyle = \"#000000\";\n",
       "\n",
       "    this._resize_canvas = function(width, height) {\n",
       "        // Keep the size of the canvas, canvas container, and rubber band\n",
       "        // canvas in synch.\n",
       "        canvas_div.css('width', width)\n",
       "        canvas_div.css('height', height)\n",
       "\n",
       "        canvas.attr('width', width * mpl.ratio);\n",
       "        canvas.attr('height', height * mpl.ratio);\n",
       "        canvas.attr('style', 'width: ' + width + 'px; height: ' + height + 'px;');\n",
       "\n",
       "        rubberband.attr('width', width);\n",
       "        rubberband.attr('height', height);\n",
       "    }\n",
       "\n",
       "    // Set the figure to an initial 600x600px, this will subsequently be updated\n",
       "    // upon first draw.\n",
       "    this._resize_canvas(600, 600);\n",
       "\n",
       "    // Disable right mouse context menu.\n",
       "    $(this.rubberband_canvas).bind(\"contextmenu\",function(e){\n",
       "        return false;\n",
       "    });\n",
       "\n",
       "    function set_focus () {\n",
       "        canvas.focus();\n",
       "        canvas_div.focus();\n",
       "    }\n",
       "\n",
       "    window.setTimeout(set_focus, 100);\n",
       "}\n",
       "\n",
       "mpl.figure.prototype._init_toolbar = function() {\n",
       "    var fig = this;\n",
       "\n",
       "    var nav_element = $('<div/>')\n",
       "    nav_element.attr('style', 'width: 100%');\n",
       "    this.root.append(nav_element);\n",
       "\n",
       "    // Define a callback function for later on.\n",
       "    function toolbar_event(event) {\n",
       "        return fig.toolbar_button_onclick(event['data']);\n",
       "    }\n",
       "    function toolbar_mouse_event(event) {\n",
       "        return fig.toolbar_button_onmouseover(event['data']);\n",
       "    }\n",
       "\n",
       "    for(var toolbar_ind in mpl.toolbar_items) {\n",
       "        var name = mpl.toolbar_items[toolbar_ind][0];\n",
       "        var tooltip = mpl.toolbar_items[toolbar_ind][1];\n",
       "        var image = mpl.toolbar_items[toolbar_ind][2];\n",
       "        var method_name = mpl.toolbar_items[toolbar_ind][3];\n",
       "\n",
       "        if (!name) {\n",
       "            // put a spacer in here.\n",
       "            continue;\n",
       "        }\n",
       "        var button = $('<button/>');\n",
       "        button.addClass('ui-button ui-widget ui-state-default ui-corner-all ' +\n",
       "                        'ui-button-icon-only');\n",
       "        button.attr('role', 'button');\n",
       "        button.attr('aria-disabled', 'false');\n",
       "        button.click(method_name, toolbar_event);\n",
       "        button.mouseover(tooltip, toolbar_mouse_event);\n",
       "\n",
       "        var icon_img = $('<span/>');\n",
       "        icon_img.addClass('ui-button-icon-primary ui-icon');\n",
       "        icon_img.addClass(image);\n",
       "        icon_img.addClass('ui-corner-all');\n",
       "\n",
       "        var tooltip_span = $('<span/>');\n",
       "        tooltip_span.addClass('ui-button-text');\n",
       "        tooltip_span.html(tooltip);\n",
       "\n",
       "        button.append(icon_img);\n",
       "        button.append(tooltip_span);\n",
       "\n",
       "        nav_element.append(button);\n",
       "    }\n",
       "\n",
       "    var fmt_picker_span = $('<span/>');\n",
       "\n",
       "    var fmt_picker = $('<select/>');\n",
       "    fmt_picker.addClass('mpl-toolbar-option ui-widget ui-widget-content');\n",
       "    fmt_picker_span.append(fmt_picker);\n",
       "    nav_element.append(fmt_picker_span);\n",
       "    this.format_dropdown = fmt_picker[0];\n",
       "\n",
       "    for (var ind in mpl.extensions) {\n",
       "        var fmt = mpl.extensions[ind];\n",
       "        var option = $(\n",
       "            '<option/>', {selected: fmt === mpl.default_extension}).html(fmt);\n",
       "        fmt_picker.append(option)\n",
       "    }\n",
       "\n",
       "    // Add hover states to the ui-buttons\n",
       "    $( \".ui-button\" ).hover(\n",
       "        function() { $(this).addClass(\"ui-state-hover\");},\n",
       "        function() { $(this).removeClass(\"ui-state-hover\");}\n",
       "    );\n",
       "\n",
       "    var status_bar = $('<span class=\"mpl-message\"/>');\n",
       "    nav_element.append(status_bar);\n",
       "    this.message = status_bar[0];\n",
       "}\n",
       "\n",
       "mpl.figure.prototype.request_resize = function(x_pixels, y_pixels) {\n",
       "    // Request matplotlib to resize the figure. Matplotlib will then trigger a resize in the client,\n",
       "    // which will in turn request a refresh of the image.\n",
       "    this.send_message('resize', {'width': x_pixels, 'height': y_pixels});\n",
       "}\n",
       "\n",
       "mpl.figure.prototype.send_message = function(type, properties) {\n",
       "    properties['type'] = type;\n",
       "    properties['figure_id'] = this.id;\n",
       "    this.ws.send(JSON.stringify(properties));\n",
       "}\n",
       "\n",
       "mpl.figure.prototype.send_draw_message = function() {\n",
       "    if (!this.waiting) {\n",
       "        this.waiting = true;\n",
       "        this.ws.send(JSON.stringify({type: \"draw\", figure_id: this.id}));\n",
       "    }\n",
       "}\n",
       "\n",
       "\n",
       "mpl.figure.prototype.handle_save = function(fig, msg) {\n",
       "    var format_dropdown = fig.format_dropdown;\n",
       "    var format = format_dropdown.options[format_dropdown.selectedIndex].value;\n",
       "    fig.ondownload(fig, format);\n",
       "}\n",
       "\n",
       "\n",
       "mpl.figure.prototype.handle_resize = function(fig, msg) {\n",
       "    var size = msg['size'];\n",
       "    if (size[0] != fig.canvas.width || size[1] != fig.canvas.height) {\n",
       "        fig._resize_canvas(size[0], size[1]);\n",
       "        fig.send_message(\"refresh\", {});\n",
       "    };\n",
       "}\n",
       "\n",
       "mpl.figure.prototype.handle_rubberband = function(fig, msg) {\n",
       "    var x0 = msg['x0'] / mpl.ratio;\n",
       "    var y0 = (fig.canvas.height - msg['y0']) / mpl.ratio;\n",
       "    var x1 = msg['x1'] / mpl.ratio;\n",
       "    var y1 = (fig.canvas.height - msg['y1']) / mpl.ratio;\n",
       "    x0 = Math.floor(x0) + 0.5;\n",
       "    y0 = Math.floor(y0) + 0.5;\n",
       "    x1 = Math.floor(x1) + 0.5;\n",
       "    y1 = Math.floor(y1) + 0.5;\n",
       "    var min_x = Math.min(x0, x1);\n",
       "    var min_y = Math.min(y0, y1);\n",
       "    var width = Math.abs(x1 - x0);\n",
       "    var height = Math.abs(y1 - y0);\n",
       "\n",
       "    fig.rubberband_context.clearRect(\n",
       "        0, 0, fig.canvas.width, fig.canvas.height);\n",
       "\n",
       "    fig.rubberband_context.strokeRect(min_x, min_y, width, height);\n",
       "}\n",
       "\n",
       "mpl.figure.prototype.handle_figure_label = function(fig, msg) {\n",
       "    // Updates the figure title.\n",
       "    fig.header.textContent = msg['label'];\n",
       "}\n",
       "\n",
       "mpl.figure.prototype.handle_cursor = function(fig, msg) {\n",
       "    var cursor = msg['cursor'];\n",
       "    switch(cursor)\n",
       "    {\n",
       "    case 0:\n",
       "        cursor = 'pointer';\n",
       "        break;\n",
       "    case 1:\n",
       "        cursor = 'default';\n",
       "        break;\n",
       "    case 2:\n",
       "        cursor = 'crosshair';\n",
       "        break;\n",
       "    case 3:\n",
       "        cursor = 'move';\n",
       "        break;\n",
       "    }\n",
       "    fig.rubberband_canvas.style.cursor = cursor;\n",
       "}\n",
       "\n",
       "mpl.figure.prototype.handle_message = function(fig, msg) {\n",
       "    fig.message.textContent = msg['message'];\n",
       "}\n",
       "\n",
       "mpl.figure.prototype.handle_draw = function(fig, msg) {\n",
       "    // Request the server to send over a new figure.\n",
       "    fig.send_draw_message();\n",
       "}\n",
       "\n",
       "mpl.figure.prototype.handle_image_mode = function(fig, msg) {\n",
       "    fig.image_mode = msg['mode'];\n",
       "}\n",
       "\n",
       "mpl.figure.prototype.updated_canvas_event = function() {\n",
       "    // Called whenever the canvas gets updated.\n",
       "    this.send_message(\"ack\", {});\n",
       "}\n",
       "\n",
       "// A function to construct a web socket function for onmessage handling.\n",
       "// Called in the figure constructor.\n",
       "mpl.figure.prototype._make_on_message_function = function(fig) {\n",
       "    return function socket_on_message(evt) {\n",
       "        if (evt.data instanceof Blob) {\n",
       "            /* FIXME: We get \"Resource interpreted as Image but\n",
       "             * transferred with MIME type text/plain:\" errors on\n",
       "             * Chrome.  But how to set the MIME type?  It doesn't seem\n",
       "             * to be part of the websocket stream */\n",
       "            evt.data.type = \"image/png\";\n",
       "\n",
       "            /* Free the memory for the previous frames */\n",
       "            if (fig.imageObj.src) {\n",
       "                (window.URL || window.webkitURL).revokeObjectURL(\n",
       "                    fig.imageObj.src);\n",
       "            }\n",
       "\n",
       "            fig.imageObj.src = (window.URL || window.webkitURL).createObjectURL(\n",
       "                evt.data);\n",
       "            fig.updated_canvas_event();\n",
       "            fig.waiting = false;\n",
       "            return;\n",
       "        }\n",
       "        else if (typeof evt.data === 'string' && evt.data.slice(0, 21) == \"data:image/png;base64\") {\n",
       "            fig.imageObj.src = evt.data;\n",
       "            fig.updated_canvas_event();\n",
       "            fig.waiting = false;\n",
       "            return;\n",
       "        }\n",
       "\n",
       "        var msg = JSON.parse(evt.data);\n",
       "        var msg_type = msg['type'];\n",
       "\n",
       "        // Call the  \"handle_{type}\" callback, which takes\n",
       "        // the figure and JSON message as its only arguments.\n",
       "        try {\n",
       "            var callback = fig[\"handle_\" + msg_type];\n",
       "        } catch (e) {\n",
       "            console.log(\"No handler for the '\" + msg_type + \"' message type: \", msg);\n",
       "            return;\n",
       "        }\n",
       "\n",
       "        if (callback) {\n",
       "            try {\n",
       "                // console.log(\"Handling '\" + msg_type + \"' message: \", msg);\n",
       "                callback(fig, msg);\n",
       "            } catch (e) {\n",
       "                console.log(\"Exception inside the 'handler_\" + msg_type + \"' callback:\", e, e.stack, msg);\n",
       "            }\n",
       "        }\n",
       "    };\n",
       "}\n",
       "\n",
       "// from http://stackoverflow.com/questions/1114465/getting-mouse-location-in-canvas\n",
       "mpl.findpos = function(e) {\n",
       "    //this section is from http://www.quirksmode.org/js/events_properties.html\n",
       "    var targ;\n",
       "    if (!e)\n",
       "        e = window.event;\n",
       "    if (e.target)\n",
       "        targ = e.target;\n",
       "    else if (e.srcElement)\n",
       "        targ = e.srcElement;\n",
       "    if (targ.nodeType == 3) // defeat Safari bug\n",
       "        targ = targ.parentNode;\n",
       "\n",
       "    // jQuery normalizes the pageX and pageY\n",
       "    // pageX,Y are the mouse positions relative to the document\n",
       "    // offset() returns the position of the element relative to the document\n",
       "    var x = e.pageX - $(targ).offset().left;\n",
       "    var y = e.pageY - $(targ).offset().top;\n",
       "\n",
       "    return {\"x\": x, \"y\": y};\n",
       "};\n",
       "\n",
       "/*\n",
       " * return a copy of an object with only non-object keys\n",
       " * we need this to avoid circular references\n",
       " * http://stackoverflow.com/a/24161582/3208463\n",
       " */\n",
       "function simpleKeys (original) {\n",
       "  return Object.keys(original).reduce(function (obj, key) {\n",
       "    if (typeof original[key] !== 'object')\n",
       "        obj[key] = original[key]\n",
       "    return obj;\n",
       "  }, {});\n",
       "}\n",
       "\n",
       "mpl.figure.prototype.mouse_event = function(event, name) {\n",
       "    var canvas_pos = mpl.findpos(event)\n",
       "\n",
       "    if (name === 'button_press')\n",
       "    {\n",
       "        this.canvas.focus();\n",
       "        this.canvas_div.focus();\n",
       "    }\n",
       "\n",
       "    var x = canvas_pos.x * mpl.ratio;\n",
       "    var y = canvas_pos.y * mpl.ratio;\n",
       "\n",
       "    this.send_message(name, {x: x, y: y, button: event.button,\n",
       "                             step: event.step,\n",
       "                             guiEvent: simpleKeys(event)});\n",
       "\n",
       "    /* This prevents the web browser from automatically changing to\n",
       "     * the text insertion cursor when the button is pressed.  We want\n",
       "     * to control all of the cursor setting manually through the\n",
       "     * 'cursor' event from matplotlib */\n",
       "    event.preventDefault();\n",
       "    return false;\n",
       "}\n",
       "\n",
       "mpl.figure.prototype._key_event_extra = function(event, name) {\n",
       "    // Handle any extra behaviour associated with a key event\n",
       "}\n",
       "\n",
       "mpl.figure.prototype.key_event = function(event, name) {\n",
       "\n",
       "    // Prevent repeat events\n",
       "    if (name == 'key_press')\n",
       "    {\n",
       "        if (event.which === this._key)\n",
       "            return;\n",
       "        else\n",
       "            this._key = event.which;\n",
       "    }\n",
       "    if (name == 'key_release')\n",
       "        this._key = null;\n",
       "\n",
       "    var value = '';\n",
       "    if (event.ctrlKey && event.which != 17)\n",
       "        value += \"ctrl+\";\n",
       "    if (event.altKey && event.which != 18)\n",
       "        value += \"alt+\";\n",
       "    if (event.shiftKey && event.which != 16)\n",
       "        value += \"shift+\";\n",
       "\n",
       "    value += 'k';\n",
       "    value += event.which.toString();\n",
       "\n",
       "    this._key_event_extra(event, name);\n",
       "\n",
       "    this.send_message(name, {key: value,\n",
       "                             guiEvent: simpleKeys(event)});\n",
       "    return false;\n",
       "}\n",
       "\n",
       "mpl.figure.prototype.toolbar_button_onclick = function(name) {\n",
       "    if (name == 'download') {\n",
       "        this.handle_save(this, null);\n",
       "    } else {\n",
       "        this.send_message(\"toolbar_button\", {name: name});\n",
       "    }\n",
       "};\n",
       "\n",
       "mpl.figure.prototype.toolbar_button_onmouseover = function(tooltip) {\n",
       "    this.message.textContent = tooltip;\n",
       "};\n",
       "mpl.toolbar_items = [[\"Home\", \"Reset original view\", \"fa fa-home icon-home\", \"home\"], [\"Back\", \"Back to previous view\", \"fa fa-arrow-left icon-arrow-left\", \"back\"], [\"Forward\", \"Forward to next view\", \"fa fa-arrow-right icon-arrow-right\", \"forward\"], [\"\", \"\", \"\", \"\"], [\"Pan\", \"Pan axes with left mouse, zoom with right\", \"fa fa-arrows icon-move\", \"pan\"], [\"Zoom\", \"Zoom to rectangle\", \"fa fa-square-o icon-check-empty\", \"zoom\"], [\"\", \"\", \"\", \"\"], [\"Download\", \"Download plot\", \"fa fa-floppy-o icon-save\", \"download\"]];\n",
       "\n",
       "mpl.extensions = [\"eps\", \"jpeg\", \"pdf\", \"png\", \"ps\", \"raw\", \"svg\", \"tif\"];\n",
       "\n",
       "mpl.default_extension = \"png\";var comm_websocket_adapter = function(comm) {\n",
       "    // Create a \"websocket\"-like object which calls the given IPython comm\n",
       "    // object with the appropriate methods. Currently this is a non binary\n",
       "    // socket, so there is still some room for performance tuning.\n",
       "    var ws = {};\n",
       "\n",
       "    ws.close = function() {\n",
       "        comm.close()\n",
       "    };\n",
       "    ws.send = function(m) {\n",
       "        //console.log('sending', m);\n",
       "        comm.send(m);\n",
       "    };\n",
       "    // Register the callback with on_msg.\n",
       "    comm.on_msg(function(msg) {\n",
       "        //console.log('receiving', msg['content']['data'], msg);\n",
       "        // Pass the mpl event to the overridden (by mpl) onmessage function.\n",
       "        ws.onmessage(msg['content']['data'])\n",
       "    });\n",
       "    return ws;\n",
       "}\n",
       "\n",
       "mpl.mpl_figure_comm = function(comm, msg) {\n",
       "    // This is the function which gets called when the mpl process\n",
       "    // starts-up an IPython Comm through the \"matplotlib\" channel.\n",
       "\n",
       "    var id = msg.content.data.id;\n",
       "    // Get hold of the div created by the display call when the Comm\n",
       "    // socket was opened in Python.\n",
       "    var element = $(\"#\" + id);\n",
       "    var ws_proxy = comm_websocket_adapter(comm)\n",
       "\n",
       "    function ondownload(figure, format) {\n",
       "        window.open(figure.imageObj.src);\n",
       "    }\n",
       "\n",
       "    var fig = new mpl.figure(id, ws_proxy,\n",
       "                           ondownload,\n",
       "                           element.get(0));\n",
       "\n",
       "    // Call onopen now - mpl needs it, as it is assuming we've passed it a real\n",
       "    // web socket which is closed, not our websocket->open comm proxy.\n",
       "    ws_proxy.onopen();\n",
       "\n",
       "    fig.parent_element = element.get(0);\n",
       "    fig.cell_info = mpl.find_output_cell(\"<div id='\" + id + \"'></div>\");\n",
       "    if (!fig.cell_info) {\n",
       "        console.error(\"Failed to find cell for figure\", id, fig);\n",
       "        return;\n",
       "    }\n",
       "\n",
       "    var output_index = fig.cell_info[2]\n",
       "    var cell = fig.cell_info[0];\n",
       "\n",
       "};\n",
       "\n",
       "mpl.figure.prototype.handle_close = function(fig, msg) {\n",
       "    var width = fig.canvas.width/mpl.ratio\n",
       "    fig.root.unbind('remove')\n",
       "\n",
       "    // Update the output cell to use the data from the current canvas.\n",
       "    fig.push_to_output();\n",
       "    var dataURL = fig.canvas.toDataURL();\n",
       "    // Re-enable the keyboard manager in IPython - without this line, in FF,\n",
       "    // the notebook keyboard shortcuts fail.\n",
       "    IPython.keyboard_manager.enable()\n",
       "    $(fig.parent_element).html('<img src=\"' + dataURL + '\" width=\"' + width + '\">');\n",
       "    fig.close_ws(fig, msg);\n",
       "}\n",
       "\n",
       "mpl.figure.prototype.close_ws = function(fig, msg){\n",
       "    fig.send_message('closing', msg);\n",
       "    // fig.ws.close()\n",
       "}\n",
       "\n",
       "mpl.figure.prototype.push_to_output = function(remove_interactive) {\n",
       "    // Turn the data on the canvas into data in the output cell.\n",
       "    var width = this.canvas.width/mpl.ratio\n",
       "    var dataURL = this.canvas.toDataURL();\n",
       "    this.cell_info[1]['text/html'] = '<img src=\"' + dataURL + '\" width=\"' + width + '\">';\n",
       "}\n",
       "\n",
       "mpl.figure.prototype.updated_canvas_event = function() {\n",
       "    // Tell IPython that the notebook contents must change.\n",
       "    IPython.notebook.set_dirty(true);\n",
       "    this.send_message(\"ack\", {});\n",
       "    var fig = this;\n",
       "    // Wait a second, then push the new image to the DOM so\n",
       "    // that it is saved nicely (might be nice to debounce this).\n",
       "    setTimeout(function () { fig.push_to_output() }, 1000);\n",
       "}\n",
       "\n",
       "mpl.figure.prototype._init_toolbar = function() {\n",
       "    var fig = this;\n",
       "\n",
       "    var nav_element = $('<div/>')\n",
       "    nav_element.attr('style', 'width: 100%');\n",
       "    this.root.append(nav_element);\n",
       "\n",
       "    // Define a callback function for later on.\n",
       "    function toolbar_event(event) {\n",
       "        return fig.toolbar_button_onclick(event['data']);\n",
       "    }\n",
       "    function toolbar_mouse_event(event) {\n",
       "        return fig.toolbar_button_onmouseover(event['data']);\n",
       "    }\n",
       "\n",
       "    for(var toolbar_ind in mpl.toolbar_items){\n",
       "        var name = mpl.toolbar_items[toolbar_ind][0];\n",
       "        var tooltip = mpl.toolbar_items[toolbar_ind][1];\n",
       "        var image = mpl.toolbar_items[toolbar_ind][2];\n",
       "        var method_name = mpl.toolbar_items[toolbar_ind][3];\n",
       "\n",
       "        if (!name) { continue; };\n",
       "\n",
       "        var button = $('<button class=\"btn btn-default\" href=\"#\" title=\"' + name + '\"><i class=\"fa ' + image + ' fa-lg\"></i></button>');\n",
       "        button.click(method_name, toolbar_event);\n",
       "        button.mouseover(tooltip, toolbar_mouse_event);\n",
       "        nav_element.append(button);\n",
       "    }\n",
       "\n",
       "    // Add the status bar.\n",
       "    var status_bar = $('<span class=\"mpl-message\" style=\"text-align:right; float: right;\"/>');\n",
       "    nav_element.append(status_bar);\n",
       "    this.message = status_bar[0];\n",
       "\n",
       "    // Add the close button to the window.\n",
       "    var buttongrp = $('<div class=\"btn-group inline pull-right\"></div>');\n",
       "    var button = $('<button class=\"btn btn-mini btn-primary\" href=\"#\" title=\"Stop Interaction\"><i class=\"fa fa-power-off icon-remove icon-large\"></i></button>');\n",
       "    button.click(function (evt) { fig.handle_close(fig, {}); } );\n",
       "    button.mouseover('Stop Interaction', toolbar_mouse_event);\n",
       "    buttongrp.append(button);\n",
       "    var titlebar = this.root.find($('.ui-dialog-titlebar'));\n",
       "    titlebar.prepend(buttongrp);\n",
       "}\n",
       "\n",
       "mpl.figure.prototype._root_extra_style = function(el){\n",
       "    var fig = this\n",
       "    el.on(\"remove\", function(){\n",
       "\tfig.close_ws(fig, {});\n",
       "    });\n",
       "}\n",
       "\n",
       "mpl.figure.prototype._canvas_extra_style = function(el){\n",
       "    // this is important to make the div 'focusable\n",
       "    el.attr('tabindex', 0)\n",
       "    // reach out to IPython and tell the keyboard manager to turn it's self\n",
       "    // off when our div gets focus\n",
       "\n",
       "    // location in version 3\n",
       "    if (IPython.notebook.keyboard_manager) {\n",
       "        IPython.notebook.keyboard_manager.register_events(el);\n",
       "    }\n",
       "    else {\n",
       "        // location in version 2\n",
       "        IPython.keyboard_manager.register_events(el);\n",
       "    }\n",
       "\n",
       "}\n",
       "\n",
       "mpl.figure.prototype._key_event_extra = function(event, name) {\n",
       "    var manager = IPython.notebook.keyboard_manager;\n",
       "    if (!manager)\n",
       "        manager = IPython.keyboard_manager;\n",
       "\n",
       "    // Check for shift+enter\n",
       "    if (event.shiftKey && event.which == 13) {\n",
       "        this.canvas_div.blur();\n",
       "        event.shiftKey = false;\n",
       "        // Send a \"J\" for go to next cell\n",
       "        event.which = 74;\n",
       "        event.keyCode = 74;\n",
       "        manager.command_mode();\n",
       "        manager.handle_keydown(event);\n",
       "    }\n",
       "}\n",
       "\n",
       "mpl.figure.prototype.handle_save = function(fig, msg) {\n",
       "    fig.ondownload(fig, null);\n",
       "}\n",
       "\n",
       "\n",
       "mpl.find_output_cell = function(html_output) {\n",
       "    // Return the cell and output element which can be found *uniquely* in the notebook.\n",
       "    // Note - this is a bit hacky, but it is done because the \"notebook_saving.Notebook\"\n",
       "    // IPython event is triggered only after the cells have been serialised, which for\n",
       "    // our purposes (turning an active figure into a static one), is too late.\n",
       "    var cells = IPython.notebook.get_cells();\n",
       "    var ncells = cells.length;\n",
       "    for (var i=0; i<ncells; i++) {\n",
       "        var cell = cells[i];\n",
       "        if (cell.cell_type === 'code'){\n",
       "            for (var j=0; j<cell.output_area.outputs.length; j++) {\n",
       "                var data = cell.output_area.outputs[j];\n",
       "                if (data.data) {\n",
       "                    // IPython >= 3 moved mimebundle to data attribute of output\n",
       "                    data = data.data;\n",
       "                }\n",
       "                if (data['text/html'] == html_output) {\n",
       "                    return [cell, data, j];\n",
       "                }\n",
       "            }\n",
       "        }\n",
       "    }\n",
       "}\n",
       "\n",
       "// Register the function which deals with the matplotlib target/channel.\n",
       "// The kernel may be null if the page has been refreshed.\n",
       "if (IPython.notebook.kernel != null) {\n",
       "    IPython.notebook.kernel.comm_manager.register_target('matplotlib', mpl.mpl_figure_comm);\n",
       "}\n"
      ],
      "text/plain": [
       "<IPython.core.display.Javascript object>"
      ]
     },
     "metadata": {},
     "output_type": "display_data"
    },
    {
     "data": {
      "text/html": [
       "<img src=\"data:image/png;base64,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\" width=\"800\">"
      ],
      "text/plain": [
       "<IPython.core.display.HTML object>"
      ]
     },
     "metadata": {},
     "output_type": "display_data"
    },
    {
     "name": "stdout",
     "output_type": "stream",
     "text": [
      "Press Enter to stop.\n"
     ]
    }
   ],
   "source": [
    "%matplotlib notebook\n",
    "from graphs_RSA import *\n",
    "\n",
    "COUNT = 250\n",
    "\n",
    "minBit = 24\n",
    "bf_bit = 44\n",
    "ff_bit = 44\n",
    "knj_bit = 44\n",
    "rho_bit = 44\n",
    "\n",
    "testGraphs(minBit, bf_bit, ff_bit, knj_bit, rho_bit, COUNT)"
   ]
  },
  {
   "cell_type": "markdown",
   "metadata": {},
   "source": [
    "<img src=\"imgs/RSA.png\" alt=\"drawing\" style=\"width:80%;\"/>"
   ]
  },
  {
   "cell_type": "markdown",
   "metadata": {},
   "source": [
    "## Try it yourself"
   ]
  },
  {
   "cell_type": "markdown",
   "metadata": {},
   "source": [
    "Below you can select which solvers you want to use and enter your own two prime numbers to test against the solvers"
   ]
  },
  {
   "cell_type": "code",
   "execution_count": 3,
   "metadata": {},
   "outputs": [
    {
     "name": "stdout",
     "output_type": "stream",
     "text": [
      "20 is not prime\n"
     ]
    }
   ],
   "source": [
    "# SET YOUR CHOSEN PRIME NUMBERS\n",
    "p = 11\n",
    "q = 20\n",
    "\n",
    "# GENERATE KEYS BASED ON NUMBERS CHOSEN \n",
    "RSA_keys = generate_RSA.KeyGen(verbose = True, demo = True)  \n",
    "prime = RSA_keys.setPrimes(p, q)\n",
    "\n",
    "# returns error code if p and q are not prime\n",
    "if prime:\n",
    "    RSA_keys.generateKeys()"
   ]
  },
  {
   "cell_type": "code",
   "execution_count": 4,
   "metadata": {},
   "outputs": [
    {
     "name": "stdout",
     "output_type": "stream",
     "text": [
      "========== BRUTE FORCE ==========\n",
      "Can't solve for n = 0\n",
      "Fail!\n",
      "========== FERMAT'S METHOD ==========\n",
      "Can't solve for even n\n",
      "Fail!\n",
      "========== POLLARD'S RHO ==========\n",
      "Can't solve for n = 0\n",
      "Fail!\n",
      "========== KNJ FACTORISATION ==========\n",
      "Can't solve for n = 0\n",
      "Fail!\n",
      "========== POLLARD'S P-1 ==========\n",
      "Can't solve for n = 0\n",
      "Fail!\n",
      "========== QUADRATIC SIEVE ==========\n",
      "Can't solve for n = 0\n",
      "Fail!\n"
     ]
    }
   ],
   "source": [
    "import run_RSA\n",
    "\n",
    "# SET SOLVERS ON/OFF \n",
    "bf = True    # brute-force\n",
    "ff = True    # fermat's factoring\n",
    "pr = True    # pollard's - rho\n",
    "knj = True   # knj factorisation\n",
    "pm1 = True   # pollard's p-1\n",
    "qs = True    # quadratic sieve\n",
    "\n",
    "# PASS KEYS TO SOLVER\n",
    "run_RSA.runSolvers(RSA_keys, bf, ff, pr, knj, pm1, qs)"
   ]
  },
  {
   "cell_type": "code",
   "execution_count": 5,
   "metadata": {},
   "outputs": [
    {
     "name": "stdout",
     "output_type": "stream",
     "text": [
      "Can't solve for n = 0\n"
     ]
    },
    {
     "data": {
      "text/plain": [
       "False"
      ]
     },
     "execution_count": 5,
     "metadata": {},
     "output_type": "execute_result"
    }
   ],
   "source": [
    "# just proving nothing dodgy is going on by sending all of RSA_keys to the run file\n",
    "\n",
    "public_n = RSA_keys.n\n",
    "public_e = RSA_keys.e\n",
    "\n",
    "rho = pollard_rho.RhoSolver(public_n, public_e, True)                    \n",
    "rho.solve()"
   ]
  }
 ],
 "metadata": {
  "kernelspec": {
   "display_name": "Python 3",
   "language": "python",
   "name": "python3"
  },
  "language_info": {
   "codemirror_mode": {
    "name": "ipython",
    "version": 3
   },
   "file_extension": ".py",
   "mimetype": "text/x-python",
   "name": "python",
   "nbconvert_exporter": "python",
   "pygments_lexer": "ipython3",
   "version": "3.7.1"
  }
 },
 "nbformat": 4,
 "nbformat_minor": 2
}
