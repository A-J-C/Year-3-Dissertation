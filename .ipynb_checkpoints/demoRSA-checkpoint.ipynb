{
 "cells": [
  {
   "cell_type": "markdown",
   "metadata": {},
   "source": [
    "# RSA Demonstration"
   ]
  },
  {
   "cell_type": "markdown",
   "metadata": {},
   "source": [
    "Import my RSA package into the environment"
   ]
  },
  {
   "cell_type": "code",
   "execution_count": 1,
   "metadata": {
    "scrolled": false
   },
   "outputs": [],
   "source": [
    "from RSA import *"
   ]
  },
  {
   "cell_type": "markdown",
   "metadata": {},
   "source": [
    "### Key Generation\n",
    "Declare the bit size we want to use"
   ]
  },
  {
   "cell_type": "code",
   "execution_count": 2,
   "metadata": {
    "scrolled": false
   },
   "outputs": [],
   "source": [
    "bitSize = 40"
   ]
  },
  {
   "cell_type": "markdown",
   "metadata": {},
   "source": [
    "Generate a set of RSA keys with appropriate bitsize"
   ]
  },
  {
   "cell_type": "code",
   "execution_count": 3,
   "metadata": {
    "scrolled": false
   },
   "outputs": [
    {
     "name": "stdout",
     "output_type": "stream",
     "text": [
      "================================================== \n",
      "Generating  20 bit prime... \n",
      "10 rounds of Miller-Rabin needed (according to FISC)\n",
      "Trial-Division prime list generated, size:  128\n",
      "New candidate... 910595\n",
      "New candidate... 642493\n",
      "New candidate... 649451\n",
      "New candidate... 881977\n",
      "New candidate... 700409\n",
      "New candidate... 651047\n",
      "New candidate... 984121\n",
      "Prime of  20 bits found: 984121\n",
      "Checked 7 candidates in 0.01 s\n",
      "================================================== \n",
      "Generating  20 bit prime... \n",
      "10 rounds of Miller-Rabin needed (according to FISC)\n",
      "Trial-Division prime list generated, size:  128\n",
      "New candidate... 597751\n",
      "New candidate... 650311\n",
      "New candidate... 1014319\n",
      "Prime of  20 bits found: 1014319\n",
      "Checked 3 candidates in 0.00 s\n",
      "\n",
      "p: 984121\n",
      "q: 1014319\n",
      "\n",
      "n: 998212628599\n",
      "e: 776914918111\n",
      "n bit length: 40\n",
      "Private-Key, d: 297020253871\n",
      "Public-Key: (998212628599, 776914918111)\n",
      "Private-Key: 297020253871\n",
      "n is 40 bits\n",
      "\n"
     ]
    },
    {
     "data": {
      "text/plain": [
       "True"
      ]
     },
     "execution_count": 3,
     "metadata": {},
     "output_type": "execute_result"
    }
   ],
   "source": [
    "RSA_keys = generate_RSA.KeyGen(bitSize, True, True)     # initalise object True sets verbose and demo flag on KeyGen\n",
    "RSA_keys.generateKeys()                                 # runs generator"
   ]
  },
  {
   "cell_type": "markdown",
   "metadata": {},
   "source": [
    "### Brute Force Algorithm"
   ]
  },
  {
   "cell_type": "markdown",
   "metadata": {},
   "source": [
    "The simplest approach. \n",
    "\n",
    "- Take the $\\sqrt{n}$ and check if it divides n. \n",
    "- If it does not enumerate each odd smaller than $\\sqrt{n}$ until a factor is found. \n",
    "- $O(\\sqrt{n})$ (ignoring logarithmic test for division)"
   ]
  },
  {
   "cell_type": "code",
   "execution_count": 4,
   "metadata": {
    "scrolled": true
   },
   "outputs": [
    {
     "data": {
      "text/plain": [
       "'998212628599 % 984121 = 0'"
      ]
     },
     "metadata": {},
     "output_type": "display_data"
    },
    {
     "name": "stdout",
     "output_type": "stream",
     "text": [
      "p: 984121\n",
      "q: 1014319\n",
      "Private-Key, d: 297020253871\n",
      "Numbers checked: 7493\n",
      "Space used: 2 bytes\n",
      "Time taken: 0.529 s\n"
     ]
    },
    {
     "data": {
      "text/plain": [
       "True"
      ]
     },
     "execution_count": 4,
     "metadata": {},
     "output_type": "execute_result"
    }
   ],
   "source": [
    "bf = brute_force.BFSolver(RSA_keys.n, RSA_keys.e, True, True)   # pass it public keys, and True verbose & demo flag\n",
    "bf.solve()                                                      # run solver"
   ]
  },
  {
   "cell_type": "markdown",
   "metadata": {},
   "source": [
    "### Make it a bit harder"
   ]
  },
  {
   "cell_type": "code",
   "execution_count": 5,
   "metadata": {
    "scrolled": false
   },
   "outputs": [
    {
     "name": "stdout",
     "output_type": "stream",
     "text": [
      "Prime of  23 bits found: 8079299\n",
      "Checked 1 candidates in 0.00 s\n",
      "Prime of  23 bits found: 6375449\n",
      "Checked 9 candidates in 0.00 s\n",
      "\n",
      "p: 8079299\n",
      "q: 6375449\n",
      "\n",
      "n: 51509158730251\n",
      "e: 18162887780965\n",
      "n bit length: 46\n",
      "Private-Key, d: 18057121481405\n",
      "Public-Key: (51509158730251, 18162887780965)\n",
      "Private-Key: 18057121481405\n",
      "n is 46 bits\n",
      "\n"
     ]
    },
    {
     "data": {
      "text/plain": [
       "True"
      ]
     },
     "execution_count": 5,
     "metadata": {},
     "output_type": "execute_result"
    }
   ],
   "source": [
    "bitSize = 46\n",
    "\n",
    "RSA_keys = generate_RSA.KeyGen(bitSize, True)     # initalise object True sets verbose flag on KeyGen\n",
    "RSA_keys.generateKeys()                           # runs generator"
   ]
  },
  {
   "cell_type": "markdown",
   "metadata": {},
   "source": [
    "### Fermat's Factorisation Method"
   ]
  },
  {
   "cell_type": "markdown",
   "metadata": {},
   "source": [
    "Relies on Fermat’s observation that any odd number can be represented as the\n",
    "difference of two squares. \n",
    "\n",
    "- We again start with $γ ← \\sqrt{n}$\n",
    "- now we increment γ a single numberat a time until $γ^2 \\; mod \\; n \\; = \\; b^2$ where b is an integer. \n",
    "- then $\\{p,q\\} = γ \\pm b$\n",
    "- The worst-case time-complexity is exactlythe same as for brute-force, $O(\\sqrt{n})$"
   ]
  },
  {
   "cell_type": "code",
   "execution_count": 6,
   "metadata": {},
   "outputs": [
    {
     "data": {
      "text/plain": [
       "'sqrt(52234934935876 - 51509158730251) = 851925.0'"
      ]
     },
     "metadata": {},
     "output_type": "display_data"
    },
    {
     "name": "stdout",
     "output_type": "stream",
     "text": [
      "p: 6375449\n",
      "q: 8079299\n",
      "Private-Key, d: 18057121481405\n",
      "Numbers checked: 50387\n",
      "Space used: 6 bytes\n",
      "Time taken: 2.396 s\n"
     ]
    },
    {
     "data": {
      "text/plain": [
       "True"
      ]
     },
     "execution_count": 6,
     "metadata": {},
     "output_type": "execute_result"
    }
   ],
   "source": [
    "ff = fermats.FFSolver(RSA_keys.n, RSA_keys.e, True, True)   # pass it public keys, and True verbose & demo flag\n",
    "ff.solve()                                                  # run solver"
   ]
  },
  {
   "cell_type": "markdown",
   "metadata": {},
   "source": [
    "### KNJ - Factorisation"
   ]
  },
  {
   "cell_type": "markdown",
   "metadata": {},
   "source": [
    "The same as brute-force, but includes a check for prime numbers first. \n",
    "\n",
    "- Take the $\\sqrt{n}$ and check if it divides n. \n",
    "- If it does not enumerate each prime number smaller than $\\sqrt{n}$ until a factor is found. \n",
    "- $O(\\frac{\\sqrt{n}}{log(\\sqrt{n})})$ (estimation of the number of primes up to $\\sqrt{n}$)"
   ]
  },
  {
   "cell_type": "code",
   "execution_count": 7,
   "metadata": {},
   "outputs": [
    {
     "data": {
      "text/plain": [
       "'51509158730251 % 6375449 = 0'"
      ]
     },
     "metadata": {},
     "output_type": "display_data"
    },
    {
     "name": "stdout",
     "output_type": "stream",
     "text": [
      "p: 6375449\n",
      "q: 8079299\n",
      "Private-Key, d: 18057121481405\n",
      "Numbers checked: 50992\n",
      "Space used: 975708 bytes\n",
      "Time taken: 2.163 s\n"
     ]
    },
    {
     "data": {
      "text/plain": [
       "True"
      ]
     },
     "execution_count": 7,
     "metadata": {},
     "output_type": "execute_result"
    }
   ],
   "source": [
    "knj = knj_factorisation.KNJSolver(RSA_keys.n, RSA_keys.e, True, True)   # pass it public keys, and True verbose & demo flag\n",
    "knj.solve()                                                             # run solver"
   ]
  },
  {
   "cell_type": "markdown",
   "metadata": {},
   "source": [
    "### Pollard's p-1 "
   ]
  },
  {
   "cell_type": "markdown",
   "metadata": {},
   "source": [
    "Is our first probabilistic algorithm:\n",
    "\n",
    "- Utilises Fermat's little theorem \n",
    "- for a semi-prime $n \\leftarrow pq$, if $x \\leftarrow a^{K(p-1)} \\equiv 1 \\; mod \\; p$ then the $gcd(x - 1, n)$ will be divisible by $p$\n",
    "- We use a B-powersmooth number to find this large multiple\n",
    "- If our B is too high and both p and q are B-powersmooth it fails\n",
    "- So is probabilistic and we have to backtrack our B (or increase it)\n",
    "- $O(B \\log{B} \\log_2n)$"
   ]
  },
  {
   "cell_type": "code",
   "execution_count": 8,
   "metadata": {},
   "outputs": [
    {
     "data": {
      "text/plain": [
       "'Testing B = 104579'"
      ]
     },
     "metadata": {},
     "output_type": "display_data"
    },
    {
     "name": "stdout",
     "output_type": "stream",
     "text": [
      "p: 8079299\n",
      "q: 6375449\n",
      "Private-Key, d: 18057121481405\n",
      "Numbers checked: 9998\n",
      "Space used: 132 bytes\n",
      "Time taken: 2.314 s\n"
     ]
    },
    {
     "data": {
      "text/plain": [
       "True"
      ]
     },
     "execution_count": 8,
     "metadata": {},
     "output_type": "execute_result"
    }
   ],
   "source": [
    "polMin = pollard_p_minus_1.PSolver(RSA_keys.n, RSA_keys.e, True, True)   # pass it public keys, and True verbose & demo flag\n",
    "polMin.solve()                                                           # run solver"
   ]
  },
  {
   "cell_type": "markdown",
   "metadata": {},
   "source": [
    "### Pollard's-$\\rho$ method\n"
   ]
  },
  {
   "cell_type": "markdown",
   "metadata": {},
   "source": [
    "Another probabilistic method:\n",
    "\n",
    "- A random but known sequence is generated $\\{x_k \\; mod \\; n\\}$\n",
    "- This has a relation with the sequence mod a factor of $n$, $\\{x_k \\; mod \\; p\\}$\n",
    "- Send runners y and z around the sequence, one twice as fast as the other \n",
    "- $gcd(x_y - x_z, n)$ will return a non trivial answer if the smaller, $p$ cycle repeats itself\n",
    "- This is called Floyd's cycle detection\n",
    "- $O(n^{1/4})$ via the birthday-paradox"
   ]
  },
  {
   "cell_type": "code",
   "execution_count": 9,
   "metadata": {
    "scrolled": false
   },
   "outputs": [
    {
     "data": {
      "text/plain": [
       "'gcd(8407385295325 - 29526480887459, 51509158730251) = 6375449'"
      ]
     },
     "metadata": {},
     "output_type": "display_data"
    },
    {
     "name": "stdout",
     "output_type": "stream",
     "text": [
      "p: 6375449\n",
      "q: 8079299\n",
      "Private-Key, d: 18057121481405\n",
      "Numbers checked: 653\n",
      "Space used: 10 bytes\n",
      "Time taken: 0.077 s\n"
     ]
    },
    {
     "data": {
      "text/plain": [
       "True"
      ]
     },
     "execution_count": 9,
     "metadata": {},
     "output_type": "execute_result"
    }
   ],
   "source": [
    "rho = pollard_rho.RhoSolver(RSA_keys.n, RSA_keys.e, True, True)   # pass it public keys, and True verbose & demo flag\n",
    "rho.solve()                                                       # run solver"
   ]
  },
  {
   "cell_type": "markdown",
   "metadata": {},
   "source": [
    "### Quadratic Sieve"
   ]
  },
  {
   "cell_type": "markdown",
   "metadata": {},
   "source": [
    "In essence, this is advanced Fermat's Factoring:\n",
    "\n",
    "- We no longer care about testing for one $\\beta \\leftarrow a^2 \\; mod \\; n$ until $\\beta$ is a square number\n",
    "- We instead build a congruence of squares, s.t. the product is a square ($b^2 \\leftarrow \\beta _1 * ... * \\beta _k \\; s.t. \\; b \\in N $)\n",
    "- Again a smoothness bound, B, is used to ensure each $\\beta$ can be fully factored over a small number of primes \n",
    "- A matrix is then built of prime-exponent vectors for each $\\beta$\n",
    "- Matrix elimination is then applied to find the zero vector, which means the number produced is square\n",
    "- This sum of vectors used to produce the zero vectors can then be used to determine the factors\n",
    "- A hard time-complexity to define, but should be sub-exponential"
   ]
  },
  {
   "cell_type": "code",
   "execution_count": 10,
   "metadata": {},
   "outputs": [
    {
     "name": "stdout",
     "output_type": "stream",
     "text": [
      "Prime of  10 bits found: 859\n",
      "Checked 2 candidates in 0.00 s\n",
      "Prime of  10 bits found: 733\n",
      "Checked 4 candidates in 0.00 s\n",
      "\n",
      "p: 859\n",
      "q: 733\n",
      "\n",
      "n: 629647\n",
      "e: 72835\n",
      "n bit length: 20\n",
      "Private-Key, d: 618907\n",
      "Public-Key: (629647, 72835)\n",
      "Private-Key: 618907\n",
      "n is 20 bits\n",
      "\n"
     ]
    },
    {
     "data": {
      "text/plain": [
       "True"
      ]
     },
     "execution_count": 10,
     "metadata": {},
     "output_type": "execute_result"
    }
   ],
   "source": [
    "# need to recalculate as only 100% guarenteed for these very small sizes \n",
    "\n",
    "bitSize = 20\n",
    "\n",
    "RSA_keys = generate_RSA.KeyGen(bitSize, True)     # initalise object True sets verbose flag on KeyGen\n",
    "RSA_keys.generateKeys()                           # runs generator"
   ]
  },
  {
   "cell_type": "code",
   "execution_count": 11,
   "metadata": {},
   "outputs": [
    {
     "name": "stdout",
     "output_type": "stream",
     "text": [
      "Length of possible primes: 528\n",
      "Length of primes with quadRes(n,p) == 1: 261 \n",
      "\n",
      "p: 859\n",
      "q: 733\n",
      "Private-Key, d: 618907\n",
      "Numbers checked: 151\n",
      "Space used: 136764 bytes\n",
      "Time taken: 0.151 s\n"
     ]
    },
    {
     "data": {
      "text/plain": [
       "True"
      ]
     },
     "execution_count": 11,
     "metadata": {},
     "output_type": "execute_result"
    }
   ],
   "source": [
    "quad = quadratic_sieve.QSolver(RSA_keys.n, RSA_keys.e, True, True)  # pass it public keys, and True verbose & demo flag\n",
    "quad.solve()                                                        # run solver"
   ]
  },
  {
   "cell_type": "markdown",
   "metadata": {},
   "source": [
    "### Basic Analysis\n",
    "Running the above algorithms on a variety of random inputs to create graphs showing general trends.\n",
    "\n",
    "The below style code makes the format of the graphs nicer"
   ]
  },
  {
   "cell_type": "code",
   "execution_count": 12,
   "metadata": {
    "scrolled": false
   },
   "outputs": [
    {
     "data": {
      "text/html": [
       "<style>\n",
       ".output_wrapper button.btn.btn-default,\n",
       ".output_wrapper .ui-dialog-titlebar {\n",
       "  display: none;\n",
       "}\n",
       "</style>\n"
      ],
      "text/plain": [
       "<IPython.core.display.HTML object>"
      ]
     },
     "metadata": {},
     "output_type": "display_data"
    }
   ],
   "source": [
    "%%html\n",
    "<style>\n",
    ".output_wrapper button.btn.btn-default,\n",
    ".output_wrapper .ui-dialog-titlebar {\n",
    "  display: none;\n",
    "}\n",
    "</style>"
   ]
  },
  {
   "cell_type": "markdown",
   "metadata": {},
   "source": [
    "Runs each algorithm in a thread and plots the results.\n",
    "\n",
    "- Blue = Brute Force\n",
    "- Orange = Fermat's Factoring Method\n",
    "- Green = Pollard's Rho"
   ]
  },
  {
   "cell_type": "code",
   "execution_count": 2,
   "metadata": {
    "scrolled": false
   },
   "outputs": [
    {
     "data": {
      "application/javascript": [
       "/* Put everything inside the global mpl namespace */\n",
       "window.mpl = {};\n",
       "\n",
       "\n",
       "mpl.get_websocket_type = function() {\n",
       "    if (typeof(WebSocket) !== 'undefined') {\n",
       "        return WebSocket;\n",
       "    } else if (typeof(MozWebSocket) !== 'undefined') {\n",
       "        return MozWebSocket;\n",
       "    } else {\n",
       "        alert('Your browser does not have WebSocket support.' +\n",
       "              'Please try Chrome, Safari or Firefox ≥ 6. ' +\n",
       "              'Firefox 4 and 5 are also supported but you ' +\n",
       "              'have to enable WebSockets in about:config.');\n",
       "    };\n",
       "}\n",
       "\n",
       "mpl.figure = function(figure_id, websocket, ondownload, parent_element) {\n",
       "    this.id = figure_id;\n",
       "\n",
       "    this.ws = websocket;\n",
       "\n",
       "    this.supports_binary = (this.ws.binaryType != undefined);\n",
       "\n",
       "    if (!this.supports_binary) {\n",
       "        var warnings = document.getElementById(\"mpl-warnings\");\n",
       "        if (warnings) {\n",
       "            warnings.style.display = 'block';\n",
       "            warnings.textContent = (\n",
       "                \"This browser does not support binary websocket messages. \" +\n",
       "                    \"Performance may be slow.\");\n",
       "        }\n",
       "    }\n",
       "\n",
       "    this.imageObj = new Image();\n",
       "\n",
       "    this.context = undefined;\n",
       "    this.message = undefined;\n",
       "    this.canvas = undefined;\n",
       "    this.rubberband_canvas = undefined;\n",
       "    this.rubberband_context = undefined;\n",
       "    this.format_dropdown = undefined;\n",
       "\n",
       "    this.image_mode = 'full';\n",
       "\n",
       "    this.root = $('<div/>');\n",
       "    this._root_extra_style(this.root)\n",
       "    this.root.attr('style', 'display: inline-block');\n",
       "\n",
       "    $(parent_element).append(this.root);\n",
       "\n",
       "    this._init_header(this);\n",
       "    this._init_canvas(this);\n",
       "    this._init_toolbar(this);\n",
       "\n",
       "    var fig = this;\n",
       "\n",
       "    this.waiting = false;\n",
       "\n",
       "    this.ws.onopen =  function () {\n",
       "            fig.send_message(\"supports_binary\", {value: fig.supports_binary});\n",
       "            fig.send_message(\"send_image_mode\", {});\n",
       "            if (mpl.ratio != 1) {\n",
       "                fig.send_message(\"set_dpi_ratio\", {'dpi_ratio': mpl.ratio});\n",
       "            }\n",
       "            fig.send_message(\"refresh\", {});\n",
       "        }\n",
       "\n",
       "    this.imageObj.onload = function() {\n",
       "            if (fig.image_mode == 'full') {\n",
       "                // Full images could contain transparency (where diff images\n",
       "                // almost always do), so we need to clear the canvas so that\n",
       "                // there is no ghosting.\n",
       "                fig.context.clearRect(0, 0, fig.canvas.width, fig.canvas.height);\n",
       "            }\n",
       "            fig.context.drawImage(fig.imageObj, 0, 0);\n",
       "        };\n",
       "\n",
       "    this.imageObj.onunload = function() {\n",
       "        fig.ws.close();\n",
       "    }\n",
       "\n",
       "    this.ws.onmessage = this._make_on_message_function(this);\n",
       "\n",
       "    this.ondownload = ondownload;\n",
       "}\n",
       "\n",
       "mpl.figure.prototype._init_header = function() {\n",
       "    var titlebar = $(\n",
       "        '<div class=\"ui-dialog-titlebar ui-widget-header ui-corner-all ' +\n",
       "        'ui-helper-clearfix\"/>');\n",
       "    var titletext = $(\n",
       "        '<div class=\"ui-dialog-title\" style=\"width: 100%; ' +\n",
       "        'text-align: center; padding: 3px;\"/>');\n",
       "    titlebar.append(titletext)\n",
       "    this.root.append(titlebar);\n",
       "    this.header = titletext[0];\n",
       "}\n",
       "\n",
       "\n",
       "\n",
       "mpl.figure.prototype._canvas_extra_style = function(canvas_div) {\n",
       "\n",
       "}\n",
       "\n",
       "\n",
       "mpl.figure.prototype._root_extra_style = function(canvas_div) {\n",
       "\n",
       "}\n",
       "\n",
       "mpl.figure.prototype._init_canvas = function() {\n",
       "    var fig = this;\n",
       "\n",
       "    var canvas_div = $('<div/>');\n",
       "\n",
       "    canvas_div.attr('style', 'position: relative; clear: both; outline: 0');\n",
       "\n",
       "    function canvas_keyboard_event(event) {\n",
       "        return fig.key_event(event, event['data']);\n",
       "    }\n",
       "\n",
       "    canvas_div.keydown('key_press', canvas_keyboard_event);\n",
       "    canvas_div.keyup('key_release', canvas_keyboard_event);\n",
       "    this.canvas_div = canvas_div\n",
       "    this._canvas_extra_style(canvas_div)\n",
       "    this.root.append(canvas_div);\n",
       "\n",
       "    var canvas = $('<canvas/>');\n",
       "    canvas.addClass('mpl-canvas');\n",
       "    canvas.attr('style', \"left: 0; top: 0; z-index: 0; outline: 0\")\n",
       "\n",
       "    this.canvas = canvas[0];\n",
       "    this.context = canvas[0].getContext(\"2d\");\n",
       "\n",
       "    var backingStore = this.context.backingStorePixelRatio ||\n",
       "\tthis.context.webkitBackingStorePixelRatio ||\n",
       "\tthis.context.mozBackingStorePixelRatio ||\n",
       "\tthis.context.msBackingStorePixelRatio ||\n",
       "\tthis.context.oBackingStorePixelRatio ||\n",
       "\tthis.context.backingStorePixelRatio || 1;\n",
       "\n",
       "    mpl.ratio = (window.devicePixelRatio || 1) / backingStore;\n",
       "\n",
       "    var rubberband = $('<canvas/>');\n",
       "    rubberband.attr('style', \"position: absolute; left: 0; top: 0; z-index: 1;\")\n",
       "\n",
       "    var pass_mouse_events = true;\n",
       "\n",
       "    canvas_div.resizable({\n",
       "        start: function(event, ui) {\n",
       "            pass_mouse_events = false;\n",
       "        },\n",
       "        resize: function(event, ui) {\n",
       "            fig.request_resize(ui.size.width, ui.size.height);\n",
       "        },\n",
       "        stop: function(event, ui) {\n",
       "            pass_mouse_events = true;\n",
       "            fig.request_resize(ui.size.width, ui.size.height);\n",
       "        },\n",
       "    });\n",
       "\n",
       "    function mouse_event_fn(event) {\n",
       "        if (pass_mouse_events)\n",
       "            return fig.mouse_event(event, event['data']);\n",
       "    }\n",
       "\n",
       "    rubberband.mousedown('button_press', mouse_event_fn);\n",
       "    rubberband.mouseup('button_release', mouse_event_fn);\n",
       "    // Throttle sequential mouse events to 1 every 20ms.\n",
       "    rubberband.mousemove('motion_notify', mouse_event_fn);\n",
       "\n",
       "    rubberband.mouseenter('figure_enter', mouse_event_fn);\n",
       "    rubberband.mouseleave('figure_leave', mouse_event_fn);\n",
       "\n",
       "    canvas_div.on(\"wheel\", function (event) {\n",
       "        event = event.originalEvent;\n",
       "        event['data'] = 'scroll'\n",
       "        if (event.deltaY < 0) {\n",
       "            event.step = 1;\n",
       "        } else {\n",
       "            event.step = -1;\n",
       "        }\n",
       "        mouse_event_fn(event);\n",
       "    });\n",
       "\n",
       "    canvas_div.append(canvas);\n",
       "    canvas_div.append(rubberband);\n",
       "\n",
       "    this.rubberband = rubberband;\n",
       "    this.rubberband_canvas = rubberband[0];\n",
       "    this.rubberband_context = rubberband[0].getContext(\"2d\");\n",
       "    this.rubberband_context.strokeStyle = \"#000000\";\n",
       "\n",
       "    this._resize_canvas = function(width, height) {\n",
       "        // Keep the size of the canvas, canvas container, and rubber band\n",
       "        // canvas in synch.\n",
       "        canvas_div.css('width', width)\n",
       "        canvas_div.css('height', height)\n",
       "\n",
       "        canvas.attr('width', width * mpl.ratio);\n",
       "        canvas.attr('height', height * mpl.ratio);\n",
       "        canvas.attr('style', 'width: ' + width + 'px; height: ' + height + 'px;');\n",
       "\n",
       "        rubberband.attr('width', width);\n",
       "        rubberband.attr('height', height);\n",
       "    }\n",
       "\n",
       "    // Set the figure to an initial 600x600px, this will subsequently be updated\n",
       "    // upon first draw.\n",
       "    this._resize_canvas(600, 600);\n",
       "\n",
       "    // Disable right mouse context menu.\n",
       "    $(this.rubberband_canvas).bind(\"contextmenu\",function(e){\n",
       "        return false;\n",
       "    });\n",
       "\n",
       "    function set_focus () {\n",
       "        canvas.focus();\n",
       "        canvas_div.focus();\n",
       "    }\n",
       "\n",
       "    window.setTimeout(set_focus, 100);\n",
       "}\n",
       "\n",
       "mpl.figure.prototype._init_toolbar = function() {\n",
       "    var fig = this;\n",
       "\n",
       "    var nav_element = $('<div/>')\n",
       "    nav_element.attr('style', 'width: 100%');\n",
       "    this.root.append(nav_element);\n",
       "\n",
       "    // Define a callback function for later on.\n",
       "    function toolbar_event(event) {\n",
       "        return fig.toolbar_button_onclick(event['data']);\n",
       "    }\n",
       "    function toolbar_mouse_event(event) {\n",
       "        return fig.toolbar_button_onmouseover(event['data']);\n",
       "    }\n",
       "\n",
       "    for(var toolbar_ind in mpl.toolbar_items) {\n",
       "        var name = mpl.toolbar_items[toolbar_ind][0];\n",
       "        var tooltip = mpl.toolbar_items[toolbar_ind][1];\n",
       "        var image = mpl.toolbar_items[toolbar_ind][2];\n",
       "        var method_name = mpl.toolbar_items[toolbar_ind][3];\n",
       "\n",
       "        if (!name) {\n",
       "            // put a spacer in here.\n",
       "            continue;\n",
       "        }\n",
       "        var button = $('<button/>');\n",
       "        button.addClass('ui-button ui-widget ui-state-default ui-corner-all ' +\n",
       "                        'ui-button-icon-only');\n",
       "        button.attr('role', 'button');\n",
       "        button.attr('aria-disabled', 'false');\n",
       "        button.click(method_name, toolbar_event);\n",
       "        button.mouseover(tooltip, toolbar_mouse_event);\n",
       "\n",
       "        var icon_img = $('<span/>');\n",
       "        icon_img.addClass('ui-button-icon-primary ui-icon');\n",
       "        icon_img.addClass(image);\n",
       "        icon_img.addClass('ui-corner-all');\n",
       "\n",
       "        var tooltip_span = $('<span/>');\n",
       "        tooltip_span.addClass('ui-button-text');\n",
       "        tooltip_span.html(tooltip);\n",
       "\n",
       "        button.append(icon_img);\n",
       "        button.append(tooltip_span);\n",
       "\n",
       "        nav_element.append(button);\n",
       "    }\n",
       "\n",
       "    var fmt_picker_span = $('<span/>');\n",
       "\n",
       "    var fmt_picker = $('<select/>');\n",
       "    fmt_picker.addClass('mpl-toolbar-option ui-widget ui-widget-content');\n",
       "    fmt_picker_span.append(fmt_picker);\n",
       "    nav_element.append(fmt_picker_span);\n",
       "    this.format_dropdown = fmt_picker[0];\n",
       "\n",
       "    for (var ind in mpl.extensions) {\n",
       "        var fmt = mpl.extensions[ind];\n",
       "        var option = $(\n",
       "            '<option/>', {selected: fmt === mpl.default_extension}).html(fmt);\n",
       "        fmt_picker.append(option)\n",
       "    }\n",
       "\n",
       "    // Add hover states to the ui-buttons\n",
       "    $( \".ui-button\" ).hover(\n",
       "        function() { $(this).addClass(\"ui-state-hover\");},\n",
       "        function() { $(this).removeClass(\"ui-state-hover\");}\n",
       "    );\n",
       "\n",
       "    var status_bar = $('<span class=\"mpl-message\"/>');\n",
       "    nav_element.append(status_bar);\n",
       "    this.message = status_bar[0];\n",
       "}\n",
       "\n",
       "mpl.figure.prototype.request_resize = function(x_pixels, y_pixels) {\n",
       "    // Request matplotlib to resize the figure. Matplotlib will then trigger a resize in the client,\n",
       "    // which will in turn request a refresh of the image.\n",
       "    this.send_message('resize', {'width': x_pixels, 'height': y_pixels});\n",
       "}\n",
       "\n",
       "mpl.figure.prototype.send_message = function(type, properties) {\n",
       "    properties['type'] = type;\n",
       "    properties['figure_id'] = this.id;\n",
       "    this.ws.send(JSON.stringify(properties));\n",
       "}\n",
       "\n",
       "mpl.figure.prototype.send_draw_message = function() {\n",
       "    if (!this.waiting) {\n",
       "        this.waiting = true;\n",
       "        this.ws.send(JSON.stringify({type: \"draw\", figure_id: this.id}));\n",
       "    }\n",
       "}\n",
       "\n",
       "\n",
       "mpl.figure.prototype.handle_save = function(fig, msg) {\n",
       "    var format_dropdown = fig.format_dropdown;\n",
       "    var format = format_dropdown.options[format_dropdown.selectedIndex].value;\n",
       "    fig.ondownload(fig, format);\n",
       "}\n",
       "\n",
       "\n",
       "mpl.figure.prototype.handle_resize = function(fig, msg) {\n",
       "    var size = msg['size'];\n",
       "    if (size[0] != fig.canvas.width || size[1] != fig.canvas.height) {\n",
       "        fig._resize_canvas(size[0], size[1]);\n",
       "        fig.send_message(\"refresh\", {});\n",
       "    };\n",
       "}\n",
       "\n",
       "mpl.figure.prototype.handle_rubberband = function(fig, msg) {\n",
       "    var x0 = msg['x0'] / mpl.ratio;\n",
       "    var y0 = (fig.canvas.height - msg['y0']) / mpl.ratio;\n",
       "    var x1 = msg['x1'] / mpl.ratio;\n",
       "    var y1 = (fig.canvas.height - msg['y1']) / mpl.ratio;\n",
       "    x0 = Math.floor(x0) + 0.5;\n",
       "    y0 = Math.floor(y0) + 0.5;\n",
       "    x1 = Math.floor(x1) + 0.5;\n",
       "    y1 = Math.floor(y1) + 0.5;\n",
       "    var min_x = Math.min(x0, x1);\n",
       "    var min_y = Math.min(y0, y1);\n",
       "    var width = Math.abs(x1 - x0);\n",
       "    var height = Math.abs(y1 - y0);\n",
       "\n",
       "    fig.rubberband_context.clearRect(\n",
       "        0, 0, fig.canvas.width, fig.canvas.height);\n",
       "\n",
       "    fig.rubberband_context.strokeRect(min_x, min_y, width, height);\n",
       "}\n",
       "\n",
       "mpl.figure.prototype.handle_figure_label = function(fig, msg) {\n",
       "    // Updates the figure title.\n",
       "    fig.header.textContent = msg['label'];\n",
       "}\n",
       "\n",
       "mpl.figure.prototype.handle_cursor = function(fig, msg) {\n",
       "    var cursor = msg['cursor'];\n",
       "    switch(cursor)\n",
       "    {\n",
       "    case 0:\n",
       "        cursor = 'pointer';\n",
       "        break;\n",
       "    case 1:\n",
       "        cursor = 'default';\n",
       "        break;\n",
       "    case 2:\n",
       "        cursor = 'crosshair';\n",
       "        break;\n",
       "    case 3:\n",
       "        cursor = 'move';\n",
       "        break;\n",
       "    }\n",
       "    fig.rubberband_canvas.style.cursor = cursor;\n",
       "}\n",
       "\n",
       "mpl.figure.prototype.handle_message = function(fig, msg) {\n",
       "    fig.message.textContent = msg['message'];\n",
       "}\n",
       "\n",
       "mpl.figure.prototype.handle_draw = function(fig, msg) {\n",
       "    // Request the server to send over a new figure.\n",
       "    fig.send_draw_message();\n",
       "}\n",
       "\n",
       "mpl.figure.prototype.handle_image_mode = function(fig, msg) {\n",
       "    fig.image_mode = msg['mode'];\n",
       "}\n",
       "\n",
       "mpl.figure.prototype.updated_canvas_event = function() {\n",
       "    // Called whenever the canvas gets updated.\n",
       "    this.send_message(\"ack\", {});\n",
       "}\n",
       "\n",
       "// A function to construct a web socket function for onmessage handling.\n",
       "// Called in the figure constructor.\n",
       "mpl.figure.prototype._make_on_message_function = function(fig) {\n",
       "    return function socket_on_message(evt) {\n",
       "        if (evt.data instanceof Blob) {\n",
       "            /* FIXME: We get \"Resource interpreted as Image but\n",
       "             * transferred with MIME type text/plain:\" errors on\n",
       "             * Chrome.  But how to set the MIME type?  It doesn't seem\n",
       "             * to be part of the websocket stream */\n",
       "            evt.data.type = \"image/png\";\n",
       "\n",
       "            /* Free the memory for the previous frames */\n",
       "            if (fig.imageObj.src) {\n",
       "                (window.URL || window.webkitURL).revokeObjectURL(\n",
       "                    fig.imageObj.src);\n",
       "            }\n",
       "\n",
       "            fig.imageObj.src = (window.URL || window.webkitURL).createObjectURL(\n",
       "                evt.data);\n",
       "            fig.updated_canvas_event();\n",
       "            fig.waiting = false;\n",
       "            return;\n",
       "        }\n",
       "        else if (typeof evt.data === 'string' && evt.data.slice(0, 21) == \"data:image/png;base64\") {\n",
       "            fig.imageObj.src = evt.data;\n",
       "            fig.updated_canvas_event();\n",
       "            fig.waiting = false;\n",
       "            return;\n",
       "        }\n",
       "\n",
       "        var msg = JSON.parse(evt.data);\n",
       "        var msg_type = msg['type'];\n",
       "\n",
       "        // Call the  \"handle_{type}\" callback, which takes\n",
       "        // the figure and JSON message as its only arguments.\n",
       "        try {\n",
       "            var callback = fig[\"handle_\" + msg_type];\n",
       "        } catch (e) {\n",
       "            console.log(\"No handler for the '\" + msg_type + \"' message type: \", msg);\n",
       "            return;\n",
       "        }\n",
       "\n",
       "        if (callback) {\n",
       "            try {\n",
       "                // console.log(\"Handling '\" + msg_type + \"' message: \", msg);\n",
       "                callback(fig, msg);\n",
       "            } catch (e) {\n",
       "                console.log(\"Exception inside the 'handler_\" + msg_type + \"' callback:\", e, e.stack, msg);\n",
       "            }\n",
       "        }\n",
       "    };\n",
       "}\n",
       "\n",
       "// from http://stackoverflow.com/questions/1114465/getting-mouse-location-in-canvas\n",
       "mpl.findpos = function(e) {\n",
       "    //this section is from http://www.quirksmode.org/js/events_properties.html\n",
       "    var targ;\n",
       "    if (!e)\n",
       "        e = window.event;\n",
       "    if (e.target)\n",
       "        targ = e.target;\n",
       "    else if (e.srcElement)\n",
       "        targ = e.srcElement;\n",
       "    if (targ.nodeType == 3) // defeat Safari bug\n",
       "        targ = targ.parentNode;\n",
       "\n",
       "    // jQuery normalizes the pageX and pageY\n",
       "    // pageX,Y are the mouse positions relative to the document\n",
       "    // offset() returns the position of the element relative to the document\n",
       "    var x = e.pageX - $(targ).offset().left;\n",
       "    var y = e.pageY - $(targ).offset().top;\n",
       "\n",
       "    return {\"x\": x, \"y\": y};\n",
       "};\n",
       "\n",
       "/*\n",
       " * return a copy of an object with only non-object keys\n",
       " * we need this to avoid circular references\n",
       " * http://stackoverflow.com/a/24161582/3208463\n",
       " */\n",
       "function simpleKeys (original) {\n",
       "  return Object.keys(original).reduce(function (obj, key) {\n",
       "    if (typeof original[key] !== 'object')\n",
       "        obj[key] = original[key]\n",
       "    return obj;\n",
       "  }, {});\n",
       "}\n",
       "\n",
       "mpl.figure.prototype.mouse_event = function(event, name) {\n",
       "    var canvas_pos = mpl.findpos(event)\n",
       "\n",
       "    if (name === 'button_press')\n",
       "    {\n",
       "        this.canvas.focus();\n",
       "        this.canvas_div.focus();\n",
       "    }\n",
       "\n",
       "    var x = canvas_pos.x * mpl.ratio;\n",
       "    var y = canvas_pos.y * mpl.ratio;\n",
       "\n",
       "    this.send_message(name, {x: x, y: y, button: event.button,\n",
       "                             step: event.step,\n",
       "                             guiEvent: simpleKeys(event)});\n",
       "\n",
       "    /* This prevents the web browser from automatically changing to\n",
       "     * the text insertion cursor when the button is pressed.  We want\n",
       "     * to control all of the cursor setting manually through the\n",
       "     * 'cursor' event from matplotlib */\n",
       "    event.preventDefault();\n",
       "    return false;\n",
       "}\n",
       "\n",
       "mpl.figure.prototype._key_event_extra = function(event, name) {\n",
       "    // Handle any extra behaviour associated with a key event\n",
       "}\n",
       "\n",
       "mpl.figure.prototype.key_event = function(event, name) {\n",
       "\n",
       "    // Prevent repeat events\n",
       "    if (name == 'key_press')\n",
       "    {\n",
       "        if (event.which === this._key)\n",
       "            return;\n",
       "        else\n",
       "            this._key = event.which;\n",
       "    }\n",
       "    if (name == 'key_release')\n",
       "        this._key = null;\n",
       "\n",
       "    var value = '';\n",
       "    if (event.ctrlKey && event.which != 17)\n",
       "        value += \"ctrl+\";\n",
       "    if (event.altKey && event.which != 18)\n",
       "        value += \"alt+\";\n",
       "    if (event.shiftKey && event.which != 16)\n",
       "        value += \"shift+\";\n",
       "\n",
       "    value += 'k';\n",
       "    value += event.which.toString();\n",
       "\n",
       "    this._key_event_extra(event, name);\n",
       "\n",
       "    this.send_message(name, {key: value,\n",
       "                             guiEvent: simpleKeys(event)});\n",
       "    return false;\n",
       "}\n",
       "\n",
       "mpl.figure.prototype.toolbar_button_onclick = function(name) {\n",
       "    if (name == 'download') {\n",
       "        this.handle_save(this, null);\n",
       "    } else {\n",
       "        this.send_message(\"toolbar_button\", {name: name});\n",
       "    }\n",
       "};\n",
       "\n",
       "mpl.figure.prototype.toolbar_button_onmouseover = function(tooltip) {\n",
       "    this.message.textContent = tooltip;\n",
       "};\n",
       "mpl.toolbar_items = [[\"Home\", \"Reset original view\", \"fa fa-home icon-home\", \"home\"], [\"Back\", \"Back to previous view\", \"fa fa-arrow-left icon-arrow-left\", \"back\"], [\"Forward\", \"Forward to next view\", \"fa fa-arrow-right icon-arrow-right\", \"forward\"], [\"\", \"\", \"\", \"\"], [\"Pan\", \"Pan axes with left mouse, zoom with right\", \"fa fa-arrows icon-move\", \"pan\"], [\"Zoom\", \"Zoom to rectangle\", \"fa fa-square-o icon-check-empty\", \"zoom\"], [\"\", \"\", \"\", \"\"], [\"Download\", \"Download plot\", \"fa fa-floppy-o icon-save\", \"download\"]];\n",
       "\n",
       "mpl.extensions = [\"eps\", \"jpeg\", \"pdf\", \"png\", \"ps\", \"raw\", \"svg\", \"tif\"];\n",
       "\n",
       "mpl.default_extension = \"png\";var comm_websocket_adapter = function(comm) {\n",
       "    // Create a \"websocket\"-like object which calls the given IPython comm\n",
       "    // object with the appropriate methods. Currently this is a non binary\n",
       "    // socket, so there is still some room for performance tuning.\n",
       "    var ws = {};\n",
       "\n",
       "    ws.close = function() {\n",
       "        comm.close()\n",
       "    };\n",
       "    ws.send = function(m) {\n",
       "        //console.log('sending', m);\n",
       "        comm.send(m);\n",
       "    };\n",
       "    // Register the callback with on_msg.\n",
       "    comm.on_msg(function(msg) {\n",
       "        //console.log('receiving', msg['content']['data'], msg);\n",
       "        // Pass the mpl event to the overridden (by mpl) onmessage function.\n",
       "        ws.onmessage(msg['content']['data'])\n",
       "    });\n",
       "    return ws;\n",
       "}\n",
       "\n",
       "mpl.mpl_figure_comm = function(comm, msg) {\n",
       "    // This is the function which gets called when the mpl process\n",
       "    // starts-up an IPython Comm through the \"matplotlib\" channel.\n",
       "\n",
       "    var id = msg.content.data.id;\n",
       "    // Get hold of the div created by the display call when the Comm\n",
       "    // socket was opened in Python.\n",
       "    var element = $(\"#\" + id);\n",
       "    var ws_proxy = comm_websocket_adapter(comm)\n",
       "\n",
       "    function ondownload(figure, format) {\n",
       "        window.open(figure.imageObj.src);\n",
       "    }\n",
       "\n",
       "    var fig = new mpl.figure(id, ws_proxy,\n",
       "                           ondownload,\n",
       "                           element.get(0));\n",
       "\n",
       "    // Call onopen now - mpl needs it, as it is assuming we've passed it a real\n",
       "    // web socket which is closed, not our websocket->open comm proxy.\n",
       "    ws_proxy.onopen();\n",
       "\n",
       "    fig.parent_element = element.get(0);\n",
       "    fig.cell_info = mpl.find_output_cell(\"<div id='\" + id + \"'></div>\");\n",
       "    if (!fig.cell_info) {\n",
       "        console.error(\"Failed to find cell for figure\", id, fig);\n",
       "        return;\n",
       "    }\n",
       "\n",
       "    var output_index = fig.cell_info[2]\n",
       "    var cell = fig.cell_info[0];\n",
       "\n",
       "};\n",
       "\n",
       "mpl.figure.prototype.handle_close = function(fig, msg) {\n",
       "    var width = fig.canvas.width/mpl.ratio\n",
       "    fig.root.unbind('remove')\n",
       "\n",
       "    // Update the output cell to use the data from the current canvas.\n",
       "    fig.push_to_output();\n",
       "    var dataURL = fig.canvas.toDataURL();\n",
       "    // Re-enable the keyboard manager in IPython - without this line, in FF,\n",
       "    // the notebook keyboard shortcuts fail.\n",
       "    IPython.keyboard_manager.enable()\n",
       "    $(fig.parent_element).html('<img src=\"' + dataURL + '\" width=\"' + width + '\">');\n",
       "    fig.close_ws(fig, msg);\n",
       "}\n",
       "\n",
       "mpl.figure.prototype.close_ws = function(fig, msg){\n",
       "    fig.send_message('closing', msg);\n",
       "    // fig.ws.close()\n",
       "}\n",
       "\n",
       "mpl.figure.prototype.push_to_output = function(remove_interactive) {\n",
       "    // Turn the data on the canvas into data in the output cell.\n",
       "    var width = this.canvas.width/mpl.ratio\n",
       "    var dataURL = this.canvas.toDataURL();\n",
       "    this.cell_info[1]['text/html'] = '<img src=\"' + dataURL + '\" width=\"' + width + '\">';\n",
       "}\n",
       "\n",
       "mpl.figure.prototype.updated_canvas_event = function() {\n",
       "    // Tell IPython that the notebook contents must change.\n",
       "    IPython.notebook.set_dirty(true);\n",
       "    this.send_message(\"ack\", {});\n",
       "    var fig = this;\n",
       "    // Wait a second, then push the new image to the DOM so\n",
       "    // that it is saved nicely (might be nice to debounce this).\n",
       "    setTimeout(function () { fig.push_to_output() }, 1000);\n",
       "}\n",
       "\n",
       "mpl.figure.prototype._init_toolbar = function() {\n",
       "    var fig = this;\n",
       "\n",
       "    var nav_element = $('<div/>')\n",
       "    nav_element.attr('style', 'width: 100%');\n",
       "    this.root.append(nav_element);\n",
       "\n",
       "    // Define a callback function for later on.\n",
       "    function toolbar_event(event) {\n",
       "        return fig.toolbar_button_onclick(event['data']);\n",
       "    }\n",
       "    function toolbar_mouse_event(event) {\n",
       "        return fig.toolbar_button_onmouseover(event['data']);\n",
       "    }\n",
       "\n",
       "    for(var toolbar_ind in mpl.toolbar_items){\n",
       "        var name = mpl.toolbar_items[toolbar_ind][0];\n",
       "        var tooltip = mpl.toolbar_items[toolbar_ind][1];\n",
       "        var image = mpl.toolbar_items[toolbar_ind][2];\n",
       "        var method_name = mpl.toolbar_items[toolbar_ind][3];\n",
       "\n",
       "        if (!name) { continue; };\n",
       "\n",
       "        var button = $('<button class=\"btn btn-default\" href=\"#\" title=\"' + name + '\"><i class=\"fa ' + image + ' fa-lg\"></i></button>');\n",
       "        button.click(method_name, toolbar_event);\n",
       "        button.mouseover(tooltip, toolbar_mouse_event);\n",
       "        nav_element.append(button);\n",
       "    }\n",
       "\n",
       "    // Add the status bar.\n",
       "    var status_bar = $('<span class=\"mpl-message\" style=\"text-align:right; float: right;\"/>');\n",
       "    nav_element.append(status_bar);\n",
       "    this.message = status_bar[0];\n",
       "\n",
       "    // Add the close button to the window.\n",
       "    var buttongrp = $('<div class=\"btn-group inline pull-right\"></div>');\n",
       "    var button = $('<button class=\"btn btn-mini btn-primary\" href=\"#\" title=\"Stop Interaction\"><i class=\"fa fa-power-off icon-remove icon-large\"></i></button>');\n",
       "    button.click(function (evt) { fig.handle_close(fig, {}); } );\n",
       "    button.mouseover('Stop Interaction', toolbar_mouse_event);\n",
       "    buttongrp.append(button);\n",
       "    var titlebar = this.root.find($('.ui-dialog-titlebar'));\n",
       "    titlebar.prepend(buttongrp);\n",
       "}\n",
       "\n",
       "mpl.figure.prototype._root_extra_style = function(el){\n",
       "    var fig = this\n",
       "    el.on(\"remove\", function(){\n",
       "\tfig.close_ws(fig, {});\n",
       "    });\n",
       "}\n",
       "\n",
       "mpl.figure.prototype._canvas_extra_style = function(el){\n",
       "    // this is important to make the div 'focusable\n",
       "    el.attr('tabindex', 0)\n",
       "    // reach out to IPython and tell the keyboard manager to turn it's self\n",
       "    // off when our div gets focus\n",
       "\n",
       "    // location in version 3\n",
       "    if (IPython.notebook.keyboard_manager) {\n",
       "        IPython.notebook.keyboard_manager.register_events(el);\n",
       "    }\n",
       "    else {\n",
       "        // location in version 2\n",
       "        IPython.keyboard_manager.register_events(el);\n",
       "    }\n",
       "\n",
       "}\n",
       "\n",
       "mpl.figure.prototype._key_event_extra = function(event, name) {\n",
       "    var manager = IPython.notebook.keyboard_manager;\n",
       "    if (!manager)\n",
       "        manager = IPython.keyboard_manager;\n",
       "\n",
       "    // Check for shift+enter\n",
       "    if (event.shiftKey && event.which == 13) {\n",
       "        this.canvas_div.blur();\n",
       "        event.shiftKey = false;\n",
       "        // Send a \"J\" for go to next cell\n",
       "        event.which = 74;\n",
       "        event.keyCode = 74;\n",
       "        manager.command_mode();\n",
       "        manager.handle_keydown(event);\n",
       "    }\n",
       "}\n",
       "\n",
       "mpl.figure.prototype.handle_save = function(fig, msg) {\n",
       "    fig.ondownload(fig, null);\n",
       "}\n",
       "\n",
       "\n",
       "mpl.find_output_cell = function(html_output) {\n",
       "    // Return the cell and output element which can be found *uniquely* in the notebook.\n",
       "    // Note - this is a bit hacky, but it is done because the \"notebook_saving.Notebook\"\n",
       "    // IPython event is triggered only after the cells have been serialised, which for\n",
       "    // our purposes (turning an active figure into a static one), is too late.\n",
       "    var cells = IPython.notebook.get_cells();\n",
       "    var ncells = cells.length;\n",
       "    for (var i=0; i<ncells; i++) {\n",
       "        var cell = cells[i];\n",
       "        if (cell.cell_type === 'code'){\n",
       "            for (var j=0; j<cell.output_area.outputs.length; j++) {\n",
       "                var data = cell.output_area.outputs[j];\n",
       "                if (data.data) {\n",
       "                    // IPython >= 3 moved mimebundle to data attribute of output\n",
       "                    data = data.data;\n",
       "                }\n",
       "                if (data['text/html'] == html_output) {\n",
       "                    return [cell, data, j];\n",
       "                }\n",
       "            }\n",
       "        }\n",
       "    }\n",
       "}\n",
       "\n",
       "// Register the function which deals with the matplotlib target/channel.\n",
       "// The kernel may be null if the page has been refreshed.\n",
       "if (IPython.notebook.kernel != null) {\n",
       "    IPython.notebook.kernel.comm_manager.register_target('matplotlib', mpl.mpl_figure_comm);\n",
       "}\n"
      ],
      "text/plain": [
       "<IPython.core.display.Javascript object>"
      ]
     },
     "metadata": {},
     "output_type": "display_data"
    },
    {
     "data": {
      "text/html": [
       "<img src=\"data:image/png;base64,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\" width=\"800\">"
      ],
      "text/plain": [
       "<IPython.core.display.HTML object>"
      ]
     },
     "metadata": {},
     "output_type": "display_data"
    },
    {
     "name": "stdout",
     "output_type": "stream",
     "text": [
      "Press Enter to stop.\n"
     ]
    }
   ],
   "source": [
    "%matplotlib notebook\n",
    "from graphs_RSA import *\n",
    "\n",
    "COUNT = 250\n",
    "\n",
    "minBit = 24\n",
    "bf_bit = 44\n",
    "ff_bit = 44\n",
    "knj_bit = 44\n",
    "rho_bit = 44\n",
    "\n",
    "testGraphs(minBit, bf_bit, ff_bit, knj_bit, rho_bit, COUNT)"
   ]
  },
  {
   "cell_type": "markdown",
   "metadata": {},
   "source": [
    "<img src=\"imgs/RSA.png\" alt=\"drawing\" style=\"width:90%;\"/>"
   ]
  }
 ],
 "metadata": {
  "kernelspec": {
   "display_name": "Python 3",
   "language": "python",
   "name": "python3"
  },
  "language_info": {
   "codemirror_mode": {
    "name": "ipython",
    "version": 3
   },
   "file_extension": ".py",
   "mimetype": "text/x-python",
   "name": "python",
   "nbconvert_exporter": "python",
   "pygments_lexer": "ipython3",
   "version": "3.7.1"
  }
 },
 "nbformat": 4,
 "nbformat_minor": 2
}
