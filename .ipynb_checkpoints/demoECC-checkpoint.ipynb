{
 "cells": [
  {
   "cell_type": "markdown",
   "metadata": {},
   "source": [
    "# ECC Demonstration"
   ]
  },
  {
   "cell_type": "markdown",
   "metadata": {},
   "source": [
    "Import my ECC package into the environment"
   ]
  },
  {
   "cell_type": "code",
   "execution_count": 2,
   "metadata": {
    "scrolled": false
   },
   "outputs": [],
   "source": [
    "from ECC import *"
   ]
  },
  {
   "cell_type": "markdown",
   "metadata": {},
   "source": [
    "### Key Generation\n",
    "Declare the bit size we want to use"
   ]
  },
  {
   "cell_type": "code",
   "execution_count": 26,
   "metadata": {
    "scrolled": false
   },
   "outputs": [],
   "source": [
    "bitSize = 17"
   ]
  },
  {
   "cell_type": "markdown",
   "metadata": {},
   "source": [
    "Generate a set of ECC keys with appropriate bitsize"
   ]
  },
  {
   "cell_type": "code",
   "execution_count": 27,
   "metadata": {
    "scrolled": false
   },
   "outputs": [
    {
     "name": "stdout",
     "output_type": "stream",
     "text": [
      "================================================== \n",
      "Generating  17 bit prime... \n",
      "10 rounds of Miller-Rabin needed (according to FISC)\n",
      "Trial-Division prime list generated, size:  54\n",
      "New candidate... 73511\n",
      "New candidate... 102685\n",
      "New candidate... 85433\n",
      "New candidate... 78295\n",
      "New candidate... 93459\n",
      "New candidate... 85305\n",
      "New candidate... 71449\n",
      "New candidate... 79377\n",
      "New candidate... 76523\n",
      "New candidate... 122915\n",
      "New candidate... 106153\n",
      "New candidate... 126141\n",
      "New candidate... 74815\n",
      "New candidate... 93635\n",
      "New candidate... 129123\n",
      "New candidate... 73219\n",
      "New candidate... 91449\n",
      "New candidate... 120465\n",
      "New candidate... 108519\n",
      "New candidate... 119995\n",
      "New candidate... 79589\n",
      "Prime of  17 bits found: 79589\n",
      "Checked 21 candidates in 0.00 s\n",
      "\n",
      "Checking: y^2 = x^3 + 3 % 79589\n",
      "\n",
      "y^2 = x^3 + 3 % 79589\n",
      "Checked 1 curves\n",
      "k = 44482  G = (63483, 16824)   Q = (52402, 34768)\n",
      "Public-Key: {\n",
      "    Curve: y^2 = x^3 + 3 % 79589\n",
      "    Base-Point: (63483, 16824)\n",
      "    Order(Base): 79590\n",
      "    Public-Point: (52402, 34768)\n",
      "}\n",
      "Private-Key: 44482\n",
      "n is 17 bits\n",
      "\n"
     ]
    },
    {
     "data": {
      "text/plain": [
       "True"
      ]
     },
     "execution_count": 27,
     "metadata": {},
     "output_type": "execute_result"
    }
   ],
   "source": [
    "ECC_keys = generate_ECC.KeyGen(bitSize, True, True)     # initalise object True sets verbose and demo flag on KeyGen\n",
    "ECC_keys.generateCurve()                                # create a curve\n",
    "ECC_keys.generateKeys()                                 # runs generator"
   ]
  },
  {
   "cell_type": "markdown",
   "metadata": {},
   "source": [
    "### Brute Force Algorithm"
   ]
  },
  {
   "cell_type": "markdown",
   "metadata": {},
   "source": [
    "Very trivial:\n",
    "\n",
    "- Simply keep adding G to itself until we reach the required Q \n",
    "- $O(p)$ for prime $p$"
   ]
  },
  {
   "cell_type": "code",
   "execution_count": 4,
   "metadata": {
    "scrolled": true
   },
   "outputs": [
    {
     "data": {
      "text/plain": [
       "'116213.G = (4282, 115112)'"
      ]
     },
     "metadata": {},
     "output_type": "display_data"
    },
    {
     "name": "stdout",
     "output_type": "stream",
     "text": [
      "k: 116213\n",
      "Time taken: 3.426 s\n",
      "Space used: 4 bytes\n",
      "Numbers checked: 116213\n"
     ]
    },
    {
     "data": {
      "text/plain": [
       "True"
      ]
     },
     "execution_count": 4,
     "metadata": {},
     "output_type": "execute_result"
    }
   ],
   "source": [
    "# pass it public keys, and True verbose & demo flag\n",
    "bf = brute_force.BFSolver(ECC_keys.curve, ECC_keys.Q, ECC_keys.G, True, True) \n",
    "# run solver\n",
    "bf.solve()                                                                "
   ]
  },
  {
   "cell_type": "markdown",
   "metadata": {},
   "source": [
    "### Pollard's-$\\lambda$ method"
   ]
  },
  {
   "cell_type": "markdown",
   "metadata": {},
   "source": [
    "An extremely probabilistic method:\n",
    "\n",
    "- Based around setting a \"trap\"\n",
    "- Which a \"wild kangaroo\" falls into\n",
    "- The distance travelled before falling into the trap helps is calculate $k$\n",
    "- Theoretically grows wit $O(\\sqrt{p})$\n",
    "- Often fails with the \"wild kangaroo\" entering a cycle in a safe zone"
   ]
  },
  {
   "cell_type": "code",
   "execution_count": 5,
   "metadata": {},
   "outputs": [
    {
     "data": {
      "text/plain": [
       "'Trap: (78201, 96909) Wild: (78201, 96909)'"
      ]
     },
     "metadata": {},
     "output_type": "display_data"
    },
    {
     "name": "stdout",
     "output_type": "stream",
     "text": [
      "k: 116213\n",
      "Time taken: 0.228 s\n",
      "Space used: 80 bytes\n",
      "Numbers checked: 1025\n"
     ]
    },
    {
     "data": {
      "text/plain": [
       "True"
      ]
     },
     "execution_count": 5,
     "metadata": {},
     "output_type": "execute_result"
    }
   ],
   "source": [
    "# pass it public keys, and True verbose & demo flag\n",
    "lamb = pollard_lambda.PLSolver(ECC_keys.curve, ECC_keys.Q, ECC_keys.G, True, True) \n",
    "# run solver\n",
    "lamb.solve()  "
   ]
  },
  {
   "cell_type": "markdown",
   "metadata": {},
   "source": [
    "### Make it a bit harder"
   ]
  },
  {
   "cell_type": "code",
   "execution_count": 28,
   "metadata": {},
   "outputs": [
    {
     "name": "stdout",
     "output_type": "stream",
     "text": [
      "Prime of  26 bits found: 55526413\n",
      "Checked 7 candidates in 0.00 s\n",
      "\n",
      "y^2 = x^3 + 3x + 5 % 55526413\n",
      "Checked 1 curves\n",
      "k = 54083830  G = (37183393, 5584089)   Q = (31269417, 24605831)\n",
      "Public-Key: {\n",
      "    Curve: y^2 = x^3 + 3x + 5 % 55526413\n",
      "    Base-Point: (37183393, 5584089)\n",
      "    Order(Base): 55533056\n",
      "    Public-Point: (31269417, 24605831)\n",
      "}\n",
      "Private-Key: 54083830\n",
      "n is 26 bits\n",
      "\n"
     ]
    },
    {
     "data": {
      "text/plain": [
       "True"
      ]
     },
     "execution_count": 28,
     "metadata": {},
     "output_type": "execute_result"
    }
   ],
   "source": [
    "bitSize = 26\n",
    "\n",
    "ECC_keys = generate_ECC.KeyGen(bitSize, True)     # initalise object True sets verbose flag on KeyGen\n",
    "ECC_keys.generateCurve()                          # create a curve\n",
    "ECC_keys.generateKeys()                           # runs generator"
   ]
  },
  {
   "cell_type": "markdown",
   "metadata": {},
   "source": [
    "### Baby Step - Giant Step Algorithm"
   ]
  },
  {
   "cell_type": "markdown",
   "metadata": {},
   "source": [
    "This algorithm is essentialyl brute-force, trading space for time:\n",
    "\n",
    "- We compute a hash table of results upto $s \\leftarrow \\sqrt{ord(G)}$\n",
    "- Giant steps incremet $i$ calculating: $P \\leftarrow Q - G.(i*s)$\n",
    "- When $P$ is found in the hash table we calculate $k \\leftarrow hash(P) + i*s$\n",
    "- $O(\\sqrt{p})$ for space and time complexity"
   ]
  },
  {
   "cell_type": "code",
   "execution_count": 7,
   "metadata": {},
   "outputs": [
    {
     "data": {
      "text/plain": [
       "'(42896506, 33779202) - (45692157, 9536010) * 40377873 = (10482692, 11187616)'"
      ]
     },
     "metadata": {},
     "output_type": "display_data"
    },
    {
     "name": "stdout",
     "output_type": "stream",
     "text": [
      "k: 40378014\n",
      "Time taken: 3.097 s\n",
      "Space used: 55904 bytes\n",
      "Numbers checked: 12768\n"
     ]
    },
    {
     "data": {
      "text/plain": [
       "True"
      ]
     },
     "execution_count": 7,
     "metadata": {},
     "output_type": "execute_result"
    }
   ],
   "source": [
    "# pass it public keys, and True verbose & demo flag\n",
    "bsgs = baby_step.BGSolver(ECC_keys.curve, ECC_keys.Q, ECC_keys.G, True, True)    \n",
    "# run solver\n",
    "bsgs.solve()                                                              "
   ]
  },
  {
   "cell_type": "markdown",
   "metadata": {},
   "source": [
    "### Pohlig-Hellman"
   ]
  },
  {
   "cell_type": "markdown",
   "metadata": {},
   "source": [
    "A \"special purpose\" algorithm:\n",
    "\n",
    "- If $ord(G)$ is a \"smoooth number\" we can decompose the problem \n",
    "- Making new sub-problems over each of the prime factors\n",
    "- Then recombine the solutions using the CRT\n",
    "- It's time complexity grows with the square root of the largest prime factor of $ord(G)$.\n",
    "- So worst case is $O(\\sqrt{p})$ where $ord(G) \\equiv p$"
   ]
  },
  {
   "cell_type": "code",
   "execution_count": 8,
   "metadata": {},
   "outputs": [
    {
     "name": "stdout",
     "output_type": "stream",
     "text": [
      "{17: 1, 659: 1, 4357: 1}\n",
      "17^1: G'=(30417447, 9422730) Q'=(35646582, 40245245); ord = 17\n",
      "659^1: G'=(7976615, 32580535) Q'=(12736686, 28754677); ord = 659\n",
      "4357^1: G'=(15215002, 39500999) Q'=(23817113, 4446234); ord = 4357\n",
      "k: 40378014\n",
      "Time taken: 0.012 s\n",
      "Space used: 139\n",
      "Numbers checked: 145\n"
     ]
    },
    {
     "data": {
      "text/plain": [
       "True"
      ]
     },
     "execution_count": 8,
     "metadata": {},
     "output_type": "execute_result"
    }
   ],
   "source": [
    "# pass it public keys, and True verbose & demo flag\n",
    "ph = pohlig_hellman.PHSolver(ECC_keys.curve, ECC_keys.Q, ECC_keys.G, True, True) \n",
    "# run solver\n",
    "ph.solve()  "
   ]
  },
  {
   "cell_type": "markdown",
   "metadata": {},
   "source": [
    "### Pollard's-$\\rho$ method"
   ]
  },
  {
   "cell_type": "markdown",
   "metadata": {},
   "source": [
    "Same as for the IFP:\n",
    "\n",
    "- We aim to find two sets of numbers such that $a.G + b.Q = a'.G + b'.Q$, which rearranges to give us: $k \\leftarrow \\frac{a-a'}{b'-b} \\; mod \\; ord(G)$\n",
    "- Found by generating a repeatable random sequence of points, which according to the birthday paradox must eventually cycle\n",
    "- Send two runners around one twice as fast as the other to detect cycle \n",
    "- $O(\\sqrt{p})$ according to birthday paradox\n",
    "- But each \"check\" is only an addition not multiplication, so much faster"
   ]
  },
  {
   "cell_type": "code",
   "execution_count": 29,
   "metadata": {
    "scrolled": true
   },
   "outputs": [
    {
     "data": {
      "text/plain": [
       "'X: (26853316, 53990554) Y: (26853316, 53990554)'"
      ]
     },
     "metadata": {},
     "output_type": "display_data"
    },
    {
     "name": "stdout",
     "output_type": "stream",
     "text": [
      "k: 54083830\n",
      "Time taken: 0.938 s\n",
      "Space used: 72 bytes\n",
      "Numbers checked: 11571\n"
     ]
    },
    {
     "data": {
      "text/plain": [
       "True"
      ]
     },
     "execution_count": 29,
     "metadata": {},
     "output_type": "execute_result"
    }
   ],
   "source": [
    "# pass it public keys, and True verbose & demo flag\n",
    "rho = pollard_rho.PRSolver(ECC_keys.curve, ECC_keys.Q, ECC_keys.G, True, True)   \n",
    "# run solver\n",
    "rho.solve()                                                                "
   ]
  },
  {
   "cell_type": "markdown",
   "metadata": {},
   "source": [
    "### MOV Attack"
   ]
  },
  {
   "cell_type": "markdown",
   "metadata": {},
   "source": [
    "Maps the ECDLP to the DLP:\n",
    "\n",
    "- Works for a very small number of curves, which have a small embedding degree\n",
    "- $\\epsilon$, where $\\epsilon$ is the lowest integer satisfying $p^{\\epsilon} - 1 / card(E) \\in N$ ($p$ is prime, $E$ is a curve over ${\\bf F}_p$ and $card(E)$ is the number of points on the curve)\n",
    "- Extremely efficient (subexponential) if it works\n",
    "- But works for exponentially increasing amount of numbers "
   ]
  },
  {
   "cell_type": "code",
   "execution_count": 7,
   "metadata": {},
   "outputs": [
    {
     "name": "stdout",
     "output_type": "stream",
     "text": [
      "Prime of  12 bits found: 3931\n",
      "Checked 3 candidates in 0.00 s\n",
      "\n",
      "y^2 = x^3 + 9x % 3931\n",
      "Checked 1 curves\n",
      "k = 3874  G = (840, 1359)   Q = (1055, 2917)\n",
      "Public-Key: {\n",
      "    Curve: y^2 = x^3 + 9x % 3931\n",
      "    Base-Point: (840, 1359)\n",
      "    Order(Base): 3932\n",
      "    Public-Point: (1055, 2917)\n",
      "}\n",
      "Private-Key: 3874\n",
      "n is 12 bits\n",
      "\n",
      "1448*a + 1732 2385*a + 563 3932\n",
      "k: 3874\n",
      "Time taken: 0.001 s\n",
      "Space used: 30976 bytes\n",
      "Numbers checked: 88\n"
     ]
    }
   ],
   "source": [
    "from IPython.display import display, clear_output\n",
    "\n",
    "solved = False\n",
    "bitSize = 12\n",
    "\n",
    "while not solved:\n",
    "    clear_output(wait=True)\n",
    "    \n",
    "    ECC_keys = generate_ECC.KeyGen(bitSize, True)     # initalise object True sets verbose flag on KeyGen\n",
    "    ECC_keys.generateCurve()                          # create a curve\n",
    "    ECC_keys.generateKeys()                           # runs generator\n",
    "\n",
    "    # pass it public keys, and True verbose & demo flag\n",
    "    mov = mov_attack.MOVSolver(ECC_keys.curve, ECC_keys.Q, ECC_keys.G, True, True) \n",
    "    # run solver\n",
    "    mov.solve()  \n",
    "    \n",
    "    solved = mov.k == ECC_keys.k"
   ]
  },
  {
   "cell_type": "markdown",
   "metadata": {},
   "source": [
    "### Basic Analysis\n",
    "Running the above algorithms on a variety of random inputs to create graphs showing general trends.\n",
    "\n",
    "The below style code makes the format of the graphs nicer"
   ]
  },
  {
   "cell_type": "code",
   "execution_count": 11,
   "metadata": {
    "scrolled": false
   },
   "outputs": [
    {
     "data": {
      "text/html": [
       "<style>\n",
       ".output_wrapper button.btn.btn-default,\n",
       ".output_wrapper .ui-dialog-titlebar {\n",
       "  display: none;\n",
       "}\n",
       "</style>\n"
      ],
      "text/plain": [
       "<IPython.core.display.HTML object>"
      ]
     },
     "metadata": {},
     "output_type": "display_data"
    }
   ],
   "source": [
    "%%html\n",
    "<style>\n",
    ".output_wrapper button.btn.btn-default,\n",
    ".output_wrapper .ui-dialog-titlebar {\n",
    "  display: none;\n",
    "}\n",
    "</style>"
   ]
  },
  {
   "cell_type": "markdown",
   "metadata": {},
   "source": [
    "Runs each algorithm in a thread and plots the results."
   ]
  },
  {
   "cell_type": "code",
   "execution_count": 2,
   "metadata": {
    "scrolled": false
   },
   "outputs": [
    {
     "data": {
      "application/javascript": [
       "/* Put everything inside the global mpl namespace */\n",
       "window.mpl = {};\n",
       "\n",
       "\n",
       "mpl.get_websocket_type = function() {\n",
       "    if (typeof(WebSocket) !== 'undefined') {\n",
       "        return WebSocket;\n",
       "    } else if (typeof(MozWebSocket) !== 'undefined') {\n",
       "        return MozWebSocket;\n",
       "    } else {\n",
       "        alert('Your browser does not have WebSocket support.' +\n",
       "              'Please try Chrome, Safari or Firefox ≥ 6. ' +\n",
       "              'Firefox 4 and 5 are also supported but you ' +\n",
       "              'have to enable WebSockets in about:config.');\n",
       "    };\n",
       "}\n",
       "\n",
       "mpl.figure = function(figure_id, websocket, ondownload, parent_element) {\n",
       "    this.id = figure_id;\n",
       "\n",
       "    this.ws = websocket;\n",
       "\n",
       "    this.supports_binary = (this.ws.binaryType != undefined);\n",
       "\n",
       "    if (!this.supports_binary) {\n",
       "        var warnings = document.getElementById(\"mpl-warnings\");\n",
       "        if (warnings) {\n",
       "            warnings.style.display = 'block';\n",
       "            warnings.textContent = (\n",
       "                \"This browser does not support binary websocket messages. \" +\n",
       "                    \"Performance may be slow.\");\n",
       "        }\n",
       "    }\n",
       "\n",
       "    this.imageObj = new Image();\n",
       "\n",
       "    this.context = undefined;\n",
       "    this.message = undefined;\n",
       "    this.canvas = undefined;\n",
       "    this.rubberband_canvas = undefined;\n",
       "    this.rubberband_context = undefined;\n",
       "    this.format_dropdown = undefined;\n",
       "\n",
       "    this.image_mode = 'full';\n",
       "\n",
       "    this.root = $('<div/>');\n",
       "    this._root_extra_style(this.root)\n",
       "    this.root.attr('style', 'display: inline-block');\n",
       "\n",
       "    $(parent_element).append(this.root);\n",
       "\n",
       "    this._init_header(this);\n",
       "    this._init_canvas(this);\n",
       "    this._init_toolbar(this);\n",
       "\n",
       "    var fig = this;\n",
       "\n",
       "    this.waiting = false;\n",
       "\n",
       "    this.ws.onopen =  function () {\n",
       "            fig.send_message(\"supports_binary\", {value: fig.supports_binary});\n",
       "            fig.send_message(\"send_image_mode\", {});\n",
       "            if (mpl.ratio != 1) {\n",
       "                fig.send_message(\"set_dpi_ratio\", {'dpi_ratio': mpl.ratio});\n",
       "            }\n",
       "            fig.send_message(\"refresh\", {});\n",
       "        }\n",
       "\n",
       "    this.imageObj.onload = function() {\n",
       "            if (fig.image_mode == 'full') {\n",
       "                // Full images could contain transparency (where diff images\n",
       "                // almost always do), so we need to clear the canvas so that\n",
       "                // there is no ghosting.\n",
       "                fig.context.clearRect(0, 0, fig.canvas.width, fig.canvas.height);\n",
       "            }\n",
       "            fig.context.drawImage(fig.imageObj, 0, 0);\n",
       "        };\n",
       "\n",
       "    this.imageObj.onunload = function() {\n",
       "        fig.ws.close();\n",
       "    }\n",
       "\n",
       "    this.ws.onmessage = this._make_on_message_function(this);\n",
       "\n",
       "    this.ondownload = ondownload;\n",
       "}\n",
       "\n",
       "mpl.figure.prototype._init_header = function() {\n",
       "    var titlebar = $(\n",
       "        '<div class=\"ui-dialog-titlebar ui-widget-header ui-corner-all ' +\n",
       "        'ui-helper-clearfix\"/>');\n",
       "    var titletext = $(\n",
       "        '<div class=\"ui-dialog-title\" style=\"width: 100%; ' +\n",
       "        'text-align: center; padding: 3px;\"/>');\n",
       "    titlebar.append(titletext)\n",
       "    this.root.append(titlebar);\n",
       "    this.header = titletext[0];\n",
       "}\n",
       "\n",
       "\n",
       "\n",
       "mpl.figure.prototype._canvas_extra_style = function(canvas_div) {\n",
       "\n",
       "}\n",
       "\n",
       "\n",
       "mpl.figure.prototype._root_extra_style = function(canvas_div) {\n",
       "\n",
       "}\n",
       "\n",
       "mpl.figure.prototype._init_canvas = function() {\n",
       "    var fig = this;\n",
       "\n",
       "    var canvas_div = $('<div/>');\n",
       "\n",
       "    canvas_div.attr('style', 'position: relative; clear: both; outline: 0');\n",
       "\n",
       "    function canvas_keyboard_event(event) {\n",
       "        return fig.key_event(event, event['data']);\n",
       "    }\n",
       "\n",
       "    canvas_div.keydown('key_press', canvas_keyboard_event);\n",
       "    canvas_div.keyup('key_release', canvas_keyboard_event);\n",
       "    this.canvas_div = canvas_div\n",
       "    this._canvas_extra_style(canvas_div)\n",
       "    this.root.append(canvas_div);\n",
       "\n",
       "    var canvas = $('<canvas/>');\n",
       "    canvas.addClass('mpl-canvas');\n",
       "    canvas.attr('style', \"left: 0; top: 0; z-index: 0; outline: 0\")\n",
       "\n",
       "    this.canvas = canvas[0];\n",
       "    this.context = canvas[0].getContext(\"2d\");\n",
       "\n",
       "    var backingStore = this.context.backingStorePixelRatio ||\n",
       "\tthis.context.webkitBackingStorePixelRatio ||\n",
       "\tthis.context.mozBackingStorePixelRatio ||\n",
       "\tthis.context.msBackingStorePixelRatio ||\n",
       "\tthis.context.oBackingStorePixelRatio ||\n",
       "\tthis.context.backingStorePixelRatio || 1;\n",
       "\n",
       "    mpl.ratio = (window.devicePixelRatio || 1) / backingStore;\n",
       "\n",
       "    var rubberband = $('<canvas/>');\n",
       "    rubberband.attr('style', \"position: absolute; left: 0; top: 0; z-index: 1;\")\n",
       "\n",
       "    var pass_mouse_events = true;\n",
       "\n",
       "    canvas_div.resizable({\n",
       "        start: function(event, ui) {\n",
       "            pass_mouse_events = false;\n",
       "        },\n",
       "        resize: function(event, ui) {\n",
       "            fig.request_resize(ui.size.width, ui.size.height);\n",
       "        },\n",
       "        stop: function(event, ui) {\n",
       "            pass_mouse_events = true;\n",
       "            fig.request_resize(ui.size.width, ui.size.height);\n",
       "        },\n",
       "    });\n",
       "\n",
       "    function mouse_event_fn(event) {\n",
       "        if (pass_mouse_events)\n",
       "            return fig.mouse_event(event, event['data']);\n",
       "    }\n",
       "\n",
       "    rubberband.mousedown('button_press', mouse_event_fn);\n",
       "    rubberband.mouseup('button_release', mouse_event_fn);\n",
       "    // Throttle sequential mouse events to 1 every 20ms.\n",
       "    rubberband.mousemove('motion_notify', mouse_event_fn);\n",
       "\n",
       "    rubberband.mouseenter('figure_enter', mouse_event_fn);\n",
       "    rubberband.mouseleave('figure_leave', mouse_event_fn);\n",
       "\n",
       "    canvas_div.on(\"wheel\", function (event) {\n",
       "        event = event.originalEvent;\n",
       "        event['data'] = 'scroll'\n",
       "        if (event.deltaY < 0) {\n",
       "            event.step = 1;\n",
       "        } else {\n",
       "            event.step = -1;\n",
       "        }\n",
       "        mouse_event_fn(event);\n",
       "    });\n",
       "\n",
       "    canvas_div.append(canvas);\n",
       "    canvas_div.append(rubberband);\n",
       "\n",
       "    this.rubberband = rubberband;\n",
       "    this.rubberband_canvas = rubberband[0];\n",
       "    this.rubberband_context = rubberband[0].getContext(\"2d\");\n",
       "    this.rubberband_context.strokeStyle = \"#000000\";\n",
       "\n",
       "    this._resize_canvas = function(width, height) {\n",
       "        // Keep the size of the canvas, canvas container, and rubber band\n",
       "        // canvas in synch.\n",
       "        canvas_div.css('width', width)\n",
       "        canvas_div.css('height', height)\n",
       "\n",
       "        canvas.attr('width', width * mpl.ratio);\n",
       "        canvas.attr('height', height * mpl.ratio);\n",
       "        canvas.attr('style', 'width: ' + width + 'px; height: ' + height + 'px;');\n",
       "\n",
       "        rubberband.attr('width', width);\n",
       "        rubberband.attr('height', height);\n",
       "    }\n",
       "\n",
       "    // Set the figure to an initial 600x600px, this will subsequently be updated\n",
       "    // upon first draw.\n",
       "    this._resize_canvas(600, 600);\n",
       "\n",
       "    // Disable right mouse context menu.\n",
       "    $(this.rubberband_canvas).bind(\"contextmenu\",function(e){\n",
       "        return false;\n",
       "    });\n",
       "\n",
       "    function set_focus () {\n",
       "        canvas.focus();\n",
       "        canvas_div.focus();\n",
       "    }\n",
       "\n",
       "    window.setTimeout(set_focus, 100);\n",
       "}\n",
       "\n",
       "mpl.figure.prototype._init_toolbar = function() {\n",
       "    var fig = this;\n",
       "\n",
       "    var nav_element = $('<div/>')\n",
       "    nav_element.attr('style', 'width: 100%');\n",
       "    this.root.append(nav_element);\n",
       "\n",
       "    // Define a callback function for later on.\n",
       "    function toolbar_event(event) {\n",
       "        return fig.toolbar_button_onclick(event['data']);\n",
       "    }\n",
       "    function toolbar_mouse_event(event) {\n",
       "        return fig.toolbar_button_onmouseover(event['data']);\n",
       "    }\n",
       "\n",
       "    for(var toolbar_ind in mpl.toolbar_items) {\n",
       "        var name = mpl.toolbar_items[toolbar_ind][0];\n",
       "        var tooltip = mpl.toolbar_items[toolbar_ind][1];\n",
       "        var image = mpl.toolbar_items[toolbar_ind][2];\n",
       "        var method_name = mpl.toolbar_items[toolbar_ind][3];\n",
       "\n",
       "        if (!name) {\n",
       "            // put a spacer in here.\n",
       "            continue;\n",
       "        }\n",
       "        var button = $('<button/>');\n",
       "        button.addClass('ui-button ui-widget ui-state-default ui-corner-all ' +\n",
       "                        'ui-button-icon-only');\n",
       "        button.attr('role', 'button');\n",
       "        button.attr('aria-disabled', 'false');\n",
       "        button.click(method_name, toolbar_event);\n",
       "        button.mouseover(tooltip, toolbar_mouse_event);\n",
       "\n",
       "        var icon_img = $('<span/>');\n",
       "        icon_img.addClass('ui-button-icon-primary ui-icon');\n",
       "        icon_img.addClass(image);\n",
       "        icon_img.addClass('ui-corner-all');\n",
       "\n",
       "        var tooltip_span = $('<span/>');\n",
       "        tooltip_span.addClass('ui-button-text');\n",
       "        tooltip_span.html(tooltip);\n",
       "\n",
       "        button.append(icon_img);\n",
       "        button.append(tooltip_span);\n",
       "\n",
       "        nav_element.append(button);\n",
       "    }\n",
       "\n",
       "    var fmt_picker_span = $('<span/>');\n",
       "\n",
       "    var fmt_picker = $('<select/>');\n",
       "    fmt_picker.addClass('mpl-toolbar-option ui-widget ui-widget-content');\n",
       "    fmt_picker_span.append(fmt_picker);\n",
       "    nav_element.append(fmt_picker_span);\n",
       "    this.format_dropdown = fmt_picker[0];\n",
       "\n",
       "    for (var ind in mpl.extensions) {\n",
       "        var fmt = mpl.extensions[ind];\n",
       "        var option = $(\n",
       "            '<option/>', {selected: fmt === mpl.default_extension}).html(fmt);\n",
       "        fmt_picker.append(option)\n",
       "    }\n",
       "\n",
       "    // Add hover states to the ui-buttons\n",
       "    $( \".ui-button\" ).hover(\n",
       "        function() { $(this).addClass(\"ui-state-hover\");},\n",
       "        function() { $(this).removeClass(\"ui-state-hover\");}\n",
       "    );\n",
       "\n",
       "    var status_bar = $('<span class=\"mpl-message\"/>');\n",
       "    nav_element.append(status_bar);\n",
       "    this.message = status_bar[0];\n",
       "}\n",
       "\n",
       "mpl.figure.prototype.request_resize = function(x_pixels, y_pixels) {\n",
       "    // Request matplotlib to resize the figure. Matplotlib will then trigger a resize in the client,\n",
       "    // which will in turn request a refresh of the image.\n",
       "    this.send_message('resize', {'width': x_pixels, 'height': y_pixels});\n",
       "}\n",
       "\n",
       "mpl.figure.prototype.send_message = function(type, properties) {\n",
       "    properties['type'] = type;\n",
       "    properties['figure_id'] = this.id;\n",
       "    this.ws.send(JSON.stringify(properties));\n",
       "}\n",
       "\n",
       "mpl.figure.prototype.send_draw_message = function() {\n",
       "    if (!this.waiting) {\n",
       "        this.waiting = true;\n",
       "        this.ws.send(JSON.stringify({type: \"draw\", figure_id: this.id}));\n",
       "    }\n",
       "}\n",
       "\n",
       "\n",
       "mpl.figure.prototype.handle_save = function(fig, msg) {\n",
       "    var format_dropdown = fig.format_dropdown;\n",
       "    var format = format_dropdown.options[format_dropdown.selectedIndex].value;\n",
       "    fig.ondownload(fig, format);\n",
       "}\n",
       "\n",
       "\n",
       "mpl.figure.prototype.handle_resize = function(fig, msg) {\n",
       "    var size = msg['size'];\n",
       "    if (size[0] != fig.canvas.width || size[1] != fig.canvas.height) {\n",
       "        fig._resize_canvas(size[0], size[1]);\n",
       "        fig.send_message(\"refresh\", {});\n",
       "    };\n",
       "}\n",
       "\n",
       "mpl.figure.prototype.handle_rubberband = function(fig, msg) {\n",
       "    var x0 = msg['x0'] / mpl.ratio;\n",
       "    var y0 = (fig.canvas.height - msg['y0']) / mpl.ratio;\n",
       "    var x1 = msg['x1'] / mpl.ratio;\n",
       "    var y1 = (fig.canvas.height - msg['y1']) / mpl.ratio;\n",
       "    x0 = Math.floor(x0) + 0.5;\n",
       "    y0 = Math.floor(y0) + 0.5;\n",
       "    x1 = Math.floor(x1) + 0.5;\n",
       "    y1 = Math.floor(y1) + 0.5;\n",
       "    var min_x = Math.min(x0, x1);\n",
       "    var min_y = Math.min(y0, y1);\n",
       "    var width = Math.abs(x1 - x0);\n",
       "    var height = Math.abs(y1 - y0);\n",
       "\n",
       "    fig.rubberband_context.clearRect(\n",
       "        0, 0, fig.canvas.width, fig.canvas.height);\n",
       "\n",
       "    fig.rubberband_context.strokeRect(min_x, min_y, width, height);\n",
       "}\n",
       "\n",
       "mpl.figure.prototype.handle_figure_label = function(fig, msg) {\n",
       "    // Updates the figure title.\n",
       "    fig.header.textContent = msg['label'];\n",
       "}\n",
       "\n",
       "mpl.figure.prototype.handle_cursor = function(fig, msg) {\n",
       "    var cursor = msg['cursor'];\n",
       "    switch(cursor)\n",
       "    {\n",
       "    case 0:\n",
       "        cursor = 'pointer';\n",
       "        break;\n",
       "    case 1:\n",
       "        cursor = 'default';\n",
       "        break;\n",
       "    case 2:\n",
       "        cursor = 'crosshair';\n",
       "        break;\n",
       "    case 3:\n",
       "        cursor = 'move';\n",
       "        break;\n",
       "    }\n",
       "    fig.rubberband_canvas.style.cursor = cursor;\n",
       "}\n",
       "\n",
       "mpl.figure.prototype.handle_message = function(fig, msg) {\n",
       "    fig.message.textContent = msg['message'];\n",
       "}\n",
       "\n",
       "mpl.figure.prototype.handle_draw = function(fig, msg) {\n",
       "    // Request the server to send over a new figure.\n",
       "    fig.send_draw_message();\n",
       "}\n",
       "\n",
       "mpl.figure.prototype.handle_image_mode = function(fig, msg) {\n",
       "    fig.image_mode = msg['mode'];\n",
       "}\n",
       "\n",
       "mpl.figure.prototype.updated_canvas_event = function() {\n",
       "    // Called whenever the canvas gets updated.\n",
       "    this.send_message(\"ack\", {});\n",
       "}\n",
       "\n",
       "// A function to construct a web socket function for onmessage handling.\n",
       "// Called in the figure constructor.\n",
       "mpl.figure.prototype._make_on_message_function = function(fig) {\n",
       "    return function socket_on_message(evt) {\n",
       "        if (evt.data instanceof Blob) {\n",
       "            /* FIXME: We get \"Resource interpreted as Image but\n",
       "             * transferred with MIME type text/plain:\" errors on\n",
       "             * Chrome.  But how to set the MIME type?  It doesn't seem\n",
       "             * to be part of the websocket stream */\n",
       "            evt.data.type = \"image/png\";\n",
       "\n",
       "            /* Free the memory for the previous frames */\n",
       "            if (fig.imageObj.src) {\n",
       "                (window.URL || window.webkitURL).revokeObjectURL(\n",
       "                    fig.imageObj.src);\n",
       "            }\n",
       "\n",
       "            fig.imageObj.src = (window.URL || window.webkitURL).createObjectURL(\n",
       "                evt.data);\n",
       "            fig.updated_canvas_event();\n",
       "            fig.waiting = false;\n",
       "            return;\n",
       "        }\n",
       "        else if (typeof evt.data === 'string' && evt.data.slice(0, 21) == \"data:image/png;base64\") {\n",
       "            fig.imageObj.src = evt.data;\n",
       "            fig.updated_canvas_event();\n",
       "            fig.waiting = false;\n",
       "            return;\n",
       "        }\n",
       "\n",
       "        var msg = JSON.parse(evt.data);\n",
       "        var msg_type = msg['type'];\n",
       "\n",
       "        // Call the  \"handle_{type}\" callback, which takes\n",
       "        // the figure and JSON message as its only arguments.\n",
       "        try {\n",
       "            var callback = fig[\"handle_\" + msg_type];\n",
       "        } catch (e) {\n",
       "            console.log(\"No handler for the '\" + msg_type + \"' message type: \", msg);\n",
       "            return;\n",
       "        }\n",
       "\n",
       "        if (callback) {\n",
       "            try {\n",
       "                // console.log(\"Handling '\" + msg_type + \"' message: \", msg);\n",
       "                callback(fig, msg);\n",
       "            } catch (e) {\n",
       "                console.log(\"Exception inside the 'handler_\" + msg_type + \"' callback:\", e, e.stack, msg);\n",
       "            }\n",
       "        }\n",
       "    };\n",
       "}\n",
       "\n",
       "// from http://stackoverflow.com/questions/1114465/getting-mouse-location-in-canvas\n",
       "mpl.findpos = function(e) {\n",
       "    //this section is from http://www.quirksmode.org/js/events_properties.html\n",
       "    var targ;\n",
       "    if (!e)\n",
       "        e = window.event;\n",
       "    if (e.target)\n",
       "        targ = e.target;\n",
       "    else if (e.srcElement)\n",
       "        targ = e.srcElement;\n",
       "    if (targ.nodeType == 3) // defeat Safari bug\n",
       "        targ = targ.parentNode;\n",
       "\n",
       "    // jQuery normalizes the pageX and pageY\n",
       "    // pageX,Y are the mouse positions relative to the document\n",
       "    // offset() returns the position of the element relative to the document\n",
       "    var x = e.pageX - $(targ).offset().left;\n",
       "    var y = e.pageY - $(targ).offset().top;\n",
       "\n",
       "    return {\"x\": x, \"y\": y};\n",
       "};\n",
       "\n",
       "/*\n",
       " * return a copy of an object with only non-object keys\n",
       " * we need this to avoid circular references\n",
       " * http://stackoverflow.com/a/24161582/3208463\n",
       " */\n",
       "function simpleKeys (original) {\n",
       "  return Object.keys(original).reduce(function (obj, key) {\n",
       "    if (typeof original[key] !== 'object')\n",
       "        obj[key] = original[key]\n",
       "    return obj;\n",
       "  }, {});\n",
       "}\n",
       "\n",
       "mpl.figure.prototype.mouse_event = function(event, name) {\n",
       "    var canvas_pos = mpl.findpos(event)\n",
       "\n",
       "    if (name === 'button_press')\n",
       "    {\n",
       "        this.canvas.focus();\n",
       "        this.canvas_div.focus();\n",
       "    }\n",
       "\n",
       "    var x = canvas_pos.x * mpl.ratio;\n",
       "    var y = canvas_pos.y * mpl.ratio;\n",
       "\n",
       "    this.send_message(name, {x: x, y: y, button: event.button,\n",
       "                             step: event.step,\n",
       "                             guiEvent: simpleKeys(event)});\n",
       "\n",
       "    /* This prevents the web browser from automatically changing to\n",
       "     * the text insertion cursor when the button is pressed.  We want\n",
       "     * to control all of the cursor setting manually through the\n",
       "     * 'cursor' event from matplotlib */\n",
       "    event.preventDefault();\n",
       "    return false;\n",
       "}\n",
       "\n",
       "mpl.figure.prototype._key_event_extra = function(event, name) {\n",
       "    // Handle any extra behaviour associated with a key event\n",
       "}\n",
       "\n",
       "mpl.figure.prototype.key_event = function(event, name) {\n",
       "\n",
       "    // Prevent repeat events\n",
       "    if (name == 'key_press')\n",
       "    {\n",
       "        if (event.which === this._key)\n",
       "            return;\n",
       "        else\n",
       "            this._key = event.which;\n",
       "    }\n",
       "    if (name == 'key_release')\n",
       "        this._key = null;\n",
       "\n",
       "    var value = '';\n",
       "    if (event.ctrlKey && event.which != 17)\n",
       "        value += \"ctrl+\";\n",
       "    if (event.altKey && event.which != 18)\n",
       "        value += \"alt+\";\n",
       "    if (event.shiftKey && event.which != 16)\n",
       "        value += \"shift+\";\n",
       "\n",
       "    value += 'k';\n",
       "    value += event.which.toString();\n",
       "\n",
       "    this._key_event_extra(event, name);\n",
       "\n",
       "    this.send_message(name, {key: value,\n",
       "                             guiEvent: simpleKeys(event)});\n",
       "    return false;\n",
       "}\n",
       "\n",
       "mpl.figure.prototype.toolbar_button_onclick = function(name) {\n",
       "    if (name == 'download') {\n",
       "        this.handle_save(this, null);\n",
       "    } else {\n",
       "        this.send_message(\"toolbar_button\", {name: name});\n",
       "    }\n",
       "};\n",
       "\n",
       "mpl.figure.prototype.toolbar_button_onmouseover = function(tooltip) {\n",
       "    this.message.textContent = tooltip;\n",
       "};\n",
       "mpl.toolbar_items = [[\"Home\", \"Reset original view\", \"fa fa-home icon-home\", \"home\"], [\"Back\", \"Back to previous view\", \"fa fa-arrow-left icon-arrow-left\", \"back\"], [\"Forward\", \"Forward to next view\", \"fa fa-arrow-right icon-arrow-right\", \"forward\"], [\"\", \"\", \"\", \"\"], [\"Pan\", \"Pan axes with left mouse, zoom with right\", \"fa fa-arrows icon-move\", \"pan\"], [\"Zoom\", \"Zoom to rectangle\", \"fa fa-square-o icon-check-empty\", \"zoom\"], [\"\", \"\", \"\", \"\"], [\"Download\", \"Download plot\", \"fa fa-floppy-o icon-save\", \"download\"]];\n",
       "\n",
       "mpl.extensions = [\"eps\", \"jpeg\", \"pdf\", \"png\", \"ps\", \"raw\", \"svg\", \"tif\"];\n",
       "\n",
       "mpl.default_extension = \"png\";var comm_websocket_adapter = function(comm) {\n",
       "    // Create a \"websocket\"-like object which calls the given IPython comm\n",
       "    // object with the appropriate methods. Currently this is a non binary\n",
       "    // socket, so there is still some room for performance tuning.\n",
       "    var ws = {};\n",
       "\n",
       "    ws.close = function() {\n",
       "        comm.close()\n",
       "    };\n",
       "    ws.send = function(m) {\n",
       "        //console.log('sending', m);\n",
       "        comm.send(m);\n",
       "    };\n",
       "    // Register the callback with on_msg.\n",
       "    comm.on_msg(function(msg) {\n",
       "        //console.log('receiving', msg['content']['data'], msg);\n",
       "        // Pass the mpl event to the overridden (by mpl) onmessage function.\n",
       "        ws.onmessage(msg['content']['data'])\n",
       "    });\n",
       "    return ws;\n",
       "}\n",
       "\n",
       "mpl.mpl_figure_comm = function(comm, msg) {\n",
       "    // This is the function which gets called when the mpl process\n",
       "    // starts-up an IPython Comm through the \"matplotlib\" channel.\n",
       "\n",
       "    var id = msg.content.data.id;\n",
       "    // Get hold of the div created by the display call when the Comm\n",
       "    // socket was opened in Python.\n",
       "    var element = $(\"#\" + id);\n",
       "    var ws_proxy = comm_websocket_adapter(comm)\n",
       "\n",
       "    function ondownload(figure, format) {\n",
       "        window.open(figure.imageObj.src);\n",
       "    }\n",
       "\n",
       "    var fig = new mpl.figure(id, ws_proxy,\n",
       "                           ondownload,\n",
       "                           element.get(0));\n",
       "\n",
       "    // Call onopen now - mpl needs it, as it is assuming we've passed it a real\n",
       "    // web socket which is closed, not our websocket->open comm proxy.\n",
       "    ws_proxy.onopen();\n",
       "\n",
       "    fig.parent_element = element.get(0);\n",
       "    fig.cell_info = mpl.find_output_cell(\"<div id='\" + id + \"'></div>\");\n",
       "    if (!fig.cell_info) {\n",
       "        console.error(\"Failed to find cell for figure\", id, fig);\n",
       "        return;\n",
       "    }\n",
       "\n",
       "    var output_index = fig.cell_info[2]\n",
       "    var cell = fig.cell_info[0];\n",
       "\n",
       "};\n",
       "\n",
       "mpl.figure.prototype.handle_close = function(fig, msg) {\n",
       "    var width = fig.canvas.width/mpl.ratio\n",
       "    fig.root.unbind('remove')\n",
       "\n",
       "    // Update the output cell to use the data from the current canvas.\n",
       "    fig.push_to_output();\n",
       "    var dataURL = fig.canvas.toDataURL();\n",
       "    // Re-enable the keyboard manager in IPython - without this line, in FF,\n",
       "    // the notebook keyboard shortcuts fail.\n",
       "    IPython.keyboard_manager.enable()\n",
       "    $(fig.parent_element).html('<img src=\"' + dataURL + '\" width=\"' + width + '\">');\n",
       "    fig.close_ws(fig, msg);\n",
       "}\n",
       "\n",
       "mpl.figure.prototype.close_ws = function(fig, msg){\n",
       "    fig.send_message('closing', msg);\n",
       "    // fig.ws.close()\n",
       "}\n",
       "\n",
       "mpl.figure.prototype.push_to_output = function(remove_interactive) {\n",
       "    // Turn the data on the canvas into data in the output cell.\n",
       "    var width = this.canvas.width/mpl.ratio\n",
       "    var dataURL = this.canvas.toDataURL();\n",
       "    this.cell_info[1]['text/html'] = '<img src=\"' + dataURL + '\" width=\"' + width + '\">';\n",
       "}\n",
       "\n",
       "mpl.figure.prototype.updated_canvas_event = function() {\n",
       "    // Tell IPython that the notebook contents must change.\n",
       "    IPython.notebook.set_dirty(true);\n",
       "    this.send_message(\"ack\", {});\n",
       "    var fig = this;\n",
       "    // Wait a second, then push the new image to the DOM so\n",
       "    // that it is saved nicely (might be nice to debounce this).\n",
       "    setTimeout(function () { fig.push_to_output() }, 1000);\n",
       "}\n",
       "\n",
       "mpl.figure.prototype._init_toolbar = function() {\n",
       "    var fig = this;\n",
       "\n",
       "    var nav_element = $('<div/>')\n",
       "    nav_element.attr('style', 'width: 100%');\n",
       "    this.root.append(nav_element);\n",
       "\n",
       "    // Define a callback function for later on.\n",
       "    function toolbar_event(event) {\n",
       "        return fig.toolbar_button_onclick(event['data']);\n",
       "    }\n",
       "    function toolbar_mouse_event(event) {\n",
       "        return fig.toolbar_button_onmouseover(event['data']);\n",
       "    }\n",
       "\n",
       "    for(var toolbar_ind in mpl.toolbar_items){\n",
       "        var name = mpl.toolbar_items[toolbar_ind][0];\n",
       "        var tooltip = mpl.toolbar_items[toolbar_ind][1];\n",
       "        var image = mpl.toolbar_items[toolbar_ind][2];\n",
       "        var method_name = mpl.toolbar_items[toolbar_ind][3];\n",
       "\n",
       "        if (!name) { continue; };\n",
       "\n",
       "        var button = $('<button class=\"btn btn-default\" href=\"#\" title=\"' + name + '\"><i class=\"fa ' + image + ' fa-lg\"></i></button>');\n",
       "        button.click(method_name, toolbar_event);\n",
       "        button.mouseover(tooltip, toolbar_mouse_event);\n",
       "        nav_element.append(button);\n",
       "    }\n",
       "\n",
       "    // Add the status bar.\n",
       "    var status_bar = $('<span class=\"mpl-message\" style=\"text-align:right; float: right;\"/>');\n",
       "    nav_element.append(status_bar);\n",
       "    this.message = status_bar[0];\n",
       "\n",
       "    // Add the close button to the window.\n",
       "    var buttongrp = $('<div class=\"btn-group inline pull-right\"></div>');\n",
       "    var button = $('<button class=\"btn btn-mini btn-primary\" href=\"#\" title=\"Stop Interaction\"><i class=\"fa fa-power-off icon-remove icon-large\"></i></button>');\n",
       "    button.click(function (evt) { fig.handle_close(fig, {}); } );\n",
       "    button.mouseover('Stop Interaction', toolbar_mouse_event);\n",
       "    buttongrp.append(button);\n",
       "    var titlebar = this.root.find($('.ui-dialog-titlebar'));\n",
       "    titlebar.prepend(buttongrp);\n",
       "}\n",
       "\n",
       "mpl.figure.prototype._root_extra_style = function(el){\n",
       "    var fig = this\n",
       "    el.on(\"remove\", function(){\n",
       "\tfig.close_ws(fig, {});\n",
       "    });\n",
       "}\n",
       "\n",
       "mpl.figure.prototype._canvas_extra_style = function(el){\n",
       "    // this is important to make the div 'focusable\n",
       "    el.attr('tabindex', 0)\n",
       "    // reach out to IPython and tell the keyboard manager to turn it's self\n",
       "    // off when our div gets focus\n",
       "\n",
       "    // location in version 3\n",
       "    if (IPython.notebook.keyboard_manager) {\n",
       "        IPython.notebook.keyboard_manager.register_events(el);\n",
       "    }\n",
       "    else {\n",
       "        // location in version 2\n",
       "        IPython.keyboard_manager.register_events(el);\n",
       "    }\n",
       "\n",
       "}\n",
       "\n",
       "mpl.figure.prototype._key_event_extra = function(event, name) {\n",
       "    var manager = IPython.notebook.keyboard_manager;\n",
       "    if (!manager)\n",
       "        manager = IPython.keyboard_manager;\n",
       "\n",
       "    // Check for shift+enter\n",
       "    if (event.shiftKey && event.which == 13) {\n",
       "        this.canvas_div.blur();\n",
       "        event.shiftKey = false;\n",
       "        // Send a \"J\" for go to next cell\n",
       "        event.which = 74;\n",
       "        event.keyCode = 74;\n",
       "        manager.command_mode();\n",
       "        manager.handle_keydown(event);\n",
       "    }\n",
       "}\n",
       "\n",
       "mpl.figure.prototype.handle_save = function(fig, msg) {\n",
       "    fig.ondownload(fig, null);\n",
       "}\n",
       "\n",
       "\n",
       "mpl.find_output_cell = function(html_output) {\n",
       "    // Return the cell and output element which can be found *uniquely* in the notebook.\n",
       "    // Note - this is a bit hacky, but it is done because the \"notebook_saving.Notebook\"\n",
       "    // IPython event is triggered only after the cells have been serialised, which for\n",
       "    // our purposes (turning an active figure into a static one), is too late.\n",
       "    var cells = IPython.notebook.get_cells();\n",
       "    var ncells = cells.length;\n",
       "    for (var i=0; i<ncells; i++) {\n",
       "        var cell = cells[i];\n",
       "        if (cell.cell_type === 'code'){\n",
       "            for (var j=0; j<cell.output_area.outputs.length; j++) {\n",
       "                var data = cell.output_area.outputs[j];\n",
       "                if (data.data) {\n",
       "                    // IPython >= 3 moved mimebundle to data attribute of output\n",
       "                    data = data.data;\n",
       "                }\n",
       "                if (data['text/html'] == html_output) {\n",
       "                    return [cell, data, j];\n",
       "                }\n",
       "            }\n",
       "        }\n",
       "    }\n",
       "}\n",
       "\n",
       "// Register the function which deals with the matplotlib target/channel.\n",
       "// The kernel may be null if the page has been refreshed.\n",
       "if (IPython.notebook.kernel != null) {\n",
       "    IPython.notebook.kernel.comm_manager.register_target('matplotlib', mpl.mpl_figure_comm);\n",
       "}\n"
      ],
      "text/plain": [
       "<IPython.core.display.Javascript object>"
      ]
     },
     "metadata": {},
     "output_type": "display_data"
    },
    {
     "data": {
      "text/html": [
       "<img src=\"data:image/png;base64,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\" width=\"800\">"
      ],
      "text/plain": [
       "<IPython.core.display.HTML object>"
      ]
     },
     "metadata": {},
     "output_type": "display_data"
    },
    {
     "name": "stdout",
     "output_type": "stream",
     "text": [
      "Press Enter to stop.\n"
     ]
    }
   ],
   "source": [
    "%matplotlib notebook\n",
    "from graphs_ECC import *\n",
    "\n",
    "minBit = 3\n",
    "bf_bit = 13\n",
    "bsgs_bit = 21\n",
    "ph_bit = 21\n",
    "rho_bit = 21\n",
    "mov_bit = 21\n",
    "\n",
    "testGraphs(minBit, bf_bit, bsgs_bit, ph_bit, rho_bit, mov_bit)"
   ]
  },
  {
   "cell_type": "markdown",
   "metadata": {},
   "source": [
    "<img src=\"imgs/ECC.png\" alt=\"drawing\" style=\"width:80%;\"/>"
   ]
  },
  {
   "cell_type": "markdown",
   "metadata": {},
   "source": [
    "## Try it yourself"
   ]
  },
  {
   "cell_type": "markdown",
   "metadata": {},
   "source": [
    "Below you can select which solvers you want to use and enter your own curve to test against the solvers"
   ]
  },
  {
   "cell_type": "code",
   "execution_count": 13,
   "metadata": {},
   "outputs": [
    {
     "name": "stdout",
     "output_type": "stream",
     "text": [
      "Generator point: (22, 14)\n",
      "Of order: 407\n",
      "Public point: (262, 247)\n"
     ]
    }
   ],
   "source": [
    "from ECC.curves import * \n",
    "\n",
    "# SET YOUR OWN CURVE IN WEIERSTRASS FORM E: y^2 = x^3 + ax + b (mod fp)\n",
    "a = 1\n",
    "b = 1\n",
    "fp = 419\n",
    "\n",
    "# CREATE CURVE\n",
    "C = Curve(a, b, fp)  \n",
    "\n",
    "# GET GENERATOR POINT\n",
    "G = C.getG()\n",
    "print(\"Generator point:\", G)\n",
    "\n",
    "if G:\n",
    "    ordG = C.order(G)\n",
    "    print(\"Of order:\", C.order(G))\n",
    "\n",
    "    # SET k AND CALCULATE PUBLIC POINT \n",
    "    k = 135\n",
    "    Q = G * k\n",
    "    print(\"Public point:\", Q)\n",
    "\n",
    "    # PACKAGE ALL INTO KEY CLASS\n",
    "    ECC_keys = generate_ECC.KeyGen(verbose = True)\n",
    "    ECC_keys.setCurve(C)\n",
    "    ECC_keys.setG(G)\n",
    "    ECC_keys.setQ(Q)\n",
    "    ECC_keys.setK(k)"
   ]
  },
  {
   "cell_type": "code",
   "execution_count": 14,
   "metadata": {},
   "outputs": [
    {
     "name": "stdout",
     "output_type": "stream",
     "text": [
      "========== POLLARD'S RHO ==========\n",
      "k: 135\n",
      "Time taken: 0.005 s\n",
      "Space used: 72 bytes\n",
      "Numbers checked: 7\n",
      "Success!\n",
      "========== POLLARD'S LAMBDA ==========\n",
      "k: 135\n",
      "Time taken: 2.093 s\n",
      "Space used: 80 bytes\n",
      "Numbers checked: 43173\n",
      "Success!\n",
      "========== POHLIG HELLMAN ==========\n",
      "{11: 1, 37: 1}\n",
      "k: 135\n",
      "Time taken: 0.001 s\n",
      "Space used: 18\n",
      "Numbers checked: 18\n",
      "Success!\n",
      "========== MOV ATTACK ==========\n",
      "Not Suceptible to MOV attack\n",
      "Fail!\n"
     ]
    }
   ],
   "source": [
    "import run_ECC\n",
    "\n",
    "# SET SOLVERS ON/OFF \n",
    "bf = True     # brute-force\n",
    "bsgs = True   # baby-step giant-step\n",
    "pr = True     # pollard's - rho\n",
    "pl = True     # pollard's lambda\n",
    "ph = True     # pohlig-hellman\n",
    "mov = True    # mov-attack\n",
    "\n",
    "# PASS KEYS TO SOLVER\n",
    "run_ECC.runSolvers(ECC_keys, bf, bsgs, pr, pl, ph, mov)"
   ]
  }
 ],
 "metadata": {
  "kernelspec": {
   "display_name": "Python 3",
   "language": "python",
   "name": "python3"
  }
 },
 "nbformat": 4,
 "nbformat_minor": 2
}
