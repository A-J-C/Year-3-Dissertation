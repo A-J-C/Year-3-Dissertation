{
 "cells": [
  {
   "cell_type": "markdown",
   "metadata": {},
   "source": [
    "# ECC Demonstration"
   ]
  },
  {
   "cell_type": "markdown",
   "metadata": {},
   "source": [
    "Import my ECC package into the environment"
   ]
  },
  {
   "cell_type": "code",
   "execution_count": 1,
   "metadata": {
    "scrolled": false
   },
   "outputs": [],
   "source": [
    "from ECC import *"
   ]
  },
  {
   "cell_type": "markdown",
   "metadata": {},
   "source": [
    "### Key Generation\n",
    "Declare the bit size we want to use"
   ]
  },
  {
   "cell_type": "code",
   "execution_count": 2,
   "metadata": {
    "scrolled": false
   },
   "outputs": [],
   "source": [
    "bitSize = 17"
   ]
  },
  {
   "cell_type": "markdown",
   "metadata": {},
   "source": [
    "Generate a set of ECC keys with appropriate bitsize"
   ]
  },
  {
   "cell_type": "code",
   "execution_count": 3,
   "metadata": {
    "scrolled": false
   },
   "outputs": [
    {
     "name": "stdout",
     "output_type": "stream",
     "text": [
      "================================================== \n",
      "Generating  17 bit prime... \n",
      "10 rounds of Miller-Rabin needed (according to FISC)\n",
      "Trial-Division prime list generated, size:  54\n",
      "New candidate... 125117\n",
      "Prime of  17 bits found: 125117\n",
      "Checked 1 candidates in 0.00 s\n",
      "\n",
      "Checking: y^2 = x^3 + 9x + 9 % 125117\n",
      "\n",
      "y^2 = x^3 + 9x + 9 % 125117\n",
      "Checked 1 curves\n",
      "k = 62915  G = (2199, 75797)   Q = (60417, 55299)\n",
      "Public-Key: {\n",
      "    Curve: y^2 = x^3 + 9x + 9 % 125117\n",
      "    Base-Point: (2199, 75797)\n",
      "    Order(Base): 125406\n",
      "    Public-Point: (60417, 55299)\n",
      "}\n",
      "Private-Key: 62915\n",
      "n is 17 bits\n",
      "\n"
     ]
    },
    {
     "data": {
      "text/plain": [
       "True"
      ]
     },
     "execution_count": 3,
     "metadata": {},
     "output_type": "execute_result"
    }
   ],
   "source": [
    "ECC_keys = generate_ECC.KeyGen(bitSize, True, True)     # initalise object True sets verbose and demo flag on KeyGen\n",
    "ECC_keys.generateCurve()                                # create a curve\n",
    "ECC_keys.generateKeys()                                 # runs generator"
   ]
  },
  {
   "cell_type": "markdown",
   "metadata": {},
   "source": [
    "### Brute Force Algorithm"
   ]
  },
  {
   "cell_type": "markdown",
   "metadata": {},
   "source": []
  },
  {
   "cell_type": "code",
   "execution_count": null,
   "metadata": {
    "scrolled": true
   },
   "outputs": [
    {
     "data": {
      "text/plain": [
       "'9000.G = (34345, 28748)'"
      ]
     },
     "metadata": {},
     "output_type": "display_data"
    }
   ],
   "source": [
    "# pass it public keys, and True verbose & demo flag\n",
    "bf = brute_force.BFSolver(ECC_keys.curve, ECC_keys.Q, ECC_keys.G, True, True) \n",
    "# run solver\n",
    "bf.solve()                                                                "
   ]
  },
  {
   "cell_type": "markdown",
   "metadata": {},
   "source": [
    "### Pollard's-$\\lambda$ method"
   ]
  },
  {
   "cell_type": "markdown",
   "metadata": {},
   "source": []
  },
  {
   "cell_type": "code",
   "execution_count": null,
   "metadata": {},
   "outputs": [],
   "source": [
    "# pass it public keys, and True verbose & demo flag\n",
    "lamb = pollard_lambda.PLSolver(ECC_keys.curve, ECC_keys.Q, ECC_keys.G, True, True) \n",
    "# run solver\n",
    "lamb.solve()  "
   ]
  },
  {
   "cell_type": "markdown",
   "metadata": {},
   "source": [
    "### Make it a bit harder"
   ]
  },
  {
   "cell_type": "code",
   "execution_count": null,
   "metadata": {},
   "outputs": [],
   "source": [
    "bitSize = 26\n",
    "\n",
    "ECC_keys = generate_ECC.KeyGen(bitSize, True)     # initalise object True sets verbose flag on KeyGen\n",
    "ECC_keys.generateCurve()                          # create a curve\n",
    "ECC_keys.generateKeys()                           # runs generator"
   ]
  },
  {
   "cell_type": "markdown",
   "metadata": {},
   "source": [
    "### Baby Step - Giant Step Algorithm"
   ]
  },
  {
   "cell_type": "markdown",
   "metadata": {},
   "source": []
  },
  {
   "cell_type": "code",
   "execution_count": null,
   "metadata": {},
   "outputs": [],
   "source": [
    "# pass it public keys, and True verbose & demo flag\n",
    "bsgs = baby_step.BGSolver(ECC_keys.curve, ECC_keys.Q, ECC_keys.G, True, True)    \n",
    "# run solver\n",
    "bsgs.solve()                                                              "
   ]
  },
  {
   "cell_type": "markdown",
   "metadata": {},
   "source": [
    "### Pohlig-Hellman"
   ]
  },
  {
   "cell_type": "markdown",
   "metadata": {},
   "source": []
  },
  {
   "cell_type": "code",
   "execution_count": null,
   "metadata": {},
   "outputs": [],
   "source": [
    "# pass it public keys, and True verbose & demo flag\n",
    "ph = pohlig_hellman.PHSolver(ECC_keys.curve, ECC_keys.Q, ECC_keys.G, True, True) \n",
    "# run solver\n",
    "ph.solve()  "
   ]
  },
  {
   "cell_type": "markdown",
   "metadata": {},
   "source": [
    "### Pollard's-$\\rho$ method"
   ]
  },
  {
   "cell_type": "markdown",
   "metadata": {},
   "source": []
  },
  {
   "cell_type": "code",
   "execution_count": null,
   "metadata": {
    "scrolled": true
   },
   "outputs": [],
   "source": [
    "# pass it public keys, and True verbose & demo flag\n",
    "rho = pollard_rho.PRSolver(ECC_keys.curve, ECC_keys.Q, ECC_keys.G, True, True)   \n",
    "# run solver\n",
    "rho.solve()                                                                "
   ]
  },
  {
   "cell_type": "markdown",
   "metadata": {},
   "source": [
    "### MOV Attack"
   ]
  },
  {
   "cell_type": "markdown",
   "metadata": {},
   "source": []
  },
  {
   "cell_type": "code",
   "execution_count": null,
   "metadata": {},
   "outputs": [],
   "source": [
    "from IPython.display import display, clear_output\n",
    "\n",
    "solved = False\n",
    "bitSize = 12\n",
    "\n",
    "while not solved:\n",
    "    clear_output(wait=True)\n",
    "    \n",
    "    ECC_keys = generate_ECC.KeyGen(bitSize, True)     # initalise object True sets verbose flag on KeyGen\n",
    "    ECC_keys.generateCurve()                          # create a curve\n",
    "    ECC_keys.generateKeys()                           # runs generator\n",
    "\n",
    "    # pass it public keys, and True verbose & demo flag\n",
    "    mov = mov_attack.MOVSolver(ECC_keys.curve, ECC_keys.Q, ECC_keys.G, True, True) \n",
    "    # run solver\n",
    "    mov.solve()  \n",
    "    \n",
    "    solved = mov.k == ECC_keys.k"
   ]
  },
  {
   "cell_type": "markdown",
   "metadata": {},
   "source": [
    "### Basic Analysis\n",
    "Running the above algorithms on a variety of random inputs to create graphs showing general trends.\n",
    "\n",
    "The below style code makes the format of the graphs nicer"
   ]
  },
  {
   "cell_type": "code",
   "execution_count": null,
   "metadata": {
    "scrolled": false
   },
   "outputs": [],
   "source": [
    "%%html\n",
    "<style>\n",
    ".output_wrapper button.btn.btn-default,\n",
    ".output_wrapper .ui-dialog-titlebar {\n",
    "  display: none;\n",
    "}\n",
    "</style>"
   ]
  },
  {
   "cell_type": "markdown",
   "metadata": {},
   "source": [
    "Runs each algorithm in a thread and plots the results.\n",
    "\n",
    "- Blue = Brute Force\n",
    "- Orange = Baby-Step Giant-Step\n",
    "- Green = Pollard's Rho"
   ]
  },
  {
   "cell_type": "code",
   "execution_count": null,
   "metadata": {
    "scrolled": false
   },
   "outputs": [],
   "source": [
    "%matplotlib notebook\n",
    "from graphs_ECC import *\n",
    "\n",
    "minBit = 3\n",
    "bf_bit = 12\n",
    "bsgs_bit = 20\n",
    "ph_bit = 20\n",
    "lamb_bit = 12\n",
    "rho_bit = 20\n",
    "mov_bit = 20\n",
    "\n",
    "testGraphs(minBit, bf_bit, bsgs_bit, ph_bit, lamb_bit, rho_bit, mov_bit)"
   ]
  },
  {
   "cell_type": "markdown",
   "metadata": {},
   "source": [
    "<img src=\"imgs/ECC.png\" alt=\"drawing\" style=\"width:80%;\"/>"
   ]
  }
 ],
 "metadata": {
  "kernelspec": {
   "display_name": "Python 3",
   "language": "python",
   "name": "python3"
  },
  "language_info": {
   "codemirror_mode": {
    "name": "ipython",
    "version": 3
   },
   "file_extension": ".py",
   "mimetype": "text/x-python",
   "name": "python",
   "nbconvert_exporter": "python",
   "pygments_lexer": "ipython3",
   "version": "3.7.1"
  }
 },
 "nbformat": 4,
 "nbformat_minor": 2
}
