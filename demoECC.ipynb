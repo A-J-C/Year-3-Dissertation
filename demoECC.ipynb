{
 "cells": [
  {
   "cell_type": "markdown",
   "metadata": {},
   "source": [
    "# ECC Demonstration"
   ]
  },
  {
   "cell_type": "markdown",
   "metadata": {},
   "source": [
    "Import my ECC package into the environment"
   ]
  },
  {
   "cell_type": "code",
   "execution_count": 1,
   "metadata": {
    "scrolled": false
   },
   "outputs": [],
   "source": [
    "from ECC import *"
   ]
  },
  {
   "cell_type": "markdown",
   "metadata": {},
   "source": [
    "### Key Generation\n",
    "Declare the bit size we want to use"
   ]
  },
  {
   "cell_type": "code",
   "execution_count": 2,
   "metadata": {
    "scrolled": false
   },
   "outputs": [],
   "source": [
    "bitSize = 17"
   ]
  },
  {
   "cell_type": "markdown",
   "metadata": {},
   "source": [
    "Generate a set of ECC keys with appropriate bitsize"
   ]
  },
  {
   "cell_type": "code",
   "execution_count": 3,
   "metadata": {
    "scrolled": false
   },
   "outputs": [
    {
     "name": "stdout",
     "output_type": "stream",
     "text": [
      "================================================== \n",
      "Generating  17 bit prime... \n",
      "10 rounds of Miller-Rabin needed (according to FISC)\n",
      "Trial-Division prime list generated, size:  54\n",
      "New candidate... 109067\n",
      "New candidate... 90833\n",
      "Prime of  17 bits found: 90833\n",
      "Checked 2 candidates in 0.00 s\n",
      "\n",
      "Checking: y^2 = x^3 + 2x + 5 % 90833\n",
      "\n",
      "y^2 = x^3 + 2x + 5 % 90833\n",
      "Checked 1 curves\n",
      "k = 72080  G = (78724, 73193)   Q = (83488, 69405)\n",
      "Public-Key: {\n",
      "    Curve: y^2 = x^3 + 2x + 5 % 90833\n",
      "    Base-Point: (78724, 73193)\n",
      "    Order(Base): 90644\n",
      "    Public-Point: (83488, 69405)\n",
      "}\n",
      "Private-Key: 72080\n",
      "n is 17 bits\n",
      "\n"
     ]
    },
    {
     "data": {
      "text/plain": [
       "True"
      ]
     },
     "execution_count": 3,
     "metadata": {},
     "output_type": "execute_result"
    }
   ],
   "source": [
    "ECC_keys = generate_ECC.KeyGen(bitSize, True, True)     # initalise object True sets verbose and demo flag on KeyGen\n",
    "ECC_keys.generateCurve()                                # create a curve\n",
    "ECC_keys.generateKeys()                                 # runs generator"
   ]
  },
  {
   "cell_type": "markdown",
   "metadata": {},
   "source": [
    "### Brute Force Algorithm"
   ]
  },
  {
   "cell_type": "markdown",
   "metadata": {},
   "source": [
    "Very trivial:\n",
    "\n",
    "- Simply keep adding G to itself until we reach the required Q \n",
    "- $O(p)$ for prime $p$"
   ]
  },
  {
   "cell_type": "code",
   "execution_count": 4,
   "metadata": {
    "scrolled": true
   },
   "outputs": [
    {
     "data": {
      "text/plain": [
       "'72080.G = (83488, 69405)'"
      ]
     },
     "metadata": {},
     "output_type": "display_data"
    },
    {
     "name": "stdout",
     "output_type": "stream",
     "text": [
      "k: 72080\n",
      "Time taken: 1.967 s\n",
      "Space used: 4 bytes\n",
      "Numbers checked: 72080\n"
     ]
    },
    {
     "data": {
      "text/plain": [
       "True"
      ]
     },
     "execution_count": 4,
     "metadata": {},
     "output_type": "execute_result"
    }
   ],
   "source": [
    "# pass it public keys, and True verbose & demo flag\n",
    "bf = brute_force.BFSolver(ECC_keys.curve, ECC_keys.Q, ECC_keys.G, True, True) \n",
    "# run solver\n",
    "bf.solve()                                                                "
   ]
  },
  {
   "cell_type": "markdown",
   "metadata": {},
   "source": [
    "### Pollard's-$\\lambda$ method"
   ]
  },
  {
   "cell_type": "markdown",
   "metadata": {},
   "source": [
    "An extremely probabilistic method:\n",
    "\n",
    "- Based around setting a \"trap\"\n",
    "- Which a \"wild kangaroo\" falls into\n",
    "- The distance travelled before falling into the trap helps is calculate $k$\n",
    "- Theoretically grows wit $O(\\sqrt{p})$\n",
    "- Often fails with the \"wild kangaroo\" entering a cycle in a safe zone"
   ]
  },
  {
   "cell_type": "code",
   "execution_count": 5,
   "metadata": {},
   "outputs": [
    {
     "data": {
      "text/plain": [
       "'Trap: (63695, 83354) Wild: (63695, 83354)'"
      ]
     },
     "metadata": {},
     "output_type": "display_data"
    },
    {
     "name": "stdout",
     "output_type": "stream",
     "text": [
      "k: 72080\n",
      "Time taken: 9.203 s\n",
      "Space used: 80 bytes\n",
      "Numbers checked: 53630\n"
     ]
    },
    {
     "data": {
      "text/plain": [
       "True"
      ]
     },
     "execution_count": 5,
     "metadata": {},
     "output_type": "execute_result"
    }
   ],
   "source": [
    "# pass it public keys, and True verbose & demo flag\n",
    "lamb = pollard_lambda.PLSolver(ECC_keys.curve, ECC_keys.Q, ECC_keys.G, True, True) \n",
    "# run solver\n",
    "lamb.solve()  "
   ]
  },
  {
   "cell_type": "markdown",
   "metadata": {},
   "source": [
    "### Make it a bit harder"
   ]
  },
  {
   "cell_type": "code",
   "execution_count": 6,
   "metadata": {},
   "outputs": [
    {
     "name": "stdout",
     "output_type": "stream",
     "text": [
      "Prime of  26 bits found: 53881679\n",
      "Checked 1 candidates in 0.00 s\n",
      "\n",
      "y^2 = x^3 + 9x + 1 % 53881679\n",
      "Checked 1 curves\n",
      "k = 44512673  G = (42876395, 52155345)   Q = (25500226, 14795013)\n",
      "Public-Key: {\n",
      "    Curve: y^2 = x^3 + 9x + 1 % 53881679\n",
      "    Base-Point: (42876395, 52155345)\n",
      "    Order(Base): 53876446\n",
      "    Public-Point: (25500226, 14795013)\n",
      "}\n",
      "Private-Key: 44512673\n",
      "n is 26 bits\n",
      "\n"
     ]
    },
    {
     "data": {
      "text/plain": [
       "True"
      ]
     },
     "execution_count": 6,
     "metadata": {},
     "output_type": "execute_result"
    }
   ],
   "source": [
    "bitSize = 26\n",
    "\n",
    "ECC_keys = generate_ECC.KeyGen(bitSize, True)     # initalise object True sets verbose flag on KeyGen\n",
    "ECC_keys.generateCurve()                          # create a curve\n",
    "ECC_keys.generateKeys()                           # runs generator"
   ]
  },
  {
   "cell_type": "markdown",
   "metadata": {},
   "source": [
    "### Baby Step - Giant Step Algorithm"
   ]
  },
  {
   "cell_type": "markdown",
   "metadata": {},
   "source": [
    "This algorithm is essentialyl brute-force, trading space for time:\n",
    "\n",
    "- We compute a hash table of results upto $s \\leftarrow \\sqrt{ord(G)}$\n",
    "- Giant steps incremet $i$ calculating: $P \\leftarrow Q - G.(i*s)$\n",
    "- When $P$ is found in the hash table we calculate $k \\leftarrow hash(P) + i*s$\n",
    "- $O(\\sqrt{p})$ for space and time complexity"
   ]
  },
  {
   "cell_type": "code",
   "execution_count": 7,
   "metadata": {},
   "outputs": [
    {
     "data": {
      "text/plain": [
       "'(25500226, 14795013) - (42876395, 52155345) * 44508483 = (31908980, 10725174)'"
      ]
     },
     "metadata": {},
     "output_type": "display_data"
    },
    {
     "name": "stdout",
     "output_type": "stream",
     "text": [
      "k: 44512673\n",
      "Time taken: 3.947 s\n",
      "Space used: 58736 bytes\n",
      "Numbers checked: 13406\n"
     ]
    },
    {
     "data": {
      "text/plain": [
       "True"
      ]
     },
     "execution_count": 7,
     "metadata": {},
     "output_type": "execute_result"
    }
   ],
   "source": [
    "# pass it public keys, and True verbose & demo flag\n",
    "bsgs = baby_step.BGSolver(ECC_keys.curve, ECC_keys.Q, ECC_keys.G, True, True)    \n",
    "# run solver\n",
    "bsgs.solve()                                                              "
   ]
  },
  {
   "cell_type": "markdown",
   "metadata": {},
   "source": [
    "### Pohlig-Hellman"
   ]
  },
  {
   "cell_type": "markdown",
   "metadata": {},
   "source": [
    "A \"special purpose\" algorithm:\n",
    "\n",
    "- If $ord(G)$ is a \"smoooth number\" we can decompose the problem \n",
    "- Making new sub-problems over each of the prime factors\n",
    "- Then recombine the solutions using the CRT\n",
    "- It's time complexity grows with the square root of the largest prime factor of $ord(G)$.\n",
    "- So worst case is $O(\\sqrt{p})$ where $ord(G) \\equiv p$"
   ]
  },
  {
   "cell_type": "code",
   "execution_count": 8,
   "metadata": {},
   "outputs": [
    {
     "name": "stdout",
     "output_type": "stream",
     "text": [
      "{2: 1, 13: 1, 787: 1, 2633: 1}\n",
      "2^1: G'=(40913498, 0) Q'=(40913498, 0); ord = 2\n",
      "13^1: G'=(7065089, 43010861) Q'=(34792275, 1336071); ord = 13\n",
      "787^1: G'=(36631498, 52738686) Q'=(35613444, 20828740); ord = 787\n",
      "2633^1: G'=(40080808, 21480280) Q'=(9571271, 28661593); ord = 2633\n",
      "k: 44512673\n",
      "Time taken: 0.022 s\n",
      "Space used: 110\n",
      "Numbers checked: 153\n"
     ]
    },
    {
     "data": {
      "text/plain": [
       "True"
      ]
     },
     "execution_count": 8,
     "metadata": {},
     "output_type": "execute_result"
    }
   ],
   "source": [
    "# pass it public keys, and True verbose & demo flag\n",
    "ph = pohlig_hellman.PHSolver(ECC_keys.curve, ECC_keys.Q, ECC_keys.G, True, True) \n",
    "# run solver\n",
    "ph.solve()  "
   ]
  },
  {
   "cell_type": "markdown",
   "metadata": {},
   "source": [
    "### Pollard's-$\\rho$ method"
   ]
  },
  {
   "cell_type": "markdown",
   "metadata": {},
   "source": [
    "Same as for the IFP:\n",
    "\n",
    "- We aim to find two sets of numbers such that $a.G + b.Q = a'.G + b'.Q$, which rearranges to give us: $k \\leftarrow \\frac{a-a'}{b'-b} \\; mod \\; ord(G)$\n",
    "- Found by generating a repeatable random sequence of points, which according to the birthday paradox must eventually cycle\n",
    "- Send two runners around one twice as fast as the other to detect cycle \n",
    "- $O(\\sqrt{p})$ according to birthday paradox\n",
    "- But each \"check\" is only an addition not multiplication, so much faster"
   ]
  },
  {
   "cell_type": "code",
   "execution_count": 9,
   "metadata": {
    "scrolled": true
   },
   "outputs": [
    {
     "data": {
      "text/plain": [
       "'X: (27671808, 10329813) Y: (27671808, 10329813)'"
      ]
     },
     "metadata": {},
     "output_type": "display_data"
    },
    {
     "name": "stdout",
     "output_type": "stream",
     "text": [
      "k: 44512673\n",
      "Time taken: 5.802 s\n",
      "Space used: 72 bytes\n",
      "Numbers checked: 59606\n"
     ]
    },
    {
     "data": {
      "text/plain": [
       "True"
      ]
     },
     "execution_count": 9,
     "metadata": {},
     "output_type": "execute_result"
    }
   ],
   "source": [
    "# pass it public keys, and True verbose & demo flag\n",
    "rho = pollard_rho.PRSolver(ECC_keys.curve, ECC_keys.Q, ECC_keys.G, True, True)   \n",
    "# run solver\n",
    "rho.solve()                                                                "
   ]
  },
  {
   "cell_type": "markdown",
   "metadata": {},
   "source": [
    "### MOV Attack"
   ]
  },
  {
   "cell_type": "markdown",
   "metadata": {},
   "source": [
    "Maps the ECDLP to the DLP:\n",
    "\n",
    "- Works for a very small number of curves, which have a small embedding degree\n",
    "- $\\epsilon$, where $\\epsilon$ is the lowest integer satisfying $p^{\\epsilon} - 1 / card(E) \\in N$ ($p$ is prime, $E$ is a curve over ${\\bf F}_p$ and $card(E)$ is the number of points on the curve)\n",
    "- Extremely efficient (subexponential) if it works\n",
    "- But works for exponentially increasing amount of numbers "
   ]
  },
  {
   "cell_type": "code",
   "execution_count": 2,
   "metadata": {},
   "outputs": [
    {
     "name": "stdout",
     "output_type": "stream",
     "text": [
      "Prime of  12 bits found: 2707\n",
      "Checked 1 candidates in 0.00 s\n",
      "\n",
      "y^2 = x^3 + 8x % 2707\n",
      "Checked 1 curves\n",
      "k = 1119  G = (1378, 2436)   Q = (1988, 990)\n",
      "Public-Key: {\n",
      "    Curve: y^2 = x^3 + 8x % 2707\n",
      "    Base-Point: (1378, 2436)\n",
      "    Order(Base): 1354\n",
      "    Public-Point: (1988, 990)\n",
      "}\n",
      "Private-Key: 1119\n",
      "n is 12 bits\n",
      "\n",
      "2240*a + 485 861*a + 2487 2708\n",
      "k: 1119\n",
      "Time taken: 0.003 s\n",
      "Space used: 31684 bytes\n",
      "Numbers checked: 89\n"
     ]
    }
   ],
   "source": [
    "from IPython.display import display, clear_output\n",
    "\n",
    "solved = False\n",
    "bitSize = 12\n",
    "\n",
    "while not solved:\n",
    "    clear_output(wait=True)\n",
    "    \n",
    "    ECC_keys = generate_ECC.KeyGen(bitSize, True)     # initalise object True sets verbose flag on KeyGen\n",
    "    ECC_keys.generateCurve()                          # create a curve\n",
    "    ECC_keys.generateKeys()                           # runs generator\n",
    "\n",
    "    # pass it public keys, and True verbose & demo flag\n",
    "    mov = mov_attack.MOVSolver(ECC_keys.curve, ECC_keys.Q, ECC_keys.G, True, True) \n",
    "    # run solver\n",
    "    mov.solve()  \n",
    "    \n",
    "    solved = mov.k == ECC_keys.k"
   ]
  },
  {
   "cell_type": "markdown",
   "metadata": {},
   "source": [
    "### Basic Analysis\n",
    "Running the above algorithms on a variety of random inputs to create graphs showing general trends.\n",
    "\n",
    "The below style code makes the format of the graphs nicer"
   ]
  },
  {
   "cell_type": "code",
   "execution_count": 3,
   "metadata": {
    "scrolled": false
   },
   "outputs": [
    {
     "data": {
      "text/html": [
       "<style>\n",
       ".output_wrapper button.btn.btn-default,\n",
       ".output_wrapper .ui-dialog-titlebar {\n",
       "  display: none;\n",
       "}\n",
       "</style>\n"
      ],
      "text/plain": [
       "<IPython.core.display.HTML object>"
      ]
     },
     "metadata": {},
     "output_type": "display_data"
    }
   ],
   "source": [
    "%%html\n",
    "<style>\n",
    ".output_wrapper button.btn.btn-default,\n",
    ".output_wrapper .ui-dialog-titlebar {\n",
    "  display: none;\n",
    "}\n",
    "</style>"
   ]
  },
  {
   "cell_type": "markdown",
   "metadata": {},
   "source": [
    "Runs each algorithm in a thread and plots the results."
   ]
  },
  {
   "cell_type": "code",
   "execution_count": 4,
   "metadata": {
    "scrolled": false
   },
   "outputs": [
    {
     "data": {
      "application/javascript": [
       "/* Put everything inside the global mpl namespace */\n",
       "window.mpl = {};\n",
       "\n",
       "\n",
       "mpl.get_websocket_type = function() {\n",
       "    if (typeof(WebSocket) !== 'undefined') {\n",
       "        return WebSocket;\n",
       "    } else if (typeof(MozWebSocket) !== 'undefined') {\n",
       "        return MozWebSocket;\n",
       "    } else {\n",
       "        alert('Your browser does not have WebSocket support.' +\n",
       "              'Please try Chrome, Safari or Firefox ≥ 6. ' +\n",
       "              'Firefox 4 and 5 are also supported but you ' +\n",
       "              'have to enable WebSockets in about:config.');\n",
       "    };\n",
       "}\n",
       "\n",
       "mpl.figure = function(figure_id, websocket, ondownload, parent_element) {\n",
       "    this.id = figure_id;\n",
       "\n",
       "    this.ws = websocket;\n",
       "\n",
       "    this.supports_binary = (this.ws.binaryType != undefined);\n",
       "\n",
       "    if (!this.supports_binary) {\n",
       "        var warnings = document.getElementById(\"mpl-warnings\");\n",
       "        if (warnings) {\n",
       "            warnings.style.display = 'block';\n",
       "            warnings.textContent = (\n",
       "                \"This browser does not support binary websocket messages. \" +\n",
       "                    \"Performance may be slow.\");\n",
       "        }\n",
       "    }\n",
       "\n",
       "    this.imageObj = new Image();\n",
       "\n",
       "    this.context = undefined;\n",
       "    this.message = undefined;\n",
       "    this.canvas = undefined;\n",
       "    this.rubberband_canvas = undefined;\n",
       "    this.rubberband_context = undefined;\n",
       "    this.format_dropdown = undefined;\n",
       "\n",
       "    this.image_mode = 'full';\n",
       "\n",
       "    this.root = $('<div/>');\n",
       "    this._root_extra_style(this.root)\n",
       "    this.root.attr('style', 'display: inline-block');\n",
       "\n",
       "    $(parent_element).append(this.root);\n",
       "\n",
       "    this._init_header(this);\n",
       "    this._init_canvas(this);\n",
       "    this._init_toolbar(this);\n",
       "\n",
       "    var fig = this;\n",
       "\n",
       "    this.waiting = false;\n",
       "\n",
       "    this.ws.onopen =  function () {\n",
       "            fig.send_message(\"supports_binary\", {value: fig.supports_binary});\n",
       "            fig.send_message(\"send_image_mode\", {});\n",
       "            if (mpl.ratio != 1) {\n",
       "                fig.send_message(\"set_dpi_ratio\", {'dpi_ratio': mpl.ratio});\n",
       "            }\n",
       "            fig.send_message(\"refresh\", {});\n",
       "        }\n",
       "\n",
       "    this.imageObj.onload = function() {\n",
       "            if (fig.image_mode == 'full') {\n",
       "                // Full images could contain transparency (where diff images\n",
       "                // almost always do), so we need to clear the canvas so that\n",
       "                // there is no ghosting.\n",
       "                fig.context.clearRect(0, 0, fig.canvas.width, fig.canvas.height);\n",
       "            }\n",
       "            fig.context.drawImage(fig.imageObj, 0, 0);\n",
       "        };\n",
       "\n",
       "    this.imageObj.onunload = function() {\n",
       "        fig.ws.close();\n",
       "    }\n",
       "\n",
       "    this.ws.onmessage = this._make_on_message_function(this);\n",
       "\n",
       "    this.ondownload = ondownload;\n",
       "}\n",
       "\n",
       "mpl.figure.prototype._init_header = function() {\n",
       "    var titlebar = $(\n",
       "        '<div class=\"ui-dialog-titlebar ui-widget-header ui-corner-all ' +\n",
       "        'ui-helper-clearfix\"/>');\n",
       "    var titletext = $(\n",
       "        '<div class=\"ui-dialog-title\" style=\"width: 100%; ' +\n",
       "        'text-align: center; padding: 3px;\"/>');\n",
       "    titlebar.append(titletext)\n",
       "    this.root.append(titlebar);\n",
       "    this.header = titletext[0];\n",
       "}\n",
       "\n",
       "\n",
       "\n",
       "mpl.figure.prototype._canvas_extra_style = function(canvas_div) {\n",
       "\n",
       "}\n",
       "\n",
       "\n",
       "mpl.figure.prototype._root_extra_style = function(canvas_div) {\n",
       "\n",
       "}\n",
       "\n",
       "mpl.figure.prototype._init_canvas = function() {\n",
       "    var fig = this;\n",
       "\n",
       "    var canvas_div = $('<div/>');\n",
       "\n",
       "    canvas_div.attr('style', 'position: relative; clear: both; outline: 0');\n",
       "\n",
       "    function canvas_keyboard_event(event) {\n",
       "        return fig.key_event(event, event['data']);\n",
       "    }\n",
       "\n",
       "    canvas_div.keydown('key_press', canvas_keyboard_event);\n",
       "    canvas_div.keyup('key_release', canvas_keyboard_event);\n",
       "    this.canvas_div = canvas_div\n",
       "    this._canvas_extra_style(canvas_div)\n",
       "    this.root.append(canvas_div);\n",
       "\n",
       "    var canvas = $('<canvas/>');\n",
       "    canvas.addClass('mpl-canvas');\n",
       "    canvas.attr('style', \"left: 0; top: 0; z-index: 0; outline: 0\")\n",
       "\n",
       "    this.canvas = canvas[0];\n",
       "    this.context = canvas[0].getContext(\"2d\");\n",
       "\n",
       "    var backingStore = this.context.backingStorePixelRatio ||\n",
       "\tthis.context.webkitBackingStorePixelRatio ||\n",
       "\tthis.context.mozBackingStorePixelRatio ||\n",
       "\tthis.context.msBackingStorePixelRatio ||\n",
       "\tthis.context.oBackingStorePixelRatio ||\n",
       "\tthis.context.backingStorePixelRatio || 1;\n",
       "\n",
       "    mpl.ratio = (window.devicePixelRatio || 1) / backingStore;\n",
       "\n",
       "    var rubberband = $('<canvas/>');\n",
       "    rubberband.attr('style', \"position: absolute; left: 0; top: 0; z-index: 1;\")\n",
       "\n",
       "    var pass_mouse_events = true;\n",
       "\n",
       "    canvas_div.resizable({\n",
       "        start: function(event, ui) {\n",
       "            pass_mouse_events = false;\n",
       "        },\n",
       "        resize: function(event, ui) {\n",
       "            fig.request_resize(ui.size.width, ui.size.height);\n",
       "        },\n",
       "        stop: function(event, ui) {\n",
       "            pass_mouse_events = true;\n",
       "            fig.request_resize(ui.size.width, ui.size.height);\n",
       "        },\n",
       "    });\n",
       "\n",
       "    function mouse_event_fn(event) {\n",
       "        if (pass_mouse_events)\n",
       "            return fig.mouse_event(event, event['data']);\n",
       "    }\n",
       "\n",
       "    rubberband.mousedown('button_press', mouse_event_fn);\n",
       "    rubberband.mouseup('button_release', mouse_event_fn);\n",
       "    // Throttle sequential mouse events to 1 every 20ms.\n",
       "    rubberband.mousemove('motion_notify', mouse_event_fn);\n",
       "\n",
       "    rubberband.mouseenter('figure_enter', mouse_event_fn);\n",
       "    rubberband.mouseleave('figure_leave', mouse_event_fn);\n",
       "\n",
       "    canvas_div.on(\"wheel\", function (event) {\n",
       "        event = event.originalEvent;\n",
       "        event['data'] = 'scroll'\n",
       "        if (event.deltaY < 0) {\n",
       "            event.step = 1;\n",
       "        } else {\n",
       "            event.step = -1;\n",
       "        }\n",
       "        mouse_event_fn(event);\n",
       "    });\n",
       "\n",
       "    canvas_div.append(canvas);\n",
       "    canvas_div.append(rubberband);\n",
       "\n",
       "    this.rubberband = rubberband;\n",
       "    this.rubberband_canvas = rubberband[0];\n",
       "    this.rubberband_context = rubberband[0].getContext(\"2d\");\n",
       "    this.rubberband_context.strokeStyle = \"#000000\";\n",
       "\n",
       "    this._resize_canvas = function(width, height) {\n",
       "        // Keep the size of the canvas, canvas container, and rubber band\n",
       "        // canvas in synch.\n",
       "        canvas_div.css('width', width)\n",
       "        canvas_div.css('height', height)\n",
       "\n",
       "        canvas.attr('width', width * mpl.ratio);\n",
       "        canvas.attr('height', height * mpl.ratio);\n",
       "        canvas.attr('style', 'width: ' + width + 'px; height: ' + height + 'px;');\n",
       "\n",
       "        rubberband.attr('width', width);\n",
       "        rubberband.attr('height', height);\n",
       "    }\n",
       "\n",
       "    // Set the figure to an initial 600x600px, this will subsequently be updated\n",
       "    // upon first draw.\n",
       "    this._resize_canvas(600, 600);\n",
       "\n",
       "    // Disable right mouse context menu.\n",
       "    $(this.rubberband_canvas).bind(\"contextmenu\",function(e){\n",
       "        return false;\n",
       "    });\n",
       "\n",
       "    function set_focus () {\n",
       "        canvas.focus();\n",
       "        canvas_div.focus();\n",
       "    }\n",
       "\n",
       "    window.setTimeout(set_focus, 100);\n",
       "}\n",
       "\n",
       "mpl.figure.prototype._init_toolbar = function() {\n",
       "    var fig = this;\n",
       "\n",
       "    var nav_element = $('<div/>')\n",
       "    nav_element.attr('style', 'width: 100%');\n",
       "    this.root.append(nav_element);\n",
       "\n",
       "    // Define a callback function for later on.\n",
       "    function toolbar_event(event) {\n",
       "        return fig.toolbar_button_onclick(event['data']);\n",
       "    }\n",
       "    function toolbar_mouse_event(event) {\n",
       "        return fig.toolbar_button_onmouseover(event['data']);\n",
       "    }\n",
       "\n",
       "    for(var toolbar_ind in mpl.toolbar_items) {\n",
       "        var name = mpl.toolbar_items[toolbar_ind][0];\n",
       "        var tooltip = mpl.toolbar_items[toolbar_ind][1];\n",
       "        var image = mpl.toolbar_items[toolbar_ind][2];\n",
       "        var method_name = mpl.toolbar_items[toolbar_ind][3];\n",
       "\n",
       "        if (!name) {\n",
       "            // put a spacer in here.\n",
       "            continue;\n",
       "        }\n",
       "        var button = $('<button/>');\n",
       "        button.addClass('ui-button ui-widget ui-state-default ui-corner-all ' +\n",
       "                        'ui-button-icon-only');\n",
       "        button.attr('role', 'button');\n",
       "        button.attr('aria-disabled', 'false');\n",
       "        button.click(method_name, toolbar_event);\n",
       "        button.mouseover(tooltip, toolbar_mouse_event);\n",
       "\n",
       "        var icon_img = $('<span/>');\n",
       "        icon_img.addClass('ui-button-icon-primary ui-icon');\n",
       "        icon_img.addClass(image);\n",
       "        icon_img.addClass('ui-corner-all');\n",
       "\n",
       "        var tooltip_span = $('<span/>');\n",
       "        tooltip_span.addClass('ui-button-text');\n",
       "        tooltip_span.html(tooltip);\n",
       "\n",
       "        button.append(icon_img);\n",
       "        button.append(tooltip_span);\n",
       "\n",
       "        nav_element.append(button);\n",
       "    }\n",
       "\n",
       "    var fmt_picker_span = $('<span/>');\n",
       "\n",
       "    var fmt_picker = $('<select/>');\n",
       "    fmt_picker.addClass('mpl-toolbar-option ui-widget ui-widget-content');\n",
       "    fmt_picker_span.append(fmt_picker);\n",
       "    nav_element.append(fmt_picker_span);\n",
       "    this.format_dropdown = fmt_picker[0];\n",
       "\n",
       "    for (var ind in mpl.extensions) {\n",
       "        var fmt = mpl.extensions[ind];\n",
       "        var option = $(\n",
       "            '<option/>', {selected: fmt === mpl.default_extension}).html(fmt);\n",
       "        fmt_picker.append(option)\n",
       "    }\n",
       "\n",
       "    // Add hover states to the ui-buttons\n",
       "    $( \".ui-button\" ).hover(\n",
       "        function() { $(this).addClass(\"ui-state-hover\");},\n",
       "        function() { $(this).removeClass(\"ui-state-hover\");}\n",
       "    );\n",
       "\n",
       "    var status_bar = $('<span class=\"mpl-message\"/>');\n",
       "    nav_element.append(status_bar);\n",
       "    this.message = status_bar[0];\n",
       "}\n",
       "\n",
       "mpl.figure.prototype.request_resize = function(x_pixels, y_pixels) {\n",
       "    // Request matplotlib to resize the figure. Matplotlib will then trigger a resize in the client,\n",
       "    // which will in turn request a refresh of the image.\n",
       "    this.send_message('resize', {'width': x_pixels, 'height': y_pixels});\n",
       "}\n",
       "\n",
       "mpl.figure.prototype.send_message = function(type, properties) {\n",
       "    properties['type'] = type;\n",
       "    properties['figure_id'] = this.id;\n",
       "    this.ws.send(JSON.stringify(properties));\n",
       "}\n",
       "\n",
       "mpl.figure.prototype.send_draw_message = function() {\n",
       "    if (!this.waiting) {\n",
       "        this.waiting = true;\n",
       "        this.ws.send(JSON.stringify({type: \"draw\", figure_id: this.id}));\n",
       "    }\n",
       "}\n",
       "\n",
       "\n",
       "mpl.figure.prototype.handle_save = function(fig, msg) {\n",
       "    var format_dropdown = fig.format_dropdown;\n",
       "    var format = format_dropdown.options[format_dropdown.selectedIndex].value;\n",
       "    fig.ondownload(fig, format);\n",
       "}\n",
       "\n",
       "\n",
       "mpl.figure.prototype.handle_resize = function(fig, msg) {\n",
       "    var size = msg['size'];\n",
       "    if (size[0] != fig.canvas.width || size[1] != fig.canvas.height) {\n",
       "        fig._resize_canvas(size[0], size[1]);\n",
       "        fig.send_message(\"refresh\", {});\n",
       "    };\n",
       "}\n",
       "\n",
       "mpl.figure.prototype.handle_rubberband = function(fig, msg) {\n",
       "    var x0 = msg['x0'] / mpl.ratio;\n",
       "    var y0 = (fig.canvas.height - msg['y0']) / mpl.ratio;\n",
       "    var x1 = msg['x1'] / mpl.ratio;\n",
       "    var y1 = (fig.canvas.height - msg['y1']) / mpl.ratio;\n",
       "    x0 = Math.floor(x0) + 0.5;\n",
       "    y0 = Math.floor(y0) + 0.5;\n",
       "    x1 = Math.floor(x1) + 0.5;\n",
       "    y1 = Math.floor(y1) + 0.5;\n",
       "    var min_x = Math.min(x0, x1);\n",
       "    var min_y = Math.min(y0, y1);\n",
       "    var width = Math.abs(x1 - x0);\n",
       "    var height = Math.abs(y1 - y0);\n",
       "\n",
       "    fig.rubberband_context.clearRect(\n",
       "        0, 0, fig.canvas.width, fig.canvas.height);\n",
       "\n",
       "    fig.rubberband_context.strokeRect(min_x, min_y, width, height);\n",
       "}\n",
       "\n",
       "mpl.figure.prototype.handle_figure_label = function(fig, msg) {\n",
       "    // Updates the figure title.\n",
       "    fig.header.textContent = msg['label'];\n",
       "}\n",
       "\n",
       "mpl.figure.prototype.handle_cursor = function(fig, msg) {\n",
       "    var cursor = msg['cursor'];\n",
       "    switch(cursor)\n",
       "    {\n",
       "    case 0:\n",
       "        cursor = 'pointer';\n",
       "        break;\n",
       "    case 1:\n",
       "        cursor = 'default';\n",
       "        break;\n",
       "    case 2:\n",
       "        cursor = 'crosshair';\n",
       "        break;\n",
       "    case 3:\n",
       "        cursor = 'move';\n",
       "        break;\n",
       "    }\n",
       "    fig.rubberband_canvas.style.cursor = cursor;\n",
       "}\n",
       "\n",
       "mpl.figure.prototype.handle_message = function(fig, msg) {\n",
       "    fig.message.textContent = msg['message'];\n",
       "}\n",
       "\n",
       "mpl.figure.prototype.handle_draw = function(fig, msg) {\n",
       "    // Request the server to send over a new figure.\n",
       "    fig.send_draw_message();\n",
       "}\n",
       "\n",
       "mpl.figure.prototype.handle_image_mode = function(fig, msg) {\n",
       "    fig.image_mode = msg['mode'];\n",
       "}\n",
       "\n",
       "mpl.figure.prototype.updated_canvas_event = function() {\n",
       "    // Called whenever the canvas gets updated.\n",
       "    this.send_message(\"ack\", {});\n",
       "}\n",
       "\n",
       "// A function to construct a web socket function for onmessage handling.\n",
       "// Called in the figure constructor.\n",
       "mpl.figure.prototype._make_on_message_function = function(fig) {\n",
       "    return function socket_on_message(evt) {\n",
       "        if (evt.data instanceof Blob) {\n",
       "            /* FIXME: We get \"Resource interpreted as Image but\n",
       "             * transferred with MIME type text/plain:\" errors on\n",
       "             * Chrome.  But how to set the MIME type?  It doesn't seem\n",
       "             * to be part of the websocket stream */\n",
       "            evt.data.type = \"image/png\";\n",
       "\n",
       "            /* Free the memory for the previous frames */\n",
       "            if (fig.imageObj.src) {\n",
       "                (window.URL || window.webkitURL).revokeObjectURL(\n",
       "                    fig.imageObj.src);\n",
       "            }\n",
       "\n",
       "            fig.imageObj.src = (window.URL || window.webkitURL).createObjectURL(\n",
       "                evt.data);\n",
       "            fig.updated_canvas_event();\n",
       "            fig.waiting = false;\n",
       "            return;\n",
       "        }\n",
       "        else if (typeof evt.data === 'string' && evt.data.slice(0, 21) == \"data:image/png;base64\") {\n",
       "            fig.imageObj.src = evt.data;\n",
       "            fig.updated_canvas_event();\n",
       "            fig.waiting = false;\n",
       "            return;\n",
       "        }\n",
       "\n",
       "        var msg = JSON.parse(evt.data);\n",
       "        var msg_type = msg['type'];\n",
       "\n",
       "        // Call the  \"handle_{type}\" callback, which takes\n",
       "        // the figure and JSON message as its only arguments.\n",
       "        try {\n",
       "            var callback = fig[\"handle_\" + msg_type];\n",
       "        } catch (e) {\n",
       "            console.log(\"No handler for the '\" + msg_type + \"' message type: \", msg);\n",
       "            return;\n",
       "        }\n",
       "\n",
       "        if (callback) {\n",
       "            try {\n",
       "                // console.log(\"Handling '\" + msg_type + \"' message: \", msg);\n",
       "                callback(fig, msg);\n",
       "            } catch (e) {\n",
       "                console.log(\"Exception inside the 'handler_\" + msg_type + \"' callback:\", e, e.stack, msg);\n",
       "            }\n",
       "        }\n",
       "    };\n",
       "}\n",
       "\n",
       "// from http://stackoverflow.com/questions/1114465/getting-mouse-location-in-canvas\n",
       "mpl.findpos = function(e) {\n",
       "    //this section is from http://www.quirksmode.org/js/events_properties.html\n",
       "    var targ;\n",
       "    if (!e)\n",
       "        e = window.event;\n",
       "    if (e.target)\n",
       "        targ = e.target;\n",
       "    else if (e.srcElement)\n",
       "        targ = e.srcElement;\n",
       "    if (targ.nodeType == 3) // defeat Safari bug\n",
       "        targ = targ.parentNode;\n",
       "\n",
       "    // jQuery normalizes the pageX and pageY\n",
       "    // pageX,Y are the mouse positions relative to the document\n",
       "    // offset() returns the position of the element relative to the document\n",
       "    var x = e.pageX - $(targ).offset().left;\n",
       "    var y = e.pageY - $(targ).offset().top;\n",
       "\n",
       "    return {\"x\": x, \"y\": y};\n",
       "};\n",
       "\n",
       "/*\n",
       " * return a copy of an object with only non-object keys\n",
       " * we need this to avoid circular references\n",
       " * http://stackoverflow.com/a/24161582/3208463\n",
       " */\n",
       "function simpleKeys (original) {\n",
       "  return Object.keys(original).reduce(function (obj, key) {\n",
       "    if (typeof original[key] !== 'object')\n",
       "        obj[key] = original[key]\n",
       "    return obj;\n",
       "  }, {});\n",
       "}\n",
       "\n",
       "mpl.figure.prototype.mouse_event = function(event, name) {\n",
       "    var canvas_pos = mpl.findpos(event)\n",
       "\n",
       "    if (name === 'button_press')\n",
       "    {\n",
       "        this.canvas.focus();\n",
       "        this.canvas_div.focus();\n",
       "    }\n",
       "\n",
       "    var x = canvas_pos.x * mpl.ratio;\n",
       "    var y = canvas_pos.y * mpl.ratio;\n",
       "\n",
       "    this.send_message(name, {x: x, y: y, button: event.button,\n",
       "                             step: event.step,\n",
       "                             guiEvent: simpleKeys(event)});\n",
       "\n",
       "    /* This prevents the web browser from automatically changing to\n",
       "     * the text insertion cursor when the button is pressed.  We want\n",
       "     * to control all of the cursor setting manually through the\n",
       "     * 'cursor' event from matplotlib */\n",
       "    event.preventDefault();\n",
       "    return false;\n",
       "}\n",
       "\n",
       "mpl.figure.prototype._key_event_extra = function(event, name) {\n",
       "    // Handle any extra behaviour associated with a key event\n",
       "}\n",
       "\n",
       "mpl.figure.prototype.key_event = function(event, name) {\n",
       "\n",
       "    // Prevent repeat events\n",
       "    if (name == 'key_press')\n",
       "    {\n",
       "        if (event.which === this._key)\n",
       "            return;\n",
       "        else\n",
       "            this._key = event.which;\n",
       "    }\n",
       "    if (name == 'key_release')\n",
       "        this._key = null;\n",
       "\n",
       "    var value = '';\n",
       "    if (event.ctrlKey && event.which != 17)\n",
       "        value += \"ctrl+\";\n",
       "    if (event.altKey && event.which != 18)\n",
       "        value += \"alt+\";\n",
       "    if (event.shiftKey && event.which != 16)\n",
       "        value += \"shift+\";\n",
       "\n",
       "    value += 'k';\n",
       "    value += event.which.toString();\n",
       "\n",
       "    this._key_event_extra(event, name);\n",
       "\n",
       "    this.send_message(name, {key: value,\n",
       "                             guiEvent: simpleKeys(event)});\n",
       "    return false;\n",
       "}\n",
       "\n",
       "mpl.figure.prototype.toolbar_button_onclick = function(name) {\n",
       "    if (name == 'download') {\n",
       "        this.handle_save(this, null);\n",
       "    } else {\n",
       "        this.send_message(\"toolbar_button\", {name: name});\n",
       "    }\n",
       "};\n",
       "\n",
       "mpl.figure.prototype.toolbar_button_onmouseover = function(tooltip) {\n",
       "    this.message.textContent = tooltip;\n",
       "};\n",
       "mpl.toolbar_items = [[\"Home\", \"Reset original view\", \"fa fa-home icon-home\", \"home\"], [\"Back\", \"Back to previous view\", \"fa fa-arrow-left icon-arrow-left\", \"back\"], [\"Forward\", \"Forward to next view\", \"fa fa-arrow-right icon-arrow-right\", \"forward\"], [\"\", \"\", \"\", \"\"], [\"Pan\", \"Pan axes with left mouse, zoom with right\", \"fa fa-arrows icon-move\", \"pan\"], [\"Zoom\", \"Zoom to rectangle\", \"fa fa-square-o icon-check-empty\", \"zoom\"], [\"\", \"\", \"\", \"\"], [\"Download\", \"Download plot\", \"fa fa-floppy-o icon-save\", \"download\"]];\n",
       "\n",
       "mpl.extensions = [\"eps\", \"jpeg\", \"pdf\", \"png\", \"ps\", \"raw\", \"svg\", \"tif\"];\n",
       "\n",
       "mpl.default_extension = \"png\";var comm_websocket_adapter = function(comm) {\n",
       "    // Create a \"websocket\"-like object which calls the given IPython comm\n",
       "    // object with the appropriate methods. Currently this is a non binary\n",
       "    // socket, so there is still some room for performance tuning.\n",
       "    var ws = {};\n",
       "\n",
       "    ws.close = function() {\n",
       "        comm.close()\n",
       "    };\n",
       "    ws.send = function(m) {\n",
       "        //console.log('sending', m);\n",
       "        comm.send(m);\n",
       "    };\n",
       "    // Register the callback with on_msg.\n",
       "    comm.on_msg(function(msg) {\n",
       "        //console.log('receiving', msg['content']['data'], msg);\n",
       "        // Pass the mpl event to the overridden (by mpl) onmessage function.\n",
       "        ws.onmessage(msg['content']['data'])\n",
       "    });\n",
       "    return ws;\n",
       "}\n",
       "\n",
       "mpl.mpl_figure_comm = function(comm, msg) {\n",
       "    // This is the function which gets called when the mpl process\n",
       "    // starts-up an IPython Comm through the \"matplotlib\" channel.\n",
       "\n",
       "    var id = msg.content.data.id;\n",
       "    // Get hold of the div created by the display call when the Comm\n",
       "    // socket was opened in Python.\n",
       "    var element = $(\"#\" + id);\n",
       "    var ws_proxy = comm_websocket_adapter(comm)\n",
       "\n",
       "    function ondownload(figure, format) {\n",
       "        window.open(figure.imageObj.src);\n",
       "    }\n",
       "\n",
       "    var fig = new mpl.figure(id, ws_proxy,\n",
       "                           ondownload,\n",
       "                           element.get(0));\n",
       "\n",
       "    // Call onopen now - mpl needs it, as it is assuming we've passed it a real\n",
       "    // web socket which is closed, not our websocket->open comm proxy.\n",
       "    ws_proxy.onopen();\n",
       "\n",
       "    fig.parent_element = element.get(0);\n",
       "    fig.cell_info = mpl.find_output_cell(\"<div id='\" + id + \"'></div>\");\n",
       "    if (!fig.cell_info) {\n",
       "        console.error(\"Failed to find cell for figure\", id, fig);\n",
       "        return;\n",
       "    }\n",
       "\n",
       "    var output_index = fig.cell_info[2]\n",
       "    var cell = fig.cell_info[0];\n",
       "\n",
       "};\n",
       "\n",
       "mpl.figure.prototype.handle_close = function(fig, msg) {\n",
       "    var width = fig.canvas.width/mpl.ratio\n",
       "    fig.root.unbind('remove')\n",
       "\n",
       "    // Update the output cell to use the data from the current canvas.\n",
       "    fig.push_to_output();\n",
       "    var dataURL = fig.canvas.toDataURL();\n",
       "    // Re-enable the keyboard manager in IPython - without this line, in FF,\n",
       "    // the notebook keyboard shortcuts fail.\n",
       "    IPython.keyboard_manager.enable()\n",
       "    $(fig.parent_element).html('<img src=\"' + dataURL + '\" width=\"' + width + '\">');\n",
       "    fig.close_ws(fig, msg);\n",
       "}\n",
       "\n",
       "mpl.figure.prototype.close_ws = function(fig, msg){\n",
       "    fig.send_message('closing', msg);\n",
       "    // fig.ws.close()\n",
       "}\n",
       "\n",
       "mpl.figure.prototype.push_to_output = function(remove_interactive) {\n",
       "    // Turn the data on the canvas into data in the output cell.\n",
       "    var width = this.canvas.width/mpl.ratio\n",
       "    var dataURL = this.canvas.toDataURL();\n",
       "    this.cell_info[1]['text/html'] = '<img src=\"' + dataURL + '\" width=\"' + width + '\">';\n",
       "}\n",
       "\n",
       "mpl.figure.prototype.updated_canvas_event = function() {\n",
       "    // Tell IPython that the notebook contents must change.\n",
       "    IPython.notebook.set_dirty(true);\n",
       "    this.send_message(\"ack\", {});\n",
       "    var fig = this;\n",
       "    // Wait a second, then push the new image to the DOM so\n",
       "    // that it is saved nicely (might be nice to debounce this).\n",
       "    setTimeout(function () { fig.push_to_output() }, 1000);\n",
       "}\n",
       "\n",
       "mpl.figure.prototype._init_toolbar = function() {\n",
       "    var fig = this;\n",
       "\n",
       "    var nav_element = $('<div/>')\n",
       "    nav_element.attr('style', 'width: 100%');\n",
       "    this.root.append(nav_element);\n",
       "\n",
       "    // Define a callback function for later on.\n",
       "    function toolbar_event(event) {\n",
       "        return fig.toolbar_button_onclick(event['data']);\n",
       "    }\n",
       "    function toolbar_mouse_event(event) {\n",
       "        return fig.toolbar_button_onmouseover(event['data']);\n",
       "    }\n",
       "\n",
       "    for(var toolbar_ind in mpl.toolbar_items){\n",
       "        var name = mpl.toolbar_items[toolbar_ind][0];\n",
       "        var tooltip = mpl.toolbar_items[toolbar_ind][1];\n",
       "        var image = mpl.toolbar_items[toolbar_ind][2];\n",
       "        var method_name = mpl.toolbar_items[toolbar_ind][3];\n",
       "\n",
       "        if (!name) { continue; };\n",
       "\n",
       "        var button = $('<button class=\"btn btn-default\" href=\"#\" title=\"' + name + '\"><i class=\"fa ' + image + ' fa-lg\"></i></button>');\n",
       "        button.click(method_name, toolbar_event);\n",
       "        button.mouseover(tooltip, toolbar_mouse_event);\n",
       "        nav_element.append(button);\n",
       "    }\n",
       "\n",
       "    // Add the status bar.\n",
       "    var status_bar = $('<span class=\"mpl-message\" style=\"text-align:right; float: right;\"/>');\n",
       "    nav_element.append(status_bar);\n",
       "    this.message = status_bar[0];\n",
       "\n",
       "    // Add the close button to the window.\n",
       "    var buttongrp = $('<div class=\"btn-group inline pull-right\"></div>');\n",
       "    var button = $('<button class=\"btn btn-mini btn-primary\" href=\"#\" title=\"Stop Interaction\"><i class=\"fa fa-power-off icon-remove icon-large\"></i></button>');\n",
       "    button.click(function (evt) { fig.handle_close(fig, {}); } );\n",
       "    button.mouseover('Stop Interaction', toolbar_mouse_event);\n",
       "    buttongrp.append(button);\n",
       "    var titlebar = this.root.find($('.ui-dialog-titlebar'));\n",
       "    titlebar.prepend(buttongrp);\n",
       "}\n",
       "\n",
       "mpl.figure.prototype._root_extra_style = function(el){\n",
       "    var fig = this\n",
       "    el.on(\"remove\", function(){\n",
       "\tfig.close_ws(fig, {});\n",
       "    });\n",
       "}\n",
       "\n",
       "mpl.figure.prototype._canvas_extra_style = function(el){\n",
       "    // this is important to make the div 'focusable\n",
       "    el.attr('tabindex', 0)\n",
       "    // reach out to IPython and tell the keyboard manager to turn it's self\n",
       "    // off when our div gets focus\n",
       "\n",
       "    // location in version 3\n",
       "    if (IPython.notebook.keyboard_manager) {\n",
       "        IPython.notebook.keyboard_manager.register_events(el);\n",
       "    }\n",
       "    else {\n",
       "        // location in version 2\n",
       "        IPython.keyboard_manager.register_events(el);\n",
       "    }\n",
       "\n",
       "}\n",
       "\n",
       "mpl.figure.prototype._key_event_extra = function(event, name) {\n",
       "    var manager = IPython.notebook.keyboard_manager;\n",
       "    if (!manager)\n",
       "        manager = IPython.keyboard_manager;\n",
       "\n",
       "    // Check for shift+enter\n",
       "    if (event.shiftKey && event.which == 13) {\n",
       "        this.canvas_div.blur();\n",
       "        event.shiftKey = false;\n",
       "        // Send a \"J\" for go to next cell\n",
       "        event.which = 74;\n",
       "        event.keyCode = 74;\n",
       "        manager.command_mode();\n",
       "        manager.handle_keydown(event);\n",
       "    }\n",
       "}\n",
       "\n",
       "mpl.figure.prototype.handle_save = function(fig, msg) {\n",
       "    fig.ondownload(fig, null);\n",
       "}\n",
       "\n",
       "\n",
       "mpl.find_output_cell = function(html_output) {\n",
       "    // Return the cell and output element which can be found *uniquely* in the notebook.\n",
       "    // Note - this is a bit hacky, but it is done because the \"notebook_saving.Notebook\"\n",
       "    // IPython event is triggered only after the cells have been serialised, which for\n",
       "    // our purposes (turning an active figure into a static one), is too late.\n",
       "    var cells = IPython.notebook.get_cells();\n",
       "    var ncells = cells.length;\n",
       "    for (var i=0; i<ncells; i++) {\n",
       "        var cell = cells[i];\n",
       "        if (cell.cell_type === 'code'){\n",
       "            for (var j=0; j<cell.output_area.outputs.length; j++) {\n",
       "                var data = cell.output_area.outputs[j];\n",
       "                if (data.data) {\n",
       "                    // IPython >= 3 moved mimebundle to data attribute of output\n",
       "                    data = data.data;\n",
       "                }\n",
       "                if (data['text/html'] == html_output) {\n",
       "                    return [cell, data, j];\n",
       "                }\n",
       "            }\n",
       "        }\n",
       "    }\n",
       "}\n",
       "\n",
       "// Register the function which deals with the matplotlib target/channel.\n",
       "// The kernel may be null if the page has been refreshed.\n",
       "if (IPython.notebook.kernel != null) {\n",
       "    IPython.notebook.kernel.comm_manager.register_target('matplotlib', mpl.mpl_figure_comm);\n",
       "}\n"
      ],
      "text/plain": [
       "<IPython.core.display.Javascript object>"
      ]
     },
     "metadata": {},
     "output_type": "display_data"
    },
    {
     "data": {
      "text/html": [
       "<img src=\"data:image/png;base64,iVBORw0KGgoAAAANSUhEUgAAAyAAAAMgCAYAAADbcAZoAAAgAElEQVR4XuydB3RU1dqG35lJmRQCJBAgdEJPoQfFig0rxd4FBexXxY69XOzl6rWiKIqKFREs8F9FxUboKfTQEyCQQICQOpN/vXtyJpNkkjlJpmXy7bWykGSfXZ59iPudrxkqKioqIE0ICAEhIASEgBAQAkJACAgBIeAFAgYRIF6gLFMIASEgBISAEBACQkAICAEhoAiIAJEXQQgIASEgBISAEBACQkAICAGvERAB4jXUMpEQEAJCQAgIASEgBISAEBACIkDkHRACQkAICAEhIASEgBAQAkLAawREgHgNtUwkBISAEBACQkAICAEhIASEgAgQeQeEgBAQAkJACAgBISAEhIAQ8BoBESBeQy0TCQEhIASEgBAQAkJACAgBISACRN4BISAEhIAQEAJCQAgIASEgBLxGQASI11DLREJACAgBISAEhIAQEAJCQAiIAJF3QAgIASEgBISAEBACQkAICAGvERAB4jXUMpEQEAJCQAgIASEgBISAEBACIkDkHRACQkAICAEhIASEgBAQAkLAawREgHgNtUwkBISAEBACQkAICAEhIASEgAgQeQeEgBAQAkJACAgBISAEhIAQ8BoBESBeQy0TCQEhIASEgBAQAkJACAgBISACRN4BISAEhIAQEAJCQAgIASEgBLxGQASI11DLREJACAgBISAEhIAQEAJCQAiIANHxDlitVuTk5KBVq1YwGAw6npAuQkAICAEhIASEgBAQAkIgMAhUVFTgyJEjiIuLg9FobPKmRIDoQLh792507dpVR0/pIgSEgBAQAkJACAgBISAEApPArl270KVLlyZvTgSIDoQFBQVo06YNCD0qKkrHE9JFCAgBISAEhIAQEAJCQAgEBoHDhw+rD+MPHTqE1q1bN3lTIkB0ICR0wqYQEQGiA5h0EQJCQAgIASEgBISAEAgYAu6+Cwe0ANm+fTueeuop/PLLL9i7d6/yW7v66qvx0EMPISQkRPdL4W7ouieWjkJACAgBISAEhIAQEAJCwMcE3H0XDmgB8tNPP+Hzzz/HFVdcgd69eyMjIwNTpkzBNddcgxdffFH3Ubobuu6JpaMQEAJCQAgIASEgBISAEPAxAXffhQNagDg7qxdeeAFvvfUWtm7dqvso9UC3WCwoKyvTPaZ0FAItjUBwcDBMJlNL27bsVwgIASEgBIRAsyeg5y7ckE22OAHy8MMPg5aRFStW1MmppKQE/NKaFnjjLAaEacno3sWgHGlCQAjUT4DJHDp27CjprOVFEQJCQAgIASHQjAiIAGnCYWVlZWHo0KF46aWXMHny5DpHevzxx/HEE0/U+rkzAbJnzx4lPmJjYxEeHi4XqyacjzwauAQo1I8dO4bc3FyVUa5Tp06Bu1nZmRAQAkJACAiBACMgAgRAXQLB8ayXL1+O4cOH27/FQoKnnHKK+nrvvffqfS30WkDodrVp0yYlPmJiYgLsVZPtCAH3E8jLy1MipG/fvuKO5X68MqIQEAJCQAgIAY8QEAEC4MCBA+qrvtajRw+YzWbVheJj9OjRGDlyJD788MMGV3CsC3pxcTG2bdsGzhUWFuaRA5dBhUAgESgqKgKz0/Xs2dP+7zOQ9id7EQJCQAgIASEQiAREgDTwVLOzs5X4GDZsGObMmdOoT11dCRC5TDXwUKR7iyWgiXb5N9NiXwHZuBAQAkJACDRDAiJAGnBomttVt27d8NFHH1UTHwyE1dtEgOglJf2EQP0ERIDIGyIEhIAQEAJCoPkREAHSgDOju9WkSZOcPsGgWL1NBIheUu7vx3O68cYb8dVXX+HgwYNYvXo1Bg8e7P6JZESvEBAB4hXMMokQEAJCQAgIAbcSEAHiVpz6BgtEATJx4kTMnj3bDiA6OhojRozA888/j+TkZH1g6ujFsZkZ7Ntvv23SOHz4xx9/xLhx4/Drr7+iV69eaNeuHYKCgpo8rgzgGwIiQHzDXWYVAkJACAiBZkaAH5Rv/wNY+QFw3ktAWFufbkAEiA/we0OAWKwVSN2Wj9wjxYhtZUZKz2iYjAaP7ZYiYd++ffjggw/UHKxlwhopaWlp2Llzp9N5WWiRxeRcNXcKkP/+979g8cgdO3a4mrbOn9OKwoxlIlwajdBtD4oAcRtKGUgICAEhIAQCkUBpIZD2BZA6E8jNtO3wrKeBUbf7dLciQHyA39MC5KeMPXhiwTrsKSi2765TazMeu2Agzk70TL0EZyJh6dKlOPnkk1Wa1MLCQpWp6PPPP8ebb76Jf/75R1WQpxCgZWPNmjX2tb766qvgF7MbOUuRvGTJEpx66qlgQoBp06Zh8eLFKhPZiSeeiP/85z8qi5izVtNK0717dzUH0yTfe++9mDt3Lng2TLf8yiuvKAsOG60lTDzAgpMPPfSQElWLFi1S3/vuu+/w5JNPIiMjA5GRkWq/33zzjXqutLRUibBPPvlEWXASExPx3HPPqbVLcw8BESDu4SijCAEhIASEQIARyN8GLH8PWP0xUFxg21xwOJB8GTDyJiC2v083LALEB/g9KUAoPm6eswo1I1I028dbVw/1iAipKUCOHj2Ke+65Bz///DM2btyorCAUIBQHLNw4ZMgQhIaG4t13361XgHCcG264QQkDzbpC967y8nIVu3HSSSfhzjvvVNaIp59+GitXrlQCISQkpNbJsvDja6+9puZkXReTyYT27dvjjjvuUDEhrOdCUUK3MQqLLVu2gHNpAoSuZC+++KJy3WLxO4oounNRlFx++eVKcHz//feYPn26mvuqq65SAufZZ59FXFwc5s2bpwRJeno6+vTp44M3L/CmFAESeGcqOxICQkAICIFGErBaga2/AMveBTYvBrTbYFRnYOB4oN85QGir6oPz7zHxjZyw8Y+JAGk8u0Y/6SkBQrerE5/7pZrlw3GRFCEdW5vxx/2nud0diwKEaYm1Wim0eLA69cKFC1W1eK1WAy0bvPBrjRaO+iwg7OfMujJr1iwlFNavX2+vFk8BQGHA8c466yyn5+NoXWEHrrNt27aqnsuVV16pnqFrGIUShQ0tI5oA4bgUHFobNWqUEiPcd82WlZWlRMbu3buV+NDaGWecgZSUFMyYMaPR7488WEVABIi8DUJACAgBIdDiCRQfBtZ+BqS+C+RtqcLRbRSw8y/XeG5f5XURIgLE9bG4vYenBMjfWXm4YuY/Ltf72ZTjcHy8eyutUyTQJYpuVWz5+fnK1YpB36mpqWDcBC0gf/zxB0444YQmC5Bbb70V77zzTq3ic8eOHcMbb7yh3J3OOecc+zzsS4tETQFCa8mgQYOUQKL1Q2sTJkxQwoRCRxMgFBOdO3e29wkPD1dzOcuM9uWXX+LSSy9FREREtfOgu9eFF16oXNGkNZ2ACJCmM5QRhIAQEAJCoJkS2L/JJjooPkqP2jYR0goYchUwYorte++e4npzU38D4rybEVQEiOtjcXsPTwmQ+WuyccfcqliKuhb+n8sHY9zgqou0OzbozErBQO3WrVsrS8LkyZOVAKmZ9pbxE19//TXWrl1rXwaDxHmxpyhgczb2zTffjFWrVqn4ipqNblV0waIg0lqHDh3QqlWrWgKE89KVi7EorO+itfHjxyMmJgbvv/++XYAwbS8tLFrjz+mS5UyAUGBQ8GRmZtYqVslYkYbUjXHH+QTqGCJAAvVkZV9CQAgIASHglIDVYnOvWvYOsHVJVZd2fYGUqcCgy6vcrHLWiACR16iKgKcEiK8tIDVT5VqtVnVhnzJlCm6//XanAoQWE7phMWuWwWCLVOHF/c8//7QLkKlTp2LPnj1YsGCBHeLMmTNx//33qz5RUVG6Xy9nLliM82B8iaMLFsUShRPjWDQLSE0BwiB0WkScuWBt2rQJ/fr1w++//67iVKR5hoAIEM9wlVGFgBAQAkLAzwgcywdWz7EFlh/SMnkabHEdFB69TgUq71H2lTsRIBVWwGCssTexgPjZYXtoOZ4SIFoMyN6C4lpB6NyKp2NAHNPw8rLOlLcUGL/88ouKqXBmAWEMR0JCAp555hlcfPHFKtPUI488okSFZgFhvARdqJjtilYHWlUYp0HLBQUArShdunRRge7MQMW4Df7dWaspQNiHQoMuU7R20AqiBaEzjoNuWHUJEH7/9NNPV4HlDEJnYDxdzu677z419dVXX62ElBZ0f+DAAcUiKSkJ5557roferpY1rAiQlnXeslshIASEQIsjsDcDSH0HSPsSKC+ybd/cBhh6LTDiBqCt88yfql8NAVKYG4LdS6PR9aR8hMeWVqEUAdIyXitPCRDS07Jg8b8dM2F5IwuWYyFCujv1799fWSkuuugiexC6s8rjb7/9tgrKZtwI+9JywExVmgDZv3+/sor8/fffYFYsLQ0vrSYc/4cffsCRI0eUGKEgoFtUXVYRZwKEl1iKhs8++0yNU1ca3poWEDKm4Hnqqaewbt06NSfT8NKljI0iiZm5PvroI+UORvF0/PHH44knnlAiRFrTCYgAaTpDGUEICAEhIAT8jIClHNiw0BbfsePPqsV1SLRZO5IuAULCXS/aQYDQ8rH1x/YoPRKMkFZl6HXO/ipLiAgQ1ywDoYcnBYgmQrxdByQQzkX20PwIiABpfmcmKxYCQkAICIE6CBQesFUqX/EBcLgyjtVgAgZcAIy8Eeh2fG03q/pgOgiQvA0RyF1Dl3V+JF2B2CGHEdOv0Pa0CJCW8Up6WoCQorcrobeMk5Nd+hsBESD+diKyHiEgBISAEGgwgexVNmtHxteApdI1KrwdMHwSMPx6IKoqnX+Dxq4UIGVFRmQtjEWFpSr4w2CyIv78XASHWUWANAhqM+7sDQHSjPHI0oWAbgIiQHSjko5CQAgIASHgTwTKS4F1823xHbuXV60sbqjN2pEwAQgKbdqK87KA14ci+682OLwrDKjQHPJpCKlAVNcidB51CJA6IE3j3FyeFgHSXE5K1unvBESA+PsJyfqEgBAQAkKgGoHDe6rcrApzbT8yBtsEB4VHl+FuBVa4eB52/mt6nWN2e30GIs6c4NY59QwmdUD0UHJzHxEgbgYqw7VYAiJAWuzRy8aFgBAQAv5HgBaHkiO111VRAezLANZ/B2T9AljLbX1adbK5WA2bCETGemQ/OQ9OR8H8+YDVWnt8oxGtx41D3DMzPDJ3fYOKAPE6ckAEiA+gy5QBSUAESEAeq2xKCAgBIdD8CFS6O+laOIPJmc2KweWmYF2PNLZT4bJU7Lzuujof7/bRbESkpDR2+EY/JwKk0ega/6AIkMazkyeFgCMBESDyPggBISAEhIBfENBbdfzC94DkS7y65Oxpd+PwokWAxVI1r8mEqLPPRueXXvTqWrTJRID4ALsIEB9AlykDkoAIkIA8VtmUEBACQqD5EcheDcw81fW6fZDytmxfLrLGjEFFcbF9fQazGfGLFiG4g2dcv1yBEAHiipAHfi4CxANQZcgWSUAESIs8dtm0EBACQsB/CJQcBdI+B/56HTi4rdq6WPzPUJX51vYzHwgQTpv3wYfIfe45+/piH7gfMRMn+oyjCBAfoBcB4gPoMmVAEhABEpDHKpsSAkJACPg/AcZ8LH8PWP0JUFJQa72FuSHYvTQaXU/KR3hsZW0PHwqQirIybB07DqXbtiGkZ0/0+m4+DMGejT+p7xBFgPjgFRcBUjf0xx9/HN9++y3WrFnjg5NpHlN++OGHuPPOO3Ho0KHmsWAPrlIEiAfhytBCQAgIASFQnQAzSWX9bCsauPn/VEVx1aJ7Af3OA/5+Xf2Vlo+tP7ZH6ZFghLQqQ69z9ldZQnxgASk/cABF6ek4/NMiHF64EJ0efwxtLvFuHErNV0kEiA/+cQWiAJk4cSJmz55tpxkdHY0RI0bg+eefR3Jysm7KnhIgFotFrYVr3LFjB8LCwtC3b1/ceOONmDRpklrfqaeeisGDB+PVV1/VvV53d1yyZAleeuklLFu2DEeOHEHnzp0xfPhw3HrrrTj55JPVdEVFRepnsbHu89vcvn07evbsidWrVysG9bXc3Fw88sgj+PHHH7Fv3z60bdsWgwYNAs/u+OOPV48aDAbMmzcP48ePdzeiauOJAPEoXhlcCAgBISAESKC4AFjzKZA6E8jPqmLS+0xb7Y7404G9acC7p6if5W2IQO6aKP7fUImU2CGHEdOv0PachwWItbAQxevWoSgtXYmO4rQ0lOXkVDvHDg8/jOirr/Lp2YoA8QF+jwqQunJQa/sMbQXExLt91xQgvIx+8MEHauy9e/fi4YcfRlpaGnbu3Kl7Pk8JEF6Y3333Xfz3v/9VF3qewYoVK1BQUIBp06ap9flagLz55pu47bbbcM011+C6665TgmDPnj1Yvnw5PvroI6xcuVI3x4Z2bIgAOemkk1BWVoZnnnkGvXr1Uuf+888/K6F53nnniQBpKHzpLwSEgBAQAv5JIHeDzdqxdi5QVikgQqOAIVcDIyZXv09VZsEqKzIia2EsKixVwR8GkxXx5+ciOMzqVgFSUV6Oks2bK8VGGorT0lGyZUvtmh8GA0J7x8OclIyw5CREjBqFkG7dfMpcBIgP8HtMgOjNQX37KreLEAoQugTRfUprS5cuVZ/a8xPz9u3bq2/ff//96pPx3bt3o2PHjrjqqqvw6KOPIrjSD1ETIDfffDOefvpp5OXlqUvtzJkz0aZNG/z+++84/fTTsWvXLvW81u6++251UefPnTV+qj9hwgQ89thjTn9e04LDTtu2bUOPHj2wbt063HPPPWrsiIgInHXWWXjllVfQrl07u3BJTExU/z1nzhyYTCZw/U899ZSyBOhpFGm9e/dWAuTll1+u9UhFRYV9rJouWFlZWUpE/fPPPygsLMSAAQOUODjjjDPs43AfU6dOxZYtW/Dll18qqwUFIr/HVnOdp5xyCn799dda6+AZ81n+jH2cNc5FK5PWunfvDgoctgULFihLSWZmJuLi4pTQeuihhxAUFGRfB4XYd999p+bgGdNydUkdpmKxgOh5u6SPEBACQkAI6CZgtQAbf7QJj22/VT3Wvr+tdkfyZUBoZO3hKu9g2X+1weFdYUCFw///DRWI6lqEzqMOAY28g/EeULZ7N4rSbEJDWTfWrauW2UpbVFDHjghLSoQ5ORlhSckwJybAFOlkzbqhuL+jCBD3M3U5oscEiN4c1B4w/9UUIEePHlWXdn4yvnHjRhiNtk8CKCpOO+00dflMT0/HlClT1OX5vvvuUz/n5fTFF1/EyJEjlSsSWd1www1ISUnBJ598ovr069cPkydPxr333qv+Xl5erlyVnn32Wbs7Vc1DOPvss5Xr0ldffWUXQ459aAk555xzQCHx5JNPqh9RNFE88ZN9rvPaa69VY1BEcc5ffvlF9aPlhNYJrpPCg5YVXuzpysXn9DQKGnKgxcNRWDl7tqYAWbt2rRIfo0aNgtlsVm5mZEfu3So/4aAooNsWRREFFDnw4k8h0L9/fyXeyPh///sfEhISEBISArrR1WzcNwUI+ZN3aGhorT779+9X7mG0hpE7BRlZLlq0CJdeeilee+010IpC4UROfHc0YUghFBMTo8ameP3444+VmOK7QmFVs4kA0fN2SR8hIASEgBBwSeBYPrDqI2D5+0BBpecGU1j1O9cmPHqezE/r6h2mcPE87PzX9Dr7dHt9BiLOnOByKepuc/AgitPTbdaNtLVKdFicxH4aIyOVVUOzbpgTk3yWWlfXxio7iQBpCC039Q1UAcJP/3kBZuMn8Z06dcLChQsxdOjQOsm98MIL+Pzzz9WlnY0ChCKFn5h36dJFfe+nn35SVpDs7Gz7J+K8hNMywTZ//nxcffXVyu2LFgpnjX0vvvhidSnnBZuX9XHjxinRoTVnLli0zjAeg5dnrdF607VrVzUW40j4HIUKL/OaJeGBBx5Qn+Jra3T16lC4fPrpp8olTGtff/21shBo7e+//0ZSUhL0BKFzjxyTFhU2ChBe+nmhZ+MnKRQ6TzzxBG666SbFW28MCNdFYUUxxrOlJeTyyy+vFuvjLAaEgoK8H3zwQfue+M5QfOZU+qfyOa7nrbfesvc57rjj1Dy0jNRsIkBcvVnycyEgBISAEKiXwN50YNk7QPqXQHllnYywtsDQ64ARNwBt9Lsq5Tw4HQXz59d2geICjEa0HjcOcc/MqLUca3ExitettwsNWjfKdu2qvezgYJj790dYUhLMyUkIS05GSI8eMFR+yNucTloEiA9OK1AFCAWCdnHMz89XF0YGKqempoJuOGz85J2WAboC0UrCT9SjoqLUBZ6NAoTxDlu3brWfDC/ldL/S3H7Yl+KELlG8nFJI0B3q/fffV89EOpgZKUzefvtt9X2r1aosFX/88Yd6lu5A/PT9vffeUz93JkAofP7v//5PWQQcGwXWDz/8oC7UfI6xELNmzbJ3oSii4OEFmRYAV41i4bPPPquW2Yp8KKrIlXNoAeI1BQjXQiFBsceLPJlSHNAtje5LbBQgDGTXrEb8HgPHL7roIuUC50yA0IXOUaC98847ymWOjfvizymKKBB5xuRInmzOBAjFIc/AkQeTA3As7iE8PFw9RwsOrU1au+uuu1RWNAbo12wiQFy9WfJzISAEhIAQqEXAUgasX2Bzs9r5d9WPOyYBKTcCSRcDwWENBle4LBU7HT44rDlAt49mI3zYMJRkZVVZN9LTULJxU/Uq5ZUPMl2usm4kJiFsUDJC+/eHscZ9pMGL9JMHRID44CACVYDUjAHh5bJ169YqZSytGnQTOvHEE9VlecyYMepnc+fOVe5CWkpZZwJE4/Xbb7/ZM0Hx4kzRQZciul9RnJxwwgnqNClutEZxU1e2KH76zoBvih1++u9MgPACzovxcw7Fe7SxaeHhpdodAoRxHxQMzlywaoqDmgLklltuURYauq4xjoQZvih+uC4toxcFCM+BX1pjXAyzVJG5MwFCEUPxo7UOHTqgVatWTv/F0CWLQk2L/XAmQLgunv2FF15YawwKOLrp1SVA6Gamubw5PiwCxAe/wGRKISAEhEBzJXA0F1j5IbBiFnBkj20XxiBgwFibm1W341y6Wbnaeva0u3GYXhMWS1VXo1FZKoJiYlCUmYmKY8dqDWNq3w5hyYOUdcMmOhJhimImrcBsIkB8cK4tRYDw025aLuiuQ5HBL1pF6PuvNV5caRVxFCAUKwzKZpwIGy/X5557rt0Fi9+jZYVuP4wzYWzIhg0bGnySq1atwrBhw1R8AWM/GBvB+JLXX7fl8WZjnARdjjIyMuyB0jUn0lywHN2t6GZEK4heFywtCJ1WCsaDODZXAoRuWYytYKYvNlpOaCGiNUKvAKHlhEKOrnBk0tBGATVjxgwcOHBAPUqLES06FIpao0BkvIlmqXI2BwUIrUGO7lZM7TtkyBBxwWrooUh/ISAEhIAQsBHYvcJm7cicB1gqiwJGtAeGTQKGTwKibPeNpjZLQQGOLv0DOQ88wADVOoczhocrgUGrhlkJjmQEdeigO3FNU9fpD8+LAPHBKQSqAHFMw3vw4EGV8pYuWfzkmpd0zS2JcQisEfL999+rT8RpKXEUIPwkn5dO/klWFCmMAeCFVmsUN/xUn3MyaJyB4fU1WgR4AWbsB2MfmOGKIoGuYozdYBYmBkTT1eeLL75QblwMwqYLFC0FjHOg+xKtLrSw0HLDzFx0J9KC0Cm0WFeEwkYTXfy73kbhc8cddyirDMUDrTJcHy01FCVMaewsBoTZvShSGPTNCzyFCC1C119/vW4BornCUXCRN2N5aKGq2ZiVjBmpODaD82kRoWi5/fbbVZyOJi4YG8MsXHTvYqA6A9cpJM8//3wl6jgGLR7cEwUgRScb10/GtDjRWkZxyZ+xz8CBA2utRywget8u6ScEhIAQaGEEyktsgoPxHTmrqjbfebjN2pEwHgiqnUhFLyVrSQlK1jNuo6reRqlDBkjHcSguIkefastIlZSI0Ph4GHS4Z+tdS3PsJwLEB6cWqALEsRAhL6b8tJvCwPFTcAYcM1aipKREXVgZw0EXIEcBwlS+vLjz4skLOK0fjC/gJdax8XLLT92ZkpfuUPU1igUKGFoyGFNCEcJsXJxbi0/ZtGmTCvqmuw/dj7Q0vJs3b1b7YAwC183+zO7ET/15YaYAYdA3RREDySlKuH6uTQtK5zx0ndLS0da1Vmah4rgMfOd7woxQFGMMzKbbGltNFyyOSUFAFzde3rlWptp1LKroygWL45IxxRzdrhiw7iwNL/fPvSxevFhZslgPhAH5FBTTp09X7l9sjK9hVi+ujZYVbd8UIZyD8SxMvcx3hIJHyxZGXm+88YZK58w4HZ4TM2LR2uWsiQDxwS8wmVIICAEh4M8ECrJtLlZ0tTpms8rDFAIkXgSkTAE6N9zKX2G1onTbtmoZqYo3bnRq5Qju3g1hAxNQuGwZLPn5CO7eHfELF8BQWW7An9F5c20iQLxJu3IujwkQH9YB8QFGdWmlBYTZpnzZ9BQw1IKzKR6k1U2goRXURYDI2yQEhIAQEAKoqLAFk9PaweDyisr4i1ZxwIjrgaETgUhbPTI9rWzfvur1NjIyYD16tNajpuho5T6lMlJV1tsIqvywtDA1FbtvuRVd33oT4SNG6Jm2RfURAeKD4/aYAOFefFQJ3ZsYacFg3YqxY8cqt64zzzzTm9PXmkuPAKE7FT/Rp7VAmggQeQeEgBAQAkLADQRKj9nS56bOBPalVw3Y/QSbm1X/8wBTcL0TWY4cQXFGRrVq4uWVmTkdHzSEhSEsIcFW3E8JjiQExcXVG7fBSuWGykK7bthtQA0hAsQHx+lRAeKD/Xh7Sl74mfaVbk41A7a9vRbOp0eA+GJdzXFOsYA0x1OTNQsBISAEvExg6+/Amk+Ajd8DJUdsk5tCgT5nAgkXAnGDgZj4WouqKC1F8cZNKEqvqiZeyrT/tKA4NqMRoX37VtXbSEpCaO/eIibceMwiQNwIU+9QIkD0kpJ+QqB+AuKCJW+IEJbRB6oAACAASURBVBACQqCFEKBI2Por8McrwLbfXG664tYVKD0aVL3exrr1qCgrq/VscOfO9mxUKgXuwIFgpippniMgAsRzbOscWQSID6DLlAFJQARIQB6rbEoICAEhUEWAFo61c21uVgc21kmmvMiIovxgFOWFoDgvGEWFMbAeLazV39S6tc2NSqsmTleqmBgh7mUCIkAaCZzZgEaOHKkyJmkVqvUOJQJELynpJwTEAiLvgBAQAkKgRRI4sAVYPhNY8ylQctiGICRSuVlZ13yLooPBNqGRH4KivGCUHwuqhckQGqqsGcqqkWSL3Qju2rVF1dvw13dHBEgjT4b1GpielQXxRIA0EqI8JgSaSEAsIE0EKI8LASEgBPyJgNUKbPk/WzarrJ/VyiqsQAl6oSh8FIoORaB47RqUbN8JVBhqrLwCoa3LYY4uRVhMGcKmvInQUedL+lt/Ol+HtYgAacTBUHSwxgErZLP+gwiQRkCUR4SAGwiIAHEDRBlCCAgBIeBrAkWHVFB5xbJ3UbZrl7JqKOvGsVgU55ahorR23EZQeDnCossQFlMKc0wZzG3LYAp2CCaf+pstGF2aXxIQAdLAY2HdiWHDhqlCaSz6xvSqIkAaCFG6CwE3ERAB4iaQMowQEAJCwAcEyjf+jaL5/0Xxir9QtB8ozguBpdRYayXGVq2qYjY6R8K84l4Eh1nt/WglMdR8TASID05U/5QiQPSzQkVFharKfcIJJ+Dhhx9W1Z31CBDGi/BLa4TOehCsZxEVFWX/vlymGnAY0lUIAJB/M/IaCAEhIASaBwHrsWMoXr8eRWvWoPivxSjKWIeygvJai2fF8NABA5Tg0GI3Qnp0h8FYqTBy1gDvnmJ/rjA3BLuXRqPrSfkIjy2tGk8EiF+/GCJAADz++ON44okn6j0oFr7766+/8Pnnn6uCciaTSbcAqWt8ESBVyPXU0nCsEaFX/HnzXx+rnR86dEhZx9j07Mmb6wvEuUSABOKpyp6EgBDwZwJ6iuuxT0lWVrVq4iWbNwOWygrlDhsMaWdG2KAhMB9/GsIGDUJov34whoTUjcBBgNDysfXH9ig9EoyQVmXodc7+KkuICBB/fo0gAgTAgQMH1Fd9rUePHrj88suxYMGCatkTLBaLEiNXXXUVZs+e7XSIlmAB4eVb239QUJCy8Fx44YVK2EVERLj8R6Dnsu4oQMh9//79yg2O8zW2ffjhh7jzzjuVcKjZGloUTwRIY0+h8c+JAGk8O3lSCAgBIdBQAoWpqdh9y63o+tabCB8xQj1O75DynBwlNorS0m1F/jLXoaKoqNbwQWYLzDGlCOsYjLBRZ8A87g6YuvRv2DLysoDXh6pn8jZEIHcNPUkYkF6B2CGHEdOvMvXu7aucFiNs2GTS21MERIA0gOzOnTuVYtNaTk4OxowZg6+++kql5O3SpYuu0byVhpe/FDLzMpEQk+DxlHO8fDM+5oMPPkBZWRmWLl2KyZMn47rrrsNbb73lkktDBYjLAXV2EAGiE5SfdhMB4qcHI8sSAkIg4AiwgN/WC8aidPt2BHXogDYXX4zizEwUpafDkpdXa7/GsFCY2wNhEQdUkHhYdCmC45OAlBuBxIuAYHPjGeVloSx7B7KuuQsVJVVuV4bQEMR//AqCO3cX8dF4ul55UgRIEzA31g3IWwJkQdYCTP9jOmacOAMXxF/QhJ26frTmp/98YsqUKVi4cCH27NmD3377Dffee6+qmxIdHa2EydNPP223XlCAJCcnw2w247333kNISAhuuukm5R6nNVcuWN999x3uvvtu7N69G8cddxy4Jn4dPHgQbdq0cbqJhgiQ7Oxslf1s8eLFMBqNOPHEE/Gf//wHtI6xubKAsB9F2aZNm/DNN98gJiYGr732GkaNGqW+//PPP6uYIoq44cOH2z7dycvDbbfdpgRdfn4+4uPjMX36dFxxxRX2/ehh5/oEm2cPESDN89xk1UJACDQPAtbiYhW3UZyejkPfzkfJunXOFx4UBHO/fjD3742wyAMIO7oUIUF7YaBhwhgEDBwHjLwJ6DICtm82vWVPm4bDixZXd+symRB19tno/NKLTZ9ARvAoAREgTcDrzwKk3FqO8+edj+yj2egS2QULJixAEH8JeKg5EyD/+te/8OmnnyrR0bdvX3VBv/3227FhwwYlTm699Va7wOAlmtnEeMG/8sor8ffff6v+ixYtwplnnqlWXZ8A4VlwDtZn4WWeY91zzz2gaHCHADl27BgGDx6Mk046Sbls0e2LAmrlypVIS0tTgkmPADly5AhmzJiB0047Da+88grmzJmjkhpcf/31GDRoEO6//35s3LgRmZmZar9c/2effYYzzjhDJSz4/vvvcdddd+HPP/9UVjc2Pew8dOw+H1YEiM+PQBYgBAKCgJ64hoDYaD2bqLBYULp1a5UbVVo6ijdtAsprB4qrYYxGtLv1VkSOGoXQqKMwrvkQyPwWsFamzI3sAAybBAyfBLTq6FZ8hf8sw86JE+scs9vs2YgYmeLWOWUw9xIQAeJenrpG84YFRLN+aAvytBWk5uU7NTVVZQw7/fTT0bt3b1UzZf369XZXsDfffFNdthmIT2sCL9GM6+An/VpLSUlRF/Vnn33WpQB54IEH1OU8PT3d/jwzlf373/92KUAmTZrkNE6lsLAQ8+bNw/jx4zFr1iw8//zz1fZQWlqqLCsMOj/rrLN0CRAKmI8//litce/evejUqRMeeeQRPPnkk+p7//zzD44//nhlNerY0fkv7PPOOw8DBgzAiy/aPuHRw07Xi9kMO4kAaYaHJksWAn5GwFlcg58t0e3LUXEb+/bZgsTT05XoKM7IgLWwMn7CYUZT2zYwGA0ozz/EgA/7TwxBBnQ4qxPa9i4EctdXPdElBRh5IzBgLBBUTzB5E3aV8+B0FMyfD7BwYc1mNKL1uHGIe2ZGE2aQRz1NQASIpwk7Gd/TAkSzfuQczUEFKmCAAZ0jO3vUCkIBwk/z6UJVXl6u4kDGjRuHt99+W7lStW7dWrkWaY1WEVoUduzYgW7duqlLNIs6vvHGG/Y+fJ5uSrz8s9VnAZkwYQLatm1r78v+dMniGJoFJDIy0j721VdfrdZGFyxaalatWlXrpPr06WMXILTWvPPOO2p/jo2WEa755ptv1iVAOA5d0dj4PwCKry+++AKXXHKJ+t62bdvQq1cvZTWiSxpFGQUYs6/RGqIlNOB++RybHnY+eM29MqUIEK9glkmEQMAScIxrCOnZE72+mx+QlbMthw8rgWELEk9HcVoayvfvr3WuhrAwhCUkwJycrFLghnVtjZLXx2LXr+3sfYPCLWgbX4g28ccQZK4UAKYQIOkSIGUKEDfE4+9L4bJU7Lzuujrn6fbRbESkiAXE4wfRhAlEgDQBXmMf9bQAqWn90NbpSSsIBQgvyAw4Dw4ORlxcnPqTzZk4WLNmDYYMGQIG9jNjlrMgdFoeaGGgSHAlQNiXYuX999+3H8v8+fOV9UITIFu2bLH/jO5MsbGxamw9WbAoMChSPvnkk1rH3r59eyWw9LhgcS5+aa1mpq2abn20uvDr1VdfRVJSkrLUaC5g9aX7rcmuse+qvz8nAsTfT0jWJwT8m0DeBx8i97nn7IuMfeB+xNTj2uPfu7GtzlpaipKNG1G0ltYNW2aq0m3bai/dZEJo374O9TaSEBofD4NjZsmcNci5YRwKtpkR3r4MbfsWolXnYnuq27JCI4ryQhD10OdA/KlexZM97W4cXrRIYkC8St19k4kAcR9L3SN5UoDUtH7YL7oetoI4iwHR5n7ooYecumDRbYrpbzUXLFpEeNHWWkMECMf64YcfVDyG1ujaxDgNd8SAzJw5U7mMUSA4Fo90PHRPCJALLrhACSVNWFmtVuV+xS8RIFKIUPcvHekoBIRALQJl+3KRNWYMKoqLqz4UMpsRv2gRgjvENgtiFVYrSrfvsAsNWjdK1q8HLTs1W3DXrghLSqy0biTDPGAAjGFh9e9z5z8oefVcVFgNMLepigUp3BeCg5sjcCTbjG6j8xDx8P8BcYO9yiwQzs+rwPxsMhEgPjgQTwqQuqwf2jY9ZQWpT4DQMsIAccZaMKMTg6wZKF4zCL0pAoSuS/369VMB2jfccANoYdEyYlHk0ELhrOm1gGhB6J07d1bxGky5TOsNs1nRpYp/94QA4X4YPzN37lzlYvbyyy8r16vRo0eLAJFK6D747SVTCoHAIdAcsyiV5eZWxWzQupGeAeuRI7UOxdSmDcx0oUqyuVKZk5IQFB2t//DytwHL3wNWfgiUHlXPWcsNKNgepoRHSUEwYKhAVNcidB51CPBR0b9AtGDpP6Tm3VMEiA/Oz1MCpC7rh7ZFT8aC1CdAOL+eNLxNESCcQ0vDu2vXLhXIfdlll6nYjKKiolqxGxoTvQKE/Rk0TisILS3MZkUxwiB7BoPTKuIJAcLUu8yQxRS94eHhmDp1qhI+DN4XC4hYQHzw60umFAIBQaA5ZFGyHD2K4gzW2UhDcWXsRvnevbX4G0JDYU5IUK5USnQkJyO4S5eG1/9iQPfWJUDqu8CmRaqwn9YsZQZkfd8eluKqbJoGkxXx5+ciOMzqMwGiYnjGjlMuZoEcwxMQ/+hqbEIEiA9O1VMCZPne5bh+0fUudzRrzCyM6GirYBrIjRmwGGhOQSItMAlIDEhgnqvsSgh4moC/ZVGqKC1F8abNDq5UaSjN2lot65RiYjQitHdvm9BITELYoGT1d0NlzGWjuBUfBtbOtQmPvM1VQ8SfDvQ5E/jpAfW9equO+8gCwnW1xCxmjTpnP3tIBIgPDsRTAqTUUoolu5aAf9bVQkwhGN11NPhnoDWm9h0xYoQKRmedDNYcocsX40CkBSYBESCBea6yKyHgaQK+zKLEDIhlO3dWr7exbh0oQmq2oLhOdqFBNypmqDJGRLgHz4HNNtGx5lO7mxVCWgFDrgJGTAba9QFy1gDvnqLmq6CB5Mf2KD0SjJBWZeh1zn57MLqvXLA0EFLHxT2vhDdHEQHiTdqVc3lKgPhgK341JeMlmK6WbktM7XvNNdfgwQcftFdb96vFymLcQkAEiFswyiBCoEUS8FYWpfK8vMrUt1UpcC0FBbWYG6OiqtyoGLuRlIig9u3dezZWC7B5MbDsHZu7ldba9QVSpgKDLgdCW1V930GA8JuFuSHYvTQaXU/KR3isg2DyoQXEvYBkNG8REAHiLdIO84gA8QF0mTIgCYgACchjlU0JAa8Q8EQWJeuxYyhet66adaMsO7vWfgwhISoLlVZvw5yYiJAePRoet6GXVNFBYPUcIHUmcGhH5VMGoO/ZwMipQK/RLLZVe7S8LOD1odW+T0uIwVij6+2rgJh4vauRfkIAIkB88BKIAPEBdJkyIAmIAAnIY5VNBTABf3OVaUoWJe6lZMuWatXESzZvrl2d22BASHwvlZHKnJSIsORBMPftA4oQj7d9mTZrR9oXQHmRbTpzG2DoNTY3q7Y9XC+BIqSkdqYt+4O0mIj4cM1RelQjIALEBy+ECBAfQJcpA5KACJCAPFbZVIAS8MdgYb1ZlFTcRna2qiBuryaemVmthoh2bEEdOtiFhkqBm5gIU2Sk907VUg5sWGiL79jxZ9W8HRJtblasWB4S7r31yExCwAkBESA+eC1EgPgAukwZkAREgATkscqmApCAuuhfMBal27f7XbpUZ8Ko/OBBFGdkqGriWhpcy8GDtU7GGBlpExsO9TaCO3TwzQkWHrDV7VgxCzhc6fZlMAEDzgdSbgS6j3LuZuWb1cqsLZyACBAfvAAiQHwAXaYMSAIiQALyWGVTAUigKa5OnsZhLS5WBf1K1mXarRvMUlWrBQfD3K9fZWE/W4E/1p4wGGsGRDRyxY11dcpeZbN2ZHwNaFkww9sBwyYCwycBrbs0ckHymBDwHAERIJ5jW+fIIkB8AF2mDEgCIkAC8lhlUwFGwBPB3o1FVGGxoHTr1uopcDdtAsrLaw3JoPBq9Tb694cxNLSxU9f/nJNgb6cPaMHe5aXAum9t8R3ZK6q6xg2xWTsSJgDBZs+sVUYVAm4gIALEDRAbOoQIkIYSk/5CwDkBESDyZggB/yeQPW0aDi9aDFgsVYs1mRB19tno/NKLHtsA4zZYOZwxG8XpttgNulUxU1XNZmrXTlUQVzEbrLfBuI3WrT22tloD10h3W+fEV30N7E4FVnzAnLi2bsZgm+AYeSPQZbj31iwzCYEmEBAB0gR4jX3UmwLE3zKO1Mfs1FNPxeDBg/Hqq6+qbj169MCdd96pvtzdJk6ciEOHDuHbb79199B1jueLOb22OR9NJALER+BlWiGgk0DhP8uwc+LEOnt3mz0bESNTdI5WfzfW1ijKyEBxerrdwmHZf6DWQ4bwcFXQj1XEzZWxG0EdO3ouBa6e3ekVIIzpqKgUcq06AcOvt7laRcbqmUX6CAG/ISACxAdH4S0B4s2MI7xcz549W9EMCgpC165dceGFF+KJJ55AhM6qrb4UIFw/Bc/jjz/e4Dfi119/xejRo+3PRUdHY9CgQXjqqadwwgkn2L8vAqTBaF0+IALEJSLpIAR8SiDnwekomD+/dmparspoROtx4xD3zIwGr9FaUoKSDRuquVIxwL1WM5kQ2q9vVZB4YhJCe8fDYDI1eE6PPqBXgHARXY+z1e4YMBYwBXt0WTK4EPAUAREgniJbz7jeECDezjjCy/W+ffvwwQcfoKysDEuXLsXkyZNx3XXX4a233tJF2d0CxGKxqE+0jE4CBGuKAXcIkI0bNyIqKgr79+/H008/jUWLFmHTpk2IjbV9MiUCRNdr0KBOIkAahEs6CwGvEyhcloqd111X57zdPpqNiJT6LSAVVqvKnlWUlmZPg1u8cSNQVlZr3OBu3ZT7lGbdMA/oD2NYmNf33eAJ9QqQC2cCyZc2eHh5QAj4GwERID44EW8IEG9nHHF2uZ4yZQoWLlyIPXv2KMq//fYb7r33Xqxduxa0ElCc8KJOiwmbKwHy8ssvK4GzdetW9fwFF1yA559/HpGV+dU//PBD5a41Z84c3Hffferyv3nzZnTr1k3NO2vWLJhMJtxwww1KLBUUFNhdsGoKkDfffBOvvPIKdu3ahdatW+Okk07CV1995fRt0SwgBw8eRJs2bVSf9PR0JCcn47vvvlPrdBQgJ554Il566SWUlpbi8ssvVy5nwcG2T7E4xh133IEFCxagpKQEp5xyCl577TX06dPHB2+q/08pAsT/z0hWKASyp92Nw4sW6Y4BYdC6FrOhUuCmZ8B69GgtkKa2bVXchgoU55+JiQhq27Z5As9eDcw81fXap/4GxA123U96CAE/JyACxAcH5GkB4ouMI84EyL/+9S98+umnOHDgALKzs9G3b19lBbj99tuxYcMGUKDceuutdrcnVwKEF3W6NtFVatu2bbjllltw2mmngWKBjQJk6tSpGDFiBF544QXExMSgS5cueOONNzBjxgy8//77GDhwoLr8f/HFF+pZLQbEUYCsWLECxx13HD7++GOMGjUK+fn5yqLD/ThrNQXIsWPH8PDDDysB8+OPP+Lss8+2C5B58+bhyiuvVCJjy5YtuOyyy5QAIQu2cePGKdH0zjvvKGvK/fffj6ysLKxbt84uUnzwyvrtlCJA/PZoZGF+QMBfYgDr+3+SMSLcVm/DIVC8fN++WvQMYWEwJwx0qLeRjODOcb6N23DHGZcWAmvnAn+9DhzcVm3ECitgqJnhVwSIO6jLGH5AQASIDw7B0wLEFxlHagqQ1NRUnHvuuTj99NPx+eef46GHHsLXX3+N9evX2/+HQeHACzYtEXSTciVAah7Vl19+iZtvvlkJHE2ATJo0CWvWrFFCRWtxcXHqws+52MrLy9GzZ08MGzbMaRD6N998A46ze/dutGrVyuUbogkQLdaFAoTZVzj+33//bRcOZMS+FBS0xLBdeumlau9z585VwoMi7c8//1TChy0vL0/F0zC+5pJLLnG5lpbWQQRISztx2a9eAt6MAdSzpppWeRbvsxYVoTRrK1BRUX0IoxGhffpUZaRKSlJ/N1Ray/XM5/d9mHZ3+fvA6jlASUGt5RbmhmD30mh0PSkf4bGlVT8XAeL3RysL1EdABIg+Tm7t5UkB4s2MI45QeLmm65PZbFYXfMaB8NP8t99+W8VAMCCdrkx0odIaXbGY9WrHjh3KTcqVAFmyZImyZNAaQIachxfQo0ePqkB3WkBuvPFG9T3GfrBR3NAtiu5fJ598sn3uCRMmKJHgLAvWkSNHVPA4XcdoveAX+4eHhzt9DzQBsmrVKrWO1atXK7FD97PExET7M2TE+JDvv//e/j0KI7pr/fLLL8pd66KLLlLr1wQKOw4ZMkTN/+ijj7r1PQyEwUSABMIpyh7cTcDbMYDO1s/fr2U7dqBIy0i1dq3KTlVLbAAIjouzpb7V0uAmJMBYx+9bd7Py6nhWK5D1C5D6DrD5/wBUCq/oXrY0uktfUsuh5WPrj+1ReiQYIa3K0Ouc/VWWEK0OiFcXLpMFCgH+u8zMy0RCTILPrYciQHzwVnlSgHgq44grTLxc082KAeeMZ6DVQYtr4LO8QLdt21bFYWiNlgpernfu3Kk+5a9PgFCk9O/fHzfddJNyW2IMyB9//KHiObTYCy0GhOl1tdYYAcJnKW4oLBYvXqwsN7RSLF++3B7j4cjDWQwILRaMb8nIyEBoZeEqZ25qjFkhB44xf/58XHzxxbUECEUahckjjzzi6hha3M9FgLS4I5cN6yDg7RhA9TvzwIFqGamYDtdaUPuTffal2Ig86USb6EhKQlC7djp21Yy7FBcAaz4FUmcC+VlVG+l9pq12R/zpKiMYKiuh5335PXLfmmPvF3vzNYi55FwgtBUQE9+MQcjSfU1gQdYCTP9jOmacOAMXxNviU33VRID4gLwnBYg7Mo40BomrDE91uWA98MADqh6HKxcsigAGbDMwW8tqxQs+L+X1CRDuhWKIF30GpmviolevXhg6dKiuOiCFhYVKeNCVjJacms2ZALFarSpw/LbbbsNdd92lHnElQOpzwfroo4+UOJFWnYAIEHkjhEB1At6IAbQWFqIoM7NavY3yHFuyEcdmCAmBeeBAW5C4Vm8jLg7GyqQbAX92+zcCqe/aYjxKK4PoQ6OAIVcDIyY7FRPeOL+A5y4bdEqg3FqO8+edj+yj2egS2QULJixAkNGWBMgXTQSID6h7UoBwOw3NOOIOBK4EiBaEztgKXsqZspZpevUGoWvWEgZsM6sU4yQefPBBZXVxJUCee+458ItB6AMGDACzaTHmwjEI3ZEBXaeYaYsuW7Ta/PDDD2rNaWlpSEhI0CVA2On1119XVhAGzNN9y5UA4TPjx4+3B6Ez/oQCjcHqEoTu/C0VAeKOf70yRlMJ+Euwt+33v3urjnNvJZs3V1k31qahJCurdl0Pg0HV11CF/ZISYWZWKsZthIQ0Fa9nnq+0NtQ5eGOtDVYLsOknYNk7wLbfqoZv3x9ImQIkXw6ERtY5rbvPzzPwZNTmSECzfmhr97UVRASID94iTwsQX3yC4kqAEHNT0/AyqxSzW9FiQnFw1VVX4dprr3UpQOhOdc8996j4E1pPrr/+ehW47piG1/E1oGsXs1hRcPCCS0sGLTgMGHfWnFlA2I+WE7qWUUTQ+qJHgGhpeBkPwjS93CeFjKThFQHig19VMqUOAv4U7N3UGEAVt7F7d2W9jXQVv1G8bh0qiotrkQjq1Kl6vY2EBJgiI3QQ84MuFB+vD3W9kIbEWxzLB1Z9ZAssL9hpG5sprPqdC6RMBXqeDFTGJtY1cVPPz/WGpEdLJaBZP3KO5qACFTDAgM6RnX1qBREB4oO30dMChFvyhQ+wD1DKlC2cgFhAWvgL4OPt+0OwtyOChsYAlh88aHOjWpsGVW8jLR0Whxg6bWxjZGRlRqpke2aq4MoCqz4+gsZNr7fon56MU3vTbdaO9C+B8kqhFtYWGHotMPwGoG133Wts6PnpHlg6tngCNa0fGhBfWkFEgPjgtfSGAFH/Yxw7DqXbtiGkZ0/0+m4+DC3F79YHZypT+oaACBDfcJdZbQT87YMeVzGAHR5+CHSpotCgdaNs167aRxkcDHP//io4XCvwF9KjBwwMkg6U1lQBYikD1i+wBZXv/KuKSockYORUIOkSILjh1dddnZ+eqvGBckSyD/cRqGn90Eb2tRVEBIj7zlj3SN4QIFyMP7kG6IYjHYVAAwiIAGkALOnqVgK+cHXVswEVA/jTT05jNJylwOUHVGHJSTAnJiFsUDJC+/eH0V/jNvQA0NOnsQLkaC6wcjawYhZwJMc2k8EEDBwLpNwIdDvOpZuVq+X5IobT1Zrk582bQF3WD21XvrKCiADxwXvlLQHCrflTcKQPUMuUAU5ABEiAH7Afb89fgoUZt1G+Z4+K22A18WMrV6J47Vqn5Ezt2yEseZCybthERyJMUVF+TNlDS2uoANm90la7I3MeYKksChjRHhg2CRg+CYiKc9tC/VXYum2DMpBXCdRl/dAW4UsriAgQr74Ktsm8KUB8sD2ZUgh4jYAIEK+hlokcCPgyWNhSUICi9AwUp9sEB12pLAcO1Hs+URPGI/aOOxDUoYPPi4/5xYukV4CMfsiW0Sp7ZdWyOw+zWTsSxgNBoR7Zjr+59nlkkzKoVwgs37sc1y+63uVcs8bMwoiOI1z2c2cHESDupKlzLBEgOkFJNyHggoAIEHlFfEFg+c13InzJYhi1StYOi7DCgGOjz8KIt15t8tKsJSUoWb/eLjSK09JQumNH7XGDgmDu189eb8M8oD923zUNZdu3Swygs1PQK0C0Z00hQMKFtmxWXYY1+VxdDSAxnK4Iyc/1Eii1lGLJriXgn3W1EFMIRncdDf7pzSYCxJu0K+cSAeID6DJlQBIQARKQx+rXm7JYK3DDXW/j/kWv1bnOZ8fcgVmv3AiT0aB7LxVWQdfI4AAAIABJREFUK0q3bq1WTbx440agvLzWGMHdu9kL+4UlJyN0wAAYQ6t/Gi8xgPWg1ytA6GbFSuVDJwKR7XWfpTs6yvm5g6KM4c8ERID44HREgPgAukwZkAREgATksfr1pv7OysMVM//B/cvn4KScNJgqrPb1WgxG/N45Gc8PvxqfTTkOx8fH1LmXsn37quptsOZQRgZYYbxmM0VHgyJDqyZuTkxAUNu2uhhJDGAdmPTWAbllGRDbXxdrT3SS8/ME1ZY9JmPGth/ejo4RHREW1PBMbe6kJwLEnTR1jiUCRCco6SYEXBAQASKviLcJzF+TjTvmrkF0UQHe/9+zMDMla2UrNgXjhjMeQH5Ya/zn8sEYN7iz+onlyBElMGwxG7Z6G+W5ubWWbggLgzlhoN26wariwZ3jJG7D3Yd8aCfw+4u2oPKSw7bRTaFAnzNsrlYxvYHGVkJ391plPCHQBAIUHLuP7Ebq3lT1tWLvCuQW5eKN09/AyV1ObsLITX9UBEjTGTZ4BBEgDUYmDwgBpwREgMiL4W0CmgWE807Y8humZCwAHa0qALybOBYLe41Cz4I9eHagEZ1ytqogcbpW1WomE0L79Kmqt5GUhNDevWEICvL2llrGfBUVwLbfgGXvApt+BDTLVZtuwIgpwJCrgfDolsFCdhnQBPYc3WMXHAxC31O4p9p+Q4whuG/Efbis/2U+5SACpBH4v//+ezz55JNIS0tDREQETj75ZHzzzTe6RxIBohtVwHScOHEiDh06hG+//TZg9uQPGxEB4g+n0LLWwBiQE5/7BXsLimGylOHuVXOxNzwaZ+9Yhr0RMYgvyEGw1VILSnCXLjAnJdrS4DIFLuM2wsNbFjxf7LbkKLD2M1vRwAMbq1bQ61RbNqu+YwCjyRcrkzmFgFsI7D+23y44UvekYvfR3dXGDTIEIal9ElI6pqiv5PbJMAeZ3TJ3UwYRAdJAel9//TWmTJmCGTNm4LTTTgPNW+np6bj44ot1jxSIAoQX7NmzZ+PGG2/E22+/XY3FLbfcgrfeegvXXXcdPvzwQ/WzXbt24fHHH8ePP/6IAwcOoFOnThg/fjweffRRxMTY/KaTkpIwcuRIvPfee7XYfvbZZ7j22muxe/dudOjQQTd7x449evTAnXfeqb60xvXx7xQL7mwiQNxJs2osESCe4SqjOidQvn+/smhk/vwXsn5fjj6HdqFVWVGtzpZWUYgawnobyTaxkZSEoGj5dN2r7xXjPCg61nxS5WYVEgkMugJImQK07+fV5chkLY8A74eZeZlIiElwqxtlXlEelu9bjuV7livhwZgOx2YymNScTKtLwTE4djDCg/3vww4RIA34N1FeXg5eWp944gnccMMNDXiyeldvCRC+/DmbDiGubxu3vvzONs4L9i+//KJqnOzZswdhYbbgJl4QKS6ioqIwevRoJUC2bt2K448/Hn379sXTTz+Nnj17IjMzE/feey9KS0vxzz//IDo6Gq+++qoSJHv37kV4jU8KzzzzTERGRmLevHmNPgcRII1G5zcPigDxm6Pw2kK8FZhrOVqI4szMavU2WPCvZisxBmFLm87Y1LYbcuPicf7lZ+D004Z6/Heu14A3p4msVmDL/2xFA/mn1qLjbSl0B18JmFtg4cXmdIYBtFatAnlTK40XlBSArlQUG/xzy6Et1SixmGD/6P42C0enFAyNHYpIim0/byJAGnBAqamp6hP5WbNm4bXXXlMX48GDB+PFF19EQkJCnSOVMJd7SYn954TetWtXFBQUqIu51tx9mdqRkYeF/12L828fhO4JdWdjaQCCOrtqn/BTXNx///246qqrVN9PP/0Uzz77LHr16oU2bdooAXLOOecgIyMDmzZtsgsV9iXP+Ph4ZdmgxSQvLw9xcXF49913lfVEazt37lSiZf78+Tj//POdrikrKwvTpk1TYqawsBADBgzAM888gzPOOEP1P/XUU/Hbb79Ve3bJkiVKJDm2xx57TFlq5syZowTRxo0bldsdrV/8e2xsrL07RdR9992HpUuXKssY3w3ul3uqaQFZuXKl4nDHHXfgoYcecscRtMgx3P1vpkVCbEab9lRqUtZdKN60CcXp6SpQnEX+SrZkAYwbcGgVBgP2to1DWiQFRxdUDEjEKWeNRFh4KGJbmZHSM7pBqXebEXr/XmpxAbD6E2D5TCBfi7cxAH3OAkZOBXqdBhiN/r0HWV1AEdAqkGcfzUaXyC5YMGEBgoz64ruOlB7Byn0r7YJjY/5GVNSoOdSnbR+M7DhSWTmGdRiG1qGtmx0/ESANOLK5c+fiiiuuQLdu3fDyyy8ra8hLL72ExYsXq8s0P7V31niBpdWkZvO0APnlo/VY/9ceDDihE067ZkADdtrwrtoF+5RTTgFjZP73P9unT7zwUyT8+uuvSoCQW7t27fDvf/8bDz74YK2Jpk6diq+++kqJD4PBgEsvvRS5ubnqea2R5TvvvKPcuEwm5767a9euVeJj1KhRMJvNyj2MZ0UBwfPLz8/HoEGDwPnoUsfG86PwodWF/dhoZeEXRSctOf369VPrueuuu9C2bVv88MMPql92djaSk5OVsOG+KCz//PNPNT+fcRQg3AvdzSiIbr755obDlifsBESAtJyXQRVnu2AsSptYXI8fDpTt2mUXGkpwrFuHCocPiTSqQZ06ISwxEcaERHxb3Bpv7A5CYZAZrcxBuP/s/rgypRuMDaj10XJOy0s7zV0PpL4LrP0cKKtMYcyLGAPKUyYD0b28tBCZRghUJ6BZP7Tv1mcFOVZ2DKtyV9kEx57lWJe/DlaH9N4co1frXnaXquEdhyPa3PxdOkWAAOoTbmcCwfF1Wr58uRIZ/GSfl19eXNlo2ejSpYtyJWL8g7PmLQtIhbUCGb9no+SYrXDVqsU7UFZsQYjZhCFndVffCw0PQuLJnWFw8/80tQs24zXIY8OGDUpA9O/fXwmFyZMnKwHCC/dxxx2nXKd4Ca/ZXnnlFWW52Ldvn7Iu/PTTTzj33HOxZcsWZUXh5YF/UggyDqchjVYqzn/bbbepx5rigsX3ISUlBUeOHFECZfr06aBApXAJDg6utSyNz6RJk3DNNdeod4h7kNY0AiJAmsavOT2d98GHyH3uOfuSYx+4HzETJ7rcQnl+vt2yoaXAtTiJ8TJGRSmxoeptsO5GYiKCY2OxKHMvHpufib2Hi9VcYwfF4eHzByiLhzQfELCUA5t+srlZbfu9agHtB9isHcmXASERPliYTCkEbAQ060fO0RxluaCLVOfIznYrSFF5EdbkrrG7VWUeyER5RfWCo92jutsFB60c7cLaBRxeESCACoLmV32Nl9W///5bud7QxebEE0+0d6dbFj/p56f6epqnYkBKi8vx0fS/7ALEYLRlGtT+5NooQK6dMQohZn2mQD37YR/HT/gvuugiZQ2gWKCrFS0aFBt6BAgtJHfffbeyMrRv3x5Wq1UJBbpgPfXUU/j5558Va4rBPn36qOVRAGjt6quvVkHwdLuiqFy4cCFycnLA+J2ioiI19vPPP6+6N0SArF69WgnVNWvWKOsJ13Xs2DEVuzJw4EAlkrheWlqcNfJZtGgR9u/fjy+//BITJkzQi1b61UNABEjLeD3K9uUia8wYVBTbRACbwWxG/KJFCO5Q5QZpLSpS1gzNjYp/lu2unhFGPRscjNCBA6qCxBOTENKjOwwObjrZh4qU8Pjf+n1qvm7R4Xh6fCJO7uvditgt44R17LIwD1j9EbD8faBgV+VLYAT6nWurVt7jJMCgv/K8jhmlixBoFIGa1g9tkNO6noZDJYeQfiAdZdaq+kH8OQWKFjTOP1koMNCbCJAGnDBh8VP5N954wx6EXlZWpj7x5+VYs4q4GtJTAoTzHskvxuL3MrB3a2VxJYfFdOwVhbMmJ6JVtPs/uXMUIHTB0qwMZMXLuSZA6AbFizotRrQa1Gw1XbD4c7pEMZZi+/btKj6EFhXH+A1aR7RG1yeeETNv8cLP+JzevXurWBNmKqOLFGM32PQKEIoZ9j3rrLNw0003qfUzDmXMmDGgMGGsB0UXhVB9AoTrZHYtxq8wm1pISIirV0V+7oKACJCW8YpkT5uGw4sWAxaH9LZGIyJOOAGtzjpTFfZjdqqSzZur96nEExIfb6u3UZkG19yvLwx1/Psrt1jxwZ/b8cr/NuFYqQXBJgNuPDket53WG+ZgSdfq9Tduz1pb7Y6Mr4DySgEaFg0Muw4Yfj3AOh7ShICfEKD147xvzkNOYU69K+oQ3kEFjSvR0SlFCZCW1kSANPDEmaKVn+gzJqB79+544YUXsGDBAuVyxJgAPc2TAoTzW8qteG/a7ygvtdqXExRixORXTobJ5JlAPEcBYrFYVJwFGy/qjNPQBAiFBC/utBxs3ry53iB0bfHbtm1TgdxffPGFEiC0cPDP+hpT+DJ+5JFHHlHdjh49qoQi16kJEGbhotscrSJaY9A8v0fXKq0xYHz48OFqL0wewMagdLpSaQKE1haKD1cuWAyopwhiXAj348xdS887JH1sBESABP6bUPjPMuzU4WqlkQhq3x7mZKa/rUyBm5gIU6tWukCt3nkQ0+dlYP0e2wc4I3q0xb8nJKFvB33P65qkpXViOtySqt+ntbbvrOI4q8uvm2+L79i1rOqRjsk2a0fiRUCwLdOiNCHgawIUHevz1qsYju+3fo/NhzbXuaTxvcdjctJkdGvVrcVnyhMB0sA3lxYPBhl//PHHyqWH7le80NaXBavmFJ4WIDlbDmHei6tq7ezCe4aiU+82Ddyxvu41szxxj2xali9HAULhweBsZqaqmYaX8TJaGl7Hmel2tWrVKlDcMM1vzbS8NVdJFydaTD744AP1j5xChMHf119/vV2A0KJBy8ibb76J0NBQFRz/119/4YQTTlBB9AxS5zy0gFC8MGMVLSB0K2PKYLqBaQKEQfMUFQzC5/vRunVrtQ/GidQMQme2L2bb4jvDuJEgqXys7yVz0ksESKPR+fWDjNEoSs9AUdpaHPriS5Tvs7lBOWum9u3RZvx4e+xGcCPqAh0uLsMLP23EnGU7VOKrNuHBePCc/rhkWFcJMm/Km0Lx8fpQ1yPcvgqIiQeO7ANWfgismAUc3Wt7jpmDBo6zFQ3smiJuVq5pSg8PE7BYLdh4cKM9hoMZqwq1JAj1zF0zFsTDy/T74UWA+OCIPC1A/vpmC1Yv3omeg9vhhIt648+vtmDb2gMYclY3jLqwt0d27KrQnqMA4QJ27NihYioYZM7Le8eOHZWVhGlvtUKEjgtl4cErr7xSubkxgNtVo/ig2KAIoLBgamDGXtBdSrOA8Ge0dtBqQeHDmBU2BqqzL9elpeHl/HQZo/gZOnSoEhljx461CxA+l5aWpoTJH3/8oaw+WhpeBs3X5MNxaAlhH1pd6srm5WqfLf3nIkCa/xtgLSlRcRtaClwGipft2Kl7Y90+mo2IlBTd/R078t/89+l78MSCddh/xJYq/cKhnfHQuQMQExnaqDHlIQcCOWuAd09xjWTcm8DWJUDmt4DmGx/ZARg2CRg+CWgV+P7wriFJD18RYEYq1t5QtTj2pGLFvhU4XFrdzb1VSCv0btMbq3NXu1zmrDGzlOtVS28iQHzwBnhagOzZckjFgvQZ0UF9+s//yW5evk/FfnjKAuIDjDKlEBAXrGb2DlRYLCjdtk0FiWsZqYqZ8rq8egYYbiuke3ebK1VSIo4s+RXHli0DWGhOayYTos4+G51ferFRFHbmHcMj8zPw26b96vle7SJUkPmo3oGXbaZRgNzxkF4B4jhXlxRb0UBaPYIkTs4dxyBjNIwA70zbCrYplyp+0cKRX5xfbZCI4AhVf0OL4+jXth8sFRYs2bUEpZbSOicMMYVgdNfR4J8tvYkA8cEb4GkB4oMtyZRCwCcExALiE+y6JuX/xOk6VZSWVlXgLyMD1sLKeg0Oo5hiYqpiNpKSEZaYAFObKndRvVmw9CystNyKmUu34rWfN6Ok3IoQkxG3jI7HTafES5C5HoAN6aNXgPAylnixLY1u3JCGzCB9hUCTCfB31a4ju+yCg5aOA0XVM6OGBYVhSOwQe6aqgTEDdRcWbPICA3QAESA+OFgRID6ALlMGJAERIP5zrJbDh1GcwbgNW0aq4rQ0lO+3WRccmyEsDGEJCTAPonXDFijOgn+01tbXGlsHxHHMFdvzMX1eOjbtO6q+fXyvGDw9IRHx7atSefsP0QBYiV4Bcs18IP7UANiwbKG5EGCFcrpTKbeqvanYd6x6nFmIMQSDYwfbBUdSuyQEm2rX+Gou+/XHdYoA8cGpiADxAXSZMiAJiADxzbFaS0tRsmFDtXobdK2q1UwmhPbtq1LgUmiYk5IQGh8PQyMSL6hK6GPHKReukJ490eu7+aqeh5526Fgpnv1xA+Yut9WPiI4IwcPnDcCEIZ1dCh8940ufOgjs/AeYNcY1nqm/AXGDXfeTHkKgkQT2Fe6zVRqvFBwUII4tyBiE5HbJKiUu3aqS2ycj1CRxYI3EresxESC6MLm3kwgQ9/KU0VouAREgnj/7CqsVpdu321ypNOvGhg1AWfVCWlxJcNeuKmZDS4NrHjAAxjD3pUstTE3F7ltuRde33kT4CNdBnHSt+HZNNp5euB55hTa/7MuGd8UD5/RH2wjxwfbY25O/DVj+ni2jVanN2lRvEwHiipD8vIEE6EK1Yu8Ku+jYfnh7tRFMBhMS2iUoscEvWjvoZiXNewREgHiPtX0mESA+gC5TBiQBESDuP9ay3FzlPmUPFE/PgPVo7UskYzQc3aho3QjSWQupKauuKC/XZUHZuv+oCjL/c0uemq5PbKSq6ZHSM7op08uzdRFgFkFmsmLRwE0/AbBlFdTVRIDowiSd6iZwqPgQlu+zZamilSOrIKtaZ6PBiAHRA+xB40M7DAUDyaX5joAIEB+wdyVAWODQVZ0LHyxbphQCfkfg2LFjKqUzq8ubzWa/W5+/L8hy9CiKMzLtGakYu1G+t7L+gsPiDWYzzAkJVa5UyckI7uxd9yWLtQKp2/KRe6QYsa3MSkiYjLXjRkrKLXj7161449ctYMB5aJAR/zq9D6ac1AshQZ4pxOrv5+zR9bHI4JrPgOUzgQObqqaKPw0YMBZYeKfr6bU6IK57Sg8hoAgwDe7KvSvtgeObDjq8ewBYc6NfdD97DAcFR1RIlNDzIwIiQHxwGHVBt1qtqjo4a0K0b98eISEh4p/sg/ORKf2fAF1rSktLsX//flWcsk+fPjAaXV8u9X567v8EGr5CxlAUb9pky0i1Nk2JjtKsrVCV9xyb0YjQ3r1thf0SkxA2KBmhffrosjo0fFX6nvgpw1arY09Bsf2BTq3NeOyCgTg7sZP9e39n5eGhb9Oxdb8t09ZJfdqp1LrdY+STTn2kG9DrwBZbpfI1nwKllZXOQ1oBg68EUqYA7frYBmtMJfQGLEO6tgwCLPTHdLhaDMeG/A1gfQ7HFt8m3u5SNbzDcLQxe6bwcssg7vldigDxPONaM9QHnZcqFqnjJ7vShIAQqJ8ALYWdOnVSYt1Va2j8gKvx/PnnFGhlO3dWr7exbh0qSmvnpw+K62QXGnSjYoYqY0QE/EWsUXzcPGdVLYcezfbx1tVDkdIzBv/+fj2+XrVbHUu7yFA8esFAXJDsOruWP5+j363NagE2/x+Q+g6Q9UvV8mL62Gp3DLocMMunzH53bm5cEH+3ZOZlIiEmwaMfkBaVF6mifprgyDyQqepsOLYeUT2U4KB71dyNczHjxBm4IP4CN+5WhvIkAREgnqRbx9iuoKv8+eXl6pNdaUJACDgnQEthUFCQrv8JqgxKF4xVwdQNzaDUHPiXHzhgS31L60ZloLi1oKDW0o1RUcqNSlk3mAI3KRFB7dvX6ucvYo1uVyc+90s1y0fNxbYOC1LuFoeKysBMvleN7IZ7x/RH6zB9GbKaw/n6fI1FB4HVc2yB5Qe1YF4D0PdsW+2OXqOh4EsLeAILshZg+h/T3X7ZL7GUYG3uWnvQeNqBNJRbqxco7RLZRWWpYhVxCo/Y8FjV5/x554NZrfjzBRMWSH2OZvIWuroLN3QbhgrenqXVS8Dd0AW3EBAC9RNwRw0JTzJuiLWBhfyK162rVm+jLCen1vIMISFgFipbRioKjiQEd+/uUrD5k1ijS9UVM//Rhb5/x1aYcWEShnZrq6u/dNJBYF+mzc0q7QugrNIqb24NDLkGGDEZiO6pYxDpEigE3HnZL7OUIf1AOpbtXaasHBQfpdbqFtqOER3tLlUUHJ0iq9wtNaaaINL+LlaQ5vO2ufsuLAJEx9m7G7qOKaWLEGixBNxZRdsTEOuzNlCYlGzZUlVNfG2a+jus1X2f+elzSHwvZdUwJyUiLHkQzH37gCKkoc2fxNr8Ndm4Y+4al1sYNzgOL14yCMEm13FALgdrzh3cEW9hKQc2fm/LZrXjjyoasQk2a0fSpUBIeHOmJGtvJIGmXPYpXui6pVyq9qRizf41oJuVY2sX1q6a4OjSqku9H5hogijnaA4qUKEsoZ0jO4sVpJHn6+3H3H0XFgGi4wTdDV3HlNJFCLRYAtnTpuHwosWAo0ujyYSos89G55de9CkXR2tDcI8eqr5Fyfr1VdYNxm0UVf+fNBcc1LFjVb0Nio7EBJgim17N29/Eml4LyGdTjsPx8TE+PUufT07x8fpQ18uoK+NUYR6w6kNg+SzgsC2WBgYTMOB8IOVGoPsocbNyTTdgezT0sm+xWrDh4AYlNlgAcNW+VThWXj22NdocDQaL07oxotMI9Izq6dJC6wi4piDSfiZWkObxGrr7LiwCRMe5uxu6jimlixBokQQK/1mGnRMn1rn3brNnI2Jkik/YlB88iNyXXkbBV1/VO78xMrKyirjNlcqcmITgDrEeWbO/iTU9MSDMhvXH/ac5TcnrEUj+OmjOGuDdU1yvrmbNjZzVQOpMIP0rwFJiez48Bhg2ERh+PdC6i+sxpUfAE3B12WdGqs0HN9vT4jJj1REtO1olHabBZfyGFsPRu03vBgkOR8g1BZH2M7GCNJ9X0d13YREgOs7e3dB1TCldhECLJJDz4HQUzJ9f22WJNIxGtB43DnHPzPA4G2txMYrXrUdxelplCtx0lO3a5XTe0P79ET50qC1QPDkZIT16wKAjxXBTN+GPYs1qrVDFBD9ZtrPW9hyzYDmm4m0qh2b7fEMESOxAYN18W3zH7tSqLccNsVk7EiYAwVJXp9m+C25eeF2XfU7TJqQNhnYcqiwch0oOVZs5MjgSwzoMU4JjZKeR6Nu2r8pY5Y5WlyDSxhYriDsoe3YMd9+FmyxACgoKMG/ePCxduhTbt29X6WhZE2PIkCEYM2YMRo0a5VkiXhjd3dC9sGSZQgg0SwKFy1Kx87rr6lx7t49mIyLFvRaQCosFJVlZDhmp0lCycVN1F7C6VmQ0Iuqcc3ziGuYvYk1Ds2HvYTw0LwMrdxxU3woyGlBurcpx4qwOSLN8Sd21aL0CZOhEYNOPwNF9tpmNwUDCeFsa3S4jxM3KXecRQOO4uuxrWw0LCgML/tGlil/9o/t7JCNVfYKIaxErSPN4+dx9F260AGHti0cffRSffPIJOnbsiJSUFHTu3BlhYWHIz89HRkYGVq5cCVYJf+yxx3DZZZc1D8JOVulu6M0WhCxcCHiBQPa0u3F40SKPxIColNl79lSrt1GUmYkKJ3V8TO3aKYsG3agQFIz9L9Ydf+IL1zBfiDVnx3+stBz/+Xkz3l+6TQmOiBAT7j6rn0qvu2rnIZeV0L3wSvnnFHoFiLb6yI42Fyu6WrXq4J97klX5lMDuI7vxz55/8Pzy52sFjDsujK5Vr532GpLbJyOYgtbDjYHs1y+63uUss8bMUtYXaf5JwN134UYLkNjYWFx77bWYOHEiEhMTndIqKirCt99+i1dffRWXXHIJ7rnnHv+k6mJV7obeLCHIooWAlwi4M7DaUlCAooyMatYNy/4DtXZiDA+HOZHZqJJgZr2N5CQVOG6orJXgb9YGbQOeFGt6jnvJhlzlcrX7oC3wfkxCBzw+NgGdWofpebxl99ErQDokAifeBQwYCwQ1PEtay4Yc2LvfW7jXFsOxJ1Vlq8oprJ3euy4C3rzsl1pKsWTXEvDPulqIKQSju44G/5TmnwTcfRdutADZv3+/crXS2xraX++43ujnbujeWLPM8f/snQl4VNXd/7+zZSb7voc1LCEbIRt1F60IIiDaRa0WXEBb/62tfVtbtFVeK1artnZ5W0VRqGu1qCAKaEEUURII2QkhCXv2fZ1ktv9z7s1MZrLNzeRMMjP5nefJE8mce5bPucj55rcRAXcm4EhqWWNvL3rLymysG6yQ4ZCmVEIzb56luB9Lg6uOj4dMoRgRmatYGwYvkKdYG8v7Uteuxf/uKsXuohrhsZhADTatTsZ1ifSbeckcpQqQwUHokiegjp5GoKG7wVL4jwmP8x22cWlKmRJJYUlg6XFnBMzADP8ZUCmGWjjosu9pb8bE7If3XdhhATIx23WNWXhDd41d0SqIgOsSENLdrlqNvtOnh62EbjIahc9YFXEhUJx9P3kS0OmGbEo1fbroSpWSLBT5Y8X+5JqxB+xOtrVhpNNyRKw5evIsy9Xr35zFs3tPoqNXL2SyuvuymfjZt+fBV610dNip9xyr/3vsVeCjn9vfOwkQ+4w8tEezthlHa49aMlWdbjtts1MWIJ4UmmTJUrUoYhF8VFTzxUNfh0nfFu+7MBcB0tvbi5ycnCFB6LNmeUbVVd7QJ/0togUQATcgYF3wTzV9hk1GKm1xMYydnUN2oQgOFsSGOSMVc6tSBvOptD1Z1gZ7R2VPrNl7XurnxRfb8Mj7RSi40CY8snBaEDavSUZSTKDUIahfXxdQ+I6YRre+VBqPkeqASHuaerkRgbbeNhytOyq4Ux2pOYKK1gqb1bNgbRYobs5SxQSHv5e/G+0+VaIoAAAgAElEQVSQlurOBHjfhcclQA4fPoy//vWvQpxHX18fgoKCLEHoTJTMnj0bGzZswP333w9/f/f9S8Ibuju/gLR2IuBsAobOTjCBwawaPQUFwn/r6/ozAFlNLtNooElKsgSKs9gNVWyMw3nqpexrIq0NUtZj7jNadfaxjDNc365ePZ7/tByvfnUaLKmVv1qJXy2bj9sXz6BaHlLhNlcBua8Ax/8FaEUBB/ab6vk3AAkrgJDZw4+k9gdC46XOQv3cjACru8HS4TJ3KiY6yprLhArh1o3V3mApcZnoYEUAA9Uk+N3smD1mubzvwg4LkNWrVyM3Nxe33347Vq1ahczMTPj4DJj+qqqqhNS8b731FgoKCrB9+3Zcd911bnkQvKG7JQRaNBFwAgFTXx+05afQU1gALRMcRUXoq6oCmIuKdZPLoZ47tz9IPAXeKSnCn2XKiXX7mShrgyOoTXo9dx77Smrx2M4S1LRphSWtSI3GYzcmIiJg7C5sjuzJrZ8xGoGq/cCRl4BT+wDzxTJ4lphCN+12wDvIrbc4WYtn2exKmkoE9yNzoojJWstY5u3WdeN4/XFL4HhpcylYQUDrNitwllhpvL8AIKs+To0IuAIB3ndhhwXI3//+d6xfvx5eXvYzFpSUlKC6upoEiCu8QbQGIjBJBNilQXf2rCAyhJiNwkJoT5wAEyGDmyo2FpoUsbCfkJkqMREsU5UrNGdaG1xhf2wN1a09gvD4tFS0PE0L8cb/rk7GkvnOqejuKvvmsg5tO1Dwllg0sMnKhWbOdaLwmPNtoagmNccJmOtcuHrxOq1ei/yGfEuWquLGYuhNepuNT/efbonhYKIj3Ed6ch/HCdKTRGDsBFxGgIx96e77BG/o7kuCVk4EpBPQNzba1ttgcRtt/e4nVsMoAgOF4HBm1RBiN1JSoAwNlT7RJPR0hrVhErYxZEq9wYjXDp8RXK66+wxCMcENV87GT66ZC2+vkbOEucLaR11DUyXQ2zFyFx6uTg3lQO4WIP9NoK8/PkkdAKT9AMheT65UnF4Sc1G7i50XEecXh11rdjmleJ4jy2VpZgsbCi1B4+y/dUbbxBgxvjGi4IgWi/9F+UY5MhU9QwQmnADvu7DDFhDrnZ8/f14wg8bFxQk/ZgHpb775JhITE4UYEHdvvKG7Ow9aPxEYTMDY1QVW0E/bb93oKSqEvlpM0WrdZF5egjVDDBJfKFg3VNOmuZUbhaeefsH5VvxmRxFKa9qFLWbOCMaTa1IwP8p94/eEjTDx8dd0+8fmSLC30QCU7xWtHVUHBuYITxBFR+qtgNrP/tzUQzKBwVW+J9MKwsRFSWOJRXDk1+ej19Brs5cI7wiL2GDCI85fvCdRIwLuRoD3XZiLALniiisEoXHnnXeitrYW8+fPR1JSEsrLy/HTn/5UqJjuzo03dHdmQWsnAiwOovcUi9tgMRuFQuxGb2UlwHzebdSGDOo58WJhP3MK3HnzIFM5v/IunZJ0Au1aHZ7bexLbvzkrhN4Eeqvwm+UJ+F7mNMjlMukDuWpPZ9Tb6G4Gjr8O5L4MtJ4Vdy6TA/OWA4s3ALOuAvqLWLoqFndcl9n6Ud1ZLQRrs6xQsX6xE2YFYfOzQHFz8b+8+rwhFcdZzIY5hoN9Z/U43ClOxR3fC1rzxBDgfRfmIkCCg4PxzTffCMLjL3/5C9555x189dVX2Ldvn5ABiwWku3PjDd2dWdDapxYBIW7jwgX0sHiN/iBxbWkpTFoxKNm6scrhzH3Ke2GqIDpYhiqFn+/UAuZGu2Vn+0lxLR7fWYL6DvG3tmsWxeKRFQsQ5qd2o53YWSpPAVJbDOS8CBS+C+jF6u/wDgbSfwhk3gMEz/Acbi64k8HWD/MSnWUFYQHi5S3lQkpclqXqWN0xdOps038HqYMsAeNMcMwOnE2CwwXfHVrS+AnwvgtzESB+fn4oLi7GzJkzhYxYl112GR5++GGcO3dOECU9Pf3/ox7//idlBN7QJ2UTNCkRkEBA39Iy4EbVn5nK0No65Em5v7/FqiHU3UhOhiqCApQlIHaJLuebu/G7D4tx4GSDsJ6ZoT6Cu9Vlc8JcYn1cFzFeAWLQAWUfidmszh0eWFpkimjtSP4O4OUaCRK4cnOxwQZbP8zL42kFYaKc1d4wp8VlNTlYbQ7r5q/yR0ZUhmDlYF9zg+eCFQSkRgQ8nQDvuzAXAbJ48WIsWbIEK1aswNKlSwVryMKFC4Xv3/nOd3DhwgW3Phfe0N0aBi3eYwgYe3qELFQW60ZhoWDtGNyYy5R6wQLRusEyUqWkwGvmTMgok4/bvQs6gxEvf3kaL/y3HFqdEV4KOe6/ajZ+vGQONCo3DjIf7SQcFSCdDUDea0DuVqCjWpxBpgASV4nZrKZfQm5WE/g3YCTrh3kJjlhBmOA4035GyFLFRAcTHKz6uHXzUfogI1IUHFnRWUgIToBC7qF/VybwPGkq9yPA+y7MRYB8/vnnWLNmDdji1q5di61btwpkN27ciLKyMuzYscP9SFutmDd0t4ZBi3dLAiaDAb0VlWI18X5Xqt7ycsBgGLIfr9mzxYxU/e5U6vnzIZeQbtstwUyhRR8724yNO4pxsk7MBrV4Vohg9ZgT4eFB0mMVIBePidaOkh2AoT9FtG84kLEOyLwbCIiZQm+Na2x1JOuHeXVSrSBMcFzouGAJGmduVQ09ohXQ3DQKDViFcZaligWNJ4YmQiWnuDXXeBNoFZNJgPddmIsAYUAMBoMgQFg8iLmdOXNGKE4Y4eauGbyhT+YLRHN7PgH2j6y+utqm3kYPi9vo7h6yeUV4GLyTktGTnw/maqWaPh3xuz+iQHEPek3aunX4w54yvJVzTthVsI8Kj6xIxC3psVPDV12qAFnyiJjR6uLRgdOPzQCy7wOSbgKUHhQX42bvNxMKd++92+6qt16/VRAN1o0FrJtdqtj32q5am8+95F5YGLHQUosjJSwFXgr79c3sLoY6EAEPI8D7LsxNgHgYZ5vt8Ibuyaxob/YJ8K4hwYRDT1GxJSMVK/RnaGoashBWyE8s7tdv3UhNhTIyEs2vbUP9009b+kf8+mGErltnfyPUw6UJMCG6s6AaT3xUisZO8Tf538uMw2+WL0Cw7xS6YEkVIObTZJfPpJtFN6u4DJc+46myOFZf48D5A2DfR2pMNCyZtgStva0DgqMmBxc6bd1KlXIlmMhgQmVx1GJBfKgV4xeX7lqdfaq8Q7TP8RPgfRd2WIAsW7ZMSK976aWXjrqrjo4O/N///R9YoPoDDzwwfgKTMAJv6JOwBZrSRQiMt4q2sbcXLAuVdb0N3VnxN9s2TamEZv78/sJ+Yhpc5lolU9j6Luvq6lF5/fU2Wa1kGg3i9+6FKpKCyl3ktRl1GQajCTmnm1HfoUWEvwbZs0LAgswf/aAYhyoahWfjw32xeU0KFs927QKPTuEttQ4Ic7Ni1o6MtYAfvftOOQsnDNrU04Tculzk1uQKwoPFdFg3hUyBpNAki4UjLSINPir+SQPcpTq7E46AhpwiBHjfhR0WIK+88goee+wx+Pv7C5mvMjMzERMTA41Gg5aWFpSWluLQoUP4+OOPceONN+KPf/wjpk2b5pbHxBu6W0KgRY+bAKufUbVyFfrOnIHXrFmYvfPDUV2dTEYj+qqqbOptaE+eBPT6IWtRzZgOb+t6GwsWQK7R2F3zxYceQvvefbaxIAoFApYtQ+xzz9p9njpMLoE9xTXYtKsUNW0DaZH91EpodQbojSaolXL85Jo52HBlPLyUUzhTDxMhXY1AxWdibEdTxcDBRaUCabcDWfcCCvL1n9w32v7srdpWIVjc7FbFslZZNxYPsiB0gaUWR3pEOvy8nBvn5MrV2e0TpR5EQBoB3ndhhwUIW25fXx/ee+89oe7Hl19+idb+dJ2s6A6rgn799ddj/fr1QireyWqsGOIvf/lLoS4JW29KSgp+//vfC1m7pDbe0KXOS/08i0DTq6+N6uqkq6uzrbdRVARWYXxwU4SEQEh9y6qJ94sORVDQmGF1fXME50ZxtZq+bRt8F2ePeVx6YGIIMPHxo9fzYBphugXR/vjHDzIwM2yK12JpPScWDMzbDvS0iLSUGiDlu6KbVXTqxBwYzeIQgY6+DqH+hrkWB6vLwYoQWrd5wfMsgoNlrApUBzo0l6MPuVJ1dkf3QM8RAXsEeN+FxyVABi+2ra1NqPkRGhoKlYtUO547dy7mzZuHp556Ct7e3vjzn/+M1157DZWVlYiKirLHW/icN3RJk7pZJ95xDW62fbvLHc7VCSoVQtatQ9/pKqHIn76+fsg4Mm9vaJIS4Z26UIjdYNmplDExXIKHq3+zEW0ffji0gjlbhVyOwNWrEfPUZrt7ow4TT4C5XV3+9H4by8fgVUQFqPHVr6+FwhOqmY8VMSvpfvoLIOcl4OTHgMkojhA0XbR0LLoT8AkZ66jUfwIIdOu6BcHBAs+ZleNE8wmwgoDWLT4wXnSpis5GZmQmgjUDyW8mYIk2U0x2dfaJ3i/NN3UJ8L4LcxUgrnYsjY2NCA8PxxdffIErrrhCWB6LSQkICMBnn32Ga6+9VtKSeUOXNKkbdRpvXIMbbdWhpRr7+nDh/vvR9fU3ALsYjdQUCqjnzhVT4PaLDfWcOZAplQ7Na++hriM5OLd27Yjdpm/fBt9ssoDY4zgZn39d2YTbtnxjd+q31n8Ll8RPobiP3k6g8G0gZwvQUDbAZ/bVorVj3jKAajjYfW8mskOPvgfH649bBEdJYwkMJtv04DMCZlhiOJjwCPN2nYKZE12dfSLPhuYiAtYEeN+FPVqAsKwUSUlJQmV2ZvlQq9XC92effVaoTxIk0W2FN3RPeqXHGtfgSXsfbi9C3MaZszb1NljQ+HBxG+bng267DYE3roCGxW348A+OHI35xYd+gfa9eykGxM1ezJe+qMTmj60u2COs/4Vb07A6LdbNdufAclmMB3OzOv4GYK5crfIF0m4ThUf45LkBO7Abl3nEGZmdeg29KGwoFGtx1OSgsLEQzIpg3WL9Yi0uVUxwRPlK81aYaHATUZ19ovdE8xGBkQjwvgt7tABhEC9evIjVq1cjLy8PcrkckZGR2L17N9LS0kZ8y3p7e8G+zI1BZwH0zMWMWU+oDRCwF9fg6ax09fWWjFRCkb+iYhg7xEJvktokuzpRFixJp+QynVhw+f99Xon/O1AhBJnbax5tATEagcr/AkdeBCo+HUARMlsUHSywXDOxsQD2zsPdPueR2Uln0KG4qVgQG8ytKr8hH0yEWLdIn0iL4GBuVUyAuENzRnV2d9g3rXFqEiABAuDxxx/Hpk2bRn0DcnNzkZGRgZtuugk6nQ6PPPKIEAPy8ssvY+fOnWCfR0dHDzvGSOOTALHFNdUur4bOLmhLSmysG/qamiHvkEythiYpyeJKBaMJ1b/85Yjv62S7Ok11Eeku/5QcrmjEIx8U43SjmJiAZbjq1dv6xpv3IgMQFajBoYevmfgYEGaN6B1FhKv9gdB4x7Fr20RLR+4WoLmqfxwZMPc6MY1u/DVCDBO18RFwNLMTe+5E0wlLtXHmXsXcrKwbc6ESYjiisoWvaf7TuMS1jW/HY3uaV3X2sc1KvYnA5BEgAQKAxXawr9HazJkzhcxXS5cuFdICW1suWGD6Pffcg1//+tfDDkEWEGkvuCencGWuZb2nTlmlwC1Eb0Xl0BgOmQwsTsMcs8GyU7E4DtmgJAyu7OokuNGtWo2+06clpQeW9nZQL14EGjt78eTuE3j/+EVhyAh/NR5flQQZTPjxG8eFn1nbQpj4YO0fd6RjWfLwv2ThtbYh40itufGTvLGLkPoyMai84G1A158djmU7WnQHkHXP2MdzGgTPGFhqZieD0YCTLSctMRx5dXno1HXaQAhWByMzKlMUHNHZmBUwy+0Ex+BTHU91ds94Q2gXU42AywoQloKXpeRl2aVY2tuQkBDB7Ym5PMXGTo45ddeuXYIFhFkuWCFEc2NpgdeuXYuNGzdKen94Q5c0qYt3cpcUrlKyczE/Z93584LYENyo2PfSUpis3PDMx6GMiYZ3cgq8F6YKVcU1iUlQ+NlPc+rq1iJKJOB6f+GMRhP+ffQ8nvqkDG09OshkwA+/NQO/uH4+AjRivYrh6oBEB2rw2MrEiRcfbEFSq45vOAjEjOwGazkNowE4+YkoPE4fHDik8AVA9nog9fuA2rk1HlzvzXD+ikbL7CSXyXGq5ZRFcLCaHCxVrnXz9/IXslMtjl4sWDrmBM0Be86T2liqs7Mq7dSIgLsT4H0X5hIDUlhYiG9/+9sIDAzEmTNncPLkScyePRu//e1vcfbsWWzfvn1SuDMrSUJCAq666iqhajtzwdqyZQteeOEFwQVr4cKFktbFG7qkSV28kzukcB3pUq1vakJPUZGQ+lb8XghDW9sQ4nJ//4GMVCwNbkoylOHhDp+Mq7s6SRFrDm+eHhwTgfK6DmzcUYSjZ8W6FYnRAdh8cwrSpg2t9zJcJfRJS73LS4B0N4t1O3JfAdrOiezYBTZhhRjfMfMKCIqMmlMIjBTbwCqKV3dWo6W3v55K/+y+Kl+w+htmlypWl0NB2caccjY0KBGYLAK878JcBAgTH+np6XjmmWeEyugFBQWCADl8+DBuv/12QZRMVjt69KgQ/8G+s1gQlhWLiZHly5dLXhJv6JInduGOrp7C1To7lzI6GsE/uF2M3ygsgu6i6Mpi3ZjLlDpxgVjYLzVFsG54zZgBGUdfcnJ1cuEX2kWW1tNnwF/2n8KWL6qEIHMfLwUeum4e1l06E0qFG/wGebwCpKYQyHkRKHoP0PdXd/cOATLWApn3AEHTXOSkPHcZLGh8+Y7lqOuuG3GT3kpvLIpYZBEcrPK4Uu6cdOGeS5p2RgTciwDvuzAXAcIsH8zdKj4+3kaAMOsHc3fSavv/IXEv1pbV8obuphiGLNvV4hrYb/B7KyuFauKt774nWDZGal7x8aJ1IyVZKPKnmT8PMi/nm8nJ1clT3n7++/j8ZD1++2ExzjeLAbvXJUYKsR6xQd78J3PWiI4IEIMOOLFTrN1x7uuBlUWlAovvA5JvAVRuxMBZbJ04LrNqmCuNf3HhC7T1DbUIm6e/L/U+sC+VQnQDpEYEiMDUIMD7LsxFgLA4jz179mDRokU2AmTfvn1CsPf58+fd+nR4Q3drGFaLn8y4BiFu42K1VUaqQmhLSmHqsc22YlmuXI7Qe++F76WXCBmqFP7+k3YM5Oo0aehdcuL6di02fVSK3YViRjUWw8GEx/VJrln7YFSIYxEgATHAsdeAo1uBjv5scuy36ImrxWxW07LJzcpJb2xdV52Qpcpcbfxi51Cr8HBTyyATUuTuWrOLLB5OOhsalgi4KgHed2EuAmTDhg1oaGjAv//9byH4nMWEKBQKIQD8yiuvFIr/uXPjDd2dWQxe+0TFNehbWqAtLhasG+bYDUNz8xCUcj8/sDS4wmfWVccVCgQsW4bY5571JPy0FzcmwGI33jxyFs/sOYmOXj3kMuCuy2bh59fNg5/aTd1ZpAqQOdcBVZ8DRp14gr4RQOZdQMZdQMAEZ+5ykXfIGUX/zFtr7Gm0iA0mOs62n7XZtUKmQHJYMuL847C7arddIluv3yoEl1MjAkRg6hDgfRfmIkDYom644QaUlJSgo6MDMTExqK2txSWXXIKPP/4Yvr72swS58hHyhu7Kex3r2pwR12DUaqE9cUJwoWIZqViguO5cfyCq9QJVKmjmz++P2RBjN5hV5vzdd4+4jenbtsF3cfZYt0n9iQBXAqXV7dj4fhHyz7cK4y6MC8STa1KQHOvmhfOkChAzzbgs0dqRuApQqrkydrfBeBT9M++5RdtiIziq2sz1UsQeLCPVgpAFluJ/6ZHpYIHklNnJ3d4aWi8RmDgCvO/CXASIefv79+8XYkGMRqMQlM6C0z2h8YbuCUys9zCeuAaTwYC+qiqrehtF0JaXA3r9EEwsKFyTmirEbrA0uOqEBMjVtpcWd8jO5WnnT/uRTqCrV48/f1aOrV+dAbOAMEvHr5bNxw8Wz5j4goHSly29p9Q6IAkrgSseAmLTpY/twT0dLfpnRtLe146jtUctoqO8pdyGFnOdmh8y31L8jwmOAK8ADyZKWyMCRIA3Ad53Ya4ChPdmXWU83tBdZV881yElroG5GOhra23rbRQXw9jdPWQpitBQsKJ+YkaqVHgnJ0ERNDQF6eAHXT07F0/mNJZ7EfistA6/+7AY1W1iUo4VKdH43cpERAZo3Gsj9lbbWAGc/Qoo/g9w5hBgMohP+IaL8R0LbwPiMu2NMqU+l1r0zwylS9eFY3XHLIKDVR432ZSjhFB7w5wWlxUBDGRFG6kRASJABBwkwPsuzE2A5OTk4PPPP0d9fb1gAbFuzz//vIPbdY3HeEN3jV05fxWG9vb+uA3RjaqnsACGhqEV7GU+PvBOSuqvJi6KDpY6V+Zgnn9Xy87lfNI0gysTqGnrweM7S7C3RExrGhfsjSdWJ2NJQoQrL3vsa+vrBoreFYsG1hUPPD/jcmDxBmD+CkDhprEtY6ch+YnRiv6ZU9t267qRX59vCRwvaSqBwSzs+meaGTBTdKmKzkJWZBZCvUMlr4E6EgEiQATsEeB9F+YiQDZv3oxHH31USLnLMmJZXxzZfzPXLHduvKG7M4uR1m7s60NvWZmNdaPv9Omh3RUKqOfPG6i3kZwC9Zx4yBQKblgmMzsXt03QQG5PQG8wYtvXZ/H8vpPo6jMILlbrr5iNB6+dC28vfu/7pINqOQPkvgzk/QvQijEtUHoDqd8TiwZGJU/6El15ASMV/bsn+R4h0xTLVlXUWAQmVKzbNP9plhgOFhAe4eNhgtaVD43WRgSmIAHed2EuAoSJjqeffhrr1q3zyCPhDd3dIZmMRvSdOWOTkUpbVgbo+jPaWG1QNX06vJOThZgN5kqlWZAAubfzc/pPVHYudz9LWr9zCBReaBWCzIsvtgsTpE8PEiqZJ0R5iN89yzBXdUCs3XHyE8Ds/hM0A8i6F1h0B+AT4hy44xzVmdmmxro069gPe89G+0ZbYjiYpSPab2pmC7PHiT4nAkTAOQR434W5CJDo6Gh88cUXmDt3rnN2Pcmj8oY+ydsZ8/TMoqAtMmekKoS2qBjGzs4h47AYDc1CFiQ+UE1cGRw85vl4POCM7Fw81kVjeDaBDq0Oz+0rx/avz8BoAgI0Svx6+QLcmjUNcpZn191bbwdQ8LboZtVoFegcf41o7Zi7FJC7tnWHZ7YpR49TZ9ShtKkU20u2Y9/ZfSMOszB8IW6ee7MgPOL84hx2S3V0nfQcESACRMBMgPddmIsAeeaZZ1BdXe329T5Ges14Q3fl19nQ2QltcQl6ili9DVF06OtE33XrJtNohIJ+QkYqFiiemgpVbKxL/QM5nuxcrnxGtDbXI8B+q/5JcS027SpBXXuvsMDVaTF4dEUiwv09IL0sCyxnoiP/TaCvQzwALz8g7XYgaz0QPs/1DmWYFY0325SjmzQYDShrLhPcqdhXXl0euvVDk28MHp+JDir65yh1eo4IEAGeBHjfhbkIEBZ0vmLFCpSXlyMxMREqlcpmzzt27ODJYMLH4g19wjcwwoTMSqA9WW5j3eirrLIt4MeelcuhnjPHJkhcPXcuZErXDyiVkp3LVc6D1uGeBM43d+OxnSXYX1YvbGBmqA+euCkZV8wNd88NmVfNkolUfAoceRGo/O/AXkLnAtnrxWxWGvdyKRtrtilHD9BoMuJUyykcqTkiZKpiGas6dP3CrX9QX6UvuvRddqegon92EVEHIkAEJoAA77swFwHywAMP4JVXXsGSJUuGBKEzJq+++uoEoHHeFLyhO2+lI4/MfkPLivmJhf3EauLa0lKY+vqGPKSKiYFGsGz0u1IlJkLuhsUk2Z6ry1sRMy/IpSwzk3H+NCd/AjqDEVsPncafPzuFHp0BKoUM918VjweWzIFG5dpuSKPS6GkF8t8Q4ztazIkkZMC860U3q9lLhF9KuFuTkm3K0T2x/9dUtlZaslQdrTuK1t7+gPz+Qf1UfsiIzBBT40Zng2WtOnjhoFD8b6TmpfDCkmlLwL5TIwJEgAhMJgHed2EuAsTf3x9vv/22YAXxxMYb+kQw0jc1iUHiQvpbMQ2usa1tyNTywMABNyomOlJSoAwLm4glOn2Os8VN+OhvBbjxJwsxI4lSUjod+BSa4NjZFjzyfhHKasXfamfPCsHmNcmYE+E/cRRY0T8WkzFSU/sDofHS11NXKrpZFb4D6PrdgzSBwKI7gax7gJDZ0sdywZ4jZZvafPlmrIxfOaYVM8Fxpv2MTbXxZm2zzRjeSm+wgn/mWhwJIQlCVitqRIAIEAF3JMD7LsxFgMyYMQN79+5FQkKCOzK1u2be0O1OOMYOxq4uwZphFhosdkNXXT1kFJmXFzQLFojVxPutGyxLlaP1Nsa4zAnvvn/7CZw4XIMFl0XjmjsXTPj8NKHnEWjr0eGZPWV4M+ccWCKoYB8VfnPDAnw3Y4IDhKVWHP9J3ugixKAHTn4sCo8zXw4cWESiaO1gqXS9fN3+IAdbP8wbYhXCY/1iJcVZXOi4YInhyK3JRX2P6HJnbmqFGmkRaVgctVgIGk8KS4JKbuuO7PYgaQNEgAhMWQK878JcBAhzsdqzZ4/gauXj4+Nxh8Mb+ngAsZiG3lOnbFypeisqgEHFHyGTwSt+tpCRSpOSDO/UhdDMmwsmQjy1mYwmFH9xEb3dYr78vH1nodMa4KVRYNHSGcLP1D5KJF8ZC5knZCTy1IN0wX2x33jvLKjGEx+dQGOnGGT+nYw4bLxhAUJ8J+HvVHU+8NJV9kltOAjEpA3t19UE5G0Dcl8B2i+In8sUQMIKYPF9wIzLwP4f4iltJOuHeX/DWUFqu2pFwVGTI1g6qrtsf6nDxAXLUiUU/4vKQmp4KrlKecoLQ/sgAkRgCAHed2EuAtnOI7kAACAASURBVGTRokWorKwE+0d65syZQ4LQ8/Ly3PooeUN3FEbrf/6D2id+D5NWO2QIZVQUvFOSResGEx3JSVD4+Tk6lVs+16fVY/vGwxYBIpMDJiNg/m4WID/cfCm8NOQK4ZaHPAmLPtvUhUc/KMaXpxqF2WeH++LJm1JwSfwkuvU5KkDYc8zaUfQeYBCFFHxCgfS1optVYNwkEHbulCNZP8yzmq0gLNj7eP1xi5XjfMd5m4UpZUokhyUL8RtMdDDxoVFqnLt4Gp0IEAEi4CIEeN+FuQiQTZs2jYrnsccecxF8ji2DN3THVgF0fnkI59evh9zPT0x9a663kZwCVSRVwWVcO5q12PdyMWqrxAJw1i1qdgCW3psM/xC6NDj6Dk6l5/r0Rmz5sgp/+e8p9OqN8FLK8eOr45E+PRgt3X2I8NcIsR+swvmEt7EIEOZOdWKnKDzOHxlYanSaaO1IuhlQee7fCWa9uHvv3WM+IrlMjsSQRIvgWBSxCD4qz7PwjxkMPUAEiMCUJMD7LsxFgHj6SfCG7igvY08P2vfuFawg0//5D/hkZTk6lEc/Z9Ab8fJDX0DfZ7TsU+klx71/uhIKhftl7/How3LRzeWeacbGHUU4VS8W3LxsTiiWJkbinwerUNM2YIGMDtTgsZWJWJY8wVWppQqQjLvESuWdtSJpFpOQdBOQfR8Ql+lRblYjvUosy9SB8wfQqm3F6bbTqGqrEr7qum3rGzFLCAsUZ+5Ui6MXIz0iHX6s1gk1IkAEiAARAO+7MAkQCS8Vb+gSphy2i1Dde+Uq9J05A69ZszB754eQDaq54ujYnvRcdUUr3n92qNvfzf+Tjug5QZ60VdoLZwKt3X146uMyvHNUdL8J8/MSigmqlTL8+I3jMA2az2z7+Mcd6RMrQqQKEPN6/aKAzLsAJkj8IzlTc83hOvo6hPobLI6DWUFONp+EadAJzg2ea4nhyIzMRKA60DU3Q6siAkSACEwyAd53YYcFSEhIiFB4MCwsDMHBwaNmUmputk1POMkMxzw9b+hjXkD/A02vvob6p5+2PB7x64cRum6do8N57HOHd1Tg+L5zmJUWhstumYOv3qvA6YJGLFo6HZfePMdj900bc5wAi197//hFPLn7BJq6xLoMt2VPw8PLEuCvUeHyp/fbWD6sZ2IiJCpQg0MPXzNx7lhSBUhkMnD5z4EFqwDlJATLO34kY36yW9eNvPo8UXDU5KK0uRSsIKB1mx04W7BwsBiOzKhMhGhCxjwPPUAEiAARmIoEeN+FHRYg27Ztw6233gq1Wg3236O1tWvXuvVZ8YbuCAxdXT0qr7/eJgBdptEgfu9eiv8YBLSmolWIBZmbFSkIY3a5PJVbJ8R+kAXEkbfPs5+paugUgswPVzYJG50X6YfNa1KQOVO8nH5d2YTbtnxjF8Jb6781cYHpUgXISFmw7O7G9Tto9VrkN+RbslQVNxZDbxIz4JnbdP/pFsHBhEe4j5tXp3f9Y6EVEgEi4KEEeN+FHRYgjO/27dvx/e9/XxAhntx4Q3eE1cWHHkL73n2AwTDwuEKBgGXLEPvcs44MSc8QgSlNQKsz4B+fVwpffQYj1Eo5fnrtXKy/YrYQcG5uH+ZfxINv59tl9cKtaVidFmu337g7sAIkhf8G3t9gfyh7dUDsj+AyPVgsR2FDoaX4X0FDAXRGnc36YnxjLDEcTHBE+Ua5zPppIUSACBABdybA+y48LgGiUChQU1ODiAjPzsDEG/pYX8Cub47g3CiuVtO3bYPv4uyxDkv9icCUJXC4shGPvl+MqsYugcFV88LxxOpkTA8dmuXIZSwgfV1ilfKcLUB96cDZxSwSM1nNuBSwrrQ91kroLvY2MHFR0lhiSYtbUF8ArcE2BXmET4Sl0jgTHHH+npdG2MWOhZZDBIjAFCXA+y48LgEil8tRW1tLAsTJL2P1bzai7cMPhxYbZPPK5QhcvRoxT2128ipoeCLg/gSaOnuFOI8dxy8Kmwn3VwtZrFakRI8Yx2YwmoQYkNo27ZAgdDaG02NAmk8DuS8Dx/8FaNvEQ2DpYFO/L1Yrj0x0/4MBwOp1lDWXWQRHXl0eevQ9NntjMRvmwn/s+4yAGaPGH3oEGNoEESACRMAFCLicAKmrq0N4uGf71fKGPtb3qOtIDs6NEkczffs2+GaTBWSsXKn/1CFgNJrw7rHzeOqTMrR264Qi33csnoFfLpuPAI3KLog9xTX40etiZjXrTFhOy4JlNAJV+4EjLwGn9g3MGjwLyF4PpP0A8HbvjG4sQJxlpjJnqWIZqzp1YtpjcwtSBwkuVebAcRZEzuK6qBEBIkAEiMDEEuB9Fx63BWT58uV2Y0B27NgxsZQ4z8YbuiPLu/jQL4QaIBQD4gg9emYqEzhV14GN7xch90yLgGFBdAA2r0nGounBY8LCRMimXaXOrQOibQcK3hKLBjZVDKwv/lqxaOCc6wSrpzs2lgyiorXCIjhYatz2PtuCof4qf2REZVjcqliaXFYQkBoRIAJEgAhMLgHed+FxC5Dvfe978Pb2HpXKq6++OrnUxjk7b+iOLIeyYDlCjZ6ZygRYkPlf95/CS19UQWcwwVulwC+WzsO6S2dC6WBBSuaOlXO6GfUdWr6V0BvKRdHBxEdfvxXAyx9Iu120eITNdbujZILjdPtpISUus3IcrTuKZq1tSnYfpQ/SI9NFwRGdjYTgBCjkCrfbKy2YCBABIuDpBHjfhcctQCgGZOJeOaoDMnGsaSb3JnCwvAG//aAY55q7hY18e0EENq1ORmzQ6L8smdBdGw2ie9WRF4GqAwNTh80XRcfCWwEWSO4mjQmOCx0XLDEczMLR0NNgs3pvpTfSwtMEscHcqhJDE6Fi1dmpEQEiQASIgEsTcCkBQlmwJvZdESqhr1qNvtOnqRL6xKKn2dyEALNMPPHRCewqqBZWHBWgweOrknB9klgTxiVaTwuQ9y8xsLz1bP+SZMD8G0ThMftqCEEqbtCqO6stLlXMylHbVWuzai+5F9Ii0iwxHClhKVApSHC4wdHSEokAESACNgRcSoBQFqyJfTtrq9pw7N8F0B49goDLvgV1TCSUSjkUKvFLyb6b/6zs/7P5M5t+CrGv+Usph1zuHheeiSVOs7kLARZk/kbOOTyzpwwdWj3Y67z20pn4xdL58FMrx7+Npkqgt2PkcaSkvK0rEa0drIaHObuTJghI/yGQdS8QPGP863TyCHVddTaC42KnmE3M3JRyJVLDUi21OFLDU6FWeHadKCcjp+GJABEgAi5BwKUEyMGDB3HZZZdBqeTwD7xL4B1+EbyhO7rV8pxafLrVKv+/owMN85xcIRtdxAwraBRDnrEIm1EFEBNKtiKIBBDHw5xiQ52oaReCzI+faxV2nhIbKFQyT4kL5EOCiY+/ptsfa7iifwY9UPaRWLvj7KGBMSKTxRS6Kd8FvIbWHrE/2cT0aOxpxNHaoxa3qrPtZouNOL9CpkBSWJIlNS5zr/JhKYL7G3PLKmkqQVJokutYoCYGHc1CBIgAEfAoArzvwg7HgLz99tu49dZbJcE9f/48zp07J4gVd2y8oTvKoKW2C+dPtMCgM8KgN8CgN0Hf1/9dZxB+rhc+M0LfZ+zvJ/7Z5jOdEUb2ZbROKOroqvg8xwTImC05g6w6FitQvyXIxiI0yEI0WCjJHQxK5rN7GsURAt19erzw2Sm8fOg0WHA4s3T8z9J5uPOSmVDwtOhV5wMvXWV/iRsOAjFpYr+uRuDYa8DRrUB7v5VApgAWrBSzWU2/xCXdrFq1rcity0VOTY5QcbyyrdJm3ywjVUJIgkVwZERmwFflOyKbXZW7sPHQRmy+fDNWxq+0z5B6EAEiQASIgEsS4H0XdliAXHXVVWA1QO666y6sWrUKCxYssAHW1taGr776Cq+//jo+++wzvPLKK1i50j3/AeIN3VXeLKOBiRMT9IJ46f/eL1aGiBn2c7OwMfcR/mwlgNjPmfBhP7cWQtb92c/7PzMaXEcAyfoF0HAubdbuajafM9c1JmyYtcdLtOoMFkHCnwe7yZnFkJVQIgE0tr8V+8vq8NsPSnCxVSxUtzw5Co+tTEJUoGZsA0npPRYBYjKK2ayK/wMY+sTRfcKAjHVA5t1AYKyUGSesD0uDe6z2mMWt6mTLySFzzw+eb4nhYClyA7wCJK2PFRa88f0bwdy04vzisGvNLjAXLWpEgAgQASLgfgR434UdFiAM3UcffYS//vWvgsDw9fVFZGQkNBoNWlpahArprEAhEyg/+9nP3LpaOm/o7vfaOWfFzAIjWGcsosUgCpf+ryEixtqSYxY4lv7WQshsGRoQO4JFyEoYsTlcTgAp+93gLIKl302t/8/S3dvM8T/9gmiEOCHr8ZgLnssEaY/yurFq5Jt2leCTYjHYmWW1euKmJFyTEOmcl5SNKlWARCQC9VYukjHporUjaQ2gdI04iC5dF1iFcWbdYEHjJ5pPgBUEtG7xgfGi4IjORmZkJoI1Y6uXYh7LbP0w/5msIM57RWlkIkAEiICzCfC+C49LgJg329TUhEOHDuHMmTPo6elBWFgYFi1aJHyxQHV3b7yhj4cH86muLm9FzLwgt7gwjmevzn7WZDRBP0gADViCzJYhKxHDRMsw1h1b0WTtGjdUAFm7w7mSAIIMUChkUHpZx+aMLICGtexYCSVR3FgLINmwFiKzCBpOAFm/68xbcPvXZ/DcvnJ09uoFF6t7L5+FB789Fz5eTv6tulQBwl5YllI2+WYg+z4gLsPZr7Dd8Xv0PThef9wiOEoaS2AwGWyemxEww1L4LzMqE2HeYXbHtdfBbP1gWbJMMEEGGWL9YskKYg8cfU4EiAARcFECvO/CXASIi7Litize0MezsLPFTfjobwW48ScLMSMpdDxD0bOTTMAigAZZfMwuaoPd25gVx0YAmQVRn3GQkGLCZ5gYIYsrnCiujHrXcYFjAmiwqxoTaJ0tvYj7dgxermlE0cU24cQWTQ8SgsxZRfMJaVIFCHOxuvo3gF/EhCxruEl6Db0obCgUg8ZrclDYWAgmBqwbEwKs8J9g5YjKRqQvf+vRYOuHeX6ygkzaq0ETEwEiQATGRYD3XditBciTTz6J3bt3Iz8/H15eXmhtFbPgWDcW/P7AAw9g//79QsX222+/Hc8++6zQX2rjDV3qvMP127/9BE4crsGCy6JxzZ22cTfjGZeenXoEmAASLDJ6Iz5/8yQqjtZj9qIwZC6fZYnhMbvDie5rttYdZvkRBNEwcT/DWYrEuKIBVzmpAuhd316cURnhr1HiV8sS8IPs6RObNlqqALEOQp+g10ln0KGoscgSw5Ffn48+Y3/sSf8aIn0iBwRHdLZgiXBmG2z9MM9FVhBnUqexiQARIALOJcD7LsxFgAQHBw/rDsR8yllMyJw5c7Bu3TohHoRne+yxxxAUFIQLFy4IQe6DBYjBYEBaWpoQi/Lcc8+BuYqtXbsWN998sxC7IrXxhi51XtaPXRKLv7iI3m7xt5h5+85CpzXAS6PAoqVi3QC1jxLJV8aCBVJTIwJSCLjCeyUIIHMihD6DkNCg7HANerp0KG7pwq6qBvTChDqFERmRgVgbH4moIO+JfddbzwEHngIK3rSPdQIECLvclzaVWiwc+Q35YG5W1o25UJmtG8zCMc1/2oS6a45k/TCvkawg9l8l6kEEiAARcDUCvO/CXATIn/70JzBrxPLly5GdnQ3mu52bm4s9e/bg5z//OU6fPo1//etfwqV//fr13Jm+9tprQqD7YAHyySef4MYbbwRLAxwTEyPMy9IHMzFUX1+PgABpLhy8oY8FQJ9Wj+0bD1sEiEzORAlg/m4WID/cfCm8NE72hR/LwqmvSxNwxfeKrekvGw/hE1kPKlViYHSgQYalWhVm6hQWse30d91kAk5/IWazOvmx+BdOShuuDoiU50bpYzAawDJTmYPGj9UdAwskt24hmhAhWFxwq4rOwqyAWRMqOKzXMpL1w9yHrCDjfCHocSJABIjAJBHgfRfmIkBuueUWXHfddbj//vttsLz44ovYt28f/vOf/wji46WXXkJRURF3dCMJkN/97nf48MMPUVBQYJmTZegKCQkRXLKWLFky7Fp6e3vBvsyNQZ82bRpYamGpooXnJjuatdj3cjFqq9qHDBs1OwBL702Gf4gT0o/y3ASN5XIEXOm90huMePWrM3j+05Po0RkhNwHZvUp8S6uEigWIAHD6u97bCRS+IxYNbDgxcF6zrgIWrAJiFgFyUQgNaVIqoUt4A1hGqlMtpyyC42jdUXT02VZgZ2lwBcERnS2IjvigeCHI2xUK/jGhdPfeu+3udOv1WwUrDTUiQASIABFwDwIuKUD8/PyEOAzmamXdKioqBBeozs5OVFZWIjU1FV1dtr+944F9JAGyYcMGITMXE0HWTa1Wgz1z2223DTv9448/jk2bNg35bLIECFsI88F/+aEvBH97c2O1J+7905VQUBE9Hq/RlBzDFd6r4+dasPH9YrCK5qxlzQhGWpkWQQO/AxDqrDjtXWeVznNfBo6/AfSKge5gxfUW3gpkrwcinBdrxazFp9tOWyqNs6rjLb0tNu8iK/THCv4xscG+5gXPg2KQEHKVgn99hj4cOH8A7PtIzUvhhSXTloB9p0YEiAARIALuQcAlBcj06dMFVyv2Zd2Yaxb7YoHghYWFWLp0qVAfZLQ20uXf+hnm3pWZmWn50WgC5OzZs9i7d6/NlCwAffv27SNWcnc1CwhbfHVFK95/Nm8Iupv/Jx3Rc4Lc4+2lVbocgcl8r9q1Ovxxz0m8fuQsmNdTkI8KG5cvwKVBfvjwuePOfdeNRqByP5DzInDqUxZtJc4XMhvI3gCk3Q5oArmfFxMc5zrOiUHjNblC1fHGnkabebyV3kiPSLfEcSwIXTBqAT8q+Mf9mGhAIkAEiAARGETAJQXIli1b8KMf/Qg33HCDEAPCgs9zcnLw8ccf45///CfuueceIQic/eydd94Z9VAbGxvBvkZrM2fOFILbzY23C9bguXlDd+StPryjAsf3ncOstDBcdsscfPVeBU4XNGLR0um49GZby5Mj49MzU5PAZLxX7BK+u6gGm3aVoqFDNHPckh6HjTckINRPjTdeKkBrXhPKlQYc9Nbh6h4V5uoVCEoPxQ82LBzfQWnbgPw3RTer5sqBseYuFWt3xF8DcK5ddKHjgsWligmP+u56mz2oFWqkhadZiv8lhyZDpVBJ3icV/JOMijoSASJABIiAgwR434W5xICwvXz11Vf429/+hpMnTwpB6AkJCfjJT36CSy+91MGtSn/MXhA6y5IVHR0tDMgEEMuE5S5B6GYKNRWtYD77c7MiBYHHGJ/KrRNiP8gCIv1doZ62BCb6vTrX1I3f7SzG5ycbhIXMDvPF79ck49J4sfjdnuIaPPFaPgKMMpxQGSCEf5iABToF2uUm/HZdGpYli3+Xx9QaTopB5flvAeYgbnUAsOgOIOteIDR+TMON1rm2q3ZAcNTkoLqr2qa7Sq5CaniqJTUu+28mQhxpVPDPEWr0DBEgAkSACIyVgMsKkLFuhEd/5trV3NyMnTt34o9//CO+/PJLYVgWi8LiUsxpeCMjI4XPWV+WAeumm25ymzS8PDjRGERgsgnoDEZs+bIKL3x2Cr16I7wUcvx4STx+dHU81EoxsNtgNOHyp/ejpk077HKZFokK1ODQw9cIldDtNqMBKN8DHHkROH1woHt4guhmlfp9QO1ndxh7HZgLFSv6J7hV1eYKLlbWTSlTIiksSYzhiM7GwvCFYG5WPBoV/ONBkcYgAkSACBABewRcVoCwy/4HH3yAEydOCL+hT0xMxKpVq6BQjJA1xt5OJXzOxMS2bduG9Dxw4ACuvvpq4edMpPz4xz8eUoiQBaJLbbyhS52X+hEBTyBw9EwzNr5fhPK6TmE7l8wOFawe8eG2l/+vK5tw25Zv7G75rfXfwiXxoSP3624G8rYDua8Abf1igOWtnn+DKDxmXQnIJAiYEWZo0bZYLBxMcFS1Vdn0lMvkSAxJFFLiMtHB4jl8VD529zXWDlTwb6zEqD8RIAJEgAg4SoD3XZiLCxbLdsXiPy5evIj58+cL7kHl5eVC6lpWqTw+np97g6PgxvMcb+jjWQs9SwTchUBrdx/+8EkZ3s49Lyw5xNcLj65YgDWLYoetU/Fh/kX86Z1P4AvRAmKCCX2aBnhpw4U0s6x1QYOff385VqcNU827plAMKi96D9D3W1G8g4H0tUDWPUDQdIfQtfW2gaXDNdfiYGlyrRtb2/yQ+ZagcZaxyt/L36G5xvIQFfwbCy3qSwSIABEgAuMhwPsuzEWAMPHBRMcbb7wh1NhgjVUdv+OOOyCXywUR4s6NN3R3ZkFrJwL2CLD/F3yQfxG//+gEmrrEdKzfz5yGXy9PQLDvyKlXjx8/ikUfXmsZfpefDzaGh2FzfSNWdnVbfn589X+xaFF/FjyDDjixS4zvOPf1wNKiUoHF9wHJtwCqsbk7dfZ1Iq8+z+JWVdZcJogh6zYnaI4lLW5mVCYC1fwzZo3GmQr+2XsL6XMiQASIABHgSYD3XZiLAPH19cU333yDlJQUm72yAoCXXXaZUAfEnRtv6O7MgtZOBEYjUNXQid9+WIyvKpqEbnMj/PDkmhRkzxJ/MTFaM1w8DsUW0XVSD+DGuBhcVCkRp9Nh14UaKPsfNqz/HIrAWODYa8DRrUBHjfiJXCkWDGTCY9piyW5W3bpu5Nfn40jtEcHKUdpUCoPJYLPUmQEzsTh6sWDlYEUAQ71HcQGzt1EOn1PBPw4QaQgiQASIABGQTID3XZiLAGFWj48++mhIxiuWGWvlypVC8Lc7N97Q3ZkFrZ0IDEegV2/Aiwer8LcDFejTG6FWyvHTa+di/RWz4aWUS4NWnQ+8dJXQ12z9MD9oYwWZc50YVG4uducbAWTeBWTcBQTYz5Cl1WtR0FBgCRovaiwCsyhYt2n+0yxZqpjoiPCJkLaHCepFBf8mCDRNQwSIABEgAgIB3ndhLgLkhz/8IfLy8vDKK68IdUBYO3LkCNavX4+MjAyh6rg7N97Q3ZkFrZ0IDCbAgscf+aAIVQ1dwkdXzA3D729KxoxQ37HB6hcgZutHtVIBk0wGL6MRt7Z34H9a2vojQfqHjc0UrR2JqwHlyEkldAYdChsLLYKjoL4AfUbbSt3RvtGWGA4WOB7tZ1/IjG1z1JsIEAEiQASIgPsS4H0X5iJAWltbhdoau3btgkolFtDS6/VCFiwmPgIDJ9Y/mvfx8obOe300HhGYDALNXX14cvcJ/CfvgjB9mJ8av71xAVYtjBk2yNzuGvsFiNn6EanX43vtnbiloxOhrHK5uc29Hrj6YSA2Y9ghdUYdShpLLEHjzL1Ka7BN7RvuHS4IDrNbVZxfnGNrtrsp6kAEiAARIAJEwP0J8L4LcxEgZqynTp1CWVmZEJDO0vCyehye0HhD9wQmtIepS4D9/X732AVs/vgEWrt1Qkbb27On41fLEhDoLb2C9xCC1fnQv3QVHg4PxdKublzb3WOJ+6hTKLDH1xs/aO+EcsNBICbN8rjBaAALFGd1ONhXXl0euvUDQeusY4gmxGLhYMKDxXSwdOHUiAARIAJEgAgQAfsEeN+FuQoQ+8t3zx68obsnBVo1EQAq6juw8f1i5JwW47oSovyx+eYUpE8PHh+evm7g0PNoO/QsAo0DGaeOatR4M8AfB3y8oZfJhIxYK27fjXJvHyFLFQvGPlZ3DB26Dpv5WVaqrMgsi+iID4onwTG+E6KniQARIAJEYAoT4H0XdliAPPTQQ5KP4fnnn5fc1xU78obuinukNRGB0QhodQb8bX8FXvyiEjqDCd4qBX5+3VzcddksqBQSg8yHm6DlLJD7MnD8X0BPi9CjRybDbl8fvBXgj3K1VdpekwneJhO8vPzRphfjTczNT+UnZKdi1g1WbXxe8DywgoDUiAARIAJEgAgQgfET4H0XdliALFmyRNJumJvD/v37JfV11U68obvqPmldRGA4Al+easCjHxTjbJPo1nRtQgQ2rU5CXLCD1b1NJqDqcyBnC1D+CWAS4zt6fcPwV7UeO/x80aFQjHoY3kpvpEemY3HUYiFbVUJIAhTy0Z+h0yUCRIAIEAEiQAQcI8D7LuywAHFs+e75FG/o7kmBVu2pBAxGk+BSVd+hRYS/RqjZoZDL0NDRi9/vLsWH+dXC1qMCNHh8VSKuT4pyzJ2ptwMoeFssGthYbsFpmnUVLiz8Lr7WqLC7fAcqOs6ifVAMh0qmxAyfSMwNnI3vpdyNhRELoZKPI97EUw+T9kUEiAARIAJEwAkEeN+FSYBIOCTe0CVMSV2IwIQQ2FNcg027SlHTNpAlKipAjWsSIvBRYQ3atXrIZcAPL5mJXyydB3+NA5f+xgogdwuQ/ybQ2y7sq8Y7ADlzLkdOYBhyW0+ipqu/mGD/rr3kXoLIEFyqorKREpYCL8XIVdQnBBZNQgSIABEgAkRgihLgfRcmASLhReINXcKU1IUIOJ0AEx8/ej0PAyHfQ6dMjg3AU2tSkRI3xlTaLG1uxWdAzovC9waFHDkaDXKDInDE1w8XdKIQMTelTImU8BRBbLCv1PBUaJQapzOgCYgAESACRIAIEAH7BHjfhUmA2GfOvfqjhCmpCxFwKgHmdnX50/ttLB+DJwzQKJH7yLehVo0htqKnFch/A025LyG3tx65GrUgPM542VpOFDIFEkMTLYIjLSINPioHY0qcSooGJwJEgAgQASJABEiATMI7wBv6JGyBpnQRAqyGRklTCZJCkxyLo+C0D1a9/LYt39gd7a3138Il8aF2+7VdyMXRI39GTs0R5KgVqPCydZeSQSYEigsWjuhspEekw8/Lz+64rtjBVc7QFdnQmogAESACRMAzCfC+C5MFRMJ7whu6hCmpi4cS2FW5CxsPbcTmyzdjZfzKSdvlh/kXCrxijAAAIABJREFU8eDb+Xbnf+HWNKxOix3Sr6OvA8dqcpBz4l3k1uXipKkXpkGF/eYGxiM75ltCHAdLkctqc3hCc5Uz9ASWtAciQASIABFwDwK878IkQCScO2/oEqakLh5IQG/U48b3b8TFzouI84vDrjW7oJQrJ3ynzP3qf3eVYvvXVTCB1cowIRTtCEcLFLKBiJAuaPDUvWsEC0i3rht59XlitfGLh3GipRzGQdEjs2VqZLG0uPNWITMqS6g+7mnNVc7Q07jSfogAESACRMC1CfC+C5MAkXDevKFLmJK6eCAB82/OzVubDCtI8cU2bHy/CIUX2oRlpMlOYbPqFSTKz9kQ18pkyFd74ZvLf4yj7RUoaSyB3qS36TNdp0OWDlgcezmyFv8UYZGpHnhqtltyhTP0eMi0QSJABIgAEXA5ArzvwiRAJBwxb+gSpqQuHkbA/Jvz6s5qmGACi4mI9YudMCtIV68ez39ajle/Og2jCfD3kuFXxldwu+K/gtWjD0CBRo1cjQY5GjUKNWroBrlUxer0yNJqka3VIss/HlHZPwKSbwFUUyNb1WSfoYf9laDtEAEiQASIgBsR4H0XJgEi4fB5Q5cwJXXxMAKDf3M+kVaQfSW1eHxnCar7a33cmBqN32ToUL/jRuR4awTRwawdvXLmjjXQIvR6ZOuA7M42QXTEGmVA4k3A4vuAuCxgkEDxsCMbsp3JPENPZ0v7IwJEgAgQAdcmwPsuTAJEwnnzhi5hSuriQQQG/+bcvDVnW0GqW3vw2M4SfFpaB8CA6IgmXJPWjibDCeTV5qLHyOweAy1UbxCtG8zK0dOL6Xo9ZOxjv0gg824gYx3gH+VBJyN9K5N1htJXSD2JABEgAkSACDiPAO+7MAkQCWfFG7qEKamLBxEY6Tfn5i3yjgXRG4x49asq/OmLg9B5nYLKtwoa/zPQmXpsqAYZDMjS9iKrR4vFWi1m6foFh3Wva34LXPpTQDm1q5BP9Bl60OtPWyECRIAIEAEPIMD7LkwCRMJLwRu6hCmpi4cQGOk35+bt8bKCGE1GVLZW4oMTB/FuyefoVpRDprAVHP5e/kI6XFaLI0sRgLlv3SnkwBq1bTgIxKTZ6+XRn0/UGXo0RNocESACRIAIuDUB3ndhEiASXgfe0CVMSV08hEBubS7u3nu33d1svX6rUC9DamPF8E63nRbT4tbmgM3T2ttq87iX3BuLo/sFR3QWEoIToJDJgbNfAQefAU4ftD8dCRCBrTPO0D586kEEiAARIAJEwDUI8L4LkwCRcK68oUuYkrp4CIE+Qx8OnD8A9n2k5qXwwpJpS8C+j9SY4Djfcd5GcDT2NNp0NxlVMHTPRELQIvz8ihtwadzCgTojfV1A4b+BnC1AfYl0uiRAhLPjcYbSoVNPIkAEiAARIAKuRYD3XZgEiITz5Q1dwpTUhQiApew9UnNE+A08s3LUdbNg8oGmkntBY5iNxoZpMHTHY5rvfDx5UxoumxM20Kn5NJD7MnD8X4BWrP0BlQ8wbxlQssM+5Z/kAaHx9vtRDyJABIgAESACRMBjCfC+C5MAkfCq8IYuYUrqMgUJ1HXVWdypmOBgFdOtG6uanhqWiozILDTUx+Hdw3Jo+xTwUshx/9Xx+PHV8dCoFIDJBFTuB3JeAsr3CpXOhRY8E8haDyz6AeAdDDRVAr0dI5NW+5P4mILvIW2ZCBABIkAEiMBgArzvwiRAJLxjvKFLmJK6TAECzIXqaO1Ri1vV2fazNrtWyBRICksSg8ajspAWnoYT1Vo88n4xympF4bB4VgieXJOCORF+opjIf0sUHk2nBsaKvxbI3gDMvQ6QK6YAWdoiESACRIAIEAEiwJMA77swCRAJp8MbuoQpqYsHEmjVtiK3Lhc5NWLQeGVbpc0u5TI5EkISBMHBvtIj0+Gr8hX6tHXr8Ic9ZXgr55zw52AfFR5ZkYhb0mMha6oQRQcTH339Fg0vfyDtdiB7PRA21wNp0paIABEgAkSACBCBiSLA+y5MAkTCyfGGLmFK6uIBBNr72nGs9pjFrepky8khu5ofPF+wbjDBkRGVgQCvAJs+LPh8Z0E1nvioFI2dYiD7dzPi8Jtl8xBSfRDIeVF0tzK30LmitSPtNoC5UElsbJ6SphIkhSZBNsUqnEtERN2IABEgAkSACExZArzvwiRAJLxKvKFLmJK6uCGBLl0XjtUdswSNlzWXgdXnsG5zfGORFZKI7OAFyAxOQBCzVIwQa3GmsQuPflCMQxVitqv4cF88fcN0ZLbsFgPLW870Dy0Tg8oXbwBmLwEcEBDmQnu8iyK64THSkokAESACRIAIEIFBBHjfhUmASHjFeEOXMCV1cQMCPfoeHK8/LgqOmhzBgmAwGWxWPtM3Blk1J5HdX3E81GgrSCydrbJN9eoNePFgFf52oAJ9eiO8lHI8ng183/QxFEXvAvr+AoOaICD9TiDrXjHA3MFmLrTHgt7j/OKwa82ugfS9Do5JjxEBIkAEiAARIAKeQ4D3XZgEiIR3gzd0CVO6VZep4r7Ta+hFQX2BxaWqsLEQ7PJu3WL9YrE4erHgVpUVmYXIthrgpavsn2d/vY1vqprwyPtFqGzoggIG/DS2HPepP4Om+uuBMSKSRGtHyvcALx/7Y9vpYbZ+mLuRFWTcSGkAIkAEiAARIAIeRYD3XZgEiITXgzd0CVO6VRdPdd/RGXQoaiyyZKli4qPPaFtQMNIn0iI4WBxHjF+M7dlV50sSIM137sfmPCXeO3YBIWjH3T5f4G71fvj01IrjyRTAghuB7PuAGZc65GY13Etltn6wmiMmmCCDDExEkRXErf4K0mKJABEgAkSACDiVAO+7MAkQCcfFG7qEKd2miye577C9lDaVioKjJgf5DflgblbWLcw7zBI0zgTHNP9powdt2xEgrGTHe4YrsVn5Y8T2VmCdch9WK7+BytQvdHzCgIx1QObdQGAs9/disPWDrCDcEdOARIAIEAEiQATcngDvuzAJEAmvBG/oEqZ0my7u7L5jMBpQ1lKG3Bqx0nhefR5YILl1C9GEIDMyU6zFEZ2FWQGzxpQlynDxOBRbrh72PCuMMXhM/0OEogPrlHuRLq8Y6BeTLmazSloDqDROeR8GWz/Mk5AVxCm4aVAiQASIABEgAm5LgPdd2K0FyJNPPondu3cjPz8fXl5eaG1ttTnYgoIC/OEPf8ChQ4fQ2NiImTNn4v7778eDDz44pheAN/QxTe7Cnd3NfYdlpDrVcsriUsUyVnWY62b0c2ZpcIX4jf7UuHOC5oxJcAw+rsKcg0j9eJXNj7UmFbbpl6JXpsKtis8RIRPfW5NcBRkTHIvvA+IynX7yI1k/zBNTLIjTj4AmIAJEgAgQASLgFgR434XdWoA89thjCAoKwoULF/DKK68MESBbt24VxMktt9yCadOm4fDhw9iwYQOeeeYZ/L//9/8kHzhv6JInHqajKwV8u7r7DmNV1VZlCRpn2apae21Fqp/KDxmRGRbBMT9kPlhBQF7t888/xdWff8cyXKFhFhoQiCvlRVDJxIxZBpMc52Z9F7NueQLwj+Q19ajjjGT9MD9EVpAJOQaahAgQASJABIiAWxDgfRd2awFiPrHXXnsNP/vZz4YIkOFO9IEHHsCJEyewf79V8TY7R88b+njeNFcJ+HZF9x0mOM51nMORmiNCalz21aRtssHtrfQWKoybq42zyuNKuXI8RzLqs2YLSIdJg1aTH6bJxZoerDWb/BCMTqFsR+ENO5GaLSFbFqeVMjZ3773b7mhbr98qiDNqRIAIEAEiQASIwNQlwPsuPOUEyB133AGtVov33ntvxLeot7cX7MvcGHRmQWlra0NAgG2l6ol8FV0p4NtV3HcudFywFP5jcRz13fU2R6JWqJEWkWYRHElhSVDJVRNzbK3nYTj4R+jz3oRaphPmZO5XpaYZmC87D1/ZwDtmeOAYFOFzJmZdAPoMfThw/oDwfaTmpfDCkmlLwL5TIwJEgAgQASJABKYuARIgw5y9VAvI119/jauuukqIG7nuuutGfIsef/xxbNq0acjnky1AXCXgezLdd2q7agXBYbZyVHdV25wTExcLwxeKQeNRWUgNT53YCzRLa3XmS+DIizCd/Biy/kroF0xheFt/NQ4ZkqGTiQJI1r/yX63KwJWXXDJ1/69GOycCRIAIEAEiQARcmoDHC5CRLv/Wp5Kbm4vMzIEgXSkCpKSkBEuWLMFPf/pTPProo6MesitaQFwp4Hsi3XcaexqFlLjMusHmZS5W1k0pUyI5LFmM4YjORlp4GjRK52SNGvWl6esCCt8BcrYA9aWWrl8ZkvC2bDk0yTfgy4oW1LYPWD2iAzV4bGUiliVHu/T/dGhxRIAIEAEiQASIwNQm4PEChGWrYl+jNZbNSqMZuGTaEyClpaWC+Lj33nvBMmeNtfGGPtb5WX9XCvh2pvtOi7bF4lLFBAcLIrduLEA8MSRREBvMyrEoYhF8VEOrgRuMJuScbkZ9hxYR/hpkzwqBQm62OThyAiM801QJ5L4CHH8d6G0TOvVAjf/oL8c2w/WYtSADj69KQkyQNyZsTRy3R0MRASJABIgAESACRID3XdjjY0CY5eOaa67B2rVrhexXjjTe0Me6BlcM+B7rHkbq39bbhqN1Ry2ig6XJtW4sGxMLFDenxWUB5P5e/qNOv6e4Bpt2laKmTWvpx9XaYDQClfuBnBeBU5+yBLrCPA2qGPyz+xq8a7gKvoGh2LQqCUuTonihonGIABEgAkSACBABIjApBHjfhd1agJw7dw7Nzc3YuXMn/vjHP+LLL78UDmXOnDnw8/OD2e1q6dKlePbZZy0HplAoEB4eLvkAeUOXPHF/R1cJ+B7ruofr39nXKRT8M7tVlTWXwdR/gTf3Z7U3zFmqMqMyEagOlDw1Ex8/ej1v0IgD8Rb/uCPdcZcnbRuQ/6boZtVcaVnTxbDL8WTD5fikNxlyuQJ3XToTP79uHnzVzsuuJRkIdSQCRIAIEAEiQASIwDgJ8L4Lu7UAWbduHbZt2zYE6YEDB3D11VdjpHiSGTNm4MyZM5KPgjd0yRMDmMyA77Gsc6S+3bpu5Nfn40itmBq3tKkUBpNY/8LcZgXOsgSNs6rjod6hDk3NXJwuf3q/jeXDeiDmgBUVqMGhh68ZmztWw0kg5yWg4G2gr1McUh2AprnfwSMXL8GeGl/hRwvjAvHkmhQkx0oXTA5tlB4iAkSACBABIkAEiMAEEuB9F3ZrATJR3HlDH8u6JzLgeyzrGqmvVq9FQUOBJWi8qKEIepPepvs0/2kWwcEsHeE+0q1Ro63x68om3LblG7vbeGv9t3BJvB2RYzQA5XuEbFY4fXBgzPAE9Kbfgxca0vHiN/VCXIe/WolfLpuPHyyeMTZhY3el1IEIEAEiQASIABEgApNPgPddmASIhDPlDV3ClJYuzgz4Hss6RurL1lfYUGiJ4WDiQ2cUa16YW7RvtBDDsTh6sSA8onydExfxYf5FPPh2vt1tvXBrGlanxQ7fr7sZOP4vIPdloLU/4xarjD5vObB4Az7tScBjO0tQ3R9fsiIlGr9bmYjIgEnIvGV3p9SBCBABIkAEiAARIALjJ8D7LkwCRMKZ8IYuYUqX7cLERUljiUVwMPcqrWEg2JstPMI7AlnRWRYrR5xfHGSs3LeT27gsILVFoptV4buAvkdcqXcwkP5DIPMe1Mgj8PjOEuwtqRM+igv2xhM3JWPJ/Agn74qGJwJEgAgQASJABIjA5BLgfRcmASLhPHlDlzCly3QxGA040XxCcKliX8frjqNb322zvhBNiI1L1YyAGRMiOAZDMseA1LZphwShs75DYkAMOqDsI+DIS8C5wwPDRaYI1g4kfwd6hQbbvj6L5/edRFefAUq5DPdeMRsPXjsX3l4KlzknWggRIAJEgAgQASJABJxFgPddmASIhJPiDV3ClJPWxWgyorylXMhSxeJPjtUdQ4euw2Y9LCtVVmSWJTVufFD8pAiO4SCZs2Cxz8TkuGIz21+ELFgzlcCx14CjW4GO/krqMgWQuArIvg+Y/i1AJkPhhVb8ZkcRSqrbhTEyZgTjyTXJSIgKmLTzoYmJABEgAkSACBABIjDRBHjfhUmASDhB3tAlTDlhXUwmEypaKyxB46wmB6vNYd38Vf7IiMywVBufFzwPrCCgq7aBOiA9kGsuwKiNQ3SgN567zIBLG/8DlOwADH3i8n3DgYy7gMy7gIAY4UcdWh2e21eO7V+fgdEEBGiU+PXyBbg1axrkzihm6KogaV1EgAgQASJABIgAEQDA+y5MAkTCa8UbuoQpndaFCY4z7WcE68aRmiNCEcBmbbPNfD5KH7CCf+ZaHKwQoELuXu5GzB3rhSNv4/WTT+JJ/29jWXMRZBePDuwzNhPI3gAk3QQo1cLPGZs9xbV4fFcJ6tp7hZ/dlBaDR1YkItxf7EONCBABIkAEiAARIAJTjQDvuzAJEAlvEG/oEqbk1oVdqi90XLDEcDDh0dDTYDO+RqFBWkSakKWKZatKDE2ESq7itobJGEjfeg7vvLkMyxprEMoql7Om8AKSbhbjO2IzbJZ1vrlbyG61v6xe+PnMUB8hyPyKuXxSBE8GA5qTCBABIkAEiAARIAI8CPC+C5MAkXAqvKFLmHJcXWo6a2wER01Xjc14XnIvLIxYaInhSAlLgRe7nLt7M5mAc98AOS/CWLoT8v6Ch3UKBVpSbkbCt58C/GwFhc5gxNZDp/Hnz06hR2eASiHD/VfF44Elc6BRuZfVx92Pj9ZPBIgAESACRIAIuCYB3ndhEiASzpk3dAlTjqlLfXe9JYaDBY9f6Lxg87xSrkRqWKpFcKSGp0Kj9KC6FboeoOhdMY0uS6fb345q1HgrwB8HfHwQ6R+HXWt2gbEwt2NnW/DI+0UoqxWD7LNnhWDzmmTMifAfE3/qTASIABEgAkSACBABTybA+y5MAkTC28IbuoQpR+3S1NOE3Lpc5NbkCsKDxXRYN4VMgaTQJEvQeFp4GnxUPuOd1vWebzkrFgxkhQN7WsT1Kb1xduZiPNRdhnK1rVVn8+WbsTJ+Jdq6dXh6bxneyjkHZjQJ9lHhNzcswHczJqZeieuBpBURASJABIgAESACRGBkArzvwiRAJLxtvKFLmHLYLp+d/Qx/z/+7kLXKuskgAwsUF4LGo7ORHpEOPy8/R6dx7eeYYjh9UKzdUf4JYOqP7wiaDmTdC33a7bhxz52o7qyGySoRL2MU4xuL++JfwpO7T6KxUwwyvyU9Do+sWIAQXw9wQXPtk6PVEQEiQASIABEgAm5KgPddmASIhBeBN3QJUw7bZf+5/XjwwIPCZywVLhMcLGicpchltTk8uvV2AgVvATlbgMaTA1udfbVYu2Pe9YBcgV2Vu7Dx0MYhKIx9IdDW3gRD1zzhs9nhvnjyphRcEh/q0dhoc0SACBABIkAEiAARGC8B3ndhEiASToQ3dAlTDtulo68D39R8g8zITARrgh0dxr2ea6oURUf+G0CvWBAQzLqz8DYgez0QPt+yH71Rjxvfv9HG+mEyKdDXdAX6Gq8FTCrIZHo8eG0CfnT1HKiVFGTuXi8DrZYIEAEiQASIABGYDAK878IkQCScIm/oEqac2l1Y2tyKz4RsVsJ3cwuJF2t3pN0GaIZafFiK4bv33j0gSLpnordmzf9n7zygoyr2MP6lQShJCEgv0jtSBBSxARYsSFEQBAQLKKIPxC5YsGMvT1CxgNIV6Qg8BTsI0qT33ksIoaTnnW/WXcKyyd7d3LTNN+dw3jM7d8pvJpv57r8MUhPLmp+FFN2C8PLTMabDW8ZypCICIiACIiACIiACIuCdgN1nYQkQ78xtv/3RQpcFs8rZE8CqCcCy0cDx7f8yCAJq3eC4u6N6WyA44xvYE1MSsWjPIsScTsSMpUFYvCnItBFRJA2dL09D8xpA4dBCaFO5TWCkHS6Yu0SzFgEREAEREAERyGECEiA5DJzd2Q3d5ynQDSnBkSrWYykcAZSq4XOzeeaBwxscKXRXTwaSTjuGxZiWpr2AFvdZnhsvXfx+xT68OncDjp9ONM30aFkFT7evi6ii+ftixTyzVhqICIiACIiACIhAgSNg91lYFhALW8hu6Ba6PFeF4uOjZt4feWSF5YO698ZyoEZKsiOL1V+fAjt/O9dh6XoOa0ejbkBh65m8th85hWHT1+LPbcdMW3XKRuDVzg3RvGrJHJiMuhABERABERABERCBwCVg91lYAsTCXrEbuoUuz1XZvwr47Brvj/T/BajQxHu93K5x5jiwYiyw7Asgdo9jNEHBQN1bHPEdVa8CghyuU1ZKfFIKRv28zfxLTElFeFgwBrWrjfuvqoawkIzdtay0rToiIAIiIAIiIAIiIAL2ewNJgFjYVRIgFiB5q3JgtcPNas13QHK8o3aRksClfYDm9wElKntr4YLP/9x2FMOmrcX2ow63rWtql8YrnRqicskAvHTRZzp6QAREQAREQAREQATsIWD3WVgCxMK62A3dQpfnquRnC0hKErBhpuPSwD1Lzs2pfGPH3R0NuwBhRXzCwcrHTiXg1Tkb8P3KfebZ0hGF8UKH+rilUXkE+WA98bljPSACIiACIiACIiACBZCA3WdhCRALm8hu6Ba6zN8CJO4QsHwM8PeXwKmDjrkEhwL1OzqER+WWPrlZOWGkpqbh2+V78NrcjYg9m2Q8tXpffjEev7EOIsMVZO7TvlJlERABERABERABEbBIwO6zsASIBfB2Q7fQZf4TIGlpwN6/HW5W66YBqUmOORQrAzS/B7j0HiCyvE9TT19586E4DJ22Bst2xpgf1y8faYLMm1YpIBcy+k1OD4qACIiACIiACIhA1gjYfRaWALGwHnZDt9Bl/hEgyQnA2u8dlwbuX3lu3JVaOKwdtHqEFvJpyukrM8j8o4Vb8Okv25GcmoYiYSF47Iba6HtFVYQqyNxvrnpQBERABERABERABKwSsPssLAFigbzd0C10mfcFSOw+h4sVXa3OHHWMN6Qw0PB2oGU/oKKF1MFeQPyy+Qiem74Wu4+fMTWvq1cWwzs2QMUSmcSNBPqdKT5tHlUWAREQAREQAREQgawTsPssLAFiYU3shm6hy3NV8tI9IHSz2vWnw9qxYTaQluIYZ2QloMW9QLM+QLGLfJqep8qH4+LxyuwNmLl6v/m4XGS4ER43NiiXedt5iVWWKagBERABERABERABEcgbBOw+C0uAWFhXu6Fb6PL8Krn9Vj/xDLBmCrB0NHBo7bmx8c4O3t1R52YgJNTnabk/wCDzCUt3Y8S8jYiLT0ZwEND3imoYckNtFC9sof38nDEsy/TUgAiIgAiIgAiIgAhkDwG7z8ISIBbWyW7oFrrMG1VidgLLPgdWfAPEn3CMKawocEk3h/Ao28C2cW44cBLPTluDlbsd/TSqGIXXOjdCo0pR1vuQALHOSjVFQAREQAREQAREwCIBu8/CEiAWwNsN3UKXuVeFblbbFznu7tg8D0CaYyzRVYEW/YCmPYEi9mWeOpOYjA9+3ILPf9+BlNQ0Y+l4/Iba6N2qKkJoAvGlSID4Qkt1RUAEREAEREAERMASAbvPwhIgFrDbDd1ClzlfJSEOWDXRkUb32JZz/ddo68hmVet6IDjE1nH9tOEQnp+xDvtOnDXt3tSwHF7o0ADlosL960cCxD9uekoEREAEREAEREAEMiFg91lYAsTCdrMbuoUuc67K0S2O2I5VE4DEOEe/hSKAJj0cblYX1bJ9LAdj4zF81jr8sNZxSSGzWr3cqQHa1i2btb4kQLLGT0+LgAiIgAiIgAiIgAcCdp+FJUAsbDO7oVvoMnurpKYAW/7nyGa1beG5vkrVcoiOxt2B8Ejbx0AXq28W78TbCzbjVEKycbG6/6pqGNSuFooWshBk7m1EEiDeCOlzERABERABERABEfCZgN1nYQkQC0tgN3QLXWZPlbMxwMrxwLLRAAPMTQkCarcHLusPVG8DBPkYd2FxpGv3xZog83/2xponmlYpYYLM65W3UehIgFhcDVUTAREQAREQAREQAesE7D4LS4BYYG83dAtd2lvl0HqHteOfKUCS41I/hEcBTXsDLe4HSlazt790rdHS8e6CzRjz5w6kpgER4aF4+qa66NGiCoJ9DTL3NkrdA+KNkD4XAREQAREQAREQAZ8J2H0WlgCxsAR2Q7fQZdarpCQDm+Y6gsp3/nauvTINHNaORt2AQkWz3A/dqpbuOA5eHlgmIhwtq5U0rlVpaWmYv+6QifU4EBtv+rmtcQUMu7WeqZdtJbfvTMm2ialhERABERABERABEcgdAnafhSVALKyj3dAtdOl/ldPHgBVjgGVfAif3OtoJCgHq3gJc9gBwcWvb3KzmrT2A4bPWuwQGuyofFY5H2tbEwo2H8eOGw6b7KiWL4uVODXFN7dL+z0tPioAIiIAIiIAIiIAI5AoBu8/C+VqAvPrqq5gzZw5WrVqFQoUK4cSJfy/L87A0x44dQ+PGjbFv3z7ExMSgRIkSlhfQbuiWO/al4v6Vjrs71k4FUhIcTxYtBVzaF2h+LxBVyZfWvNal+BgwboXzlhCP9cNCgvDA1TXwcNuaCA+zN4Wv1wGqggiIgAiIgAiIgAiIgC0E7D4L52sB8sILLxghsXfvXnzxxReZCpBOnTohMTERP/zwQ+AIkOREYP0Mh5vV3qXnNliFpo67Oxp0BsLsd3ei29WVIxaeZ/lw392FQoIw8+ErUdfOIHNbfoXUiAiIgAiIgAiIgAiIgC8EJEA80BozZgwGDx6coQAZNWoUJk+ejOeffx7t2rXL/wIk7iDw91fA8q+AU4ccRILDHIKDaXQrNbfNzcrT5ly87Rh6jF7idd9O7Hc5WtUo5bWeKoiACIiACIiACIiACORdAhIgPgqQ9evXG9Hx119/Yfv27WjTpk3+FSBMM/vnR8D66UBqsoNE8XIOFyu6WkXWz86VAAAgAElEQVRk8SI/i/t+xqp9GDRpldfaH3Rvgo5NKnqtpwoiIAIiIAIiIAIiIAJ5l4AEiA8CJCEhAS1btsQTTzyBXr164eeff7YkQPgc/zkLoVeuXBmxsbGIjLTx3gpf9xmtHrMHO56qfDnQsh9Q7zYgtJCvLWWp/vSV+/D05CWIh8O9qxASUR7HUDzIke2K5TTC8fr9nWUByRJpPSwCIiACIiACIiACuU8g4AXIiy++iOHDh2dKetmyZWjevLmrTkYuWEOGDMH+/fsxadIkU9eqAMloDLkuQBJPAwuGAc36ABWa5PhuTExOxejftuPDnzYjITkNhZCEh0JnYEDITBQO+tcik25UKQOXI6R0zRwfpzoUAREQAREQAREQARGwj0DAC5CjR4+C/zIrVatWRXj4ueDqjARIkyZNsGbNGgT9e7s376ZITU1FSEgIhg4dmqHQybMWEPv2kc8tLdt5HEOnrcHmQ6fMs1cEr8UroV+ievDBjNvq/0uuCCWfJ6cHREAEREAEREAEREAEMiQQ8ALEn7XPSIBs27YNZ8+edTVJy8m9996LP//8EzVq1ECZMmUsdWc3dEud5pFKJ84k4o0fNmLSsj1mRCWLFcKwK4qh86834V9dJwGSR9ZKwxABERABERABERCB7CBg91k4X6fh3b17N44fP46ZM2firbfewm+/OW78rlmzJooXL34Bf6suWO4P2g09OzaG3W3SWjR91T68MnsDjp1ONM13b1EZT99UFyVOrAc+u8Z7l7KAeGekGiIgAiIgAiIgAiKQxwnYfRbO1wKkb9++GDt27AVLtmjRIlx77bUSIH5u5u1HTuG5GWvxx9ZjpoVaZYrjtS6N0KJqSUeLzMYlAeInXT0mAiIgAiIgAiIgAvmLgARILqyX3dBzYQqWukxITsGon7dh5KJtSExJReHQYPynXS30u6o6CoUGn2tDAsQST1USAREQAREQAREQgUAgYPdZOF9bQHJqQe2GnlPj9qUfXi44dPoabD9y2jx2Va2L8Eqnhri4VLELm5EA8QWt6oqACIiACIiACIhAviZg91lYAsTCdrAbuoUuc6zK8dOJeHXOBkxdsdf0eVHxwni+Q310uKS8K3vYBYORAMmx9VFHIiACIiACIiACIpDbBOw+C0uAWFhRu6Fb6DLbqzDI/Nvle/H63A2IOZNkMlr1vKwKnrixLqKKhGXe/7FtwEfNvI/xkRVAqRre66mGCIiACIiACIiACIhAniVg91lYAsTCUtsN3UKX2Vpl6+E4PDttLZbuOG76qVsuwgSZN6sSbb1fipCEuIzrF46Q+LBOUzVFQAREQAREQAREIM8SsPssLAFiYanthm6hy2ypEp+Ugv8u3IpPf92GpJQ0FAkLwaPX18I9rashLCRdkHm29K5GRUAEREAEREAEREAE8iMBu8/CEiAWdoHd0C10aXuVXzcfMal1dx07Y9puV7cMhndsgErRRW3vSw2KgAiIgAiIgAiIgAgEDgG7z8ISIBb2ht3QLXRpW5XDcfHmMsGZq/ebNstFhuPF2+rjxgblMg4yt613NSQCIiACIiACIiACIpDfCdh9FpYAsbAj7IZuocssV0lNTcOEpbsxYt5GxMUnIzgIuLtVVTx2Q21EhHsJMs9y72pABERABERABERABEQgUAjYfRaWALGwM+yGbqHLLFXZePAknv1+DVbsPmHaaVgxEq93vgSNKkVlqV09LAIiIAIiIAIiIAIiUPAI2H0WlgCxsIfshm6hS7+qnElMxgc/bcHnv+1ASmoaihUKwWM31MHdrS5GqILM/WKqh0RABERABERABESgoBOw+ywsAWJhR9kN3UKXPldZtPEwhk1fi30nzppnb2xQFi/e1gDlo4r43JYeEAEREAEREAEREAEREAEnAbvPwhIgFvaW3dAtdGm5yqGT8Rg+ax3mrjlonqkQFY7hHRvi+vplLbehiiIgAiIgAiIgAiIgAiKQEQG7z8ISIBb2mt3QLXTptQpdrMYt2YW35m/CqYRkhAQH4d7WVTH4utooVjjU6/OqIAIiIAIiIAIiIAIiIAJWCNh9FpYAsUDdbugWusy0ytp9sXh22hr8szfW1GtSuQRe69wI9StEZrVpPS8CIiACIiACIiACIiAC5xGw+ywsAWJhg9kN3UKXHqvQ0vHugs0Y8+cOpKYBEYVD8WT7OrjrsouNBURFBERABERABERABERABOwmYPdZWALEwgrZDd1Clx6rvLNgEz5auNV8dusl5fH8rfVRJjLc3+b0nAiIgAiIgAiIgAiIgAh4JWD3WVgCxCtywG7oFrr0WCUuPgn3jfkbA9vWxDW1S/vbjJ4TAREQAREQAREQAREQAcsE7D4LS4BYQG83dAtdqooIiIAIiIAIiIAIiIAI5AkCdp+FJUAsLKvd0C106bEKM18t3XEch+PiUSYiHC2rlVTsh78w9ZwIiIAIiIAIiIAIiIAlAnafhSVALGC3G7qFLi+oMm/tAQyftR4HYuNdn5WPCscLHeqjfcPy/jSpZ0RABERABERABERABETAKwG7z8ISIF6R534MCMXHgHErkOY2Vmfeq1G9mkmEWFhHVREBERABERABERABEfCdgASI78yy/ITd0H0ZEN2urhyx8DzLR/rnKULKRYXj96fayh3LF7CqKwIiIAIiIAIiIAIiYImA3WdhWUAsYLcbuoUuXVUWbzuGHqOXeH1kYr/L0apGKa/1VEEEREAEREAEREAEREAEfCFg91lYAsQCfbuhW+jSVWXGqn0YNGmV10c+6N4EHZtU9FpPFURABERABERABERABETAFwJ2n4UlQCzQtxu6hS5lAfEFkuqKgAiIgAiIgAiIgAhkGwG7z8ISIBaWym7oFrp0VXHGgByMjb8gCJ2VFAPiC03VFQEREAEREAEREAER8JWA3WdhCRALK2A3dAtdnlfFmQWLP0yfCUtZsHwlqfoiIAIiIAIiIAIiIAK+ErD7LCwBYmEF7IZuocsLqugeEH+o6RkREAEREAEREAEREIGsErD7LCwBYmFF7IZuoUuPVXQTur/k9JwIiIAIiIAIiIAIiIC/BOw+C0uAWFgJu6Fb6FJVREAEREAEREAEREAERCBPELD7LCwBYmFZ7YZuoUtVEQEREAEREAEREAEREIE8QcDus7AEiIVltRu6hS5VRQREQAREQAREQAREQATyBAG7z8ISIBaW1W7oFrpUFREQAREQAREQAREQARHIEwTsPgtLgFhYVruhW+hSVURABERABERABERABEQgTxCw+ywsAWJhWe2GbqFLVREBERABERABERABERCBPEHA7rOwBIiFZbUbuoUuVUUEREAEREAEREAEREAE8gQBu8/CEiAWltVu6Ba6VBUREAEREAEREAEREAERyBME7D4LS4BYWNbY2FiUKFECe/bsQWRkpIUnVEUEREAEREAEREAEREAEAoMABUjlypVx4sQJREVFZXlSEiAWEO7du9dAVxEBERABERABERABERCBgkqAL+MrVaqU5elLgFhAmJqaiv379yMiIgJBQUEWnji/ilM1yoLiM7osPSDuWcLn18Ni7he2LD8k7llG6FcD4u4Xtiw/JO5ZRuhXA+LuF7YsPZSXmKelpSEuLg4VKlRAcHBwlubFhyVAsozQewN2+81571E1SEDcc34fiHnOM9dezx3m4i7uuUcgd3rW93vOcw9k5hIgObCfAnkD5QA+v7sQd7/R+f2gmPuNLksPinuW8Pn9sLj7jS5LD4p7lvD5/bC4+43O7wcDmbkEiN/bwvqDgbyBrFPI+ZriLuY5TyB3etReF/fcIZA7vWq/i3vuEMj5XgN5r0uA5MB+SkhIwOuvv45nnnkGhQsXzoEe1QUJiHvO7wMxz3nm2uu5w1zcxT33COROz/p+z3nugcxcAiTn95N6FAEREAEREAEREAEREIECS0ACpMAuvSYuAiIgAiIgAiIgAiIgAjlPQAIk55mrRxEQAREQAREQAREQAREosAQkQArs0mviIiACIiACIiACIiACIpDzBCRAcp65ehQBERABERABERABERCBAktAAiSLS8/sVt9//z02btyIIkWK4IorrsCIESNQp06dDFseM2YM7rnnngs+P3v2LMLDw7M4ooLx+Isvvojhw4efN9myZcvi4MGDGQL45ZdfMGTIEKxbt87c5Pnkk0/iwQcfLBjAbJpl1apVsWvXrgtae+ihh/Dxxx9f8HPtdd/B//rrr3jrrbewfPlyHDhwANOmTUOnTp1cDfE2Wu79zz77DDExMbjssssM+wYNGmTa2ciRI027bJN133//fVx11VW+DzBAn8iMe1JSEoYNG4a5c+di+/btiIqKwnXXXYc33njDfJdkVPz5ngpQvBlOy9t+79u3L8aOHXve89zzS5YsyRTV1KlT8dxzz2Hbtm2oUaMGXn31VXTu3Lmg4fWbe1BQkMdn33zzTTzxxBMeP9N+z3x7WTkvMuvV448/jokTJ4Jnwnbt2oHf3ZUqVcqwcX//JuT2L4MESBZXoH379ujevTtatGiB5ORkDB06FGvWrMH69etRrFgxj63zUDZo0CBs2rTpvM/LlSuXxdEUnMf5Rffdd9/hxx9/dE06JCQEpUuX9ghhx44daNiwIfr164cHHngAf/zxB3ho5i/57bffXnDAZXGmR44cQUpKiquVtWvX4vrrr8eiRYtw7bXXehQg2uu+Qf/hhx/M/mzWrJnZm+4ChC84eJji90jt2rXxyiuvgIc4fp9ERER47Gzy5Mno3bu3+UPWunVrfPrpp/j888/N91SVKlV8G2CA1s6Me2xsLO644w7z/dG4cWMj/AYPHmy+8//+++9MBYgv31MBijbTaXnb7xQghw4dwldffeVqp1ChQihZsmSG7S5evNiI65dfftmIDv4OPf/88/j999+NYFcBvHF3f5nH+vfddx+2bt2K6tWrZyhAtN8z3l1WzosDBgzArFmzzPd7qVKl8Nhjj+H48ePmhRTPOJ6KP38T8sLvgASIzavAA1qZMmXAt+1XX311hgKEf7xOnDhhc+8FpzkKkOnTp2PVqlWWJv3UU09h5syZ2LBhg6s+rR+rV68G/1ip+EeA+3j27NnYsmULPL0x45eo9rp/bPkUmaYXIHzTxTfuZMo9zcI3ZrT+8Y8QxbWnwkMXBc2oUaNcH9erV89YVvhWTuV8Au7cPfFZtmwZWrZsaSyCGYk4X7+nCvo6eOJOAcK/lfy+t1ruvPNO8AI3HpqdhYe/6Oho89JJxff9zu+KuLg4/PTTTxni0373bWe5nxf5ooMvUb/55htwD7Ps378flStXNtbXG2+88YIO/P2b4NtIs6e2BIjNXPl2oFatWsYKwjfungoPZffffz8qVqxo3iY3adLEvKlp2rSpzaMJ3Ob4RUd3ErpC8HJHHrBee+21DN/MUAyS7wcffOCCwoNdt27dcObMGYSFhQUurGyaWWJiojkM063t2Wef1V7PBs7uBzK6/9CdZMWKFed9X3Ts2BElSpS4wFWFQ+I6FS1aFN9+++15Lii0TFHA82WJiu8HMlpfb7jhBnM4joyM9IjQ1++pgr4OGQkQig9aPbjHr7nmGmMB5Iu+jAoF4aOPPmr+Oct7771n3A49uZCK+/kvOtx50AJFFyC6wt11112ZChBf/i4XdO7u58WFCxcalytaPCiWnYVWVwpAd7dzfu7P34S8wl0CxMaVoBLlQYDm+d9++y3Dlum7yo3XqFEj85aGh2KqW76Np3hR8U6Ab7YoHOiCwi9HuqEwDofxHTRbuhfW45u09AflP//807ij8A1D+fLlvXeqGucRmDJlivljtHv37gz94LXXs7Zp3A9kzj27b9++85j379/fHKzmz59/QYfc33zZQbcuxqg5CwU7DxTurqBZG3FgPO3NAhIfH48rr7wSdevWxbhx4zKctK/fU4FBz/9ZeOJO98HixYvj4osvBl1pGddB1ze6pPDlk6dCscIXfekPyxMmTDCxl7QYqpxPwNt+Z9wH4534XZJZnKr2u/Wd5em8mNEe5YuOatWqGddZ9+LP3wTro8zemhIgNvIdOHAg5syZY/xMMwsYcu8yNTXVuEfwLf2HH35o44gKTlOnT582b4YZWM438p4ECP/4PPPMM66PeCDjIYJBuYq/8X2v0BzMP/T0V7VatNetknLUy0iAuItmxibs2bMH8+bNy1CA8A9Vq1atXJ/zLTJN/RTuKtYPZAxI79q1qxHeP//8c4bWD09MvX1PFfR18HYQJh9+X1OMTJo0CV26dMlQgFBc9+jRw/X5+PHjTQwDxaOK9f3OmhTajPX76KOPfEKn/Z4xLk/nxYwECNnzfPPJJ59c0GBGL1Iz+5vg0yJmY2UJEJvgPvLII8ZHlcGgVKq+Fm6WvXv3nuez6msbBb0+f0lr1qx5np+7k4lcsOzdHXzbzkBEZoCj1c+Xor1unZZcsKyzsrNmRgdhig+6bdLtge4Snqyt3saR2feUt2cD/XMrAoQM6ClAN2ZnHJQ7F7lg+bZTMuNObw7+/aS7Jl2BfC3a7xcSy+i8KBcsX3dXAa9PMxo3E+MJ+DbMHxcqtsFgRrpkffnllwWcqH/Tp1mdbwjoisJsJ+6Ff6j4pp5Zf5yF2Sb4paogdN+Z07ed5mC+dQ8NDbXcgPa6ZVSmYkZB6PRtp7WPhTEe9If3FoR+6aWXmixYzlK/fn0jHhWEfuGaeDqQOcUHEy4w61tGGfcyW2Fv31O+7Y7Aq21FgBw7dsy4FDIN9d133+0RAgN4GTBN12Znuemmm0wMiYLQre13Zy26LjPbYWbZ3jLaidrv55Pxdl50BqHTrZMvOlho8aNHjbcgdF//JuSFbw9ZQLK4CkzlSrPZjBkzzrv7g8HRvBeEhV+S/MJ0/qFnINHll19uxApjQOh2RVcIugRRiKh4J8A82R06dDDZZw4fPmxiQBhMy+B/mufpakU/+a+//to05kzDyyxBfANP0cEsWErD6521ew26UdHKR/cG+gWnL9rrvvN0f+LUqVMmRoyFiRPeffddtGnTxqQd5X6n0OB3CdOS8juEsRx8+ZE+DS8DGZl+9OGHHzbtONPw0oRPNywe3kaPHm1ipvj7ogJkxp3JFpgSmcH/zPrGrGPOwnWhKyKLO3dv31Pinjl3suXLDrJnnN7OnTtNHB/d35jR0Jl22v17h24pfGtPN0OKbP595j0uSsN7bsd5+55hTZ5PyP2dd97xeGeW9rtvv8FWzot8McrvGMYwcf/zO4SiO30aXrrE8W+A814bK38TfBtpztSWAMki54wu6+HhgG8OWHg/Ai9w44ZioVKl6wrzbFOo8JDBL9n0/tlZHFbAP867V+judvToUfMmkoKOmcT4VpeF7PnHigczZ6FAIXvnRYS0iugiQt+3yoIFC0w6QB54Gdyfvmiv+87T/QnuWQoO99KnTx/zHeK8dIoWqPQXEabPusfvG/4O8HvFWWj9YDAp36ixLrMCZZQqPOuzyH8tZMadHDNyrU1/B447d2/fU/mPkv0jzow700Yz+8/KlStNtjEehvm7we96piZ1FvfvHf6c91FQdDizBFGMZBQzYv+s8n6L3r5nOAO+qGDKb35n8KziXrTffVtnK+dFxijxoke+2E5/EWH6/c520p8xrfxN8G2kOVNbAiRnOKsXERABERABERABERABERABuhinUTqpiIAIiIAIiIAIiIAIiIAIiEAOEJAAyQHI6kIEREAEREAEREAEREAERMBBQAJEO0EEREAEREAEREAEREAERCDHCEiA5BhqdSQCIiACIiACIiACIiACIiABoj0gAiIgAiIgAiIgAiIgAiKQYwQkQHIMtToSAREQAREQAREQAREQARGQANEeEAEREAEREAEREAEREAERyDECEiA5hlodiYAIiIAIiIAIiIAIiIAISIBoD4iACIiACOQqAeetzLzZvUSJEtk2li+++AKTJ0/GggULTB+8LZ43bE+fPj3DPnnLdpMmTfD+++/7Na41a9bgpptuwqZNm1CsWDG/2tBDIiACIhBoBCRAAm1FNR8REAER8EDA02H7u+++Q69evfDSSy/hySefzDZuK1euxHPPPYelS5fi5MmTKFeuHC677DJ8/PHHuOiii5CYmIjjx4+jbNmyCAoKypZxJCQkoHr16pg0aRKuuuoqywKE4woLC0NERIR5pmrVqhg8eLD5Z7V06dIFzZo1w7Bhw6w+onoiIAIiENAEJEACenk1OREQARFwEHAXIJ9//jkGDhxoRMD999+fbZgOHz6MevXqoUOHDhg0aJCxcOzYsQMzZ87EkCFDUKVKlWzrO33DEyZMwPDhw40lwlmsWEDcB+ePAJk1axYefPBB7N69GyEhITkyX3UiAiIgAnmZgARIXl4djU0EREAEbCKQ/rD95ptv4vnnn8f48eNx++23n9fDV199BX5OkcDD9n/+8x889NBDpk7btm1Rv359/Pe//3U9c+zYMVSoUAE//PCD+dy90L2pa9euOHv2LEJDQz3Oxt0Fi25Pv/zyywV1nWOKjY3FE088YVyn4uPj0bx5c7z33nto3LhxhrRuu+021KlTB2+99dYFAqRp06ZGiLGtHj164KOPPkKhQoVMvfQuWJ7GlZaWhl27duHhhx/G77//bqw55MZ+br75ZtMGfxYZGYm5c+d6ZGTTEqsZERABEcg3BCRA8s1SaaAiIAIi4D8BpwCpW7euOWxPmzYN11133XkNjh49Gi+88IIRGDyU03WqX79+ePfdd9GnTx/QisCD9oEDB1C4cGHz7IcffmgO/9u3b/foPrVkyRK0atUKU6ZMwR133OGxjrsAodsTD+3OQkvNunXrzHjCw8ONC1XJkiWNiIqKisKnn36KMWPGYPPmzebnnkp0dDQ++eQT3HnnnecJkKlTp+KWW24xLmI7d+7EPffcY+b86quvXiBAOC6KnP79+5s6LHQnu/XWW81433nnHRPnsX79eiM4rr76aldfdDmjICFfFREQAREo6AQkQAr6DtD8RUAECgQBCpCJEyeag/JPP/3k8U083aFGjBhhrADO8sorr5g393/++ScYR0Frx6hRo9CtWzdThUKlU6dOmR6shw4daqwqPJS3bNnS9H333XebmA+WzILQKW4Yo/LXX3+hdu3aWLhwITp37gy6djlFENuoWbOmiWOhOHAvDDSnAPn1119d8R+sQyZ0j9qzZw+KFi1qHqNIoXWFVpbg4ODzLCD83JML1iWXXGIsSZmJC8aBUCzRwqQiAiIgAgWdgARIQd8Bmr8IiECBIMDDNq0IR48eRcWKFY3LlDOwmgCOHDmCMmXKoEiRIubg7SzJycnm4Hzo0CHzI8ZxMI5i3rx5WLVqlQmupmvUxRdfjNdee838cxZaApwxHnTVonigRYSuU7QmUBA0atQoQwHCMVLcUCTccMMNplm6Nj399NNmnOkLXbwef/xxI6DcCy02FE4Mgm/RooXrYzJhXAbH5SyrV682Wa9oDeGc3LNgeRIgjKcZMGCAEVe0KlGMUJSkLz179gRZMguXigiIgAgUdAISIAV9B2j+IiACBYKA0wWLLlNt2rQxrkMUEU4RQoHBn40bN85kqEpfGDhdrVo18yOmleUBnXEPtGps2LAB//vf/8xnFBX85yw8rHuK+6AVhpYTxm6MHTvWowCheKHr1osvvohHH33U1SYFBmM0aDVxLwxwZ1Yt98L+6LrF+TqFDOtkJkA4P4onKwKEbdGKMmfOHJPid/bs2cYd65FHHnENhal4a9SocV78TIHYeJqkCIiACHggIAGibSECIiACBYBA+iD0vXv3GhHCw/r8+fONaxRLpUqV8MADD5h4iMwKBUr79u1NLAnFQHqXLasoGRTOQG+mAnZ3waK1hNYExlC4uyxR7PAwv3XrVuMOZbU0bNjQZPtKnz7X6YJFHk6LCuNJaEnJyAWLbmBk9Nhjj2XY9TPPPGPEyD///OOqU7lyZSOm7rvvPqtDVj0REAERCFgCEiABu7SamAiIgAicI+Cecnbfvn1GhDBomyKEblZ0JWLWq9dff90c8hnz8ffff4MXBDJlrrMwWJ3B6IyboHsTrQsZFVoDePdG9+7dTQwHs0bRpYpuVBQXvXv3vkCAXHPNNaAI4SE+fZxH6dKljXsYhUlcXJxxt2Jmq/3795s4Fbpr0ariqVAw0KpBweMsZMIgdKYI5h0d/JxB6PxHBizuFhBaUChWRo4cacZGEUdRQ16cH1nRHYviyOluRXcu3kHidFXTvhQBERCBgk5AAqSg7wDNXwREoEAQ8HTnBcUDRQgtIHQdogsTM10xzoIuUMzoxBgNHrAZ+O0sp06dMgHkbJNWkMwKs2O98cYbJq0u3ZR4aK9Vq5ZJ7cvnWdwtIBldRuhMw0vxwcB2igfGrtB1jKKEooGWBk9l48aNJl6Fc6bYYnEyYWYrzoOCi0KJWcCcwsddgDCGhRYQxsGwPgUVXa0Yr0JLClnSOsTg+VKlSpl+OC7Ony5gKiIgAiIgAoAEiHaBCIiACIiATwQoJPiGf9myZeZQn18KM3cx9oQuUjlVKFIouJiBrHXr1jnVrfoRAREQgTxNQAIkTy+PBicCIiACeYdAUlKSsSDQfYruSn/88UfeGZyFkXDMvIE9fXC4hceyVIV3kyxatMhYTVREQAREQAQcBCRAtBNEQAREQAQsEXC6SjHWgbEUdM9SEQEREAEREAFfCUiA+EpM9UVABERABERABERABERABPwmIAHiNzo9KAIiIAIiIAIiIAIiIAIi4CsBCRBfiam+CIiACIiACIiACIiACIiA3wQkQPxGpwdFQAREQAREQAREQAREQAR8JSAB4isx1RcBERABERABERABERABEfCbgASI3+j0oAiIgAiIgAiIgAiIgAiIgK8EJEB8Jab6IiACIiACIiACIiACIiACfhOQAPEbnR4UAREQAREQAREQAREQAUzeTE4AACAASURBVBHwlYAEiK/EVF8EREAEREAEREAEREAERMBvAhIgfqPTgyIgAiIgAiIgAiIgAiIgAr4SkADxlZjqi4AIiIAIiIAIiIAIiIAI+E1AAsRvdHpQBERABERABERABERABETAVwISIL4SU30REAEREAEREAEREAEREAG/CUiA+I1OD4qACIiACIiACIiACIiACPhKQALEV2KqLwIiIAIiIAIiIAIiIAIi4DcBCRC/0elBERABERABERABERABERABXwlIgPhKTPVFQAREQAREQAREQAREQAT8JiABYgFdamoq9u/fj4iICAQFBVl4QlVEQAREQAREQAREQAREIDAIpKWlIS4uDhUqVEBwcHCWJyUBYgHh3r17UblyZQs1VUUEREAEREAEREAEREAEApPAnj17UKlSpSxPTgLEAsLY2FiUKFEChB4ZGWnhCVURAREQAREQAREQAREQgcAgcPLkSfMy/sSJE4iKisrypCRALCAkdMKmEJEAsQBMVURABERABERABERABAKGgN1nYQkQC1vDbugWulQVERABERABERABERABEcgTBOw+C0uAWFhWu6Fb6FJVREAEREAEREAEREAERCBPELD7LCwBYmFZ7YZuoUtVEQEREAEREAEREAEREIE8QcDus7AEiIVltQI9JSUFSUlJFlpTFREomATCwsIQEhJSMCevWYuACIiACIhAPiZg5Szsy/QkQCzQygw68yIfPHjQZAVQEQERyJwAs8mVK1dO9+loo4iACIiACIhAPiIgAZILi5UZ9AMHDhjxUaZMGRQtWlQHq1xYH3WZ9wlQqJ85cwaHDx82Ka3Lly+f9wetEYqACIiACIiACBgCEiC5sBEygk63q82bNxvxUapUqVwYmboUgfxF4NixY0aE1K5dW+5Y+WvpNFoREAEREIECTEACJBcWPyPo8fHx2LFjB6pWrYoiRYrkwsjUpQjkLwJnz57Fzp07Ua1aNYSHh+evwWu0IiACIiACIlBACUiA5MLCexMgOkzlwqKoy3xJwCna9TuTL5dPgxYBERABESigBCRA3Bb+119/xVtvvYXly5eD8RjTpk1Dp06dTC1mpRo2bBjmzp2L7du3m9vMr7vuOrzxxhuoUKGC5S0kAWIZlSqKQKYEJEC0QURABERABETAOoG05GQEhYZafyCbakqAuIH94Ycf8Mcff6BZs2a4/fbbzxMgsbGxuOOOO9CvXz80btwYMTExGDx4MJKTk/H3339bXiIJEMuobK/I4OUHHngA3333nVm/lStXokmTJrb3owZzhoAESM5wVi8iIAIiIAL5n8DppUux96GBqDxqJIq2aJGrE5IAyQR/UFDQeQLEU9Vly5ahZcuW2LVrF6pUqWJpMQNRgPTt2xdjx451zb9kyZJo0aIF3nzzTVxyySWWuGRUiW0zM9j06dOz1A4fpsDs2LEjfv75Z1SvXh0XXXQRQvPAm4AsT6yANiABUkAXXtMWAREQARHwiUBaUhK2d7gNiTt3olC1aqg+cwaCwsJ8asPOyhIgWRQgP/74I2644QZzQI6MjPTYWkJCAvjPWQi9cuXKoEUl/TN2HqZSUtOwdMdxHI6LR5mIcLSsVhIhwUF27p3z2qJIOHToEL766ivzc95lQne1f/75B7t37/bYL13aeJmct2KnAPnvf/9rXOwoGP0ttKIwY5mEi78E7XvOzt8Z+0allkRABERABEQgbxE49tUYHB4xwjWoMk8/hVJ9++baICVAsiBAePi58sorUbduXYwbNy7Dll588UUMHz78gs+zS4DMW3sAw2etx4HYeFef5aPC8UKH+mjfMHvuS/AkEn777TdcffXVJk3q6dOnTaaiyZMnY+TIkViyZAlGjRplhAAtG6tWrXKN9f333wf/MbuRJ3aLFi3Ctddei3379mHIkCFYsGABgoODzVp88MEHJouYp+Jupbn44otNHxSHTzzxBCZNmmTyUjdv3hzvvfeeseCw0FrSpk0bzJs3D0OHDjWiav78+eZnM2fOxEsvvYS1a9eiePHiZr7ff/+9eS4xMdGIsPHjxxuB2rBhQ4wYMcKMXcUeAhIg9nBUKyIgAiIgAoFLIOnQYWy78UakxZ87FwaFh6PG/PkIK1smVyYuAeKnAOHb+65du5q3+zygZmT9YPM5aQGh+BgwbgXS3ObltH2M6tUsW0SIuwA5deoUHn/8cfz000/YtGmT4UQBQnHwzjvvoGnTpihcuDA+++yzTAUI27nvvvuMMHBaV+jexbgbxm5cddVVJg6H1ohXXnnFJA+gQChUqJBHwffhhx+aPuk6FxISgtKlS2PQoEEmJuTzzz8HRQndxigstm7dCvblFCB0JXv77beN6xYvv6OIojsXRUn37t2N4JgzZw6effZZ03fPnj2NwHEmKWBCAwqSNWvWoFatWrnyCx9onUqABNqKaj4iIAIiIAJ2E9g3ZAhOzl8ApKScazokBJHt26PiO2/b3Z2l9iRA/BAgFB/dunUzmbAWLlzo86WB2RUDQrerK0csPM/ykX56FCHlosLx+1NtbXfHogChFch5FwMtHrydevbs2Sag33lXAy0bPPA7Cy0cmVlAWM+TdeXLL780QmHDhg2u2+IpACgM2B7d4jyV9NYVfs5xRkdHY8yYMbjrrrvMI1xfCiUKG1pGnAKE7VJwOMsVV1xhxIgn69e2bduMyNi7d+95GdKYNY0xQ6+99pqlX1BVypyABIh2iAiIgAiIgAhkTOD0kr+wOxNXqypjx6LYZS1zHKEEiI8CxCk+tmzZAroC8Q26ryW7BMjibcfQY/QSr8OZ2O9ytKph703rFAl0iaJbFcvx48eNqxWDvpcuXQrGTdAC8vvvv6N169ZZFiADBw7Ep59+esHlc2fOnMHHH39s3J1uuukmVz+sS4uEuwChtYQZzSiQaP1wls6dOxthQqHjFCAUExUrVnTVKVq0qOnrnnvuuYD5t99+a0RqsWLFzvuM1rAuXboYVzSVrBOQAMk6Q7UgAiIgAiIQuAT2P/MsYmfMAFJTL5xkcDCiOnZEhddz/qWoBIjbctDlh643LHQTevfdd42vP11xeNcHU/OuWLHCvNkvW7as62l+7sntx9OWzi4BMmPVPgyadC6WIqNfpw+6N0HHJucO0nb82nmyUjBQm3el0JJw//33GwHinvaW8RNTp07F6tWrXcNgkDgP9hQFLJ7aHjBggFkHxle4F4pCrgUFkbNwrSIiIi4QIOyXrlzuWcx490upUqXwxRdfuAQI0/bSwuIs/JwuWZ4ECAUGBc+6deuMq1f6wliRcuXK2YG9wLchAVLgt4AAiIAIiIAIZELg9F9LsbtPnwxrVPl6LIq1lAUk1zeR8223+0D69OljAqJ5iPZUnIHRViaQXQIkty0g7qlyU1NTzYGd96Y88sgjHgUILSbkyqxZTHvMwoM772JxCpD+/fubSyFnzZrlwjt69Gg89dRTpk5m8Tfu6+HJBYvikfEl6V2wuM4UToxjce4JdwFCYUqLiCcXrM2bN6NOnTrgxZaMU1HJHgISINnDVa2KgAiIgAgEDoF9Qx7DyfnzFQMSOEvq30yyS4A4Y0AOxsZfEITOkWZ3DEj6NLw8rDPlLQUG42QYU+HJAsIYjgYNGuD11183lzwy09Rzzz1nRIVTgDBegi5UzHZFqwOtKnSFo+WCAoBWlEqVKplAd2agYtwG/9tTcRcgrEOhQZcpWjt4l4szCJ1xHHTDykiA8Oft2rUzgeUMQmdgPF3OnnzySdN1r169jJByBt0fPXrUsGjUqBFuvvlm/zaPnjqPgASINoQIiIAIiIAIZE7g7PoN2NmtG5Cc7KqoLFgFcNdklwAhSmcWLP7/9JmwciILVvqLCOnuxPTEtFLQbc0ZhO7p5vFPPvnEBGUzboR1aTlgpiqnADly5IixiixevBh0kXNam2g1Yftz585FXFycESMUBHSLysgq4kmA8BBL0TBx4kTTTkZpeN0tIGRMwfPyyy9j/fr1pk+m4aVLGQtFEjNzff3118YdjOKpVatWJiUzRYhK1glIgGSdoVoQAREQAREITAJnV6/G8XHjcXLePB5Kzpuk7gEJzDXPdFbZKUCcIiSn7wEpgMuoKecBAhIgeWARNAQREAEREIE8QyA1MRFx8+YZ4RH/zz+ucRVp3BiJ+/cj5cgR3YSeZ1YrhweS3QKE08npm9BzGKG6EwFDQAJEG0EEREAEREAEAF42eGLyJMRM+RYpR48aJEFhYYi85RZE9+qFIg0b4PTSpdj70EBUHjUSRf+9bDm32CkLVi6QzwkBkgvTUpcikOMEJEByHLk6FAEREAERyCMEeMXB2ZWrEDNuHE4uWOCK8QgtWxbRPbqjRNeuCC11/rULacnJCAoNzfUZSIDkwhJIgOQCdHUZkAQkQAJyWTUpERABERCBTAikJiTg5Jy5iBk/HvHr1rlqFrn0UpTs1RMR111nrB95uUiA5MLqSIDkAnR1GZAEJEACclk1KREQAREICAJ2WxuSDh5EzMRJODFlClJiYgyjoEKFENnhVpTs2RPh9evnG24SILmwVBIguQBdXQYkAQmQgFxWTUoEREAE8j0Bu+ItjJvV8uUmqDzuf/9z3eURWr48onv0QImudyA0Ojrf8ZIAyYUlkwDJBejqMiAJSIAE5LJqUiIgAiKQrwmkJSVhe4fbkLhzp98Zp1Lj43Fy9mwcHz8BCRs2uHgUbdkS0XSzats2T8Ry+LtQEiD+ksvCcxIgWYCnR0UgHQEJEG0HERABERCBvEbg2FdjcHjECNewfLlzI2nfPsRMnIgT336HlNhY0wYvDYzq0MEIj/A6dfLadP0ajwSIX9iy9pAESNb46WkRcBKQANFeEAEREAERyEsEmA532403Ii0+3jUsb7eO083qzF9LETN+HOJ+WgikpppnwypWRPRdd6HE7V0QUqJEXppmlsciAZJlhL43IAGSMbMXX3wR06dPx6pVq3wHW0CeGDNmDAYPHowTJ04UkBlnPE0JkAK/BQRABERABPIUgX1DhuDk/AWuWA0zuJAQRLZvj4rvvH3eWFPPnEHszFkmm1XCli2uz4q2uhwle/dG8WuuQVBISJ6an12DkQCxi6QP7QSiAOnbty/Gjh3rolCyZEm0aNECb775Ji655BLLdLJLgKSkpJixcIy7du1CkSJFULt2bTzwwAO45557zPiuvfZaNGnSBO+//77l8dpdcdGiRXjnnXfw119/IS4uDhUrVkTz5s0xcOBAXH311aa7s2fPms/KlCljW/c7d+5EtWrVsHLlSsMgs3L48GE899xz+OGHH3Do0CFER0ejcePG4Nq1atXKPBoUFIRp06ahU6dOto3RU0MSINmKV42LgAiIgAj4QOD0kr+wu2/fDJ+oMnYsil3WEol79yJm/AScmDoVqSdPOv5uFimCqI63mWxWhWvV8qHX/FlVAiQX1i1QBQgPo1999ZUhevDgQQwbNgz//PMPdu/ebZlydgkQHpg/++wz/Pe//zUHeq7B33//jdjYWAwZMiRPCJCRI0fi4YcfRu/evdGnTx8jCA4cOIBly5bh66+/xvLlyy1z9LWiLwLkqquuQlJSEl5//XVUr17diJCffvrJCM1bbrlFAsRX+KovAiIgAiIQEAT2P/MsYmfMcLlQnTepoCAUu+IKBBUujFOLFgFpaebjsMqVEd3zLpTo0gUhkZEBwcHKJCRArFCyuU62CpBj24CEuIxHXDgCKFXD5hkBtIDQJYjuU87y22+/mbf2fGNeunRp8+OnnnrKvBnfu3cvypUrh549e+L5559H2L8X5jgFyIABA/DKK6/g2LFj5lA7evRolChRAr/++ivatWuHPXv2mOed5bHHHjMHdX7uqfCtfufOnfHCCy94/NzdgsNKO3bsQNWqVbF+/Xo8/vjjpu1ixYrhhhtuwHvvvYeLLrrIJVwaNmxo/v+4ceMQEhICjv/ll182lgArhSKtZs2aRoC8++67FzxC/1BnW+4uWNu2bTMiasmSJTh9+jTq1atnxMF1113naofz6N+/P7Zu3Ypvv/3WWC0oEPkzFvdxXnPNNfj5558vGAfXmM/yM9bxVNgXrUzOcvHFF4MCh2XWrFnGUrJu3TpUqFDBCK2hQ4ci9N9bWTkOCrGZM2eaPrjGtFx17drVY1+ygFjZXaqTXQRSUtOwdMdxHI6LR5mIcLSsVhIhwdZ+57NrTGpXBEQg9wic/mspdvfpY2kAxVq3RnTvXih+9dUICg629EwgVZIAyYXVzDYBQvHxUTPvM3pkhe0ixF2AnDp1yhza+WZ806ZNCP73l4uiom3btubwuWbNGvTr188cnp988kkzbh5O3377bVx22WXGFYms7rvvPrRs2RLjx483derUqYP7778fTzzxhPnv5ORk46r0xhtvuNyp3CG0b9/euC599913LjGUvg4tITfddBMoJF566SXzEUUTxRPf7HOcd999t2mDIop9Lly40NSj6xatExwnhQctKzzY05WLz1kpFDTkQItHemHl6Vl3AbJ69WojPq644gqEh4cbNzOyI/cqVaqYJigK6LZFUUQBRQ48+FMI1K1b14g3Mv7xxx/RoEEDFCpUCHSjcy+cNwUI+ZN34cKFL6hz5MgR4x5Gaxi5U5CR5fz589GtWzd8+OGHoBWFwomcuHecwpACpFSpUqZtitdvvvnGiCnuFQor9yIBYmV3qU52EJi39gCGz1qPA7HnAk3LR4XjhQ710b5h+ezoUm2KgAjkAwL7hjyGk/Pnnx8D8u+4g4sWRVTnzoimm1X1avlgNtk3RAmQ7GObYcvZJkD2rwI+8/xW+rzB9P8FqJC5n7+vWHiI5Nt/HoBZ+Ca+fPnymD17Npo1y1gUvfXWW5g8ebI5tLNQgFCk8I15pUqVzM/mzZtnrCD79u1zvRHnIZyWCZYZM2agV69exu2LFgpPhXXvuOMOcyjnAZuH9Y4dOxrR4SyeYkBonWE8Bg/PzkLrTeXKlU1bjCPhcxQqPMw7LQlPP/20eYvvHKM3nhQuEyZMMC5hzjJ16lRjIXCWxYsXo1GjRrAShM45sk1aVFgoQHjo54GehRYVCp3hw4fjwQcfNLytxoBwXBRWFGNcW1pCunfvfl6sj6cYEAoK8n7mmWdcc+Keofjcv3+/+Rmf43hGjRrlqnP55ZebfmgZcS8SIN52lj7PDgIUHwPGrYDDgeJccdo+RvVqJhGSHeDVpgjkcQJpqamInT0HB55++nw3rKAgXPTwwyjZ526EFC+ex2eRM8OTAMkZzuf1EqgChALBeXA8fvy4OTAyUHnp0qWgGw4L37zTMkBXIFpJ+EY9MjLSHOBZKEAY77B9+3YXMx7K6X7ldPthXYoTukTxcEohQXeoL774wjxTPN0vN4XJJ598Yn6emppqLBW///67eZbuQBROn3/+ufnckwCh8Pnf//5nLALpCwXW3LlzzYGazzEW4ssvv3RVoSii4OEBmRYAb4ViYSLzfqfLbEU+FFXkyj6cAeLuAoRjoZCg2ONBnkwpDuiWRvclFgoQBrI7rUb8GQPHb7/9duMC50mA0IUuvUD79NNPjcscC+fFzymKKBC5xuRIniyeBAjFIdcgPQ8mB2BbnEPRokXNc7Tg0NrkLI8++qjJisYAffciAeJtZ+lzuwnQ7erKEQvPs3yk74MipFxUOH5/qq3cseyGr/ZEII8SSDl1CrHTpiNm3DgkpnNBdg639FNP4qJ/E97k0Snk+LAkQHIcOYxbUVRUlHnbzcO3s2T5MJXLFhD3GBAeLjlPpoylVYNuQldeeaU5LN94443ms0mTJhl3IefB25MAcfL65ZdfXJmgeHCm6KBLEd2vKE5at25tUFLcOAv5ZpQtim/fGfBNscO3/54ECA/gPBiPSHehkLNtWnh4qLZDgDDug4LBkwuWuzhwFyAPPfSQsdDQdY1xJMzwRfHDcTkzelGAcB34z1kYF8MsVWTuSYBQxFD8OEvZsmURERHh8TeGLlkUas7YD08ChOPi2nfp0uWCNijg6KaXkQChm5nT5S39w1n+ncmF3391mb8JLN52DD1GL/E6iYn9LkerGqW81lMFERCB/EsgYfsOk0I3dto0MKUuS3Dx4ojq1BGnfv4FSXv3+n0Tev6lYm3kEiDWONlaq6AIEL7tpuWC7joUGfxHqwh9/52FB1daRdILEIoVBmUzToSFh+ubb77Z5YLFn9GyQrcfxpkwNmTjxo0+r9GKFStw6aWXmvgCxn4wNoLxJR999JGrLcZJ0OVo7dq1rkBp946cLljp3a3oZkQriFUXLGcQOq0UjAdJX7wJELplMbaCmb5YaDmhhYjWCKsChJYTCjm6wpGJr4UC6rXXXsPRo0fNo7QY0aJDoegsFIiMN3Faqjz1QQFCa1B6dyum9m3atKlcsHxdFNXPFgIzVu3DoEne7yn6oHsTdGxSMVvGoEZFQARyjwDdrE79+itixo3H6d9/dw2kUPXq5qbyqNs6IqR4MZxeuhR7HxqIyqNGomiLFrk34DzaswRILixMoAqQ9Gl4Y2JiTMpbumTxzTUP6U63JMYh8I6QOXPmmDfitJSkFyB8k89DJ/+XrChSGAPAA62zUNzwrT77ZNA4A8MzK7QI8ADM2A/GPjDDFUUCXcUYu8EsTAyIpqvPlClTjBsXg7DpAkVLAeMc6L5EqwstLLTcMDMX3YmcQegUWrxXhMLGKbr431YLhc+gQYOMVYbigVYZjo+WGooSpjT2FAPC7F4UKQz65gGeQoQWoXvvvdeyAHG6wlFwkTdjeWihci/MSsaMVGybwfm0iFC0PPLIIyZOxykuGBvDLFx072KgOgPXKSRvvfVWE/zONmjx4JwoACk6WTh+MqbFidYyikt+xjr169e/YDyygFjdXapnFwFZQOwiqXZEIH8RSDl5Eie+/x4xEyYiyXm9QFAQil97rREeJsWuW+bLtORkBP2b5TF/zTb7RysBkv2ML+ghUAVI+osIeTDl224Kg/RvwRlwzFiJhIQEc2BlDAddgNILEKby5cGdB08ewGn9YHwBD7HpCw+3fOvOlLx0h8qsUCxQwNCSQdc3ihBm42LfzviUzZs3m6BvuvvQ/ciZhnfLli1mHoxB4LhZn9md+NafXzYUIAz6pihiIDlFCcfPsTm/jNgPXaec6WgzGiuzULFdBr5znzAjFMUYA7Pptsbi7oLFNikI6OLGwzvHylS76S9V9OaCxXbJmGKOblcMWPeUhpfz51wWLFhgLFm8D4QB+RQUzz77rHH/YmF8DbN6cWy0rDjnTRHCPhjPwtTL3CMUPM5sYeT18ccfm3TOjNPhOjEjFq1dnooESC58gRXwLhUDUsA3gKZf4AgkbN2K43SzmjETaU43q8hIlLj9dkTf1QOFKlcucEzsmLAEiB0UfWwjEAWIjwhsqc5DKy0gzDaVm8XKDerO4GyKB5WMCfh6g7oEiHZTbhCYvHQ3nvp+zQVdKwtWbqyG+hQB+wmkpaTg1M8/4/i4cTiz+FzMV+FaNRHdsxeibusAptRV8Z+ABIj/7Px+MtsESC7eA+I3DD8epAWD91bcdtttxq3r+uuv96MV+x6xIkDoTsU3+rQWqEiAaA/kXwKr9pzAg98sx8GT8aDgSJ+KV/eA5N911chFgARSTpzAial0s5qAJGcSluBgRLRra4RH0ctaWr5gWEQzJyABkgs7JNsECOeSSzeh5yRGHviZ9pVuTu4B2zk5DmdfVgRIbowrP/YpC0h+XLWCM+Zv/96DodPXIjE5FTXLFMcnvS7FkbgE3YRecLaAZhqgBOI3bTYpdGNnzUJavONy0ZCoKJTo1hXR3bsjrKISSti99BIgdhO10F62ChAL/auKCAQKAblgBcpK5u15JKWk4tU5GzDmz51moNfVK4v37myMiPCwvD1wjU4ERCBDAgwQj1u40GSzOrN0qate4bp1UbJ3L0TecguC/71cWRjtJyABYj9Try1KgHhFpAoiYImABIglTKqUBQLHTydi4PgVWLz9mGllULta5l9wsDPiIwuN61EREIEcJ5AcE4MT332HmIkTkbz/gKP/kBBEXH89SvbqiSKXXio3qxxYFQmQHIDs3oUESC5AV5cBSUACJCCXNc9Mat3+WPT/ejn2nTiLYoVC8O6dTXBjg3J5ZnwaiAiIgHUC8Rs2mKDyk7PnIC0hwaE7oqNRols3RHe/E2Fesmla70k1rRCQALFCyeY6EiA2A1VzBZaABEiBXfpsn/is1fvxxHerEZ+UiqqliuKzu5ujdtmIbO9XHYiACNhHIC0pCXE//YTj34zD2eXLXQ0Xrl8PJXv1RuQtNyO4cGH7OlRLlglIgFhGZV9FCRD7WKqlgk1AAqRgr392zJ73fLw1fxM++WWbaf7q2qXxUfemiCqqeI/s4K02RSA7CCQfO4YT336LmImTkHzokKOL0FBE3nADonv1QpGmTeRmlR3gfWhTAsQHWHZVlQCxi6TaKegEJEAK+g6wd/6xZ5Lwn0kr8cvmI6bhB66ujifb10WI4j3sBa3WRCCbCJxds9Zkszo5dy5o/WAJKVUK0Xd2Q4k7uyOsbJls6lnN+kpAAsRXYjbUlwCxAaKaEAEAEiDaBnYR2HIoDv2+/hs7j51BeFgw3ryjMW5rXMGu5tWOCIhANhFIS0zEyQX/M8Lj7KpVrl7CL7nEBJVHtG+P4EKFsql3NesvAQkQf8ll4TkJkAvhWblLI/0dETt37gQv91u5ciWaNGmShdWw71Hedn7ixAlMnz7dNGplTvb1XjBbkgApmOtu96wXrDuIRyevwunEFFQsUQSf9r4UDStG2d2N2hMBEbCRQPKRI4iZPAUxkych5chRR8thYYhs396RzapxYxt7y8dN5dH74SRAcmFPBaIA4eF77NixhmZoaKi58btLly4YPnw4ihUr5pWylcN6egGSkpKCI0eO4KKLLjL9+VvGjBmDwYMHG+HgXny9NHowUgAAIABJREFUFE8CxN9V8P85CRD/2elJIDU1DR8u3IL3f9xicFxevSQ+vqsZShVXUKr2hwjkVQJnV6/G8XHjcXLePMDpZlX6IkTf2d24WoWWLp1Xh57z46L4+KiZ934fWQGUquG9no01JEBshGm1qUAVIIcOHcJXX32FpKQk/Pbbb7j//vvRp08fjBo1yisaXwWI1wYtVpAAsQgqj1aTAMmjC5MPhnUqIRlDJq/CgvWOANW+V1TF0FvqISwkOB+MXkMUgYJFIDUxEXHz5hnhEf/PP67J08oR3bs3Im+4HkFys7pwU+xfBXx2jffN0v8XoELOepNIgHhfFttr5JQASUtLw7pj69CgVINsz/bg/vaf0Pr164fZs2fjwIED+OWXX/DEE09g9erVKFmypBEmr7zyist6QQFyySWXIDw8HJ9//jkKFSqEBx98EC+++KKLvzcXrJkzZ+Kxxx7D3r17cfnll4Nj4r+YmBiUKFHC4zr6IkD27duHIUOGYMGCBQgODsaVV16JDz74AFWrVnUcYLy4YLEeRdnmzZvx/fffo1SpUvjwww9xxRVXmJ//9NNPxq2MIq558+amzWPHjuHhhx82gu748eOoUaMGnn32WfTo0cM1HyvsbN/EeaRBCZA8shD5bBg7j5428R5bDp9CoZBgvNK5Ibo1r5zPZqHhikDgE0g6dBgnJk9GzOTJSDnmuAw0iG5WN9/syGbVqGHgQ8jKDCVAskIv8J7NKQEya9ssPPv7s3jtytfQoUaHbAXpSYD85z//wYQJE4zoqF27tjmgP/LII9i4caMRJwMHDnQJDB6iGc/BA/5dd92FxYsXm/rz58/H9ddf7/jSCQrCtGnT0KlTJ7jHgPC/2cegQYPMYZ5tPf7446BosEOAnDlzxsSaXHXVVcZli25fFFDLly/HP//8YwSTFQESFxeH1157DW3btsV7772HcePGoXXr1rj33nvRuHFjPPXUU9i0aRPWrVtn5svxT5w4Eddddx0iIyMxZ84cPProo/jjjz9w2WWXGS5W2GXr4udi4xIguQg/n3b986bD+M/ElTgZn4yykYXxae/maFLZ8wuKfDpFDVsE8jUBvjw9u3KVI5vVggVAcrKZT2jZsoju0R0lunZFaKlS+XqOOTZ4CZAcQ50vOsoJAZKcmoxbp92Kfaf2oVLxSpjVeRZCg/2PlfAG1v3wvXTpUtx8881o164datasialTp2LDhg0uS8zIkSPNYTs2NtZYE3iIZlwH3/Q7S8uWLc1B/Y033vAqQJ5++mlzOF+zZo3r+WHDhuHVV1/1KkDuuecej3Eqp0+fdgmeL7/8Em+++eZ5c0hMTDSWFQad33DDDZYECAXMN998Y8Z48OBBlC9fHs899xxeeukl87MlS5agVatWxmpUrpznG5dvueUW1KtXD2+//bZLgHhj52398uvnEiD5deVyftw81Hz263aMmLcRqWlAsyol8EmvS1EmMjznB6MeRUAELiCQmpCAk3PmGuERv3696/Mil17qyGZ13XXG+uGppCUnIygL8aABuxwSIAG7tH5NLCcEiNP64RxgdltBKED4Np8uVMnJySYOpGPHjvjkk0+MK1VUVJRxLXIWWkVoUdi1axeqVKliBEiDBg3w8ccfu+rwebop8fDPkpkFpHPnzoiOjnbVZX26ZLENpwWkePHirrZ79eplxkYXLFpqVqxYccFa1qpVyyVAaK359NNPzfzSF1pGOOYBAwZYEiBsh65oLDwQUXxNmTIFXbt2NT/bsWMHqlevbqxGdEmjsKAAmzx5srGGJCQkmH+cL59jscLOr42aDx6SAMkHi5QHhng2MQVPTf0HM1fvN6O5s3llvNSpAQqHhuSB0WkIIlCwCSQdPGguDDwxZQpSYmIcf+8LF0bkrbegZK9eCK9XL1NAp5cuxd6HBqLyqJEo2qJFwYbpPnsJEO2H9ASyW4A4rR/7T+1HGtIQhCBULF4xW60gFCA8IDPgPCwsDBUqVDD/y+JJHKxatQpNmzbF7t27TcYsT0HodLWihYEiwZsAYV2KlS+++MKFesaMGcZdyylAtm7d6vqM7kxlypQxbVvJgkWBQZEyfvz4CzZz6dKljcCy4oLFvvjPWdwzbbm7ltHqwn/vv/8+GjVqZCw1ThewzNL9urML1N9ACZBAXVn75rU35gz6f70c6w+cRGhwEF7oUB+9Lr842+Pi7JuBWhKBwCNg3KyWL8fxb8Yh7scfgZQUM8nQ8uUR3aMHSnS9A6HR0V4nzssGt3e4DYk7d6JQtWqoPnNGhlYSr40FYgUJkEBcVf/nlN0CxN364RxpdlpBPMWAOPsdOnSoRxcsuk0x/a3TBYsWER60ncUXAcK25s6da+IxnIWuTYzTsCMGZPTo0cZljAKB4sVTyQ4B0qFDByOUnMIqNTXVuF/xnwSILiL0/1uoYDy5eNsxDJywAsdPJ6JUsUIY2bMZLqsu3/GCsfqaZV4kkBofj5OzZ5tsVgkbN7qGSMsFg8oj2rX1yZXq2FdjcHjECFc7ZZ5+CqX69s2LU8+dMUmA5A73vNprdgoQd+uHk0F2W0EyEyC0jDBAnLEWzOjEIGsGirsHoWdFgNB1qU6dOiZA+7777gMtLM6MWBQ5tFB4KlYtIM4g9IoVK5p4jUqVKhnrDbNZ0aWK/50dAoTzYfzMpEmTjIvZu+++a1yv2rRpIwGim9Dz6ldcro+Lb1fH/rkTL8/ZgJTUNDSsGGmCzXnJoIoIiEDOE0hiQphJdLP6FimxsWYAQeHhiOrQAdG9eiK8Th2fB8UMWdtuvBFp8fGuZ9lmjfnzEVa2jM/tBeQDhzcCIx0JazItugfEG6HA+Dw7BUhG1g8nueyygmQmQNi3lTS8WREg7MOZhnfPnj0mkPvOO+80sRlnz569IHbDycOqAGF9Bo3TCkJLC7NZUYwwyJ7B4LSKZIcAYepdZshiit6iRYuif//+RvgweF8WEFlAAuMb0d5ZxCelYNj0tfhu+V7TcOemFfF6l0YID1O8h72k1ZoIZE6ALwLO/LUUMePHIe6nhbz50zwQVrEiou+6CyVu74KQDFLkW2G7b8gQnJy/wOW+ZZ4JCTE3oVd8x5GkpcCWg2uBVeOBfyYDZxzpi00p2wiocxNQvQ1QqKjjZ4UjcvwSQnare0ByYXdmlwDJyPrhnGJ2W0FyAWWmXTIDFgPNKUhUApOAYkACc139ndXB2Hg8MG45Vu85geAg4Nmb6+G+K6sp3sNfoHpOBPwgkHrmDGJnzkLM+PFI2LLF1ULRVpeboPLi116LoJCsvRA4veQv7M7E1arK2LEodllLP0afjx85cxxYOxVY+Q1wYPW5iRQvBzTpATTpCVxUK89MUAIkF5YiuwTIsoPLcO/8e73O6Msbv0SLcoGXKYKpfVu0aGGC0XlPBu8cocsX40BUApOABEhgrqs/s1q+6zgeHLcCR+ISEFUkDP+9qymuqlXan6b0jAiIgB8EEvfuRcz4CTgxdSpST540LQQVKYKoTh1RsmdPFK5Z049WPT+y/5lnETtjhsuqcl6t4GBEdeyICq+/Zlt/ebah1BRg+yJg5Thg4xwgJdEx1OAwh6WjaW+gRlsgJPuuYfCXjQSIv+Sy8Fx2CZDElEQs2rMI/N+MSqGQQmhTuQ34v4FWGC/BdLV0W2Jq3969e+OZZ55x3bYeaPPVfOSCpT3gIDBp6W48N2MtklLSUKdsBEbf3RxVSv3rXiBIIiACthJIf+eGcbNavNhkszr188/ML2/6CqtcGdE970KJLl0QkkHilqwM6vRfS7G7T58Mm6jy9VgUaxnAFpBj24BVE4DVE4GT+85xoItV015Ao65AsbydcEMCJCu/AX4+m10CxM/h6DERyLcEZAHJt0tny8ATk1Px0ux1GLdkt2nvpobl8HbXxihWOO+97bNlwmpEBHKZgPPOjYrvvYvEPXuMxSNx2zbXqIq1bo3o3r1Q/OqrERQcnK2j3TfkMZycP7/gxIAknALWz3DEduz64xzb8BLAJd0cwqN842xlbmfjEiB20rTYlgSIRVCqJgJeCEiAFJwtwmxWS3ccx+G4eJSJCEf1i4rh4YkrsGxnDIKCgMeur42BbWoq3qPgbAnNNIcJ8M6Nbe1vAjNamV+6f60dwUWLIoqXAdPNqnq1HBtVgciCRcZ7/nLEdaybDiSe+pdvEFCznSOuo87NQNj5lyTn2CJkoSMJkCzA8/dRCRB/yek5ETifgARIwdgR89YewPBZ63Eg9ly6TQaZp6YBEYVD8X73JmhXr2zBgKFZikAOE0hLTcXpP/7AodffQOL27a7eQ6KjcdGAAYjq0hkhxYvn8Kgc3eW5e0DoGpUQlzELqxmnTu53uFfRzerYuUuUUbK6Q3Q07gFEVcwV5nZ1KgFiF0kf2pEA8QGWqopAJgQkQAJ/e1B8DBi3Ag7P8gvLix3qo2/rnHvrGvjENUMRcBBIOXUKsd9PM9msEnftuhBL4cKouWBBrt65YW5Cv60jEnfsyP2b0Ck+PmrmfftkdOdGcgKw6QdHQPm2n4A0R9pihBUDGnQGmvYEqrRyWJ8CoEiAuC3ir7/+irfeegvLly/HgQMHMG3aNPBGbmdhwNXw4cPx2WefmRu2L7vsMnz88cdo0KCB5e0gAWIZlSqKQKYEJEACe4PQ7erKEQvPs3y4z7h8VDh+f6otQmgSUREBEcgygYTtO4zoiJ02DUypa0poqCPW4l+3K/OzPHLnhjMupfKokeCN6rlW/L11nClzV44H1kwBzsacG36VKxyio34noHDuWJiyk6UEiBvdH374waRwbdasGW6//fYLBMiIESPA+yV4gR1v92aKV4oW3u4dERFhaa0kQCxhUiUR8EpAAsQronxdYfG2Y+gxeonXOUzsdzla1cjbGV+8TkIVRCAXCdDN6tSvvyJm3Hic/v1310gKVa+OYldcgZhx4zIcXV64cyN9Zq5cw+iLAClRBfhnCrBqHHBwzbkhR1Q4d2dHqRq5NpWc6FgCJBPKQUFB5wkQWj8qVKiAwYMHmxuxWRISElC2bFlQmDzwwAOW1kwCxBImVRIBrwQkQLwiytcVZqzah0GTVnmdwwfdm6Bjk/ztD+11kqqQrQTyxAE2W2foufGUkyeNpeP4hAlI2uXIJkcXH14WGN2rpxEfB54dqjs3rKyNVQFS7Rpg159AapKjVV6LUPcWoEkvoEYbIDhrlzRaGWpeqCMB4oMA2b59O2rUqIEVK1agadOmric7duyIEiVKYOzYsR5bo0jhP2ch9MqVKyM2NhaR6fJjF/TD1LXXXosmTZrg/fffN6iqVq1qxB7/2V369u2LEydOYPr06XY3nWF7udFnjk0ulzoq6L8zuYQ9x7p9/3+b8f5P525SzqhjWUBybEkCsqM848KTg3QTtm7FcbpZzZiJtH/drIIjI1Hi9tsRfVcPFKpc2TWaAn/nhtV1sSpAnO0xZS5FR6M7gKIlrfYSMPUkQHwQIH/++Sdat26Nffv2GUuIs/Tv3x+7du3CfOaj9lBefPFFEzfiXnJCgOTUWx0erp0CLDQ01AisLl26mHkXK1bM0i9MbgoQjp+Ch2vla/n555/Rpk0b12MlS5ZE48aN8fLLL5v94iwSIL6S9V5fAsQ7o/xYg7Ef7/5vEz5edO5+AU/zYNRHOcWA5MclzjNjNkHMHW5D4s6duR/EnM1U0lJSzGWBx8eNw5nF51wbC9eqieievRB1Wwcwpa6nUuDu3PBnLawKkIa3A60HA+Uv8aeXgHlGAsQPAbJ//36UL1/e9WS/fv2wZ88ezJs3z2NruWUBycm3OjxcHzp0CF999RWSkpLw22+/4f7770efPn0watQoS78wdguQlJQUcydAsIfLkNzFgB0ChHFAtGgdOXLExAZRkG7evBllypQx85cAsbQNfKokAeITrnxR+WR8EgZPWoWFGw+b8V5Xrwx+3HAYFBvpM2E5Q85H9WqG9g3PfR/ni0lqkHmGQJ5L45oNZFJiY3Hiu6mIoZsV7/BgCQ5GRLu2RngUvayl1/tzCsSdG1llv28lMPpa7630/wWo0MR7vQCvIQHigwDx1wXLvYuciAHJ6bc6ng7XFGazZ8822cRYfvnlFzzxxBNYvXo1aCWgOOFBnRYTFm8C5N133zUCh+vA5zt06IA333wTxf/NP87EAHTXGjduHJ588klz+N+yZQuqVKli+v3yyy8REhKC++67z4glWqCcLljuAmTkyJF47733jLCMiorCVVddhe+++87jbnFaQJgVja54LGvWrMEll1yCmTNnmnGmFyBXXnkl3nnnHSQmJqJ79+7G5SwsLMzUYRuDBg3CrFmzjNveNddcgw8//BC1atUK8K8i/6YnAeIft7z61NbDp9D/67+x/ehpFA4Nxhu3N0LnppXg6R4QZr96oUN9iY+8upj5YFyBfqiO37TZBI/HzpqFtHjHHTrBUVGI7noHonv0QFhF3+KmCoJY82vbxu4FVk0Eln8FnPxX4GXWkASIoSMB4oMAcQahP/roo+aAy8JDJN9w57Ug9Jz+ovAkQP7zn/9gwoQJOHr0qHFbY9Yw1nvkkUewceNGUKAMHDjQ5fbkTYDwoE7XJrpK7dixAw899BDatm0LigUWChC6w7Vo0cKkUi5VqhQqVapk0iS/9tpr+OKLL1C/fn1z+J8yZYp51pMA+fvvv3H55Zfjm2++wRVXXIHjx48biw7n46m4C5AzZ85g2LBhRsAwq1r79u1dAoRpne+66y4jMrZu3Yo777zTCBCyYGE8EUXTp59+aqwpTHawbds2rF+/3iVS/PqCDNCHJEACZ2F/XH8IgyevwqmEZFSICsenvZujUaUo1wTdb0JvWa2kUu8GzvLnykz2DRmCk/MXONLLOkseSS3rLxC6XcctXGiyWZ1ZutTVTOE6dVCydy9E3nILgosU8av5PHXnhl8zsPGhpHhg05x/7+xY5Gaf9dJPRveA2Di8/NCUBIjbKp06dcocDFkYaM637vTv5xt3vkmn0Hj99dfNm3i+lebBlgfQvJSGNzfe6rgLkKVLl+Lmm29Gu3btMHnyZAwdOhRTp07Fhg0bXKZeCgcesGmJoJuUNwHi/gv17bffYsCAAUbgOAXIPffcg1WrVhmh4iyM1+GB35m5LDk5GdWqVcOll17qMQj9+++/B9vZu3evpdTKTgHijHWhAKFYZfuLFy92CQcyYl0KClpiWLp162bmPmnSJCM8KNKYBprCh+XYsWMmnobxNV27ds0P3yk5OkYJkBzFnS2dpaam4eNFW/Huj5vNFQMtq5bEyF7NcFHxwtnSnxoVARI4veQv7O7bN0MYeSG1rC8rlRwTgxPffYeYiRORvN/hdcB7OiKuuw4le/VEkebNvbpZWekvJ127rYwnR+vwC+rAKofoWPMtEB97rvuqVzluKC/XCEhNznhYVm9Cz9GJ5U5nEiBu3N0Dip0f012Ib9idFxHyDXX6iwgbNmxoeQWz2wUrN97q8HBN16fw8HDwgM84EL7N/+STT4yFiAHpdGWicHMWumIx6xUD+CnuvAmQRYsWGcFHawAZsh8eQCkaefjn+jAVMn/G2A8Wihu6RdH96+qrr3b13blzZ7OWnrJgxcXFmeBxuo7ResF/rF80g+A8555hdjSOY+XKlUbs0P0s/b4gI8aHzJkzxzUOCiO6ay1cuNC4a/HuGY7fKVBYkUKY/T///POW91hBqSgBkr9X+nRCMh7/djV+WHvQTOTuVhdj2C31USg0OH9PTKPP8wT2P/NsQKSWjd+wwQSVn5w9B2n/ZtsMiY5GiW7dEN39ToSli1e1a1FyKrmNXePNcjunjzru7KDwOLzuXHORlc7d2VGyWpa7KWgNSIDkwopnpwDJrbc6PFzTzYoB54xnoNXBGddAxDxAR0dHmzgMZ6Glgofr3bt3m7f8mQkQipS6deviwQcfNG5LtEj9/vvvJp7j/+ydB3hUVdrH/zOTMukNEiBAIKEltIQACrgIqIDSpYYEdFnRxbKfoC7Fta2K665ti6LougskVIGliIAIonRIg9AhQCCEJCSTXiaZyfe852YmhYSZTO7M3Jk553l4YM2557zndy7s+d/zFl3shS4GhNLr6popAoSeJXFDwmLv3r3s5oZuKU6ePKmP8aj/2jQVA0I3FhTfkpaWBldX4UtuU25qFLNCHGiMbdu2Ydq0afcIEBJpJEzeeOMNK7yt0p6SCxBp78/9rLuRV4r5q0/hUnYJnBUyvDupD2YN7my7C+KW2xQBW04tS65Qxfv2IT8+AeWJiXruyogI+M2ZA+8nHoe89v93bGpTpGSsphq4sg9IXgNc2lOvZocrED4eiIoDqJ6Hg9TsMMfWcAFiDqoGxjSnALHWVx1DGZ6ac8FasmQJq8dhyAWLRAAFbFNgti6rFR3w6VB+PwFCW6ErHqmL2yFxERoayqrdG1MHpLS0lAkPciWjm5zGrSkBotVqmYveiy++CIoZMkaA3M8Fa/Xq1Uyc8NaQABcgtvlG/Ho5Fy+uTUZheRUCvVyxIi4a0SF+trkYbrXNErC11LLV+fko2LgRqnXrUZ2dLXB3coL36NHwi4uDW1SkKG5WNruhYhiee0moTp66HiipZcwOElGC6KAUum783yoxUHMBIgbFFo5hTgFira86hgSILgidYivoUE4xM5Sm19ggdN1tCQVsU1YpipNYunQpu3UxJEAobod+URB6eHg4i+uhmIv6Qej1t5BcpyjTFrls0a3Nrl27mM2nT59G7969jRIg1Omf//wnuwWhgHly3zJ0A0LPTJ48WR+E7uXlBRJoFJPEg9Cb/kvGBUgL//Gxcndye/z613T85YcL0NYAkZ188dWcaAR5K61sGZ/eEQlYI17SFM7laWdZNqui778H3X5QUwQEwG/mDPjOnAnnoCBThuXP6AhUFAFntwguVrdO1nFxbwP0nyXEdgRFcF4iE+ACRGSgxgxnTgFC81vjq44hAUJ2tTYNL2WVouxWdGNC4iA2NhZz5841KEDoxuPVV19l8Sd0ezJv3jwWuF4/DW/9fSPXLspiRYKDDrh0k0E3OBQw3lRr6gaE+tHNCbmWkYig2xdjBIguDS/Fg1CGNVonCRmehpcLEGP+bZFyn4oqDZZsPo3/pdxmZk6P7oh3J/eB0llIyMAbJ2ANApbOGGnsGmvUahTt/ZEJj/KUFP1jyn79WFC519ixkLu4GDsc79eYgFYL3DgEJCcA57YB1eVCD5kC6D5auO3oMQZQCCnyeROfABcg4jM1OKK5BYitfNUxCIp34AQMEOA3ILbximQWlOO5NaeQllnEUue+OT6CBZzrkkXYxiq4lfZIQGqpZatzc6HasBEFGzaA/syaszO8x44VslnVy/Boj/th9jUVZAg1O1ISgIIbddO16SmIjn4zAS9+o2T2fbCnOiBUMO769eugFKht27ZlrjK64F9LgGzJHOYWIGSLVL/qtIQT78sJGCLABYghQtb/+fH0PDyfkIS8UjX8PVzw+ewBGBIWYH3DuAWcQC0BKaSWLU9NZUHlRbt3A7VuVk5t28J31kz4zZgB+jNvJhKoKgfO7xQCyq/9Ulezw9Ub6PMkEDUHCI4GarNnmjgLf6yFBGz6BoQyI1Ga13Xr1rGK1eRfrGsuLi6sejUVpqMMQrrA5RbyMUt3SwgQqX3VMQtIPqjDE+ACRLqvAP17HH/sBt7ZcQ7V2hr07uDN4j06+rlL12humcMSsEZqWa1ajeIffmDCo+LMGT17t8hIFlTuPfoxyLibVdPvZN5VoLK4+ffVxVOo00GiI20LUFmvZkfX4UBkHBA+AXDh/x5Z6y+9zQoQqp9APv2jR4/GxIkTMXjwYAQHB8PNzY1Vrqb0p1S9msSJk5MT60sVsqXQLCFAaJ1S+KojBd7cBvslwAWINPe2slqDt7adxfqTN5mBE/t3wIdT+8HNhcd7SHPHuFWWJEBu0gUb1jNXK01eHptaRm5WTzwhZLPqa3xdMUvaLZm5SHz8c0DLzPHpDETOFup2+HVp2bO8t1kI2KwAee2111hgL7lbGWqUxYhcs6SSxtRSAoS4WOOrjqH94D/nBMQiwAWIWCTFGyenqAK/j09EUkYB5DJg8dheeHZ4KI/3EA8xH8kGCdCNYHlyipDNau9eKjbFVuEUFAS/mFnwnT4dTgHcNdGorb2dAqx82HBXhQsQMRmIigW6DAfkvMCpYWiW62GzAsRyiMSfyZICRHzr+YicgHQIcAEinb0gS5IyVPj9mkTkFFfCW+mEf84egId7GP5IJK1VcGs4AfEIaCsrUfT9LiY8Ks6d0w/sFh0tZLN69FF2+8FbCwgYK0Ce2gl0/U0LBuZdLUmACxBL0q6diwsQK0DnU9olAS5ApLOtG0/dxJ+2pkGt0aJHkCdWzhmILm08pGMgt4QTsCCBqjt3WMFAKhyoUanYzDJXV3iPHwf/uDgow8MtaI0dTVVeABz+DDj0qeFFPXsQ6BBpuB/vYRUCNitAoqKijL7ST0pKsgrc5iblAkRS28GNsWECXIBYf/OqNFq8t/McVh0VUlqOjgjCJzMj4enqZH3juAWcgAUJMDerxETkr4lH8b59gEbDZndq3x5+s2PgO20anPx4Fe0WbwnV7Lj2s1Cz48JOoLrCuCG4ADGOk5V62awAeeedd/TI6BDyxRdfICIiAkOGDGH//dixYzh79iyef/55fPDBB1bC2/S0XIBIaju4MTZMgAsQ625eXkklXlibhGPp+cyQhY/2wEujukFOwR+8cQIOQkBbUYGinTtZNqvKCxf0q3YfPBh+5GY1ahRkTlyQt/h1UF0HUtYKvwqFhBas+XUFVNcMD8cFiGFGVuxhswKkPrNnnnkG7du3x7vvvtsA5VtvvcXS83777bdWRHzv1FyASGo7uDE2TIALEOttXlpmIZ5bkwgqMujhosCnMyMxunc76xnEZ+YELEygKjMTqnXrULDpO2gKhTTWB5CXAAAgAElEQVSvMqUSPhMmMOGh7NnTwhbZwXTqMuD8diA5Hrj+a92CXH2AvtOEgHLIga9HGF4sFyCGGVmxh10IEB8fH5w6dQrdu3dvgPLy5csYOHAgCmv/YbAi5wZTcwEilZ2wnB1PP/00CgoK8L///c9ykzrATFyAWGeTt6VkYvHm06io0qJLgDu+njsQ3YO8rGMMn5UTsCABcrMqO34CqoR4FP+0HyD3ICpWHhwMv9mz4Tv1SSh8fS1okR1MRTXcbp2qq9mh1tX3kAGhI4QK5b3GAc5uwmKNDULnAkTSL4ddCJB27doxN6vf/va3DWBT7Y8lS5YgOztbUptgjwKEDtirVq3Cc889x4pD1m/kBrdixQo89dRT+O9//8t+RDdTb7/9Nn744QfcvXuX3WBNnjwZb775JgJqUxH27dsXDzzwAL755pt79o/qu8ydOxe3bt1CUFCQSfvbpUsXvPzyy+yXrpF99L9JLIjZuAARk2bdWFyAmIdrc6NqtDX46+4L+OqXdNZlRM+2+PusKPi48Sw+lt0JPpulCWjLylC4YyfLZlV5+bJ+evchD8J/zhx4PvwwZApe56ZF+1J8B0hdD6QkAHcv1T1KdToiY4H+MYBvp3uHNLYOyEtJQEBYi0zinS1HwC4EyF/+8hd2mCVXrAcffJDRoxgQcr2iAy2JECk1exUg+/fvB60tKyuLFYSkRgdEEhfe3t4YOXIkEyDp6eksVqdHjx5477330LVrVxavQ7Vd1Go12zt/f3989tlnbP/u3LkDd/eG1Uofe+wxeHp6YuvWrSZvLRcgJqOTzINcgIi/FSQyTlzLR05xBQK9lBjc1R8KuQwFZWq8tC4Zv16+yyZdMCIMr47uyX7GGydgrwTUt25BlbAWBZs3Q1tUxJYpc3eHz6SJ8I+NhWu3bva6dPOsq1oNXNotiI7LPwI1QqA+nN2BiEnCbUfnoYZrdhiqhO7qxcWHeXZQtFHtQoAQjY0bN+Lvf/87zp8/z+CEh4eDqqXPmDFDNFhiDWQpAUJXxbcvFaBDD1+jM4aZukbdF34SF4sXL0ZsLPlpAmvXrgUJxNDQUPj6+jIB8vjjj7NK9ZcuXdILFepLQiMsLIzdbNCNSV5eHjp06ICVK1ey2xNdy8jIYKJl27ZtGD9+fJMmX716FYsWLWJiprS0lL0PdEv26KOPsv4jRozAwYMHGzx74MABJpLqN4ojInEbHx/PBNHFixfh4eGBUaNGsf8dGBio704iiopj/vrrryD2kZGRbL20psY3IImJiYwDvaOvv/66qdgd/jkuQMR9BXanZeGdHeeQVViXZaa9jxLP/KYrVh+9gRt5ZXBzVuCv0/phQv8O4k7OR+MEJEKAuVkdPcqCyksOHADIRYjOyJ07C9msnnwSCm9viVhrI2bcSRNEx+kNQJlQ/Z21Tg8IooMKBio5UxvZTVHMtBsBIgoNCw1iKQFyIy0PO/+VivEv9UdIb/NWWNUdsB9++GF8//332EcpCAF24CeR8PPPPzMB8sknn6BNmzZ4//33sXTp0nuIP/vss/juu++Y+JDJZExA5uTksOd1jTKgffXVV8yNS9HMlXdqaioTH0OHDoVSqWTuYR9//DETEJ07d0Z+fj769+8Pmm/+/PlsaLp1IeFDty7UjxrdstAvuk2jm5yePXsyexYuXAg/Pz/s2rWL9cvMzES/fv2YsKF10Y3P4cOH2fz0TH0BQmshdzMSRAsWLLDQW2ef03ABIt6+kvhYEJ8E4ajVdOvo58bqe0R04AcF8cjzkaRCQFtaioJt29iNh/rqVb1ZHg89xILKPYcPh4xX0zZ+u8rygbTNQkB5Vkrdc57tgMgYwc2qTcPYXeMH5z1tnYDdCBDy2aeDK32Bf/XVV9lhkup/UHxAcHCwpPbJUgJk/+rzOH8kC+HD2mPUHPMWPdIdsCleo2PHjrhw4QITEL169WJCgdzjSIDQgZvc5Mh1ig7hjdunn37Kbi4oboduF3bv3o0nnngCV65cYbco9GWKfo+JicHy5ctbtK+9e/dm87/44ovsuda4YJ08eRKDBw9GcXExEyjLli3D+vXrmXBxbqKqrY4PxSnNmTOHCShaA2+tI8AFSOv46Z4mt6uHPtzf4Oaj8cguCjkOLxmFtl6u4kzKR+EEJEJAfeMG8hMSULhlK7QlJcwqOblZTZkCP3KzCu0qEUutZEZL3J20GiD9QF3NDo1aMFruDPR8HIiaA4SNAhQ8LbGVdlMy09qFADl9+jT70k7ZsK5fv84OgXRIfeONN3Djxg2sXr1aMsDJEHMJkBptDdJ+yURlWTVbb9LeG6iq0MBFqUDU6BD231zdndBneDBkIvtt1//CP3XqVHYbQGKBXK1IGJLYMEaA0A3JK6+8wm4Z2rZtC61Wy4QCuWBRmuWffvqJ7TW5b+mynpEA0LW4uDgWBE9uV3RTsnPnTty+fRvV1dUoLy9nY//1r39tsQBJTk5mrlgpKSns9oTsKisrY7ErVH+GRBLZSzctTTXis2fPHuTm5mLTpk2YMmWKpN5JWzWGCxBxdu7o1TzEfH3M4GDr5j+IIWHmvU01aATvwAmIQKBGq0Xp4cPIj49H6S+/6t2sXLp0YaLDZ8pkKOr9f4sIU9rmEMYGfM/5H3D9EJC6DijKrFtrUB/BxarvDMCD/9thmy+Beay2CwFCB9IBAwawg6WXlxfI/YYEyJEjRzB79mwmSqTUzCVA1BXVWL3siF6AyORAjRbQ/a4TIHOXD4WLUtyvD/UFCLlg6W4ZPv/8c3Y41wkQcoOigzoFn9OtQePW2AWLfk4uURRLQftI8SF0o1I/foNuR3SNXJ/o5oQyb9GB/6OPPkK3bt1YrMm0adOYixTFblAz9gaExAz1HT16NH7/+98z+ykOZcyYMSBhQrEeJLpICN1PgJCddFNH8SubN2+Gi4uLlF5Lm7SFCxBxto3S6v7f+nouEs0M+/dZkZgUKa0bZXEI8FEchYCmpITddKgSEkA3H7rm8fBw+MfFwWPYMO5mVf9lMDblbf1nlL5A3+mC8GjfH5DxRBWO8verJeu0CwFCNx/kbkXBvvUFCN1+kP89HVKk1MwlQGiNxfkV2PtNGu6kC9k66rd2od4Y/UwfePkrRcdRX4BoNBoWZ0GNDuoUp6ETICQk6OBONwdUp0WXLYv6Ng5C1xl57do1treUaIAECN1w0O/3a5TCl+JH6BaMWklJCXMNIzt1AoSycFHaYLoV0TUKmqf/Rq5VukYB41RPhtbSqZOQEpCC0smVSidA6LaFxIchFywKqCcRRO8lracpdy3RN8eOB+QCRJzN5Tcg4nDkoxgmUFNdbZWq4JXp15joKNy6FZRSl5rc05PV7aD6HS4hgpeAlJq1WDVgYLQAkQmuVSQ6ej4BOIt/zpDS3nBbWk/ALgQIxXlQrEBUVFQDAbJ371787ne/Y1/MpdTMKUBonZpqLb5Z9Auq1UKBJGpOLnI88+lwKBRys6BonOWJ1kiNbiSo1RcgJDwoOJsyUzVOw1tZWalPw1vfULrlIpFJ4obS/DZOy9t4UeTiRDcmVAuGYlFIiFDw97x58/QChG40SAB98cUXcHV1ZcHxdGs2bNgwFkRPQeo0D92AkHihjFV0A0JuZZQymNzAdAKEguZJVFAQPgWhkyimIHiKE2kchE5Ci7JtUUwKxY04OYl7G2WWDZbooFyAiLMx1Rotov78I4orBffNxo2+X7bzUeLQ4lE87a44yB1ylNITJ3Dr+RfQacUXcB80yOwMyM2q5JdfoFoTz9ytdM0lNJQFlftMnASFp4fZ7TBlAkuzatZGYwXI7E1Aj9GmLJU/46AE7EKAkNsO+dbTF2UKPqeYEN1X9+HDh+sPnFLZY3MLkNtXCrD1o6R7lvvkqwPQvpt5KrQaKrRXX4CQYXQ7RTEVJBzp8E7FJKkPpb3VFSKsvwAqPEjudLTXFMBtqJH4ILFBIoCEBaUGptgLcpfS3YDQz+i2g24tSPhQzAo1ClSnvmSXLg0vzU8uYyR+yN2PRMbEiRP1AoSeo/eOhMmhQ4fY+6dLw0vugI350Dh0E0J96NaluWxehtbp6D/nAqT1b0CZuhqvbTqN789kNSs+6Acr4gZgbJ/2rZ+Qj+CQBGqqqpA+YSLU16/DpWtXhG7fBlkTCTvEgKMpKkLBli1QrV2HqowMYUiZDJ4jRjDh4TF0qNlT07dmHZZkdV87qyuBY18A+942vBxeddwwI96jAQG7ECC0CIozILcecp2h2hH0lZmK3VGaVKrbIKVmbgFyZMsVJO/NQNfINhg2tRsOf3cF11LvImp0Zwx9khdNktK7wG1pHQEuQFrH72Z+GeavPoULd4rhrJBhenRHHLiYe08dkLcmRHDx0TrUDv903n/+i5wPP9RzCFyyGAFPPy0ql8qrV1lQeeG27ajRuVl5e8N36lRWv8Ol1oVW1EnNMJglWN3X7KxUIYvVmY1Aucq4FXIBYhwn3ktPwC4EiG41VImb3HQoQxF9pdYVnZPafptbgGRdKWCxIN0HBbGvPPRl//LJbBb7Ya4bEKkx5vY4BgEuQEzf58NX7uKFtUkoKKtCG09XdsMxqIs/mquEbvpM/ElHJ1CVnYOrY8agpl48pkypRNiePXAOqivmagqnGo0GJT//zIRH2dG6TG6u3bvBLzYOPhMnsJS6ttLMyeq+DKhmx+mNQEo8cOdMXVePtkBprmF8XIAYZsR7NCBgFwKEYjx0wcGN95fcbKjuhJSauQWIlNbKbeEEzEmAC5CW06UPEt8evo7lu84zsdGvow++mhON9j5uLR+MP8EJGEEgc9EiFO3ZC2g0db0VCniPHYvgjz8yYoR7u2gKC1Hw3Wao1q5FVWZt2le5HF6PjGLCw/2BwZJ2s2pu0eZg1SxgTTVwdb8gOi7sArRVQleFC9BrHBAZB7j5Ad+MMrxHXIAYZsR72J8AoWJ3VHW6cewA/bdx48ax1KdSalyASGk3uC22TIALkJbtXkWVBsu2nsGWJOHA9uSAYCyf0hdKZ0XLBuK9OQEjCZQeO46M+7hadV61Ch4PDDZyNKDi4iWoyM1qxw79jYrCxwe+06fBLyYGzhIrPGz0wgCIzarZue9eEURH6nqguF7sV7t+QqHAvtMAd3/hcWPrgLyUBASEtWS5vK+DE7CLG5D58+cz1yvKckRpeKn98ssvmDBhAgt0XrhwoaS2mQsQSW0HN8aGCXABYvzmZRWW4/drEpF6q5Blsnr9iXD8dlgXm/xKbPyqeU9rE7i9dBkKt20DtHVZGfU2yeXwmTQJHT5Yfl8zKR1t8f79UMUnoOzECX1f11694B8XC+/x4yFX2n7aVzFYNQuyshg4u1WI7bhZr+iomz/QbwYQGQu079f04y2phG7tF47PbzME7EKAkEvB9OnTWfVsSr179OhRlqGIUrxS6lSpNS5ApLYj3B5bJcAFiHE7d/J6PhbEJ+JuiRq+7s74fPYADOvWxriHeS9OoBUESo+fQMZTTzU7QufVq+AxuOkbkGqVCgWbvoNq3TpUZ9V+qVco4PXoo/CfEwe36Gi7EtCtYdUkYMrseOMIkBwPnPsfUCXUP2HVibs9BkTFAj3GAk6urdhh/ignYBoBuxAgtPSqqirmbkU1Gygd6gcffKCvxm0aGvM9ZUiAUNXt+gX6zGcJH5kTsG0C5eXlrN4LVZdX2sEXUHPsRsLxG3h7+1lUaWrQq50Xvp47EJ38bSco1xxM+JiWJZC56BUU7dljdAxIxblzyI9PQNHOnahRq5mxCj8/+M6YAb9ZM+Hc3n7TQbeUVZM7WZgJpK4VbjtU1+q6BHQTbjr6xwDe9svQsm83n81UAjYrQEhkNG6UgjcmJoYJEarloGv9+jVzrWgqtVY+1xx0KrJHxe0CAwObrIXRymn545yA3RGgWi1080lV7XktlYbbq67W4q3tZ7HuhFAHYVy/9vjbtH5wd+GFL+3uL4LEF2RMZieqfVG8bx8THuWJifoVKSMi4BcXB+9xT0Duav9f6o1h1eR2V1UAF78XbjuuHgAg1LWCiyfQ50khoLzTYFYPhTdOQAoEbFaAyOVyfYpZHUhdyln637o/0+90sJdSux90KlBHQfMkQqgKN9nPGyfACTQkQG6XZWVlTHz4+vqivR1/ETVl73OKK7AgPgmJN1TsvPHamJ5Y8HAY//fEFJj8GVEINFfbojovDwWbNkG1bj2qs7OFuZyc4D16NBMeblGRjvPe1sZa5G36Hjkr4vXcAxfMQcD0JwBXr4aB3uRidTsZSKGaHZuAisK6vQp5CIiKAyImAi7SqoUmygvFB7F5AjYrQKiStrEtJCTE2K4W6Xc/6HSwoiKKUsvcZREwfBJOoIUESHy0a9fOcQ4oRvBJvVmA59Yk4k5RBbyUTvhHTBRG9mxdrQUjpuVdOIH7EmDVvSdOgvraNVYJvf0Hy1Gwbj2Kdu0C/YyaIiAAfjNnwHfmrFbXB7G57aiXbapGC6T/0BbqYme4eFUh9PFcFrbBGmWbUvoApzcILlY5Z+uW6t0RiJwNRMYA/qE2h4Ab7FgEbFaA2PI2GQOdbm0oroU3ToATaJqAs7Mzd7tqhOa7xFsszS65X3UL9MTKOdEIbevJXyFOQBIESo4cwa0Fz7OK5JVXruhtUvbty7JZeT3+OOQuLpKw1eJG3E4BVj6sn7Y0xwW3fvVHp9/kwz1QiINhrctvgIyjgLZa+N8KVyB8vHDb0fVhQM5Talt87/iEJhEw5izckoFlNfQJ38KNAs6DgoIwb968BjN/++23yM3NxeLFiy1s0f2nExu6pBbHjeEEOAGLE6jWaPH+rvP4z+HrbO5Hw4Pw6cz+8FI6W9wWPiEn0JhAdW4uVBs3omD9BtCfWXN2ZoUISXi49e/PoTUSIASEbkL0Nx+NCXWIEkRHn6lCsUDeOAEbIyD2WdgqAoSyRq1duxZDhw5tgP/48eOYNWsWrl2rlwVCAhskNnQJLImbwAlwAlYikF+qxotrk3Dkah6z4A+PdMfLj3SHXM7jx6y0JXzaWgLlqalCNqvduylVJfuvTm3bwnfWTPjNmMH+zFstgSYESJNs+s4AHloIBEVwdJyATRMQ+yxsFQFC6TfPnz/PUnHWb+np6YiIiADVCpBSExu6lNbGbeEEOAHLETh3uwjPrjmFW6pyuLso8MmM/hjbh6fXtNwOSHsmKuAnc7Js1jOtWo3i3buZ8Kiol63SLTJSyGY1+jHIHNXN6n6vS2YS8PVIwy/UsweBDpGG+/EenIDECYh9FraKAOnevTveeustxMXFNcC9Zs0a9t9JiEipiQ1dSmvjtnACnIBlCOw8fRuvbTqN8ioNQgLcsXLOQPRs52WZyfkskidQeuIEbj3/Ajqt+ALugwaZ3V5KH1uwYT1UGzZCkyfcxsnIzWrcOCGbVZ/eZrfBJicoyABS1gKJ/wGK7xheAhcghhnxHjZBQOyzsFUEyIcffoi//e1v7NeoUaMY+J9++gl//OMf8corr2Dp0qWS2gyxoUtqcdwYToATMCsBjbYGH++9iC9+vsrm+U33NvhXzAD4uPN4D7OCt6HBWcapCROhvn6dZZwK3b6NiQGxG4V8licnQ0VuVnv3AtVCYLRTUBD8YmbBd/p0OAUEiD2t7Y9XVQ6c3wkkrwGu/VJXs8OYlXEBYgwl3scGCIh9FraKAKF/BJcsWYJ//OMfUNdWTSW3LAo+f/PNNyW3DWJDl9wCuUGcACdgFgKF5VX4v/XJ+PmiEMj73PBQ/HFsLyh4vIdZeNvqoM3V3BBrPdrKShR9vwv58WtQee68fli3gdHwj4uD1yOPmEXwiGW/Vcah/DzkZpUSD5zZDFTWq9nRdbiQ3erA+4ZN4wLEMCPewyYIiH0WtooA0ZEuKSlhsSBubm4gtyxXiVZNFRu6Tbxp3EhOgBNoFYErOcWYvzoR1+6WQuksx4dT+2FSZHCrxuQP2x8BkytpG4GiKiuLFQykwoEalYo9IXN1hff4cUx4KMPDjRjFwbqU5NTW7IgHci/ULd6nc13NDr8uQL06IPclRHVAAsIcDCJfrj0SEPssbFUBcuXKFVy9ehXDhw9nIoRuRqRYSVxs6Pb4YvI1cQKcQB2BH89lY+GGFJRUViPY1w1fzYlGn2AfjogTuIdA5qJFKNqzF9Bo6n6mULCUt8Eff9RiYszN6tQpFlRevG+fflyn9u3hFxMD3+nT4OTH08A2AKupAi7tESqUX95bV7PDSQmETxTS59KNh1xXXbD26dpK6M1uUuNK6C3eTf4AJyAdAmKfha0iQPLy8jBjxgwcOHCACY7Lly8jNDQUv/vd70CVkj/++GPpEAcgNnRJLY4bwwlwAqIR0Gpr8M/9V/DpvktszAe6+uOL2AEI8HQVbQ4+kP0QKD12HBlPP93sgjqvWgWPBwYbtWBtRQWKdu5kwqPyQt2Xe/fBg+FHRQNHjbJ4hi2jDLdmp5zzQHK8cONRWlvvhOwJHghExQo1O6iKOW+cACcg+lnYKgJk7ty5yMnJwTfffIPw8HCkpqYyAbJ3714sXLgQZ8+eldRWcwEiqe3gxnACkiRAtx2LNqRg77lsZt9TQ0Lwp/ERcFY0+moqSeu5UdYgcHvpMhRu2wZotfdOL5fDZ9IkdPhg+X1Nq8rMhGrdOhRs+g6aQiFOQaZUwmfCBCY8lD17WmNp4s8p1m1DeQGQtlkQHreT6uz0CAT6zwQi44DAXuLbz0fkBGycgNhnYasIkHbt2mHPnj3o378/vLy89AKEChD27dsXFBsipSY2dCmtjdvCCXACrSdw/W4p5q8+hcs5JXBRyPHe5D6YMahT6wfmI9g1gdLjJ5Dx1FPNrrHz6lXwGHzvDQi5WZUdP478+HiU7D+gFzDOwcHwmx0D36lTofD1tR92rY23IIF37aDgYnV+B1BdW2tM7gT0GAtExgLdHwMU4mces59N4CtxdAJin4WtIkBIdCQlJbHA8/oC5OTJkxg7dizIRUtKTWzoUlobt4UT4ASMJ0ApdU9cy0dOcQUCvZQY3NUfh67cxUtrk1BUUY1AL1d8OScaAzpzH3vjqTp2z8xFr6Bozx6jYkC0ZWUo3L4DqoR4VF6+ogfnPuRBFlTuOWIEZAqF/QE1tup444xTqutCzQ76VXizjkvbcCGuo99MwJNXd7e/F4avyBwExD4LW0WAjBs3DgMGDMC7777LBMjp06cREhKCWbNmQavV4rvvvjMHO5PHFBu6yYbwBzkBTsBqBHanZeGdHeeQVVj79RSAl9KJBZpTxs6ozr74Mi4aQd5Kq9nIJ7Y9AsZkwVLfvAlVwloUbNkCbVERW6TM3R0+kybCPzYWrt262d7CW2JxSwRImx7CLQfV7Lj+a90sFMvRZ5oQ29FhACCTtcQC3pcTcHgCYp+FrSJAzp07hxEjRiA6Ohr79+/HxIkTWdxHfn4+Dh8+jLAwaaWsExu6w7/FHAAnYGMESHwsiE9CTTN2DwsLwLe/HQRXJzv8+mxje2WL5jZVB8T/qadQeuQIKxpY8vPPYCoXgHPnzoKb1ZNPQuHtbYvLbbnNxgqQXuOFQoGVgkgDZEDoCOG2g37mzD8OtBw+f4ITEAiIfRa2igChhdy5cwcrVqxAYmIiu/WgG5EXXngB7du3F3Wvq6ur8fbbbyMhIYHNSeM//fTT+NOf/gR545R6zcwsNnRRF8gH4wQ4AbMSILerhz7c3+Dmo/GE7bxdcXjJI7zAoFl3wn4HZ5XQJ06C+to1OIeEsFsN1fr1UKen6xft8dBDLKjcc/hwyIz8/y67IWasANEtmOp0UFxH/xjAl8di2c17wBdiVQJin4WtJkAsRfH999/Hp59+ilWrVqF37944deoUfvvb3+K9997D//3f/xllhtjQjZqUd+IEOAFJEDh6NQ8xXx8zaMu6+Q9iSFiAwX68AyfQFIGC7duR9fqfWKrcmvJy1kVOblZTpsCP3KxCuzouOGMFSPcxwLA/AJ2H3luzw3Hp8ZVzAqIQEPssbDUBUlBQgBMnTrB0vHQDUr9Rml6x2vjx4xEUFIR///vf+iGnTp0Kd3d3rFmzxqhpxIZu1KS8EyfACUiCwLaUTPzf+hSDtvx9ViSvdG6QkjQ61FRXS6ImRo1Wi9JDh1g2q9Jf6uIVXLp0YaLDZ8pkKDw9pQHNmlYYK0AaB6Fb02Y+NydgZwTEPgtbRYDs2LEDsbGxKC0tZUHo9auf058pFkSs9pe//AVffvklqzHSo0cPlvJ39OjR+OyzzxATE9PkNJWVlaBfukbQO3XqhMLCQng7is+tWBvAx+EEbJzAwYu5eOo/Jwyugt+AGEQkiQ6lJ07g1vMvoNOKL+A+aJBVbNKUlKBwy1aoEhKgvnFDb4PHw8NZNiuPYcMcz82qqZ0oyxdqdpz4Grh70fBecQFimBHvwQmYSMAuBAgJgSeeeALLly9nNxHmbJQvfdmyZfjwww+hUCig0WhAbllLly5tdlqKGXnnnXfu+TkXIObcKT42JyA9AncKK/D7+ESk3Cxo1jjKpdPOR4lDi0fxGBDpbWEDi1isxYSJUF+/DpeuXRG6fRtkzpar/VCZfo2JjsKtW0EpdanJPT3hO/VJ+M2eDZeQEIkTtIB5Wg2QfkAoFHjhe0CjNn7Sl5KAAGklsTHeeN6TE5A2AbsQIB4eHjhz5gyrfm7utn79erz22mv429/+xmJAUlJS8PLLL+OTTz7BU80UgOI3IObeFT4+JyB9Aok38vH7+CTkFlfC3UWBMrWGcuo0yISlS+S5Im4AxvYRN4GG9AnZnoVNZZsKePppsy6E3KxKDh5k2axKDx/Wz+USGsqCyn0nTYLcw8OsNtjE4FRskOp1pK4DijLrTA7qI2Sx6jgIoMKBzTVXLy4+bGKjuZG2SsAuBMiTTz7Jan7MmDHD7PtArlNLlixhGbZ0jQLQ4+PjceHCBaPmFxu6UZPyTpwAJ2A1AutPZOCNbWmo0tSgZzjPstcAACAASURBVJAXvp47EOeyCu+pA9LeR4m3JkRw8WG1nTJ+YmPqbRg/muGemqIiFGzeAtXatai6WVsETyZjxQJJeHgMHdrA/djwiHbYo7IEOLdNuO3IOFK3QKUv0G+GkMmqfX9es8MOt54vyfYIiH0WtlgMyPbt2/W0c3Nz8ec//5llo+rbty+cG12BU10QsVpAQADLeLVgwQL9kB988AH+85//4NKlS0ZNIzZ0oyblnTgBTsDiBNTVWry78xzWHBP88h/v0w4fTe8PD1fhy2tTldAVcl7QzOIbZcKEmYsWoWjPXqMqjpswvP6RysuXkU9uVtu212Wz8vZmdTv8YmfDpZODp4WleiYZx4CUeCBtK1BVWstOBoSNEm47ej7Ba3a05iXkz3ICZiAg9lnYYgLE2JobFIROcRpiNar5sW/fPnz11VfMBSs5ORnPPvss5s2bx+JCjGliQzdmTt6HE+AELEvgbkklno9Pwonr+axI8qJHe+DFUd34V2rLboNZZis9dhwZ93G16rxqFTweGGzy3DUaDSsWmL8mHmXH6lI2u3bvBr/YOPhMnMBS6jp0K7otuFclJwD5V+tQ+IfW1ezwCXZoRHzxnICUCYh9FraYALEW1OLiYrzxxhvYunUrS/nboUMHlv3qzTffhIuLi1FmiQ3dqEl5J06AE7AYgTO3CvHsmlOs2KCnqxM+mxmJRyOCLDY/n8i8BG4vXYbCbduARinf2axyOXwmTUKHD5a32AhNQQEKNm+Gau06VGXWxi3I5fB6ZBQTHu4PDHZsAVtdCVz8QXCxuvoTUFObct/ZA+g9BYiKBToP4S5WLX7z+APmIEBJi87mnUXvgN6S+XsrJZvEPgvbvQAR4yUVG7oYNvExOAFOQBwCW5NvYcnmM6is1iK0jQdWzh2IboG89oI4dKUxSunxE8hoJukIWdh59Sp4DDb+BqTi4iWo4uNRuGMHaioq2CIVPj7wnTEdfrNmwTnYwb/kZ50WRMeZjUC5qu4lILFBLlYRkwFX/ndMGn87uBU6Ajuu7sCyQ8uw/KHlmBA2QRJgpGST2GdhiwqQ/fv348UXX8SxY8fuqadBKW6HDh2KFStWYPjw4ZLYeJ0RYkOX1OK4MZyAgxKo1mjxlx8u4JtD1xiBUb0C8dmsSHgrLZeW1UHRW2XZmYteQdGePSbHgFDxwuL9+6EiN6uTJ/VrcO3VC/5xsfAePx5ypdIqa5PEpFSz4/RGIbbjzpk6k7w6AJExgpsVT5Eria3iRtxLoFpbjfFbxyOzJBMdPTtix5QdcLpf1jULQJSaTWKfhS0qQCi4fOTIkVi4cGGTW/ePf/wDBw4cYO5SUmpiQ5fS2rgtnIAjElCVqvHSumQcunKXLf/Fkd2w6LEekPOAcrt9HUzNglWtUqFg03dQrVuH6qwsgY9CAa9HH2XCw23gQMm4a4iyeZQOt7K4+aHqp7vVVANX9wuig1ytdDU7FC5Ar3HCbUfoSECuEMU0PggnYC4CupsG3fhSuAWRmk1in4UtKkBCQkKwe/duhIeHN/kOUVpcqlKekZFhrnfMpHHFhm6SEfwhToATEIXAhTtFmL/6FG7ml8PNWYGPZ/THE315DQ9R4Ep8kJbUAak4dw758Qko2rkTNWqhGJ7Czw++M2bAb9ZMOLe3w3eGxMc/BxjexbitwPVfgNT1QHGtKKOnKGVuZBzQdxrg7m94HN6DE5AAAd1Nw+2S26hBDWSQIdgz2Kq3IGqNGo9vfhw55Tl6Qta+mRH7LGxRAaJUKpGWloZu3bo1+cpduXKFpeUtLy+XwCtZZ4LY0CW1OG4MJ+BABH44k4VXNqWyooKd/N1YfY9e7bwdiIBjL5VVQp84Cepr15qshE4/L963jwmP8sREPSxlRAT84uLgPe4JyF1d7Rfi7RRg5cMtW5+bP9BvphBQ3q5vy57lvTkBCRBofNOgM8mStyAkgi7mX8Sp7FPs1/Gs4yivvvcsbEmbGm+N2GdhiwqQsLAwfPTRR5gyZUqTr9yWLVvw6quvIj09XQKvJBcgktoEbgwn0AoCWm0NPvnxEv514AobZVi3APwrZgD8PIzLhNeKqfmjEiNQeuIEbj3/Ajqt+ALugwYx66rz8lCwaRNU69ajOjtbsNjJCd6jRzPh4RYVaV9uVs3tibECRCYHuj0quFj1GAs42bEok9j7y80Rl0Dj2w/d6Oa+BanSVuFc3jmcuiMIjuScZJTqa+I0vUZz22SIrE0LkJdeegk///wzTp48CboNqd/o1mPw4MEsRoRiQaTUxIYupbVxWzgBeydQVFGFl9enYP8F4Sr7mYe6YsnjveCkkNv70vn6miFAAeUyJyeUn0lj2ayKdu0C3X5QUwQEwG/mDPjOnAXnoEDHYmisAIndDHR/1LHY8NXaJYHmbj90ixXrxoFcqs7cPaMXHKm5qffccHg5e2FA0AC4Oblh9/XdzfIWy6aWbqjYZ2GL3oBkZ2djwIABUCgULBtWz5492Vel8+fP4/PPP2cFCJOSkhAUJK38+2JDb+mm8/6cACdgGoGruSUs3iM9txSuTnL8ZWpfTInqaNpg/Cm7IEDxHFQRnYRHeWqqfk3Kvn3hPycOXmPHQm5kjSi7AKJbRFUFcOwL4Kd3DC/r2YNAh0jD/XgPTkDCBJq7/dCZ3JobB3KfOp17mt1uJGYnsj9Xaiob0PBx9UF0YDQGthuIgUED0cOvB4tBoWxcuniUxvhaY1Nrt0Lss7BFBQgt/saNG1iwYAH27NkDKrBCjUTImDFj8MUXX6BLly6tZST682JDF91APiAnwAncQ+Cn89ns5qO4shrtfZRYOWcg+nb04aQclEB1bi5UGzZCtWE9NLlC9jM4O8N77Fghm1X//o5Hhv4/OCtFqE5+ZhNQUWAcAy5AjOPEe0mawMk7JzFvzzyDNn475lsMaie4azbXyH0qJSdFLzjotoMETv3mr/RHdFA0ExskOrr5doOc3BnrNTFtMriwFnYQ+yxscQGiW69KpQIFnZMI6d69O/z8/FqIwnLdxYZuOcv5TJyA4xGgf1P+tf8KPtl3CXS+GtzFH5/HDkBbL+6n7nhvA9gtR/6aeKEGSK2blVPbtvCdNRN+M2aA/uxwrfQucHqDIDxyztYt3yMQKK3LutMsFy5AHO6VsccFk1vUgZsHQL8311wULhjZaSTo9/qtSF2E5OxkIWj8zimczz8PTY2mQZ9A90C92CDh0dW7q8FYstbYZO49EvssbDUBYm5QYo4vNnQxbeNjcQKcQB2B0spqvPZdKnaducP+45wHQ/DG+Ai4OPF4D0d6T7RqNYp/+IFls6o4U1cUzy0yUshmNfoxyBzNzYpqdlz5UahQfmk3oPs6q3AFwscLAeWuPsA3owy/KlyAGGbEe9gVgYKKAuZKpctSRRmryF2qfqPUvfobjqCB6OjV0aDgsCVIYp+FuQAxYvfFhm7ElLwLJ8AJtJBARl4Znl1zChfuFMNZIcO7k/pg1uDOLRyFd7dlAlRssGDDeuZqpcnLY0uRkZvVuHFCNqs+vW15eabZnntREB1041FSm+GLRuoQJYiOPlMBt1oPBGPrgLyUxKuam7Yb/CkbIXC3/K4gOGqzVF0pEDIo1m8h3iHshkMnOtp72mFtoHoLFvsszAWIEX8ZxIZuxJS8CyfACbSAwKHLd/HC2iQUllcxV6sv4wYgOoQXQmsBQpvtSi535cnJQjarvT8C1YLftVNQEPxiZsF3+nQ4BQTY7PpMMryiEEjbAqQkALdO1g3hHgD0myXU7AhqRoy1pBK6ScbxhzgB6RG4U3qn7objzilcL7p+j5FhPmH6gHESHW3dHct9U+yzMBcgRvw9EBu6EVPyLpwAJ2AEATp8/vvQNSzfdR7aGqB/J198FReNdj4N03wbMRTvYmMEtJWVKPp+F/Lj16Dy3Hm99W7R0UI2q0ceYbcfDtO0WuDGIeG249x2QFfETKYAuo8WREf3MYATr33jMO8EX2izBDJLMvW3G3TLcavkVoO+lG2KslKx2412wi0HBZE7chP7LMwFiBFvk9jQjZiSd+EEOAEDBCqqNFi65Qy2JmeyntOiO+K9yX2gdFZwdnZMoCorixUMpMKBGpWKrVTm6grv8ePgHxcHZXi4Ha++iaUVZAAp64CUeID+rGttegqig248vKSV2t6xNoiv1toE6ENVRnFGA5eqrNKsBmZRNqpe/r2EoPGggaweB6XJ5a2OgNhnYasIkFWrVqFNmzYYN24cW9kf//hHrFy5EhEREVi3bh1CQkIktediQ5fU4rgxnIANErhdUI7n1iTiTGYhFHIZ/jQuHE8P7WJXAX82uC1mM5m5WZ06xbJZFf/0E6ARss04tW8Pv9kx8J02DU4SzqQoOpiqcuD8TkF0pB8EdMGwrt5AnyeBqDlAcDTluBd9aj4gJyB1AvTvRXphOrvh0AWO55bnNjDbSeaEiDYResERFRgFTxdPqS/NqvaJfRa2igChAoQrVqzAqFGjcPToUTzyyCP47LPPsHPnTjg5OWHLli1Whdx4crGhS2px3BhOwMYInLiWj+cTEnG3RA0/d2eWYndoWBsbWwU31xgC2vJyFO7cCVV8AiovXtQ/4j54MPziYuE1ahSraO4QjXJKZyYJouPMZqCysG7ZXYcLoqPXeMDF3SFw8EVyAjoC2hotLqsu62twkOjIr8hvAMhZ7oy+bfrqXaoi20bC3Zn/XWnJWyT2WdgqAsTd3R0XLlxA586dsXjxYmRlZWH16tU4e/YsRowYgdzchkq1JYDM0Vds6OawkY/JCdg7AfqqFX88A+9sP4tqbQ3C23tj5ZxodPLn/ydib3tflZkJ1bp1KNj0HTSFwkFbplTCZ+JE+MXGQtmzh70tufn1lOTU1ezIrYt1gU9nIHI2EBkD+EmvgK/jbBBfqaUJUIG/i6qL+hiOpOwkUF2O+k2pUKJ/2/6IbicU/iPxoXTisYGt2Suxz8JWESCBgYGsEnpUVBT7tXDhQsydOxdXr15F//79UVJS0hpGoj8rNnTRDeQDcgJ2TqCyWoO3tp3F+pM32Uon9O+Av07tBzcXHu9hL1tPArPs+HHkx8ejZP8BgIKqqVh5cDD8Zs+G79QnofD1tZflCutoLuMU1ejIOAZc/lEILNfV7KADVMQkIDIW6PIbQM7r29jXC8FX0xSBKm0VzuWd0wuO5JxkUOXx+s3dyR3kRqULGu8T0AfOCgdKQmGBV0fss7BVBEhsbCy7ASHxQTEfGRkZCAgIwPbt27Fs2TKkpaVZAKXxU4gN3fiZeU9OgBPIKarA7+MTkZRRwFzaF4/theeGh/J4Dzt5NbRlZSjcvgOqhHhUXq7Lte8xdAir3eH58MOQKexQaBpbc4P2OXhgbc2OJwElD4y1k1efL6MZApWaSpzJPaOP30jNTUW5Lqtb7TOezp4sUFwXNB4eEA4nuYO4Y1rpzRH7LGwVAVJQUIA33niDCY8FCxZg7NixDOdbb70FFxcXvP7661bC2/S0YkOX1OK4MZyAhAkkZ6iY+MguqoS30gn/iInCiJ6BEraYm2YsAfXNm1AlrEXBli3QFgnuEzJ3d/hMmgj/2Fi4dutm7FC22e92CrDyYcO2T18F9J5suB/vwQnYKAESFyQydIX/TueehlqrbrAaykgVHSikxCXRQSlyFXI7/DAh4T0U+yxscQFSXV2N999/H/PmzUOnTp0kjLrONLGh28SiuZGcgJUJbDp1E69vTYNao0X3QE+snDsQXdt4WNkqPn1LCdRUV+sDxcnNqvTIERZUXvLzzwAFVpObVefO8I+dDZ8pU6Dw9m7pFLbXn9zLTn0L7HrFsO3PHgQ6RBrux3twAjZCgNynUnJSWNA4ZapKy0sDxXXUbwHKgAY1OLr5dgOlyuXNegTEPgtbXIAQOk9PT+Zm1aWLbQTOiQ3deq8Pn5kTkD6BKo0W7+08j1VHhUq0A0P88O+nB8HHjfvzSn/3GlpYeuIEbj3/AoI//QS6Gw/11av6Th4PPcSyWXkOHw6ZI8QzqK4DKWuFuh2F9Wp23G9juQCxtdee29uIAAWIJ2cn612qKJ5DUyOk0ta1QPdAwZ2q9oajizdPqy61F0nss7BVBMjkyZNBv55++mmp8W3SHrGh28SiuZGcgBUI5JVUIubrY7iU3TARRXsfJd6aEIGxfdpbwSo+pSkEaqqqcHXs46CMVix4p/a2Q+7hwW46KLDcNbSrKUPb1jPqMuD8DiB5DXD91zrbqeaA2oiEK1yA2NZ+c2tRUFGgFxvkVnUh/wJqdLVqavkEewYLNxy1oqOjZ0ce1yfxd0fss7BVBMhXX32Ft99+GxSMHh0dDQ+Phm4VEydOlNQ2iA1dUovjxnACEiGQllmIud+eQH5pQ99fMk9XTm1F3AAuQiSyX82ZUaPVovTQIWT/5UOo09P13RT+/mizYAF8pkyGwtPOC36R2Lp1EkiOB85uBSp1KUJlQOgIIaDcpxPw7WjDu8kFiGFGvEezBMjt8WzeWfQO6G22A/7d8rsNqoxfKahLJqEzLMQ7hIkNneho78k/Jtnaayv2WdgqAkR+n6t2mUwGTW2VW6lsjtjQpbIubgcnIBUC21IysXjzaVRUCalXm2okQtr5KHFo8ShW/Zw3aRHQlJSgcMtWqBISoL5x417jXF3Rbe9eOAfZcRKB4jtA6nogJQG4e6mOAdXpoNS5/WcBvp2F/25sEDoXINJ60W3Mmh1Xd2DZoWVY/tByTAibIIr12aXZQvxGbQzH9SLBXbZ+C/MJY+5UJDjoF7lY8WbbBMQ+C1tFgNjaFogN3dbWz+3lBMxFQKOtwV/3XMBXB+u+lBuaa938BzEkLMBQN/5zCxGoTE9nQeWF//sfKKUua1SdnD4k1bpdsf+mUMB77FgEf/yRhSyz0DTVauDSbkF0UN0OnW87VVnW1ewIGXZvzQ4uQCy0QY47DQV2j986HpklmSAXpx1TdrQ4VS3doNwuva2vwUFB47dKbjWAKoMM3f26692pSHD4K/2bBW+JWxnH3XXzrVzss7DVBUhFRQWUSmlXpxQbuvleDz4yJ2A7BArLqvDS+mT8cimXGf1IeCB+Op9jcAF/nxWJSZHBBvvxDuYjQG5WJQcPMuFReviwfiKXsDB4DB0K1Zo1zU7eedUqeDww2HzGWWrkO2mC6Di9ASjLq5u142DBxar3FEB5n4xextYBeSkJCAiz1Kr4PHZEQHf7oVuSMbcgJA4yijP0goNiOLJKsxpQoWxUvfx76WtwUD0OSpNrbDPHrYyxc/N+phMQ+yxsFQFCLlbLly/Hl19+iezsbFy6dAmhoaGsNghlxvrd735nOiEzPCk2dDOYyIfkBGyKwKXsYsxffQo38sqgdJbjb9P6o42nKwtAN9T4DYghQub7uaaoiNXtUK1dh6qM2ixOMhk8R46Ef1ws3IcMQday11G4bZu+knnDk4scPpMmocMHy81npDlHLssH0jYLsR1ZKXUzebYT3KvIzaptD+MtaK4Sum4EVy8uPoynyXvWI6C7/bhdcpsFgNMtBQV+N74FIcGRXpjeIIYjt1z4KKRrTjInRLSJ0AuOyMBIeLl4mcRbjFsZkybmD7WagNhnYasIkD//+c9YtWoV6Pf58+ezlLwkQDZu3IhPP/0UR48ebTUoMQcQG7qYtvGxOAFbI7Dn7B0s2pCCUrUGwb5u+HruQER08Aa5Yz304X7cKaxolC9FWCGPAbHeTldeuYL8+HgUbtuOmvJyZojc2xu+06bBb3YMXDp21BtXevwEMp56qlljO69eBY/BNnQDotUA6QeA5ATgwk5AU5skQe4M9HxcuO0IewRQ8CrM1ntD+cyNCTS+/dD9/L1h77HbC4rfoNsN+pVfkd/gcWe5M/q26auP4YhsGwl3cikUoZlyKyPCtHwIEQiIfRa2igDp1q0bKBPWI488Ai8vL6SmpjIBcuHCBQwZMgQqlUoEVOINITZ08SzjI3ECtkNAq63B33+6zH5RGxIagM9jB8Dfw0W/iN1pWVgQn8T+t1CiTmg8C5bl97lGo0HJgQPIj09A2bG6mynX7t3hFxcHnwnjIXdv+lCSuegVFO3ZI8SB6JqtxYDQ7QTV7EhdBxRl1q0jqI9w09FvBuDRxvIbw2fkBAwQaHz7Ub873YQ0TonrqnBF/7b99TEcJD6UTuK7xht7K8M3WJoExD4LW0WAuLm5MbEREhLSQICcO3cOgwcPRkmJEbnRLbg/YkO3oOl8Kk5AEgSKK6qwcEMq9p3PZvY8PbQLXh8XDmfFvZVtSYS8s+Mcsgor9LbzOiCW20ZNQQEKNm8W3Kyohgc1uRxej4yCX9wcuA8eZDCdZ1V2Dq6OGYOairo9lCmVCNuzR9pZsCpLgHPbhNiOG3WxLVD6CoKDhEf7/kJdE944AQkSqNJWYWXqSnx5+stmrXNRuGBQ0CB9pfE+AX3grDB/odfmbmWMiU2RIGqHM0nss7BVBMjAgQPx8ssvIy4uroEAeeedd7Bv3z78+mu9Yk0S2GKxoUtgSdwETsBiBK7dLWXxHldySuDiJMf7k/tg+sBO952f3LFOXMtHTnEFAr2UGNzVn6feNfOOVVy8BBW5We3YoRcOCh8f+M6YDr9Zs+Ac3LLA/7z//Bc5H36otzpwyWIESLH4LGXqunlcKBR49n/1igPKgLBRgotVzycAZ/G/CJt5S/nwDkBArVHjdO5pvUtVSk4KKjR1wr8pBMEewdj55M4WZ8RqDc7mbmWai01pzVz8WfMQEPssbBUBsmPHDsyZMwdLly5lcSAkPC5evIjVq1dj586deOyxx8xDz8RRxYZuohn8MU7A5ggcuJCDP6xPRnFFNdp5K/HlnGhEdvK1uXXYq8E11dUo/mk/Ex5lJ0/ql+naqxcLKvcePx5yE7MUUiX09ImToL52DS5duyJ0+zbInM3/ldXovSrKEtyr6LYjr17hNP/Q2podMYBPy0SX0XPzjpyAiQTKq8v1goNS4pL4UGvvLd5qaPhvx3yLQe0GGeom2s+bu/3QTcBvQURDbbaBxD4LW0WAEJ09e/awTFiJiYnQarUYMGAA3nzzTYwebURlWLPhbXpgsaFb2Hw+HSdgcQKUWWXFwav4256LrBREdIgfqIo53WbwZn0C1SoVCjZ9B9W6dajOqk2xqVDA67HHmPBwi4426GZlzCpKT5zAredfQKcVX8B9kOUOO/fYpss2RQHkN44AF3cJlcpragtfOrsBvacCUbFA5yHcxcqYzeV9LEKgtKoUdKuhK/qXlpcGuk2o36jmBlUZp8J/FMtxo+jGPX3q9ycXrJGdRoJ+t0S7X0wKzc9vQSyxC62fQ+yzsNUESOtRWG4EsaFbznI+EydgeQJl6mq89t1pfH9aONjGDO6Mdyb2Zu5XvFmXQMW5cyyovGjnTtSoha+mCj8/+M6YAb+YWXBu1050A+mWRUaFCa3VeL0Na5Hn85pAoEhdhOTsZL3gOJ9/Hhpdccva8aiqOAkOKvhHoqOrd1dRPhiYYK5Rj5y8cxLz9swz2NfStzIGDeIdGhAQ+yxsVQFy6tQpnD9/nv3FCQ8PR3R0tCS3W2zoklwkN4oTEIHAzfwyFu9x4U4xnOQyvDOpN2IfCBFhZD6EqQTIFap43z4mPMoTE/XDKHv3ZtmsvJ94HHJXV1OHl+5zVLPj9Ebg5NcNXayas/jZg0CHSOmuh1tmlwQKKgqQmJPICv9RStwL+RfuyVJF9TuY2Ki95aCq5nRuspVGcSoHbh4A/d5cs/StjK2wk5KdYp+FrSJAbt26hZiYGBw+fBi+voI/eEFBAYYOHYp169ahU6f7B6haekPEhm5p+/l8nIAlCBy5chcvrE2CqqwKbTxdsCIuGoO6+Ftiaj5HEwSq8/JQsHEjVOs3oDpbyD4GJyd4jx4NvzlxcIuMtKlDjFGbrKkGru4HUuKBiz/U1eww5mEuQIyhxPu0ksDd8rtCwPidRPb7lYJ68Ue1Y4d4h9TdcAQNRHvP9q2clT/OCbSegNhnYasIEIrzoIVQMcKePXsyKhSEPm/ePHh4eGDv3r2tJyXiCGJDF9E0PhQnYHUCFO/xn8PX8f6u86yYYN9gH3w1JxodfN2sbpsjGlB+Jo0FlRft2gW6/aCmCAiA38wZ8J05S9ppcE3dsLtXBNGRuh4oro1pobEoZW7XEcCRvxsemQsQw4x4jxYTyC7NFtyp6NedU7hedP2eMcJ8wvTuVHTTQS5WvHECUiMg9lnYKgKE6oAcOXIEUVFRDfgmJSVh2LBhKK+ttCsV+GJDl8q6uB2cQGsJVFRp8PrWNGxOusWGmhIVjA+e7Auls6K1Q/PnW0CA4jmK9v7IhEd5Sor+SWW/fiyo3GvsWMhdLBNw2gKzW9e1slhIm5scD9ysK5QIN/96NTv6AbdTgJUPG56LCxDDjHgPgwQySzKZ0NAJjlslwr+NukYB1z38eugFx4DAAQhwCzA4Lu/ACVibgNhnYasIELr1WLNmDSs6WL+dOHECs2fPxpUr915JWhO82NCtuRY+NycgFoGswnL8fk0iUm8Vshody54Ix7xhXezPrUcsYGYYpzo3F6oNG6HasB6a3LvCDM7O8H58LPzj4uDWr58ZZrXikJRSjbJYUepcEh9VpYIxMjnQ7VGhZkePsYBTvZgWLkCsuGH2PTXd/mYUZ+gFB8VwZJXWu4GjGp4yOXr59xLiN4IGYkDQAPi4+tg3GL46uyQg9lnYKgJk27ZtLAXv559/zgLPKZiKAtJfeuklLF68GJMnT5bU5okNXVKL48ZwAiYQOHU9H7+PT8Ldkkr4ujvj89kDMKxbGxNG4o+YQqA8NRX5a+JRtGcPUOtm5dS2LXxnzYTfjBmgP9tVK7wl1OxITgBU1+qWFtCtrmaHdzN+8lyA2NWrYM3FkOBIL0xvIDhyy3MbmOQkc0JEmwi94IgMjISXi5c1zeZzcwKiEBD7LGwxAeLn59fgy2hpaSmqY+R/RgAAIABJREFUq6vhVJueUfdnigHJz88XBZZYg4gNXSy7+DicgDUIJBy/gbe3n0WVpga92nlh5ZyB6Bzgbg1THGpOrVqN4h9+YNmsKs6c0a/dLSoKflQ08LHHILMnN6uqCuDi94KL1dUDAGqENbt4Ar2nCLcdnR4wXLODCxCH+nsi5mK1NVpcVl3Wu1PRDYeqUtVgCme5M/q26csEB7lSTQqbBA8XDzHN4GNxApIgIPZZ2GIChALOjW1PPfWUsV0t0k9s6BYxmk/CCYhMQF2txTs7ziLheAYbeVzf9vjb9H5wd7FijQeR1yjF4aqys6Favx4FGzdBk5fHTKSK4t7jxrE0um59ekvRbNNsIherrBRBdJz5DqgoqBsn5CFBdERMBFpywON1QEzbCwd8igrmXcy/WCc4chJRrC5uQEKpULJif9HthLS4JD6UTkroKn3zit4O+OI4yJLFPgtbTIDY8v6IDd2WWXDbHZNAbnElnk9IxMnrKlD6+dfG9MSCh8N4vIeZXgdy9ShPThayWe39EagWKh87BQXBLyYGvjOmw8m/YYpjqxf8aw2L0rvA6Q2Ci1XO2bqRvDsCkbOByBjAP9T0GXSV0JsbwdULCAgzfXz+pE0SqNJW4VzeOb1LVXJOMqjyeP3m7uSOqMAoVvCPBEfvgN5wVjg36KOr9E0B6FSjY8eUHXCS8w8zNvlScKObJSD2WdiqAiQnJwf0S6vVNlhwP4kFTooNnb/fnIAtEUi9WYDn1iTiTlEFvJRO+MesKIzsxdNEmmMPtZWVKPp+F/Lj16Dy3Hn9FG4Do1lQudcjj7Dbj8at9MQJ3Hr+BXRa8QXcBw0yh2nij0k1O67sA5LXAJd2A1pBZEHhCoSPF247uj4MyHlGNfHhO+aIlZpKnMk9wwr+UZaq1NxUlFeXN4Dh5ezFAsV1hf/CA8INignd7YduIH4L4pjvl72vWuyzsFUESGJiIsjNiqqg05e++o0C0jUajaT2UWzoklocN4YTuA+BLUm3sGTLGZD7VVhbD3w9dyBC23pyZiITqMrKgmrdehRs2gSNSvAxl7m6wnvCeCY8lL16NTsj1fpInzAR6uvX4dK1K0K3b2tSpIhssunD5V4UXKzoxqOktkAijdYhSggo7zsNcPMzfXz+JCdQS4DExenc03qXKvqzWtuwGjdlpIoOjNbfcFCKXEULRK/u9uN2yW1WwZzS7FLlcn4Lwl9DeyMg9lnYKgKEbji6devGMl4FBQXd48YREhIiqX0TG7qkFseN4QSaIFCt0WL5rgv49rCQcejR8EB8OjMSXsp7v75zgKYRoI8vZSdPQhWfgOKffgJqP7w4dWgvuFlNmwYnP8MH8bz//Bc5H36oNyJwyWIEPP20aUaJ8VRT7k7qUqFC+cVdQM65ulnc2wD9ZgJRsUCQHcWyiMGRj9FiAmVVZSA3Kl0NjrS8NJBAqN8ClAH6GhzkUhXmG8ZS5ZraGt9+6MbhtyCmEuXPSZWA2GdhqwgQLy8vJCcnMxFiC01s6LawZm6j4xJQlarxwtokHLkqBDz/YVQ3vPxoD8jlMseFIuLKteXlKNy5kwmPyosX9SO7Dx4Mvzlx8Bo5ErLa7ICGpq3KzsHVMWNQU1Gh7ypTKhG2Z491Kp4bG/DddTgw+Fmg+xjAyc4KJBraNP5z0QgUqYuQnC0IDnKrongOTU1DDwqqKs5qcNTGcHTxFq9WUePbD93C+C2IaFvMB5IQAbHPwlYRIFTnY86cOZg6daqE0DZvitjQbWLR3EiHIaDR1uDEtXzkFFegXK3B5weu4KaqHO4uCnwyoz/G9mmmvoLDEBJnoVWZmVCtW4eCTd9BU1jIBiWx4DNhAstmpezZo8UTZS5ahKI9e/W3J2wAhQLeY8ci+OOPWjxeqx/gKW9bjZAP0DyBgooCJjROZp/E4czDuFF0g7k91W/k/qSL3yDh0dGro9mSZTR3+6Gzh9+C8LfZngiIfRa2igC5e/cuiwGhSuh9+vSBc6OgyokTJ4q6Z5mZmczd64cffkB5eTl69OiBf//736wIojFNbOjGzMn7cAKWILA7LQvv7DiHrMK6L+g0bxtPF8Q/8wB6tfO2hBl2Owdzszp+HPnx8SjZfwCoTbjhHBwMv9mz4Tv1SSh8fU1af+mx48i4j6tV51Wr4PHAYJPGbvFDVeXA+Z3A8RVAZqLhx589CHSINNyP93BoAnfL7woB43dOsVuOKwVX7uER4h3Cbjh0oqO9p2U+mDR3+6EzkN+COPSra5eLF/ssbBUBsn37dnYDUlzcML827ZjYQegqlQpRUVEYOXIkFixYgMDAQFy9ehVdunRBWJhxaRfFhm6XbyZflM0RIPGxID6p0ffDumV8GTeA336YuKvasjIUbt8BVUI8Ki/XHZo8hg5htx2eDz8MmaJ12Z1uL12Gwm3b9KKmgalyOXwmTUKHD5abuAIjHqMEIplJQArV7NgMVAq3OkY1LkCMwuRonbJLs4X4Dfp15xSuF12/B0GoTyioX2l1Kdq7t8euqbsMZqkyB8eTd05i3p55Bof+dsy3GNTORjLTGVwN7+DIBMQ+C1tFgNDhf/z48XjjjTdYELo525IlS3D48GH8+uuvJk8jNnSTDeEPcgIiESC3q4c+3H/PzYdueIr2aOejxKHFo6DgsR9GU1ffvAlVwloUbNkCbVERe07m7g6fSRPhHxsLVxHj3kqPn0DGfYq2dl69Ch6DzXADUpJTV7Mjty5VMHw6A2GjgKT/GubFBYhhRnbeg24Hb5fe1t9ukOC4VXKrwarpFqG7X3d9DAfdcpDr1bJDy/T9rOXmpNaoceDmAdDvzTUXhQtGdhoJ+p03TsDWCYh9FraKAKEg9JSUFKNvIFqzaRERERgzZgxu3bqFgwcPIjg4GM8//zzmz5/f7LCVlZWgX7pG0Dt16oTCwkJ4e3OXlNbsB39WGgSOXs1DzNfHDBqzbv6DGBIWYLCfI3egg1TpkSMsqLzk55+B2tTizp07wz92NnymTIHCTP9uZC56BUV79pg/BkRTBVzeK6TPpd91mYWclED4RKFmR5ffAHdOAysfNvw6cAFimJGd9aC/JxnFGXWCI/sU7pTeabBKykbVy7+XIDiCBrJ6HJQmV9d4yls7eyn4cmyKgF0IEIr/+M1vfoNnnnnG7PCVSiWbY9GiRZg+fTpOnDiBl19+GV999RXmzp3b5Pxvv/023nnnnXt+xgWI2beLT2AhAu99fw7f/Cqk2L1f+/usSEyKDDbUzSF/ri0tRcG2bUx4qNPT9Qw8HnoIfnGx8Bw+HDK56ek9jYFq9ixYOefranaU5taZFDxQSJ3bZyqgrDsgggehG7NtDtGHBEd6YbpecFAsR255vXcIgJPMCRFtIvSCgyqOe7o0X2eIp7x1iFeHL1KiBOxCgLz//vv47LPPMG7cOPTt2/eeIPQ//OEPouF3cXHBwIEDceTIEf2YNP7Jkydx9OjRJufhNyCi4ecDSYyAVluDfx24gk9+vGSUZfwG5F5M6hs3kJ+QgMItW6EtKWEd5ORmNWUK/MjNKrSrUWzF6iR6HZDyAiBtM5CS0DCg3CMQ6D8TiIwDApspjMgFiFjbKolxSESczTuL3gG9DWaS0tZocVl1WZ8SlwRHfkV+g3U4y53Rt01ffUrc/m37w93Z3ai18pS3RmHinTgBsxGwCwHStWvz/wdNQejp9b4mtpYkFTV87LHH8M033+iHWrFiBd577z1QdixjmtjQjZmT9+EExCZQUlmNVzemYvdZwe2B0uyWqRvmzNfNKZUYkJrqaqNrYojNq/54NVotSg8dYtmsSn+piydz6dKFiQ6fKZOh8LROhXhWCX3iJKivXTO9Ejpl57p2UBAd53cA1bVZ0eROQI+xQoXy7o8BCgOFKI2tA/JSEhBgXBIQc+4rH/v+BHQ3Dk3FWZAguJh/UR80npSdBKrLUb8pFUqQyIhuF81uOfq17QdXhatJ2HnKW5Ow8Yc4AdEIiH0WtkoMiGg0jBho9uzZuHnzZoMg9IULF+L48eMNbkXuN5TY0I0wm3fhBEQlcCOvFPNXn8Kl7BK4KOR4b3IfeLs5sSxY1Opn0teVG1xh5SxYpSdO4NbzL6DTii/gPsg6WWQ0JSXspkOVkAC6+WBNJgPkcgQuWgj/3/7W7G5WxrwIJrNSXQdS1gIp64DCjLqp2oYLcR39ZgCegcaYUNenqUro9Udw9eLio2VErdJbd+OQWZKJjp4dsWXSFr3goNsNqjheWlXawDZ3J3eQGxVLidtuIPoE9IGzIdFqxOp4ylsjIPEunICZCYh9FrZ7AUKuVkOHDmUxHTNmzGAxIBSAvnLlSsTGxhq1XWJDN2pS3okTEInAL5dy8eLaJBRVVCPQyxVfzonGgM5+bPSm6oC091HirQkRVk3By77qT5gI9fXrpn/VbwW/yvR0FttR+L//gVLqUpN7esJn8mSUHDgAKiro0rUrQrdvg6xRHaNWTNuqR42+LVKXAee3C7Ed1+tlB6Rg377ThNiODgMEocWbwxLYenkr3jzypn795D5Vpa1qwMPL2YsFiuvqcIQHhJslJS5PeeuwryFfuIQIiH0WtooAmTfv/rmzv/32W1GR79y5E0uXLsXly5dB7l8UkH6/LFiNJxcbuqiL44NxAs0QIP/tr39Nx19+uABtDRDV2RdfxkUjyFtIzKBr9SuhB3opMbirv9VT74oe12DEW0JuViUHDzLhUXr4sP4Jl7Aw+MfFwmfiRKg2bkLOhx/qfxa4ZDEC7lMM0IhpLdOFMnPdOimIjrQtgFpXg0kGhI4Qbjt6jQOc3SxjD59FcgTKq8txOvc0c6miAz/dcjRuvq6+7HZDV/Svh18PKOStq2djDAie8tYYSrwPJ2BeAmKfha0iQKZMmdKAUlVVFdLS0lBQUIBRo0Zhy5Yt5qXYwtHFht7C6Xl3TqDFBMrVGizefBrbU2+zZ2cM7Ih3J/eBq5P5DwstNrbRA2bP7NRoPk1REQo2b4Fq7VpU3bwp/FQmg+fIkUx4uA8ZwgJwLW1Xazmy54vvAKnrhdiOu/USD/h1EeI6+scAvp1EmYoPYlsEyH0qJSdFX/QvLS8N5Op0v/besPcwqdsk21oot5YT4AREISD2WdgqAqQpElqtltXnCA0NxR//+EdRYIk1iNjQxbKLj8MJNEXglqoMz61JxNnbRXCSy/DmhAjMeTDEYBYbqdDMXLQIRXv2mr22ReWVKyyovHDbdtSUl7Ply7294TttGvxmx8ClY8cGSCxlV6v3oVoNXNotiI7LPwI1tYkGKNtQxCRBeIQMY3EsvEmHQEsyTplidbG6mMVtUME/uuU4l3cOGt27UTtgoHsgogOjcTTrKAoqCxpMQ0UBgz2DsWPKDrO4WZmyJv4MJ8AJWI6A2GdhyQgQQnjx4kWMGDECWVlZliNqxExiQzdiSt6FEzCJABUYfGFtEvJL1QjwcMHnsQPwYKjtFBIsPXYcGfdxaeq8ahU8HjC9uneNRsOKBeaviUfZsbpCjK7du8MvLg4+E8azlLqNm7ntMmmzGz90J00QHac3AGV5dT/t9IAgOnpPAZS8kKoorM0wyP0yTpkyXUFFARJzEpngIHeqC/kXUNMg3QSYoNC5U1HQOAWb70zf2aDSeOO5rVV53BQG/BlOgBMQj4DYZ2FJCZBdu3aBihTm5jYsViQePtNGEhu6aVbwpziB5gnQ19PVR2/gzzvPgWI6enfwxsq5AxHsa1s+/beXLkPhtm0ApYVt3ORy+EyahP9n70zAo6rO//+dfTLZ942whSUhkIVNBRRRQVAWUYusdWndf9ZK/WmLbX/6b9Xa1mrrVrW1KiCLCyiIoghFdkhIQkgCJGHJvk/2yUxm+T/n3sxMJtvcmdxMFt7zPHmimXPP8jmH5Hzve973jXr5JZe3gqmuDnWffw7tJ1s4B3KuSKXwvflmTnhoZs7o1ULUX+NyeSIdH2DRpupLgIIfgPPfANXn7Z96BfEZyq97HAid0Kdu6OH+J9A54pQ7VoZqXTUnNKwWjvy6/C4DH+k70paDgzmOR/pEOtShaFP9v9bUAxEYqgTEPgsPiABhTuAdCzs8MavH119/zQmQN998c1Ctj9jQB9XkaDBDnoDeaMLvdp7F9tRibi7LkqPwpzsT4aUc/P4eneE3nziJwnvv7XFNRn78EbxnCreAtJ4/Dy27ZrVrNyytfG4Lmb8/Alb8BIErV0IRLSzLu9jj6tOmM5v40Llf/Y/zZijfhnNGg6BG5xwXQqwM5c3ltqR/THRcbrjcZSax/rG2kLjM0sGuWPVWKNrUINgMNAQiMEgJiH0WHhABMm/ePAe8UqkUoaGhnAM6i5All8sHFX6xoQ+qydFghjSBioZWPLIpDemFdZBKgN8sisfPrx8zZPw9uoNfsv5XaNi7120fEBaOtvGH/ZzwaDl1ytaFKi6Ocyr3W7wYUrVjJDAhm6Cv4xLSR691mMWDCY/MLUCDsCSqeOggEJXc566pgf4j0Nnq0J2vBXtJx/JxcBaOilTOylHcxL9wsBb2HItKZc3BMTVsKoK9XLt+SdGm+m+dqWUiMNQJiH0WHhABMtQWQWzoQ23+NN7BSSDtipYTH1WNevh7KfDGqhTcMCF0cA7WhVG5G23KqNWi7tPPoN2yBUarH5lMBt/58znh4TVtWp+EmbvjcmHqXavqm4CcL3nfjiv20MBgyfz01lC6vfRAAqRP+D3xcE8ZvtdPWw8/pZ8t0zizeHQsUokU8UHxthwcLB+HP8vlQoUIEAEi0A8ExD4LkwARsEhiQxfQJVUhAr0S2HaqEL/bmQ2DyYwJ4T54b910jA7xHjbUXMkD0pqTg9pNm9GwezcsBgPHQBYYiIAVKxC4aiUUERGicXFlXG53ynJ2FJ3gc3Zk7wAMTe1NSYDYm/icHX7RwAcLnHdBAqQLo/6ONuV8Uew1Ovp+OHtOLpEjISTB5jTOMo77KH2cPUafEwEiQAREISD2WdijAoRdvWLx9Hsr7PMffvhBFFhiNSI2dLHGRe1cfQTaTGb8v1052Hj8Cjf5hQkR+OuKJPioBte1xb6uDJcJfekyGC5d6jbjOPu8cd8+Tnjo0uwJ09STJiFw3Tr43bYIUpWqr8Poenh1Mq4+ddhQyl+vYtesajo4EAeNtefs8G/3WSnNAN6b67w7EiBdGIkdbcr5InStYbaYkafNw4fZH3JRp3oqo/1GY8HoBZyVIyk0CRoWSpkKESACRGAACIh9FvaoAHnqqad6RMYmtmXLFuj1ephM7XHrBwBwd12KDX2QTIuGMcQIVDfp8dim0zh5uZYb+a/mT8Dj88ZBypw/hmFpPnkSxY89jph33oZmxgxuhsaaGtRt3w7t1m0wVlTws5bL4bdgAQLXrYVXcrLTlxx9RdXduNxu06jnI1gxaweLZmVpj/6l8AYS7mjP2TGLS4zoUEiAuIVcjGhT7nTM+j1fe952nep0xWk0GBqcNsXC4roTEctpw1SBCBABIuAiAbHPwh4VIN3N1Wg04q233sKLL74If39//OEPf8DKlStdxNK/1cWG3r+jpdaHI4Gs4no8vDEVpfWtnLXj9XuSccuk8OE4Vducmuv1KEgtx5SbRqL1bDbnVN6wZw+Y9YMVWUgIAlesQMA990AR3nt0H7FBMUd3SV+CZZSd4UVH1nZAp7UPb+QsIGUNMOkOQNXL9RoSIG4tqTvRptzpqM3chuzqbJvTOEsAyDKPdywqmQp6k95p8x/c+gFmRPACnAoRIAJEYKAIiH0WHlABsnnzZvz+979HS0sLfvvb3+Lhhx8edBGw2EKLDX2gNg/1OzQJ7EwvwbOfn4HeaMbYEG8uv8e4sOF599tstqAotxY5h0txObMa7P+vadwF77RvbYunTkzknMp9Fy6EVKkcOovaUguc2Q5kbALKs+zj9o0Cklfx1o7gWGHzIQEijFOHWkKiTbncaPsDLHrUmaozNsGRWZUJnVHn0Jyvwhcp4SncdSr2FRsQi0Mlh8Ce7akoZUrMi5kH9p0KESACRGAgCYh9Fh4QAfLtt9/i17/+NS5duoSnn34aLC+It/fgdaAVG/pAbiDqe+gQMJrMeOXbc3j/0CVu0PMmhuL1lSlcxKvhVpq0epw7Voqcw2VorOXzdbDiV38RsZe+QmDzZfgtWoigtWvhlZg4dKZvMgIF+3nRwa5aWQ+b7EAZdzuQvBaInQdIXczZwkLyvjHVOQfKA2Jj1FO0KSE5NzqDbjW2gokMa0hcJj4MZkchwSJSTQubZkv8x0LkylxdZ+crTDWIABEgAh4hIPZZ2KMC5OTJk3j22Wdx/PhxPPLII3juuecQEhLiEXB96URs6H0ZCz17dRCoazHgiS3pOJRXzU34f+aNw1Pz2QFm+Ph7MOtG4dkaZB8uxZWzNbCYLdxc5cYWRJSfRFTZESjamuGz/G6M/p97IQ8dQiGGq/N50ZG5FWgss2/aiEQgZR0w5W5AE9S3zcxESG+heFmoXqEWlb6NZNA/3VOG7+5ybnQ3GXZ9KqMyw5b4L6s6C6zNjiVYHWzLwWG1cLBQuVSIABEgAsOBgNhnYY8KEJZw0MvLi7tqNXr06B7X4xe/+MWgWiuxoQ+qydFgBh2Bc+UNeOjjNBTWtsBLIcOrK5Jw25TIQTdOdwfELBy5R0qRe7QMzPJhLf51+ZzoCKtKh0/SZJSOnIcM7SjEXR+Dm9bFu9ud555jYoCFzU3fDBQdt/frFQQkruCvWEUOIeuN58j1e089WT+sHXe2gjAH8fSKdJvgyKnJgcniGByFZRXnrlNF8FeqWMQqZ1Ee+32i1AERIAJEoJ8IiH0W9qgAYaLD2S9o9vnFixf7CZ97zYoN3b1R0FNXA4Fvssrwq08z0WIwISbIi8vvER/pN+SnbjaZcTmrhvPtuJJdA/DGDiiMzYgoO84JD5+2Wpim3Qj9dUtgjhmP099dQVurCUq1DCkLRnH1VRo5Jt8QDclgsQSxnB1XjvIO5Tk7gbYWfmLszfe4W/icHRMWAnLxQwIP+U3hoQn0ZP2wds+sIBHeEXh6+tNgzuIs2/i52nOwWDdpe8Von2hbDg4mOliEKmd/zzw0ReqGCBABItDvBMQ+C3tUgPQ7nX7qQGzo/TRManYIE2DXkV7fdwH/2M/nf5g9LhhvrpqKQO+h7XzaUK1DTru1o6Xefkc+oC4PUaWHEVqdAVVoMAJXrYL30uXY/Ndz0LfwV1vYGZ5FpbV+twqQn740C0q1h/OedL7u1FQJXNgLXPgGaCix77zgcfacHX7Dx2o1hP9p4VT5KTyw9wGXpzDKb5RdcIRPR6QPrafLEOkBIkAEhg0Bsc/CJEAEbA2xoQvokqoMQwImswUnL9WisrEVYb5qzBwTxPl0NLa24altGdiXW8nN+udzxuDXi+Iglw3N++MmoxmXMqs54cEiWllfJCvNLYgoPoyosmPQ6CrhNX0a51Tue/PNkCh4x3p2Peu7f51F+cWuORIixvphwc8nwzdI7dndIdTh++7/AAnLu+bs8OxoqbdOBFiUqZ35O7k8HJcaLuFS/SVU63jfqo5lrP9YLtwtu041NXwq2BUrKkSACBABIsATEPss7DEBsnXrVsH5PYqKilBYWIjZs2cPinUXG/qgmBQNwqMEvj1bhhd25aCs3h7hKdJfjYdvGMtlNS+oaoZSLsWf7pyCO6eO8OjYWGcWiwWlF+oQNSHA7WsldZUtNt8OXSOfq4OVoMZ8RBX+FyHVZyBTyuG3ZDGC1qyBOr57vw4mYP61/kcYDe1J+ZhjulKKn792A2SeFmXsihULnbvjIedrQlnHnTPyQA22l0uaSmwhcVPLU1HcVOzQM7t2xaJSWf03mOAIUvcxKIAH5kZdEAEiQAQGioDYZ2GPCZC5c+eioqIC999/P5YuXYr4ToeP+vp6HDlyBJs2bcK+ffvw73//G0uWLBkozg79ig19UEyKBuExAkx8PLrpdKcb5Y7dMzHy7rppSBwR4LFxdeyIRaHa/WYmFj+RhFEJwYLHYGoz42JmFbIPlaLkvD2hngqtiCj8kbtm5dVaA3lUJHfNKuDuuyEPDOy1/dL8Ouz46+kude58eioix3mIT3M1LzyYb0dltjAeJECEcRK5FhMchY2FYEKDC4tbkYry5nKHXlg0qrigOFsODiY4WJhcKkSACBABIiCMgNhnYY8JEDa93bt344033uAEBsv7ER4eDrVaDa1Wi/LycoSGhnIC5Ze//CXCwgaP+Vts6MKWmmoNBwLs2tWcV/Y7WD46z0shk+DwMzch3N/DV4s6DGT/x7lcVKr42ZGCIk5py5s5h/Jzx8vR2mS1dlgQ2noFEfnfIbgmC1KLGZprrkEgSxo4b57gzOFHv8hH+neFGJMcgtl3jcORz/K5K10pC0Zi1p3j+m9bsJwd+fuA9I28f4e5fV4sZ0cvyeJsAyIB0n9r06FlJjgu1l+0CQ7mNF6lq3LoWy6RIyEkwebDkRKWAh/l8Eze6RHo1AkRIAJXPQGxz8IeFSDW1aupqcHhw4dx+fJl6HQ6LhdISkoK98VC9Q62Ijb0wTY/Gk//EThWUINV73cIydpDV1sevBbXxQq3PPR1xCznxtkfS2wO30IiThnbTCg4XcUJj9K8OtsQvGQGzrcj4vIBeOlrIVGr4b90KQLZNauJE1weall+HecLMn5GOHcdjB04805VcL4f/WIBqTrPWzrObAOaKuzjjUrhHcpD44CPFjufBwkQ54zcqGG2mJGnzbMl/WOCQ6u3W9tYkwqpAlNCptiuVCWFJkGj0LjRGz1CBIgAESAC3REQ+yw8IAJkqC2t2NCH2vxpvO4T+DKjBE9uzXDawN9XJmNZcrTTemJVMLQa8fGGo4IiTjExwETH+RPl0De3R6iSAGEoQ3jWVwiqOctZOxTR0QhcvRoBd90JWYCHrkq5C6S1Acj+ghcexafsrWhCgMR7gJQ1QHgC//PSDODV/B0qAAAgAElEQVS9uc57IgHinJGAGixsLnMYt16nOl1xGiwvR8eikqnARIY1DwcTH2r5wFkQBUyLqhABIkAEhjQBsc/CJEAEbAexoQvokqoMEwKD1QLC8PYWcSp8tC/GTQ/HxfQqlBXU21ZDozIhquokwrJ3Q63nrSDes65D4Nq18Jk7FxKZbPCunNkMXDnMJwrM+RIw6vixSmTA+AW86Bh/K/N4d5wDCZB+XdM2cxuyq7NtgoNlHGeZxzsWjVwDdo1qWvg0zsoxOXgyFDI+choVIkAEiAAR6H8CYp+FB0SABAYGdhtph123YD4h48aNw3333cf5gwyGIjb0wTAnGoNnCBhNZqT84Xs0tvKWg85FAiDCX43Dz97EheT1dOku4hTLu6FQyWDQ8ZmfJRIg0kuLsDM7EVicBgkskGg08F+2lItmpRrXj34ZYgCpKwQytgAZm4G6K/YWQybyooNZPHwjeu6JBIjbq8Cuz2XXZCMhOMH2O19v0iOrKsuWZTyzKhM6qxhs78lX4cuFwuUER/h0xAfHQy71cO4Xt2dNDxIBIkAEhh8Bsc/CAyJAXnvtNbz44otYtGgRZs6cyd3xPnXqFL799ls89dRTuHTpEjZu3Mg5rD/44IMDvopiQx/wCdEAPEKgtc2EDV9k4Yv0DonqOvRslRvvrJ2KhZMHJslZTxGn2DB9fIARTVkIPrYFKj1vBVGMHImgNavhv3w5ZH6DOEN7mw7I3Q1kbAIuHmSBhnnyKj9g8p1A8lpgxHRhOTuE5gF54jQQHOuRvTVUOtlVsAsbDm/Azyb/jLNYsEhVZ6rOwGC2J6VkcwlQBdjEBhMdLESuTDqIrWlDZQFonESACBABkQiIfRYeEAFy1113Yf78+XjkkUccsLz77rv47rvv8Pnnn3Pi47333kNWVpZI6NxvRmzo7o+EnhwqBErrdHh4YxqySuo5y8adU6Nx6EIVyhv0timw0Lv/t2TSgImPqsJGsOhX1cVNDljVuiqMr/gBIZcPc9YOVrznzOGiWfnccAMkgzBQBDdIlrOj5DQvOrI+B9pFE/fZmBt40RG/BFC64ZzcORN6542o8iXx0c6EXZ9i16hOlp/EppxNXcQGqxasDuauUlktHLEBsWChcqkQASJABIjA4CQg9ll4QASIj48PMjIyuKtWHUt+fj6Sk5PR1NSEgoICJCYmornZ8S7wQCyL2NAHYg7Up+cIsGznj21OQ3WTAYEaBd5aMxWzYkPQUyZ0z40MMOiMuHCqgnMqZwLEWvwC5RhpKUDgfz+Goo7PoSBl16zuvJNzLFeNHePJYbrWV1MlH8GK+XZU5dqf9R8JJK8GklcBgaNda5NqCybAHMTTK9JtUapya3NhsvDX9zoW5jS+bNwy7krVaL/Rbie8FDwwqkgEiAARIAKiERD7LDwgAmTkyJHcVSv21bGwq1nsi2VBP3PmDBYsWMDlBxnoIjb0gZ4P9d8/BNhVwk0nCvHCV9kwmi2Ij/TDe+umISbIjTfuIg6RjavyciOyD5cgL7USRj1/OJTKJRgZDURe3g/1wc9t1g7l6NFcCF3/5XdAxu5hDcZiagPyvuOjWLHv5nYfGxYJKX4pkLIWGH09MFitNYORqcAx1bXW2bOMV6RyEassndJsRvtEQ9uqRYuxxdbqCJ8R2LV8F/lyCORM1YgAESACg4mA2GfhAREg77//Ph599FHcdtttnA8Icz4/efIk9uzZg3/+85/42c9+hldffZX72bZt2wacv9jQB3xCNADRCeiNJjz/VTa2nCzi2l6cGIk/350IjXLgHGf1LW24cLIC2YdLUdPhmlVAmBpjNBUIPPgxcOkcz0Ii4a5XsWhW3rNnDd5rVpW59pwdzR2Sz0VP5x3KJ98FqCnDtZgbvFpX7ZCDI78uv0vzo/xGcZYN65UqFkKX+X50Li/NeQlLYpeIOTxqiwgQASJABDxAQOyz8IAIEMbpyJEjePPNN3H+/HnOCT0uLg5PPPEEZs2a5QGMrnUhNnTXeqfag51AZUMrHtmUhtOFdVzEqGdujcMjc8cOyBUT9m+p/GIDcg6VID+tEsY2M4dPJpdizAQvRFcch/ybj2Fp4d9MS318uLwd7JqVctSowYlaVwec/ZwXHqWn7WP0DgOS7uF9O8LiBufYh+CoypvLHQTH5YbLXWYx1n+sLQcHEx1hmjBbHZbHY/GOxShtKnWwjEggAbOMkBVkCG4KGjIRIAJXPQGxz8IDJkCG0kqKDX0ozZ3G2juB9EItJz4qGvTwVcvxj1UpmDfRfhjzFL/W5jacP16OnCOlqC21+00FRXkjNrwZQSc/Q9uRA7bhKGNjEbR2DZexXOrtzf3cYjRCIh84iw03CKuzt8XMO5Rf+Aa49CNgao+axEKxslwdXM6OBQDlgujzFitpKuGiU3GJ/8pTUdxU7NAmEw4sKpXVaZwJjiB1UI/9WiNf9VSBrCB9XjJqgAgQASLgcQJin4UHTICYTCbs3LkTubm53JviSZMmYenSpZANwkRmYkP3+K6hDvuFwKepRXhux1kYTGaMC/PB+z+djjEh/GHeE4VZO8ry6znfjoK0KrCcHqzIFVLEJgUipiUb0l0fwljEXwvjrlnNm8cJD8111zlYaJpPnkTxY48j5p23oZkxwxPD79oHhbvtd+5szxQ2FtoER1pFGsqayxz6ZdGo4oPibdepWD4Of5Wwa209WT+sHZAVpN+XmDogAkSACPQLAbHPwgMiQFi0K+b/UVJSgokTJ3JXsC5cuICYmBh8/fXXiI0dXLH0xYbeLzuDGvUYgTaTGS9+nYsPj/JXU+ZPCsffViTBV+2ZzMy6JgPOHStH7pFSaMvtTr7BI3wwcaICQVm7odu1AxYdn+lb6ueHgLvuQuDqVVDGxHThZGlrw8UlS2G4fBnKMWMw9qsvIVF4Zi7cYAwtQO5XwIl/AqXpztfxoYNAVLLzelSD+916sf6ig+Co0nXwnWGCVSLHpJBJ/JWq8OlcxnEfpXvBB06Vn8IDex9wSv6DWz/AjIgBErpOR0cViAARIAJEoDMBsc/CAyJAmPhgfxg3b96MoCDelF9TU4O1a9dCKpVyImQwFbGhD6a50VhcI1DTpMf/fJKOYxdruAefvHk89yXt5yzmFrMFJRe0XPjcgowqmI18fg65Sobx00IxxqsMkj2boDt23DYh1fjxnFO5/5LFXEjdnkrNfz5E5Suv2D4O+/WzCL7vPtfAuFqb5ewoTgXSNwLZOwB9g/AWSID0yMpsMSNPm+fgw6HVax3qK6QKTAmZwl2pYoKDhcfVKMSJ1GYwGXCg6ADY956KUqbEvJh5YN+pEAEiQASIwNAgIPZZeEAEiLe3N44fP44pU6Y4UM/MzMTs2bO5PCCDqYgNfTDNjcYinEB2aT0e+jgNJXU6eCtl+Ns9ybg1IUJ4A27UbGlg1o4yTnjUV/EWDVZCR/oiflogQq/8iKZtn6CtpD3bulQK35tvQuDaddDMnOHUEb6tohIFt94KS2urrW2JWo3YvXuhCO8HX5bGciBzK5CxGai+YCfC8nTE3gSkfuCcEgkQGyN25YmFwbX6b6RVpqHRYM/vwiqqZWpOZEyLmMYJDiY+1CxcMRUiQASIABEgAgIJiH0WHhABwqweu3fv7hLxikXGWrJkCWprawXi8Ew1saF7ZtTUi5gEvsosxTOfZaK1zYzRwRq899PpmBDuK2YXtraYtaPoXC0nOi5lVMNs5q0dCrUME2ZGYNwIA2Tfb0f9rt024SDz90fAip8gcOVKKKKjBY+rZP16NOz9DjB1SBwnk8Fv4UJEv/pXwe30WtFoAC58y4uOvO8Ba5I69tZ90jIgeQ0wajZQfgZ4b67zPq9iAdJmbkN2dTYnOJj/RnplOljm8Y5FI9dw16isFo6E4AQoyFnf+b6iGkSACBABItAjAbHPwgMiQH7605/i9OnT+Pe//83lAWHlxIkTePDBBzFt2jR8+OGHg2oLiA19UE2OBtMrAZa9/M97z+Hdgxe5ejdMCMUbK1PgrxHfR6K5Xo/co2Wcb0dDtd0iET7GD/HXhSOiMRdNWzeh5dQp25hVcXEIWrcWfrffDqnatbfazcdPoLCXq1YjP/oI3tfw/z7dKuVnedHBspS38FfWuBJzDS86EpYDaj/7z0szSIB0Aq036ZFVlWUTHJlVmdAZ7ZYwVt1X4QvmKM75cERMR1xQHCX7c2vD0kNEgAgQASLQEwGxz8IDIkDq6upw7733YteuXVC0O7sajUYuChYTH/7+wiKueGqbiA3dU+OmfvpGoL6lDU9sTcePF3in3UfmxuJ/b50ImYj+Hsy6UZhdw1k7LmfVgFk/WFF6yTFxZjgmJvlCdvhraLdsgbGsPVqRTAbf+fO5aFZe06Y5vWbVE4XS32xA/ZdfAmY+epZDkUrhv2wZol5+yTWILbX2nB1lGfZnfcKBpJV8zo7QCd23SQKEExdMZDDrBguJe6bqDAxmR3+KAFUApoZNtVk4WIhcmVTm2jpRbSJABIgAESACLhAQ+yw8IALEOt+8vDycO3eOc0hnYXjHjRvnAgrPVRUbuudGTj25S+BCRSMe+jgVl2taoFZI8Ze7k7AkKcrd5ro816Rt5awdTHg0afW2zyNj/THp+iiM8KpFw7ZP0LB7NywG/gAqCwxEwIoVCFy1EoqIvvueNJ84icJ77+1xTiM//gje7RbKXiduNgEXDwDpm4FzXwOm9vlIFcDEhUDKOiD2ZpYNsXd+V6EAYdenMiozbD4cZ2vOgvl1dCzB6mBbDg5m5YgNiAULlUuFCBABIkAEiICnCIh9Fh5QAeIpaH3tR2zofR0PPd+/BPZml2P9tgw0G0yIDvDCez+dhoSovlvlzCYzrmTXclnKr5ytAQsExYpKI8fEayMw6dowKLKPoXbTZujS0myTVCckcNGs/G5bBKlKJerkS9b/Cg1797rnA8LydmR8AmRuARraneDZ6MIn81esElcA3iHCx3sV5AFpMDQgvSLdJjhya3NhsvrEtJNiWcWt16nY99F+o51audhLnOyabDB/D5ZXiQoRIAJEgAgQATEJiH0W9pgAWb9+vWAOf/vb3wTX9URFsaF7YszUh+sE2HWov/+Qx32xcu3YILy1eiqCffp26G+o0SH3SBln8Wius1s7osYHYNKcKIwaJUPTjs+g3boNxooKfuByOfwWLOCEh1dKcr8dKl2OgmVoBnK+BNI3AVeO2CGrA4ApP+EzlEcmc0kP3SrWTOg9PazyBYIHNk+QK4f9utY6/joVyzJekcpFrLKgXXm2zzHaJ9qW9I/5cIzwGeHyeluzj1OWcbd2HT1EBIgAESACTgiIfRb2mACZN2+eoMVlb+/2798vqK6nKokN3VPjpn6EE2hsbcP67Zn4PocXAPfNGo3nbo+HQubeVRcTs3acqeGylBfm1MJ65lT7KBDHrB1zoqCuugjtpk1o2PMNWDJAVmQhIQhcsQIB99zTP2Fwu0HiNA8IM9UUnWjP2bETMFjDZEv40Lkpa4GJt7EwXcKBD+GavR32q3XVNv8NJjjy6/K7zHSU3yjOwjEtnA+LG+kT2Sca1uzjJU0lnHjZtXwXOaH3iSg9TASIABEgAp0JiH0W9pgAGcpLKTb0ocxiOI79UnUzHvw4FfmVTVDKpXjxjsn4yfSuGcOFzJ3l6sg5UopzR8vAcnhYS/TEQCRcH4Ux8f5o3r+PEx66zEzb5+rERM6p3HfhQkiVnk3QxmVCX7oMhkuXHDOhN5Ty16vYNauaDgfpoLFA8mogaTXgLzzkrxB+g71O58P+vxb8CxlVdh+Oyw2Xu0wh1j/W5sPBRAe7YiVmsQoia5tkBRGTLrVFBIgAESACjIDYZ2ESIAL2ldjQBXRJVTxE4MD5SvxiSzoaW40I91Ph3XXTkRwT4FLvJqMZlzKrkX2oBMXn7FmnvXwViJ8VhfjZkfCRNEO7bTu027bCVFXNt69QcPk2uGhWSUku9SlK5Q7XnZozc1D8278i5v/9Ehr/WuD8HqD4FGBpj5Cl8ObD5rIrViOvc/+KlSgDH5hG2NWrj3M+xl9Te86PIoEE4wPH23w4mOAIUgf124Ctgqi0qZS72sX6Z1e6yArSb8ipYSJABIjAVUlA7LMwCRAB20hs6AK6pCr9TIAdJt85WIC/7D3POYNPHRmAf66dhjA/4deI6ipauChW546XQdfIX6GCBIiJD0LCnCiMTgyBITsLtRs38Y7e7des5KGhCFh5D3fViv33gJRuHL4Zhy6uG1EpwIyfA5PuAFQ+AzLUgeqU7ZErDVdsOThYWNzylvIuw5kUPIkXHOHTuXwc/qq+BywQOufO1g/rc2QFEUqQ6hEBIkAEiIAQAmKfhUmACKAuNnQBXVKVfiTQYjDimc/OYPcZPq/GqpkxeH5pAlRy57kUjG0mXMyoQs6hUpRcqLONUuOvRPysSEyaHQUfPxkav/mGi2bVmpVlq+OVnIxAljRw/nxIPHzNqgvOqzDkrbMtxQRHQV2BzWmcOY9X6fgcML2VgTrsd7Z+WMdIVhBnK0afEwEiQASIgKsExD4LkwARsAJiQxfQJVURgQA7UJZeqEPUhABbVKGi2hY8tDENuWUNkEsleGFZAtZcM8ppb7VlzTZrh76Zz9PArAUjJwdzomP0lGCYqqug3boVdds/hamGz/wtYdesbr+dj2Y1OcFpP/1egeXsKNgPHH0DuHTQeXcPHQSikp3XG4I1zBYz8rR5tpC4THBo9fYrdGxKSqkSU0KncIn/vsj7AjWtHTK6cwavgbvy1JP1w7oUAyWMhuBWoCETASJABIiAEwJin4VJgAjYcmJDF9AlVekjAZPZgu9/uIyCzy8h9u4xmH/TaJy4VIPHN5+GtqUNIT5KvL1mGmaO6fl+vtFgQsHpSmQfLkVZfr1tRD6BKs7aEc+sHYEq6NLT+WhW330PGHlxIg8PR+CqVQhY8RPIg/rPB0Awpup8IGMTkLkVaGzPqC7k4WEkQJjFgIXB5ULilqcirTINjYZGBwpqmRpJoUmYFsFHqEoMTYRKpsJgO+z3ZP2wTmYghZGQbUV1iAARIAJEYGgREPssTAJEwPqLDV1Al1SlDwS+PVuGF3blILHMhESDHJnKNhwPApr0RpgtwJRof7y7bhqiAry67aWmpIkTHRdOlEPf0m7tkEowanIwF8lqZEIw0GZAw9d7ULtpI/Q5ubZ2vKZNQ9C6tfC9+WbO+tFdsRiNkMidZAXvw/xtj+obgeydfM6OouP2Fr2CgNh5wNnPnfcyhAVIm7kN2dXZthwcLOM4yzzesWjkGqSEpXBRqpjgYIn8FDLHdRuMh/1T5afwwN4HnK7fB7d+gBkRM5zWowpEgAgQASJABHojIPZZ+KoTIC+//DI2bNiAJ598Eq+//rqg3SY2dEGdDrFKHjtU98LFYrZg+9Yc7DhZzNWa2SoH8+r41qsNuSoT97OpAd7Y/NQceKkcBUCb3oT8tApkHypFxaUGWy++QWpMmhOJuOt4a0dbWRm0W7ai7tNPYdLy13UkKhX8lixG0Jo1UMfH97pyzSdPovixxxHzztvQzOiHgyHzJL9yFMjYzIsP64FbIgXG3cJnKJ+4CKjMBd6b63yXDSEBYjAZcKbqjM2HI7MqEzqjzmGOvgpfzlHcmocjPjjeac6MwXjYZ3M9UHQA7HtPRSlTYl7MPLDvVIgAESACRIAI9IWA2Gfhq0qAnDp1CitWrICfnx9YYkQSIH3ZivZn+/1QLXCYupY2vPP0j1CZJVxI0gaJBbu8DSiTWyCxAHNb5ZjSJsNjf50LLw3/lruqqJFzKL9wshyGVl6kSKUSjE4K4SJZjYgP4nw9dKmpnFN54759gImvJ4+K5K9Z3X035IGBTkfJ5dtYshSGy5cd8204fVJAhfoSIPMTPmdH7UX7A8HjeNGRtArw65Dwbgg4oTvLOM7EBRMZXKbx8lROfBjMjgfyAFWALeEfC4k7IXACZFLnwQY6EqfDvoD9R1WIABEgAkRgWBMgAeLm8jY1NWHq1Kl4++238cc//hHJyckkQNxk2fGxfj1Uuzi+YwU1eOjdE1jczIuLr7wNaJYCajOwpEUBuUWC3d5teOf+6QisbuOcyiuv2H0A/EKYtSMKcddFwttfBbNOh/rdu6HdtBn68+dto9Fccw0CWdLAefNcukrlNOO4i/NFWytw/msgfTPvWG5Nt670ASbfCSSvBWJmdp+zYwgIkM4Zx9n1KXaNyurDcbbmLNj1qI6F5dzgQuK2X6mKDYiFlFl/qBABIkAEiAARIAJuEyAB4ia6e++9F0FBQXjttddw44039ipA9Ho92Je1MOgxMTGor6/nrCdU7AREP1T3Ae6XGSV4cmsGZ+2QADBLgBCTBMubldCYJdjurceUNjmSLQpY2ixcT1KZBGOTQznhMWJiICRSCQzFJdBu+QR1n30Ocz3vfC5Rq+G/dCkC2TWriRNcHmVbRSUKbr0VltZW27Oszdi9e6EIdyEzNrtiVZbBi46sT4FWeyhgjJrDJwqctAxQevc+xm7ygHT7wBOngeBYl+fb1weYsLjti9tQ1lwGH4UPRvmNwrnaczBZeOuTtbCs4h0Fx2i/0baIZ30dAz1PBIgAESACRIAI8ARIgLixE7Zu3cpZPVJTU6FWq50KkOeffx4vvPBCl55IgDgiEe1Q7caadvfIoQtVWPfBSdtHEwxSLGpRQsnJEccSEK7hwudOvDYCGj8l2HWflhMnULtpE5r2HwDMfAZwRXQ0AlevRsBdd0IW4FqG9I49lqxfj4a939mub3GfyWRcJvToV3vOrG1ro7kaOLOddyivzLY37TcCSF4FJK8Ggsa6RrJDJvRuH1T5elR81LXW2fw39hfuR2lzaZdhsSzf7CqVVXSM8BlBgsO1VafaRIAIEAEiQARcJkACxEVkRUVFmD59Or777jskJSVxT5MFxEWIPVTv86FanGFwrVQ16vHopjSkXtECZmCRToFpDfVoU/rC3O6Ea4YFVzTAkw+l8NYOiQTmlhbUf7UL2s2boM/Lt43Ie9Z1XO4On7lzIZG55jPQeVrNx0+g8L77epztyI8+gvc1M7t+bjIC+fuA9I3Ahb2AuT3bukwFxC/mfTvG3sjMOCKS9FxT1bpqhxwc+XV2/p1HEagKxObbNyPGN8ZzA6SeiAARIAJEgAgQAY4ACRAXN8LOnTuxfPlyyDocIk0mE3f4lEql3FWrjp9117zY0F2cwqCs7vahuh9mc6a4Dg9vTEOtthVJZjmSmiUIsNijXGmay6BpKsbm6Fg89shsLJwcCUNREbSbP0HdF1/A3MBHvZJoNPBftpSLZqUaN060kZb+ZgPqv/zSZlVxaFgqhf+yZYh6+SX7j6su2HN2NFXYfx6ZDKSsBabcDXg5d3oXbQIiNVTeXO4gOC43XO7Scqx/LEK8QnCi/ESXzyixnkgLQc0QASJABIgAEXCRgNhn4WEfBauxsRFXrlxxwHz//fcjLi4Ozz77LCZPnux0CcSG7rTDIVDB5UN1P83pi9NF+Me2bExqkSLOKIeMd+2A1GRAWNVpRJUegX/DRZglUrReNxdxD6zhkgY2HTwIMH8Kds1q5EgErVkNfyZU+8HHp/n7HSh8YkOPBEa++TK859wEZH/B+3YU26+RQRMMJK7kfTvCB0EmdYHryK60lTSV2AQHcxxn/9+xsGR5LCoVd6UqYjr33U/ph8U7FqO0qZSLZGYtlFhPIHiqRgSIABEgAkSgHwiIfRYe9gKkuzVwdgWr8zNiQ++HfeHxJptPnEThvff2fKj++CN4z+zmWpFII22q1+Odj86g5Vw9Qsz2KEeBgRKEnNyGiIqTUHTKAdG5a+85c7hoVj433ACJtJ8iJbU7e5ccDUBDkRdg6eCPIjEjJKERoZObAbkaMLY7qEtkwPgFvOgYfysg7/88Ds5C3jpbNvZ8YWMhFw6Xi1JVkQpm8ehYWDSq+KB4Ww4Olo/DX+XvUGewZRx3Nm/6nAgQASJABIjA1UBA7LMwCRABu0Zs6AK6HBJVStb/Cg1797rvWO3iLNkhtzSvDukHinEpowrS9hfkFpkE8TMjuCzlpvdeQcNXPVx3Yv3J5QhcuZJzLFeNHePiCNyo3h7utk0nRcHuMFhMUsg1RgSM0cF/TAuUPh2iOoVM5EUHs3j4hrvRmfuPdA5566wlthYFdQU2p3GWi6NKV+XwmFwiR0JIgk1wsIzjPixEcA9lMGYcd8aBPicCRIAIEAEicDUQEPssfFUKEFc3itjQXe1/sNb3VBSslgYDzh0vQ+6RMtRVtNhwVMnNiJ8dhTvumACVF+/z0XTsOIruv79HZCPe/Sd85wrIAC4W9A75NhpLVZBILfAON3DJDR3Ksrf5SFZdPhBrID23Yz34sytSLKrUruW7umQHN1vMyNPmOfhwaPV8JnhrUUgVmBIyxZaDIyk0CRqFRvAEBmPGccGDp4pEgAgQASJABIYxAbHPwiRABGwWsaEL6HLIVOmvPCAWswXF57VcssCLGVUwm3hzh0FiQa7ChIpQOV55cDriIvi8LKamJtR/sQPazZth6OTzw1WQSuG3aJGwkLdi0Wc+JplbgZ2PdGmxpVoBr6A22HLkPXQQiEoWq2eX2ul87Yk5ey8aswjna8/bBUdlGhoN9qSNrAO1TI2ksCRbWNzE0ESoWIQuNwtlHHcTHD1GBIgAESACRKCfCYh9FiYBImDBxIYuoMshU4XLhL50GQyXLkE5ZgzGfvUlJAo+E7k7pblej3PHyjjh0VBtT9pnClRgX2szcpUmXDshBG+sSkGARgn9xYtcpvL6nTu5kLqc1vD2hpkl/DPZrze5lfTPnQmwZ5oqgTPbeIfyqlyHVgzNUhT/GISIaQ3QhBnsnw2QAOlo/bAOhgkLmVQGlnm8Y9HINWDXqKxZxhOCE6CQub/W7uKl54gAESACRIAIEAHPEhD7LEwCRMD6iQ1dQJdDqhqTqcYAACAASURBVErzyZMofuxxxLzzNjQzZrg8drPZgqLcWk50XM6sBvt/VpRqGUZPC8OO+jrsKa7lfvbg9WPwzPzxaD1ymBMezUeO2PpTxsYicM1qBCxbBu32T1H5yiu2z8J+/SyCe8nF4fKgOz9gagPyvuNFRx7L2WHka7AcJKYOQgOAxQy75cPajocFiN6kR1ZVFjbnbsa+wn3dTt9X4QvmKG5N/BcfHN/lalafuVEDRIAIEAEiQASIwKAnIPZZmASIgCUXG7qALodcFYvRCIncnntDyASatHrkHi3lfDsaa+3Wjoixfpg0JwqSkRo8tjUDF6uboZJL8ZeFYzE77xi0n3yCtqIivguJBD7z5iFo7RporrvOlhVbbMtMj/OpzOWzkzOLR3MHJ+zo6bxDecgE4MPbnePoZwGiM+pwpuqM7UoV+2+D2VEYdRxkmFcY9ty5Byq5+1eqnE+aahABIkAEiAARIAJDgYDYZ2ESIAJWXWzoAroctlWYdaPwbA2yD5fiSla1NRUHVBo5Jl4TwQmP4Ggf7MupwC+3ZaBJb8Q0ixb/z5wD2b5vYdHpODZSPz8E3HUXAlevgjKm++zYfbXM9LgIujrg7OdAxmagJM1ezTsUSLwHSFkHhMXxP+/ghN7rooosQNj1qYzKDJvgOFtzFuy6Vcfio/BBU1tTj8OixH/D9p8hTYwIEAEiQASIgEsExD4LkwARgF9s6AK6HHZVmIUj90gpco+WgVk+rCVynD8S5kQhdmoY5EoZd/3qrQP5eP37c5hRloN1pScwtsjuR6EaPx6Ba9fCf8liSDXOIyy5Y5npFr7ZDFw6yIuO3F32nB1SOTBhIZDMcnbMBzr7RLTnAbG2yS6XZSuVSDAY4BAI64nTQHCs2+veYGhAekW6TXDk1ubCZOkQ4hdAuCbc5r+RHJqMx394HGXNZQ4J/6wDoMR/bi8FPUgEiAARIAJEYNgREPssTAJEwBYRG7qALodFFbPJjMtZNZxvR2F2jc3aofZWYOK1vLUjKNLbNldm7XjuoyOQ792FxZeOIqKlPcyrVArfm2/mhIdm5gzbNSuPQNJeBjI+ATK2APWF9i5D44GUtbzFwye096EwEaLnI0jtKj2MDdnv4qXJj2BJ5Gz+OZWvy+JD26rF6YrTtqR/LGJVx8zhrNlon2ib/wZzHGchdiXtYX4p5K1Hdg91QgSIABEgAkRgWBAQ+yxMAkTAthAbuoAuh3SVhmodctqtHS31dj+D6IkBSJgTjbHJoZApHDOPXzqZif0vvYmpeSegZg7dzH/b3x8BK37CJQ5UREd7jomhhbdypG8ELh+y98uydk+5m/ftiJrqcs4OIfk2eppkta7aIQdHfl1+l6qj/EbZkv5ND5+OSJ/IHplRyFvPbSfqiQgQASJABIjAUCcg9lmYBIiAHSE2dAFdDrkqJmbtyKzmfDtYRCu0Zyn38lUg7tpIztoREO54ZYpdj2r8YT8uvf8fKM9m2OZsjh2P6Afuhd/tt0OqVnuGBcvZUZzKi47sHYC+ob1fCTD2Rt7aEXc7oPByezzd5dtYEruk2/bKm8sdBMflhstd6o0LGGezcLBIVaEaJ5YYt0dODxIBIkAEiAARIAJXMwGxz8IkQATsJrGhC+hyyFSpq2zhfTuOlUPXYLd2jIgLRML10RiTFAKZ3NHaYdRqUffpZ9Bu+QTGsnJuriaJFNmxUzH7mccQff21olyzslgsyK7JBstXYb161AVsYzmfLJD5dlRfsH8cMIr362DZyQO6d3J3ZZGs1o/SplLuqlRHHwuZRAaWhTy1IhVpFWlILU9FcVOxQ/Os/oTACTYfDhYeN0gd5MoQqC4RIAJEgAgQASJABNwiIPZZmASIgGUQG7qALgd1FVObGRczq5B9qBQl59v9NABo/JSImxWJSbOj4B/a1VLQmpOD2k2b0bB7NywGXqzUK73xzehrIVl2J35z71yo5LK+zV2Iv4V/DHDhW1505H0PWJ21FRpg0jJeeIyazWVPF6t0tn5Y22XO4OUt5WAWj45FKpEiLiiOu1LFvpjg8GdXwKgQASJABIgAESACRMDDBMQ+C5MAEbCAYkMX0OWgrKItb+Ycys8dL0drE++nwUI5jZwUzEWyGpUYDJnM8dDO8nE07tvHCQ9dmj1kbVHoKGyPuRZHYlLwmzuSsO7aUX23enSIOMUCzi4eEYUShRwj2tqwq7gMtiwl6gCgtc7OOOYaXnQkLAfUfqKzbzO1YeEXC1HZUtlj23KJHAkhCTYfDpZx3EfpI/pYqEEiQASIABEgAkSACLhKQOyzMAkQASsgNnQBXQ6aKsY2EwpOV3HCozTPfmj39lcifnYU4mdHwi+4q7XDWFODuu3bod26DcaKCn4+cjnaZt+IF1VTcMIrCkE+Kry9ZiquHRssznw75NzY5aPBhtAQ+JlMuK25BY9r6xHAQulai084kLSKFx6hE8Tpv70Vs8WMPG2ezYfjaOlRtBhbeuzjgckP4OHEh6FhFhgqRIAIEAEiQASIABEYZATEPguTABGwwGJDF9DlgFepLW1G9uESnD9eDn0Ln8CORXAdNTmYcyhn36WdrB2sji4rC9pNm9Cw5xsw6wcrspAQLprVD+Nm43eHK2A0W5AQ5Yd3103DiEARD93tAoSN9vchQbi+RYebdDqo2h3i2Tcu98bCPwEzHgRkrmVu72lRmH8HC4PLfDiY/0ZaZRoaDXzYXWeF8m04I0SfEwEiQASIABEgAgNNQOyzMAkQASsqNnQBXQ5IlTaDCQVplZxvR/nFetsYfIJUnF9H3HWR8A3qGpWK+XM07P2OEx66zEzbc+rERAStWwvVzbfg93suYHsq71i9NCkKr9yVCC9lH/09OlM69zWwdTV0Egm8WFSr9nJeqcBOH28kt+pxa4sO6GPW8TZzG7Krs205OFjGcZZ5vGPRyDVg16givCPwed7nTtfzg1s/wIyIGU7rUQUiQASIABEgAkSACHiagNhnYRIgAlZQbOgCuvRoleriRuQcKsX5kxUw6NqtHVIJRk8J5iJZxUwKglTqkLebG5+xqgrabduh3bYVpqpqfswKBfwWLUTQ2rXwSkxERUMrHtmUhvTCOrAmfr0oDg9eP7bv/h5WQoZmIOdLIH0TcOWIjVu9VIo93hrs8PVBrlLBWT6ijUbeF8RFAaI36ZFVlcVHqKpIRWZVJnRGncMa+Sp8OUdx5jDOQuLGB8dDLpWD8m14dCtTZ0SACBABIkAEiEA/EBD7LEwCRMAiiQ1dQJf9XsXQakR+u7Wj8rI15wXgF6LmfTtmRcLbX9XtOJiVg4tm9e23QPs1K3loKAJW3oPAFSvA/puV04VaPLIxDZWNevip5Xhj9VTMnSBCrgpm3Sg6wYsOlrPD0NQ+TgkqZRL8OSgQBzQaGLoRTS9VVmPJmm+AqOQeGTNxwUSGNSTumaozMJjtIYbZgwGqAE5osC8mOliIXJlUZItOv+8C6oAIEAEiQASIABEgAs4JiH0WJgHinDnEhi6gy36rUlXYiOxDJbhwsgJtehPXD7NujEkO4Xw7YuKCIOnm4G42GND4zTec8GjNyrKNzyslBYFr18Bv/nxIlErbz7edKsTvdmbDYDJjQrgP3ls3HaNDvPs2r4YyIHMLHz63pkMm8KCxnDO5MXwyFh96CqVyGSzMYaVTkVgsvBVk4WbIR0yzfcquT7FrVFYfjrM1Z8H8OjqWYHUwLzYi+LC4sQGxYKFyqRABIkAEiAARIAJEYLgTEPssTAJEwI4RG7qALkWtwq5VXThVwUWyYgLEWliuDiY6mG8Hy+HRXWmrqIB261bUbf8UppoargoTGn633YbAtWuhnDQJJy/VorKxFWG+aqSMDMBLe3Lx8bErXN1bE8Lx6opk+KjcdPg26oHz3/CiI38fYGmPZKXw5sPmpqwBRl7HecifOrsFD6S95JTdm0nrgeCxtsR/OTU5MFlzgbQ/HaYJ43NwtAuO0X6jxbs25nSEVIEIEAEiQASIABEgAoOHgNhnYRIgAtZWbOgCuuxzFZYFvPJyI3IOl+BCaiWMVmuHXILY5FBOeERPCOzW2sGe1aWn89GsvvseMPLWAHlEBAJXruQiWsmDgvDt2TK8sCsHZfWttvEqZRIYTLwD+K/mT8Dj88Z16z/idIJlZ3jRcWYboLMnO+TEhjVnh8oxT4ah8hwOfHgjDJ2sH80SCS4rFLikVOCyQo4yhZLLRt6xRPtE265TMdExwmcECQ6ni0QViAARIAJEgAgQgauBgNhnYRIgAnaN2NAFdOl2FX1LG3e9KvtwKWqKrb4RQGCEhhMdE6+NgJdP99YOs16Phq/3cMKDZS23Fq/p0xC0dh18b7kZEjlvyfjx2DH8+as02zFeZ1GiCOFogxxSmPGLmX745Z1zXZtHSy1wZjuQsQkot1/zgm8kkLyaFx7Bsb23WVOA6oYipGrPI1WbizTtOeQ3l3R5hlk0OvpwRPpEujZWqk0EiAARIAJEgAgQgauEgNhnYRIgAjaO2NAFdOlSFWaxKL/YwFk78pm1o42/piSTSxE7LZTLUh45LqDHN/ptZWXQbtmKuk8/hUnLWxskKhX8Ft/ORbNSx8c7jMdUlQ/ZW3Yfii9Ns/BM20PQQ4kxkjK8r3gV46SlMD2eBlnouN7nYjYBBfuB9I38VStTu7O3TAlMXASkrANibwJ6cfAuby635+CoSMPlhstd+oz1j7Vdp2LCI1QjgjO8S6tElYkAESACRIAIEAEiMDQJiH0WJgEiYB+IDV1Al4KqtDa34fyJcs63gyUOtJagKG8ubwezdqi9Fd22xV2zSk1F7cZNaPzhB8DEO6TLoyIRuGoVAu6+G/LAwG6fPXPyIBL3LIXJIsErxlV4z7SYqzdPmo7XFW/BX8Jn/T5z21dInNmDFaQ6n7d0ZG4FGsvs/UQkAilrgSk/ATRBXfpn4y5pKrH5b7DEf8VNfH4Ra2HJ/VhUKqv/BguPG6Tu2pYgyFSJCBABIkAEiAARIAJXOQGxz8IkQARsKLGhC+iyxyrsAF6WX8clCyw4XQWTkbd2yBVSjJsehklzohEx1q9Ha4dZp0P97t3QbtoM/fnztn40M2cicN1a+M6bZ7tm1dMg/vvf75F84F480fYEDpkTuWqPyr7E0/LtkEnsvhX/vfEz3HjjfHsz+kYgeycfPrfouP3nXkFA4gr+ilUk3561sPleabhiy8HBQuOWNXcQLCyKl0SK+KB4m9M4SwDor/LvC2Z6lggQASJABIgAESACRKCdgNhnYRIgAraW2NAFdNltlYsZVTi2owB1FbyFgZXgET7cFasJ10RA5dVzpClDcQm0Wz5B3Wefw1zPZzmXqNXwX7KEi2alnjhB8LB279uPv/xwCVcsEfBCK/6ieBeLZSe6PM9ZQGbcAFw5yjuUM/FhzRjOQtiOu4UXHeyqlZzPOcIER0FdgYPgqNJVObQtl8gxKWQSLzjCp3MZx32Ujg7pgidDFYkAESACRIAIEAEiQAR6JSD2WZgEiIANJzZ0AV32KEC++SfvnM2yk1+zdCzCRvn2aO1gh/mWEydQu2kTmvYfAMy8tUQRHY3A1asRcNedkAUEuDQcFvlq/bZ0tLRZMEJSifcUf0O8tBDZSiUSDAYu47i1mKf/DNKLB4Dai/YfBo/jRUfSKsAvEmaLGXnaPAcfDq2+Q9QrNl6pAlNCptiuVCWFJkGj0Lg0bqpMBIgAESACRIAIEAEi4B4Bsc/CJEAErIPY0AV02W0Vk8mML/+WjrKCesTPjsRN6xydw20H/5YW1H/1FbSbN0OfZ0/Y5z3rOs7a4TN3LiQy17J2m80WvL7vAv6xn29vlvQs3lS8gSBJI3b5aLAhNAR/qqjC7S26rmNn1gkuZ8c6GKOn4rz2Ai84KlJxuuI0Ggz2TOzsYbVMDSYypkXwWcYTQxOhknWfld1dlvQcESACRIAIEAEiQASIgDACYp+FSYAI4C42dAFd2qpYzBac/bEE+hY+F8fp766grdUEpVqGlAWjuJ+pNHJMviEabSXF0G7+BHVffAFzA3+ol2g08F+2FEFr1kA1zklEqh4G1tjahqe2ZWBfbiVX44Fkb2zIXQ65xAw2ql+GhWC2rhWLm5rha+mQXyMyGW0zf47s8PFIrTnLXatKr0wHyzzesWjkGqSEp9iuVCUEJ0Ah69553hV2VJcIEAEiQASIABEgAkSg7wTEPguTABGwJmJDF9ClrYqh1YiPNxy1CRDmOsGSgVu/w2JBeEseZnhloOXQj8yJgntWMXIkgtashv/y5ZD5+bnSpUPdgqomPPRxKgqqmqGUS/Hy8im4K7IaeI+PbtUglcDPbBcddVIJ8pVKpKpVSI2djTMNF6EzOlpFfBW+YJGprJnG44LiIJe6mSnd7ZnRg0SACBABIkAEiAARIAJCCIh9FiYBIoC62NAFdOlQpbG2Fd/96yyX68NaZMZWRFScwOjKw1DVl9p+7j1nDgLXroHPDTdAIpW62pVD/QPnKvGLLelo1BsR6a/Gu2uSkKhLBU78E2C+HQB0EglSVUp87ueLU2oVGlifnTKRB6gCHLKMjw8YD1kveT36NGh6mAgQASJABIgAESACREBUAmKfhUmACFgesaEL6NKxSk0BTC0N+NeftVDUV2JEyY+ILD8GuamVqyfVeMH/zrs4x3LV2DEuN9/5Aea8/vZ/C/DX785zBpWl0U3409gz0OR+iubmSqQz64ZahRPefsiRA+ZOgsNH7oXZoVMxfeSNnPCIDYjlQuVSIQJEgAgQASJABIgAERh6BMQ+C5MAEbAHxIYuoEt7lZoC4I2pKDXEIzXzFowv+Nz2WbNXGEImNCBm3CXI1qcBwbEuNd1d5Wa9Ef/7WSZ+zLqIxbLjWBdwDNXmAqSq1Uj1UiFXqYSpk+Do3E60dzR237mbrlX1eTWoASJABIgAESACRIAIDDwBsc/CJEAErKnY0AV0aa9SmsH5WxxtXIe88umYkfYK1BEWXIm+BTk+dyDFZydm+W4EHjoIRCW71HTnykU1TXj1P+8ixLgbEs0VZKoVOKdUwNJJcET7RCNcE47Tlad77O+lOS9hSeySPo2HHiYCRIAIEAEiQASIABEYeAJin4VJgAhYU7GhC+iyiwApM8Sh0RSK0eYjUHqbuatRea3Xw1dWhUjlObcFSLWuGqkX9+Jg5nacbc7HZWXXq1KjfKIxPfJamx9HqCYUi3csRmlTKSzoEPWqfdQSSMBEyq7lu8gK4tJiU2UiQASIABEgAkSACAw+AmKfhUmACFhjsaEL6LKLAHH6jEALSHlzOZd/I63sJFKLfsRlfU2XpsdINZgZeQ2mj12EaRHTwQRHx3Kq/BQe2PuA0yF9cOsHmBExw2k9qkAEiAARIAJEgAgQASIweAmIfRYmASJgrcWGLqDLXgWINQyvQzvdCBDmTF7SVMILjoo0pJanorip2OExicWCCYY2ROm8EeA9C4/e9QwiA0f2OkSDyYADRQfAvvdUlDIl5sXMA/tOhQgQASJABIgAESACRGDoEhD7LEwCRMBeEBu6gC57FCDNlUoUHwpCzPW10IR1EAAPHYQlMglXGq7Ysowz0cEsHh2L1GJBvMGAaa16jNOrcaFxJvYYb8a9t83F/bNHQ+LEwdylsVNlIkAEiAARIAJEgAgQgSFPQOyzMAkQAVtCbOgCuuxWgDDLx8VvQmFoVEDp24Yxi6pwUaXgk/4lLEJaQwGYT0fHwtL7JbQaML1Vx4mOFKME+pgFeO5yMva2jEeARoW3Vk/FrHEhLg2LKhMBIkAEiAARIAJEgAhcHQTEPguTABGwb8SGLqDLbgVI1TlvpJb6IWekFDkjJTg/Bqjv5DSulCowReaH6XXlmN5Qi0S9ARrmsR49DUhZi+2tM/DcN0VoM1kQH+mH99ZNQ0yQxqUhUWUiQASIABEgAkSACBCBq4eA2GdhEiAC9o7Y0AV0aa/SngekTSfFaxUR2DiP2TTsRW02I0lvwPTImZhWdQWJJVlQWQNTeYcCSSuB5DUwBE3E/32VjS0nC7mHb0+MxF/uToRG6dieS2OjykSACBABIkAEiAARIALDnoDYZ2ESIAK2jNjQBXTpWKWmACW/fRGpeSfwxxUSxBVbMKnQgpSWNlw3VgV/70rApOefkcqBCQs50YHx8wGZApWNrXh002mkXdGCuXg8c2scHpk7lvw9XF4IeoAIEAEiQASIABEgAlcfAbHPwiRABOwhsaEL6NKhSvPxEyi87z6YJYDc24ig0S3wH6OD0ttkrxc2iRcdifcAPvawuRlFdXhkYxrKG1rhq5bjH6tSMG9imKtDoPpEgAgQASJABIgAESACVykBsc/CJEAEbCSxoQvo0qFK6W82oP7LLxE4rgERUxtsn5kMEjQUamAceRtCX3wfnHmjQ/ksrRgbdmTBYDRjXJgP5+8xNtTH1e6pPhEgAkSACBABIkAEiMBVTEDsszAJEAGbSWzoArp0qNJ84iQK770X6kADRi+oRnOFCvUXvdBY4gWLSYKRH38E75kzbc+0mcx48etcfHj0MvezW+LD8do9SfBVK1ztmuoTASJABIgAESACRIAIXOUExD4LkwARsKHEhi6gyy5VTj60EppDGVCpzTDqZNznJgnQckMyZr67xVa/ttmAxzefxrGLfIbzJ28ez31JpY7WEXfGQM8QASJABIgAESACRIAIXH0ExD4LkwARsIfEhi6gS4cqRrMRqz9aiA2vlkBltH/UqgD+tH4ENt/7DeRSObJL6/HQx2koqdPBWynDqyuSsXByhKvdUX0iQASIABEgAkSACBABImAjIPZZmASIgM0lNnQBXTpU2VWwCxsOb8DtJ8346Q9mMFsGi7T78c1SfD1TipfmvAQ0TcP/fpaJ1jYzRgVr8P5Pp2NCuK+rXVF9IkAEiAARIAJEgAgQASLgQEDsszAJEAEbTGzoArq0VWHWj5u3LUKNvhxyswV//ZcJ0bVASRDw9M9laJPIIKu9Ew1V07lnrh8fgjdWpSBAo3SlG6pLBIgAESACRIAIEAEiQAS6JSD2WZgEiICNJjZ0AV3aqhwvPYkHv/+Z7f/jCy145jMT/ny3DDnRGuhKVsLUPJH7/OG5Y7kcHzLy93AFMdUlAkSACBABIkAEiAAR6IWA2GfhYS9AXn75ZXzxxRc4d+4cvLy8MGvWLLzyyiuYOJE/tAspYkMX0qe1zo95ZXhg+4eAxJ7zQ2o2w2TRwKQbA5jVAMx49MaxeHZhgitNU10iQASIABEgAkSACBABIuCUgNhn4WEvQBYuXIiVK1dixowZMBqNeO6555CVlYWcnBx4e3s7Bc4qiA1dUKftlb7MKMGTWzOcPvL3lclYlhzttB5VIAJEgAgQASJABIgAESACrhAQ+yw87AVIZ7hVVVUICwvDwYMHccMNNwhiLzZ0QZ22VzpWUINV7x93+siWB6/FdbHBTutRBSJABIgAESACRIAIEAEi4AoBsc/CV50Ayc/Px/jx4zkryOTJk7tlr9frwb6shUGPiYlBfX09/Pz8XFmvPtc1mS2Y88p+lNe3cpGvOhcWESvCX43Dz95Evh99pk0NEAEiQASIABEgAkSACHQmQAKkD3vCYrFg2bJl0Gq1OHToUI8tPf/883jhhRe6fD4QAoQN4tuzZXh00+kuAsSaWvCdtVOxcHJkH8jQo0SACBABIkAEiAARIAJEoHsCJED6sDMef/xxfP311zh8+DBGjBjRY0uDyQJiHSQTIS/sykFZfatt3JH+avzfkkkkPvqwJ+hRIkAEiAARIAJEgAgQgd4JkABxc4c88cQT2LlzJ3788UeMGTPGpVbEhu5S5x0qs+tYJy/VorKxFWG+aswcE0TXrtyFSc8RASJABIgAESACRIAICCIg9ll42PuAsGtXTHzs2LED//3vfzn/D1eL2NBd7Z/qEwEiQASIABEgAkSACBCBgSIg9ll42AuQxx57DJ988gm+/PJLh9wf/v7+XF4QIUVs6EL6pDpEgAgQASJABIgAESACRGAwEBD7LDzsBYhEYnXVdly+//znP7jvvvsEranY0AV1SpWIABEgAkSACBABIkAEiMAgICD2WXjYCxAx1kxs6GKMidogAkSACBABIkAEiAARIAKeICD2WZgEiIBVExu6gC6pChEgAkSACBABIkAEiAARGBQExD4LkwARsKxiQxfQJVUhAkSACBABIkAEiAARIAKDgoDYZ2ESIAKWVWzoArqkKkSACBABIkAEiAARIAJEYFAQEPssTAJEwLKKDV1Al1SFCBABIkAEiAARIAJEgAgMCgJin4VJgAhYVrGhC+iSqhABIkAEiAARIAJEgAgQgUFBQOyzMAkQAcsqNnQBXVIVIkAEiAARIAJEgAgQASIwKAiIfRYmASJgWcWGLqBLqkIEiAARIAJEgAgQASJABAYFAbHPwiRABCxrfX09AgICUFRUBD8/PwFPUBUiQASIABEgAkSACBABIjA8CDABEhMTg7q6Ovj7+/d5UiRABCAsLi7moFMhAkSACBABIkAEiAARIAJXKwH2Mn7EiBF9nj4JEAEIzWYzSktL4evrC4lEIuAJxypW1UgWFJfR9ekB4t4nfG49TMzdwtbnh4h7nxG61QBxdwtbnx8i7n1G6FYDxN0tbH16aDAxt1gsaGxsRFRUFKRSaZ/mxR4mAdJnhM4bEPvenPMeqQYjQNw9vw+IueeZ014fGObEnbgPHIGB6Zl+v3ue+3BmTgLEA/tpOG8gD+Bzuwvi7jY6tx8k5m6j69ODxL1P+Nx+mLi7ja5PDxL3PuFz+2Hi7jY6tx8czsxJgLi9LYQ/OJw3kHAKnq9J3Im55wkMTI+014n7wBAYmF5pvxP3gSHg+V6H814nAeKB/aTX6/Hyyy/jN7/5DVQqlQd6pC4YAeLu+X1AzD3PnPb6wDAn7sR94AgMTM/0+93z3IczcxIgnt9P1CMRIAJEgAgQASJAmsDxrAAAFVFJREFUBIgAEbhqCZAAuWqXniZOBIgAESACRIAIEAEiQAQ8T4AEiOeZU49EgAgQASJABIgAESACROCqJUAC5Kpdepo4ESACRIAIEAEiQASIABHwPAESIH1kzpzLv/jiC5w7dw5eXl6YNWsWXnnlFUycOLHHlj/88EPcf//9XT7X6XRQq9V9HNHV8fjzzz+PF154wWGy4eHhKC8v7xHAwYMHsX79emRnZ3OJdJ555hk88sgjVwcwkWY5evRoXLlypUtrjz32GN56660uP6e97jr4H3/8EX/5y1+QlpaGsrIy7NixA3fccYetIZYMiu399957D1qtFtdccw3HPiEhodfO3n77ba5d1iar+/rrr+P66693fYDD9IneuLe1teG3v/0t9uzZg4sXL8Lf3x+33HIL/vSnP3G/S3oq7vyeGqZ4e5yWs/1+33334aOPPnJ4nu3548eP94rq888/x+9+9zsUFBQgNjYWL774IpYvX3614XWbe09Jl//85z/jf//3f7ttl/Z779tLyHmROZ0//fTT2LJlC9iZ8Oabbwb73d1b5nF3/yYM9D8GEiB9XIGFCxdi5cqVmDFjBoxGI5577jlkZWUhJycH3t7e3bbODmVPPvkkzp8/7/B5REREH0dz9TzOftF99tln2Ldvn23SMpkMoaGh3UK4dOkSJk+ejAcffBAPP/wwjhw5AnZoZv/I77rrrqsHXB9nWlVVBZPJZGvl7NmzmD9/Pg4cOIAbb7yxWwFCe9016N988w23P6dOncrtzc4ChL3gYIcp9ntkwoQJ+OMf/wh2iGO/T3x9fbvtbNu2bVi3bh33h2z27Nl499138a9//Yv7PTVy5EjXBjhMa/fGvb6+HnfffTf3+yMpKYkTfr/85S+53/mpqam9ChBXfk8NU7S9TsvZfmcCpKKiAv/5z39s7SiVSgQFBfXY7rFjxzhx/Yc//IETHezf0O9//3scPnyYE+xUAGfcO7/MY/V/9rOfIT8/H2PHju1RgNB+73l3CTkvPvroo9i1axf3+z04OBi/+tWvUFtby72QYmec7oo7fxMGw78BEiAirwI7oIWFhYG9bb/hhht6FCDsj1ddXZ3IvV89zTEBsnPnTmRkZAia9LPPPouvvvoKubm5tvrM+pGZmQn2x4qKewTYPt69ezfy8vLQ3Rsz9kuU9rp7bNlTjGlHAcLedLE37owp29OssDdmzPrH/ggxcd1dYYcuJmjeeecd28fx8fGcZYW9laPiSKAz9+74nDp1CjNnzuQsgj2JOFd/T13t69AddyZA2N9K9vteaLnnnnvA8iewQ7O1sMNfYGAg99KJiuv7nf2uaGxsxA8//NAjPtrvru2szudF9qKDvUTduHEj2B5mpbS0FDExMZz19dZbb+3Sgbt/E1wbaf/UJgEiMlf2dmD8+PGcFYS9ce+usEPZz3/+c0RHR3Nvk5OTk7k3NSkpKSKPZvg2x37Rsesk7CoEy63CDlgvvfRSj29mmBhkfP/+97/boLCD3YoVK9DS0gKFQjF8YfXTzAwGA3cYZtfaNmzYQHu9Hzh3PpCx6z/sOsnp06cdfl8sW7YMAQEBXa6qsCGxddJoNPj0008drqAwyxQT8OxlCRXXD2TM+rpgwQLucOzn59ctQld/T13t69CTAGHig1k92B6fO3cuZwFkL/p6KkwQPvXUU9yXtbz22mvctcPurpASd8cXHZ15MAsUuwLErsKtXr26VwHiyt/lq5175/Pi/v37uStXzOLBxLK1MKsrE4Cdr52zz935mzBYuJMAEXElmBJlBwFmnj906FCPLbO7q2zjTZkyhXtLww7FTN2yt/FMvFBxToC92WLCgV1BYb8c2TUU5ofD/DuY2bJzYfXYm7SOB+WjR49y11HYG4bIyEjnnVINBwLbt2/n/hgVFhb2eA+e9nrfNk3nA5l1z5aUlDgwf+ihh7iD1d69e7t0yPY3e9nBrnUxHzVrYYKdHSg6XwXt24iHx9POLCCtra2YM2cO4uLisGnTph4n7ervqeFBz/1ZdMedXR/08fHBqFGjwK7SMr8OdvWNXUnpKbEvEyvsRV/Hw/Inn3zC+V4yiyEVRwLO9jvz+2D+Tux3SW9+qrTfhe+s7s6LPe1R9qJjzJgx3NXZzsWdvwnCR9m/NUmAiMj38ccfx9dff83dM+3NYahzl2azmbsewd7S/+Mf/xBxRFdPU83NzdybYeZYzt7IdydA2B8flo3eWtiBjB0imFMu+d+4vleYOZj9oWf3VYUW2utCSfH1ehIgnUUz800oKirCt99+26MAYX+orvv/7Z15rF1TG4ffUnNQs6hZTY15KI0gFRFFG0rRoI2YaWusELOYpdWooU0NJUoJoTVXjEFMSQ0xpqGqiGolaIKS9MuzZF/n7numfXp7vtt7nje5/5yz9t5rP3vdddZvv8Pq37/te94i4+pHuGv1L8hISB86dGgS3q+99lpF70c5prXmqVZ/DrUWwvBhvkaMTJs2LYYMGVIWGfMS4nrYsGFt30+dOjXlMCAetfrHOy0R2uT6TZgwoRA6x3tlXOXWi5UECOxZ30ycOLHDCSu9SK32m1DoIS7DxgqQToI7atSoFKNKMihKtagxWObNm9cuZrXoOVq9Pf+kffr0aRfnnjExBKtzRwdv20lEpAIcXr8i5livn5YhWPWz6syWlRbCiA/CNgl7IFyinLe1Vj+qzVO1ju3u39cjQGBApABhzFkeVJ6LIVjFRko17kRz8PtJuCahQEXN8d6RWKX1oiFYRUdXi7fHjcZgIp+At2GNhFBxDpIZCcm67777WpxoY7ePW503BISiUO0kb/xQ8aaeqj+ZUW2CSdUk9OLMiW3HHcxb9549e9Z9Asd63ahSw0pJ6MS24+3DyPEgHr5WEvqee+6ZqmBl1rdv3yQeTULv+EzKLcgy8UHBBaq+Vaq4V+0J15qnio2O7te6HgGycOHCFFJIGerhw4eXhUACLwnThDZnNnDgwJRDYhJ6feM9a0XoMtUOq1V7qzQSHe/tydRaL2ZJ6IR18qIDw+NHRE2tJPSivwldYfbQA7KUT4FSrrjNpk+f3m7vD5Kj2RcEY5Jkwsx+6Ekk2nfffZNYIQeEsCtCIQgJQohotQlQJ3vQoEGp+sz8+fNTDgjJtCT/454n1Io4+QcffDCdLCvDS5Ug3sAjOqiCZRne2qzzLQijwstHeANxwaXmWC/OM3/EokWLUo4YRuGEcePGxYABA1LZUcY7QoO5hLKkzCHkcvDyo7QML4mMlB8dOXJkOk9WhhcXPmFYLN4mT56ccqb4f9EiqnGn2AIlkUn+p+obVccy47kQ8oPludeap+RenTtsedkBe/L05syZk/L4CH+jomFWdjo/7xCWwlt7wgwR2fw+s4+LZXj/G3G15hlasj6B+9ixY8vumeV4L/YfXM96kRejzDHkMDH+mUMQ3aVleAmJ4zcg29emnt+EYj1tTmsFyFJyrrRZD4sD3hxg7I/ABm4MKAylSugKdbYRKiwymGRL47OXslvd/nD2XiHcbcGCBelNJIKOSmK81cVgz48VC7PMECiwzzYixCviRoTFh8rMmTNTOUAWvCT3l5pjvTjP/BGMWQRH3kaMGJHmkGzTKTxQpRsRllbdY77hf4B5JTO8HyST8kaNtlQFqlQqfOnvYvk7QzXucKwUWlu6B06ee615avmj1Pk9rsadstFU/5k1a1aqNsZimP8N5npKk2aWn3f4nP0oEB1ZlSDESKWckc6/q65/xlrzDHfAiwpKfjNnsFbJm+O92HOuZ71IjhIbPfJiu3QjwtLxznlK15j1/CYU62lzWitAmsPZq0hAAhKQgAQkIAEJSEAChBgvQTppEpCABCQgAQlIQAISkIAEmkBAAdIEyF5CAhKQgAQkIAEJSEACEviXgALEkSABCUhAAhKQgAQkIAEJNI2AAqRpqL2QBCQgAQlIQAISkIAEJKAAcQxIQAISkIAEJCABCUhAAk0joABpGmovJAEJSEACEpCABCQgAQkoQBwDEpCABCQgAQlIQAISkEDTCChAmobaC0lAAhKQgAQkIAEJSEACChDHgAQkIAEJ/F8JZLsys7N7r169lllf7r333nj00Udj5syZ6RrsFs8O20899VTFa7LL9m677Rbjx49vqF+ffPJJDBw4ML788stYY401GjqHB0lAAhLobgQUIN3tiXo/EpCABMoQKLfYfvzxx+PEE0+Ma6+9Ni6++OJlxm3WrFlxxRVXxHvvvRe//fZbbLzxxrHPPvvEnXfeGeuvv34sXrw4fvnll9hoo42iR48ey6Qff/31V2y99dYxbdq02H///esWIPRrpZVWijXXXDMds+WWW8Z5552X/uq1IUOGxB577BGXX355vYfYTgISkEC3JqAA6daP15uTgAQk8C+BvAC555574pxzzkki4NRTT11mmObPnx877rhjDBo0KM4999zk4fjmm29ixowZccEFF8Tmm2++zK5deuKHH344rrnmmuSJyKweD0i+c40IkKeffjrOPPPMmDt3bqy44opNuV8vIgEJSKArE1CAdOWnY98kIAEJdBKB0sX2LbfcEldeeWVMnTo1jj766HZXuP/++4PvEQkstkePHh1nn312anPQQQdF375944477mg7ZuHChbHJJpvE888/n77PG+FNQ4cOjT/++CN69uxZ9m7yIViEPb3++usd2mZ9+vXXX2PMmDEpdOrPP/+MvfbaK2677bbYddddK9IaPHhwbL/99nHrrbd2ECC77757EmKca9iwYTFhwoRYeeWVU7vSEKxy/VqyZEl8++23MXLkyHjzzTeTNwduXOewww5L5+CztdZaK5577rmyjDrpEXsaCUhAAssNAQXIcvOo7KgEJCCBxglkAmSHHXZIi+0nn3wyDj744HYnnDx5clx11VVJYLAoJ3TqtNNOi3HjxsWIESMCLwIL7R9//DFWWWWVdOztt9+eFv9ff/112fCpd955J/r37x+PPfZYHHPMMWXb5AUIYU8s2jPDU/Ppp5+m/qy66qophGrddddNImrttdeOSZMmxZQpU+Krr75Kn5ezddZZJyZOnBjHHXdcOwHyxBNPxOGHH55CxObMmRMnn3xyuufrr7++gwChX4ic008/PbXBCCc74ogjUn/Hjh2b8jw+++yzJDgOOOCAtmsRcoYgga8mAQlIoNUJKEBafQR4/xKQQEsQQIA88sgjaaH88ssvl30TTzjUzTffnLwAmV133XXpzf3bb78d5FHg7bj77rvj2GOPTU0QKkceeWTVhfVll12WvCosyvv165euPXz48JTzgVVLQkfckKPy7rvvxnbbbRevvPJKHHXUUUFoVyaCOEefPn1SHgviIG8kmiNA3njjjbb8D9rAhPCo7777LlZfffV0GCIF7wpelhVWWKGdB4Tvy4Vg7bLLLsmTVE1ckAeCWMLDpElAAhJodQIKkFYfAd6/BCTQEgRYbONFWLBgQfTu3TuFTGWJ1QD4+eefY8MNN4zVVlstLbwz++eff9LC+aeffkofkcdBHsULL7wQH374YUquJjRqiy22iBtuuCH9ZYYnIMvxIFQL8YBHhNApvAkIgp133rmiAKGPiBtEwiGHHJJOS2jTJZdckvpZaoR4XXTRRUlA5Q2PDcKJJPi999677WuYkJdBvzL76KOPUtUrvCHcU74KVjkBQj7NWWedlcQVXiXECKKk1E444YSAJVW4NAlIQAKtTkAB0uojwPuXgARagkAWgkXI1IABA1LoECIiEyEIDD576KGHUoWqUiNxequttkofUVaWBTp5D3g1Pv/883jppZfSd4gK/jJjsV4u7wMvDJ4TcjceeOCBsgIE8ULo1tVXXx3nn39+2zkRGORo4DXJGwnuVNXKG9cjdIv7zYQMbaoJEO4P8VSPAOFceFGeffbZVOL3mWeeSeFYo0aNausKpXi32WabdvkzLTHwvEkJSEACZQgoQBwWEpCABFqAQGkS+rx585IIYbH+4osvptAobNNNN40zzjgj5UNUMwTKoYcemnJJEAOlIVv1oiQpnERvSgHnQ7DwluBNIIciH7KE2GExP3v27BQOVa/ttNNOqdpXafncLAQLHplHhXwSPCmVQrAIA4PRhRdeWPHSl156aRIjH3/8cVubzTbbLImpU045pd4u204CEpBAtyWgAOm2j9Ybk4AEJPAfgXzJ2e+//z6JEJK2ESGEWRFKRNWrG2+8MS3yyfn44IMPgg0CKZmbGcnqJKOTN0F4E96FSoY3gL03jj/++JTDQdUoQqoIo0JcnHTSSR0EyIEHHhiIEBbxpXkeG2ywQQoPQ5j8/vvvKdyKylY//PBDylMhXAuvSjlDMODVQPBkBhOS0CkRzB4dfE8SOn8wwPIeEDwoiJW77ror9Q0Rh6iBF/cHK8KxEEdZuBXhXOxBkoWqOS4lIAEJtDoBBUirjwDvXwISaAkC5fa8QDwgQvCAEDpECBOVrsizIASKik7kaLDAJvE7s0WLFqUEcs6JF6SaUR3rpptuSmV1CVNi0b7tttum0r4cj+U9IJU2I8zK8CI+SGxHPJC7QugYogTRgKehnH3xxRcpX4V7RmxhGRMqW3EfCC6EElXAMuGTFyDksOABIQ+G9ggqQq3IV8GTAku8QyTPr7feeuk69Iv7JwRMk4AEJCCBCAWIo0ACEpCABAoRQEjwhv/9999Pi/rlxajcRe4JIVLNMkQKgosKZPvtt1+zLut1JCABCXRpAgqQLv147JwEJCCBrkPg77//Th4EwqcIV3rrrbe6Tufq6Al9Zgf20uTwOg5bqibsTfLqq68mr4kmAQlIQAL/ElCAOBIkIAEJSKAuAlmoFLkO5FIQnqVJQAISkIAEihJQgBQlZnsJSEACEpCABCQgAQlIoGECCpCG0XmgBCQgAQlIQAISkIAEJFCUgAKkKDHbS0ACEpCABCQgAQlIQAINE1CANIzOAyUgAQlIQAISkIAEJCCBogQUIEWJ2V4CEpCABCQgAQlIQAISaJiAAqRhdB4oAQlIQAISkIAEJCABCRQloAApSsz2EpCABCQgAQlIQAISkEDDBBQgDaPzQAlIQAISkIAEJCABCUigKAEFSFFitpeABCQgAQlIQAISkIAEGiagAGkYnQdKQAISkIAEJCABCUhAAkUJKECKErO9BCQgAQlIQAISkIAEJNAwAQVIw+g8UAISkIAEJCABCUhAAhIoSkABUpSY7SUgAQlIQAISkIAEJCCBhgkoQBpG54ESkIAEJCABCUhAAhKQQFECCpCixGwvAQlIQAISkIAEJCABCTRM4H/tnvHAkd9EqAAAAABJRU5ErkJggg==\" width=\"800\">"
      ],
      "text/plain": [
       "<IPython.core.display.HTML object>"
      ]
     },
     "metadata": {},
     "output_type": "display_data"
    },
    {
     "name": "stdout",
     "output_type": "stream",
     "text": [
      "Invalid parameters\n",
      "Invalid parameters\n",
      "Invalid parameters\n",
      "Invalid parameters\n",
      "Invalid parameters\n",
      "Invalid parameters\n",
      "Invalid parameters\n",
      "Invalid parameters\n",
      "Invalid parameters\n",
      "Invalid parameters\n",
      "Invalid parameters\n",
      "Invalid parameters\n",
      "Invalid parameters\n",
      "Invalid parameters\n",
      "Invalid parameters\n",
      "Invalid parameters\n",
      "Invalid parameters\n",
      "Invalid parameters\n",
      "Invalid parameters\n",
      "Invalid parameters\n",
      "Invalid parameters\n",
      "Invalid parameters\n",
      "Invalid parameters\n",
      "Invalid parameters\n",
      "Invalid parameters\n",
      "Invalid parameters\n",
      "Invalid parameters\n",
      "Invalid parameters\n",
      "Invalid parameters\n",
      "Invalid parameters\n",
      "Invalid parameters\n",
      "Invalid parameters\n",
      "Invalid parameters\n",
      "Invalid parameters\n",
      "Invalid parameters\n",
      "Invalid parameters\n",
      "Invalid parameters\n",
      "Invalid parameters\n",
      "Invalid parameters\n",
      "Invalid parameters\n",
      "Invalid parameters\n",
      "Invalid parameters\n",
      "Invalid parameters\n",
      "Invalid parameters\n",
      "Invalid parameters\n",
      "Invalid parameters\n",
      "Invalid parameters\n",
      "Invalid parameters\n",
      "Invalid parameters\n",
      "Invalid parameters\n",
      "Invalid parameters\n",
      "Invalid parameters\n",
      "Invalid parameters\n",
      "Invalid parameters\n",
      "Invalid parameters\n",
      "Invalid parameters\n",
      "Invalid parameters\n",
      "Invalid parameters\n",
      "Invalid parameters\n",
      "Invalid parameters\n",
      "Press Enter to stop.\n",
      "Invalid parameters\n",
      "Invalid parameters\n",
      "Invalid parameters\n",
      "Invalid parameters\n",
      "Invalid parameters\n",
      "Invalid parameters\n",
      "Invalid parameters\n",
      "Invalid parameters\n",
      "Invalid parameters\n",
      "Invalid parameters\n",
      "Invalid parameters\n",
      "Invalid parameters\n",
      "Invalid parameters\n",
      "Invalid parameters\n",
      "Invalid parameters\n",
      "Invalid parameters\n",
      "Invalid parameters\n",
      "Invalid parameters\n"
     ]
    }
   ],
   "source": [
    "%matplotlib notebook\n",
    "from graphs_ECC import *\n",
    "\n",
    "minBit = 3\n",
    "bf_bit = 13\n",
    "bsgs_bit = 21\n",
    "ph_bit = 21\n",
    "rho_bit = 21\n",
    "mov_bit = 21\n",
    "\n",
    "testGraphs(minBit, bf_bit, bsgs_bit, ph_bit, rho_bit, mov_bit)"
   ]
  },
  {
   "cell_type": "markdown",
   "metadata": {},
   "source": [
    "<img src=\"imgs/ECC.png\" alt=\"drawing\" style=\"width:80%;\"/>"
   ]
  },
  {
   "cell_type": "markdown",
   "metadata": {},
   "source": [
    "## Try it yourself"
   ]
  },
  {
   "cell_type": "markdown",
   "metadata": {},
   "source": [
    "Below you can select which solvers you want to use and enter your own curve to test against the solvers"
   ]
  },
  {
   "cell_type": "code",
   "execution_count": 5,
   "metadata": {},
   "outputs": [
    {
     "name": "stdout",
     "output_type": "stream",
     "text": [
      "Generator point: (225, 1072)\n",
      "Of order: 2185\n",
      "Public point: (397, 2087)\n"
     ]
    }
   ],
   "source": [
    "from ECC.curves import * \n",
    "\n",
    "# SET YOUR OWN CURVE IN WEIERSTRASS FORM E: y^2 = x^3 + ax + b (mod fp)\n",
    "a = 59\n",
    "b = 23\n",
    "fp = 2153\n",
    "\n",
    "# CREATE CURVE\n",
    "C = Curve(a, b, fp)  \n",
    "\n",
    "# GET GENERATOR POINT\n",
    "G = C.getG()\n",
    "print(\"Generator point:\", G)\n",
    "\n",
    "if G:\n",
    "    ordG = C.order(G)\n",
    "    print(\"Of order:\", C.order(G))\n",
    "\n",
    "    # SET k AND CALCULATE PUBLIC POINT \n",
    "    k = 135\n",
    "    Q = G * k\n",
    "    print(\"Public point:\", Q)\n",
    "\n",
    "    # PACKAGE ALL INTO KEY CLASS\n",
    "    ECC_keys = generate_ECC.KeyGen(verbose = True)\n",
    "    ECC_keys.setCurve(C)\n",
    "    ECC_keys.setG(G)\n",
    "    ECC_keys.setQ(Q)\n",
    "    ECC_keys.setK(k)"
   ]
  },
  {
   "cell_type": "code",
   "execution_count": 6,
   "metadata": {},
   "outputs": [
    {
     "name": "stdout",
     "output_type": "stream",
     "text": [
      "========== BRUTE FORCE ==========\n",
      "k: 135\n",
      "Time taken: 0.003 s\n",
      "Space used: 4 bytes\n",
      "Numbers checked: 135\n",
      "Success!\n",
      "========== BABYSTEP_GIANTSTEP ==========\n",
      "k: 135\n",
      "Time taken: 0.002 s\n",
      "Space used: 384 bytes\n",
      "Numbers checked: 51\n",
      "Success!\n",
      "========== POLLARD'S RHO ==========\n",
      "k: 135\n",
      "Time taken: 0.021 s\n",
      "Space used: 72 bytes\n",
      "Numbers checked: 139\n",
      "Success!\n",
      "========== POLLARD'S LAMBDA ==========\n",
      "k: 135\n",
      "Time taken: 0.063 s\n",
      "Space used: 80 bytes\n",
      "Numbers checked: 1942\n",
      "Success!\n",
      "========== POHLIG HELLMAN ==========\n",
      "{5: 1, 19: 1, 23: 1}\n",
      "k: 135\n",
      "Time taken: 0.001 s\n",
      "Space used: 15\n",
      "Numbers checked: 22\n",
      "Success!\n",
      "========== MOV ATTACK ==========\n",
      "Not Suceptible to MOV attack\n",
      "Fail!\n"
     ]
    }
   ],
   "source": [
    "import run_ECC\n",
    "\n",
    "# SET SOLVERS ON/OFF \n",
    "bf = True     # brute-force\n",
    "bsgs = True   # baby-step giant-step\n",
    "pr = True     # pollard's - rho\n",
    "pl = True     # pollard's lambda\n",
    "ph = True     # pohlig-hellman\n",
    "mov = True    # mov-attack\n",
    "\n",
    "# PASS KEYS TO SOLVER\n",
    "run_ECC.runSolvers(ECC_keys, bf, bsgs, pr, pl, ph, mov)"
   ]
  }
 ],
 "metadata": {
  "kernelspec": {
   "display_name": "Python 3",
   "language": "python",
   "name": "python3"
  },
  "language_info": {
   "codemirror_mode": {
    "name": "ipython",
    "version": 3
   },
   "file_extension": ".py",
   "mimetype": "text/x-python",
   "name": "python",
   "nbconvert_exporter": "python",
   "pygments_lexer": "ipython3",
   "version": "3.7.1"
  }
 },
 "nbformat": 4,
 "nbformat_minor": 2
}
