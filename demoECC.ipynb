{
 "cells": [
  {
   "cell_type": "markdown",
   "metadata": {},
   "source": [
    "# ECC Demonstration"
   ]
  },
  {
   "cell_type": "markdown",
   "metadata": {},
   "source": [
    "Import my ECC package into the environment"
   ]
  },
  {
   "cell_type": "code",
   "execution_count": 1,
   "metadata": {
    "scrolled": false
   },
   "outputs": [],
   "source": [
    "from ECC import *"
   ]
  },
  {
   "cell_type": "markdown",
   "metadata": {},
   "source": [
    "### Key Generation\n",
    "Declare the bit size we want to use"
   ]
  },
  {
   "cell_type": "code",
   "execution_count": 2,
   "metadata": {
    "scrolled": false
   },
   "outputs": [],
   "source": [
    "bitSize = 17"
   ]
  },
  {
   "cell_type": "markdown",
   "metadata": {},
   "source": [
    "Generate a set of ECC keys with appropriate bitsize"
   ]
  },
  {
   "cell_type": "code",
   "execution_count": 3,
   "metadata": {
    "scrolled": false
   },
   "outputs": [
    {
     "name": "stdout",
     "output_type": "stream",
     "text": [
      "================================================== \n",
      "Generating  17 bit prime... \n",
      "10 rounds of Miller-Rabin needed (according to FISC)\n",
      "Trial-Division prime list generated, size:  54\n",
      "New candidate... 82131\n",
      "New candidate... 107291\n",
      "New candidate... 106679\n",
      "New candidate... 86513\n",
      "New candidate... 100429\n",
      "New candidate... 118663\n",
      "New candidate... 100285\n",
      "New candidate... 123685\n",
      "New candidate... 104663\n",
      "New candidate... 66153\n",
      "New candidate... 78893\n",
      "Prime of  17 bits found: 78893\n",
      "Checked 11 candidates in 0.01 s\n",
      "\n",
      "Checking: y^2 = x^3 + 5x + 6 % 78893\n",
      "\n",
      "y^2 = x^3 + 5x + 6 % 78893\n",
      "Checked 1 curves\n",
      "k = 27744  G = (34203, 57112)   Q = (6523, 21503)\n",
      "Public-Key: {\n",
      "    Curve: y^2 = x^3 + 5x + 6 % 78893\n",
      "    Base-Point: (34203, 57112)\n",
      "    Order(Base): 39496\n",
      "    Public-Point: (6523, 21503)\n",
      "}\n",
      "Private-Key: 27744\n",
      "n is 17 bits\n",
      "\n"
     ]
    },
    {
     "data": {
      "text/plain": [
       "True"
      ]
     },
     "execution_count": 3,
     "metadata": {},
     "output_type": "execute_result"
    }
   ],
   "source": [
    "ECC_keys = generate_ECC.KeyGen(bitSize, True, True)     # initalise object True sets verbose and demo flag on KeyGen\n",
    "ECC_keys.generateCurve()                                # create a curve\n",
    "ECC_keys.generateKeys()                                 # runs generator"
   ]
  },
  {
   "cell_type": "markdown",
   "metadata": {},
   "source": [
    "### Brute Force Algorithm"
   ]
  },
  {
   "cell_type": "markdown",
   "metadata": {},
   "source": []
  },
  {
   "cell_type": "code",
   "execution_count": 4,
   "metadata": {
    "scrolled": true
   },
   "outputs": [
    {
     "data": {
      "text/plain": [
       "'27744.G = (6523, 21503)'"
      ]
     },
     "metadata": {},
     "output_type": "display_data"
    },
    {
     "name": "stdout",
     "output_type": "stream",
     "text": [
      "k: 27744\n",
      "Time taken: 1.009 s\n",
      "Space used: 4 bytes\n",
      "Numbers checked: 27744\n"
     ]
    },
    {
     "data": {
      "text/plain": [
       "True"
      ]
     },
     "execution_count": 4,
     "metadata": {},
     "output_type": "execute_result"
    }
   ],
   "source": [
    "# pass it public keys, and True verbose & demo flag\n",
    "bf = brute_force.BFSolver(ECC_keys.curve, ECC_keys.Q, ECC_keys.G, True, True) \n",
    "# run solver\n",
    "bf.solve()                                                                "
   ]
  },
  {
   "cell_type": "markdown",
   "metadata": {},
   "source": [
    "### Pollard's-$\\lambda$ method"
   ]
  },
  {
   "cell_type": "markdown",
   "metadata": {},
   "source": []
  },
  {
   "cell_type": "code",
   "execution_count": null,
   "metadata": {},
   "outputs": [
    {
     "data": {
      "text/plain": [
       "'Trap: (34203, 57112) Wild: (34203, 57112)'"
      ]
     },
     "metadata": {},
     "output_type": "display_data"
    },
    {
     "name": "stdout",
     "output_type": "stream",
     "text": [
      "k: 27744\n",
      "Time taken: 1.388 s\n",
      "Space used: 80 bytes\n",
      "Numbers checked: 7890\n"
     ]
    },
    {
     "data": {
      "text/plain": [
       "True"
      ]
     },
     "execution_count": 5,
     "metadata": {},
     "output_type": "execute_result"
    }
   ],
   "source": [
    "# pass it public keys, and True verbose & demo flag\n",
    "lamb = pollard_lambda.PLSolver(ECC_keys.curve, ECC_keys.Q, ECC_keys.G, True, True) \n",
    "# run solver\n",
    "lamb.solve()  "
   ]
  },
  {
   "cell_type": "markdown",
   "metadata": {},
   "source": [
    "### Make it a bit harder"
   ]
  },
  {
   "cell_type": "code",
   "execution_count": null,
   "metadata": {},
   "outputs": [
    {
     "name": "stdout",
     "output_type": "stream",
     "text": [
      "Prime of  26 bits found: 44023697\n",
      "Checked 1 candidates in 0.00 s\n",
      "\n",
      "y^2 = x^3 + 8x + 8 % 44023697\n",
      "Checked 1 curves\n",
      "k = 28096604  G = (4340680, 3283973)   Q = (13480831, 37614933)\n",
      "Public-Key: {\n",
      "    Curve: y^2 = x^3 + 8x + 8 % 44023697\n",
      "    Base-Point: (4340680, 3283973)\n",
      "    Order(Base): 44024289\n",
      "    Public-Point: (13480831, 37614933)\n",
      "}\n",
      "Private-Key: 28096604\n",
      "n is 26 bits\n",
      "\n"
     ]
    },
    {
     "data": {
      "text/plain": [
       "True"
      ]
     },
     "execution_count": 6,
     "metadata": {},
     "output_type": "execute_result"
    }
   ],
   "source": [
    "bitSize = 26\n",
    "\n",
    "ECC_keys = generate_ECC.KeyGen(bitSize, True)     # initalise object True sets verbose flag on KeyGen\n",
    "ECC_keys.generateCurve()                          # create a curve\n",
    "ECC_keys.generateKeys()                           # runs generator"
   ]
  },
  {
   "cell_type": "markdown",
   "metadata": {},
   "source": [
    "### Baby Step - Giant Step Algorithm"
   ]
  },
  {
   "cell_type": "markdown",
   "metadata": {},
   "source": []
  },
  {
   "cell_type": "code",
   "execution_count": null,
   "metadata": {},
   "outputs": [
    {
     "data": {
      "text/plain": [
       "'(13480831, 37614933) - (4340680, 3283973) * 28090188 = (23506387, 40329025)'"
      ]
     },
     "metadata": {},
     "output_type": "display_data"
    },
    {
     "name": "stdout",
     "output_type": "stream",
     "text": [
      "k: 28096604\n",
      "Time taken: 2.230 s\n",
      "Space used: 53096 bytes\n",
      "Numbers checked: 10871\n"
     ]
    },
    {
     "data": {
      "text/plain": [
       "True"
      ]
     },
     "execution_count": 7,
     "metadata": {},
     "output_type": "execute_result"
    }
   ],
   "source": [
    "# pass it public keys, and True verbose & demo flag\n",
    "bsgs = baby_step.BGSolver(ECC_keys.curve, ECC_keys.Q, ECC_keys.G, True, True)    \n",
    "# run solver\n",
    "bsgs.solve()                                                              "
   ]
  },
  {
   "cell_type": "markdown",
   "metadata": {},
   "source": [
    "### Pohlig-Hellman"
   ]
  },
  {
   "cell_type": "markdown",
   "metadata": {},
   "source": []
  },
  {
   "cell_type": "code",
   "execution_count": null,
   "metadata": {},
   "outputs": [
    {
     "name": "stdout",
     "output_type": "stream",
     "text": [
      "{3: 1, 47: 1, 312229: 1}\n",
      "3^1: G'=(44007973, 36948361) Q'=(44007973, 7075336); ord = 3\n",
      "47^1: G'=(32720102, 23113472) Q'=(401663, 13902372); ord = 47\n",
      "312229^1: G'=(35502936, 23417960) Q'=(17443688, 43746279); ord = 312229\n",
      "k: 28096604\n",
      "Time taken: 0.257 s\n",
      "Space used: 1123\n",
      "Numbers checked: 1125\n"
     ]
    },
    {
     "data": {
      "text/plain": [
       "True"
      ]
     },
     "execution_count": 8,
     "metadata": {},
     "output_type": "execute_result"
    }
   ],
   "source": [
    "# pass it public keys, and True verbose & demo flag\n",
    "ph = pohlig_hellman.PHSolver(ECC_keys.curve, ECC_keys.Q, ECC_keys.G, True, True) \n",
    "# run solver\n",
    "ph.solve()  "
   ]
  },
  {
   "cell_type": "markdown",
   "metadata": {},
   "source": [
    "### Pollard's-$\\rho$ method"
   ]
  },
  {
   "cell_type": "markdown",
   "metadata": {},
   "source": []
  },
  {
   "cell_type": "code",
   "execution_count": null,
   "metadata": {
    "scrolled": true
   },
   "outputs": [
    {
     "data": {
      "text/plain": [
       "'X: (34583685, 8222094) Y: (34583685, 8222094)'"
      ]
     },
     "metadata": {},
     "output_type": "display_data"
    },
    {
     "name": "stdout",
     "output_type": "stream",
     "text": [
      "k: 28096604\n",
      "Time taken: 1.108 s\n",
      "Space used: 72 bytes\n",
      "Numbers checked: 8629\n"
     ]
    },
    {
     "data": {
      "text/plain": [
       "True"
      ]
     },
     "execution_count": 9,
     "metadata": {},
     "output_type": "execute_result"
    }
   ],
   "source": [
    "# pass it public keys, and True verbose & demo flag\n",
    "rho = pollard_rho.PRSolver(ECC_keys.curve, ECC_keys.Q, ECC_keys.G, True, True)   \n",
    "# run solver\n",
    "rho.solve()                                                                "
   ]
  },
  {
   "cell_type": "markdown",
   "metadata": {},
   "source": [
    "### MOV Attack"
   ]
  },
  {
   "cell_type": "markdown",
   "metadata": {},
   "source": []
  },
  {
   "cell_type": "code",
   "execution_count": null,
   "metadata": {},
   "outputs": [
    {
     "name": "stdout",
     "output_type": "stream",
     "text": [
      "Prime of  12 bits found: 2371\n",
      "Checked 4 candidates in 0.00 s\n",
      "\n",
      "y^2 = x^3 + 7x % 2371\n",
      "Checked 1 curves\n",
      "k = 1982  G = (1352, 1446)   Q = (1411, 1235)\n",
      "Public-Key: {\n",
      "    Curve: y^2 = x^3 + 7x % 2371\n",
      "    Base-Point: (1352, 1446)\n",
      "    Order(Base): 2372\n",
      "    Public-Point: (1411, 1235)\n",
      "}\n",
      "Private-Key: 1982\n",
      "n is 12 bits\n",
      "\n",
      "[[1105*a + 1025, 626*a + 1421], [1556*a + 595, 439*a + 2275]]\n",
      "2240*a + 806 2020*a + 2350 2372\n",
      "k: 1982\n",
      "Time taken: 0.002 s\n",
      "Space used: 28900 bytes\n",
      "Numbers checked: 85\n"
     ]
    }
   ],
   "source": [
    "from IPython.display import display, clear_output\n",
    "\n",
    "solved = False\n",
    "bitSize = 12\n",
    "\n",
    "while not solved:\n",
    "    clear_output(wait=True)\n",
    "    \n",
    "    ECC_keys = generate_ECC.KeyGen(bitSize, True)     # initalise object True sets verbose flag on KeyGen\n",
    "    ECC_keys.generateCurve()                          # create a curve\n",
    "    ECC_keys.generateKeys()                           # runs generator\n",
    "\n",
    "    # pass it public keys, and True verbose & demo flag\n",
    "    mov = mov_attack.MOVSolver(ECC_keys.curve, ECC_keys.Q, ECC_keys.G, True, True) \n",
    "    # run solver\n",
    "    mov.solve()  \n",
    "    \n",
    "    solved = mov.k == ECC_keys.k"
   ]
  },
  {
   "cell_type": "markdown",
   "metadata": {},
   "source": [
    "### Basic Analysis\n",
    "Running the above algorithms on a variety of random inputs to create graphs showing general trends.\n",
    "\n",
    "The below style code makes the format of the graphs nicer"
   ]
  },
  {
   "cell_type": "code",
   "execution_count": null,
   "metadata": {
    "scrolled": false
   },
   "outputs": [
    {
     "data": {
      "text/html": [
       "<style>\n",
       ".output_wrapper button.btn.btn-default,\n",
       ".output_wrapper .ui-dialog-titlebar {\n",
       "  display: none;\n",
       "}\n",
       "</style>\n"
      ],
      "text/plain": [
       "<IPython.core.display.HTML object>"
      ]
     },
     "metadata": {},
     "output_type": "display_data"
    }
   ],
   "source": [
    "%%html\n",
    "<style>\n",
    ".output_wrapper button.btn.btn-default,\n",
    ".output_wrapper .ui-dialog-titlebar {\n",
    "  display: none;\n",
    "}\n",
    "</style>"
   ]
  },
  {
   "cell_type": "markdown",
   "metadata": {},
   "source": [
    "Runs each algorithm in a thread and plots the results."
   ]
  },
  {
   "cell_type": "code",
   "execution_count": null,
   "metadata": {
    "scrolled": false
   },
   "outputs": [
    {
     "data": {
      "application/javascript": [
       "/* Put everything inside the global mpl namespace */\n",
       "window.mpl = {};\n",
       "\n",
       "\n",
       "mpl.get_websocket_type = function() {\n",
       "    if (typeof(WebSocket) !== 'undefined') {\n",
       "        return WebSocket;\n",
       "    } else if (typeof(MozWebSocket) !== 'undefined') {\n",
       "        return MozWebSocket;\n",
       "    } else {\n",
       "        alert('Your browser does not have WebSocket support.' +\n",
       "              'Please try Chrome, Safari or Firefox ≥ 6. ' +\n",
       "              'Firefox 4 and 5 are also supported but you ' +\n",
       "              'have to enable WebSockets in about:config.');\n",
       "    };\n",
       "}\n",
       "\n",
       "mpl.figure = function(figure_id, websocket, ondownload, parent_element) {\n",
       "    this.id = figure_id;\n",
       "\n",
       "    this.ws = websocket;\n",
       "\n",
       "    this.supports_binary = (this.ws.binaryType != undefined);\n",
       "\n",
       "    if (!this.supports_binary) {\n",
       "        var warnings = document.getElementById(\"mpl-warnings\");\n",
       "        if (warnings) {\n",
       "            warnings.style.display = 'block';\n",
       "            warnings.textContent = (\n",
       "                \"This browser does not support binary websocket messages. \" +\n",
       "                    \"Performance may be slow.\");\n",
       "        }\n",
       "    }\n",
       "\n",
       "    this.imageObj = new Image();\n",
       "\n",
       "    this.context = undefined;\n",
       "    this.message = undefined;\n",
       "    this.canvas = undefined;\n",
       "    this.rubberband_canvas = undefined;\n",
       "    this.rubberband_context = undefined;\n",
       "    this.format_dropdown = undefined;\n",
       "\n",
       "    this.image_mode = 'full';\n",
       "\n",
       "    this.root = $('<div/>');\n",
       "    this._root_extra_style(this.root)\n",
       "    this.root.attr('style', 'display: inline-block');\n",
       "\n",
       "    $(parent_element).append(this.root);\n",
       "\n",
       "    this._init_header(this);\n",
       "    this._init_canvas(this);\n",
       "    this._init_toolbar(this);\n",
       "\n",
       "    var fig = this;\n",
       "\n",
       "    this.waiting = false;\n",
       "\n",
       "    this.ws.onopen =  function () {\n",
       "            fig.send_message(\"supports_binary\", {value: fig.supports_binary});\n",
       "            fig.send_message(\"send_image_mode\", {});\n",
       "            if (mpl.ratio != 1) {\n",
       "                fig.send_message(\"set_dpi_ratio\", {'dpi_ratio': mpl.ratio});\n",
       "            }\n",
       "            fig.send_message(\"refresh\", {});\n",
       "        }\n",
       "\n",
       "    this.imageObj.onload = function() {\n",
       "            if (fig.image_mode == 'full') {\n",
       "                // Full images could contain transparency (where diff images\n",
       "                // almost always do), so we need to clear the canvas so that\n",
       "                // there is no ghosting.\n",
       "                fig.context.clearRect(0, 0, fig.canvas.width, fig.canvas.height);\n",
       "            }\n",
       "            fig.context.drawImage(fig.imageObj, 0, 0);\n",
       "        };\n",
       "\n",
       "    this.imageObj.onunload = function() {\n",
       "        fig.ws.close();\n",
       "    }\n",
       "\n",
       "    this.ws.onmessage = this._make_on_message_function(this);\n",
       "\n",
       "    this.ondownload = ondownload;\n",
       "}\n",
       "\n",
       "mpl.figure.prototype._init_header = function() {\n",
       "    var titlebar = $(\n",
       "        '<div class=\"ui-dialog-titlebar ui-widget-header ui-corner-all ' +\n",
       "        'ui-helper-clearfix\"/>');\n",
       "    var titletext = $(\n",
       "        '<div class=\"ui-dialog-title\" style=\"width: 100%; ' +\n",
       "        'text-align: center; padding: 3px;\"/>');\n",
       "    titlebar.append(titletext)\n",
       "    this.root.append(titlebar);\n",
       "    this.header = titletext[0];\n",
       "}\n",
       "\n",
       "\n",
       "\n",
       "mpl.figure.prototype._canvas_extra_style = function(canvas_div) {\n",
       "\n",
       "}\n",
       "\n",
       "\n",
       "mpl.figure.prototype._root_extra_style = function(canvas_div) {\n",
       "\n",
       "}\n",
       "\n",
       "mpl.figure.prototype._init_canvas = function() {\n",
       "    var fig = this;\n",
       "\n",
       "    var canvas_div = $('<div/>');\n",
       "\n",
       "    canvas_div.attr('style', 'position: relative; clear: both; outline: 0');\n",
       "\n",
       "    function canvas_keyboard_event(event) {\n",
       "        return fig.key_event(event, event['data']);\n",
       "    }\n",
       "\n",
       "    canvas_div.keydown('key_press', canvas_keyboard_event);\n",
       "    canvas_div.keyup('key_release', canvas_keyboard_event);\n",
       "    this.canvas_div = canvas_div\n",
       "    this._canvas_extra_style(canvas_div)\n",
       "    this.root.append(canvas_div);\n",
       "\n",
       "    var canvas = $('<canvas/>');\n",
       "    canvas.addClass('mpl-canvas');\n",
       "    canvas.attr('style', \"left: 0; top: 0; z-index: 0; outline: 0\")\n",
       "\n",
       "    this.canvas = canvas[0];\n",
       "    this.context = canvas[0].getContext(\"2d\");\n",
       "\n",
       "    var backingStore = this.context.backingStorePixelRatio ||\n",
       "\tthis.context.webkitBackingStorePixelRatio ||\n",
       "\tthis.context.mozBackingStorePixelRatio ||\n",
       "\tthis.context.msBackingStorePixelRatio ||\n",
       "\tthis.context.oBackingStorePixelRatio ||\n",
       "\tthis.context.backingStorePixelRatio || 1;\n",
       "\n",
       "    mpl.ratio = (window.devicePixelRatio || 1) / backingStore;\n",
       "\n",
       "    var rubberband = $('<canvas/>');\n",
       "    rubberband.attr('style', \"position: absolute; left: 0; top: 0; z-index: 1;\")\n",
       "\n",
       "    var pass_mouse_events = true;\n",
       "\n",
       "    canvas_div.resizable({\n",
       "        start: function(event, ui) {\n",
       "            pass_mouse_events = false;\n",
       "        },\n",
       "        resize: function(event, ui) {\n",
       "            fig.request_resize(ui.size.width, ui.size.height);\n",
       "        },\n",
       "        stop: function(event, ui) {\n",
       "            pass_mouse_events = true;\n",
       "            fig.request_resize(ui.size.width, ui.size.height);\n",
       "        },\n",
       "    });\n",
       "\n",
       "    function mouse_event_fn(event) {\n",
       "        if (pass_mouse_events)\n",
       "            return fig.mouse_event(event, event['data']);\n",
       "    }\n",
       "\n",
       "    rubberband.mousedown('button_press', mouse_event_fn);\n",
       "    rubberband.mouseup('button_release', mouse_event_fn);\n",
       "    // Throttle sequential mouse events to 1 every 20ms.\n",
       "    rubberband.mousemove('motion_notify', mouse_event_fn);\n",
       "\n",
       "    rubberband.mouseenter('figure_enter', mouse_event_fn);\n",
       "    rubberband.mouseleave('figure_leave', mouse_event_fn);\n",
       "\n",
       "    canvas_div.on(\"wheel\", function (event) {\n",
       "        event = event.originalEvent;\n",
       "        event['data'] = 'scroll'\n",
       "        if (event.deltaY < 0) {\n",
       "            event.step = 1;\n",
       "        } else {\n",
       "            event.step = -1;\n",
       "        }\n",
       "        mouse_event_fn(event);\n",
       "    });\n",
       "\n",
       "    canvas_div.append(canvas);\n",
       "    canvas_div.append(rubberband);\n",
       "\n",
       "    this.rubberband = rubberband;\n",
       "    this.rubberband_canvas = rubberband[0];\n",
       "    this.rubberband_context = rubberband[0].getContext(\"2d\");\n",
       "    this.rubberband_context.strokeStyle = \"#000000\";\n",
       "\n",
       "    this._resize_canvas = function(width, height) {\n",
       "        // Keep the size of the canvas, canvas container, and rubber band\n",
       "        // canvas in synch.\n",
       "        canvas_div.css('width', width)\n",
       "        canvas_div.css('height', height)\n",
       "\n",
       "        canvas.attr('width', width * mpl.ratio);\n",
       "        canvas.attr('height', height * mpl.ratio);\n",
       "        canvas.attr('style', 'width: ' + width + 'px; height: ' + height + 'px;');\n",
       "\n",
       "        rubberband.attr('width', width);\n",
       "        rubberband.attr('height', height);\n",
       "    }\n",
       "\n",
       "    // Set the figure to an initial 600x600px, this will subsequently be updated\n",
       "    // upon first draw.\n",
       "    this._resize_canvas(600, 600);\n",
       "\n",
       "    // Disable right mouse context menu.\n",
       "    $(this.rubberband_canvas).bind(\"contextmenu\",function(e){\n",
       "        return false;\n",
       "    });\n",
       "\n",
       "    function set_focus () {\n",
       "        canvas.focus();\n",
       "        canvas_div.focus();\n",
       "    }\n",
       "\n",
       "    window.setTimeout(set_focus, 100);\n",
       "}\n",
       "\n",
       "mpl.figure.prototype._init_toolbar = function() {\n",
       "    var fig = this;\n",
       "\n",
       "    var nav_element = $('<div/>')\n",
       "    nav_element.attr('style', 'width: 100%');\n",
       "    this.root.append(nav_element);\n",
       "\n",
       "    // Define a callback function for later on.\n",
       "    function toolbar_event(event) {\n",
       "        return fig.toolbar_button_onclick(event['data']);\n",
       "    }\n",
       "    function toolbar_mouse_event(event) {\n",
       "        return fig.toolbar_button_onmouseover(event['data']);\n",
       "    }\n",
       "\n",
       "    for(var toolbar_ind in mpl.toolbar_items) {\n",
       "        var name = mpl.toolbar_items[toolbar_ind][0];\n",
       "        var tooltip = mpl.toolbar_items[toolbar_ind][1];\n",
       "        var image = mpl.toolbar_items[toolbar_ind][2];\n",
       "        var method_name = mpl.toolbar_items[toolbar_ind][3];\n",
       "\n",
       "        if (!name) {\n",
       "            // put a spacer in here.\n",
       "            continue;\n",
       "        }\n",
       "        var button = $('<button/>');\n",
       "        button.addClass('ui-button ui-widget ui-state-default ui-corner-all ' +\n",
       "                        'ui-button-icon-only');\n",
       "        button.attr('role', 'button');\n",
       "        button.attr('aria-disabled', 'false');\n",
       "        button.click(method_name, toolbar_event);\n",
       "        button.mouseover(tooltip, toolbar_mouse_event);\n",
       "\n",
       "        var icon_img = $('<span/>');\n",
       "        icon_img.addClass('ui-button-icon-primary ui-icon');\n",
       "        icon_img.addClass(image);\n",
       "        icon_img.addClass('ui-corner-all');\n",
       "\n",
       "        var tooltip_span = $('<span/>');\n",
       "        tooltip_span.addClass('ui-button-text');\n",
       "        tooltip_span.html(tooltip);\n",
       "\n",
       "        button.append(icon_img);\n",
       "        button.append(tooltip_span);\n",
       "\n",
       "        nav_element.append(button);\n",
       "    }\n",
       "\n",
       "    var fmt_picker_span = $('<span/>');\n",
       "\n",
       "    var fmt_picker = $('<select/>');\n",
       "    fmt_picker.addClass('mpl-toolbar-option ui-widget ui-widget-content');\n",
       "    fmt_picker_span.append(fmt_picker);\n",
       "    nav_element.append(fmt_picker_span);\n",
       "    this.format_dropdown = fmt_picker[0];\n",
       "\n",
       "    for (var ind in mpl.extensions) {\n",
       "        var fmt = mpl.extensions[ind];\n",
       "        var option = $(\n",
       "            '<option/>', {selected: fmt === mpl.default_extension}).html(fmt);\n",
       "        fmt_picker.append(option)\n",
       "    }\n",
       "\n",
       "    // Add hover states to the ui-buttons\n",
       "    $( \".ui-button\" ).hover(\n",
       "        function() { $(this).addClass(\"ui-state-hover\");},\n",
       "        function() { $(this).removeClass(\"ui-state-hover\");}\n",
       "    );\n",
       "\n",
       "    var status_bar = $('<span class=\"mpl-message\"/>');\n",
       "    nav_element.append(status_bar);\n",
       "    this.message = status_bar[0];\n",
       "}\n",
       "\n",
       "mpl.figure.prototype.request_resize = function(x_pixels, y_pixels) {\n",
       "    // Request matplotlib to resize the figure. Matplotlib will then trigger a resize in the client,\n",
       "    // which will in turn request a refresh of the image.\n",
       "    this.send_message('resize', {'width': x_pixels, 'height': y_pixels});\n",
       "}\n",
       "\n",
       "mpl.figure.prototype.send_message = function(type, properties) {\n",
       "    properties['type'] = type;\n",
       "    properties['figure_id'] = this.id;\n",
       "    this.ws.send(JSON.stringify(properties));\n",
       "}\n",
       "\n",
       "mpl.figure.prototype.send_draw_message = function() {\n",
       "    if (!this.waiting) {\n",
       "        this.waiting = true;\n",
       "        this.ws.send(JSON.stringify({type: \"draw\", figure_id: this.id}));\n",
       "    }\n",
       "}\n",
       "\n",
       "\n",
       "mpl.figure.prototype.handle_save = function(fig, msg) {\n",
       "    var format_dropdown = fig.format_dropdown;\n",
       "    var format = format_dropdown.options[format_dropdown.selectedIndex].value;\n",
       "    fig.ondownload(fig, format);\n",
       "}\n",
       "\n",
       "\n",
       "mpl.figure.prototype.handle_resize = function(fig, msg) {\n",
       "    var size = msg['size'];\n",
       "    if (size[0] != fig.canvas.width || size[1] != fig.canvas.height) {\n",
       "        fig._resize_canvas(size[0], size[1]);\n",
       "        fig.send_message(\"refresh\", {});\n",
       "    };\n",
       "}\n",
       "\n",
       "mpl.figure.prototype.handle_rubberband = function(fig, msg) {\n",
       "    var x0 = msg['x0'] / mpl.ratio;\n",
       "    var y0 = (fig.canvas.height - msg['y0']) / mpl.ratio;\n",
       "    var x1 = msg['x1'] / mpl.ratio;\n",
       "    var y1 = (fig.canvas.height - msg['y1']) / mpl.ratio;\n",
       "    x0 = Math.floor(x0) + 0.5;\n",
       "    y0 = Math.floor(y0) + 0.5;\n",
       "    x1 = Math.floor(x1) + 0.5;\n",
       "    y1 = Math.floor(y1) + 0.5;\n",
       "    var min_x = Math.min(x0, x1);\n",
       "    var min_y = Math.min(y0, y1);\n",
       "    var width = Math.abs(x1 - x0);\n",
       "    var height = Math.abs(y1 - y0);\n",
       "\n",
       "    fig.rubberband_context.clearRect(\n",
       "        0, 0, fig.canvas.width, fig.canvas.height);\n",
       "\n",
       "    fig.rubberband_context.strokeRect(min_x, min_y, width, height);\n",
       "}\n",
       "\n",
       "mpl.figure.prototype.handle_figure_label = function(fig, msg) {\n",
       "    // Updates the figure title.\n",
       "    fig.header.textContent = msg['label'];\n",
       "}\n",
       "\n",
       "mpl.figure.prototype.handle_cursor = function(fig, msg) {\n",
       "    var cursor = msg['cursor'];\n",
       "    switch(cursor)\n",
       "    {\n",
       "    case 0:\n",
       "        cursor = 'pointer';\n",
       "        break;\n",
       "    case 1:\n",
       "        cursor = 'default';\n",
       "        break;\n",
       "    case 2:\n",
       "        cursor = 'crosshair';\n",
       "        break;\n",
       "    case 3:\n",
       "        cursor = 'move';\n",
       "        break;\n",
       "    }\n",
       "    fig.rubberband_canvas.style.cursor = cursor;\n",
       "}\n",
       "\n",
       "mpl.figure.prototype.handle_message = function(fig, msg) {\n",
       "    fig.message.textContent = msg['message'];\n",
       "}\n",
       "\n",
       "mpl.figure.prototype.handle_draw = function(fig, msg) {\n",
       "    // Request the server to send over a new figure.\n",
       "    fig.send_draw_message();\n",
       "}\n",
       "\n",
       "mpl.figure.prototype.handle_image_mode = function(fig, msg) {\n",
       "    fig.image_mode = msg['mode'];\n",
       "}\n",
       "\n",
       "mpl.figure.prototype.updated_canvas_event = function() {\n",
       "    // Called whenever the canvas gets updated.\n",
       "    this.send_message(\"ack\", {});\n",
       "}\n",
       "\n",
       "// A function to construct a web socket function for onmessage handling.\n",
       "// Called in the figure constructor.\n",
       "mpl.figure.prototype._make_on_message_function = function(fig) {\n",
       "    return function socket_on_message(evt) {\n",
       "        if (evt.data instanceof Blob) {\n",
       "            /* FIXME: We get \"Resource interpreted as Image but\n",
       "             * transferred with MIME type text/plain:\" errors on\n",
       "             * Chrome.  But how to set the MIME type?  It doesn't seem\n",
       "             * to be part of the websocket stream */\n",
       "            evt.data.type = \"image/png\";\n",
       "\n",
       "            /* Free the memory for the previous frames */\n",
       "            if (fig.imageObj.src) {\n",
       "                (window.URL || window.webkitURL).revokeObjectURL(\n",
       "                    fig.imageObj.src);\n",
       "            }\n",
       "\n",
       "            fig.imageObj.src = (window.URL || window.webkitURL).createObjectURL(\n",
       "                evt.data);\n",
       "            fig.updated_canvas_event();\n",
       "            fig.waiting = false;\n",
       "            return;\n",
       "        }\n",
       "        else if (typeof evt.data === 'string' && evt.data.slice(0, 21) == \"data:image/png;base64\") {\n",
       "            fig.imageObj.src = evt.data;\n",
       "            fig.updated_canvas_event();\n",
       "            fig.waiting = false;\n",
       "            return;\n",
       "        }\n",
       "\n",
       "        var msg = JSON.parse(evt.data);\n",
       "        var msg_type = msg['type'];\n",
       "\n",
       "        // Call the  \"handle_{type}\" callback, which takes\n",
       "        // the figure and JSON message as its only arguments.\n",
       "        try {\n",
       "            var callback = fig[\"handle_\" + msg_type];\n",
       "        } catch (e) {\n",
       "            console.log(\"No handler for the '\" + msg_type + \"' message type: \", msg);\n",
       "            return;\n",
       "        }\n",
       "\n",
       "        if (callback) {\n",
       "            try {\n",
       "                // console.log(\"Handling '\" + msg_type + \"' message: \", msg);\n",
       "                callback(fig, msg);\n",
       "            } catch (e) {\n",
       "                console.log(\"Exception inside the 'handler_\" + msg_type + \"' callback:\", e, e.stack, msg);\n",
       "            }\n",
       "        }\n",
       "    };\n",
       "}\n",
       "\n",
       "// from http://stackoverflow.com/questions/1114465/getting-mouse-location-in-canvas\n",
       "mpl.findpos = function(e) {\n",
       "    //this section is from http://www.quirksmode.org/js/events_properties.html\n",
       "    var targ;\n",
       "    if (!e)\n",
       "        e = window.event;\n",
       "    if (e.target)\n",
       "        targ = e.target;\n",
       "    else if (e.srcElement)\n",
       "        targ = e.srcElement;\n",
       "    if (targ.nodeType == 3) // defeat Safari bug\n",
       "        targ = targ.parentNode;\n",
       "\n",
       "    // jQuery normalizes the pageX and pageY\n",
       "    // pageX,Y are the mouse positions relative to the document\n",
       "    // offset() returns the position of the element relative to the document\n",
       "    var x = e.pageX - $(targ).offset().left;\n",
       "    var y = e.pageY - $(targ).offset().top;\n",
       "\n",
       "    return {\"x\": x, \"y\": y};\n",
       "};\n",
       "\n",
       "/*\n",
       " * return a copy of an object with only non-object keys\n",
       " * we need this to avoid circular references\n",
       " * http://stackoverflow.com/a/24161582/3208463\n",
       " */\n",
       "function simpleKeys (original) {\n",
       "  return Object.keys(original).reduce(function (obj, key) {\n",
       "    if (typeof original[key] !== 'object')\n",
       "        obj[key] = original[key]\n",
       "    return obj;\n",
       "  }, {});\n",
       "}\n",
       "\n",
       "mpl.figure.prototype.mouse_event = function(event, name) {\n",
       "    var canvas_pos = mpl.findpos(event)\n",
       "\n",
       "    if (name === 'button_press')\n",
       "    {\n",
       "        this.canvas.focus();\n",
       "        this.canvas_div.focus();\n",
       "    }\n",
       "\n",
       "    var x = canvas_pos.x * mpl.ratio;\n",
       "    var y = canvas_pos.y * mpl.ratio;\n",
       "\n",
       "    this.send_message(name, {x: x, y: y, button: event.button,\n",
       "                             step: event.step,\n",
       "                             guiEvent: simpleKeys(event)});\n",
       "\n",
       "    /* This prevents the web browser from automatically changing to\n",
       "     * the text insertion cursor when the button is pressed.  We want\n",
       "     * to control all of the cursor setting manually through the\n",
       "     * 'cursor' event from matplotlib */\n",
       "    event.preventDefault();\n",
       "    return false;\n",
       "}\n",
       "\n",
       "mpl.figure.prototype._key_event_extra = function(event, name) {\n",
       "    // Handle any extra behaviour associated with a key event\n",
       "}\n",
       "\n",
       "mpl.figure.prototype.key_event = function(event, name) {\n",
       "\n",
       "    // Prevent repeat events\n",
       "    if (name == 'key_press')\n",
       "    {\n",
       "        if (event.which === this._key)\n",
       "            return;\n",
       "        else\n",
       "            this._key = event.which;\n",
       "    }\n",
       "    if (name == 'key_release')\n",
       "        this._key = null;\n",
       "\n",
       "    var value = '';\n",
       "    if (event.ctrlKey && event.which != 17)\n",
       "        value += \"ctrl+\";\n",
       "    if (event.altKey && event.which != 18)\n",
       "        value += \"alt+\";\n",
       "    if (event.shiftKey && event.which != 16)\n",
       "        value += \"shift+\";\n",
       "\n",
       "    value += 'k';\n",
       "    value += event.which.toString();\n",
       "\n",
       "    this._key_event_extra(event, name);\n",
       "\n",
       "    this.send_message(name, {key: value,\n",
       "                             guiEvent: simpleKeys(event)});\n",
       "    return false;\n",
       "}\n",
       "\n",
       "mpl.figure.prototype.toolbar_button_onclick = function(name) {\n",
       "    if (name == 'download') {\n",
       "        this.handle_save(this, null);\n",
       "    } else {\n",
       "        this.send_message(\"toolbar_button\", {name: name});\n",
       "    }\n",
       "};\n",
       "\n",
       "mpl.figure.prototype.toolbar_button_onmouseover = function(tooltip) {\n",
       "    this.message.textContent = tooltip;\n",
       "};\n",
       "mpl.toolbar_items = [[\"Home\", \"Reset original view\", \"fa fa-home icon-home\", \"home\"], [\"Back\", \"Back to previous view\", \"fa fa-arrow-left icon-arrow-left\", \"back\"], [\"Forward\", \"Forward to next view\", \"fa fa-arrow-right icon-arrow-right\", \"forward\"], [\"\", \"\", \"\", \"\"], [\"Pan\", \"Pan axes with left mouse, zoom with right\", \"fa fa-arrows icon-move\", \"pan\"], [\"Zoom\", \"Zoom to rectangle\", \"fa fa-square-o icon-check-empty\", \"zoom\"], [\"\", \"\", \"\", \"\"], [\"Download\", \"Download plot\", \"fa fa-floppy-o icon-save\", \"download\"]];\n",
       "\n",
       "mpl.extensions = [\"eps\", \"jpeg\", \"pdf\", \"png\", \"ps\", \"raw\", \"svg\", \"tif\"];\n",
       "\n",
       "mpl.default_extension = \"png\";var comm_websocket_adapter = function(comm) {\n",
       "    // Create a \"websocket\"-like object which calls the given IPython comm\n",
       "    // object with the appropriate methods. Currently this is a non binary\n",
       "    // socket, so there is still some room for performance tuning.\n",
       "    var ws = {};\n",
       "\n",
       "    ws.close = function() {\n",
       "        comm.close()\n",
       "    };\n",
       "    ws.send = function(m) {\n",
       "        //console.log('sending', m);\n",
       "        comm.send(m);\n",
       "    };\n",
       "    // Register the callback with on_msg.\n",
       "    comm.on_msg(function(msg) {\n",
       "        //console.log('receiving', msg['content']['data'], msg);\n",
       "        // Pass the mpl event to the overridden (by mpl) onmessage function.\n",
       "        ws.onmessage(msg['content']['data'])\n",
       "    });\n",
       "    return ws;\n",
       "}\n",
       "\n",
       "mpl.mpl_figure_comm = function(comm, msg) {\n",
       "    // This is the function which gets called when the mpl process\n",
       "    // starts-up an IPython Comm through the \"matplotlib\" channel.\n",
       "\n",
       "    var id = msg.content.data.id;\n",
       "    // Get hold of the div created by the display call when the Comm\n",
       "    // socket was opened in Python.\n",
       "    var element = $(\"#\" + id);\n",
       "    var ws_proxy = comm_websocket_adapter(comm)\n",
       "\n",
       "    function ondownload(figure, format) {\n",
       "        window.open(figure.imageObj.src);\n",
       "    }\n",
       "\n",
       "    var fig = new mpl.figure(id, ws_proxy,\n",
       "                           ondownload,\n",
       "                           element.get(0));\n",
       "\n",
       "    // Call onopen now - mpl needs it, as it is assuming we've passed it a real\n",
       "    // web socket which is closed, not our websocket->open comm proxy.\n",
       "    ws_proxy.onopen();\n",
       "\n",
       "    fig.parent_element = element.get(0);\n",
       "    fig.cell_info = mpl.find_output_cell(\"<div id='\" + id + \"'></div>\");\n",
       "    if (!fig.cell_info) {\n",
       "        console.error(\"Failed to find cell for figure\", id, fig);\n",
       "        return;\n",
       "    }\n",
       "\n",
       "    var output_index = fig.cell_info[2]\n",
       "    var cell = fig.cell_info[0];\n",
       "\n",
       "};\n",
       "\n",
       "mpl.figure.prototype.handle_close = function(fig, msg) {\n",
       "    var width = fig.canvas.width/mpl.ratio\n",
       "    fig.root.unbind('remove')\n",
       "\n",
       "    // Update the output cell to use the data from the current canvas.\n",
       "    fig.push_to_output();\n",
       "    var dataURL = fig.canvas.toDataURL();\n",
       "    // Re-enable the keyboard manager in IPython - without this line, in FF,\n",
       "    // the notebook keyboard shortcuts fail.\n",
       "    IPython.keyboard_manager.enable()\n",
       "    $(fig.parent_element).html('<img src=\"' + dataURL + '\" width=\"' + width + '\">');\n",
       "    fig.close_ws(fig, msg);\n",
       "}\n",
       "\n",
       "mpl.figure.prototype.close_ws = function(fig, msg){\n",
       "    fig.send_message('closing', msg);\n",
       "    // fig.ws.close()\n",
       "}\n",
       "\n",
       "mpl.figure.prototype.push_to_output = function(remove_interactive) {\n",
       "    // Turn the data on the canvas into data in the output cell.\n",
       "    var width = this.canvas.width/mpl.ratio\n",
       "    var dataURL = this.canvas.toDataURL();\n",
       "    this.cell_info[1]['text/html'] = '<img src=\"' + dataURL + '\" width=\"' + width + '\">';\n",
       "}\n",
       "\n",
       "mpl.figure.prototype.updated_canvas_event = function() {\n",
       "    // Tell IPython that the notebook contents must change.\n",
       "    IPython.notebook.set_dirty(true);\n",
       "    this.send_message(\"ack\", {});\n",
       "    var fig = this;\n",
       "    // Wait a second, then push the new image to the DOM so\n",
       "    // that it is saved nicely (might be nice to debounce this).\n",
       "    setTimeout(function () { fig.push_to_output() }, 1000);\n",
       "}\n",
       "\n",
       "mpl.figure.prototype._init_toolbar = function() {\n",
       "    var fig = this;\n",
       "\n",
       "    var nav_element = $('<div/>')\n",
       "    nav_element.attr('style', 'width: 100%');\n",
       "    this.root.append(nav_element);\n",
       "\n",
       "    // Define a callback function for later on.\n",
       "    function toolbar_event(event) {\n",
       "        return fig.toolbar_button_onclick(event['data']);\n",
       "    }\n",
       "    function toolbar_mouse_event(event) {\n",
       "        return fig.toolbar_button_onmouseover(event['data']);\n",
       "    }\n",
       "\n",
       "    for(var toolbar_ind in mpl.toolbar_items){\n",
       "        var name = mpl.toolbar_items[toolbar_ind][0];\n",
       "        var tooltip = mpl.toolbar_items[toolbar_ind][1];\n",
       "        var image = mpl.toolbar_items[toolbar_ind][2];\n",
       "        var method_name = mpl.toolbar_items[toolbar_ind][3];\n",
       "\n",
       "        if (!name) { continue; };\n",
       "\n",
       "        var button = $('<button class=\"btn btn-default\" href=\"#\" title=\"' + name + '\"><i class=\"fa ' + image + ' fa-lg\"></i></button>');\n",
       "        button.click(method_name, toolbar_event);\n",
       "        button.mouseover(tooltip, toolbar_mouse_event);\n",
       "        nav_element.append(button);\n",
       "    }\n",
       "\n",
       "    // Add the status bar.\n",
       "    var status_bar = $('<span class=\"mpl-message\" style=\"text-align:right; float: right;\"/>');\n",
       "    nav_element.append(status_bar);\n",
       "    this.message = status_bar[0];\n",
       "\n",
       "    // Add the close button to the window.\n",
       "    var buttongrp = $('<div class=\"btn-group inline pull-right\"></div>');\n",
       "    var button = $('<button class=\"btn btn-mini btn-primary\" href=\"#\" title=\"Stop Interaction\"><i class=\"fa fa-power-off icon-remove icon-large\"></i></button>');\n",
       "    button.click(function (evt) { fig.handle_close(fig, {}); } );\n",
       "    button.mouseover('Stop Interaction', toolbar_mouse_event);\n",
       "    buttongrp.append(button);\n",
       "    var titlebar = this.root.find($('.ui-dialog-titlebar'));\n",
       "    titlebar.prepend(buttongrp);\n",
       "}\n",
       "\n",
       "mpl.figure.prototype._root_extra_style = function(el){\n",
       "    var fig = this\n",
       "    el.on(\"remove\", function(){\n",
       "\tfig.close_ws(fig, {});\n",
       "    });\n",
       "}\n",
       "\n",
       "mpl.figure.prototype._canvas_extra_style = function(el){\n",
       "    // this is important to make the div 'focusable\n",
       "    el.attr('tabindex', 0)\n",
       "    // reach out to IPython and tell the keyboard manager to turn it's self\n",
       "    // off when our div gets focus\n",
       "\n",
       "    // location in version 3\n",
       "    if (IPython.notebook.keyboard_manager) {\n",
       "        IPython.notebook.keyboard_manager.register_events(el);\n",
       "    }\n",
       "    else {\n",
       "        // location in version 2\n",
       "        IPython.keyboard_manager.register_events(el);\n",
       "    }\n",
       "\n",
       "}\n",
       "\n",
       "mpl.figure.prototype._key_event_extra = function(event, name) {\n",
       "    var manager = IPython.notebook.keyboard_manager;\n",
       "    if (!manager)\n",
       "        manager = IPython.keyboard_manager;\n",
       "\n",
       "    // Check for shift+enter\n",
       "    if (event.shiftKey && event.which == 13) {\n",
       "        this.canvas_div.blur();\n",
       "        event.shiftKey = false;\n",
       "        // Send a \"J\" for go to next cell\n",
       "        event.which = 74;\n",
       "        event.keyCode = 74;\n",
       "        manager.command_mode();\n",
       "        manager.handle_keydown(event);\n",
       "    }\n",
       "}\n",
       "\n",
       "mpl.figure.prototype.handle_save = function(fig, msg) {\n",
       "    fig.ondownload(fig, null);\n",
       "}\n",
       "\n",
       "\n",
       "mpl.find_output_cell = function(html_output) {\n",
       "    // Return the cell and output element which can be found *uniquely* in the notebook.\n",
       "    // Note - this is a bit hacky, but it is done because the \"notebook_saving.Notebook\"\n",
       "    // IPython event is triggered only after the cells have been serialised, which for\n",
       "    // our purposes (turning an active figure into a static one), is too late.\n",
       "    var cells = IPython.notebook.get_cells();\n",
       "    var ncells = cells.length;\n",
       "    for (var i=0; i<ncells; i++) {\n",
       "        var cell = cells[i];\n",
       "        if (cell.cell_type === 'code'){\n",
       "            for (var j=0; j<cell.output_area.outputs.length; j++) {\n",
       "                var data = cell.output_area.outputs[j];\n",
       "                if (data.data) {\n",
       "                    // IPython >= 3 moved mimebundle to data attribute of output\n",
       "                    data = data.data;\n",
       "                }\n",
       "                if (data['text/html'] == html_output) {\n",
       "                    return [cell, data, j];\n",
       "                }\n",
       "            }\n",
       "        }\n",
       "    }\n",
       "}\n",
       "\n",
       "// Register the function which deals with the matplotlib target/channel.\n",
       "// The kernel may be null if the page has been refreshed.\n",
       "if (IPython.notebook.kernel != null) {\n",
       "    IPython.notebook.kernel.comm_manager.register_target('matplotlib', mpl.mpl_figure_comm);\n",
       "}\n"
      ],
      "text/plain": [
       "<IPython.core.display.Javascript object>"
      ]
     },
     "metadata": {},
     "output_type": "display_data"
    },
    {
     "data": {
      "text/html": [
       "<img src=\"data:image/png;base64,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\" width=\"800\">"
      ],
      "text/plain": [
       "<IPython.core.display.HTML object>"
      ]
     },
     "metadata": {},
     "output_type": "display_data"
    },
    {
     "name": "stdout",
     "output_type": "stream",
     "text": [
      "[[13*a + 18, 8*a + 15], [5*a + 17, 11*a + 14]]\n",
      "[[711*a + 549, 129*a + 192], [795*a + 701, 663*a + 332]]\n"
     ]
    },
    {
     "name": "stderr",
     "output_type": "stream",
     "text": [
      "C:\\Users\\alexj\\Google Drive\\Documents\\University\\Year 3\\Individual Project\\Programming\\utils\\plots.py:84: RankWarning: Polyfit may be poorly conditioned\n",
      "  p = np.poly1d(np.polyfit(keys, vals, 1))\n",
      "C:\\Users\\alexj\\Google Drive\\Documents\\University\\Year 3\\Individual Project\\Programming\\utils\\plots.py:84: RankWarning: Polyfit may be poorly conditioned\n",
      "  p = np.poly1d(np.polyfit(keys, vals, 1))\n",
      "C:\\Users\\alexj\\Google Drive\\Documents\\University\\Year 3\\Individual Project\\Programming\\utils\\plots.py:84: RankWarning: Polyfit may be poorly conditioned\n",
      "  p = np.poly1d(np.polyfit(keys, vals, 1))\n",
      "C:\\Users\\alexj\\Google Drive\\Documents\\University\\Year 3\\Individual Project\\Programming\\utils\\plots.py:84: RankWarning: Polyfit may be poorly conditioned\n",
      "  p = np.poly1d(np.polyfit(keys, vals, 1))\n",
      "C:\\Users\\alexj\\Google Drive\\Documents\\University\\Year 3\\Individual Project\\Programming\\utils\\plots.py:84: RankWarning: Polyfit may be poorly conditioned\n",
      "  p = np.poly1d(np.polyfit(keys, vals, 1))\n",
      "C:\\Users\\alexj\\Google Drive\\Documents\\University\\Year 3\\Individual Project\\Programming\\utils\\plots.py:84: RankWarning: Polyfit may be poorly conditioned\n",
      "  p = np.poly1d(np.polyfit(keys, vals, 1))\n",
      "C:\\Users\\alexj\\Google Drive\\Documents\\University\\Year 3\\Individual Project\\Programming\\utils\\plots.py:84: RankWarning: Polyfit may be poorly conditioned\n",
      "  p = np.poly1d(np.polyfit(keys, vals, 1))\n",
      "C:\\Users\\alexj\\Google Drive\\Documents\\University\\Year 3\\Individual Project\\Programming\\utils\\plots.py:84: RankWarning: Polyfit may be poorly conditioned\n",
      "  p = np.poly1d(np.polyfit(keys, vals, 1))\n",
      "C:\\Users\\alexj\\Google Drive\\Documents\\University\\Year 3\\Individual Project\\Programming\\utils\\plots.py:84: RankWarning: Polyfit may be poorly conditioned\n",
      "  p = np.poly1d(np.polyfit(keys, vals, 1))\n",
      "C:\\Users\\alexj\\Google Drive\\Documents\\University\\Year 3\\Individual Project\\Programming\\utils\\plots.py:84: RankWarning: Polyfit may be poorly conditioned\n",
      "  p = np.poly1d(np.polyfit(keys, vals, 1))\n"
     ]
    },
    {
     "name": "stdout",
     "output_type": "stream",
     "text": [
      "[[6*a + 7, 2], [5*a + 2, 10*a + 9]]\n",
      "[[9*a + 1, 13*a + 7], [7*a + 9, 12*a + 2]]\n",
      "[[6*a + 4, a], [3*a + 1, a + 4]]\n",
      "[[a + 5, 5*a + 2], [1, 5*a + 6]]\n",
      "[[4*a + 1, 4*a + 1], [5*a + 3, 5]]\n",
      "[[6*a + 10, 5*a + 4], [6*a + 9, 3*a + 9]]\n",
      "[[9*a + 15, 11*a + 8], [a + 4, 18*a + 8]]\n",
      "[[6*a + 8, 6], [4, 4*a + 2]]\n",
      "[[3*a + 6, 8*a + 4], [8*a + 2, a + 9]]\n",
      "[[4*a + 4, 5], [2*a + 4, 0]]\n",
      "[[5*a + 5, 2*a + 9], [3*a + 4, 4*a + 10]]\n",
      "[[8*a + 2, 3*a + 2], [6*a + 10, 8*a + 3]]\n",
      "[[22*a + 37, 41*a + 19], [42*a + 10, 15*a + 15]]\n",
      "[[2*a + 2, 4*a + 4], [5*a + 6, 4*a + 6]]\n",
      "[[5*a + 5, 5*a + 1], [3*a + 2, 4*a + 5]]\n",
      "[[a + 6, a + 4], [2*a + 2, 6]]\n",
      "[[15*a + 9, 3*a + 15], [12*a + 15, 8*a + 17]]\n",
      "[[6*a + 9, 4*a + 1], [2*a + 9, 8*a + 10]]\n",
      "[[7*a + 3, 6*a + 5], [16*a + 18, 16*a + 4]]\n",
      "[[3*a + 1, a + 6], [6*a + 5, 2*a + 4]]\n",
      "[[4*a + 4, 4*a + 9], [9*a + 10, 8*a + 4]]\n",
      "[[5*a + 2, 2*a + 1], [3*a + 6, 5*a + 4]]\n",
      "[[6*a + 4, 6*a], [3*a + 4, 5*a + 3]]\n",
      "[[7*a + 7, 5*a + 6], [3*a + 4, 3*a + 10]]\n",
      "[[6*a + 2, 9*a + 6], [10*a + 4, 4*a + 4]]\n",
      "[[4*a + 4, 8*a + 6], [14*a + 16, 4*a + 2]]\n",
      "[[11*a + 8, 14*a + 10], [8*a + 11, 14*a + 4]]\n",
      "[[6*a + 2, 6*a + 3], [a + 5, 5]]\n",
      "[[9*a + 1, 16*a + 12], [15, 10*a + 5]]\n",
      "[[4, 5*a + 6], [4*a, 5*a + 6]]\n",
      "[[10*a + 4, 4*a + 4], [7, 8]]\n",
      "[[1176*a + 3100, 3174*a + 1650], [2538*a + 1866, 1134*a + 1226]]\n",
      "[[7*a + 1, 10*a + 7], [5*a + 5, 7*a + 4]]\n",
      "[[3*a + 3, 2*a + 7], [a + 6, 4*a + 6]]\n",
      "[[a + 7, 2*a + 4], [5*a + 4, 6*a]]\n",
      "[[18*a + 15, 7], [17*a + 5, 15*a + 5]]\n",
      "[[4*a + 33, 4*a + 35], [16*a + 39, 15*a + 35]]\n",
      "[[5*a + 2, 5], [2*a + 2, a + 1]]\n",
      "[[a, 5*a + 3], [5*a + 5, 5*a + 1]]\n",
      "[[2*a + 4, a + 3], [5*a + 6, a + 4]]\n",
      "[[76*a + 235, 240*a + 103], [231*a + 2, 250*a + 135]]\n",
      "[[5, 3], [2*a + 2, 3]]\n",
      "[[8*a + 1, 7*a + 6], [7*a + 5, 2*a + 7]]\n",
      "[[5, 4*a + 2], [4*a + 3, 4*a + 1]]\n",
      "[[a + 1, 7*a + 8], [4, 7]]\n",
      "[[3*a + 8, a + 2], [2*a + 3, 4*a + 2]]\n",
      "[[42*a + 22, 35*a + 40], [23*a + 38, 21*a + 28]]\n",
      "[[5*a + 8, 5*a + 4], [5*a + 4, 4*a + 5]]\n",
      "[[2*a + 6, 7*a + 2], [4*a + 3, 3*a + 1]]\n",
      "[[10*a + 8, 8*a + 7], [9*a + 1, 8*a + 7]]\n"
     ]
    }
   ],
   "source": [
    "%matplotlib notebook\n",
    "from graphs_ECC import *\n",
    "\n",
    "minBit = 3\n",
    "bf_bit = 12\n",
    "bsgs_bit = 20\n",
    "ph_bit = 20\n",
    "rho_bit = 20\n",
    "mov_bit = 20\n",
    "\n",
    "testGraphs(minBit, bf_bit, bsgs_bit, ph_bit, rho_bit, mov_bit)"
   ]
  },
  {
   "cell_type": "markdown",
   "metadata": {},
   "source": [
    "<img src=\"imgs/ECC.png\" alt=\"drawing\" style=\"width:80%;\"/>"
   ]
  }
 ],
 "metadata": {
  "kernelspec": {
   "display_name": "Python 3",
   "language": "python",
   "name": "python3"
  },
  "language_info": {
   "codemirror_mode": {
    "name": "ipython",
    "version": 3
   },
   "file_extension": ".py",
   "mimetype": "text/x-python",
   "name": "python",
   "nbconvert_exporter": "python",
   "pygments_lexer": "ipython3",
   "version": "3.7.1"
  }
 },
 "nbformat": 4,
 "nbformat_minor": 2
}
