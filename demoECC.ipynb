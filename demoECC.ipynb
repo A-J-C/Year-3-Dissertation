{
 "cells": [
  {
   "cell_type": "markdown",
   "metadata": {},
   "source": [
    "# ECC Demonstration"
   ]
  },
  {
   "cell_type": "markdown",
   "metadata": {},
   "source": [
    "Import my ECC package into the environment"
   ]
  },
  {
   "cell_type": "code",
   "execution_count": 1,
   "metadata": {
    "scrolled": false
   },
   "outputs": [],
   "source": [
    "from ECC import *"
   ]
  },
  {
   "cell_type": "markdown",
   "metadata": {},
   "source": [
    "### Key Generation\n",
    "Declare the bit size we want to use"
   ]
  },
  {
   "cell_type": "code",
   "execution_count": 2,
   "metadata": {
    "scrolled": false
   },
   "outputs": [],
   "source": [
    "bitSize = 17"
   ]
  },
  {
   "cell_type": "markdown",
   "metadata": {},
   "source": [
    "Generate a set of ECC keys with appropriate bitsize"
   ]
  },
  {
   "cell_type": "code",
   "execution_count": 3,
   "metadata": {
    "scrolled": false
   },
   "outputs": [
    {
     "name": "stdout",
     "output_type": "stream",
     "text": [
      "================================================== \n",
      "Generating  17 bit prime... \n",
      "10 rounds of Miller-Rabin needed (according to FISC)\n",
      "Trial-Division prime list generated, size:  54\n",
      "New candidate... 91745\n",
      "New candidate... 100797\n",
      "New candidate... 106499\n",
      "New candidate... 91969\n",
      "Prime of  17 bits found: 91969\n",
      "Checked 4 candidates in 0.02 s\n",
      "\n",
      "Checking: y^2 = x^3 + 9x + 7 % 91969\n",
      "\n",
      "y^2 = x^3 + 9x + 7 % 91969\n",
      "================================================== \n",
      "Generating  17 bit prime... \n",
      "10 rounds of Miller-Rabin needed (according to FISC)\n",
      "Trial-Division prime list generated, size:  54\n",
      "New candidate... 90591\n",
      "New candidate... 102297\n",
      "New candidate... 78033\n",
      "New candidate... 121581\n",
      "New candidate... 73187\n",
      "New candidate... 117209\n",
      "Prime of  17 bits found: 117209\n",
      "Checked 6 candidates in 0.01 s\n",
      "\n",
      "Checking: y^2 = x^3 + 7x + 2 % 117209\n",
      "\n",
      "y^2 = x^3 + 7x + 2 % 117209\n",
      "Checked 2 curves\n",
      "k = 116213  G = (78201, 96909)   Q = (4282, 115112)\n",
      "Public-Key: {\n",
      "    Curve: y^2 = x^3 + 7x + 2 % 117209\n",
      "    Base-Point: (78201, 96909)\n",
      "    Order(Base): 117741\n",
      "    Public-Point: (4282, 115112)\n",
      "}\n",
      "Private-Key: 116213\n",
      "n is 17 bits\n",
      "\n"
     ]
    },
    {
     "data": {
      "text/plain": [
       "True"
      ]
     },
     "execution_count": 3,
     "metadata": {},
     "output_type": "execute_result"
    }
   ],
   "source": [
    "ECC_keys = generate_ECC.KeyGen(bitSize, True, True)     # initalise object True sets verbose and demo flag on KeyGen\n",
    "ECC_keys.generateCurve()                                # create a curve\n",
    "ECC_keys.generateKeys()                                 # runs generator"
   ]
  },
  {
   "cell_type": "markdown",
   "metadata": {},
   "source": [
    "### Brute Force Algorithm"
   ]
  },
  {
   "cell_type": "markdown",
   "metadata": {},
   "source": [
    "Very trivial:\n",
    "\n",
    "- Simply keep adding G to itself until we reach the required Q \n",
    "- $O(p)$ for prime $p$"
   ]
  },
  {
   "cell_type": "code",
   "execution_count": 4,
   "metadata": {
    "scrolled": true
   },
   "outputs": [
    {
     "data": {
      "text/plain": [
       "'116213.G = (4282, 115112)'"
      ]
     },
     "metadata": {},
     "output_type": "display_data"
    },
    {
     "name": "stdout",
     "output_type": "stream",
     "text": [
      "k: 116213\n",
      "Time taken: 3.426 s\n",
      "Space used: 4 bytes\n",
      "Numbers checked: 116213\n"
     ]
    },
    {
     "data": {
      "text/plain": [
       "True"
      ]
     },
     "execution_count": 4,
     "metadata": {},
     "output_type": "execute_result"
    }
   ],
   "source": [
    "# pass it public keys, and True verbose & demo flag\n",
    "bf = brute_force.BFSolver(ECC_keys.curve, ECC_keys.Q, ECC_keys.G, True, True) \n",
    "# run solver\n",
    "bf.solve()                                                                "
   ]
  },
  {
   "cell_type": "markdown",
   "metadata": {},
   "source": [
    "### Pollard's-$\\lambda$ method"
   ]
  },
  {
   "cell_type": "markdown",
   "metadata": {},
   "source": [
    "An extremely probabilistic method:\n",
    "\n",
    "- Based around setting a \"trap\"\n",
    "- Which a \"wild kangaroo\" falls into\n",
    "- The distance travelled before falling into the trap helps is calculate $k$\n",
    "- Theoretically grows wit $O(\\sqrt{p})$\n",
    "- Often fails with the \"wild kangaroo\" entering a cycle in a safe zone"
   ]
  },
  {
   "cell_type": "code",
   "execution_count": 5,
   "metadata": {},
   "outputs": [
    {
     "data": {
      "text/plain": [
       "'Trap: (78201, 96909) Wild: (78201, 96909)'"
      ]
     },
     "metadata": {},
     "output_type": "display_data"
    },
    {
     "name": "stdout",
     "output_type": "stream",
     "text": [
      "k: 116213\n",
      "Time taken: 0.228 s\n",
      "Space used: 80 bytes\n",
      "Numbers checked: 1025\n"
     ]
    },
    {
     "data": {
      "text/plain": [
       "True"
      ]
     },
     "execution_count": 5,
     "metadata": {},
     "output_type": "execute_result"
    }
   ],
   "source": [
    "# pass it public keys, and True verbose & demo flag\n",
    "lamb = pollard_lambda.PLSolver(ECC_keys.curve, ECC_keys.Q, ECC_keys.G, True, True) \n",
    "# run solver\n",
    "lamb.solve()  "
   ]
  },
  {
   "cell_type": "markdown",
   "metadata": {},
   "source": [
    "### Make it a bit harder"
   ]
  },
  {
   "cell_type": "code",
   "execution_count": 6,
   "metadata": {},
   "outputs": [
    {
     "name": "stdout",
     "output_type": "stream",
     "text": [
      "Prime of  26 bits found: 48800821\n",
      "Checked 10 candidates in 0.01 s\n",
      "\n",
      "y^2 = x^3 + 9x + 7 % 48800821\n",
      "Checked 1 curves\n",
      "k = 40378014  G = (45692157, 9536010)   Q = (42896506, 33779202)\n",
      "Public-Key: {\n",
      "    Curve: y^2 = x^3 + 9x + 7 % 48800821\n",
      "    Base-Point: (45692157, 9536010)\n",
      "    Order(Base): 48811471\n",
      "    Public-Point: (42896506, 33779202)\n",
      "}\n",
      "Private-Key: 40378014\n",
      "n is 26 bits\n",
      "\n"
     ]
    },
    {
     "data": {
      "text/plain": [
       "True"
      ]
     },
     "execution_count": 6,
     "metadata": {},
     "output_type": "execute_result"
    }
   ],
   "source": [
    "bitSize = 26\n",
    "\n",
    "ECC_keys = generate_ECC.KeyGen(bitSize, True)     # initalise object True sets verbose flag on KeyGen\n",
    "ECC_keys.generateCurve()                          # create a curve\n",
    "ECC_keys.generateKeys()                           # runs generator"
   ]
  },
  {
   "cell_type": "markdown",
   "metadata": {},
   "source": [
    "### Baby Step - Giant Step Algorithm"
   ]
  },
  {
   "cell_type": "markdown",
   "metadata": {},
   "source": [
    "This algorithm is essentialyl brute-force, trading space for time:\n",
    "\n",
    "- We compute a hash table of results upto $s \\leftarrow \\sqrt{ord(G)}$\n",
    "- Giant steps incremet $i$ calculating: $P \\leftarrow Q - G.(i*s)$\n",
    "- When $P$ is found in the hash table we calculate $k \\leftarrow hash(P) + i*s$\n",
    "- $O(\\sqrt{p})$ for space and time complexity"
   ]
  },
  {
   "cell_type": "code",
   "execution_count": 7,
   "metadata": {},
   "outputs": [
    {
     "data": {
      "text/plain": [
       "'(42896506, 33779202) - (45692157, 9536010) * 40377873 = (10482692, 11187616)'"
      ]
     },
     "metadata": {},
     "output_type": "display_data"
    },
    {
     "name": "stdout",
     "output_type": "stream",
     "text": [
      "k: 40378014\n",
      "Time taken: 3.097 s\n",
      "Space used: 55904 bytes\n",
      "Numbers checked: 12768\n"
     ]
    },
    {
     "data": {
      "text/plain": [
       "True"
      ]
     },
     "execution_count": 7,
     "metadata": {},
     "output_type": "execute_result"
    }
   ],
   "source": [
    "# pass it public keys, and True verbose & demo flag\n",
    "bsgs = baby_step.BGSolver(ECC_keys.curve, ECC_keys.Q, ECC_keys.G, True, True)    \n",
    "# run solver\n",
    "bsgs.solve()                                                              "
   ]
  },
  {
   "cell_type": "markdown",
   "metadata": {},
   "source": [
    "### Pohlig-Hellman"
   ]
  },
  {
   "cell_type": "markdown",
   "metadata": {},
   "source": [
    "A \"special purpose\" algorithm:\n",
    "\n",
    "- If $ord(G)$ is a \"smoooth number\" we can decompose the problem \n",
    "- Making new sub-problems over each of the prime factors\n",
    "- Then recombine the solutions using the CRT\n",
    "- It's time complexity grows with the square root of the largest prime factor of $ord(G)$.\n",
    "- So worst case is $O(\\sqrt{p})$ where $ord(G) \\equiv p$"
   ]
  },
  {
   "cell_type": "code",
   "execution_count": 8,
   "metadata": {},
   "outputs": [
    {
     "name": "stdout",
     "output_type": "stream",
     "text": [
      "{17: 1, 659: 1, 4357: 1}\n",
      "17^1: G'=(30417447, 9422730) Q'=(35646582, 40245245); ord = 17\n",
      "659^1: G'=(7976615, 32580535) Q'=(12736686, 28754677); ord = 659\n",
      "4357^1: G'=(15215002, 39500999) Q'=(23817113, 4446234); ord = 4357\n",
      "k: 40378014\n",
      "Time taken: 0.012 s\n",
      "Space used: 139\n",
      "Numbers checked: 145\n"
     ]
    },
    {
     "data": {
      "text/plain": [
       "True"
      ]
     },
     "execution_count": 8,
     "metadata": {},
     "output_type": "execute_result"
    }
   ],
   "source": [
    "# pass it public keys, and True verbose & demo flag\n",
    "ph = pohlig_hellman.PHSolver(ECC_keys.curve, ECC_keys.Q, ECC_keys.G, True, True) \n",
    "# run solver\n",
    "ph.solve()  "
   ]
  },
  {
   "cell_type": "markdown",
   "metadata": {},
   "source": [
    "### Pollard's-$\\rho$ method"
   ]
  },
  {
   "cell_type": "markdown",
   "metadata": {},
   "source": [
    "Same as for the IFP:\n",
    "\n",
    "- We aim to find two sets of numbers such that $a.G + b.Q = a'.G + b'.Q$, which rearranges to give us: $k \\leftarrow \\frac{a-a'}{b'-b} \\; mod \\; ord(G)$\n",
    "- Found by generating a repeatable random sequence of points, which according to the birthday paradox must eventually cycle\n",
    "- Send two runners around one twice as fast as the other to detect cycle \n",
    "- $O(\\sqrt{p})$ according to birthday paradox\n",
    "- But each \"check\" is only an addition not multiplication, so much faster"
   ]
  },
  {
   "cell_type": "code",
   "execution_count": 9,
   "metadata": {
    "scrolled": true
   },
   "outputs": [
    {
     "data": {
      "text/plain": [
       "'X: (9793336, 42131749) Y: (9793336, 42131749)'"
      ]
     },
     "metadata": {},
     "output_type": "display_data"
    },
    {
     "name": "stdout",
     "output_type": "stream",
     "text": [
      "k: 40378014\n",
      "Time taken: 0.546 s\n",
      "Space used: 72 bytes\n",
      "Numbers checked: 4655\n"
     ]
    },
    {
     "data": {
      "text/plain": [
       "True"
      ]
     },
     "execution_count": 9,
     "metadata": {},
     "output_type": "execute_result"
    }
   ],
   "source": [
    "# pass it public keys, and True verbose & demo flag\n",
    "rho = pollard_rho.PRSolver(ECC_keys.curve, ECC_keys.Q, ECC_keys.G, True, True)   \n",
    "# run solver\n",
    "rho.solve()                                                                "
   ]
  },
  {
   "cell_type": "markdown",
   "metadata": {},
   "source": [
    "### MOV Attack"
   ]
  },
  {
   "cell_type": "markdown",
   "metadata": {},
   "source": [
    "Maps the ECDLP to the DLP:\n",
    "\n",
    "- Works for a very small number of curves, which have a small embedding degree\n",
    "- $\\epsilon$, where $\\epsilon$ is the lowest integer satisfying $p^{\\epsilon} - 1 / card(E) \\in N$ ($p$ is prime, $E$ is a curve over ${\\bf F}_p$ and $card(E)$ is the number of points on the curve)\n",
    "- Extremely efficient (subexponential) if it works\n",
    "- But works for exponentially increasing amount of numbers "
   ]
  },
  {
   "cell_type": "code",
   "execution_count": 10,
   "metadata": {},
   "outputs": [
    {
     "name": "stdout",
     "output_type": "stream",
     "text": [
      "Prime of  12 bits found: 2083\n",
      "Checked 2 candidates in 0.11 s\n",
      "\n",
      "y^2 = x^3 + 8x % 2083\n",
      "Checked 1 curves\n",
      "k = 707  G = (1486, 637)   Q = (779, 1923)\n",
      "Public-Key: {\n",
      "    Curve: y^2 = x^3 + 8x % 2083\n",
      "    Base-Point: (1486, 637)\n",
      "    Order(Base): 1042\n",
      "    Public-Point: (779, 1923)\n",
      "}\n",
      "Private-Key: 707\n",
      "n is 12 bits\n",
      "\n",
      "1193*a + 984 330*a + 1192 2084\n",
      "k: 707\n",
      "Time taken: 0.003 s\n",
      "Space used: 33124 bytes\n",
      "Numbers checked: 91\n"
     ]
    }
   ],
   "source": [
    "from IPython.display import display, clear_output\n",
    "\n",
    "solved = False\n",
    "bitSize = 12\n",
    "\n",
    "while not solved:\n",
    "    clear_output(wait=True)\n",
    "    \n",
    "    ECC_keys = generate_ECC.KeyGen(bitSize, True)     # initalise object True sets verbose flag on KeyGen\n",
    "    ECC_keys.generateCurve()                          # create a curve\n",
    "    ECC_keys.generateKeys()                           # runs generator\n",
    "\n",
    "    # pass it public keys, and True verbose & demo flag\n",
    "    mov = mov_attack.MOVSolver(ECC_keys.curve, ECC_keys.Q, ECC_keys.G, True, True) \n",
    "    # run solver\n",
    "    mov.solve()  \n",
    "    \n",
    "    solved = mov.k == ECC_keys.k"
   ]
  },
  {
   "cell_type": "markdown",
   "metadata": {},
   "source": [
    "### Basic Analysis\n",
    "Running the above algorithms on a variety of random inputs to create graphs showing general trends.\n",
    "\n",
    "The below style code makes the format of the graphs nicer"
   ]
  },
  {
   "cell_type": "code",
   "execution_count": 11,
   "metadata": {
    "scrolled": false
   },
   "outputs": [
    {
     "data": {
      "text/html": [
       "<style>\n",
       ".output_wrapper button.btn.btn-default,\n",
       ".output_wrapper .ui-dialog-titlebar {\n",
       "  display: none;\n",
       "}\n",
       "</style>\n"
      ],
      "text/plain": [
       "<IPython.core.display.HTML object>"
      ]
     },
     "metadata": {},
     "output_type": "display_data"
    }
   ],
   "source": [
    "%%html\n",
    "<style>\n",
    ".output_wrapper button.btn.btn-default,\n",
    ".output_wrapper .ui-dialog-titlebar {\n",
    "  display: none;\n",
    "}\n",
    "</style>"
   ]
  },
  {
   "cell_type": "markdown",
   "metadata": {},
   "source": [
    "Runs each algorithm in a thread and plots the results."
   ]
  },
  {
   "cell_type": "code",
   "execution_count": 12,
   "metadata": {
    "scrolled": false
   },
   "outputs": [
    {
     "data": {
      "application/javascript": [
       "/* Put everything inside the global mpl namespace */\n",
       "window.mpl = {};\n",
       "\n",
       "\n",
       "mpl.get_websocket_type = function() {\n",
       "    if (typeof(WebSocket) !== 'undefined') {\n",
       "        return WebSocket;\n",
       "    } else if (typeof(MozWebSocket) !== 'undefined') {\n",
       "        return MozWebSocket;\n",
       "    } else {\n",
       "        alert('Your browser does not have WebSocket support.' +\n",
       "              'Please try Chrome, Safari or Firefox ≥ 6. ' +\n",
       "              'Firefox 4 and 5 are also supported but you ' +\n",
       "              'have to enable WebSockets in about:config.');\n",
       "    };\n",
       "}\n",
       "\n",
       "mpl.figure = function(figure_id, websocket, ondownload, parent_element) {\n",
       "    this.id = figure_id;\n",
       "\n",
       "    this.ws = websocket;\n",
       "\n",
       "    this.supports_binary = (this.ws.binaryType != undefined);\n",
       "\n",
       "    if (!this.supports_binary) {\n",
       "        var warnings = document.getElementById(\"mpl-warnings\");\n",
       "        if (warnings) {\n",
       "            warnings.style.display = 'block';\n",
       "            warnings.textContent = (\n",
       "                \"This browser does not support binary websocket messages. \" +\n",
       "                    \"Performance may be slow.\");\n",
       "        }\n",
       "    }\n",
       "\n",
       "    this.imageObj = new Image();\n",
       "\n",
       "    this.context = undefined;\n",
       "    this.message = undefined;\n",
       "    this.canvas = undefined;\n",
       "    this.rubberband_canvas = undefined;\n",
       "    this.rubberband_context = undefined;\n",
       "    this.format_dropdown = undefined;\n",
       "\n",
       "    this.image_mode = 'full';\n",
       "\n",
       "    this.root = $('<div/>');\n",
       "    this._root_extra_style(this.root)\n",
       "    this.root.attr('style', 'display: inline-block');\n",
       "\n",
       "    $(parent_element).append(this.root);\n",
       "\n",
       "    this._init_header(this);\n",
       "    this._init_canvas(this);\n",
       "    this._init_toolbar(this);\n",
       "\n",
       "    var fig = this;\n",
       "\n",
       "    this.waiting = false;\n",
       "\n",
       "    this.ws.onopen =  function () {\n",
       "            fig.send_message(\"supports_binary\", {value: fig.supports_binary});\n",
       "            fig.send_message(\"send_image_mode\", {});\n",
       "            if (mpl.ratio != 1) {\n",
       "                fig.send_message(\"set_dpi_ratio\", {'dpi_ratio': mpl.ratio});\n",
       "            }\n",
       "            fig.send_message(\"refresh\", {});\n",
       "        }\n",
       "\n",
       "    this.imageObj.onload = function() {\n",
       "            if (fig.image_mode == 'full') {\n",
       "                // Full images could contain transparency (where diff images\n",
       "                // almost always do), so we need to clear the canvas so that\n",
       "                // there is no ghosting.\n",
       "                fig.context.clearRect(0, 0, fig.canvas.width, fig.canvas.height);\n",
       "            }\n",
       "            fig.context.drawImage(fig.imageObj, 0, 0);\n",
       "        };\n",
       "\n",
       "    this.imageObj.onunload = function() {\n",
       "        fig.ws.close();\n",
       "    }\n",
       "\n",
       "    this.ws.onmessage = this._make_on_message_function(this);\n",
       "\n",
       "    this.ondownload = ondownload;\n",
       "}\n",
       "\n",
       "mpl.figure.prototype._init_header = function() {\n",
       "    var titlebar = $(\n",
       "        '<div class=\"ui-dialog-titlebar ui-widget-header ui-corner-all ' +\n",
       "        'ui-helper-clearfix\"/>');\n",
       "    var titletext = $(\n",
       "        '<div class=\"ui-dialog-title\" style=\"width: 100%; ' +\n",
       "        'text-align: center; padding: 3px;\"/>');\n",
       "    titlebar.append(titletext)\n",
       "    this.root.append(titlebar);\n",
       "    this.header = titletext[0];\n",
       "}\n",
       "\n",
       "\n",
       "\n",
       "mpl.figure.prototype._canvas_extra_style = function(canvas_div) {\n",
       "\n",
       "}\n",
       "\n",
       "\n",
       "mpl.figure.prototype._root_extra_style = function(canvas_div) {\n",
       "\n",
       "}\n",
       "\n",
       "mpl.figure.prototype._init_canvas = function() {\n",
       "    var fig = this;\n",
       "\n",
       "    var canvas_div = $('<div/>');\n",
       "\n",
       "    canvas_div.attr('style', 'position: relative; clear: both; outline: 0');\n",
       "\n",
       "    function canvas_keyboard_event(event) {\n",
       "        return fig.key_event(event, event['data']);\n",
       "    }\n",
       "\n",
       "    canvas_div.keydown('key_press', canvas_keyboard_event);\n",
       "    canvas_div.keyup('key_release', canvas_keyboard_event);\n",
       "    this.canvas_div = canvas_div\n",
       "    this._canvas_extra_style(canvas_div)\n",
       "    this.root.append(canvas_div);\n",
       "\n",
       "    var canvas = $('<canvas/>');\n",
       "    canvas.addClass('mpl-canvas');\n",
       "    canvas.attr('style', \"left: 0; top: 0; z-index: 0; outline: 0\")\n",
       "\n",
       "    this.canvas = canvas[0];\n",
       "    this.context = canvas[0].getContext(\"2d\");\n",
       "\n",
       "    var backingStore = this.context.backingStorePixelRatio ||\n",
       "\tthis.context.webkitBackingStorePixelRatio ||\n",
       "\tthis.context.mozBackingStorePixelRatio ||\n",
       "\tthis.context.msBackingStorePixelRatio ||\n",
       "\tthis.context.oBackingStorePixelRatio ||\n",
       "\tthis.context.backingStorePixelRatio || 1;\n",
       "\n",
       "    mpl.ratio = (window.devicePixelRatio || 1) / backingStore;\n",
       "\n",
       "    var rubberband = $('<canvas/>');\n",
       "    rubberband.attr('style', \"position: absolute; left: 0; top: 0; z-index: 1;\")\n",
       "\n",
       "    var pass_mouse_events = true;\n",
       "\n",
       "    canvas_div.resizable({\n",
       "        start: function(event, ui) {\n",
       "            pass_mouse_events = false;\n",
       "        },\n",
       "        resize: function(event, ui) {\n",
       "            fig.request_resize(ui.size.width, ui.size.height);\n",
       "        },\n",
       "        stop: function(event, ui) {\n",
       "            pass_mouse_events = true;\n",
       "            fig.request_resize(ui.size.width, ui.size.height);\n",
       "        },\n",
       "    });\n",
       "\n",
       "    function mouse_event_fn(event) {\n",
       "        if (pass_mouse_events)\n",
       "            return fig.mouse_event(event, event['data']);\n",
       "    }\n",
       "\n",
       "    rubberband.mousedown('button_press', mouse_event_fn);\n",
       "    rubberband.mouseup('button_release', mouse_event_fn);\n",
       "    // Throttle sequential mouse events to 1 every 20ms.\n",
       "    rubberband.mousemove('motion_notify', mouse_event_fn);\n",
       "\n",
       "    rubberband.mouseenter('figure_enter', mouse_event_fn);\n",
       "    rubberband.mouseleave('figure_leave', mouse_event_fn);\n",
       "\n",
       "    canvas_div.on(\"wheel\", function (event) {\n",
       "        event = event.originalEvent;\n",
       "        event['data'] = 'scroll'\n",
       "        if (event.deltaY < 0) {\n",
       "            event.step = 1;\n",
       "        } else {\n",
       "            event.step = -1;\n",
       "        }\n",
       "        mouse_event_fn(event);\n",
       "    });\n",
       "\n",
       "    canvas_div.append(canvas);\n",
       "    canvas_div.append(rubberband);\n",
       "\n",
       "    this.rubberband = rubberband;\n",
       "    this.rubberband_canvas = rubberband[0];\n",
       "    this.rubberband_context = rubberband[0].getContext(\"2d\");\n",
       "    this.rubberband_context.strokeStyle = \"#000000\";\n",
       "\n",
       "    this._resize_canvas = function(width, height) {\n",
       "        // Keep the size of the canvas, canvas container, and rubber band\n",
       "        // canvas in synch.\n",
       "        canvas_div.css('width', width)\n",
       "        canvas_div.css('height', height)\n",
       "\n",
       "        canvas.attr('width', width * mpl.ratio);\n",
       "        canvas.attr('height', height * mpl.ratio);\n",
       "        canvas.attr('style', 'width: ' + width + 'px; height: ' + height + 'px;');\n",
       "\n",
       "        rubberband.attr('width', width);\n",
       "        rubberband.attr('height', height);\n",
       "    }\n",
       "\n",
       "    // Set the figure to an initial 600x600px, this will subsequently be updated\n",
       "    // upon first draw.\n",
       "    this._resize_canvas(600, 600);\n",
       "\n",
       "    // Disable right mouse context menu.\n",
       "    $(this.rubberband_canvas).bind(\"contextmenu\",function(e){\n",
       "        return false;\n",
       "    });\n",
       "\n",
       "    function set_focus () {\n",
       "        canvas.focus();\n",
       "        canvas_div.focus();\n",
       "    }\n",
       "\n",
       "    window.setTimeout(set_focus, 100);\n",
       "}\n",
       "\n",
       "mpl.figure.prototype._init_toolbar = function() {\n",
       "    var fig = this;\n",
       "\n",
       "    var nav_element = $('<div/>')\n",
       "    nav_element.attr('style', 'width: 100%');\n",
       "    this.root.append(nav_element);\n",
       "\n",
       "    // Define a callback function for later on.\n",
       "    function toolbar_event(event) {\n",
       "        return fig.toolbar_button_onclick(event['data']);\n",
       "    }\n",
       "    function toolbar_mouse_event(event) {\n",
       "        return fig.toolbar_button_onmouseover(event['data']);\n",
       "    }\n",
       "\n",
       "    for(var toolbar_ind in mpl.toolbar_items) {\n",
       "        var name = mpl.toolbar_items[toolbar_ind][0];\n",
       "        var tooltip = mpl.toolbar_items[toolbar_ind][1];\n",
       "        var image = mpl.toolbar_items[toolbar_ind][2];\n",
       "        var method_name = mpl.toolbar_items[toolbar_ind][3];\n",
       "\n",
       "        if (!name) {\n",
       "            // put a spacer in here.\n",
       "            continue;\n",
       "        }\n",
       "        var button = $('<button/>');\n",
       "        button.addClass('ui-button ui-widget ui-state-default ui-corner-all ' +\n",
       "                        'ui-button-icon-only');\n",
       "        button.attr('role', 'button');\n",
       "        button.attr('aria-disabled', 'false');\n",
       "        button.click(method_name, toolbar_event);\n",
       "        button.mouseover(tooltip, toolbar_mouse_event);\n",
       "\n",
       "        var icon_img = $('<span/>');\n",
       "        icon_img.addClass('ui-button-icon-primary ui-icon');\n",
       "        icon_img.addClass(image);\n",
       "        icon_img.addClass('ui-corner-all');\n",
       "\n",
       "        var tooltip_span = $('<span/>');\n",
       "        tooltip_span.addClass('ui-button-text');\n",
       "        tooltip_span.html(tooltip);\n",
       "\n",
       "        button.append(icon_img);\n",
       "        button.append(tooltip_span);\n",
       "\n",
       "        nav_element.append(button);\n",
       "    }\n",
       "\n",
       "    var fmt_picker_span = $('<span/>');\n",
       "\n",
       "    var fmt_picker = $('<select/>');\n",
       "    fmt_picker.addClass('mpl-toolbar-option ui-widget ui-widget-content');\n",
       "    fmt_picker_span.append(fmt_picker);\n",
       "    nav_element.append(fmt_picker_span);\n",
       "    this.format_dropdown = fmt_picker[0];\n",
       "\n",
       "    for (var ind in mpl.extensions) {\n",
       "        var fmt = mpl.extensions[ind];\n",
       "        var option = $(\n",
       "            '<option/>', {selected: fmt === mpl.default_extension}).html(fmt);\n",
       "        fmt_picker.append(option)\n",
       "    }\n",
       "\n",
       "    // Add hover states to the ui-buttons\n",
       "    $( \".ui-button\" ).hover(\n",
       "        function() { $(this).addClass(\"ui-state-hover\");},\n",
       "        function() { $(this).removeClass(\"ui-state-hover\");}\n",
       "    );\n",
       "\n",
       "    var status_bar = $('<span class=\"mpl-message\"/>');\n",
       "    nav_element.append(status_bar);\n",
       "    this.message = status_bar[0];\n",
       "}\n",
       "\n",
       "mpl.figure.prototype.request_resize = function(x_pixels, y_pixels) {\n",
       "    // Request matplotlib to resize the figure. Matplotlib will then trigger a resize in the client,\n",
       "    // which will in turn request a refresh of the image.\n",
       "    this.send_message('resize', {'width': x_pixels, 'height': y_pixels});\n",
       "}\n",
       "\n",
       "mpl.figure.prototype.send_message = function(type, properties) {\n",
       "    properties['type'] = type;\n",
       "    properties['figure_id'] = this.id;\n",
       "    this.ws.send(JSON.stringify(properties));\n",
       "}\n",
       "\n",
       "mpl.figure.prototype.send_draw_message = function() {\n",
       "    if (!this.waiting) {\n",
       "        this.waiting = true;\n",
       "        this.ws.send(JSON.stringify({type: \"draw\", figure_id: this.id}));\n",
       "    }\n",
       "}\n",
       "\n",
       "\n",
       "mpl.figure.prototype.handle_save = function(fig, msg) {\n",
       "    var format_dropdown = fig.format_dropdown;\n",
       "    var format = format_dropdown.options[format_dropdown.selectedIndex].value;\n",
       "    fig.ondownload(fig, format);\n",
       "}\n",
       "\n",
       "\n",
       "mpl.figure.prototype.handle_resize = function(fig, msg) {\n",
       "    var size = msg['size'];\n",
       "    if (size[0] != fig.canvas.width || size[1] != fig.canvas.height) {\n",
       "        fig._resize_canvas(size[0], size[1]);\n",
       "        fig.send_message(\"refresh\", {});\n",
       "    };\n",
       "}\n",
       "\n",
       "mpl.figure.prototype.handle_rubberband = function(fig, msg) {\n",
       "    var x0 = msg['x0'] / mpl.ratio;\n",
       "    var y0 = (fig.canvas.height - msg['y0']) / mpl.ratio;\n",
       "    var x1 = msg['x1'] / mpl.ratio;\n",
       "    var y1 = (fig.canvas.height - msg['y1']) / mpl.ratio;\n",
       "    x0 = Math.floor(x0) + 0.5;\n",
       "    y0 = Math.floor(y0) + 0.5;\n",
       "    x1 = Math.floor(x1) + 0.5;\n",
       "    y1 = Math.floor(y1) + 0.5;\n",
       "    var min_x = Math.min(x0, x1);\n",
       "    var min_y = Math.min(y0, y1);\n",
       "    var width = Math.abs(x1 - x0);\n",
       "    var height = Math.abs(y1 - y0);\n",
       "\n",
       "    fig.rubberband_context.clearRect(\n",
       "        0, 0, fig.canvas.width, fig.canvas.height);\n",
       "\n",
       "    fig.rubberband_context.strokeRect(min_x, min_y, width, height);\n",
       "}\n",
       "\n",
       "mpl.figure.prototype.handle_figure_label = function(fig, msg) {\n",
       "    // Updates the figure title.\n",
       "    fig.header.textContent = msg['label'];\n",
       "}\n",
       "\n",
       "mpl.figure.prototype.handle_cursor = function(fig, msg) {\n",
       "    var cursor = msg['cursor'];\n",
       "    switch(cursor)\n",
       "    {\n",
       "    case 0:\n",
       "        cursor = 'pointer';\n",
       "        break;\n",
       "    case 1:\n",
       "        cursor = 'default';\n",
       "        break;\n",
       "    case 2:\n",
       "        cursor = 'crosshair';\n",
       "        break;\n",
       "    case 3:\n",
       "        cursor = 'move';\n",
       "        break;\n",
       "    }\n",
       "    fig.rubberband_canvas.style.cursor = cursor;\n",
       "}\n",
       "\n",
       "mpl.figure.prototype.handle_message = function(fig, msg) {\n",
       "    fig.message.textContent = msg['message'];\n",
       "}\n",
       "\n",
       "mpl.figure.prototype.handle_draw = function(fig, msg) {\n",
       "    // Request the server to send over a new figure.\n",
       "    fig.send_draw_message();\n",
       "}\n",
       "\n",
       "mpl.figure.prototype.handle_image_mode = function(fig, msg) {\n",
       "    fig.image_mode = msg['mode'];\n",
       "}\n",
       "\n",
       "mpl.figure.prototype.updated_canvas_event = function() {\n",
       "    // Called whenever the canvas gets updated.\n",
       "    this.send_message(\"ack\", {});\n",
       "}\n",
       "\n",
       "// A function to construct a web socket function for onmessage handling.\n",
       "// Called in the figure constructor.\n",
       "mpl.figure.prototype._make_on_message_function = function(fig) {\n",
       "    return function socket_on_message(evt) {\n",
       "        if (evt.data instanceof Blob) {\n",
       "            /* FIXME: We get \"Resource interpreted as Image but\n",
       "             * transferred with MIME type text/plain:\" errors on\n",
       "             * Chrome.  But how to set the MIME type?  It doesn't seem\n",
       "             * to be part of the websocket stream */\n",
       "            evt.data.type = \"image/png\";\n",
       "\n",
       "            /* Free the memory for the previous frames */\n",
       "            if (fig.imageObj.src) {\n",
       "                (window.URL || window.webkitURL).revokeObjectURL(\n",
       "                    fig.imageObj.src);\n",
       "            }\n",
       "\n",
       "            fig.imageObj.src = (window.URL || window.webkitURL).createObjectURL(\n",
       "                evt.data);\n",
       "            fig.updated_canvas_event();\n",
       "            fig.waiting = false;\n",
       "            return;\n",
       "        }\n",
       "        else if (typeof evt.data === 'string' && evt.data.slice(0, 21) == \"data:image/png;base64\") {\n",
       "            fig.imageObj.src = evt.data;\n",
       "            fig.updated_canvas_event();\n",
       "            fig.waiting = false;\n",
       "            return;\n",
       "        }\n",
       "\n",
       "        var msg = JSON.parse(evt.data);\n",
       "        var msg_type = msg['type'];\n",
       "\n",
       "        // Call the  \"handle_{type}\" callback, which takes\n",
       "        // the figure and JSON message as its only arguments.\n",
       "        try {\n",
       "            var callback = fig[\"handle_\" + msg_type];\n",
       "        } catch (e) {\n",
       "            console.log(\"No handler for the '\" + msg_type + \"' message type: \", msg);\n",
       "            return;\n",
       "        }\n",
       "\n",
       "        if (callback) {\n",
       "            try {\n",
       "                // console.log(\"Handling '\" + msg_type + \"' message: \", msg);\n",
       "                callback(fig, msg);\n",
       "            } catch (e) {\n",
       "                console.log(\"Exception inside the 'handler_\" + msg_type + \"' callback:\", e, e.stack, msg);\n",
       "            }\n",
       "        }\n",
       "    };\n",
       "}\n",
       "\n",
       "// from http://stackoverflow.com/questions/1114465/getting-mouse-location-in-canvas\n",
       "mpl.findpos = function(e) {\n",
       "    //this section is from http://www.quirksmode.org/js/events_properties.html\n",
       "    var targ;\n",
       "    if (!e)\n",
       "        e = window.event;\n",
       "    if (e.target)\n",
       "        targ = e.target;\n",
       "    else if (e.srcElement)\n",
       "        targ = e.srcElement;\n",
       "    if (targ.nodeType == 3) // defeat Safari bug\n",
       "        targ = targ.parentNode;\n",
       "\n",
       "    // jQuery normalizes the pageX and pageY\n",
       "    // pageX,Y are the mouse positions relative to the document\n",
       "    // offset() returns the position of the element relative to the document\n",
       "    var x = e.pageX - $(targ).offset().left;\n",
       "    var y = e.pageY - $(targ).offset().top;\n",
       "\n",
       "    return {\"x\": x, \"y\": y};\n",
       "};\n",
       "\n",
       "/*\n",
       " * return a copy of an object with only non-object keys\n",
       " * we need this to avoid circular references\n",
       " * http://stackoverflow.com/a/24161582/3208463\n",
       " */\n",
       "function simpleKeys (original) {\n",
       "  return Object.keys(original).reduce(function (obj, key) {\n",
       "    if (typeof original[key] !== 'object')\n",
       "        obj[key] = original[key]\n",
       "    return obj;\n",
       "  }, {});\n",
       "}\n",
       "\n",
       "mpl.figure.prototype.mouse_event = function(event, name) {\n",
       "    var canvas_pos = mpl.findpos(event)\n",
       "\n",
       "    if (name === 'button_press')\n",
       "    {\n",
       "        this.canvas.focus();\n",
       "        this.canvas_div.focus();\n",
       "    }\n",
       "\n",
       "    var x = canvas_pos.x * mpl.ratio;\n",
       "    var y = canvas_pos.y * mpl.ratio;\n",
       "\n",
       "    this.send_message(name, {x: x, y: y, button: event.button,\n",
       "                             step: event.step,\n",
       "                             guiEvent: simpleKeys(event)});\n",
       "\n",
       "    /* This prevents the web browser from automatically changing to\n",
       "     * the text insertion cursor when the button is pressed.  We want\n",
       "     * to control all of the cursor setting manually through the\n",
       "     * 'cursor' event from matplotlib */\n",
       "    event.preventDefault();\n",
       "    return false;\n",
       "}\n",
       "\n",
       "mpl.figure.prototype._key_event_extra = function(event, name) {\n",
       "    // Handle any extra behaviour associated with a key event\n",
       "}\n",
       "\n",
       "mpl.figure.prototype.key_event = function(event, name) {\n",
       "\n",
       "    // Prevent repeat events\n",
       "    if (name == 'key_press')\n",
       "    {\n",
       "        if (event.which === this._key)\n",
       "            return;\n",
       "        else\n",
       "            this._key = event.which;\n",
       "    }\n",
       "    if (name == 'key_release')\n",
       "        this._key = null;\n",
       "\n",
       "    var value = '';\n",
       "    if (event.ctrlKey && event.which != 17)\n",
       "        value += \"ctrl+\";\n",
       "    if (event.altKey && event.which != 18)\n",
       "        value += \"alt+\";\n",
       "    if (event.shiftKey && event.which != 16)\n",
       "        value += \"shift+\";\n",
       "\n",
       "    value += 'k';\n",
       "    value += event.which.toString();\n",
       "\n",
       "    this._key_event_extra(event, name);\n",
       "\n",
       "    this.send_message(name, {key: value,\n",
       "                             guiEvent: simpleKeys(event)});\n",
       "    return false;\n",
       "}\n",
       "\n",
       "mpl.figure.prototype.toolbar_button_onclick = function(name) {\n",
       "    if (name == 'download') {\n",
       "        this.handle_save(this, null);\n",
       "    } else {\n",
       "        this.send_message(\"toolbar_button\", {name: name});\n",
       "    }\n",
       "};\n",
       "\n",
       "mpl.figure.prototype.toolbar_button_onmouseover = function(tooltip) {\n",
       "    this.message.textContent = tooltip;\n",
       "};\n",
       "mpl.toolbar_items = [[\"Home\", \"Reset original view\", \"fa fa-home icon-home\", \"home\"], [\"Back\", \"Back to previous view\", \"fa fa-arrow-left icon-arrow-left\", \"back\"], [\"Forward\", \"Forward to next view\", \"fa fa-arrow-right icon-arrow-right\", \"forward\"], [\"\", \"\", \"\", \"\"], [\"Pan\", \"Pan axes with left mouse, zoom with right\", \"fa fa-arrows icon-move\", \"pan\"], [\"Zoom\", \"Zoom to rectangle\", \"fa fa-square-o icon-check-empty\", \"zoom\"], [\"\", \"\", \"\", \"\"], [\"Download\", \"Download plot\", \"fa fa-floppy-o icon-save\", \"download\"]];\n",
       "\n",
       "mpl.extensions = [\"eps\", \"jpeg\", \"pdf\", \"png\", \"ps\", \"raw\", \"svg\", \"tif\"];\n",
       "\n",
       "mpl.default_extension = \"png\";var comm_websocket_adapter = function(comm) {\n",
       "    // Create a \"websocket\"-like object which calls the given IPython comm\n",
       "    // object with the appropriate methods. Currently this is a non binary\n",
       "    // socket, so there is still some room for performance tuning.\n",
       "    var ws = {};\n",
       "\n",
       "    ws.close = function() {\n",
       "        comm.close()\n",
       "    };\n",
       "    ws.send = function(m) {\n",
       "        //console.log('sending', m);\n",
       "        comm.send(m);\n",
       "    };\n",
       "    // Register the callback with on_msg.\n",
       "    comm.on_msg(function(msg) {\n",
       "        //console.log('receiving', msg['content']['data'], msg);\n",
       "        // Pass the mpl event to the overridden (by mpl) onmessage function.\n",
       "        ws.onmessage(msg['content']['data'])\n",
       "    });\n",
       "    return ws;\n",
       "}\n",
       "\n",
       "mpl.mpl_figure_comm = function(comm, msg) {\n",
       "    // This is the function which gets called when the mpl process\n",
       "    // starts-up an IPython Comm through the \"matplotlib\" channel.\n",
       "\n",
       "    var id = msg.content.data.id;\n",
       "    // Get hold of the div created by the display call when the Comm\n",
       "    // socket was opened in Python.\n",
       "    var element = $(\"#\" + id);\n",
       "    var ws_proxy = comm_websocket_adapter(comm)\n",
       "\n",
       "    function ondownload(figure, format) {\n",
       "        window.open(figure.imageObj.src);\n",
       "    }\n",
       "\n",
       "    var fig = new mpl.figure(id, ws_proxy,\n",
       "                           ondownload,\n",
       "                           element.get(0));\n",
       "\n",
       "    // Call onopen now - mpl needs it, as it is assuming we've passed it a real\n",
       "    // web socket which is closed, not our websocket->open comm proxy.\n",
       "    ws_proxy.onopen();\n",
       "\n",
       "    fig.parent_element = element.get(0);\n",
       "    fig.cell_info = mpl.find_output_cell(\"<div id='\" + id + \"'></div>\");\n",
       "    if (!fig.cell_info) {\n",
       "        console.error(\"Failed to find cell for figure\", id, fig);\n",
       "        return;\n",
       "    }\n",
       "\n",
       "    var output_index = fig.cell_info[2]\n",
       "    var cell = fig.cell_info[0];\n",
       "\n",
       "};\n",
       "\n",
       "mpl.figure.prototype.handle_close = function(fig, msg) {\n",
       "    var width = fig.canvas.width/mpl.ratio\n",
       "    fig.root.unbind('remove')\n",
       "\n",
       "    // Update the output cell to use the data from the current canvas.\n",
       "    fig.push_to_output();\n",
       "    var dataURL = fig.canvas.toDataURL();\n",
       "    // Re-enable the keyboard manager in IPython - without this line, in FF,\n",
       "    // the notebook keyboard shortcuts fail.\n",
       "    IPython.keyboard_manager.enable()\n",
       "    $(fig.parent_element).html('<img src=\"' + dataURL + '\" width=\"' + width + '\">');\n",
       "    fig.close_ws(fig, msg);\n",
       "}\n",
       "\n",
       "mpl.figure.prototype.close_ws = function(fig, msg){\n",
       "    fig.send_message('closing', msg);\n",
       "    // fig.ws.close()\n",
       "}\n",
       "\n",
       "mpl.figure.prototype.push_to_output = function(remove_interactive) {\n",
       "    // Turn the data on the canvas into data in the output cell.\n",
       "    var width = this.canvas.width/mpl.ratio\n",
       "    var dataURL = this.canvas.toDataURL();\n",
       "    this.cell_info[1]['text/html'] = '<img src=\"' + dataURL + '\" width=\"' + width + '\">';\n",
       "}\n",
       "\n",
       "mpl.figure.prototype.updated_canvas_event = function() {\n",
       "    // Tell IPython that the notebook contents must change.\n",
       "    IPython.notebook.set_dirty(true);\n",
       "    this.send_message(\"ack\", {});\n",
       "    var fig = this;\n",
       "    // Wait a second, then push the new image to the DOM so\n",
       "    // that it is saved nicely (might be nice to debounce this).\n",
       "    setTimeout(function () { fig.push_to_output() }, 1000);\n",
       "}\n",
       "\n",
       "mpl.figure.prototype._init_toolbar = function() {\n",
       "    var fig = this;\n",
       "\n",
       "    var nav_element = $('<div/>')\n",
       "    nav_element.attr('style', 'width: 100%');\n",
       "    this.root.append(nav_element);\n",
       "\n",
       "    // Define a callback function for later on.\n",
       "    function toolbar_event(event) {\n",
       "        return fig.toolbar_button_onclick(event['data']);\n",
       "    }\n",
       "    function toolbar_mouse_event(event) {\n",
       "        return fig.toolbar_button_onmouseover(event['data']);\n",
       "    }\n",
       "\n",
       "    for(var toolbar_ind in mpl.toolbar_items){\n",
       "        var name = mpl.toolbar_items[toolbar_ind][0];\n",
       "        var tooltip = mpl.toolbar_items[toolbar_ind][1];\n",
       "        var image = mpl.toolbar_items[toolbar_ind][2];\n",
       "        var method_name = mpl.toolbar_items[toolbar_ind][3];\n",
       "\n",
       "        if (!name) { continue; };\n",
       "\n",
       "        var button = $('<button class=\"btn btn-default\" href=\"#\" title=\"' + name + '\"><i class=\"fa ' + image + ' fa-lg\"></i></button>');\n",
       "        button.click(method_name, toolbar_event);\n",
       "        button.mouseover(tooltip, toolbar_mouse_event);\n",
       "        nav_element.append(button);\n",
       "    }\n",
       "\n",
       "    // Add the status bar.\n",
       "    var status_bar = $('<span class=\"mpl-message\" style=\"text-align:right; float: right;\"/>');\n",
       "    nav_element.append(status_bar);\n",
       "    this.message = status_bar[0];\n",
       "\n",
       "    // Add the close button to the window.\n",
       "    var buttongrp = $('<div class=\"btn-group inline pull-right\"></div>');\n",
       "    var button = $('<button class=\"btn btn-mini btn-primary\" href=\"#\" title=\"Stop Interaction\"><i class=\"fa fa-power-off icon-remove icon-large\"></i></button>');\n",
       "    button.click(function (evt) { fig.handle_close(fig, {}); } );\n",
       "    button.mouseover('Stop Interaction', toolbar_mouse_event);\n",
       "    buttongrp.append(button);\n",
       "    var titlebar = this.root.find($('.ui-dialog-titlebar'));\n",
       "    titlebar.prepend(buttongrp);\n",
       "}\n",
       "\n",
       "mpl.figure.prototype._root_extra_style = function(el){\n",
       "    var fig = this\n",
       "    el.on(\"remove\", function(){\n",
       "\tfig.close_ws(fig, {});\n",
       "    });\n",
       "}\n",
       "\n",
       "mpl.figure.prototype._canvas_extra_style = function(el){\n",
       "    // this is important to make the div 'focusable\n",
       "    el.attr('tabindex', 0)\n",
       "    // reach out to IPython and tell the keyboard manager to turn it's self\n",
       "    // off when our div gets focus\n",
       "\n",
       "    // location in version 3\n",
       "    if (IPython.notebook.keyboard_manager) {\n",
       "        IPython.notebook.keyboard_manager.register_events(el);\n",
       "    }\n",
       "    else {\n",
       "        // location in version 2\n",
       "        IPython.keyboard_manager.register_events(el);\n",
       "    }\n",
       "\n",
       "}\n",
       "\n",
       "mpl.figure.prototype._key_event_extra = function(event, name) {\n",
       "    var manager = IPython.notebook.keyboard_manager;\n",
       "    if (!manager)\n",
       "        manager = IPython.keyboard_manager;\n",
       "\n",
       "    // Check for shift+enter\n",
       "    if (event.shiftKey && event.which == 13) {\n",
       "        this.canvas_div.blur();\n",
       "        event.shiftKey = false;\n",
       "        // Send a \"J\" for go to next cell\n",
       "        event.which = 74;\n",
       "        event.keyCode = 74;\n",
       "        manager.command_mode();\n",
       "        manager.handle_keydown(event);\n",
       "    }\n",
       "}\n",
       "\n",
       "mpl.figure.prototype.handle_save = function(fig, msg) {\n",
       "    fig.ondownload(fig, null);\n",
       "}\n",
       "\n",
       "\n",
       "mpl.find_output_cell = function(html_output) {\n",
       "    // Return the cell and output element which can be found *uniquely* in the notebook.\n",
       "    // Note - this is a bit hacky, but it is done because the \"notebook_saving.Notebook\"\n",
       "    // IPython event is triggered only after the cells have been serialised, which for\n",
       "    // our purposes (turning an active figure into a static one), is too late.\n",
       "    var cells = IPython.notebook.get_cells();\n",
       "    var ncells = cells.length;\n",
       "    for (var i=0; i<ncells; i++) {\n",
       "        var cell = cells[i];\n",
       "        if (cell.cell_type === 'code'){\n",
       "            for (var j=0; j<cell.output_area.outputs.length; j++) {\n",
       "                var data = cell.output_area.outputs[j];\n",
       "                if (data.data) {\n",
       "                    // IPython >= 3 moved mimebundle to data attribute of output\n",
       "                    data = data.data;\n",
       "                }\n",
       "                if (data['text/html'] == html_output) {\n",
       "                    return [cell, data, j];\n",
       "                }\n",
       "            }\n",
       "        }\n",
       "    }\n",
       "}\n",
       "\n",
       "// Register the function which deals with the matplotlib target/channel.\n",
       "// The kernel may be null if the page has been refreshed.\n",
       "if (IPython.notebook.kernel != null) {\n",
       "    IPython.notebook.kernel.comm_manager.register_target('matplotlib', mpl.mpl_figure_comm);\n",
       "}\n"
      ],
      "text/plain": [
       "<IPython.core.display.Javascript object>"
      ]
     },
     "metadata": {},
     "output_type": "display_data"
    },
    {
     "data": {
      "text/html": [
       "<img src=\"data:image/png;base64,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\" width=\"800\">"
      ],
      "text/plain": [
       "<IPython.core.display.HTML object>"
      ]
     },
     "metadata": {},
     "output_type": "display_data"
    },
    {
     "name": "stdout",
     "output_type": "stream",
     "text": [
      "Press Enter to stop.\n"
     ]
    }
   ],
   "source": [
    "%matplotlib notebook\n",
    "from graphs_ECC import *\n",
    "\n",
    "minBit = 3\n",
    "bf_bit = 13\n",
    "bsgs_bit = 21\n",
    "ph_bit = 21\n",
    "rho_bit = 21\n",
    "mov_bit = 21\n",
    "\n",
    "testGraphs(minBit, bf_bit, bsgs_bit, ph_bit, rho_bit, mov_bit)"
   ]
  },
  {
   "cell_type": "markdown",
   "metadata": {},
   "source": [
    "<img src=\"imgs/ECC.png\" alt=\"drawing\" style=\"width:80%;\"/>"
   ]
  }
 ],
 "metadata": {
  "kernelspec": {
   "display_name": "Python 3",
   "language": "python",
   "name": "python3"
  },
  "language_info": {
   "codemirror_mode": {
    "name": "ipython",
    "version": 3
   },
   "file_extension": ".py",
   "mimetype": "text/x-python",
   "name": "python",
   "nbconvert_exporter": "python",
   "pygments_lexer": "ipython3",
   "version": "3.7.1"
  }
 },
 "nbformat": 4,
 "nbformat_minor": 2
}
